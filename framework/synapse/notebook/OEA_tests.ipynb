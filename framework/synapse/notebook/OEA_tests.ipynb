{
  "cells": [
    {
      "cell_type": "markdown",
      "source": [
        "# Tests for the OEA framework"
      ],
      "metadata": {
        "nteract": {
          "transient": {
            "deleting": false
          }
        }
      }
    },
    {
      "cell_type": "code",
      "source": [
        "%run OEA_0p7_py"
      ],
      "outputs": [
        {
          "output_type": "display_data",
          "data": {
            "application/vnd.livy.statement-meta+json": {
              "spark_pool": null,
              "session_id": "32",
              "statement_id": -1,
              "state": "finished",
              "livy_statement_state": "available",
              "queued_time": "2022-10-10T03:34:51.0910015Z",
              "session_start_time": null,
              "execution_start_time": "2022-10-10T03:37:59.9512917Z",
              "execution_finish_time": "2022-10-10T03:37:59.9516117Z",
              "spark_jobs": null
            },
            "text/plain": "StatementMeta(, 32, -1, Finished, Available)"
          },
          "metadata": {}
        }
      ],
      "execution_count": 1,
      "metadata": {}
    },
    {
      "cell_type": "code",
      "source": [
        "oea = OEA('stoeacisd3927b', '1234')\r\n",
        "oea.use_workspace('sandbox1')"
      ],
      "outputs": [
        {
          "output_type": "display_data",
          "data": {
            "application/vnd.livy.statement-meta+json": {
              "spark_pool": "spark3p2sm",
              "session_id": "32",
              "statement_id": 2,
              "state": "finished",
              "livy_statement_state": "available",
              "queued_time": "2022-10-10T03:39:59.5017091Z",
              "session_start_time": null,
              "execution_start_time": "2022-10-10T03:39:59.6182157Z",
              "execution_finish_time": "2022-10-10T03:39:59.7836789Z",
              "spark_jobs": null
            },
            "text/plain": "StatementMeta(spark3p2sm, 32, 2, Finished, Available)"
          },
          "metadata": {}
        },
        {
          "output_type": "stream",
          "name": "stdout",
          "text": [
            "2022-10-10 03:39:59,700 - OEA - INFO - OEA initialized.\n2022-10-10 03:39:59,700 - OEA - INFO - Now using workspace: sandbox1\n"
          ]
        }
      ],
      "execution_count": 2,
      "metadata": {
        "jupyter": {
          "source_hidden": false,
          "outputs_hidden": false
        },
        "nteract": {
          "transient": {
            "deleting": false
          }
        }
      }
    },
    {
      "cell_type": "code",
      "source": [
        "def reset_additive_data_tests():\r\n",
        "    oea.rm_if_exists('stage1/Transactional/contoso_sis/v0.1/studentattendance')\r\n",
        "    oea.rm_if_exists('stage2/Ingested/contoso_sis/v0.1/studentattendance')\r\n",
        "\r\n",
        "def land_studentattendance_day1(expected_record_count):\r\n",
        "    path = oea.land_data_from_url('https://raw.githubusercontent.com/microsoft/OpenEduAnalytics/gene/v0.7dev/framework/test_data/contoso_sis/day1/studentattendance/part1.csv', 'stage1/Transactional/contoso_sis/v0.1/studentattendance/additive_batch_data')\r\n",
        "    df = oea.load_csv(path)\r\n",
        "    assert df.count() == expected_record_count, f'Expected {expected_record_count} records in landed data, but found {df.count()}'\r\n",
        "\r\n",
        "def land_studentattendance_day2(expected_record_count):\r\n",
        "    path = oea.land_data_from_url('https://raw.githubusercontent.com/microsoft/OpenEduAnalytics/gene/v0.7dev/framework/test_data/contoso_sis/day2/studentattendance/part1.csv', 'stage1/Transactional/contoso_sis/v0.1/studentattendance/additive_batch_data')\r\n",
        "    df = oea.load_csv(path)\r\n",
        "    assert df.count() == expected_record_count, f'Expected {expected_record_count} records in landed data, but found {df.count()}'\r\n",
        "\r\n",
        "def ingest_studentattendance(expected_record_count):\r\n",
        "    oea.ingest('stage1/Transactional/contoso_sis/v0.1/studentattendance')\r\n",
        "    df = oea.load('stage2/Ingested/contoso_sis/v0.1/studentattendance')\r\n",
        "    assert df.count() == expected_record_count, f'Expected {expected_record_count} records in landed data, but found {df.count()}'\r\n",
        "\r\n",
        "reset_additive_data_tests()\r\n",
        "# test1 - Land the first batch of studentattendance data\r\n",
        "land_studentattendance_day1(1464)\r\n",
        "# test2 - Ingest the data from stage1 into stage2\r\n",
        "ingest_studentattendance(1464)\r\n",
        "# test3 - run the same ingestion a second time and verify that it doesn't change what was ingested (ingestion is idempotent via use of _checkpoints)\r\n",
        "ingest_studentattendance(1464)\r\n",
        "# test4 - Land the second batch of studentattendance data\r\n",
        "land_studentattendance_day2(2928)\r\n",
        "# test5 - Ingest the data from stage1 into stage2\r\n",
        "ingest_studentattendance(4392)\r\n",
        "\r\n"
      ],
      "outputs": [],
      "execution_count": 18,
      "metadata": {
        "jupyter": {
          "source_hidden": false,
          "outputs_hidden": false
        },
        "nteract": {
          "transient": {
            "deleting": false
          }
        }
      }
    },
    {
      "cell_type": "code",
      "source": [
        "def reset_delta_data_tests():\r\n",
        "    oea.rm_if_exists('stage1/Transactional/contoso_sis/v0.1/students')\r\n",
        "    oea.rm_if_exists('stage2/Ingested/contoso_sis/v0.1/students')\r\n",
        "\r\n",
        "def land_students_day1(expected_record_count):\r\n",
        "    path = oea.land_data_from_url('https://raw.githubusercontent.com/microsoft/OpenEduAnalytics/gene/v0.7dev/framework/test_data/contoso_sis/day1/students/part1.csv', 'stage1/Transactional/contoso_sis/v0.1/students/delta_batch_data')\r\n",
        "    df = oea.load_csv(path)\r\n",
        "    assert df.count() == expected_record_count, f'Expected {expected_record_count} records in landed data, but found {df.count()}'\r\n",
        "\r\n",
        "def land_students_day2(expected_record_count):\r\n",
        "    path = oea.land_data_from_url('https://raw.githubusercontent.com/microsoft/OpenEduAnalytics/gene/v0.7dev/framework/test_data/contoso_sis/day2/students/part1.csv', 'stage1/Transactional/contoso_sis/v0.1/students/delta_batch_data')\r\n",
        "    df = oea.load_csv(path)\r\n",
        "    assert df.count() == expected_record_count, f'Expected {expected_record_count} records in landed data, but found {df.count()}'\r\n",
        "\r\n",
        "def ingest_students(expected_record_count):\r\n",
        "    oea.ingest('stage1/Transactional/contoso_sis/v0.1/students', 'SIS_ID')\r\n",
        "    df = oea.load('stage2/Ingested/contoso_sis/v0.1/students')\r\n",
        "    assert df.count() == expected_record_count, f'Expected {expected_record_count} records in landed data, but found {df.count()}'\r\n",
        "\r\n",
        "reset_delta_data_tests()\r\n",
        "# test1 - Land the first batch of studentattendance data\r\n",
        "land_students_day1(1)\r\n",
        "# test2 - Ingest the data from stage1 into stage2\r\n",
        "ingest_students(1)\r\n",
        "# test3 - run the same ingestion a second time and verify that it doesn't change what was ingested (ingestion is idempotent via use of _checkpoints)\r\n",
        "ingest_students(1)\r\n",
        "# test4 - Land the second batch of studentattendance data\r\n",
        "land_students_day2(2)\r\n",
        "# test5 - Ingest the data from stage1 into stage2\r\n",
        "ingest_students(2)"
      ],
      "outputs": [],
      "execution_count": 19,
      "metadata": {
        "jupyter": {
          "source_hidden": false,
          "outputs_hidden": false
        },
        "nteract": {
          "transient": {
            "deleting": false
          }
        },
        "collapsed": false
      }
    },
    {
      "cell_type": "code",
      "source": [
        "def reset_snapshot_data_tests():\r\n",
        "    oea.rm_if_exists('stage1/Transactional/contoso_sis/v0.1/studentsectionmark')\r\n",
        "    oea.rm_if_exists('stage2/Ingested/contoso_sis/v0.1/studentsectionmark')\r\n",
        "\r\n",
        "def land_studentsectionmark_day1(expected_record_count):\r\n",
        "    path = oea.land_data_from_url('https://raw.githubusercontent.com/microsoft/OpenEduAnalytics/gene/v0.7dev/framework/test_data/contoso_sis/day1/studentsectionmark/part1.csv', 'stage1/Transactional/contoso_sis/v0.1/studentsectionmark/delta_batch_data')\r\n",
        "    df = oea.load_csv(path)\r\n",
        "    assert df.count() == expected_record_count, f'Expected {expected_record_count} records in landed data, but found {df.count()}'\r\n",
        "\r\n",
        "def land_studentsectionmark_day2(expected_record_count):\r\n",
        "    path = oea.land_data_from_url('https://raw.githubusercontent.com/microsoft/OpenEduAnalytics/gene/v0.7dev/framework/test_data/contoso_sis/day2/studentsectionmark/part1.csv', 'stage1/Transactional/contoso_sis/v0.1/studentsectionmark/delta_batch_data')\r\n",
        "    df = oea.load_csv(path)\r\n",
        "    assert df.count() == expected_record_count, f'Expected {expected_record_count} records in landed data, but found {df.count()}'\r\n",
        "\r\n",
        "def ingest_studentsectionmark(expected_record_count):\r\n",
        "    oea.ingest('stage1/Transactional/contoso_sis/v0.1/studentsectionmark')\r\n",
        "    df = oea.load('stage2/Ingested/contoso_sis/v0.1/studentsectionmark')\r\n",
        "    assert df.count() == expected_record_count, f'Expected {expected_record_count} records in landed data, but found {df.count()}'\r\n",
        "\r\n",
        "reset_snapshot_data_tests()\r\n",
        "# test1 - Land the first batch of studentattendance data\r\n",
        "land_studentsectionmark_day1(12)\r\n",
        "# test2 - Ingest the data from stage1 into stage2\r\n",
        "ingest_studentsectionmark(12)\r\n",
        "# test3 - run the same ingestion a second time and verify that it doesn't change what was ingested (ingestion is idempotent via use of _checkpoints)\r\n",
        "ingest_studentsectionmark(12)\r\n",
        "# test4 - Land the second batch of studentattendance data\r\n",
        "land_studentsectionmark_day2(24)\r\n",
        "# test5 - Ingest the data from stage1 into stage2\r\n",
        "ingest_studentsectionmark(24)"
      ],
      "outputs": [],
      "execution_count": 20,
      "metadata": {
        "jupyter": {
          "source_hidden": false,
          "outputs_hidden": false
        },
        "nteract": {
          "transient": {
            "deleting": false
          }
        },
        "collapsed": false
      }
    },
    {
      "cell_type": "code",
      "source": [
        "def refine_contoso_sis(df_source):\r\n",
        "    metadata = oea.get_metadata_from_url('https://raw.githubusercontent.com/microsoft/OpenEduAnalytics/gene/v0.7dev/modules/module_catalog/Student_and_School_Data_Systems/metadata.csv')\r\n",
        "    #oea.upsert(df_source, 'stage2/Refined/contoso_sis/v0.1/general/studentattendance')\r\n",
        "    df_pseudo, df_lookup = oea.pseudonymize(df_source, metadata['studentattendance'])\r\n",
        "    oea.upsert(df_pseudo, 'stage2/Refined/contoso_sis/v0.1/general/studentattendance')\r\n",
        "    oea.upsert(df_lookup, 'stage2/Refined/contoso_sis/v0.1/sensitive/studentattendance')\r\n",
        "\r\n",
        "oea.process('stage2/Ingested/contoso_sis/v0.1/studentattendance', refine_contoso_sis)\r\n",
        "\r\n",
        "# query a sample of the data refined into stage2/refined\r\n",
        "oea.display('stage2/Refined/contoso_sis/v0.1/general/studentattendance')\r\n",
        "oea.display('stage2/Refined/contoso_sis/v0.1/sensitive/studentattendance')"
      ],
      "outputs": [],
      "execution_count": null,
      "metadata": {
        "jupyter": {
          "source_hidden": false,
          "outputs_hidden": false
        },
        "nteract": {
          "transient": {
            "deleting": false
          }
        },
        "collapsed": false
      }
    }
  ],
  "metadata": {
    "kernelspec": {
      "name": "synapse_pyspark",
      "language": "Python",
      "display_name": "Synapse PySpark"
    },
    "language_info": {
      "name": "python"
    },
    "kernel_info": {
      "name": "synapse_pyspark"
    },
    "save_output": true,
    "synapse_widget": {
      "version": "0.1",
      "state": {}
    }
  },
  "nbformat": 4,
  "nbformat_minor": 2
}