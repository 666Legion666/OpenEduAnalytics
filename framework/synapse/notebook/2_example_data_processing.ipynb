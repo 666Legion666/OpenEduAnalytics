{
  "cells": [
    {
      "cell_type": "markdown",
      "source": [
        "# Example data processing\n",
        "This example demonstrates how a data engineer utilizes OEA to work with data from a new data source."
      ],
      "metadata": {
        "nteract": {
          "transient": {
            "deleting": false
          }
        }
      }
    },
    {
      "cell_type": "code",
      "source": [
        "%run OEA_py"
      ],
      "outputs": [
        {
          "output_type": "display_data",
          "data": {
            "application/vnd.livy.statement-meta+json": {
              "spark_pool": null,
              "session_id": "6",
              "statement_id": -1,
              "state": "finished",
              "livy_statement_state": "available",
              "queued_time": "2022-11-17T19:43:32.9482898Z",
              "session_start_time": null,
              "execution_start_time": "2022-11-17T19:47:12.7031154Z",
              "execution_finish_time": "2022-11-17T19:47:12.7034367Z",
              "spark_jobs": null
            },
            "text/plain": "StatementMeta(, 6, -1, Finished, Available)"
          },
          "metadata": {}
        },
        {
          "output_type": "stream",
          "name": "stdout",
          "text": [
            "2022-11-17 19:47:11,995 - OEA - INFO - Now using workspace: dev\n2022-11-17 19:47:11,996 - OEA - INFO - OEA initialized.\n"
          ]
        }
      ],
      "execution_count": 1,
      "metadata": {
        "jupyter": {
          "outputs_hidden": false,
          "source_hidden": false
        },
        "nteract": {
          "transient": {
            "deleting": false
          }
        }
      }
    },
    {
      "cell_type": "code",
      "source": [
        "# 1) set the workspace (this determines where in the data lake you'll be writing to and reading from).\n",
        "# You can work in 'dev', 'prod', or a sandbox with any name you choose.\n",
        "# For example, Sam the developer can create a 'sam' workspace and expect to find his datasets in the data lake under oea/sandboxes/sam\n",
        "oea.set_workspace('sam')"
      ],
      "outputs": [
        {
          "output_type": "display_data",
          "data": {
            "application/vnd.livy.statement-meta+json": {
              "spark_pool": "spark3p2sm",
              "session_id": "6",
              "statement_id": 2,
              "state": "finished",
              "livy_statement_state": "available",
              "queued_time": "2022-11-17T19:53:00.0088292Z",
              "session_start_time": null,
              "execution_start_time": "2022-11-17T19:53:00.1619872Z",
              "execution_finish_time": "2022-11-17T19:53:00.3175691Z",
              "spark_jobs": null
            },
            "text/plain": "StatementMeta(spark3p2sm, 6, 2, Finished, Available)"
          },
          "metadata": {}
        },
        {
          "output_type": "stream",
          "name": "stdout",
          "text": [
            "2022-11-17 19:53:00,151 - OEA - INFO - Now using workspace: sam\n"
          ]
        }
      ],
      "execution_count": 2,
      "metadata": {
        "jupyter": {
          "outputs_hidden": false,
          "source_hidden": false
        },
        "nteract": {
          "transient": {
            "deleting": false
          }
        }
      }
    },
    {
      "cell_type": "code",
      "source": [
        "# 2) Now land a batch data file into stage1 of the data lake.\n",
        "# In this example we pull a test csv data file from github and it is landed in oea/sandboxes/sam/stage1/Transactional/contoso/v0.1/students/delta_batch_data/rundate=<utc datetime>\n",
        "data = requests.get('https://raw.githubusercontent.com/microsoft/OpenEduAnalytics/main/framework/test_data/contoso_sis/day1/students/part1.csv').text\n",
        "oea.land(data, 'contoso/v0.1/students', 'students.csv', oea.DELTA_BATCH_DATA)"
      ],
      "outputs": [
        {
          "output_type": "display_data",
          "data": {
            "application/vnd.livy.statement-meta+json": {
              "spark_pool": "spark3p2sm",
              "session_id": "6",
              "statement_id": 4,
              "state": "finished",
              "livy_statement_state": "available",
              "queued_time": "2022-11-17T19:55:15.0894783Z",
              "session_start_time": null,
              "execution_start_time": "2022-11-17T19:55:15.2024411Z",
              "execution_finish_time": "2022-11-17T19:55:20.5855629Z",
              "spark_jobs": null
            },
            "text/plain": "StatementMeta(spark3p2sm, 6, 4, Finished, Available)"
          },
          "metadata": {}
        },
        {
          "output_type": "execute_result",
          "execution_count": 16,
          "data": {
            "text/plain": "'stage1/Transactional/contoso/v0.1/students/delta_batch_data/rundate=2022-11-17 19:55:15/students.csv'"
          },
          "metadata": {}
        }
      ],
      "execution_count": 4,
      "metadata": {
        "jupyter": {
          "outputs_hidden": false,
          "source_hidden": false
        },
        "nteract": {
          "transient": {
            "deleting": false
          }
        }
      }
    },
    {
      "cell_type": "code",
      "source": [
        "# 3) You can verify that the data is in stage1 by reading it into a dataframe. Note that a \"rundate\" column has been added - representing the datetime that the batch data was landed in the data lake.\n",
        "df = oea.load_csv(f'stage1/Transactional/contoso/v0.1/students')\n",
        "display(df)"
      ],
      "outputs": [
        {
          "output_type": "display_data",
          "data": {
            "application/vnd.livy.statement-meta+json": {
              "spark_pool": "spark3p2sm",
              "session_id": "6",
              "statement_id": 5,
              "state": "finished",
              "livy_statement_state": "available",
              "queued_time": "2022-11-17T19:55:57.610082Z",
              "session_start_time": null,
              "execution_start_time": "2022-11-17T19:55:57.7244803Z",
              "execution_finish_time": "2022-11-17T19:56:19.3487711Z",
              "spark_jobs": null
            },
            "text/plain": "StatementMeta(spark3p2sm, 6, 5, Finished, Available)"
          },
          "metadata": {}
        },
        {
          "output_type": "display_data",
          "data": {
            "application/vnd.synapse.widget-view+json": {
              "widget_id": "81925c53-bee6-4d46-8900-2d01e60b5524",
              "widget_type": "Synapse.DataFrame"
            },
            "text/plain": "SynapseWidget(Synapse.DataFrame, 81925c53-bee6-4d46-8900-2d01e60b5524)"
          },
          "metadata": {}
        }
      ],
      "execution_count": 5,
      "metadata": {
        "jupyter": {
          "outputs_hidden": false,
          "source_hidden": false
        },
        "nteract": {
          "transient": {
            "deleting": false
          }
        },
        "collapsed": false
      }
    },
    {
      "cell_type": "code",
      "source": [
        "# 4) The next step is to ingest the batch data into stage2\n",
        "# Note that when you run this the first time, you'll see an info message like \"Number of new inbound rows processed: 2\".\n",
        "# If you run this a second time, the number of inbound rows processed will be 0 because the ingestion uses spark structured streaming to keep track of what data has already been processed.\n",
        "oea.ingest(f'contoso/v0.1/students', 'SIS ID')"
      ],
      "outputs": [
        {
          "output_type": "display_data",
          "data": {
            "application/vnd.livy.statement-meta+json": {
              "spark_pool": "spark3p2sm",
              "session_id": "6",
              "statement_id": 6,
              "state": "finished",
              "livy_statement_state": "available",
              "queued_time": "2022-11-17T19:56:37.1817448Z",
              "session_start_time": null,
              "execution_start_time": "2022-11-17T19:56:37.2925873Z",
              "execution_finish_time": "2022-11-17T19:57:31.3491716Z",
              "spark_jobs": null
            },
            "text/plain": "StatementMeta(spark3p2sm, 6, 6, Finished, Available)"
          },
          "metadata": {}
        },
        {
          "output_type": "stream",
          "name": "stdout",
          "text": [
            "2022-11-17 19:56:37,527 - OEA - INFO - Ingesting from: stage1/Transactional/contoso/v0.1/students, batch type of: delta, source data format of: csv\n2022-11-17 19:56:50,412 - py4j.java_gateway - INFO - Callback Server Starting\n2022-11-17 19:56:50,414 - py4j.java_gateway - INFO - Socket listening on ('127.0.0.1', 36439)\n2022-11-17 19:56:52,908 - py4j.java_gateway - INFO - Callback Connection ready to receive messages\n2022-11-17 19:56:52,909 - py4j.java_gateway - INFO - Received command c on object id p0\n2022-11-17 19:57:14,881 - OEA - INFO - Number of new inbound rows processed: 2\n"
          ]
        },
        {
          "output_type": "execute_result",
          "execution_count": 22,
          "data": {
            "text/plain": "2"
          },
          "metadata": {}
        }
      ],
      "execution_count": 6,
      "metadata": {
        "jupyter": {
          "outputs_hidden": false,
          "source_hidden": false
        },
        "nteract": {
          "transient": {
            "deleting": false
          }
        }
      }
    },
    {
      "cell_type": "code",
      "source": [
        "# 5) When data is ingested into stage2 of the data lake, OEA creates a lake db (which is a logical db that points to the data in the data lake).\n",
        "# In this example, since you are working in the 'sam' workspace, the lake db created is called 'ldb_sam_s2i_contoso_v0p1' (if you click on Data in the left nav, you'll see the db listed under 'Lake database' )\n",
        "df = spark.sql(\"select * from ldb_sam_s2i_contoso_v0p1.students\")\n",
        "display(df)\n",
        "df.printSchema()"
      ],
      "outputs": [
        {
          "output_type": "display_data",
          "data": {
            "application/vnd.livy.statement-meta+json": {
              "spark_pool": "spark3p2sm",
              "session_id": "6",
              "statement_id": 8,
              "state": "finished",
              "livy_statement_state": "available",
              "queued_time": "2022-11-17T20:03:43.5980053Z",
              "session_start_time": null,
              "execution_start_time": "2022-11-17T20:03:43.724749Z",
              "execution_finish_time": "2022-11-17T20:03:45.9631746Z",
              "spark_jobs": null
            },
            "text/plain": "StatementMeta(spark3p2sm, 6, 8, Finished, Available)"
          },
          "metadata": {}
        },
        {
          "output_type": "display_data",
          "data": {
            "application/vnd.synapse.widget-view+json": {
              "widget_id": "3231fa94-b826-4ab8-93c1-8a4b6e845086",
              "widget_type": "Synapse.DataFrame"
            },
            "text/plain": "SynapseWidget(Synapse.DataFrame, 3231fa94-b826-4ab8-93c1-8a4b6e845086)"
          },
          "metadata": {}
        },
        {
          "output_type": "stream",
          "name": "stdout",
          "text": [
            "root\n |-- SIS_ID: string (nullable = true)\n |-- School_SIS_ID: string (nullable = true)\n |-- Username: string (nullable = true)\n |-- First_Name: string (nullable = true)\n |-- Last_Name: string (nullable = true)\n |-- Middle_Name: string (nullable = true)\n |-- Secondary_Email: string (nullable = true)\n |-- Student_Number: string (nullable = true)\n |-- Grade: string (nullable = true)\n |-- State_ID: string (nullable = true)\n |-- Status: string (nullable = true)\n |-- Birthdate: string (nullable = true)\n |-- Graduation_Year: string (nullable = true)\n |-- Gender: string (nullable = true)\n |-- FederalRaceCategory: string (nullable = true)\n |-- PrimaryLanguage: string (nullable = true)\n |-- ELLStatus: string (nullable = true)\n |-- SpecialEducation: string (nullable = true)\n |-- LowIncome: string (nullable = true)\n |-- CumulativeGPA: string (nullable = true)\n |-- rundate: timestamp (nullable = true)\n\n"
          ]
        }
      ],
      "execution_count": 8,
      "metadata": {
        "jupyter": {
          "outputs_hidden": false,
          "source_hidden": false
        },
        "nteract": {
          "transient": {
            "deleting": false
          }
        },
        "collapsed": false
      }
    },
    {
      "cell_type": "code",
      "source": [
        "# 6) Now let's land some additional inbound batch data - with new and modified rows.\n",
        "data = requests.get('https://raw.githubusercontent.com/microsoft/OpenEduAnalytics/main/framework/test_data/contoso_sis/day2/students/part1.csv').text\n",
        "oea.land(data, 'contoso/v0.1/students', 'students.csv', oea.DELTA_BATCH_DATA)"
      ],
      "outputs": [
        {
          "output_type": "display_data",
          "data": {
            "application/vnd.livy.statement-meta+json": {
              "spark_pool": "spark3p2sm",
              "session_id": "6",
              "statement_id": 10,
              "state": "finished",
              "livy_statement_state": "available",
              "queued_time": "2022-11-17T20:04:34.5631059Z",
              "session_start_time": null,
              "execution_start_time": "2022-11-17T20:04:34.6801073Z",
              "execution_finish_time": "2022-11-17T20:04:35.223137Z",
              "spark_jobs": null
            },
            "text/plain": "StatementMeta(spark3p2sm, 6, 10, Finished, Available)"
          },
          "metadata": {}
        },
        {
          "output_type": "execute_result",
          "execution_count": 34,
          "data": {
            "text/plain": "'stage1/Transactional/contoso/v0.1/students/delta_batch_data/rundate=2022-11-17 20:04:34/students.csv'"
          },
          "metadata": {}
        }
      ],
      "execution_count": 10,
      "metadata": {
        "jupyter": {
          "outputs_hidden": false,
          "source_hidden": false
        },
        "nteract": {
          "transient": {
            "deleting": false
          }
        }
      }
    },
    {
      "cell_type": "code",
      "source": [
        "# 7) Ingest this latest batch of data.\n",
        "# Note that you don't have to specify what batch of data to process; OEA uses spark structured streaming to determine what files are new.\n",
        "oea.ingest(f'contoso/v0.1/students', 'SIS ID')"
      ],
      "outputs": [
        {
          "output_type": "display_data",
          "data": {
            "application/vnd.livy.statement-meta+json": {
              "spark_pool": "spark3p2sm",
              "session_id": "6",
              "statement_id": 11,
              "state": "finished",
              "livy_statement_state": "available",
              "queued_time": "2022-11-17T20:04:41.8262745Z",
              "session_start_time": null,
              "execution_start_time": "2022-11-17T20:04:41.951498Z",
              "execution_finish_time": "2022-11-17T20:04:56.7105082Z",
              "spark_jobs": null
            },
            "text/plain": "StatementMeta(spark3p2sm, 6, 11, Finished, Available)"
          },
          "metadata": {}
        },
        {
          "output_type": "stream",
          "name": "stdout",
          "text": [
            "2022-11-17 20:04:42,051 - OEA - INFO - Ingesting from: stage1/Transactional/contoso/v0.1/students, batch type of: delta, source data format of: csv\n2022-11-17 20:04:44,272 - py4j.java_gateway - INFO - Callback Connection ready to receive messages\n2022-11-17 20:04:44,273 - py4j.java_gateway - INFO - Received command c on object id p1\n2022-11-17 20:04:54,676 - OEA - INFO - Number of new inbound rows processed: 2\n"
          ]
        },
        {
          "output_type": "execute_result",
          "execution_count": 37,
          "data": {
            "text/plain": "2"
          },
          "metadata": {}
        }
      ],
      "execution_count": 11,
      "metadata": {
        "jupyter": {
          "outputs_hidden": false,
          "source_hidden": false
        },
        "nteract": {
          "transient": {
            "deleting": false
          }
        }
      }
    },
    {
      "cell_type": "code",
      "source": [
        "# 8) Now verify that the batch data was ingested and correctly merged with the previous data\n",
        "\n",
        "# You can load the ingested data into a dataframe directly like this...\n",
        "df = oea.load('stage2/Ingested/contoso/v0.1/students')\n",
        "display(df)\n",
        "\n",
        "# ...or you can use the automatically created \"Lake database\" like this:\n",
        "df = spark.sql(\"select * from ldb_sam_s2i_contoso_v0p1.students\")\n",
        "display(df)\n",
        "# with either approach, you're querying the same data - it's the data stored at oea/sandboxes/sam/stage2/Ingested/contoso/v0.1/students in your data lake"
      ],
      "outputs": [
        {
          "output_type": "display_data",
          "data": {
            "application/vnd.livy.statement-meta+json": {
              "spark_pool": "spark3p2sm",
              "session_id": "6",
              "statement_id": 12,
              "state": "finished",
              "livy_statement_state": "available",
              "queued_time": "2022-11-17T20:05:27.8881256Z",
              "session_start_time": null,
              "execution_start_time": "2022-11-17T20:05:28.0541708Z",
              "execution_finish_time": "2022-11-17T20:05:30.9294946Z",
              "spark_jobs": null
            },
            "text/plain": "StatementMeta(spark3p2sm, 6, 12, Finished, Available)"
          },
          "metadata": {}
        },
        {
          "output_type": "display_data",
          "data": {
            "application/vnd.synapse.widget-view+json": {
              "widget_id": "500c7957-d473-4731-83a7-3e9834952376",
              "widget_type": "Synapse.DataFrame"
            },
            "text/plain": "SynapseWidget(Synapse.DataFrame, 500c7957-d473-4731-83a7-3e9834952376)"
          },
          "metadata": {}
        },
        {
          "output_type": "display_data",
          "data": {
            "application/vnd.synapse.widget-view+json": {
              "widget_id": "8710e716-0801-43f1-92fe-fdcbc726e3f1",
              "widget_type": "Synapse.DataFrame"
            },
            "text/plain": "SynapseWidget(Synapse.DataFrame, 8710e716-0801-43f1-92fe-fdcbc726e3f1)"
          },
          "metadata": {}
        }
      ],
      "execution_count": 12,
      "metadata": {
        "jupyter": {
          "outputs_hidden": false,
          "source_hidden": false
        },
        "nteract": {
          "transient": {
            "deleting": false
          }
        },
        "collapsed": false
      }
    },
    {
      "cell_type": "code",
      "source": [
        "# 9) After ingesting data, the next step is to refine the data through the use of metadata\n",
        "metadata = oea.get_metadata_from_url('https://raw.githubusercontent.com/microsoft/OpenEduAnalytics/main/framework/test_data/contoso_sis/metadata.csv')\n",
        "oea.refine('contoso/v0.1/students', metadata['students'], 'SIS ID')"
      ],
      "outputs": [
        {
          "output_type": "display_data",
          "data": {
            "application/vnd.livy.statement-meta+json": {
              "spark_pool": "spark3p2sm",
              "session_id": "6",
              "statement_id": 13,
              "state": "finished",
              "livy_statement_state": "available",
              "queued_time": "2022-11-17T20:05:39.9938218Z",
              "session_start_time": null,
              "execution_start_time": "2022-11-17T20:05:40.1129142Z",
              "execution_finish_time": "2022-11-17T20:05:57.8688451Z",
              "spark_jobs": null
            },
            "text/plain": "StatementMeta(spark3p2sm, 6, 13, Finished, Available)"
          },
          "metadata": {}
        },
        {
          "output_type": "stream",
          "name": "stdout",
          "text": [
            "2022-11-17 20:05:50,416 - py4j.java_gateway - INFO - Received command  on object id \n2022-11-17 20:05:50,416 - py4j.java_gateway - INFO - Closing down callback connection\n2022-11-17 20:05:56,971 - OEA - INFO - Processed 3 updated rows from stage2/Ingested/contoso/v0.1/students into stage2/Refined\n"
          ]
        },
        {
          "output_type": "execute_result",
          "execution_count": 43,
          "data": {
            "text/plain": "3"
          },
          "metadata": {}
        }
      ],
      "execution_count": 13,
      "metadata": {
        "jupyter": {
          "outputs_hidden": false,
          "source_hidden": false
        },
        "nteract": {
          "transient": {
            "deleting": false
          }
        },
        "collapsed": false
      }
    },
    {
      "cell_type": "code",
      "source": [
        "# 12) Now you can query the refined data tables in the lake db\n",
        "df = spark.sql(\"select * from ldb_sam_s2r_contoso_v0p1.students\")\n",
        "display(df)\n",
        "df.printSchema()\n",
        "df = spark.sql(\"select * from ldb_sam_s2r_contoso_v0p1.students_lookup\")\n",
        "display(df)\n",
        "# You can use the \"lookup\" table for joins (people with restricted access won't be able to perform this query because they won't have access to data in the \"sensitive\" folder in the data lake)\n",
        "df = spark.sql(\"select sl.Username, s.Grade from ldb_sam_s2r_contoso_v0p1.students_lookup sl, ldb_sam_s2r_contoso_v0p1.students s where sl.SIS_ID_pseudonym = s.SIS_ID_pseudonym\")\n",
        "display(df)"
      ],
      "outputs": [
        {
          "output_type": "display_data",
          "data": {
            "application/vnd.livy.statement-meta+json": {
              "spark_pool": "spark3p2sm",
              "session_id": "6",
              "statement_id": 15,
              "state": "finished",
              "livy_statement_state": "available",
              "queued_time": "2022-11-17T20:06:47.888815Z",
              "session_start_time": null,
              "execution_start_time": "2022-11-17T20:06:48.0044147Z",
              "execution_finish_time": "2022-11-17T20:06:53.2690158Z",
              "spark_jobs": null
            },
            "text/plain": "StatementMeta(spark3p2sm, 6, 15, Finished, Available)"
          },
          "metadata": {}
        },
        {
          "output_type": "display_data",
          "data": {
            "application/vnd.synapse.widget-view+json": {
              "widget_id": "15bd05d2-ffe6-4954-9b7e-f08285a93f58",
              "widget_type": "Synapse.DataFrame"
            },
            "text/plain": "SynapseWidget(Synapse.DataFrame, 15bd05d2-ffe6-4954-9b7e-f08285a93f58)"
          },
          "metadata": {}
        },
        {
          "output_type": "stream",
          "name": "stdout",
          "text": [
            "root\n |-- SIS_ID_pseudonym: string (nullable = true)\n |-- School_SIS_ID: string (nullable = true)\n |-- Username: string (nullable = true)\n |-- First_Name: string (nullable = true)\n |-- Last_Name: string (nullable = true)\n |-- Middle_Name: string (nullable = true)\n |-- Secondary_Email: string (nullable = true)\n |-- Student_Number_pseudonym: string (nullable = true)\n |-- Grade: string (nullable = true)\n |-- State_ID_pseudonym: string (nullable = true)\n |-- Status: string (nullable = true)\n |-- Birthdate: string (nullable = true)\n |-- Graduation_Year: string (nullable = true)\n |-- Gender: string (nullable = true)\n |-- FederalRaceCategory: string (nullable = true)\n |-- PrimaryLanguage: string (nullable = true)\n |-- ELLStatus: string (nullable = true)\n |-- SpecialEducation: string (nullable = true)\n |-- LowIncome: string (nullable = true)\n |-- CumulativeGPA: string (nullable = true)\n |-- rundate: timestamp (nullable = true)\n\n"
          ]
        },
        {
          "output_type": "display_data",
          "data": {
            "application/vnd.synapse.widget-view+json": {
              "widget_id": "6c971c59-9d28-4c2e-8680-07f3f38541a7",
              "widget_type": "Synapse.DataFrame"
            },
            "text/plain": "SynapseWidget(Synapse.DataFrame, 6c971c59-9d28-4c2e-8680-07f3f38541a7)"
          },
          "metadata": {}
        },
        {
          "output_type": "display_data",
          "data": {
            "application/vnd.synapse.widget-view+json": {
              "widget_id": "fbbddbf6-56b3-4d97-99e2-b4ef211ed6a2",
              "widget_type": "Synapse.DataFrame"
            },
            "text/plain": "SynapseWidget(Synapse.DataFrame, fbbddbf6-56b3-4d97-99e2-b4ef211ed6a2)"
          },
          "metadata": {}
        }
      ],
      "execution_count": 15,
      "metadata": {
        "jupyter": {
          "outputs_hidden": false,
          "source_hidden": false
        },
        "nteract": {
          "transient": {
            "deleting": false
          }
        },
        "collapsed": false
      }
    },
    {
      "cell_type": "code",
      "source": [
        "# 11) Land, ingest, and refine additional data sets.\n",
        "# These data sets demonstrate the 2 other types of batch data - additive and snapshot.\n",
        "data = requests.get('https://raw.githubusercontent.com/microsoft/OpenEduAnalytics/main/framework/test_data/contoso_sis/day1/studentattendance/part1.csv').text\n",
        "oea.land(data, 'contoso/v0.1/studentattendance', 'part1.csv', oea.ADDITIVE_BATCH_DATA)\n",
        "data = requests.get('https://raw.githubusercontent.com/microsoft/OpenEduAnalytics/main/framework/test_data/contoso_sis/day2/studentattendance/part1.csv').text\n",
        "oea.land(data, 'contoso/v0.1/studentattendance', 'part1.csv', oea.ADDITIVE_BATCH_DATA)\n",
        "\n",
        "\n",
        "data = requests.get('https://raw.githubusercontent.com/microsoft/OpenEduAnalytics/main/framework/test_data/contoso_sis/day1/studentsectionmark/part1.csv').text\n",
        "oea.land(data, 'contoso/v0.1/studentsectionmark', 'part1.csv', oea.SNAPSHOT_BATCH_DATA)\n",
        "data = requests.get('https://raw.githubusercontent.com/microsoft/OpenEduAnalytics/main/framework/test_data/contoso_sis/day2/studentsectionmark/part1.csv').text\n",
        "oea.land(data, 'contoso/v0.1/studentsectionmark', 'part1.csv', oea.SNAPSHOT_BATCH_DATA)\n",
        "\n",
        "oea.ingest(f'contoso/v0.1/studentattendance', 'id')\n",
        "oea.ingest(f'contoso/v0.1/studentsectionmark', 'id')\n",
        "\n",
        "metadata = requests.get('https://raw.githubusercontent.com/microsoft/OpenEduAnalytics/main/framework/test_data/contoso_sis/metadata.csv').text\n",
        "oea.refine('contoso/v0.1/studentattendance', metadata['studentattendance'], 'id')\n",
        "oea.refine('contoso/v0.1/studentsectionmark', metadata['studentsectionmark'], 'id')"
      ],
      "outputs": [
        {
          "output_type": "display_data",
          "data": {
            "application/vnd.livy.statement-meta+json": {
              "spark_pool": "spark3p2sm",
              "session_id": "6",
              "statement_id": 18,
              "state": "finished",
              "livy_statement_state": "available",
              "queued_time": "2022-11-17T20:18:29.8362753Z",
              "session_start_time": null,
              "execution_start_time": "2022-11-17T20:18:29.976399Z",
              "execution_finish_time": "2022-11-17T20:18:46.80279Z",
              "spark_jobs": null
            },
            "text/plain": "StatementMeta(spark3p2sm, 6, 18, Finished, Available)"
          },
          "metadata": {}
        },
        {
          "output_type": "stream",
          "name": "stdout",
          "text": [
            "2022-11-17 20:18:31,463 - OEA - INFO - Ingesting from: stage1/Transactional/contoso/v0.1/studentattendance, batch type of: additive, source data format of: csv\n2022-11-17 20:18:33,272 - py4j.java_gateway - INFO - Callback Connection ready to receive messages\n2022-11-17 20:18:33,273 - py4j.java_gateway - INFO - Received command c on object id p4\n2022-11-17 20:18:37,253 - OEA - INFO - Number of new inbound rows processed: 2928\n2022-11-17 20:18:39,306 - OEA - INFO - Ingesting from: stage1/Transactional/contoso/v0.1/studentsectionmark, batch type of: snapshot, source data format of: csv\n2022-11-17 20:18:40,953 - py4j.java_gateway - INFO - Received command c on object id p5\n2022-11-17 20:18:43,814 - OEA - INFO - Number of new inbound rows processed: 24\n"
          ]
        },
        {
          "output_type": "error",
          "ename": "TypeError",
          "evalue": "string indices must be integers",
          "traceback": [
            "\u001b[0;31m---------------------------------------------------------------------------\u001b[0m",
            "\u001b[0;31mTypeError\u001b[0m                                 Traceback (most recent call last)",
            "\u001b[0;32m<ipython-input-18-318aa325>\u001b[0m in \u001b[0;36m<module>\u001b[0;34m\u001b[0m\n\u001b[1;32m     16\u001b[0m \u001b[0;34m\u001b[0m\u001b[0m\n\u001b[1;32m     17\u001b[0m \u001b[0mmetadata\u001b[0m \u001b[0;34m=\u001b[0m \u001b[0mrequests\u001b[0m\u001b[0;34m.\u001b[0m\u001b[0mget\u001b[0m\u001b[0;34m(\u001b[0m\u001b[0;34m'https://raw.githubusercontent.com/microsoft/OpenEduAnalytics/main/framework/test_data/contoso_sis/metadata.csv'\u001b[0m\u001b[0;34m)\u001b[0m\u001b[0;34m.\u001b[0m\u001b[0mtext\u001b[0m\u001b[0;34m\u001b[0m\u001b[0;34m\u001b[0m\u001b[0m\n\u001b[0;32m---> 18\u001b[0;31m \u001b[0moea\u001b[0m\u001b[0;34m.\u001b[0m\u001b[0mrefine\u001b[0m\u001b[0;34m(\u001b[0m\u001b[0;34m'contoso/v0.1/studentattendance'\u001b[0m\u001b[0;34m,\u001b[0m \u001b[0mmetadata\u001b[0m\u001b[0;34m[\u001b[0m\u001b[0;34m'studentattendance'\u001b[0m\u001b[0;34m]\u001b[0m\u001b[0;34m,\u001b[0m \u001b[0;34m'id'\u001b[0m\u001b[0;34m)\u001b[0m\u001b[0;34m\u001b[0m\u001b[0;34m\u001b[0m\u001b[0m\n\u001b[0m\u001b[1;32m     19\u001b[0m \u001b[0moea\u001b[0m\u001b[0;34m.\u001b[0m\u001b[0mrefine\u001b[0m\u001b[0;34m(\u001b[0m\u001b[0;34m'contoso/v0.1/studentsectionmark'\u001b[0m\u001b[0;34m,\u001b[0m \u001b[0mmetadata\u001b[0m\u001b[0;34m[\u001b[0m\u001b[0;34m'studentsectionmark'\u001b[0m\u001b[0;34m]\u001b[0m\u001b[0;34m,\u001b[0m \u001b[0;34m'id'\u001b[0m\u001b[0;34m)\u001b[0m\u001b[0;34m\u001b[0m\u001b[0;34m\u001b[0m\u001b[0m\n",
            "\u001b[0;31mTypeError\u001b[0m: string indices must be integers"
          ]
        }
      ],
      "execution_count": 18,
      "metadata": {
        "jupyter": {
          "outputs_hidden": false,
          "source_hidden": false
        },
        "nteract": {
          "transient": {
            "deleting": false
          }
        }
      }
    },
    {
      "cell_type": "code",
      "source": [
        "# 12) Reset this example\n",
        "oea.delete_dataset('contoso/v0.1')\n",
        "oea.drop_lake_db('ldb_sam_s2i_contoso_v0p1')\n",
        "oea.drop_lake_db('ldb_sam_s2r_contoso_v0p1')"
      ],
      "outputs": [
        {
          "output_type": "display_data",
          "data": {
            "application/vnd.livy.statement-meta+json": {
              "spark_pool": "spark3p2sm",
              "session_id": "6",
              "statement_id": 17,
              "state": "finished",
              "livy_statement_state": "available",
              "queued_time": "2022-11-17T20:17:54.5200805Z",
              "session_start_time": null,
              "execution_start_time": "2022-11-17T20:17:54.6586792Z",
              "execution_finish_time": "2022-11-17T20:17:57.5012406Z",
              "spark_jobs": null
            },
            "text/plain": "StatementMeta(spark3p2sm, 6, 17, Finished, Available)"
          },
          "metadata": {}
        },
        {
          "output_type": "stream",
          "name": "stdout",
          "text": [
            "2022-11-17 20:17:56,202 - OEA - INFO - Database dropped: ldb_sam_s2i_contoso_v0p1\n2022-11-17 20:17:56,995 - OEA - INFO - Database dropped: ldb_sam_s2r_contoso_v0p1\n"
          ]
        },
        {
          "output_type": "execute_result",
          "execution_count": 55,
          "data": {
            "text/plain": "'Database dropped: ldb_sam_s2r_contoso_v0p1'"
          },
          "metadata": {}
        }
      ],
      "execution_count": 17,
      "metadata": {
        "jupyter": {
          "outputs_hidden": false,
          "source_hidden": false
        },
        "nteract": {
          "transient": {
            "deleting": false
          }
        }
      }
    },
    {
      "cell_type": "markdown",
      "source": [
        "# Appendix"
      ],
      "metadata": {
        "nteract": {
          "transient": {
            "deleting": false
          }
        }
      }
    },
    {
      "cell_type": "code",
      "source": [
        "# You can list the contents of a folder in the data lake like this:\n",
        "print(oea.ls('stage1/Transactional/contoso/v0.1/students/delta_batch_data'))\n",
        "print(oea.ls('stage2/Ingested/contoso/v0.1/students'))"
      ],
      "outputs": [],
      "execution_count": null,
      "metadata": {
        "jupyter": {
          "outputs_hidden": false,
          "source_hidden": false
        },
        "nteract": {
          "transient": {
            "deleting": false
          }
        }
      }
    },
    {
      "cell_type": "code",
      "source": [
        "dtbl = DeltaTable.forPath(spark, oea.to_url('stage2/Refined/contoso/v0.1/sensitive/students_lookup'))\n",
        "display(dtbl.toDF())\n",
        "#dtbl.delete(\"rundate > '2022-11-04T14:39:51'\")"
      ],
      "outputs": [],
      "execution_count": null,
      "metadata": {
        "jupyter": {
          "outputs_hidden": false,
          "source_hidden": false
        },
        "nteract": {
          "transient": {
            "deleting": false
          }
        },
        "collapsed": false
      }
    }
  ],
  "metadata": {
    "kernelspec": {
      "name": "synapse_pyspark",
      "language": "Python",
      "display_name": "Synapse PySpark"
    },
    "language_info": {
      "name": "python"
    },
    "kernel_info": {
      "name": "synapse_pyspark"
    },
    "save_output": true,
    "synapse_widget": {
      "version": "0.1",
      "state": {
        "81925c53-bee6-4d46-8900-2d01e60b5524": {
          "type": "Synapse.DataFrame",
          "sync_state": {
            "table": {
              "rows": [
                {
                  "0": "st1",
                  "1": "sch0",
                  "2": "albertibarra1",
                  "3": "Albert",
                  "4": "Ibarra",
                  "5": "David",
                  "6": "albertibarra1@Classrmtest86.org",
                  "7": "1",
                  "8": "11",
                  "9": "123",
                  "10": "Active",
                  "11": "4/2/2004",
                  "12": "2020",
                  "13": "Male",
                  "14": "American Indian",
                  "15": "English",
                  "18": "0",
                  "19": "3.33",
                  "20": "2022-11-17 19:55:15"
                },
                {
                  "0": "st4",
                  "1": "sch0",
                  "2": "jonsmith",
                  "3": "Jon",
                  "4": "Smith",
                  "5": "Joseph",
                  "6": "jonsmith@Classrmtest86.org",
                  "7": "4",
                  "8": "11",
                  "9": "126",
                  "10": "Active",
                  "11": "4/4/2004",
                  "12": "2020",
                  "13": "Male",
                  "14": "American Indian",
                  "15": "English",
                  "18": "0",
                  "19": "3.43",
                  "20": "2022-11-17 19:55:15"
                }
              ],
              "schema": [
                {
                  "key": "0",
                  "name": "SIS ID",
                  "type": "string"
                },
                {
                  "key": "1",
                  "name": "School SIS ID",
                  "type": "string"
                },
                {
                  "key": "2",
                  "name": "Username",
                  "type": "string"
                },
                {
                  "key": "3",
                  "name": "First Name",
                  "type": "string"
                },
                {
                  "key": "4",
                  "name": "Last Name",
                  "type": "string"
                },
                {
                  "key": "5",
                  "name": "Middle Name",
                  "type": "string"
                },
                {
                  "key": "6",
                  "name": "Secondary Email",
                  "type": "string"
                },
                {
                  "key": "7",
                  "name": "Student Number",
                  "type": "string"
                },
                {
                  "key": "8",
                  "name": "Grade",
                  "type": "string"
                },
                {
                  "key": "9",
                  "name": "State ID",
                  "type": "string"
                },
                {
                  "key": "10",
                  "name": "Status",
                  "type": "string"
                },
                {
                  "key": "11",
                  "name": "Birthdate",
                  "type": "string"
                },
                {
                  "key": "12",
                  "name": "Graduation Year",
                  "type": "string"
                },
                {
                  "key": "13",
                  "name": "Gender",
                  "type": "string"
                },
                {
                  "key": "14",
                  "name": "FederalRaceCategory",
                  "type": "string"
                },
                {
                  "key": "15",
                  "name": "PrimaryLanguage",
                  "type": "string"
                },
                {
                  "key": "16",
                  "name": "ELLStatus",
                  "type": "string"
                },
                {
                  "key": "17",
                  "name": "SpecialEducation",
                  "type": "string"
                },
                {
                  "key": "18",
                  "name": "LowIncome",
                  "type": "string"
                },
                {
                  "key": "19",
                  "name": "CumulativeGPA",
                  "type": "string"
                },
                {
                  "key": "20",
                  "name": "rundate",
                  "type": "timestamp"
                }
              ],
              "truncated": false
            },
            "isSummary": false,
            "language": "scala"
          },
          "persist_state": {
            "view": {
              "type": "details",
              "tableOptions": {},
              "chartOptions": {
                "chartType": "bar",
                "aggregationType": "count",
                "categoryFieldKeys": [
                  "0"
                ],
                "seriesFieldKeys": [
                  "0"
                ],
                "isStacked": false
              }
            }
          }
        },
        "3231fa94-b826-4ab8-93c1-8a4b6e845086": {
          "type": "Synapse.DataFrame",
          "sync_state": {
            "table": {
              "rows": [
                {
                  "0": "st4",
                  "1": "sch0",
                  "2": "jonsmith",
                  "3": "Jon",
                  "4": "Smith",
                  "5": "Joseph",
                  "6": "jonsmith@Classrmtest86.org",
                  "7": "4",
                  "8": "11",
                  "9": "126",
                  "10": "Active",
                  "11": "4/4/2004",
                  "12": "2020",
                  "13": "Male",
                  "14": "American Indian",
                  "15": "English",
                  "18": "0",
                  "19": "3.43",
                  "20": "2022-11-17 19:55:15"
                },
                {
                  "0": "st1",
                  "1": "sch0",
                  "2": "albertibarra1",
                  "3": "Albert",
                  "4": "Ibarra",
                  "5": "David",
                  "6": "albertibarra1@Classrmtest86.org",
                  "7": "1",
                  "8": "11",
                  "9": "123",
                  "10": "Active",
                  "11": "4/2/2004",
                  "12": "2020",
                  "13": "Male",
                  "14": "American Indian",
                  "15": "English",
                  "18": "0",
                  "19": "3.33",
                  "20": "2022-11-17 19:55:15"
                }
              ],
              "schema": [
                {
                  "key": "0",
                  "name": "SIS_ID",
                  "type": "string"
                },
                {
                  "key": "1",
                  "name": "School_SIS_ID",
                  "type": "string"
                },
                {
                  "key": "2",
                  "name": "Username",
                  "type": "string"
                },
                {
                  "key": "3",
                  "name": "First_Name",
                  "type": "string"
                },
                {
                  "key": "4",
                  "name": "Last_Name",
                  "type": "string"
                },
                {
                  "key": "5",
                  "name": "Middle_Name",
                  "type": "string"
                },
                {
                  "key": "6",
                  "name": "Secondary_Email",
                  "type": "string"
                },
                {
                  "key": "7",
                  "name": "Student_Number",
                  "type": "string"
                },
                {
                  "key": "8",
                  "name": "Grade",
                  "type": "string"
                },
                {
                  "key": "9",
                  "name": "State_ID",
                  "type": "string"
                },
                {
                  "key": "10",
                  "name": "Status",
                  "type": "string"
                },
                {
                  "key": "11",
                  "name": "Birthdate",
                  "type": "string"
                },
                {
                  "key": "12",
                  "name": "Graduation_Year",
                  "type": "string"
                },
                {
                  "key": "13",
                  "name": "Gender",
                  "type": "string"
                },
                {
                  "key": "14",
                  "name": "FederalRaceCategory",
                  "type": "string"
                },
                {
                  "key": "15",
                  "name": "PrimaryLanguage",
                  "type": "string"
                },
                {
                  "key": "16",
                  "name": "ELLStatus",
                  "type": "string"
                },
                {
                  "key": "17",
                  "name": "SpecialEducation",
                  "type": "string"
                },
                {
                  "key": "18",
                  "name": "LowIncome",
                  "type": "string"
                },
                {
                  "key": "19",
                  "name": "CumulativeGPA",
                  "type": "string"
                },
                {
                  "key": "20",
                  "name": "rundate",
                  "type": "timestamp"
                }
              ],
              "truncated": false
            },
            "isSummary": false,
            "language": "scala"
          },
          "persist_state": {
            "view": {
              "type": "details",
              "tableOptions": {},
              "chartOptions": {
                "chartType": "bar",
                "aggregationType": "count",
                "categoryFieldKeys": [
                  "0"
                ],
                "seriesFieldKeys": [
                  "0"
                ],
                "isStacked": false
              }
            }
          }
        },
        "500c7957-d473-4731-83a7-3e9834952376": {
          "type": "Synapse.DataFrame",
          "sync_state": {
            "table": {
              "rows": [
                {
                  "0": "st4",
                  "1": "sch0",
                  "2": "jonsmith",
                  "3": "Jon",
                  "4": "Smith",
                  "5": "Joseph",
                  "6": "jonsmith@Classrmtest86.org",
                  "7": "4",
                  "8": "11",
                  "9": "126",
                  "10": "Active",
                  "11": "4/4/2004",
                  "12": "2020",
                  "13": "Male",
                  "14": "American Indian",
                  "15": "English",
                  "18": "0",
                  "19": "3.43",
                  "20": "2022-11-17 19:55:15"
                },
                {
                  "0": "st2",
                  "1": "sch0",
                  "2": "sharonhenderson2",
                  "3": "Sharon",
                  "4": "Henderson",
                  "5": "Elizabeth",
                  "6": "sharonhenderson2@Classrmtest86.org",
                  "7": "2",
                  "8": "12",
                  "9": "123",
                  "10": "Active",
                  "11": "4/2/2004",
                  "12": "2020",
                  "13": "Male",
                  "14": "Black",
                  "15": "English",
                  "17": "Resource Specialty Program",
                  "18": "0",
                  "19": "0.423",
                  "20": "2022-11-17 20:04:34"
                },
                {
                  "0": "st1",
                  "1": "sch0",
                  "2": "albertibarra1",
                  "3": "Al",
                  "4": "Ibarra",
                  "5": "David",
                  "6": "albertibarra1@Classrmtest86.org",
                  "7": "1",
                  "8": "11",
                  "9": "123",
                  "10": "Active",
                  "11": "4/2/2004",
                  "12": "2020",
                  "13": "Male",
                  "14": "American Indian",
                  "15": "English",
                  "18": "0",
                  "19": "3.33",
                  "20": "2022-11-17 20:04:34"
                }
              ],
              "schema": [
                {
                  "key": "0",
                  "name": "SIS_ID",
                  "type": "string"
                },
                {
                  "key": "1",
                  "name": "School_SIS_ID",
                  "type": "string"
                },
                {
                  "key": "2",
                  "name": "Username",
                  "type": "string"
                },
                {
                  "key": "3",
                  "name": "First_Name",
                  "type": "string"
                },
                {
                  "key": "4",
                  "name": "Last_Name",
                  "type": "string"
                },
                {
                  "key": "5",
                  "name": "Middle_Name",
                  "type": "string"
                },
                {
                  "key": "6",
                  "name": "Secondary_Email",
                  "type": "string"
                },
                {
                  "key": "7",
                  "name": "Student_Number",
                  "type": "string"
                },
                {
                  "key": "8",
                  "name": "Grade",
                  "type": "string"
                },
                {
                  "key": "9",
                  "name": "State_ID",
                  "type": "string"
                },
                {
                  "key": "10",
                  "name": "Status",
                  "type": "string"
                },
                {
                  "key": "11",
                  "name": "Birthdate",
                  "type": "string"
                },
                {
                  "key": "12",
                  "name": "Graduation_Year",
                  "type": "string"
                },
                {
                  "key": "13",
                  "name": "Gender",
                  "type": "string"
                },
                {
                  "key": "14",
                  "name": "FederalRaceCategory",
                  "type": "string"
                },
                {
                  "key": "15",
                  "name": "PrimaryLanguage",
                  "type": "string"
                },
                {
                  "key": "16",
                  "name": "ELLStatus",
                  "type": "string"
                },
                {
                  "key": "17",
                  "name": "SpecialEducation",
                  "type": "string"
                },
                {
                  "key": "18",
                  "name": "LowIncome",
                  "type": "string"
                },
                {
                  "key": "19",
                  "name": "CumulativeGPA",
                  "type": "string"
                },
                {
                  "key": "20",
                  "name": "rundate",
                  "type": "timestamp"
                }
              ],
              "truncated": false
            },
            "isSummary": false,
            "language": "scala"
          },
          "persist_state": {
            "view": {
              "type": "details",
              "tableOptions": {},
              "chartOptions": {
                "chartType": "bar",
                "aggregationType": "count",
                "categoryFieldKeys": [
                  "0"
                ],
                "seriesFieldKeys": [
                  "0"
                ],
                "isStacked": false
              }
            }
          }
        },
        "8710e716-0801-43f1-92fe-fdcbc726e3f1": {
          "type": "Synapse.DataFrame",
          "sync_state": {
            "table": {
              "rows": [
                {
                  "0": "st4",
                  "1": "sch0",
                  "2": "jonsmith",
                  "3": "Jon",
                  "4": "Smith",
                  "5": "Joseph",
                  "6": "jonsmith@Classrmtest86.org",
                  "7": "4",
                  "8": "11",
                  "9": "126",
                  "10": "Active",
                  "11": "4/4/2004",
                  "12": "2020",
                  "13": "Male",
                  "14": "American Indian",
                  "15": "English",
                  "18": "0",
                  "19": "3.43",
                  "20": "2022-11-17 19:55:15"
                },
                {
                  "0": "st2",
                  "1": "sch0",
                  "2": "sharonhenderson2",
                  "3": "Sharon",
                  "4": "Henderson",
                  "5": "Elizabeth",
                  "6": "sharonhenderson2@Classrmtest86.org",
                  "7": "2",
                  "8": "12",
                  "9": "123",
                  "10": "Active",
                  "11": "4/2/2004",
                  "12": "2020",
                  "13": "Male",
                  "14": "Black",
                  "15": "English",
                  "17": "Resource Specialty Program",
                  "18": "0",
                  "19": "0.423",
                  "20": "2022-11-17 20:04:34"
                },
                {
                  "0": "st1",
                  "1": "sch0",
                  "2": "albertibarra1",
                  "3": "Al",
                  "4": "Ibarra",
                  "5": "David",
                  "6": "albertibarra1@Classrmtest86.org",
                  "7": "1",
                  "8": "11",
                  "9": "123",
                  "10": "Active",
                  "11": "4/2/2004",
                  "12": "2020",
                  "13": "Male",
                  "14": "American Indian",
                  "15": "English",
                  "18": "0",
                  "19": "3.33",
                  "20": "2022-11-17 20:04:34"
                }
              ],
              "schema": [
                {
                  "key": "0",
                  "name": "SIS_ID",
                  "type": "string"
                },
                {
                  "key": "1",
                  "name": "School_SIS_ID",
                  "type": "string"
                },
                {
                  "key": "2",
                  "name": "Username",
                  "type": "string"
                },
                {
                  "key": "3",
                  "name": "First_Name",
                  "type": "string"
                },
                {
                  "key": "4",
                  "name": "Last_Name",
                  "type": "string"
                },
                {
                  "key": "5",
                  "name": "Middle_Name",
                  "type": "string"
                },
                {
                  "key": "6",
                  "name": "Secondary_Email",
                  "type": "string"
                },
                {
                  "key": "7",
                  "name": "Student_Number",
                  "type": "string"
                },
                {
                  "key": "8",
                  "name": "Grade",
                  "type": "string"
                },
                {
                  "key": "9",
                  "name": "State_ID",
                  "type": "string"
                },
                {
                  "key": "10",
                  "name": "Status",
                  "type": "string"
                },
                {
                  "key": "11",
                  "name": "Birthdate",
                  "type": "string"
                },
                {
                  "key": "12",
                  "name": "Graduation_Year",
                  "type": "string"
                },
                {
                  "key": "13",
                  "name": "Gender",
                  "type": "string"
                },
                {
                  "key": "14",
                  "name": "FederalRaceCategory",
                  "type": "string"
                },
                {
                  "key": "15",
                  "name": "PrimaryLanguage",
                  "type": "string"
                },
                {
                  "key": "16",
                  "name": "ELLStatus",
                  "type": "string"
                },
                {
                  "key": "17",
                  "name": "SpecialEducation",
                  "type": "string"
                },
                {
                  "key": "18",
                  "name": "LowIncome",
                  "type": "string"
                },
                {
                  "key": "19",
                  "name": "CumulativeGPA",
                  "type": "string"
                },
                {
                  "key": "20",
                  "name": "rundate",
                  "type": "timestamp"
                }
              ],
              "truncated": false
            },
            "isSummary": false,
            "language": "scala"
          },
          "persist_state": {
            "view": {
              "type": "details",
              "tableOptions": {},
              "chartOptions": {
                "chartType": "bar",
                "aggregationType": "count",
                "categoryFieldKeys": [
                  "0"
                ],
                "seriesFieldKeys": [
                  "0"
                ],
                "isStacked": false
              }
            }
          }
        },
        "15bd05d2-ffe6-4954-9b7e-f08285a93f58": {
          "type": "Synapse.DataFrame",
          "sync_state": {
            "table": {
              "rows": [
                {
                  "0": "e6e84c1922e662bbe4629f1ce2d3a8ae6395b73a930dbdbf2024f37730e7f56a",
                  "1": "sch0",
                  "2": "*",
                  "3": "*",
                  "4": "*",
                  "5": "*",
                  "6": "*",
                  "7": "b6afddfabc514161f05221773a2d9749656698459bc9a043e3288b1cec9aedb8",
                  "8": "11",
                  "9": "3d7c19c8d589513e0add89e0eb3500f271782939d6a57b784fb6533b4b2d9ca3",
                  "10": "Active",
                  "11": "4/2/2004",
                  "12": "2020",
                  "13": "Male",
                  "14": "American Indian",
                  "15": "English",
                  "18": "0",
                  "19": "3.33",
                  "20": "2022-11-17 20:04:34"
                },
                {
                  "0": "4a34e4b488b97bb5a36efa42f48f886264f209df8f7d7db836f3c034a8c08212",
                  "1": "sch0",
                  "2": "*",
                  "3": "*",
                  "4": "*",
                  "5": "*",
                  "6": "*",
                  "7": "bc4d4a631eace16fa49d85dd1f508f8626e63d00fc3a6f69d0baf3d0190ff2ba",
                  "8": "11",
                  "9": "388757b41b7dcdedfac3efa344544381963372258d9ea400562a3d9158d499d2",
                  "10": "Active",
                  "11": "4/4/2004",
                  "12": "2020",
                  "13": "Male",
                  "14": "American Indian",
                  "15": "English",
                  "18": "0",
                  "19": "3.43",
                  "20": "2022-11-17 19:55:15"
                },
                {
                  "0": "f7e9abb1e21c1a13ae865e3b39081d8a864d92daa80d691d498a2af27ac9d40f",
                  "1": "sch0",
                  "2": "*",
                  "3": "*",
                  "4": "*",
                  "5": "*",
                  "6": "*",
                  "7": "dac169fdec7253f5083e3b238dc439242b3952aa8c053a6df0e108fd3da22311",
                  "8": "12",
                  "9": "3d7c19c8d589513e0add89e0eb3500f271782939d6a57b784fb6533b4b2d9ca3",
                  "10": "Active",
                  "11": "4/2/2004",
                  "12": "2020",
                  "13": "Male",
                  "14": "Black",
                  "15": "English",
                  "17": "Resource Specialty Program",
                  "18": "0",
                  "19": "0.423",
                  "20": "2022-11-17 20:04:34"
                }
              ],
              "schema": [
                {
                  "key": "0",
                  "name": "SIS_ID_pseudonym",
                  "type": "string"
                },
                {
                  "key": "1",
                  "name": "School_SIS_ID",
                  "type": "string"
                },
                {
                  "key": "2",
                  "name": "Username",
                  "type": "string"
                },
                {
                  "key": "3",
                  "name": "First_Name",
                  "type": "string"
                },
                {
                  "key": "4",
                  "name": "Last_Name",
                  "type": "string"
                },
                {
                  "key": "5",
                  "name": "Middle_Name",
                  "type": "string"
                },
                {
                  "key": "6",
                  "name": "Secondary_Email",
                  "type": "string"
                },
                {
                  "key": "7",
                  "name": "Student_Number_pseudonym",
                  "type": "string"
                },
                {
                  "key": "8",
                  "name": "Grade",
                  "type": "string"
                },
                {
                  "key": "9",
                  "name": "State_ID_pseudonym",
                  "type": "string"
                },
                {
                  "key": "10",
                  "name": "Status",
                  "type": "string"
                },
                {
                  "key": "11",
                  "name": "Birthdate",
                  "type": "string"
                },
                {
                  "key": "12",
                  "name": "Graduation_Year",
                  "type": "string"
                },
                {
                  "key": "13",
                  "name": "Gender",
                  "type": "string"
                },
                {
                  "key": "14",
                  "name": "FederalRaceCategory",
                  "type": "string"
                },
                {
                  "key": "15",
                  "name": "PrimaryLanguage",
                  "type": "string"
                },
                {
                  "key": "16",
                  "name": "ELLStatus",
                  "type": "string"
                },
                {
                  "key": "17",
                  "name": "SpecialEducation",
                  "type": "string"
                },
                {
                  "key": "18",
                  "name": "LowIncome",
                  "type": "string"
                },
                {
                  "key": "19",
                  "name": "CumulativeGPA",
                  "type": "string"
                },
                {
                  "key": "20",
                  "name": "rundate",
                  "type": "timestamp"
                }
              ],
              "truncated": false
            },
            "isSummary": false,
            "language": "scala"
          },
          "persist_state": {
            "view": {
              "type": "details",
              "tableOptions": {},
              "chartOptions": {
                "chartType": "bar",
                "aggregationType": "count",
                "categoryFieldKeys": [
                  "0"
                ],
                "seriesFieldKeys": [
                  "0"
                ],
                "isStacked": false
              }
            }
          }
        },
        "6c971c59-9d28-4c2e-8680-07f3f38541a7": {
          "type": "Synapse.DataFrame",
          "sync_state": {
            "table": {
              "rows": [
                {
                  "0": "st4",
                  "1": "jonsmith",
                  "2": "Jon",
                  "3": "Smith",
                  "4": "Joseph",
                  "5": "jonsmith@Classrmtest86.org",
                  "6": "4",
                  "7": "126",
                  "8": "2022-11-17 19:55:15",
                  "9": "4a34e4b488b97bb5a36efa42f48f886264f209df8f7d7db836f3c034a8c08212",
                  "10": "bc4d4a631eace16fa49d85dd1f508f8626e63d00fc3a6f69d0baf3d0190ff2ba",
                  "11": "388757b41b7dcdedfac3efa344544381963372258d9ea400562a3d9158d499d2"
                },
                {
                  "0": "st2",
                  "1": "sharonhenderson2",
                  "2": "Sharon",
                  "3": "Henderson",
                  "4": "Elizabeth",
                  "5": "sharonhenderson2@Classrmtest86.org",
                  "6": "2",
                  "7": "123",
                  "8": "2022-11-17 20:04:34",
                  "9": "f7e9abb1e21c1a13ae865e3b39081d8a864d92daa80d691d498a2af27ac9d40f",
                  "10": "dac169fdec7253f5083e3b238dc439242b3952aa8c053a6df0e108fd3da22311",
                  "11": "3d7c19c8d589513e0add89e0eb3500f271782939d6a57b784fb6533b4b2d9ca3"
                },
                {
                  "0": "st1",
                  "1": "albertibarra1",
                  "2": "Al",
                  "3": "Ibarra",
                  "4": "David",
                  "5": "albertibarra1@Classrmtest86.org",
                  "6": "1",
                  "7": "123",
                  "8": "2022-11-17 20:04:34",
                  "9": "e6e84c1922e662bbe4629f1ce2d3a8ae6395b73a930dbdbf2024f37730e7f56a",
                  "10": "b6afddfabc514161f05221773a2d9749656698459bc9a043e3288b1cec9aedb8",
                  "11": "3d7c19c8d589513e0add89e0eb3500f271782939d6a57b784fb6533b4b2d9ca3"
                }
              ],
              "schema": [
                {
                  "key": "0",
                  "name": "SIS_ID",
                  "type": "string"
                },
                {
                  "key": "1",
                  "name": "Username",
                  "type": "string"
                },
                {
                  "key": "2",
                  "name": "First_Name",
                  "type": "string"
                },
                {
                  "key": "3",
                  "name": "Last_Name",
                  "type": "string"
                },
                {
                  "key": "4",
                  "name": "Middle_Name",
                  "type": "string"
                },
                {
                  "key": "5",
                  "name": "Secondary_Email",
                  "type": "string"
                },
                {
                  "key": "6",
                  "name": "Student_Number",
                  "type": "string"
                },
                {
                  "key": "7",
                  "name": "State_ID",
                  "type": "string"
                },
                {
                  "key": "8",
                  "name": "rundate",
                  "type": "timestamp"
                },
                {
                  "key": "9",
                  "name": "SIS_ID_pseudonym",
                  "type": "string"
                },
                {
                  "key": "10",
                  "name": "Student_Number_pseudonym",
                  "type": "string"
                },
                {
                  "key": "11",
                  "name": "State_ID_pseudonym",
                  "type": "string"
                }
              ],
              "truncated": false
            },
            "isSummary": false,
            "language": "scala"
          },
          "persist_state": {
            "view": {
              "type": "details",
              "tableOptions": {},
              "chartOptions": {
                "chartType": "bar",
                "aggregationType": "count",
                "categoryFieldKeys": [
                  "0"
                ],
                "seriesFieldKeys": [
                  "0"
                ],
                "isStacked": false
              }
            }
          }
        },
        "fbbddbf6-56b3-4d97-99e2-b4ef211ed6a2": {
          "type": "Synapse.DataFrame",
          "sync_state": {
            "table": {
              "rows": [
                {
                  "0": "jonsmith",
                  "1": "11"
                },
                {
                  "0": "sharonhenderson2",
                  "1": "12"
                },
                {
                  "0": "albertibarra1",
                  "1": "11"
                }
              ],
              "schema": [
                {
                  "key": "0",
                  "name": "Username",
                  "type": "string"
                },
                {
                  "key": "1",
                  "name": "Grade",
                  "type": "string"
                }
              ],
              "truncated": false
            },
            "isSummary": false,
            "language": "scala"
          },
          "persist_state": {
            "view": {
              "type": "details",
              "tableOptions": {},
              "chartOptions": {
                "chartType": "bar",
                "aggregationType": "count",
                "categoryFieldKeys": [
                  "0"
                ],
                "seriesFieldKeys": [
                  "0"
                ],
                "isStacked": false
              }
            }
          }
        }
      }
    }
  },
  "nbformat": 4,
  "nbformat_minor": 2
}
