{
  "cells": [
    {
      "cell_type": "code",
      "source": [
        "%run /OEA_py"
      ],
      "outputs": [
        {
          "output_type": "display_data",
          "data": {
            "application/vnd.livy.statement-meta+json": {
              "spark_pool": "spark3p0smallc",
              "session_id": 17,
              "statement_id": -1,
              "state": "finished",
              "livy_statement_state": "available",
              "queued_time": "2021-08-24T18:01:38.0520694Z",
              "session_start_time": null,
              "execution_start_time": "2021-08-24T18:01:38.4529729Z",
              "execution_finish_time": "2021-08-24T18:01:38.4530751Z"
            },
            "text/plain": "StatementMeta(spark3p0smallc, 17, -1, Finished, Available)"
          },
          "metadata": {}
        },
        {
          "output_type": "stream",
          "name": "stdout",
          "text": []
        }
      ],
      "execution_count": 47,
      "metadata": {
        "jupyter": {
          "source_hidden": false,
          "outputs_hidden": false
        },
        "nteract": {
          "transient": {
            "deleting": false
          }
        },
        "collapsed": true
      }
    },
    {
      "cell_type": "code",
      "source": [
        "_fall_semester_start_date = datetime.date(_academic_year, 8, 15)\r\n",
        "print(_fall_semester_start_date)\r\n",
        "date2 = datetime.datetime.strptime(\"2020-01-20\", \"%Y-%m-%d\")\r\n",
        "print(date2)\r\n",
        "print(date2.strftime(\"%Y-%m-%d\"))"
      ],
      "outputs": [
        {
          "output_type": "display_data",
          "data": {
            "application/vnd.livy.statement-meta+json": {
              "spark_pool": "spark3p0smallc",
              "session_id": 17,
              "statement_id": 44,
              "state": "finished",
              "livy_statement_state": "available",
              "queued_time": "2021-08-24T17:56:35.2043146Z",
              "session_start_time": null,
              "execution_start_time": "2021-08-24T17:56:35.3004338Z",
              "execution_finish_time": "2021-08-24T17:56:35.4589055Z"
            },
            "text/plain": "StatementMeta(spark3p0smallc, 17, 44, Finished, Available)"
          },
          "metadata": {}
        },
        {
          "output_type": "stream",
          "name": "stdout",
          "text": [
            "2021-08-15\n",
            "2020-01-20 00:00:00\n",
            "2020-01-20"
          ]
        }
      ],
      "execution_count": 44,
      "metadata": {
        "collapsed": true,
        "jupyter": {
          "source_hidden": false,
          "outputs_hidden": false
        },
        "nteract": {
          "transient": {
            "deleting": false
          }
        }
      }
    },
    {
      "cell_type": "code",
      "source": [
        "import datetime\r\n",
        "import random\r\n",
        "oea = OEA('stoeacisd3ggimpl1', '2fc72a29-e1ee-4eb6-95eb-9346557a6d6d', 'salt123')\r\n",
        "\r\n",
        "# Set a seed value in Faker so it generates the same values every time it's run\r\n",
        "_fake = Faker('en_US')\r\n",
        "Faker.seed(1) \r\n",
        "\r\n",
        "####################################################################\r\n",
        "# Configure these settings to generate the amount of test data needed.\r\n",
        "_folder = 'uc_at_risk'\r\n",
        "_students_per_school = 2\r\n",
        "_classes_in_student_schedule = 6\r\n",
        "_students_per_section = 25\r\n",
        "_fall_semester_start_date = '2021-08-15'\r\n",
        "_fall_semester_end_date = '2021-12-15'\r\n",
        "_spring_semester_start_date = '2022-01-10'\r\n",
        "_spring_semester_end_date = '2022-05-10'\r\n",
        "\r\n",
        "####################################################################\r\n",
        "_section_id = 1\r\n",
        "_student_id = 1\r\n",
        "_course_id = 1\r\n",
        "_school_id = 1\r\n",
        "_term_id = 1\r\n",
        "\r\n",
        "\r\n",
        "SUBJECTS = ['Math - Algebra', 'Math - Geometry', 'English Language', 'History - World History', \r\n",
        "             'Science Biology', 'Health', 'Technology - Programming', 'Physical Education', 'Art', 'Music']\r\n",
        "SCHOOL_TYPES = ['Elementary', 'Middle', 'High']\r\n",
        "GRADES = [(0,'Kindergarten'), (1, 'First'),(2, 'Second'),(3, 'Third'),(4, 'Fourth'),(5, 'Fifth'),(6, 'Sixth'),(7, 'Seventh'),(8,'Eigth')]\r\n",
        "ACTIONS = [('ID','In-school Suspension'),('ES','Restorative Dialogue'),('RJ','Restorative Justice'),('EY','Expelled Remainder Of School/yr'),\r\n",
        "    ('As','Tcher/parent/student Conference'),('IS','In-school Detention'),('LD','Lunch Detention'),('PC','Parent Contact'),('EL','Expelled Less Than School Year'),\r\n",
        "    ('AC','Behavior/Attendance Contract'),('VB','Verbal Warning'),('SF','Suspension 5 Days Or Less'),('RS','Referral To Social Worker'),('SM','Suspension More Than Five Days'),\r\n",
        "    ('SS','Saturday School'),('AP','Admin/Prnt/Gurdn/Stu Conference'),('RF','Referral To Counseling'),('DB','Detention Before/after School'),('LP','Loss of Privileges'),\r\n",
        "    ('IA','In-school Alternative'),('Cn','Ref Police - No charges filed'),('EN','Expelled Into Next School Year')]\r\n",
        "\r\n",
        "ATTENDANCE_TYPES = [('V','Early Completion'),('5','Parent Request Opt Out Testing'),('A','Absent (unexcused)'),('F','Field Trip'),('C','Counselor'),('X','Excused Tardy'),('I','In School Detention'),('Q','Went Home Ill'),('O','Office'),('W','Weather'),\r\n",
        "    ('6','State or District Testing'),('N','Nurse/Infirmary'),('G','Early Release/Parent'),('H','Timeout to Home'),('Y','In a Facility'),('R','Runaway'),('P','Prearranged'),('S','Suspended'),('L','Tutored-District'),('D','Enrolled in Special Program'),\r\n",
        "    ('M','SPED ONLY in school no IEP Svcs'),('J','Teacher Excused'),('E','Excused Absence'),('T','Tardy (Unexcused)'),('Pr','Present'),('K','Social Worker'),('Z','In Detention Center (SCYSC)')]\r\n",
        "\r\n",
        "INVOLVEMENTS = [('A','Accomplice'),('W','Witness'),('V','Victim'),('P','Perpetrator'),('N','Not Applicable')]\r\n",
        "\r\n",
        "INCIDENTS = [('AA1','L1 Unexcused Absences'),('ALA','L2 Abusive Lang w/Staff'),('ALP','L1 Abusive Lang/Intim w/Student'),('APL','L3 Any Act Prohibit by F/S/L Law'),\r\n",
        "    ('ASR','L2 Altering Sch/Classrm Rcrds'),('AT3','L3 3rd Degree Assault  (by adult'),('CLM','L1 Classroom Misconduct'),('CLO','L2 Continual LEVEL I Infraction'),\r\n",
        "    ('CLT','L3 Continual LEVEL II Infraction'),('CP2','L2 Campus Misconduct'),('CPM','L1 Campus Misconduct'),('DEP','L3 Destruction/Sch/Emp Prop'),('DIS','L1 Dishonesty'),\r\n",
        "    ('DSP','L2 Defacing School Prop'),('FCD','L2 Fail Complete Disc Asignmt'),('FIG','L2 Fighting'),('HA3','L3 Harassment'),('HAR','L2 Harassment'),('IDH','L1 Inappropriate Dress/Hygiene'),\r\n",
        "    ('INS','L1 Insubordination'),('IS2','L2 Insubor/open/persist defiance'),('L1E','L1 Inappropriate/Prsnl Elect Dev'),('L2B','L2 Bullying'),('L2E','L2 Inappropriate/Prsnl Elect Dev'),\r\n",
        "    ('L2P','L2 Phys Mistreatment of Studnt'),('L2V','L2 Violation of AUA'),('L3A','L3 P/U of Alcohol'),('L3D','L3 P/U of Drug Paraphernalia'),('PSV','L2 P/D/S Sched 4 or 5 substances'),\r\n",
        "    ('PU4','L4 P/U Dangerous Weapon'),('PUT','L2 P/U of  Tobacco/Simulated'),('PUW','L2 Inadvertent  Pos(Stand )Weap'),('SV2','L2 Serious Violations at School'),('SV3','L3 Serious Violations at School'),\r\n",
        "    ('THE','L2 Theft'),('ULC','L2 Unauthorized Leaving Campus'),('ULM','L3 Unlawful U/P/D/S of Marijuana'),('UNA','L2 Unexcused Absences/Truancy'),('UNT','L1 Unexcused Tardiness'),('WF3','L3 Weapon/Facsimile (Standard)')]\r\n"
      ],
      "outputs": [
        {
          "output_type": "display_data",
          "data": {
            "application/vnd.livy.statement-meta+json": {
              "spark_pool": "spark3p0smallc",
              "session_id": 17,
              "statement_id": 48,
              "state": "finished",
              "livy_statement_state": "available",
              "queued_time": "2021-08-24T18:01:39.9772499Z",
              "session_start_time": null,
              "execution_start_time": "2021-08-24T18:01:40.0610374Z",
              "execution_finish_time": "2021-08-24T18:01:40.2187597Z"
            },
            "text/plain": "StatementMeta(spark3p0smallc, 17, 48, Finished, Available)"
          },
          "metadata": {}
        },
        {
          "output_type": "stream",
          "name": "stdout",
          "text": [
            "2021-08-24 18:01:40,052 - __main__ - DEBUG - OEA initialized."
          ]
        }
      ],
      "execution_count": 48,
      "metadata": {}
    },
    {
      "cell_type": "code",
      "source": [
        "# Write out test data to stage1\r\n",
        "pdf = pd.DataFrame(ACTIONS)\r\n",
        "pdf.columns = ['ActionID', 'Action']\r\n",
        "mssparkutils.fs.put(f\"{oea.stage1np}/{_folder}/Actions.csv\", pdf.to_csv(index=False), True)\r\n",
        "\r\n",
        "pdf = pd.DataFrame(ATTENDANCE_TYPES)\r\n",
        "pdf.columns = ['AttendanceTypeID', 'Attendance Type']\r\n",
        "mssparkutils.fs.put(f\"{oea.stage1np}/{_folder}/AttendanceTypes.csv\", pdf.to_csv(index=False), True)\r\n",
        "\r\n",
        "pdf = pd.DataFrame(INVOLVEMENTS)\r\n",
        "pdf.columns = ['InvolvementCodeId', 'Involvement']\r\n",
        "mssparkutils.fs.put(f\"{oea.stage1np}/{_folder}/Involvements.csv\", pdf.to_csv(index=False), True)\r\n",
        "\r\n",
        "pdf = pd.DataFrame(INCIDENTS)\r\n",
        "pdf.columns = ['IncidentCodeID', 'Incident']\r\n",
        "mssparkutils.fs.put(f\"{oea.stage1np}/{_folder}/Incidents.csv\", pdf.to_csv(index=False), True)"
      ],
      "outputs": [
        {
          "output_type": "display_data",
          "data": {
            "application/vnd.livy.statement-meta+json": {
              "spark_pool": "spark3p0smallc",
              "session_id": 17,
              "statement_id": 49,
              "state": "finished",
              "livy_statement_state": "available",
              "queued_time": "2021-08-24T18:01:42.666771Z",
              "session_start_time": null,
              "execution_start_time": "2021-08-24T18:01:42.7489203Z",
              "execution_finish_time": "2021-08-24T18:01:45.5185923Z"
            },
            "text/plain": "StatementMeta(spark3p0smallc, 17, 49, Finished, Available)"
          },
          "metadata": {}
        },
        {
          "output_type": "stream",
          "name": "stdout",
          "text": [
            "True"
          ]
        }
      ],
      "execution_count": 49,
      "metadata": {
        "jupyter": {
          "source_hidden": false,
          "outputs_hidden": false
        },
        "nteract": {
          "transient": {
            "deleting": false
          }
        },
        "collapsed": true
      }
    },
    {
      "cell_type": "code",
      "source": [
        "def generate_data(number_of_schools):\r\n",
        "    global _school_id\r\n",
        "    schools = []\r\n",
        "    for n in range(number_of_schools):\r\n",
        "        school_info, school_data = create_school(_school_id)\r\n",
        "        write_to_data_lake(school_data)\r\n",
        "        _school_id += 1\r\n",
        "        schools.append(school_info)\r\n",
        "\r\n",
        "    # Now write out the Schools table\r\n",
        "    df = spark.createDataFrame(pd.DataFrame(schools))\r\n",
        "    mssparkutils.fs.put(f\"{oea.stage1np}/{_folder}/Schools.csv\", pdf.to_csv(index=False), True)\r\n",
        "\r\n",
        "def create_school(school_id):\r\n",
        "    school_info = {\r\n",
        "            'SchoolID':school_id,\r\n",
        "            'SchoolName':f\"{_fake.last_name()} {random.choice(SCHOOL_TYPES)}\"\r\n",
        "            }\r\n",
        "    school_data = {}            \r\n",
        "    school_data['Students'] = create_students(school_id)\r\n",
        "    school_data['Courses'] = create_courses()\r\n",
        "    school_data['Terms'] = create_terms()\r\n",
        "    school_data['Attendance'], school_data['ClassAttendance'], school_data['DailyIncidents'] = create_daily_records(school_id, school_data)\r\n",
        "    #school_data['Attendance'] = create_daily_attendance(school_id, school_data['Students'], _fall_semester_start_date, _spring_semester_end_date)\r\n",
        "    #school_data['DailyIncidents'] = create_daily_incidents(school_id, school_data['Students'], _fall_semester_start_date, _spring_semester_end_date)\r\n",
        "    #school_data['ClassAttendance'] = create_class_attendance(school_data)\r\n",
        "    return school_info, school_data\r\n",
        "\r\n",
        "def write_to_data_lake(school_data, stage=oea.stage1np):\r\n",
        "    school_attributes = {}\r\n",
        "    for entity_name, value in school_data.items():\r\n",
        "        pdf = pd.DataFrame(value)\r\n",
        "        mssparkutils.fs.put(f\"{oea.stage1np}/{_folder}/{entity_name}.csv\", pdf.to_csv(index=False), True)\r\n",
        "\r\n",
        "def create_students(school_id):\r\n",
        "  global _student_id\r\n",
        "  students = []\r\n",
        "  for n in range(_students_per_school):\r\n",
        "    students.append(create_user(school_id, _student_id, 'student'))\r\n",
        "    _student_id += 1\r\n",
        "  return students\r\n",
        "\r\n",
        "def create_user(school_id, user_id, user_type):\r\n",
        "  grade_num, grade = random.choice(GRADES)   \r\n",
        "  gender = random.choice(['Male', 'Female'])\r\n",
        "  if gender == 'Male': fname = _fake.first_name_male()\r\n",
        "  else: fname = _fake.first_name_female() \r\n",
        "\r\n",
        "  user = {\r\n",
        "      'StudentID': user_id,\r\n",
        "      'StudentName': f\"{fname} {_fake.last_name()}\",\r\n",
        "      'Gender': gender,\r\n",
        "      'FederalRaceCategory': random.choice(['Asian', 'Black', 'White', 'Hispanic', 'American Indian']),\r\n",
        "      'PrimaryLanguage': random.choices(['English', 'Spanish', 'German', 'French', 'Japanese'], weights=(85,10,2,2,1))[0],\r\n",
        "      'GradeNumber': grade_num,\r\n",
        "      'Grade': grade,\r\n",
        "      'CumulativeGPA': random.choice([0.523, 0.423, 1.13, 2.63, 2.33, 3.33, 4.0]),\r\n",
        "      'StartSchoolYear': _fall_semester_start_date,\r\n",
        "      'EndSchoolYear': _spring_semester_end_date\r\n",
        "      }\r\n",
        "  return user\r\n",
        "\r\n",
        "def create_terms():\r\n",
        "  global _term_id\r\n",
        "  terms = []\r\n",
        "  terms.append({\r\n",
        "    'TermID' : _term_id,\r\n",
        "    'TermName' : 'Fall Semester',\r\n",
        "    'TermStartDate' : _fall_semester_start_date,\r\n",
        "    'TermEndDate' : _fall_semester_end_date,\r\n",
        "    })\r\n",
        "  _term_id += 1\r\n",
        "  terms.append({\r\n",
        "    'TermID' : _term_id,\r\n",
        "    'TermName' : 'Spring Semester',\r\n",
        "    'TermStartDate' : _spring_semester_start_date,\r\n",
        "    'TermEndDate' : _spring_semester_end_date,\r\n",
        "    })\r\n",
        "  _term_id += 1\r\n",
        "  return terms\r\n",
        "\r\n",
        "def create_courses():\r\n",
        "  global _course_id\r\n",
        "  courses = []\r\n",
        "  for subject in SUBJECTS:\r\n",
        "    courses.append({\r\n",
        "      'CourseID' : _course_id,\r\n",
        "      'CourseName' : subject,\r\n",
        "      'CourseCode' : subject\r\n",
        "      })\r\n",
        "    _course_id += 1\r\n",
        "  return courses\r\n",
        "\r\n",
        "def create_daily_records(school_id, school_data):\r\n",
        "    date_range = pd.date_range(datetime.datetime.strptime(_fall_semester_start_date, \"%Y-%m-%d\"), datetime.datetime.strptime(_spring_semester_end_date, \"%Y-%m-%d\"))\r\n",
        "    daily_attendance = []\r\n",
        "    class_attendance = []\r\n",
        "    incidents = []\r\n",
        "    for student in school_data['Students']:\r\n",
        "        for single_date in date_range:\r\n",
        "            daily_attendance.append(create_daily_attendance_record(school_id, student['StudentID'], single_date))\r\n",
        "            class_attendance.append(create_class_attendance_record(school_id, student['StudentID'], single_date, school_data['Courses']))\r\n",
        "            if (random.randint(1,100)) <= 10: # 10% chance of an incident occurring\r\n",
        "              incidents.append(create_incident_record(school_id, student['StudentID'], single_date))\r\n",
        "\r\n",
        "    return (daily_attendance, class_attendance, incidents)\r\n",
        "\r\n",
        "def create_class_attendance_record(school_id, student_id, date_value, courses):\r\n",
        "    class_attendance = {\r\n",
        "          'SchoolID': school_id,\r\n",
        "          'AttendanceDate':date_value.strftime(\"%Y-%m-%d\"),\r\n",
        "          'StudentID': student_id,\r\n",
        "          'Term':'1',\r\n",
        "          'CourseID': random.choice(courses)['CourseID'],\r\n",
        "          'AttendTypeID': random.choice(ATTENDANCE_TYPES)[0]\r\n",
        "    }\r\n",
        "    return class_attendance\r\n",
        "\r\n",
        "def create_incident_record(school_id, student_id, date_value):\r\n",
        "    incident_id, incident = random.choice(INCIDENTS)\r\n",
        "    involvement_id, incident = random.choice(INVOLVEMENTS)\r\n",
        "    action_id, action = random.choice(ACTIONS)\r\n",
        "    incident_record = {\r\n",
        "            'StudentID': student_id,\r\n",
        "            'SchoolID': school_id,\r\n",
        "            'IncidentID': incident_id,\r\n",
        "            'InvolvementID': involvement_id,\r\n",
        "            'IncidentDate': date_value.strftime(\"%Y-%m-%d\"),\r\n",
        "            'ActionID': action_id\r\n",
        "    }\r\n",
        "    return incident_record \r\n",
        "\r\n",
        "def create_daily_attendance_record(school_id, student_id, date_value):\r\n",
        "    possible_periods_in_day = 6\r\n",
        "    unexcused_all_day = random.choices([0,1], weights=(80,20))[0]\r\n",
        "    if unexcused_all_day == 1: excused_all_day = 0\r\n",
        "    else: excused_all_day = random.choices([0,1], weights=(70,30))[0]\r\n",
        "\r\n",
        "    attendance_record = {\r\n",
        "        'SchoolID': school_id,\r\n",
        "        'AttendanceDate': date_value.strftime(\"%Y-%m-%d\"),\r\n",
        "        'StudentID': student_id,\r\n",
        "        'NumofPossiblePeriods': possible_periods_in_day,\r\n",
        "        'NumofTardies': random.choices([0,1,2,3,4,5,6], weights=(50, 20, 10, 5, 5, 5, 5))[0],\r\n",
        "        'NumofUnexcusedAbsent': random.choices([0,1,2,3], weights=(70, 10, 10, 10))[0],\r\n",
        "        'NumofExcusedAbsent': random.choices([0,1,2,3], weights=(60, 20, 10, 10))[0],\r\n",
        "        'UnexcusedAllDay': unexcused_all_day,\r\n",
        "        'ExcusedAllDay': excused_all_day,\r\n",
        "        'Cumulative GPA': random.choice([0.523, 0.423, 1.13, 2.63, 2.33, 3.33, 4.0])\r\n",
        "    }\r\n",
        "    return attendance_record\r\n",
        "\r\n",
        "def create_daily_attendance(school_id, students, start_date, end_date):\r\n",
        "    possible_periods_in_day = 6\r\n",
        "    date_range = pd.date_range(datetime.datetime.strptime(start_date, \"%Y-%m-%d\"), datetime.datetime.strptime(end_date, \"%Y-%m-%d\"))\r\n",
        "    attendance = []\r\n",
        "    for student in students:\r\n",
        "        for single_date in date_range:\r\n",
        "            tardies = random.choices([0,1,2,3,4,5,6], weights=(50, 20, 10, 5, 5, 5, 5))[0]\r\n",
        "            unexcused_class_absences = random.choices([0,1,2,3], weights=(70, 10, 10, 10))[0]\r\n",
        "            excused_class_absences = random.choices([0,1,2,3], weights=(60, 20, 10, 10))[0]\r\n",
        "            unexcused_all_day = random.choices([0,1], weights=(80,20))[0]\r\n",
        "            if unexcused_all_day == 1: excused_all_day = 0\r\n",
        "            else: excused_all_day = random.choices([0,1], weights=(70,30))[0]\r\n",
        "            gpa = random.choice([0.523, 0.423, 1.13, 2.63, 2.33, 3.33, 4.0])\r\n",
        "\r\n",
        "            attendance.append({\r\n",
        "                'SchoolID': school_id,\r\n",
        "                'AttendanceDate': single_date.strftime(\"%Y-%m-%d\"),\r\n",
        "                'StudentID': student['StudentID'],\r\n",
        "                'NumofPossiblePeriods': possible_periods_in_day,\r\n",
        "                'NumofTardies': tardies,\r\n",
        "                'NumofUnexcusedAbsent': unexcused_class_absences,\r\n",
        "                'NumofExcusedAbsent': excused_class_absences,\r\n",
        "                'UnexcusedAllDay': unexcused_all_day,\r\n",
        "                'ExcusedAllDay': excused_all_day,\r\n",
        "                'Cumulative GPA': gpa\r\n",
        "                }\r\n",
        "            )\r\n",
        "    return attendance\r\n",
        "\r\n",
        "def create_daily_incidents(school_id, students, start_date, end_date):\r\n",
        "    date_range = pd.date_range(datetime.datetime.strptime(start_date, \"%Y-%m-%d\"), datetime.datetime.strptime(end_date, \"%Y-%m-%d\"))\r\n",
        "    incidents = []\r\n",
        "    for student in students:\r\n",
        "        for single_date in date_range:\r\n",
        "            if (random.randint(1,100)) > 10: continue # 10% chance of an incident occurring\r\n",
        "            incident_id, incident = random.choice(INCIDENTS)\r\n",
        "            involvement_id, incident = random.choice(INVOLVEMENTS)\r\n",
        "            action_id, action = random.choice(ACTIONS)\r\n",
        "            incidents.append({\r\n",
        "                'StudentID': student['StudentID'],\r\n",
        "                'SchoolID': school_id,\r\n",
        "                'IncidentID': incident_id,\r\n",
        "                'InvolvementID': involvement_id,\r\n",
        "                'IncidentDate': single_date.strftime(\"%Y-%m-%d\"),\r\n",
        "                'ActionID': action_id\r\n",
        "                }\r\n",
        "            )\r\n",
        "    return incidents    \r\n"
      ],
      "outputs": [
        {
          "output_type": "display_data",
          "data": {
            "application/vnd.livy.statement-meta+json": {
              "spark_pool": "spark3p0smallc",
              "session_id": 17,
              "statement_id": 62,
              "state": "finished",
              "livy_statement_state": "available",
              "queued_time": "2021-08-24T18:45:19.2179506Z",
              "session_start_time": null,
              "execution_start_time": "2021-08-24T18:45:19.3762412Z",
              "execution_finish_time": "2021-08-24T18:45:19.5286327Z"
            },
            "text/plain": "StatementMeta(spark3p0smallc, 17, 62, Finished, Available)"
          },
          "metadata": {}
        },
        {
          "output_type": "stream",
          "name": "stdout",
          "text": []
        }
      ],
      "execution_count": 62,
      "metadata": {
        "jupyter": {
          "source_hidden": false,
          "outputs_hidden": false
        },
        "nteract": {
          "transient": {
            "deleting": false
          }
        },
        "collapsed": true
      }
    },
    {
      "cell_type": "code",
      "source": [
        "generate_data(2)"
      ],
      "outputs": [
        {
          "output_type": "display_data",
          "data": {
            "application/vnd.livy.statement-meta+json": {
              "spark_pool": "spark3p0smallc",
              "session_id": 17,
              "statement_id": 63,
              "state": "finished",
              "livy_statement_state": "available",
              "queued_time": "2021-08-24T18:45:25.3605902Z",
              "session_start_time": null,
              "execution_start_time": "2021-08-24T18:45:25.4536925Z",
              "execution_finish_time": "2021-08-24T18:45:28.355566Z"
            },
            "text/plain": "StatementMeta(spark3p0smallc, 17, 63, Finished, Available)"
          },
          "metadata": {}
        },
        {
          "output_type": "stream",
          "name": "stdout",
          "text": []
        }
      ],
      "execution_count": 63,
      "metadata": {
        "jupyter": {
          "source_hidden": false,
          "outputs_hidden": false
        },
        "nteract": {
          "transient": {
            "deleting": false
          }
        },
        "collapsed": true
      }
    },
    {
      "cell_type": "code",
      "source": [
        "import datetime\r\n",
        "students = create_students(1)\r\n",
        "start_date = datetime.date(2021, 1, 1)\r\n",
        "end_date = datetime.date(2021, 1, 3)\r\n",
        "\r\n",
        "attendance = create_daily_attendance(1, students, start_date, end_date)\r\n",
        "pdf = pd.DataFrame(attendance)\r\n",
        "mssparkutils.fs.put(f\"{oea.stage1np}/{_folder}/Attendance.csv\", pdf.to_csv(index=False), True) # True indicates overwrite mode\r\n",
        "\r\n",
        "incidents = create_daily_incidents(1, students, start_date, end_date)\r\n",
        "pdf = pd.DataFrame(incidents)\r\n",
        "mssparkutils.fs.put(f\"{oea.stage1np}/{_folder}/DailyIncidents.csv\", pdf.to_csv(index=False), True) "
      ],
      "outputs": [],
      "execution_count": null,
      "metadata": {
        "jupyter": {
          "source_hidden": false,
          "outputs_hidden": false
        },
        "nteract": {
          "transient": {
            "deleting": false
          }
        },
        "collapsed": true
      }
    }
  ],
  "metadata": {
    "kernelspec": {
      "name": "synapse_pyspark",
      "language": "Python",
      "display_name": "Synapse PySpark"
    },
    "language_info": {
      "name": "python"
    },
    "kernel_info": {
      "name": "synapse_pyspark"
    },
    "save_output": true,
    "synapse_widget": {
      "version": "0.1",
      "state": {}
    }
  },
  "nbformat": 4,
  "nbformat_minor": 2
}