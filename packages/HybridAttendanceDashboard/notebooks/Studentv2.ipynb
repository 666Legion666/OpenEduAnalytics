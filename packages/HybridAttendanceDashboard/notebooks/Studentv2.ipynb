{
  "cells": [
    {
      "cell_type": "markdown",
      "source": [
        "# Student demographics table\r\n",
        "\r\n",
        "### Notebook purpose:\r\n",
        "- Create student table containing all student demographic information.\r\n",
        "\r\n",
        "### Tables used: \r\n",
        "- Spark DB: s3_m365 (stage 3 m365 feed)\r\n",
        "    - Table: person (student PersonId and ExternalId relationship)\r\n",
        "- Spark DB: PLISQL (stage 3 PLI student and teacher data)\r\n",
        "    - Table: tblPLIMSProfileStu (student SIS data and demographics)\r\n",
        "- Spark DB: datasense (stage 3 SIS data)\r\n",
        "    - Table: school (school ID to school name mapping)\r\n",
        "    - Table: studentattendance (student attendance by date, school, and course section)\r\n",
        "\r\n",
        "### Tables created:\r\n",
        "- Spark DB: ds3_main (stage 3 data science main)\r\n",
        "    - Table: Student (combined student demographic data)"
      ],
      "metadata": {}
    },
    {
      "cell_type": "code",
      "source": [
        "from pyspark.sql.functions import *\n",
        "from pyspark.sql.window import Window\n",
        "\n",
        "# data lake and container information\n",
        "storage_account = 'saeduanalytics'\n",
        "stage1 = f'abfss://stage1@{storage_account}.dfs.core.windows.net'\n",
        "stage2 = f'abfss://stage2@{storage_account}.dfs.core.windows.net'\n",
        "stage3 = f'abfss://stage3@{storage_account}.dfs.core.windows.net'"
      ],
      "outputs": [
        {
          "output_type": "display_data",
          "data": {
            "application/vnd.livy.statement-meta+json": {
              "spark_pool": "spark3",
              "session_id": 112,
              "statement_id": 1,
              "state": "finished",
              "livy_statement_state": "available",
              "queued_time": "2021-07-20T17:07:45.8761873Z",
              "session_start_time": "2021-07-20T17:07:45.9065929Z",
              "execution_start_time": "2021-07-20T17:09:55.3873993Z",
              "execution_finish_time": "2021-07-20T17:09:57.4441958Z"
            },
            "text/plain": "StatementMeta(spark3, 112, 1, Finished, Available)"
          },
          "metadata": {}
        },
        {
          "output_type": "stream",
          "name": "stdout",
          "text": []
        }
      ],
      "execution_count": 1,
      "metadata": {}
    },
    {
      "cell_type": "markdown",
      "source": [
        "## Raw Data from Lake\n"
      ],
      "metadata": {}
    },
    {
      "cell_type": "code",
      "source": [
        "# load table from parquet data lake storage\n",
        "dfPersonRaw = spark.read.format('parquet').load(f'{stage3}/m365/Person')\n",
        "dfStudentRaw = spark.read.format('parquet').load(f'{stage3}/PLISQL/Year4/dbo.tblPLIMSProfileStu')\n",
        "dfStudAttendanceRaw = spark.read.format('parquet').load(f'{stage3}/datasense_2021_06_11/studentattendance')\n",
        "dfSchoolRaw = spark.read.format('parquet').load(f'{stage3}/datasense_2021_06_11/school')"
      ],
      "outputs": [
        {
          "output_type": "display_data",
          "data": {
            "application/vnd.livy.statement-meta+json": {
              "spark_pool": "spark3",
              "session_id": 111,
              "statement_id": 3,
              "state": "finished",
              "livy_statement_state": "available",
              "queued_time": "2021-07-20T15:52:54.0195785Z",
              "session_start_time": null,
              "execution_start_time": "2021-07-20T15:52:54.1274942Z",
              "execution_finish_time": "2021-07-20T15:53:10.6940812Z"
            },
            "text/plain": "StatementMeta(spark3, 111, 3, Finished, Available)"
          },
          "metadata": {}
        },
        {
          "output_type": "stream",
          "name": "stdout",
          "text": []
        }
      ],
      "execution_count": 3,
      "metadata": {}
    },
    {
      "cell_type": "markdown",
      "source": [
        "## Clean and Subset Data"
      ],
      "metadata": {
        "nteract": {
          "transient": {
            "deleting": false
          }
        }
      }
    },
    {
      "cell_type": "code",
      "source": [
        "# take only active students\r\n",
        "dfPerson = dfPersonRaw.filter(dfPersonRaw.IsActive == 'True')\r\n",
        "\r\n",
        "# take only needed columns and rename\r\n",
        "dfPerson = dfPerson.select('Id','ExternalId')\r\n",
        "dfPerson = dfPerson.withColumnRenamed('Id','PersonId')"
      ],
      "outputs": [
        {
          "output_type": "display_data",
          "data": {
            "application/vnd.livy.statement-meta+json": {
              "spark_pool": "spark3",
              "session_id": 111,
              "statement_id": 4,
              "state": "finished",
              "livy_statement_state": "available",
              "queued_time": "2021-07-20T15:52:54.1954951Z",
              "session_start_time": null,
              "execution_start_time": "2021-07-20T15:53:10.7872191Z",
              "execution_finish_time": "2021-07-20T15:53:12.8443371Z"
            },
            "text/plain": "StatementMeta(spark3, 111, 4, Finished, Available)"
          },
          "metadata": {}
        },
        {
          "output_type": "stream",
          "name": "stdout",
          "text": []
        }
      ],
      "execution_count": 4,
      "metadata": {
        "jupyter": {
          "source_hidden": false,
          "outputs_hidden": false
        },
        "nteract": {
          "transient": {
            "deleting": false
          }
        },
        "collapsed": true
      }
    },
    {
      "cell_type": "code",
      "source": [
        "# rename columns to align with other data sources\n",
        "dfStudent = dfStudentRaw\n",
        "dfStudent = dfStudent.withColumnRenamed('StudentID','ExternalId')\n",
        "dfStudent.show(2,vertical=True)"
      ],
      "outputs": [
        {
          "output_type": "display_data",
          "data": {
            "application/vnd.livy.statement-meta+json": {
              "spark_pool": "spark3",
              "session_id": 111,
              "statement_id": 5,
              "state": "finished",
              "livy_statement_state": "available",
              "queued_time": "2021-07-20T15:52:54.5015026Z",
              "session_start_time": null,
              "execution_start_time": "2021-07-20T15:53:12.9585252Z",
              "execution_finish_time": "2021-07-20T15:53:17.090881Z"
            },
            "text/plain": "StatementMeta(spark3, 111, 5, Finished, Available)"
          },
          "metadata": {}
        },
        {
          "output_type": "stream",
          "name": "stdout",
          "text": [
            "-RECORD 0------------------------------------\n",
            " ExternalId           | 330e8381d384fa727... \n",
            " SchoolYear           | 124                  \n",
            " GraduationYear       | 2017                 \n",
            " Grade                | 12                   \n",
            " GradeName            | 12th                 \n",
            " GradeDescription     | Twelfth Grade        \n",
            " ELL_Status           | English Learner      \n",
            " Homeless             | null                 \n",
            " FosterYouth          | null                 \n",
            " SpecialEducation     | Special Day Class    \n",
            " SpecialEducationType | SDC                  \n",
            " GATELabel            | null                 \n",
            " Migrant              | null                 \n",
            " ParentEducation      | Declined to state    \n",
            " LowIncome            | No                   \n",
            "-RECORD 1------------------------------------\n",
            " ExternalId           | e6a0ccce3f5d9ee2c... \n",
            " SchoolYear           | 124                  \n",
            " GraduationYear       | 2020                 \n",
            " Grade                | 12                   \n",
            " GradeName            | 12th                 \n",
            " GradeDescription     | Twelfth Grade        \n",
            " ELL_Status           | Redesignated Flue... \n",
            " Homeless             | null                 \n",
            " FosterYouth          | null                 \n",
            " SpecialEducation     | Special Day Class    \n",
            " SpecialEducationType | SDC                  \n",
            " GATELabel            | null                 \n",
            " Migrant              | null                 \n",
            " ParentEducation      | Not a High School... \n",
            " LowIncome            | Yes                  \n",
            "only showing top 2 rows"
          ]
        }
      ],
      "execution_count": 5,
      "metadata": {}
    },
    {
      "cell_type": "code",
      "source": [
        "# rename columns to align with other data sources\r\n",
        "dfStudAttendance = dfStudAttendanceRaw.select('student_id', 'school_id', 'attendance_date', 'Period', 'section_id', \r\n",
        "                        'PresenceFlag', 'attendance_status')\r\n",
        "dfStudAttendance = dfStudAttendance.withColumnRenamed('school_id', 'School_ID')\r\n",
        "dfStudAttendance = dfStudAttendance.withColumnRenamed('student_id','ExternalId')\r\n",
        "dfStudAttendance.show(1, vertical=True)"
      ],
      "outputs": [
        {
          "output_type": "display_data",
          "data": {
            "application/vnd.livy.statement-meta+json": {
              "spark_pool": "spark3",
              "session_id": 111,
              "statement_id": 6,
              "state": "finished",
              "livy_statement_state": "available",
              "queued_time": "2021-07-20T15:52:54.9856549Z",
              "session_start_time": null,
              "execution_start_time": "2021-07-20T15:53:17.2091858Z",
              "execution_finish_time": "2021-07-20T15:53:21.3191282Z"
            },
            "text/plain": "StatementMeta(spark3, 111, 6, Finished, Available)"
          },
          "metadata": {}
        },
        {
          "output_type": "stream",
          "name": "stdout",
          "text": [
            "-RECORD 0---------------------------------\n",
            " ExternalId        | abdf2ab11f6ed9f20... \n",
            " School_ID         | 95                   \n",
            " attendance_date   | 2021-03-16 00:00:00  \n",
            " Period            | 05                   \n",
            " section_id        | 1023760              \n",
            " PresenceFlag      | 1                    \n",
            " attendance_status | Present              \n",
            "only showing top 1 row"
          ]
        }
      ],
      "execution_count": 6,
      "metadata": {
        "jupyter": {
          "source_hidden": false,
          "outputs_hidden": false
        },
        "nteract": {
          "transient": {
            "deleting": false
          }
        },
        "collapsed": true
      }
    },
    {
      "cell_type": "code",
      "source": [
        "# rename columns to align with other data sources\r\n",
        "dfSchool = dfSchoolRaw.select('id', 'name')\r\n",
        "dfSchool = dfSchool.withColumnRenamed('id', 'School_ID')\r\n",
        "dfSchool = dfSchool.withColumnRenamed('name', 'School_Name')"
      ],
      "outputs": [
        {
          "output_type": "display_data",
          "data": {
            "application/vnd.livy.statement-meta+json": {
              "spark_pool": "spark3",
              "session_id": 111,
              "statement_id": 7,
              "state": "finished",
              "livy_statement_state": "available",
              "queued_time": "2021-07-20T15:52:55.2285972Z",
              "session_start_time": null,
              "execution_start_time": "2021-07-20T15:53:21.4188474Z",
              "execution_finish_time": "2021-07-20T15:53:23.4752064Z"
            },
            "text/plain": "StatementMeta(spark3, 111, 7, Finished, Available)"
          },
          "metadata": {}
        },
        {
          "output_type": "stream",
          "name": "stdout",
          "text": []
        }
      ],
      "execution_count": 7,
      "metadata": {
        "jupyter": {
          "source_hidden": false,
          "outputs_hidden": false
        },
        "nteract": {
          "transient": {
            "deleting": false
          }
        },
        "collapsed": true
      }
    },
    {
      "cell_type": "code",
      "source": [
        "dfStudAttendance = dfStudAttendance.join(dfSchool, 'School_ID')\r\n",
        "dfStudAttendance.show(1,vertical=True, truncate=False)"
      ],
      "outputs": [
        {
          "output_type": "display_data",
          "data": {
            "application/vnd.livy.statement-meta+json": {
              "spark_pool": "spark3",
              "session_id": 111,
              "statement_id": 8,
              "state": "finished",
              "livy_statement_state": "available",
              "queued_time": "2021-07-20T15:52:55.7148821Z",
              "session_start_time": null,
              "execution_start_time": "2021-07-20T15:53:23.5637594Z",
              "execution_finish_time": "2021-07-20T15:53:27.682035Z"
            },
            "text/plain": "StatementMeta(spark3, 111, 8, Finished, Available)"
          },
          "metadata": {}
        },
        {
          "output_type": "stream",
          "name": "stdout",
          "text": [
            "-RECORD 0-----------------------------------------------------------------------------\n",
            " School_ID         | 95                                                               \n",
            " ExternalId        | abdf2ab11f6ed9f202df67f62cc312f7ab760e0ae3ef6293dfa70904a07894d7 \n",
            " attendance_date   | 2021-03-16 00:00:00                                              \n",
            " Period            | 05                                                               \n",
            " section_id        | 1023760                                                          \n",
            " PresenceFlag      | 1                                                                \n",
            " attendance_status | Present                                                          \n",
            " School_Name       | Hoover High                                                      \n",
            "only showing top 1 row"
          ]
        }
      ],
      "execution_count": 8,
      "metadata": {
        "jupyter": {
          "source_hidden": false,
          "outputs_hidden": false
        },
        "nteract": {
          "transient": {
            "deleting": false
          }
        },
        "collapsed": true
      }
    },
    {
      "cell_type": "markdown",
      "source": [
        "## Find Primary School\r\n",
        "\r\n",
        "This creates a 1 to 1 relationship between student in school which enables Power BI dashboard functionality."
      ],
      "metadata": {
        "nteract": {
          "transient": {
            "deleting": false
          }
        }
      }
    },
    {
      "cell_type": "code",
      "source": [
        "# find school which students have highest attendance count\r\n",
        "df = (dfStudAttendance.groupBy(\"ExternalId\", 'School_ID', 'School_Name')\r\n",
        "    .agg(sum(\"PresenceFlag\").alias(\"Present_Count\")))\r\n",
        "\r\n",
        "\r\n",
        "w = Window.partitionBy('ExternalId')\r\n",
        "dfStudSchoolPrimary = df.withColumn('maxPres', max('Present_Count').over(w))\\\r\n",
        "    .where(col('Present_Count') == col('maxPres'))\\\r\n",
        "    .drop('maxPres').drop('Present_Count')\r\n",
        "\r\n",
        "print(dfStudSchoolPrimary.show(10, vertical=True))"
      ],
      "outputs": [
        {
          "output_type": "display_data",
          "data": {
            "application/vnd.livy.statement-meta+json": {
              "spark_pool": "spark3",
              "session_id": 111,
              "statement_id": 9,
              "state": "finished",
              "livy_statement_state": "available",
              "queued_time": "2021-07-20T15:52:55.8989068Z",
              "session_start_time": null,
              "execution_start_time": "2021-07-20T15:53:27.7767543Z",
              "execution_finish_time": "2021-07-20T15:53:48.4457584Z"
            },
            "text/plain": "StatementMeta(spark3, 111, 9, Finished, Available)"
          },
          "metadata": {}
        },
        {
          "output_type": "stream",
          "name": "stdout",
          "text": [
            "-RECORD 0---------------------------\n",
            " ExternalId  | 002ec057c07a9b1b8... \n",
            " School_ID   | 78                   \n",
            " School_Name | Bullard Talent K-8   \n",
            "-RECORD 1---------------------------\n",
            " ExternalId  | 020ce7c083af2686d... \n",
            " School_ID   | 41                   \n",
            " School_Name | Thomas Elementary    \n",
            "-RECORD 2---------------------------\n",
            " ExternalId  | 028dc842ba82365bd... \n",
            " School_ID   | 17                   \n",
            " School_Name | Ewing Elementary     \n",
            "-RECORD 3---------------------------\n",
            " ExternalId  | 04c3641e7e3510679... \n",
            " School_ID   | 64                   \n",
            " School_Name | Storey Elementary    \n",
            "-RECORD 4---------------------------\n",
            " ExternalId  | 04eabd1cca8e90a70... \n",
            " School_ID   | 16                   \n",
            " School_Name | Ericson Elementary   \n",
            "-RECORD 5---------------------------\n",
            " ExternalId  | 066eb80bd1af4a559... \n",
            " School_ID   | 31                   \n",
            " School_Name | Manchester Gate E... \n",
            "-RECORD 6---------------------------\n",
            " ExternalId  | 06de2e7133146af12... \n",
            " School_ID   | 74                   \n",
            " School_Name | Kings Canyon Middle  \n",
            "-RECORD 7---------------------------\n",
            " ExternalId  | 07ceb1ae986ae192c... \n",
            " School_ID   | 95                   \n",
            " School_Name | Hoover High          \n",
            "-RECORD 8---------------------------\n",
            " ExternalId  | 0817eb25c11722a43... \n",
            " School_ID   | 34                   \n",
            " School_Name | Norseman Elementary  \n",
            "-RECORD 9---------------------------\n",
            " ExternalId  | 086db5b5b630fed51... \n",
            " School_ID   | 92                   \n",
            " School_Name | Fresno High          \n",
            "only showing top 10 rows\n",
            "\n",
            "None"
          ]
        }
      ],
      "execution_count": 9,
      "metadata": {
        "jupyter": {
          "source_hidden": false,
          "outputs_hidden": false
        },
        "nteract": {
          "transient": {
            "deleting": false
          }
        },
        "collapsed": true
      }
    },
    {
      "cell_type": "code",
      "source": [
        "# rename columns to indicate primary school\r\n",
        "dfStudSchoolPrimary = dfStudSchoolPrimary.withColumnRenamed('School_Name', 'School_Name_Primary')\r\n",
        "dfStudSchoolPrimary = dfStudSchoolPrimary.withColumnRenamed('School_ID', 'School_ID_Primary')"
      ],
      "outputs": [
        {
          "output_type": "display_data",
          "data": {
            "application/vnd.livy.statement-meta+json": {
              "spark_pool": "spark3",
              "session_id": 111,
              "statement_id": 10,
              "state": "finished",
              "livy_statement_state": "available",
              "queued_time": "2021-07-20T15:52:56.0868243Z",
              "session_start_time": null,
              "execution_start_time": "2021-07-20T15:53:48.5450179Z",
              "execution_finish_time": "2021-07-20T15:53:50.5974652Z"
            },
            "text/plain": "StatementMeta(spark3, 111, 10, Finished, Available)"
          },
          "metadata": {}
        },
        {
          "output_type": "stream",
          "name": "stdout",
          "text": []
        }
      ],
      "execution_count": 10,
      "metadata": {
        "jupyter": {
          "source_hidden": false,
          "outputs_hidden": false
        },
        "nteract": {
          "transient": {
            "deleting": false
          }
        },
        "collapsed": true
      }
    },
    {
      "cell_type": "markdown",
      "source": [
        "## Combine tables"
      ],
      "metadata": {
        "nteract": {
          "transient": {
            "deleting": false
          }
        }
      }
    },
    {
      "cell_type": "code",
      "source": [
        "dfStudentFinal = dfPerson.join(dfStudent, 'ExternalId')\r\n",
        "dfStudentFinal = dfStudentFinal.join(dfStudSchoolPrimary, 'ExternalId')\r\n",
        "dfStudentFinal.show(1, vertical=True, truncate=False)"
      ],
      "outputs": [
        {
          "output_type": "display_data",
          "data": {
            "application/vnd.livy.statement-meta+json": {
              "spark_pool": "spark3",
              "session_id": 111,
              "statement_id": 11,
              "state": "finished",
              "livy_statement_state": "available",
              "queued_time": "2021-07-20T15:52:56.3152126Z",
              "session_start_time": null,
              "execution_start_time": "2021-07-20T15:53:50.6927774Z",
              "execution_finish_time": "2021-07-20T15:54:09.2574733Z"
            },
            "text/plain": "StatementMeta(spark3, 111, 11, Finished, Available)"
          },
          "metadata": {}
        },
        {
          "output_type": "stream",
          "name": "stdout",
          "text": [
            "-RECORD 0--------------------------------------------------------------------------------\n",
            " ExternalId           | 002ec057c07a9b1b8823570a80d974ec21b34f8e0dd59424ee28ed6224f25088 \n",
            " PersonId             | 01e0084cdd9d55f45986b616a6af4a8886450855bb2d0e0ce77a4e48f0a8a603 \n",
            " SchoolYear           | 124                                                              \n",
            " GraduationYear       | null                                                             \n",
            " Grade                | 01                                                               \n",
            " GradeName            | 1st                                                              \n",
            " GradeDescription     | First Grade                                                      \n",
            " ELL_Status           | null                                                             \n",
            " Homeless             | null                                                             \n",
            " FosterYouth          | null                                                             \n",
            " SpecialEducation     | null                                                             \n",
            " SpecialEducationType | null                                                             \n",
            " GATELabel            | null                                                             \n",
            " Migrant              | null                                                             \n",
            " ParentEducation      | Graduate School / Post Graduate Training                         \n",
            " LowIncome            | Yes                                                              \n",
            " School_ID_Primary    | 78                                                               \n",
            " School_Name_Primary  | Bullard Talent K-8                                               \n",
            "only showing top 1 row"
          ]
        }
      ],
      "execution_count": 11,
      "metadata": {
        "jupyter": {
          "source_hidden": false,
          "outputs_hidden": false
        },
        "nteract": {
          "transient": {
            "deleting": false
          }
        },
        "collapsed": true
      }
    },
    {
      "cell_type": "markdown",
      "source": [
        "## Write Data Back to Lake"
      ],
      "metadata": {
        "nteract": {
          "transient": {
            "deleting": false
          }
        }
      }
    },
    {
      "cell_type": "code",
      "source": [
        "# write back to the lake\n",
        "dfStudentFinal.write.format('parquet').mode('overwrite').save(stage3 + '/ds3_main/Studentv2')"
      ],
      "outputs": [
        {
          "output_type": "display_data",
          "data": {
            "application/vnd.livy.statement-meta+json": {
              "spark_pool": "spark3",
              "session_id": 111,
              "statement_id": 12,
              "state": "finished",
              "livy_statement_state": "available",
              "queued_time": "2021-07-20T15:52:56.5023391Z",
              "session_start_time": null,
              "execution_start_time": "2021-07-20T15:54:09.3455401Z",
              "execution_finish_time": "2021-07-20T15:54:38.2567222Z"
            },
            "text/plain": "StatementMeta(spark3, 111, 12, Finished, Available)"
          },
          "metadata": {}
        },
        {
          "output_type": "stream",
          "name": "stdout",
          "text": []
        }
      ],
      "execution_count": 12,
      "metadata": {
        "jupyter": {
          "source_hidden": false,
          "outputs_hidden": false
        },
        "nteract": {
          "transient": {
            "deleting": false
          }
        },
        "collapsed": true
      }
    },
    {
      "cell_type": "markdown",
      "source": [
        "## Load to Spark DB"
      ],
      "metadata": {
        "nteract": {
          "transient": {
            "deleting": false
          }
        }
      }
    },
    {
      "cell_type": "code",
      "source": [
        "# Create spark db to allow for access to the data in the delta-lake via SQL on-demand.\r\n",
        "# This is only creating metadata for SQL on-demand, pointing to the data in the delta-lake.\r\n",
        "# This also makes it possible to connect in Power BI via the azure sql data source connector.\r\n",
        "def create_spark_db(db_name, source_path):\r\n",
        "    spark.sql(f'CREATE DATABASE IF NOT EXISTS {db_name}')\r\n",
        "    spark.sql(f\"DROP TABLE IF EXISTS {db_name}.Student\")\r\n",
        "    spark.sql(f\"create table if not exists {db_name}.Student using PARQUET location '{source_path}/Student'\")\r\n",
        "    \r\n",
        "create_spark_db('ds3_main', stage3 + '/ds3_main')"
      ],
      "outputs": [
        {
          "output_type": "display_data",
          "data": {
            "application/vnd.livy.statement-meta+json": {
              "spark_pool": "spark3",
              "session_id": 111,
              "statement_id": 13,
              "state": "finished",
              "livy_statement_state": "available",
              "queued_time": "2021-07-20T15:52:56.6733811Z",
              "session_start_time": null,
              "execution_start_time": "2021-07-20T15:54:38.3502442Z",
              "execution_finish_time": "2021-07-20T15:54:46.5989623Z"
            },
            "text/plain": "StatementMeta(spark3, 111, 13, Finished, Available)"
          },
          "metadata": {}
        },
        {
          "output_type": "stream",
          "name": "stdout",
          "text": []
        }
      ],
      "execution_count": 13,
      "metadata": {}
    },
    {
      "cell_type": "code",
      "source": [],
      "outputs": [],
      "execution_count": null,
      "metadata": {
        "jupyter": {
          "source_hidden": false,
          "outputs_hidden": false
        },
        "nteract": {
          "transient": {
            "deleting": false
          }
        },
        "collapsed": true
      }
    }
  ],
  "metadata": {
    "kernelspec": {
      "name": "synapse_pyspark",
      "language": "Python",
      "display_name": "Synapse PySpark"
    },
    "language_info": {
      "name": "python"
    },
    "kernel_info": {
      "name": "synapse_pyspark"
    },
    "save_output": true,
    "synapse_widget": {
      "version": "0.1",
      "state": {}
    }
  },
  "nbformat": 4,
  "nbformat_minor": 2
}