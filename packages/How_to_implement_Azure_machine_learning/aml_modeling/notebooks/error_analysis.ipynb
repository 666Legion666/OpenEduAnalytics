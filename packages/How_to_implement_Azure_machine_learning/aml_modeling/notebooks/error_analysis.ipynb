{
 "cells": [
  {
   "cell_type": "code",
   "execution_count": null,
   "metadata": {},
   "outputs": [],
   "source": [
    "from raiwidgets import ErrorAnalysisDashboard\n",
    "from azureml.core import Workspace, Dataset\n",
    "\n",
    "subscription_id = '##############'\n",
    "resource_group = '##############'\n",
    "workspace_name = '##############'\n",
    "\n",
    "results_name = 'model-##############-results'\n",
    "label_indicator = 'Label'\n",
    "prediction_indicator = 'Prediction'\n",
    "\n",
    "workspace = Workspace(subscription_id, resource_group, workspace_name)\n",
    "\n",
    "dataset = Dataset.get_by_name(workspace, name=results_name)\n",
    "dataset = dataset.to_pandas_dataframe()\n",
    "\n",
    "X_test = dataset.drop([label_indicator, prediction_indicator], axis=1)\n",
    "\n",
    "ErrorAnalysisDashboard(dataset = X_test, true_y=dataset[label_indicator], pred_y=dataset[prediction_indicator], features=X_test.columns, max_depth=3)"
   ]
  }
 ],
 "metadata": {
  "language_info": {
   "name": "python"
  },
  "orig_nbformat": 4
 },
 "nbformat": 4,
 "nbformat_minor": 2
}
