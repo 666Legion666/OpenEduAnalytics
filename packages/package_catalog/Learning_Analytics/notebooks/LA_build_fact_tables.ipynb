{
  "cells": [
    {
      "cell_type": "markdown",
      "source": [
        "# Learning Analytics Package: Build Fact Tables\r\n",
        "\r\n",
        "Builds the fact table used for the Learning Analytics package **v1.0** dashboard, in the context of using the Higher Ed. test data from Microsoft Education Insights data, and Microsoft Graph meeting attendance data.\r\n",
        "\r\n",
        "The following tables are created in each of the steps outlined below:\r\n",
        "\r\n",
        "1. fact_Enrollment\r\n",
        "2. fact_MeetingAttendance\r\n",
        "3. fact_Assignment\r\n",
        "4. fact_Activity\r\n",
        "\r\n",
        "This package-notebook also uses two methods (defined and outlined below; same as the LA_build_dimension_tables notebook):\r\n",
        " - **_publish_to_stage2**: uses the OEA_py function *upsert* to land the current dataframe in stage2/Enriched\r\n",
        " - **publish**: uses the method above to land the package fact tables in stage2, then writes the same table to stage3/Published. Delta checkpoints are landed in the respective stage2/Enriched directory."
      ],
      "metadata": {
        "nteract": {
          "transient": {
            "deleting": false
          }
        }
      }
    },
    {
      "cell_type": "code",
      "source": [
        "workspace = 'dev'"
      ],
      "outputs": [
        {
          "output_type": "display_data",
          "data": {
            "application/vnd.livy.statement-meta+json": {
              "spark_pool": "spark3p2med",
              "session_id": "59",
              "statement_id": 1,
              "state": "finished",
              "livy_statement_state": "available",
              "queued_time": "2023-01-11T18:51:34.5151589Z",
              "session_start_time": "2023-01-11T18:51:34.5652712Z",
              "execution_start_time": "2023-01-11T18:52:19.5940683Z",
              "execution_finish_time": "2023-01-11T18:52:19.7932845Z",
              "spark_jobs": null
            },
            "text/plain": "StatementMeta(spark3p2med, 59, 1, Finished, Available)"
          },
          "metadata": {}
        }
      ],
      "execution_count": 48,
      "metadata": {
        "jupyter": {
          "source_hidden": false,
          "outputs_hidden": false
        },
        "nteract": {
          "transient": {
            "deleting": false
          }
        },
        "tags": [
          "parameters"
        ]
      }
    },
    {
      "cell_type": "code",
      "source": [
        "%run OEA_py"
      ],
      "outputs": [
        {
          "output_type": "display_data",
          "data": {
            "application/vnd.livy.statement-meta+json": {
              "spark_pool": null,
              "session_id": "59",
              "statement_id": -1,
              "state": "finished",
              "livy_statement_state": "available",
              "queued_time": "2023-01-11T18:51:34.5203575Z",
              "session_start_time": null,
              "execution_start_time": "2023-01-11T18:52:20.7775526Z",
              "execution_finish_time": "2023-01-11T18:52:20.7778197Z",
              "spark_jobs": null
            },
            "text/plain": "StatementMeta(, 59, -1, Finished, Available)"
          },
          "metadata": {}
        },
        {
          "output_type": "stream",
          "name": "stdout",
          "text": [
            "2023-01-11 18:52:20,470 - OEA - INFO - Now using workspace: dev\n2023-01-11 18:52:20,472 - OEA - INFO - OEA initialized.\n"
          ]
        }
      ],
      "execution_count": 49,
      "metadata": {
        "jupyter": {
          "source_hidden": false,
          "outputs_hidden": false
        },
        "nteract": {
          "transient": {
            "deleting": false
          }
        }
      }
    },
    {
      "cell_type": "code",
      "source": [
        "# set the workspace (this determines where in the data lake you'll be writing to and reading from).\r\n",
        "# You can work in 'dev', 'prod', or a sandbox with any name you choose.\r\n",
        "# For example, Sam the developer can create a 'sam' workspace and expect to find his datasets in the data lake under oea/sandboxes/sam\r\n",
        "oea.set_workspace(workspace)"
      ],
      "outputs": [
        {
          "output_type": "display_data",
          "data": {
            "application/vnd.livy.statement-meta+json": {
              "spark_pool": "spark3p2med",
              "session_id": "59",
              "statement_id": 3,
              "state": "finished",
              "livy_statement_state": "available",
              "queued_time": "2023-01-11T18:51:34.5279831Z",
              "session_start_time": null,
              "execution_start_time": "2023-01-11T18:52:20.8782975Z",
              "execution_finish_time": "2023-01-11T18:52:21.0415072Z",
              "spark_jobs": null
            },
            "text/plain": "StatementMeta(spark3p2med, 59, 3, Finished, Available)"
          },
          "metadata": {}
        },
        {
          "output_type": "stream",
          "name": "stdout",
          "text": [
            "2023-01-11 18:52:20,864 - OEA - INFO - Now using workspace: dev\n"
          ]
        }
      ],
      "execution_count": 50,
      "metadata": {
        "jupyter": {
          "source_hidden": false,
          "outputs_hidden": false
        },
        "nteract": {
          "transient": {
            "deleting": false
          }
        }
      }
    },
    {
      "cell_type": "markdown",
      "source": [
        "## 0.) Define the Publish Function"
      ],
      "metadata": {
        "nteract": {
          "transient": {
            "deleting": false
          }
        }
      }
    },
    {
      "cell_type": "code",
      "source": [
        "def _publish_to_stage2(df, destination, pk):\r\n",
        "    oea.upsert(df, destination, pk)\r\n",
        "\r\n",
        "def publish(df, stage2_destination, stage3_destination, primary_key='id'):\r\n",
        "    _publish_to_stage2(df, stage2_destination, primary_key)\r\n",
        "\r\n",
        "    spark.sql(\"set spark.sql.streaming.schemaInference=true\")\r\n",
        "    streaming_df = spark.readStream.format('delta').load(oea.to_url(stage2_destination))\r\n",
        "    # for more info on append vs complete vs update modes for structured streaming: https://spark.apache.org/docs/latest/structured-streaming-programming-guide.html#basic-concepts\r\n",
        "    query = streaming_df.writeStream.format('delta').outputMode('append').trigger(once=True).option('checkpointLocation', oea.to_url(stage2_destination) + '/_checkpoints')\r\n",
        "    query = query.start(oea.to_url(stage3_destination))\r\n",
        "    query.awaitTermination()   # block until query is terminated, with stop() or with error; A StreamingQueryException will be thrown if an exception occurs.\r\n",
        "    number_of_new_inbound_rows = query.lastProgress[\"numInputRows\"]\r\n",
        "    logger.info(f'Number of new inbound rows processed: {number_of_new_inbound_rows}')\r\n",
        "    logger.debug(query.lastProgress)\r\n",
        "    return number_of_new_inbound_rows"
      ],
      "outputs": [
        {
          "output_type": "display_data",
          "data": {
            "application/vnd.livy.statement-meta+json": {
              "spark_pool": "spark3p2med",
              "session_id": "59",
              "statement_id": 4,
              "state": "finished",
              "livy_statement_state": "available",
              "queued_time": "2023-01-11T18:51:34.545698Z",
              "session_start_time": null,
              "execution_start_time": "2023-01-11T18:52:21.2035852Z",
              "execution_finish_time": "2023-01-11T18:52:21.3685559Z",
              "spark_jobs": null
            },
            "text/plain": "StatementMeta(spark3p2med, 59, 4, Finished, Available)"
          },
          "metadata": {}
        }
      ],
      "execution_count": 51,
      "metadata": {
        "jupyter": {
          "source_hidden": false,
          "outputs_hidden": false
        },
        "nteract": {
          "transient": {
            "deleting": false
          }
        }
      }
    },
    {
      "cell_type": "markdown",
      "source": [
        "## 1.) Build fact_Enrollment Table\r\n",
        "\r\n",
        "Data aggregations and curation on Insights roster data: Enrollment (as well as others).\r\n",
        "\r\n",
        "This table has one row per student enrollment in a section from the Insights roster data, with details around:\r\n",
        " - enrollment ID (unique ID per student enrolled in a section),\r\n",
        " - school ID (Id from Organization table),\r\n",
        " - course ID (course that the section belongs to),\r\n",
        " - section ID,\r\n",
        " - instructor ID (that section's instructor)\r\n",
        " - student ID (previously, student internal ID or PersonId from Person table), and\r\n",
        " - student section entry and exit date (from Insights Enrollment table).\r\n",
        "\r\n",
        "This table is then written out to```(stage2 and stage3)/(Enriched and Published)/learning_analytics/v1.0/general/fact_Enrollment```.\r\n",
        "\r\n",
        "**FIX ENTRY AND EXIT DATE COLUMNS**"
      ],
      "metadata": {
        "nteract": {
          "transient": {
            "deleting": false
          }
        }
      }
    },
    {
      "cell_type": "code",
      "source": [
        "dfInsights_aadgroup = oea.load('stage2/Refined/M365/v1.14/general/AadGroup')\r\n",
        "dfInsights_activity = oea.load('stage2/Refined/M365/v1.14/general/activity')\r\n",
        "dfInsights_enrollment = oea.load('stage2/Refined/M365/v1.14/general/Enrollment')\r\n",
        "dfInsights_section = oea.load('stage2/Refined/M365/v1.14/general/Section')\r\n",
        "# lookup(s)\r\n",
        "dfInsights_aadgroup_np = oea.load('stage2/Refined/M365/v1.14/sensitive/AadGroup_lookup')"
      ],
      "outputs": [
        {
          "output_type": "display_data",
          "data": {
            "application/vnd.livy.statement-meta+json": {
              "spark_pool": "spark3p2med",
              "session_id": "59",
              "statement_id": 5,
              "state": "finished",
              "livy_statement_state": "available",
              "queued_time": "2023-01-11T18:52:23.079566Z",
              "session_start_time": null,
              "execution_start_time": "2023-01-11T18:52:23.1946075Z",
              "execution_finish_time": "2023-01-11T18:52:54.509421Z",
              "spark_jobs": null
            },
            "text/plain": "StatementMeta(spark3p2med, 59, 5, Finished, Available)"
          },
          "metadata": {}
        }
      ],
      "execution_count": 52,
      "metadata": {
        "jupyter": {
          "source_hidden": false,
          "outputs_hidden": false
        },
        "nteract": {
          "transient": {
            "deleting": false
          }
        }
      }
    },
    {
      "cell_type": "code",
      "source": [
        "# NOTE: Fix entry and exit date column-processing, and clean up curation process below.\r\n",
        "# extract the classes initally provided from the Insights Activity test data, and extract the Teacher IDs \r\n",
        "dfEnroll = dfInsights_activity.filter(dfInsights_activity['ActorRole'] != 'Student')\r\n",
        "dfEnroll = dfEnroll.filter(dfEnroll['ActorRole'] != 'ActorRole')\r\n",
        "dfEnroll = dfEnroll.select('ClassId', 'ActorId_pseudonym', 'ActorRole')\r\n",
        "dfEnroll = dfEnroll.groupBy('ClassId', 'ActorId_pseudonym', 'ActorRole').count()\r\n",
        "dfEnroll = dfEnroll.withColumnRenamed('ClassId', 'AADGroup_ClassId').withColumnRenamed('ActorId_pseudonym', 'InstructorId_pseudonym').withColumnRenamed('ActorRole', 'PersonRole')\r\n",
        "dfEnroll = dfEnroll.drop('count')\r\n",
        "# join the Insights AADGroup_pseudo and _lookup table to the dfEnroll table, to provide mapping of the hashed and non-hashed AADGroup Class IDs\r\n",
        "dfInsights_aadgroup_np_ = dfInsights_aadgroup_np.select('ObjectId', 'DisplayName', 'ObjectId_pseudonym').withColumnRenamed('ObjectId', 'Id').withColumnRenamed('ObjectId_pseudonym', 'AADGroup_ClassId_pseudonym')\r\n",
        "dfEnroll = dfEnroll.join(dfInsights_aadgroup_np_, dfEnroll.AADGroup_ClassId == dfInsights_aadgroup_np_.Id, how='inner')\r\n",
        "dfEnroll = dfEnroll.drop('Id')\r\n",
        "dfInsights_aadgroup_ = dfInsights_aadgroup.select('ObjectId_pseudonym', 'SectionId')\r\n",
        "dfEnroll = dfEnroll.join(dfInsights_aadgroup_, dfEnroll.AADGroup_ClassId_pseudonym == dfInsights_aadgroup_.ObjectId_pseudonym, how='inner')\r\n",
        "dfEnroll = dfEnroll.drop('ObjectId_pseudonym', 'PersonRole', 'DisplayName', 'AADGroup_ClassId', 'AADGroup_ClassId_pseudonym')\r\n",
        "# use the Insights Section table to get each associated Course and School ID with a Section\r\n",
        "df_metadata = dfInsights_section.select('Id', 'OrganizationId', 'CourseId')\r\n",
        "dfEnroll = dfEnroll.join(df_metadata, dfEnroll.SectionId == df_metadata.Id, how='inner').drop('Id')\r\n",
        "dfEnroll = dfEnroll.withColumnRenamed('OrganizationId', 'SchoolId')\r\n",
        "# last, use the Insights Enrollment table to get students enrolled within each class\r\n",
        "df_metadata = dfInsights_enrollment.select('Id', 'PersonId_pseudonym', 'RefSectionRoleId', 'SectionId', 'EntryDate', 'ExitDate')\r\n",
        "df_metadata = df_metadata.filter(df_metadata['RefSectionRoleId'] == 'Student')\r\n",
        "df_metadata = df_metadata.drop('RefSectionRoleId').withColumnRenamed('Id', 'EnrollmentId').withColumnRenamed('PersonId_pseudonym', 'StudentId_pseudonym').withColumnRenamed('SectionId', 'id')\r\n",
        "dfEnroll = dfEnroll.join(df_metadata, dfEnroll.SectionId == df_metadata.id, how='inner').drop('id')\r\n",
        "dfEnroll = dfEnroll.select('EnrollmentId', 'SchoolId', 'CourseId', 'SectionId', 'InstructorId_pseudonym', 'StudentId_pseudonym', 'EntryDate', 'ExitDate')\r\n",
        "display(dfEnroll.limit(10))"
      ],
      "outputs": [
        {
          "output_type": "display_data",
          "data": {
            "application/vnd.livy.statement-meta+json": {
              "spark_pool": "spark3p2med",
              "session_id": "59",
              "statement_id": 6,
              "state": "finished",
              "livy_statement_state": "available",
              "queued_time": "2023-01-11T18:52:35.1697866Z",
              "session_start_time": null,
              "execution_start_time": "2023-01-11T18:52:54.6662662Z",
              "execution_finish_time": "2023-01-11T18:53:01.6398427Z",
              "spark_jobs": null
            },
            "text/plain": "StatementMeta(spark3p2med, 59, 6, Finished, Available)"
          },
          "metadata": {}
        },
        {
          "output_type": "display_data",
          "data": {
            "application/vnd.synapse.widget-view+json": {
              "widget_id": "59fc7326-631f-48c0-87db-f4985d5f9b4e",
              "widget_type": "Synapse.DataFrame"
            },
            "text/plain": "SynapseWidget(Synapse.DataFrame, 59fc7326-631f-48c0-87db-f4985d5f9b4e)"
          },
          "metadata": {}
        }
      ],
      "execution_count": 53,
      "metadata": {
        "jupyter": {
          "source_hidden": false,
          "outputs_hidden": false
        },
        "nteract": {
          "transient": {
            "deleting": false
          }
        },
        "collapsed": false
      }
    },
    {
      "cell_type": "markdown",
      "source": [
        "### Write to Stage 3"
      ],
      "metadata": {
        "nteract": {
          "transient": {
            "deleting": false
          }
        }
      }
    },
    {
      "cell_type": "code",
      "source": [
        "publish(dfEnroll, 'stage2/Enriched/learning_analytics/v1.0/general/fact_Enrollment', 'stage3/Published/learning_analytics/v1.0/general/fact_Enrollment', primary_key='EnrollmentId')"
      ],
      "outputs": [
        {
          "output_type": "display_data",
          "data": {
            "application/vnd.livy.statement-meta+json": {
              "spark_pool": "spark3p2med",
              "session_id": "59",
              "statement_id": 7,
              "state": "finished",
              "livy_statement_state": "available",
              "queued_time": "2023-01-11T18:55:00.0832291Z",
              "session_start_time": null,
              "execution_start_time": "2023-01-11T18:55:00.1906418Z",
              "execution_finish_time": "2023-01-11T18:55:12.8510209Z",
              "spark_jobs": null
            },
            "text/plain": "StatementMeta(spark3p2med, 59, 7, Finished, Available)"
          },
          "metadata": {}
        },
        {
          "output_type": "stream",
          "name": "stdout",
          "text": [
            "2023-01-11 18:55:11,111 - OEA - INFO - Number of new inbound rows processed: 3600\n"
          ]
        },
        {
          "output_type": "execute_result",
          "execution_count": 17,
          "data": {
            "text/plain": "3600"
          },
          "metadata": {}
        }
      ],
      "execution_count": 54,
      "metadata": {
        "jupyter": {
          "source_hidden": false,
          "outputs_hidden": false
        },
        "nteract": {
          "transient": {
            "deleting": false
          }
        }
      }
    },
    {
      "cell_type": "markdown",
      "source": [
        "## 2.) Build fact_MeetingAttendance Table\r\n",
        "\r\n",
        "Data aggregations curation on Insights activity data and Graph meeting_attendance_report pertaining to meetings (as well as using a few other tables).\r\n",
        "\r\n",
        "This table has one row per student per meeting recorded from in both Insights and from the Graph query, with details around:\r\n",
        " - meeting attendance ID (unique ID per student per meeting - scraped from Insights Activity SignalId),\r\n",
        " - school ID (ID from Organization table),\r\n",
        " - course ID, \r\n",
        " - section ID, \r\n",
        " - instructor ID, \r\n",
        " - student ID (from Person table),\r\n",
        " - meeting ID (unique ID per meeting - same across Insights activity and Graph meeting query),\r\n",
        " - student join time, \r\n",
        " - student leave time,\r\n",
        " - student attendance time in seconds.\r\n",
        "\r\n",
        "This table is then written out to```(stage2 and stage3)/(Enriched and Published)/learning_analytics/v1.0/general/fact_MeetingAttendance```."
      ],
      "metadata": {
        "nteract": {
          "transient": {
            "deleting": false
          }
        }
      }
    },
    {
      "cell_type": "code",
      "source": [
        "dfInsights_aadgroup = oea.load('stage2/Refined/M365/v1.14/general/AadGroup')\r\n",
        "dfInsights_aaduserpersonmap = oea.load('stage2/Refined/M365/v1.14/general/AadUserPersonMapping')\r\n",
        "dfInsights_activity = oea.load('stage2/Refined/M365/v1.14/general/activity')\r\n",
        "dfInsights_enrollment = oea.load('stage2/Refined/M365/v1.14/general/Enrollment')\r\n",
        "dfGraph_meetingAtten = oea.load('stage2/Refined/graph_api/v1.0/general/meeting_attendance_report')\r\n",
        "# lookup(s)\r\n",
        "dfInsights_aadgroup_np = oea.load('stage2/Refined/M365/v1.14/sensitive/AadGroup_lookup')"
      ],
      "outputs": [
        {
          "output_type": "display_data",
          "data": {
            "application/vnd.livy.statement-meta+json": {
              "spark_pool": "spark3p2med",
              "session_id": "59",
              "statement_id": 8,
              "state": "finished",
              "livy_statement_state": "available",
              "queued_time": "2023-01-11T18:55:59.3964133Z",
              "session_start_time": null,
              "execution_start_time": "2023-01-11T18:55:59.5133054Z",
              "execution_finish_time": "2023-01-11T18:56:02.355334Z",
              "spark_jobs": null
            },
            "text/plain": "StatementMeta(spark3p2med, 59, 8, Finished, Available)"
          },
          "metadata": {}
        }
      ],
      "execution_count": 55,
      "metadata": {
        "jupyter": {
          "source_hidden": false,
          "outputs_hidden": false
        },
        "nteract": {
          "transient": {
            "deleting": false
          }
        }
      }
    },
    {
      "cell_type": "code",
      "source": [
        "# grab only the relevant columns from the Graph meeting attendance report data, then join with the Insights AADUserPersonMapping to join with Insights activity data\r\n",
        "dfMeetingAtten = dfGraph_meetingAtten.filter(dfGraph_meetingAtten['role'] == 'Student').select('userId_pseudonym', 'meetingId', 'attendanceInterval_joinDateTime', 'attendanceInterval_leaveDateTime', 'totalAttendanceInSec')\r\n",
        "dfMeetingAtten = dfMeetingAtten.withColumnRenamed('userId_pseudonym', 'StudentId_pseudonym').withColumnRenamed('meetingId', 'MeetingId').withColumnRenamed('attendanceInterval_joinDateTime', 'JoinTime') \\\r\n",
        "                                .withColumnRenamed('attendanceInterval_leaveDateTime', 'LeaveTime').withColumnRenamed('totalAttendanceInSec', 'AttendanceTime_sec')\r\n",
        "df_metadata = dfInsights_aaduserpersonmap.select('ObjectId_pseudonym', 'PersonId_pseudonym')\r\n",
        "dfMeetingAtten = dfMeetingAtten.join(df_metadata, dfMeetingAtten.StudentId_pseudonym == df_metadata.PersonId_pseudonym, how='inner').drop('PersonId_pseudonym')\r\n",
        "# then join with Insights activity data to isolate meeting data\r\n",
        "df_metadata = dfInsights_activity.filter(dfInsights_activity['AppName'] == 'TeamsMeeting').filter(dfInsights_activity['ActorRole'] == 'Student')\r\n",
        "df_metadata = df_metadata.select('SignalId', 'ClassId', 'ActorId_pseudonym', 'MeetingSessionId')\r\n",
        "dfMeetingAtten = dfMeetingAtten.join(df_metadata, (dfMeetingAtten.MeetingId == df_metadata.MeetingSessionId) & (dfMeetingAtten.ObjectId_pseudonym == df_metadata.ActorId_pseudonym), how='inner') \\\r\n",
        "                            .drop('ActorId_pseudonym', 'MeetingSessionId', 'ObjectId_pseudonym').withColumnRenamed('SignalId', 'MeetingAttendanceId')\r\n",
        "# join the Insights AADGroup_pseudo and _lookup table to the dfMeetingAtten table, to provide mapping of the hashed and non-hashed AADGroup Class IDs\r\n",
        "dfInsights_aadgroup_np_ = dfInsights_aadgroup_np.select('ObjectId', 'ObjectId_pseudonym').withColumnRenamed('ObjectId', 'Id').withColumnRenamed('ObjectId_pseudonym', 'AADGroup_ClassId_pseudonym')\r\n",
        "dfMeetingAtten = dfMeetingAtten.join(dfInsights_aadgroup_np_, dfMeetingAtten.ClassId == dfInsights_aadgroup_np_.Id, how='inner').drop('Id')\r\n",
        "dfInsights_aadgroup_ = dfInsights_aadgroup.select('ObjectId_pseudonym', 'SectionId')\r\n",
        "dfMeetingAtten = dfMeetingAtten.join(dfInsights_aadgroup_, dfMeetingAtten.AADGroup_ClassId_pseudonym == dfInsights_aadgroup_.ObjectId_pseudonym, how='inner') \\\r\n",
        "                            .drop('ClassId', 'AADGroup_ClassId_pseudonym', 'ObjectId_pseudonym')\r\n",
        "# finally, join dfMeetingAtten with dfEnroll table to grab the school, course and instructor IDs\r\n",
        "df_metadata = dfEnroll.select('SchoolId', 'CourseId', 'SectionId', 'InstructorId_pseudonym', 'StudentId_pseudonym')\r\n",
        "df_metadata = df_metadata.withColumnRenamed('SectionId', 'classId').withColumnRenamed('StudentId_pseudonym', 'id')\r\n",
        "dfMeetingAtten = dfMeetingAtten.join(df_metadata, (dfMeetingAtten.StudentId_pseudonym == df_metadata.id) & (dfMeetingAtten.SectionId == df_metadata.classId), how='inner').drop('classId', 'id')\r\n",
        "dfMeetingAtten = dfMeetingAtten.select('MeetingAttendanceId', 'SchoolId', 'CourseId', 'SectionId', 'InstructorId_pseudonym', 'StudentId_pseudonym', 'MeetingId', 'JoinTime', 'LeaveTime', 'AttendanceTime_sec')\r\n",
        "display(dfMeetingAtten.limit(10))"
      ],
      "outputs": [
        {
          "output_type": "display_data",
          "data": {
            "application/vnd.livy.statement-meta+json": {
              "spark_pool": "spark3p2med",
              "session_id": "59",
              "statement_id": 9,
              "state": "finished",
              "livy_statement_state": "available",
              "queued_time": "2023-01-11T18:56:00.668086Z",
              "session_start_time": null,
              "execution_start_time": "2023-01-11T18:56:02.5344037Z",
              "execution_finish_time": "2023-01-11T18:56:08.4903376Z",
              "spark_jobs": null
            },
            "text/plain": "StatementMeta(spark3p2med, 59, 9, Finished, Available)"
          },
          "metadata": {}
        },
        {
          "output_type": "display_data",
          "data": {
            "application/vnd.synapse.widget-view+json": {
              "widget_id": "d4a37f2f-6f30-4d10-9e18-94bfd6802c11",
              "widget_type": "Synapse.DataFrame"
            },
            "text/plain": "SynapseWidget(Synapse.DataFrame, d4a37f2f-6f30-4d10-9e18-94bfd6802c11)"
          },
          "metadata": {}
        }
      ],
      "execution_count": 56,
      "metadata": {
        "jupyter": {
          "source_hidden": false,
          "outputs_hidden": false
        },
        "nteract": {
          "transient": {
            "deleting": false
          }
        },
        "collapsed": false
      }
    },
    {
      "cell_type": "markdown",
      "source": [
        "### Write to Stage 3"
      ],
      "metadata": {
        "nteract": {
          "transient": {
            "deleting": false
          }
        }
      }
    },
    {
      "cell_type": "code",
      "source": [
        "publish(dfMeetingAtten, 'stage2/Enriched/learning_analytics/v1.0/general/fact_MeetingAttendance', 'stage3/Published/learning_analytics/v1.0/general/fact_MeetingAttendance', primary_key='MeetingAttendanceId')"
      ],
      "outputs": [
        {
          "output_type": "display_data",
          "data": {
            "application/vnd.livy.statement-meta+json": {
              "spark_pool": "spark3p2med",
              "session_id": "59",
              "statement_id": 10,
              "state": "finished",
              "livy_statement_state": "available",
              "queued_time": "2023-01-11T18:57:13.2561715Z",
              "session_start_time": null,
              "execution_start_time": "2023-01-11T18:57:13.3755186Z",
              "execution_finish_time": "2023-01-11T18:57:26.1092577Z",
              "spark_jobs": null
            },
            "text/plain": "StatementMeta(spark3p2med, 59, 10, Finished, Available)"
          },
          "metadata": {}
        },
        {
          "output_type": "stream",
          "name": "stdout",
          "text": [
            "2023-01-11 18:57:25,115 - OEA - INFO - Number of new inbound rows processed: 10170\n"
          ]
        },
        {
          "output_type": "execute_result",
          "execution_count": 23,
          "data": {
            "text/plain": "10170"
          },
          "metadata": {}
        }
      ],
      "execution_count": 57,
      "metadata": {
        "jupyter": {
          "source_hidden": false,
          "outputs_hidden": false
        },
        "nteract": {
          "transient": {
            "deleting": false
          }
        }
      }
    },
    {
      "cell_type": "markdown",
      "source": [
        "## 3.) Build fact_Assignment Table\r\n",
        "\r\n",
        "Data aggregations curation on Insights activity data pertaining to assignments in the education system (as well as using a few other tables).\r\n",
        "\r\n",
        "This table has one row per student per assignment from the Insights activity data, with details around:\r\n",
        " - assignment ID (unique ID per assignment - scraped from Insights Activity AssignmentId),\r\n",
        " - school ID (ID from Organization table),\r\n",
        " - course ID, \r\n",
        " - section ID, \r\n",
        " - instructor ID, \r\n",
        " - student ID (from Person table),\r\n",
        " - assignment status ID (ID from dim_AssignmentStatus for student assignment status),\r\n",
        " - assigned date, \r\n",
        " - assignment due date, and\r\n",
        " - student grade.\r\n",
        "\r\n",
        "This table is then written out to```(stage2 and stage3)/(Enriched and Published)/learning_analytics/v1.0/general/fact_Assignment```."
      ],
      "metadata": {
        "nteract": {
          "transient": {
            "deleting": false
          }
        }
      }
    },
    {
      "cell_type": "code",
      "source": [
        "dfInsights_aadgroup = oea.load('stage2/Refined/M365/v1.14/general/AadGroup')\r\n",
        "dfInsights_aaduserpersonmap = oea.load('stage2/Refined/M365/v1.14/general/AadUserPersonMapping')\r\n",
        "dfInsights_activity = oea.load('stage2/Refined/M365/v1.14/general/activity')\r\n",
        "# lookup(s)\r\n",
        "dfInsights_aadgroup_np = oea.load('stage2/Refined/M365/v1.14/sensitive/AadGroup_lookup')"
      ],
      "outputs": [
        {
          "output_type": "display_data",
          "data": {
            "application/vnd.livy.statement-meta+json": {
              "spark_pool": "spark3p2med",
              "session_id": "59",
              "statement_id": 11,
              "state": "finished",
              "livy_statement_state": "available",
              "queued_time": "2023-01-11T18:57:40.7233398Z",
              "session_start_time": null,
              "execution_start_time": "2023-01-11T18:57:40.8635417Z",
              "execution_finish_time": "2023-01-11T18:57:41.4211408Z",
              "spark_jobs": null
            },
            "text/plain": "StatementMeta(spark3p2med, 59, 11, Finished, Available)"
          },
          "metadata": {}
        }
      ],
      "execution_count": 58,
      "metadata": {
        "jupyter": {
          "source_hidden": false,
          "outputs_hidden": false
        },
        "nteract": {
          "transient": {
            "deleting": false
          }
        }
      }
    },
    {
      "cell_type": "code",
      "source": [
        "# NOTE: clean up below\r\n",
        "# grab only the relevant columns from the Insights activity student assignment data\r\n",
        "dfAssign = dfInsights_activity.filter(dfInsights_activity['AppName'] == 'Assignments').filter(dfInsights_activity['ActorRole'] == 'Student')\r\n",
        "dfAssign = dfAssign.select('StartTime', 'ClassId', 'ActorId_pseudonym', 'AssignmentId', 'Action', 'DueDate', 'Grade').withColumnRenamed('StartTime', 'AssignmentStatusTime')\r\n",
        "# join the Insights AADGroup_pseudo and _lookup table to the dfAssign table, to provide mapping of the hashed and non-hashed AADGroup Class IDs\r\n",
        "dfInsights_aadgroup_np_ = dfInsights_aadgroup_np.select('ObjectId', 'ObjectId_pseudonym').withColumnRenamed('ObjectId', 'Id').withColumnRenamed('ObjectId_pseudonym', 'AADGroup_ClassId_pseudonym')\r\n",
        "dfAssign = dfAssign.join(dfInsights_aadgroup_np_, dfAssign.ClassId == dfInsights_aadgroup_np_.Id, how='inner').drop('Id')\r\n",
        "dfInsights_aadgroup_ = dfInsights_aadgroup.select('ObjectId_pseudonym', 'SectionId')\r\n",
        "dfAssign = dfAssign.join(dfInsights_aadgroup_, dfAssign.AADGroup_ClassId_pseudonym == dfInsights_aadgroup_.ObjectId_pseudonym, how='inner') \\\r\n",
        "                            .drop('ClassId', 'AADGroup_ClassId_pseudonym', 'ObjectId_pseudonym')\r\n",
        "# join the Insights AADUserPersonMapping table to get the student IDs\r\n",
        "df_metadata = dfInsights_aaduserpersonmap.select('ObjectId_pseudonym', 'PersonId_pseudonym')\r\n",
        "dfAssign = dfAssign.join(df_metadata, dfAssign.ActorId_pseudonym == df_metadata.ObjectId_pseudonym, how='inner').drop('ActorId_pseudonym', 'ObjectId_pseudonym')\r\n",
        "dfAssign = dfAssign.withColumnRenamed('PersonId_pseudonym', 'StudentId_pseudonym')\r\n",
        "# scrape the Insights activity data for when each Instructor assigned the assignment\r\n",
        "df_metadata = dfInsights_activity.filter(dfInsights_activity['SignalType'] == 'AssignmentEvent').filter(dfInsights_activity['Action'] == 'Assigned')\r\n",
        "df_metadata = df_metadata.select('StartTime', 'AssignmentId').withColumn('AssignedDate', F.to_date(F.col('StartTime')))\r\n",
        "df_metadata = df_metadata.withColumnRenamed('AssignmentId', 'id').drop('StartTime')\r\n",
        "dfAssign = dfAssign.join(df_metadata, dfAssign.AssignmentId == df_metadata.id, how='left').drop('id')\r\n",
        "# assign a status ID to each student assignment status update\r\n",
        "dfAssign = dfAssign.withColumn('AssignmentStatusId', F.when(F.col('Action') == 'Assigned', '1').otherwise(F.when(F.col('Action') == 'Visited', '2').otherwise(F.when(F.col('Action') == 'Submitted', '3').otherwise(F.when(F.col('Action') == 'Returned', '4')))))\r\n",
        "dfAssign = dfAssign.drop('Action')\r\n",
        "# join dfAssign with dfEnroll table to grab the school, course and instructor IDs\r\n",
        "df_metadata = dfEnroll.select('SchoolId', 'CourseId', 'SectionId', 'InstructorId_pseudonym', 'StudentId_pseudonym')\r\n",
        "df_metadata = df_metadata.withColumnRenamed('SectionId', 'classId').withColumnRenamed('StudentId_pseudonym', 'id')\r\n",
        "dfAssign = dfAssign.join(df_metadata, (dfAssign.StudentId_pseudonym == df_metadata.id) & (dfAssign.SectionId == df_metadata.classId), how='inner').drop('classId', 'id')\r\n",
        "dfAssign = dfAssign.select('AssignmentId', 'SchoolId', 'CourseId', 'SectionId', 'InstructorId_pseudonym', 'StudentId_pseudonym', 'AssignmentStatusId', 'AssignmentStatusTime', 'AssignedDate', 'DueDate', 'Grade')\r\n",
        "# finally, inject every instance of an assignment being assigned (Insights activity data doesn't originally assign each assignment to each student)\r\n",
        "df_metadata = dfAssign.groupBy('AssignmentId', 'SchoolId', 'CourseId', 'SectionId', 'InstructorId_pseudonym', 'StudentId_pseudonym', 'AssignedDate', 'DueDate').count()\r\n",
        "df_metadata = df_metadata.drop('count')\r\n",
        "df_metadata = df_metadata.withColumn('AssignmentStatusTime', F.col('AssignedDate')).withColumn('AssignmentStatusTime', F.col('AssignmentStatusTime').cast(TimestampType()))\r\n",
        "df_metadata = df_metadata.withColumn('AssignmentStatusId', F.lit('1')).withColumn('Grade', F.lit(None))\r\n",
        "df_metadata = df_metadata.select('AssignmentId', 'SchoolId', 'CourseId', 'SectionId', 'InstructorId_pseudonym', 'StudentId_pseudonym', 'AssignmentStatusId', 'AssignmentStatusTime', 'AssignedDate', 'DueDate', 'Grade')\r\n",
        "dfAssign = dfAssign.unionAll(df_metadata)\r\n",
        "# drop the AssignedDate and DueDate columns, and separate the AssignmentStatusTime column into AssignmentStatusDate and AssignmentStatusTime\r\n",
        "dfAssign = dfAssign.drop('AssignedDate', 'DueDate').withColumn('AssignmentStatusDate', F.to_date(F.col('AssignmentStatusTime'))).withColumn('AssignmentStatusTime', F.date_format('AssignmentStatusTime', 'HH:mm:ss'))\r\n",
        "dfAssign = dfAssign.select('AssignmentId', 'SchoolId', 'CourseId', 'SectionId', 'InstructorId_pseudonym', 'StudentId_pseudonym', 'AssignmentStatusId', 'AssignmentStatusDate', 'AssignmentStatusTime', 'Grade')\r\n",
        "display(dfAssign.limit(10))"
      ],
      "outputs": [
        {
          "output_type": "display_data",
          "data": {
            "application/vnd.livy.statement-meta+json": {
              "spark_pool": "spark3p2med",
              "session_id": "59",
              "statement_id": 23,
              "state": "finished",
              "livy_statement_state": "available",
              "queued_time": "2023-01-11T19:32:35.9006164Z",
              "session_start_time": null,
              "execution_start_time": "2023-01-11T19:32:36.063162Z",
              "execution_finish_time": "2023-01-11T19:32:40.4153369Z",
              "spark_jobs": null
            },
            "text/plain": "StatementMeta(spark3p2med, 59, 23, Finished, Available)"
          },
          "metadata": {}
        },
        {
          "output_type": "display_data",
          "data": {
            "application/vnd.synapse.widget-view+json": {
              "widget_id": "22381c9b-6dd0-4dcd-bc8c-c085633cdb44",
              "widget_type": "Synapse.DataFrame"
            },
            "text/plain": "SynapseWidget(Synapse.DataFrame, 22381c9b-6dd0-4dcd-bc8c-c085633cdb44)"
          },
          "metadata": {}
        }
      ],
      "execution_count": 70,
      "metadata": {
        "jupyter": {
          "source_hidden": false,
          "outputs_hidden": false
        },
        "nteract": {
          "transient": {
            "deleting": false
          }
        },
        "collapsed": false
      }
    },
    {
      "cell_type": "code",
      "source": [
        "# ad hoc - test data doesn't have grades rounded, so this rounds the grade to the nearest 2 decimal places.\r\n",
        "dfAssign = dfAssign.withColumn('Grade', F.round(F.col('Grade'), 2))"
      ],
      "outputs": [],
      "execution_count": null,
      "metadata": {
        "jupyter": {
          "source_hidden": false,
          "outputs_hidden": false
        },
        "nteract": {
          "transient": {
            "deleting": false
          }
        }
      }
    },
    {
      "cell_type": "code",
      "source": [
        "# create a unique primary key, since publishing will drop duplicates, and we intentionally want Assignment Id's reoccuring\r\n",
        "dfAssign = dfAssign.withColumn('AssignmentActivityId', F.concat(F.col('AssignmentStatusTime'),F.lit('_'),F.col('StudentId_pseudonym'),F.lit('_'),F.col('AssignmentId')))\r\n",
        "dfAssign = dfAssign.select('AssignmentActivityId', 'AssignmentId', 'SchoolId', 'CourseId', 'SectionId', 'InstructorId_pseudonym', 'StudentId_pseudonym', 'AssignmentStatusId', 'AssignmentStatusDate', 'AssignmentStatusTime', 'Grade')\r\n",
        "\r\n",
        "display(dfAssign.limit(10))"
      ],
      "outputs": [
        {
          "output_type": "display_data",
          "data": {
            "application/vnd.livy.statement-meta+json": {
              "spark_pool": "spark3p2med",
              "session_id": "59",
              "statement_id": 24,
              "state": "finished",
              "livy_statement_state": "available",
              "queued_time": "2023-01-11T19:33:16.1736803Z",
              "session_start_time": null,
              "execution_start_time": "2023-01-11T19:33:16.3196418Z",
              "execution_finish_time": "2023-01-11T19:33:20.3232654Z",
              "spark_jobs": null
            },
            "text/plain": "StatementMeta(spark3p2med, 59, 24, Finished, Available)"
          },
          "metadata": {}
        },
        {
          "output_type": "display_data",
          "data": {
            "application/vnd.synapse.widget-view+json": {
              "widget_id": "436cf651-8042-4d9f-92db-6ab780ef9d02",
              "widget_type": "Synapse.DataFrame"
            },
            "text/plain": "SynapseWidget(Synapse.DataFrame, 436cf651-8042-4d9f-92db-6ab780ef9d02)"
          },
          "metadata": {}
        }
      ],
      "execution_count": 71,
      "metadata": {
        "jupyter": {
          "source_hidden": false,
          "outputs_hidden": false
        },
        "nteract": {
          "transient": {
            "deleting": false
          }
        },
        "collapsed": false
      }
    },
    {
      "cell_type": "markdown",
      "source": [
        "### Write to Stage 3"
      ],
      "metadata": {
        "nteract": {
          "transient": {
            "deleting": false
          }
        }
      }
    },
    {
      "cell_type": "code",
      "source": [
        "publish(dfAssign, 'stage2/Enriched/learning_analytics/v1.0/general/fact_Assignment', 'stage3/Published/learning_analytics/v1.0/general/fact_Assignment', primary_key='AssignmentActivityId')"
      ],
      "outputs": [
        {
          "output_type": "display_data",
          "data": {
            "application/vnd.livy.statement-meta+json": {
              "spark_pool": "spark3p2med",
              "session_id": "59",
              "statement_id": 25,
              "state": "finished",
              "livy_statement_state": "available",
              "queued_time": "2023-01-11T19:34:53.7562541Z",
              "session_start_time": null,
              "execution_start_time": "2023-01-11T19:34:53.9360935Z",
              "execution_finish_time": "2023-01-11T19:35:07.7101457Z",
              "spark_jobs": null
            },
            "text/plain": "StatementMeta(spark3p2med, 59, 25, Finished, Available)"
          },
          "metadata": {}
        },
        {
          "output_type": "stream",
          "name": "stdout",
          "text": [
            "2023-01-11 19:35:06,814 - OEA - INFO - Number of new inbound rows processed: 30785\n"
          ]
        },
        {
          "output_type": "execute_result",
          "execution_count": 53,
          "data": {
            "text/plain": "30785"
          },
          "metadata": {}
        }
      ],
      "execution_count": 72,
      "metadata": {
        "jupyter": {
          "source_hidden": false,
          "outputs_hidden": false
        },
        "nteract": {
          "transient": {
            "deleting": false
          }
        }
      }
    },
    {
      "cell_type": "markdown",
      "source": [
        "## 4.) Build fact_Activity Table\r\n",
        "\r\n",
        "Data aggregations curation on Insights activity data in the education system (as well as using a few other tables).\r\n",
        "\r\n",
        "This table has one row per student per signal from the Insights activity data, with details around:\r\n",
        " - activity ID (unique ID per assignment - scraped from Insights Activity SignalId),\r\n",
        " - school ID (ID from Organization table),\r\n",
        " - course ID, \r\n",
        " - section ID, \r\n",
        " - instructor ID, \r\n",
        " - student ID (from Person table),\r\n",
        " - signal type ID (ID from dim_SignalType for student signal type),\r\n",
        " - activity date (i.e. date of the Insights activity signal), and\r\n",
        " - activity start time (i.e. datetime of the Insights activity signal).\r\n",
        "\r\n",
        "This table is then written out to```(stage2 and stage3)/(Enriched and Published)/learning_analytics/v1.0/general/fact_Activity```."
      ],
      "metadata": {
        "nteract": {
          "transient": {
            "deleting": false
          }
        }
      }
    },
    {
      "cell_type": "code",
      "source": [
        "dfInsights_aadgroup = oea.load('stage2/Refined/M365/v1.14/general/AadGroup')\r\n",
        "dfInsights_aaduserpersonmap = oea.load('stage2/Refined/M365/v1.14/general/AadUserPersonMapping')\r\n",
        "dfInsights_activity = oea.load('stage2/Refined/M365/v1.14/general/activity')\r\n",
        "# lookup(s)\r\n",
        "dfInsights_aadgroup_np = oea.load('stage2/Refined/M365/v1.14/sensitive/AadGroup_lookup')"
      ],
      "outputs": [
        {
          "output_type": "display_data",
          "data": {
            "application/vnd.livy.statement-meta+json": {
              "spark_pool": "spark3p2med",
              "session_id": "59",
              "statement_id": 26,
              "state": "finished",
              "livy_statement_state": "available",
              "queued_time": "2023-01-11T19:35:14.1484923Z",
              "session_start_time": null,
              "execution_start_time": "2023-01-11T19:35:14.2586097Z",
              "execution_finish_time": "2023-01-11T19:35:14.9823978Z",
              "spark_jobs": null
            },
            "text/plain": "StatementMeta(spark3p2med, 59, 26, Finished, Available)"
          },
          "metadata": {}
        }
      ],
      "execution_count": 73,
      "metadata": {
        "jupyter": {
          "source_hidden": false,
          "outputs_hidden": false
        },
        "nteract": {
          "transient": {
            "deleting": false
          }
        }
      }
    },
    {
      "cell_type": "code",
      "source": [
        "# NOTE: clean up below\r\n",
        "# join IDs with Person IDs rather than AADUser IDs from Insights activity data\r\n",
        "dfActivity = dfInsights_activity.select('SignalType', 'StartTime', 'SignalId', 'ClassId', 'ActorId_pseudonym', 'ActorRole')\r\n",
        "df_metadata = dfInsights_aaduserpersonmap.select('ObjectId_pseudonym', 'PersonId_pseudonym')\r\n",
        "dfActivity = dfActivity.join(df_metadata, dfActivity.ActorId_pseudonym == df_metadata.ObjectId_pseudonym, how='left').drop('ActorId_pseudonym', 'ObjectId_pseudonym').withColumnRenamed('PersonId_pseudonym', 'ActorId_pseudonym')\r\n",
        "# separate Instructor IDs (via Actor IDs)\r\n",
        "df_metadata = dfActivity.select('SignalId', 'ActorId_pseudonym', 'ActorRole')\r\n",
        "df_metadata = df_metadata.filter(df_metadata['ActorRole'] != 'Student')\r\n",
        "df_metadata = df_metadata.drop('ActorRole').withColumnRenamed('ActorId_pseudonym', 'InstructorId_pseudonym').withColumnRenamed('SignalId', 'id')\r\n",
        "dfActivity = dfActivity.join(df_metadata, dfActivity.SignalId == df_metadata.id, how='left')\r\n",
        "dfActivity = dfActivity.drop('id')\r\n",
        "# seperate Student IDs (via Actor IDs)\r\n",
        "df_metadata = dfActivity.select('SignalId', 'ActorId_pseudonym', 'ActorRole')\r\n",
        "df_metadata = df_metadata.filter(df_metadata['ActorRole'] == 'Student')\r\n",
        "df_metadata = df_metadata.drop('ActorRole').withColumnRenamed('ActorId_pseudonym', 'StudentId_pseudonym').withColumnRenamed('SignalId', 'id')\r\n",
        "dfActivity = dfActivity.join(df_metadata, dfActivity.SignalId == df_metadata.id, how='left')\r\n",
        "dfActivity = dfActivity.drop('id', 'ActorId_pseudonym')\r\n",
        "dfActivity = dfActivity.select('SignalId', 'SignalType', 'StartTime', 'ClassId', 'StudentId_pseudonym', 'InstructorId_pseudonym')\r\n",
        "# replace AADGroup IDs with Section IDs\r\n",
        "dfInsights_aadgroup_np_ = dfInsights_aadgroup_np.select('ObjectId', 'ObjectId_pseudonym').withColumnRenamed('ObjectId', 'Id').withColumnRenamed('ObjectId_pseudonym', 'AADGroup_ClassId_pseudonym')\r\n",
        "dfActivity = dfActivity.join(dfInsights_aadgroup_np_, dfActivity.ClassId == dfInsights_aadgroup_np_.Id, how='inner').drop('Id')\r\n",
        "dfInsights_aadgroup_ = dfInsights_aadgroup.select('ObjectId_pseudonym', 'SectionId')\r\n",
        "dfActivity = dfActivity.join(dfInsights_aadgroup_, dfActivity.AADGroup_ClassId_pseudonym == dfInsights_aadgroup_.ObjectId_pseudonym, how='inner') \\\r\n",
        "                            .drop('ClassId', 'AADGroup_ClassId_pseudonym', 'ObjectId_pseudonym')\r\n",
        "# clean data as needed and join dfActivity with dfEnroll table to grab the school, course and instructor IDs\r\n",
        "df_metadata = dfEnroll.select('SchoolId', 'CourseId', 'SectionId', 'InstructorId_pseudonym', 'StudentId_pseudonym')\r\n",
        "df_metadata = df_metadata.withColumnRenamed('SectionId', 'classId').withColumnRenamed('StudentId_pseudonym', 'id').withColumnRenamed('InstructorId_pseudonym', 'id2')\r\n",
        "dfActivity = dfActivity.join(df_metadata, ((dfActivity.StudentId_pseudonym == df_metadata.id) | (dfActivity.InstructorId_pseudonym == df_metadata.id2)) & \\\r\n",
        "                            (dfActivity.SectionId == df_metadata.classId), how='inner').drop('classId', 'id', 'id2')\r\n",
        "dfActivity = dfActivity.withColumnRenamed('SignalId', 'ActivityId').withColumn('ActivityDate', F.to_date(F.col('StartTime')))\r\n",
        "dfActivity = dfActivity.select('ActivityId', 'SchoolId', 'CourseId', 'SectionId', 'InstructorId_pseudonym', 'StudentId_pseudonym', 'SignalType', 'ActivityDate', 'StartTime')\r\n"
      ],
      "outputs": [
        {
          "output_type": "display_data",
          "data": {
            "application/vnd.livy.statement-meta+json": {
              "spark_pool": "spark3p2med",
              "session_id": "59",
              "statement_id": 27,
              "state": "finished",
              "livy_statement_state": "available",
              "queued_time": "2023-01-11T19:35:17.604543Z",
              "session_start_time": null,
              "execution_start_time": "2023-01-11T19:35:17.7176684Z",
              "execution_finish_time": "2023-01-11T19:35:18.2523539Z",
              "spark_jobs": null
            },
            "text/plain": "StatementMeta(spark3p2med, 59, 27, Finished, Available)"
          },
          "metadata": {}
        }
      ],
      "execution_count": 74,
      "metadata": {
        "jupyter": {
          "source_hidden": false,
          "outputs_hidden": false
        },
        "nteract": {
          "transient": {
            "deleting": false
          }
        }
      }
    },
    {
      "cell_type": "code",
      "source": [
        "# NOTE: Clean up SignalType assignment/encoding process.\r\n",
        "def SignalTypeId(SignalType):\r\n",
        "    if SignalType == 'PostChannelMessage':\r\n",
        "        res = '000001'\r\n",
        "    elif SignalType == 'ReplyChannelMessage':\r\n",
        "        res = '000002'\r\n",
        "    elif SignalType == 'VisitTeamChannel':\r\n",
        "        res = '000003'\r\n",
        "    elif SignalType == 'ExpandChannelMessage':\r\n",
        "        res = '000004'\r\n",
        "    elif SignalType == 'ReactedWithEmoji':\r\n",
        "        res = '000005'\r\n",
        "    elif SignalType == 'Like':\r\n",
        "        res = '000010'\r\n",
        "    elif SignalType == 'Unlike':\r\n",
        "        res = '000011'\r\n",
        "    elif SignalType == 'FileAccessed':\r\n",
        "        res = '000020'\r\n",
        "    elif SignalType == 'FileModified':\r\n",
        "        res = '000021'\r\n",
        "    elif SignalType == 'FileDownloaded':\r\n",
        "        res = '000022'\r\n",
        "    elif SignalType == 'FileUploaded':\r\n",
        "        res = '000023'\r\n",
        "    elif SignalType == 'ShareNotificationRequested':\r\n",
        "        res = '000030'\r\n",
        "    elif SignalType == 'AddedToSharedWithMe':\r\n",
        "        res = '000040'\r\n",
        "    elif SignalType == 'CommentCreated':\r\n",
        "        res = '000050'\r\n",
        "    elif SignalType == 'CommentDeleted':\r\n",
        "        res = '000051'\r\n",
        "    elif SignalType == 'UserAtMentioned':\r\n",
        "        res = '000060'\r\n",
        "    elif SignalType == 'Reflect':\r\n",
        "        res = '000100'\r\n",
        "    elif SignalType == 'OneNotePageChanged':\r\n",
        "        res = '001000'\r\n",
        "    elif SignalType == 'SubmissionEvent':\r\n",
        "        res = '020000'\r\n",
        "    elif SignalType == 'AssignmentEvent':\r\n",
        "        res = '010000'\r\n",
        "    elif SignalType == 'CallRecordSummarized':\r\n",
        "        res = '100000'\r\n",
        "    else:\r\n",
        "        res = ''\r\n",
        "    return res\r\n",
        "# define the function/dataType\r\n",
        "new_f2 = F.udf(SignalTypeId, StringType())\r\n",
        "  \r\n",
        "# add the new column\r\n",
        "dfActivity = dfActivity.withColumn('SignalTypeId', new_f2('SignalType'))\r\n",
        "dfActivity = dfActivity.select('ActivityId', 'SchoolId', 'CourseId', 'SectionId', 'InstructorId_pseudonym', 'StudentId_pseudonym', 'SignalTypeId', 'ActivityDate', 'StartTime')\r\n",
        "display(dfActivity.limit(10))"
      ],
      "outputs": [
        {
          "output_type": "display_data",
          "data": {
            "application/vnd.livy.statement-meta+json": {
              "spark_pool": "spark3p2med",
              "session_id": "59",
              "statement_id": 28,
              "state": "finished",
              "livy_statement_state": "available",
              "queued_time": "2023-01-11T19:35:21.6025293Z",
              "session_start_time": null,
              "execution_start_time": "2023-01-11T19:35:21.7035707Z",
              "execution_finish_time": "2023-01-11T19:35:28.621659Z",
              "spark_jobs": null
            },
            "text/plain": "StatementMeta(spark3p2med, 59, 28, Finished, Available)"
          },
          "metadata": {}
        },
        {
          "output_type": "display_data",
          "data": {
            "application/vnd.synapse.widget-view+json": {
              "widget_id": "429ac374-d171-4ab2-90b5-9b044a9e8a92",
              "widget_type": "Synapse.DataFrame"
            },
            "text/plain": "SynapseWidget(Synapse.DataFrame, 429ac374-d171-4ab2-90b5-9b044a9e8a92)"
          },
          "metadata": {}
        }
      ],
      "execution_count": 75,
      "metadata": {
        "jupyter": {
          "source_hidden": false,
          "outputs_hidden": false
        },
        "nteract": {
          "transient": {
            "deleting": false
          }
        },
        "collapsed": false
      }
    },
    {
      "cell_type": "markdown",
      "source": [
        "### Write to Stage 3"
      ],
      "metadata": {
        "nteract": {
          "transient": {
            "deleting": false
          }
        }
      }
    },
    {
      "cell_type": "code",
      "source": [
        "publish(dfActivity, 'stage2/Enriched/learning_analytics/v1.0/general/fact_Activity', 'stage3/Published/learning_analytics/v1.0/general/fact_Activity', primary_key='ActivityId')"
      ],
      "outputs": [
        {
          "output_type": "display_data",
          "data": {
            "application/vnd.livy.statement-meta+json": {
              "spark_pool": "spark3p2med",
              "session_id": "59",
              "statement_id": 29,
              "state": "finished",
              "livy_statement_state": "available",
              "queued_time": "2023-01-11T19:36:31.8736581Z",
              "session_start_time": null,
              "execution_start_time": "2023-01-11T19:36:31.9835672Z",
              "execution_finish_time": "2023-01-11T19:36:44.7770869Z",
              "spark_jobs": null
            },
            "text/plain": "StatementMeta(spark3p2med, 59, 29, Finished, Available)"
          },
          "metadata": {}
        },
        {
          "output_type": "stream",
          "name": "stdout",
          "text": [
            "2023-01-11 19:36:42,713 - OEA - INFO - Number of new inbound rows processed: 34379\n"
          ]
        },
        {
          "output_type": "execute_result",
          "execution_count": 61,
          "data": {
            "text/plain": "34379"
          },
          "metadata": {}
        }
      ],
      "execution_count": 76,
      "metadata": {
        "jupyter": {
          "source_hidden": false,
          "outputs_hidden": false
        },
        "nteract": {
          "transient": {
            "deleting": false
          }
        }
      }
    }
  ],
  "metadata": {
    "kernelspec": {
      "name": "synapse_pyspark",
      "display_name": "Synapse PySpark"
    },
    "language_info": {
      "name": "python"
    },
    "description": null,
    "save_output": true,
    "synapse_widget": {
      "version": "0.1",
      "state": {
        "59fc7326-631f-48c0-87db-f4985d5f9b4e": {
          "type": "Synapse.DataFrame",
          "sync_state": {
            "table": {
              "rows": [
                {
                  "0": "c1cb03f6-472d-438f-83e8-216cbfd68314",
                  "1": "79ab1377-61f3-4462-95c8-284cb10201b8",
                  "2": "e7e00e8d-5a36-4360-a58a-2d393d8e5de6",
                  "3": "4394AC06CD484BCF97BA17DE0076B2A2",
                  "4": "ccab9558b74d44cdcd77fc715ea17ee69da11505de7785544af970e6f3c5ea8c",
                  "5": "9d6241be68de9509b2a111c8316023612129f475fc3a5f071971d47ff30816ee"
                },
                {
                  "0": "12068748-2bf4-4888-83d3-22cdb1c79ece",
                  "1": "79ab1377-61f3-4462-95c8-284cb10201b8",
                  "2": "e7e00e8d-5a36-4360-a58a-2d393d8e5de6",
                  "3": "4394AC06CD484BCF97BA17DE0076B2A2",
                  "4": "ccab9558b74d44cdcd77fc715ea17ee69da11505de7785544af970e6f3c5ea8c",
                  "5": "ad12af2e3d34d5e2d69db278306e2eaeac3ddcdfb1185186c9107dba4e02dc0e"
                },
                {
                  "0": "5b189601-6072-4d9b-8808-7934ed924a8d",
                  "1": "79ab1377-61f3-4462-95c8-284cb10201b8",
                  "2": "e7e00e8d-5a36-4360-a58a-2d393d8e5de6",
                  "3": "4394AC06CD484BCF97BA17DE0076B2A2",
                  "4": "ccab9558b74d44cdcd77fc715ea17ee69da11505de7785544af970e6f3c5ea8c",
                  "5": "f52c2aba7f600cd100a6a9150b11d245d6f6984753347c6a1e2115ea49efc5eb"
                },
                {
                  "0": "3c800ba4-11a7-4684-bcb5-ed8ace7b32c7",
                  "1": "79ab1377-61f3-4462-95c8-284cb10201b8",
                  "2": "e7e00e8d-5a36-4360-a58a-2d393d8e5de6",
                  "3": "4394AC06CD484BCF97BA17DE0076B2A2",
                  "4": "ccab9558b74d44cdcd77fc715ea17ee69da11505de7785544af970e6f3c5ea8c",
                  "5": "44b2cc56137138de1ca13d6dd17e3730d1c5e65fcd3e6658184f62c3b116b72e"
                },
                {
                  "0": "5210f0d4-5c5a-4eac-8b2b-3fbe48d888f1",
                  "1": "79ab1377-61f3-4462-95c8-284cb10201b8",
                  "2": "e7e00e8d-5a36-4360-a58a-2d393d8e5de6",
                  "3": "4394AC06CD484BCF97BA17DE0076B2A2",
                  "4": "ccab9558b74d44cdcd77fc715ea17ee69da11505de7785544af970e6f3c5ea8c",
                  "5": "388ef2b33179b387dc8721b23242de7908359a33c180f73f17c307d560fe82e7"
                },
                {
                  "0": "f4b99426-262a-4241-9284-9e4e73ba6dc0",
                  "1": "79ab1377-61f3-4462-95c8-284cb10201b8",
                  "2": "e7e00e8d-5a36-4360-a58a-2d393d8e5de6",
                  "3": "4394AC06CD484BCF97BA17DE0076B2A2",
                  "4": "ccab9558b74d44cdcd77fc715ea17ee69da11505de7785544af970e6f3c5ea8c",
                  "5": "48a60349822bc1d5b960f71f5259f8a86697bd34fa12360e4e47077a0065300b"
                },
                {
                  "0": "bd8b8389-eb28-49a0-af83-039ee8ae7c8b",
                  "1": "79ab1377-61f3-4462-95c8-284cb10201b8",
                  "2": "e7e00e8d-5a36-4360-a58a-2d393d8e5de6",
                  "3": "4394AC06CD484BCF97BA17DE0076B2A2",
                  "4": "ccab9558b74d44cdcd77fc715ea17ee69da11505de7785544af970e6f3c5ea8c",
                  "5": "c878c73d60716ea603659d3d6904ddbdb7ffe56f630eccc7ec9002002b535ecf"
                },
                {
                  "0": "20e75ab0-5812-4501-9f55-aec67d531856",
                  "1": "79ab1377-61f3-4462-95c8-284cb10201b8",
                  "2": "e7e00e8d-5a36-4360-a58a-2d393d8e5de6",
                  "3": "4394AC06CD484BCF97BA17DE0076B2A2",
                  "4": "ccab9558b74d44cdcd77fc715ea17ee69da11505de7785544af970e6f3c5ea8c",
                  "5": "3e3b80948d74e1790517c259a93535f89f88e05ec089c87ec705d7d8c8eb6be3"
                },
                {
                  "0": "1fea2d31-bec9-4622-9c45-c09322966395",
                  "1": "79ab1377-61f3-4462-95c8-284cb10201b8",
                  "2": "e7e00e8d-5a36-4360-a58a-2d393d8e5de6",
                  "3": "4394AC06CD484BCF97BA17DE0076B2A2",
                  "4": "ccab9558b74d44cdcd77fc715ea17ee69da11505de7785544af970e6f3c5ea8c",
                  "5": "8e6ae4a1fab57293533faa659d873cb034f08afd47916a87b1b79c6061564026"
                },
                {
                  "0": "d7515352-4f7f-4814-8903-5e94789cf803",
                  "1": "79ab1377-61f3-4462-95c8-284cb10201b8",
                  "2": "e7e00e8d-5a36-4360-a58a-2d393d8e5de6",
                  "3": "4394AC06CD484BCF97BA17DE0076B2A2",
                  "4": "ccab9558b74d44cdcd77fc715ea17ee69da11505de7785544af970e6f3c5ea8c",
                  "5": "b901c6f7c0d0209e1e70e5fae358048272f53bebf52c658257941ad897f818d5"
                }
              ],
              "schema": [
                {
                  "key": "0",
                  "name": "EnrollmentId",
                  "type": "string"
                },
                {
                  "key": "1",
                  "name": "SchoolId",
                  "type": "string"
                },
                {
                  "key": "2",
                  "name": "CourseId",
                  "type": "string"
                },
                {
                  "key": "3",
                  "name": "SectionId",
                  "type": "string"
                },
                {
                  "key": "4",
                  "name": "InstructorId_pseudonym",
                  "type": "string"
                },
                {
                  "key": "5",
                  "name": "StudentId_pseudonym",
                  "type": "string"
                },
                {
                  "key": "6",
                  "name": "EntryDate",
                  "type": "date"
                },
                {
                  "key": "7",
                  "name": "ExitDate",
                  "type": "date"
                }
              ],
              "truncated": false
            },
            "isSummary": false,
            "language": "scala"
          },
          "persist_state": {
            "view": {
              "type": "details",
              "tableOptions": {},
              "chartOptions": {
                "chartType": "bar",
                "aggregationType": "count",
                "categoryFieldKeys": [
                  "0"
                ],
                "seriesFieldKeys": [
                  "0"
                ],
                "isStacked": false
              }
            }
          }
        },
        "d4a37f2f-6f30-4d10-9e18-94bfd6802c11": {
          "type": "Synapse.DataFrame",
          "sync_state": {
            "table": {
              "rows": [
                {
                  "0": "71b81261-c8c0-4baf-b6e1-a44e2a32fbcc",
                  "1": "79ab1377-61f3-4462-95c8-284cb10201b8",
                  "2": "1cac5b52-3d74-42f8-9101-320d35dfe627",
                  "3": "D8991C4D1D924B97998B81B4804A3A72",
                  "4": "91efa061a75120eb2da05f41202a37e36b6d6336fdcc2e78e49962108fbbde27",
                  "5": "38d3501191118059250fb4f57908ae1aaa1ead911d489bd256d37945ce7265a8",
                  "6": "543f320c-e516-4ba9-87e9-fd31c75576ef",
                  "7": "2022-01-18 08:19:00",
                  "8": "2022-01-18 08:25:00",
                  "9": "360"
                },
                {
                  "0": "e2ec601e-3cc2-4508-a6ec-dbcc7aed3b9b",
                  "1": "00b46bad-eb1d-41d3-ad11-16095144a56f",
                  "2": "6603a758-5121-48de-b415-39f19079dc84",
                  "3": "856A511D6D124BE3A61D8A9FBECF89D1",
                  "4": "1371b5b8f5734797d545abee3649b05f415a7239b4e480dc2e6b4635f3b3ca7e",
                  "5": "be089636d4aba26ad9abdfdf7022d5fa63d35e528c57ec8c71e8deabf96d3ccb",
                  "6": "76cb1cf9-67e3-4c14-a180-d95a07911560",
                  "7": "2022-01-11 15:30:00",
                  "8": "2022-01-11 16:57:00",
                  "9": "5220"
                },
                {
                  "0": "13c14c5a-0fd7-4179-add6-297b8ff4a00b",
                  "1": "421b6506-5b1c-45b1-8f9f-d65a35bbcf32",
                  "2": "16abe8a8-4fb8-4987-9791-2e3cdfcb6db2",
                  "3": "16D3783DEA504F35B66FD00178DFC2CB",
                  "4": "12561d6b0c0058713825699a7697e10310fb989efb91f2343af7b87e13fdfdd8",
                  "5": "b7dba5d980339143825e7cc8c1063a881c8ac032c1082bed6ee24330d1d9fbeb",
                  "6": "dc40928f-7614-4399-b223-248adc15f08f",
                  "7": "2022-01-17 10:02:00",
                  "8": "2022-01-17 11:07:00",
                  "9": "3900"
                },
                {
                  "0": "4bc44460-3558-46e6-9e44-e58d06543150",
                  "1": "421b6506-5b1c-45b1-8f9f-d65a35bbcf32",
                  "2": "800e3ba2-e926-489d-bbe1-df91adaa73d5",
                  "3": "21A2ECF0DA464984BAA8056F9257AC03",
                  "4": "1cb1f54623ccff43860075094d49f7cf5537a775dbd35cabc014a0ab7671d821",
                  "5": "33183013d08755d0feef09a522230c4fa72d3e772f2551b71d25521a230ae7c0",
                  "6": "ae6ef58a-6ae4-4bb8-8af3-dea42aebc454",
                  "7": "2022-01-24 13:49:00",
                  "8": "2022-01-24 14:20:00",
                  "9": "1860"
                },
                {
                  "0": "b6598c77-9cca-43fa-b616-fbeb9d1c0dff",
                  "1": "ab2a9665-ce87-4120-a8b5-edd392875e42",
                  "2": "819188df-11ca-4314-a1e1-63f19616cfca",
                  "3": "F1F03A18392E40818B01E55D19C26700",
                  "4": "8e86c3bb3cf8a3986d826688a9b6d621bd2d3750ba0783121d35cd213307aed2",
                  "5": "9487082040d6c4eadfa99abd3565dd32cf284d84f233cae0957846333ea00f50",
                  "6": "9340d860-a56d-42c4-bc50-cb6a27a65691",
                  "7": "2022-01-06 16:19:00",
                  "8": "2022-01-06 16:41:00",
                  "9": "1320"
                },
                {
                  "0": "b81be631-e65a-479a-a153-0f7f8f369d6d",
                  "1": "421b6506-5b1c-45b1-8f9f-d65a35bbcf32",
                  "2": "34be5f28-8025-4310-9124-bcc0f2516df4",
                  "3": "78E67CD474B7442A8DA5297A09A558D8",
                  "4": "756dfbd4083b98214b762ead80df4f87b58acb7d03720630275aba027b4dfdaf",
                  "5": "8f24b3670df134743226c1834a3e1b50fdeb2cdafb8e8e0050ae35bb5769217e",
                  "6": "05066be0-cbea-4abd-b6c4-78f210f9798e",
                  "7": "2022-01-17 14:47:00",
                  "8": "2022-01-17 15:25:00",
                  "9": "2280"
                },
                {
                  "0": "7ad787c8-c5e4-4a99-bd53-facc90cb83eb",
                  "1": "ab2a9665-ce87-4120-a8b5-edd392875e42",
                  "2": "3afe6d5c-3eaa-4c63-a027-53b957c87290",
                  "3": "445E913608A44FBDA99B8108E1990EB0",
                  "4": "6ce06102dd996e02ac093d17b596934622cf355d33cbbdaa36148b616acc8701",
                  "5": "163e8eca7a297334357b63f33c97ca635fe011a406b78bbe3ee2e0fdee3c205b",
                  "6": "f1c66285-90cb-4c32-afff-619ec9bf688c",
                  "7": "2022-01-18 07:20:00",
                  "8": "2022-01-18 08:52:00",
                  "9": "5520"
                },
                {
                  "0": "d5ac70c4-a3e2-48a8-bcc1-d6f516a860c8",
                  "1": "ab2a9665-ce87-4120-a8b5-edd392875e42",
                  "2": "d78b86e3-dc0d-4bb5-87f6-51c4d49505ed",
                  "3": "D75473554303430AADBC77748F20E4E9",
                  "4": "dccd5ca81f9b7c5d9d2d4533e06f25333f1351b11d3adae16a7d1b4204901e0a",
                  "5": "56041bd15e21dddaffe76a6ae8b492c35d9ae43034913304025ec46d56cd06ec",
                  "6": "1a756505-62a8-4319-82ab-7fa0a39a32b6",
                  "7": "2022-01-27 10:48:00",
                  "8": "2022-01-27 12:37:00",
                  "9": "6540"
                },
                {
                  "0": "035c1cd2-0f6c-4d6b-b386-44af3ef8549e",
                  "1": "421b6506-5b1c-45b1-8f9f-d65a35bbcf32",
                  "2": "800e3ba2-e926-489d-bbe1-df91adaa73d5",
                  "3": "21A2ECF0DA464984BAA8056F9257AC03",
                  "4": "1cb1f54623ccff43860075094d49f7cf5537a775dbd35cabc014a0ab7671d821",
                  "5": "33183013d08755d0feef09a522230c4fa72d3e772f2551b71d25521a230ae7c0",
                  "6": "f3cdd6f9-594c-4e16-aff6-0ba37abdf1e2",
                  "7": "2022-01-24 09:30:00",
                  "8": "2022-01-24 11:10:00",
                  "9": "6000"
                },
                {
                  "0": "1deb826d-4667-4050-b30b-661b7a37fdb4",
                  "1": "421b6506-5b1c-45b1-8f9f-d65a35bbcf32",
                  "2": "16abe8a8-4fb8-4987-9791-2e3cdfcb6db2",
                  "3": "16D3783DEA504F35B66FD00178DFC2CB",
                  "4": "12561d6b0c0058713825699a7697e10310fb989efb91f2343af7b87e13fdfdd8",
                  "5": "b7dba5d980339143825e7cc8c1063a881c8ac032c1082bed6ee24330d1d9fbeb",
                  "6": "c0eeab21-5e62-4632-9fe4-e0745e8c9484",
                  "7": "2022-01-25 15:48:00",
                  "8": "2022-01-25 17:43:00",
                  "9": "6900"
                }
              ],
              "schema": [
                {
                  "key": "0",
                  "name": "MeetingAttendanceId",
                  "type": "string"
                },
                {
                  "key": "1",
                  "name": "SchoolId",
                  "type": "string"
                },
                {
                  "key": "2",
                  "name": "CourseId",
                  "type": "string"
                },
                {
                  "key": "3",
                  "name": "SectionId",
                  "type": "string"
                },
                {
                  "key": "4",
                  "name": "InstructorId_pseudonym",
                  "type": "string"
                },
                {
                  "key": "5",
                  "name": "StudentId_pseudonym",
                  "type": "string"
                },
                {
                  "key": "6",
                  "name": "MeetingId",
                  "type": "string"
                },
                {
                  "key": "7",
                  "name": "JoinTime",
                  "type": "timestamp"
                },
                {
                  "key": "8",
                  "name": "LeaveTime",
                  "type": "timestamp"
                },
                {
                  "key": "9",
                  "name": "AttendanceTime_sec",
                  "type": "int"
                }
              ],
              "truncated": false
            },
            "isSummary": false,
            "language": "scala"
          },
          "persist_state": {
            "view": {
              "type": "details",
              "tableOptions": {},
              "chartOptions": {
                "chartType": "bar",
                "aggregationType": "sum",
                "categoryFieldKeys": [
                  "0"
                ],
                "seriesFieldKeys": [
                  "9"
                ],
                "isStacked": false
              }
            }
          }
        },
        "22381c9b-6dd0-4dcd-bc8c-c085633cdb44": {
          "type": "Synapse.DataFrame",
          "sync_state": {
            "table": {
              "rows": [
                {
                  "0": "1357aba8-6bf0-4e35-9501-0e163cc6a57f",
                  "1": "421b6506-5b1c-45b1-8f9f-d65a35bbcf32",
                  "2": "800e3ba2-e926-489d-bbe1-df91adaa73d5",
                  "3": "21A2ECF0DA464984BAA8056F9257AC03",
                  "4": "1cb1f54623ccff43860075094d49f7cf5537a775dbd35cabc014a0ab7671d821",
                  "5": "33183013d08755d0feef09a522230c4fa72d3e772f2551b71d25521a230ae7c0",
                  "6": "2",
                  "7": "2022-01-05 20:14:00",
                  "8": "2022-01-05",
                  "9": "2022-01-15 00:00:00"
                },
                {
                  "0": "5e9d9fcd-99cd-4ed7-941f-1a2f5bf18f6e",
                  "1": "421b6506-5b1c-45b1-8f9f-d65a35bbcf32",
                  "2": "aeec0bd6-813e-49a7-a563-1b07001566b1",
                  "3": "2234ACFD1FE44510B19607B1D31AD714",
                  "4": "09f197d24cc2133e0ebd32b15f7ee81340fe73e9eefae6a10751a315a331f5c9",
                  "5": "0e4b35d85e2b36085de71d28b666e8db76437761af68c28bf9ead6307e941c5f",
                  "6": "2",
                  "7": "2022-01-16 13:00:00",
                  "8": "2022-01-14",
                  "9": "2022-01-20 00:00:00"
                },
                {
                  "0": "1caf4f07-25b1-4fa1-9a00-d4e7ae51cd21",
                  "1": "00b46bad-eb1d-41d3-ad11-16095144a56f",
                  "2": "ab3f7aa0-12a4-4356-8de1-001552836d4e",
                  "3": "FAF3539D627A4E6280B60BC3C73E95E2",
                  "4": "d9c5eea71a649bab20fbe2de67d803d18a745926959f4fb80560cf6c758961ef",
                  "5": "6b2fd11f392da4b1e92e661d1ff234092e6be21d626036abe5d7d1144756daff",
                  "6": "3",
                  "7": "2022-01-08 22:03:00",
                  "8": "2022-01-03",
                  "9": "2022-01-15 00:00:00"
                },
                {
                  "0": "026798a4-c0b1-43a2-9cdf-1e6f140b0aac",
                  "1": "ab2a9665-ce87-4120-a8b5-edd392875e42",
                  "2": "3afe6d5c-3eaa-4c63-a027-53b957c87290",
                  "3": "445E913608A44FBDA99B8108E1990EB0",
                  "4": "6ce06102dd996e02ac093d17b596934622cf355d33cbbdaa36148b616acc8701",
                  "5": "163e8eca7a297334357b63f33c97ca635fe011a406b78bbe3ee2e0fdee3c205b",
                  "6": "4",
                  "7": "2022-01-19 18:52:00",
                  "8": "2022-01-03",
                  "9": "2022-01-09 00:00:00",
                  "10": "97.0"
                },
                {
                  "0": "62d5462d-caaa-4d5f-8ff4-66a1c8e5004a",
                  "1": "421b6506-5b1c-45b1-8f9f-d65a35bbcf32",
                  "2": "800e3ba2-e926-489d-bbe1-df91adaa73d5",
                  "3": "21A2ECF0DA464984BAA8056F9257AC03",
                  "4": "1cb1f54623ccff43860075094d49f7cf5537a775dbd35cabc014a0ab7671d821",
                  "5": "33183013d08755d0feef09a522230c4fa72d3e772f2551b71d25521a230ae7c0",
                  "6": "3",
                  "7": "2022-01-11 17:31:00",
                  "8": "2022-01-05",
                  "9": "2022-01-15 00:00:00"
                },
                {
                  "0": "558b3e15-5f9f-41bb-9449-babb16359c6a",
                  "1": "ab2a9665-ce87-4120-a8b5-edd392875e42",
                  "2": "3afe6d5c-3eaa-4c63-a027-53b957c87290",
                  "3": "445E913608A44FBDA99B8108E1990EB0",
                  "4": "6ce06102dd996e02ac093d17b596934622cf355d33cbbdaa36148b616acc8701",
                  "5": "163e8eca7a297334357b63f33c97ca635fe011a406b78bbe3ee2e0fdee3c205b",
                  "6": "4",
                  "7": "2022-01-22 04:37:00",
                  "8": "2022-01-05",
                  "9": "2022-01-17 00:00:00",
                  "10": "90.0"
                },
                {
                  "0": "da143e37-edb7-482c-9df9-fe30c30d073a",
                  "1": "421b6506-5b1c-45b1-8f9f-d65a35bbcf32",
                  "2": "16abe8a8-4fb8-4987-9791-2e3cdfcb6db2",
                  "3": "16D3783DEA504F35B66FD00178DFC2CB",
                  "4": "12561d6b0c0058713825699a7697e10310fb989efb91f2343af7b87e13fdfdd8",
                  "5": "b7dba5d980339143825e7cc8c1063a881c8ac032c1082bed6ee24330d1d9fbeb",
                  "6": "2",
                  "7": "2022-01-14 20:18:00",
                  "8": "2022-01-12",
                  "9": "2022-01-17 00:00:00"
                },
                {
                  "0": "bbceaa5e-14b2-448f-a946-9dcbe64d7a25",
                  "1": "00b46bad-eb1d-41d3-ad11-16095144a56f",
                  "2": "ab3f7aa0-12a4-4356-8de1-001552836d4e",
                  "3": "FAF3539D627A4E6280B60BC3C73E95E2",
                  "4": "d9c5eea71a649bab20fbe2de67d803d18a745926959f4fb80560cf6c758961ef",
                  "5": "6b2fd11f392da4b1e92e661d1ff234092e6be21d626036abe5d7d1144756daff",
                  "6": "4",
                  "7": "2022-01-15 05:54:00",
                  "8": "2022-01-04",
                  "9": "2022-01-15 00:00:00",
                  "10": "91.0"
                },
                {
                  "0": "9fd0626e-f517-4c55-bce6-54f1d48a1452",
                  "1": "421b6506-5b1c-45b1-8f9f-d65a35bbcf32",
                  "2": "34be5f28-8025-4310-9124-bcc0f2516df4",
                  "3": "78E67CD474B7442A8DA5297A09A558D8",
                  "4": "756dfbd4083b98214b762ead80df4f87b58acb7d03720630275aba027b4dfdaf",
                  "5": "8f24b3670df134743226c1834a3e1b50fdeb2cdafb8e8e0050ae35bb5769217e",
                  "6": "2",
                  "7": "2022-01-07 14:22:00",
                  "8": "2022-01-07",
                  "9": "2022-01-16 00:00:00"
                },
                {
                  "0": "2eaddc49-ab44-4945-8e7a-0d057ea8a1f2",
                  "1": "421b6506-5b1c-45b1-8f9f-d65a35bbcf32",
                  "2": "34be5f28-8025-4310-9124-bcc0f2516df4",
                  "3": "78E67CD474B7442A8DA5297A09A558D8",
                  "4": "756dfbd4083b98214b762ead80df4f87b58acb7d03720630275aba027b4dfdaf",
                  "5": "8f24b3670df134743226c1834a3e1b50fdeb2cdafb8e8e0050ae35bb5769217e",
                  "6": "2",
                  "7": "2022-01-14 23:51:00",
                  "8": "2022-01-14",
                  "9": "2022-01-25 00:00:00"
                }
              ],
              "schema": [
                {
                  "key": "0",
                  "name": "AssignmentId",
                  "type": "string"
                },
                {
                  "key": "1",
                  "name": "SchoolId",
                  "type": "string"
                },
                {
                  "key": "2",
                  "name": "CourseId",
                  "type": "string"
                },
                {
                  "key": "3",
                  "name": "SectionId",
                  "type": "string"
                },
                {
                  "key": "4",
                  "name": "InstructorId_pseudonym",
                  "type": "string"
                },
                {
                  "key": "5",
                  "name": "StudentId_pseudonym",
                  "type": "string"
                },
                {
                  "key": "6",
                  "name": "AssignmentStatusId",
                  "type": "string"
                },
                {
                  "key": "7",
                  "name": "AssignmentStatusTime",
                  "type": "timestamp"
                },
                {
                  "key": "8",
                  "name": "AssignedDate",
                  "type": "date"
                },
                {
                  "key": "9",
                  "name": "DueDate",
                  "type": "timestamp"
                },
                {
                  "key": "10",
                  "name": "Grade",
                  "type": "double"
                }
              ],
              "truncated": false
            },
            "isSummary": false,
            "language": "scala"
          },
          "persist_state": {
            "view": {
              "type": "details",
              "tableOptions": {},
              "chartOptions": {
                "chartType": "bar",
                "aggregationType": "sum",
                "categoryFieldKeys": [
                  "0"
                ],
                "seriesFieldKeys": [
                  "10"
                ],
                "isStacked": false
              }
            }
          }
        },
        "436cf651-8042-4d9f-92db-6ab780ef9d02": {
          "type": "Synapse.DataFrame",
          "sync_state": {
            "table": {
              "rows": [
                {
                  "0": "2022-01-05 20:14:00_33183013d08755d0feef09a522230c4fa72d3e772f2551b71d25521a230ae7c0_1357aba8-6bf0-4e35-9501-0e163cc6a57f",
                  "1": "1357aba8-6bf0-4e35-9501-0e163cc6a57f",
                  "2": "421b6506-5b1c-45b1-8f9f-d65a35bbcf32",
                  "3": "800e3ba2-e926-489d-bbe1-df91adaa73d5",
                  "4": "21A2ECF0DA464984BAA8056F9257AC03",
                  "5": "1cb1f54623ccff43860075094d49f7cf5537a775dbd35cabc014a0ab7671d821",
                  "6": "33183013d08755d0feef09a522230c4fa72d3e772f2551b71d25521a230ae7c0",
                  "7": "2",
                  "8": "2022-01-05 20:14:00",
                  "9": "2022-01-05",
                  "10": "2022-01-15 00:00:00"
                },
                {
                  "0": "2022-01-16 13:00:00_0e4b35d85e2b36085de71d28b666e8db76437761af68c28bf9ead6307e941c5f_5e9d9fcd-99cd-4ed7-941f-1a2f5bf18f6e",
                  "1": "5e9d9fcd-99cd-4ed7-941f-1a2f5bf18f6e",
                  "2": "421b6506-5b1c-45b1-8f9f-d65a35bbcf32",
                  "3": "aeec0bd6-813e-49a7-a563-1b07001566b1",
                  "4": "2234ACFD1FE44510B19607B1D31AD714",
                  "5": "09f197d24cc2133e0ebd32b15f7ee81340fe73e9eefae6a10751a315a331f5c9",
                  "6": "0e4b35d85e2b36085de71d28b666e8db76437761af68c28bf9ead6307e941c5f",
                  "7": "2",
                  "8": "2022-01-16 13:00:00",
                  "9": "2022-01-14",
                  "10": "2022-01-20 00:00:00"
                },
                {
                  "0": "2022-01-08 22:03:00_6b2fd11f392da4b1e92e661d1ff234092e6be21d626036abe5d7d1144756daff_1caf4f07-25b1-4fa1-9a00-d4e7ae51cd21",
                  "1": "1caf4f07-25b1-4fa1-9a00-d4e7ae51cd21",
                  "2": "00b46bad-eb1d-41d3-ad11-16095144a56f",
                  "3": "ab3f7aa0-12a4-4356-8de1-001552836d4e",
                  "4": "FAF3539D627A4E6280B60BC3C73E95E2",
                  "5": "d9c5eea71a649bab20fbe2de67d803d18a745926959f4fb80560cf6c758961ef",
                  "6": "6b2fd11f392da4b1e92e661d1ff234092e6be21d626036abe5d7d1144756daff",
                  "7": "3",
                  "8": "2022-01-08 22:03:00",
                  "9": "2022-01-03",
                  "10": "2022-01-15 00:00:00"
                },
                {
                  "0": "2022-01-19 18:52:00_163e8eca7a297334357b63f33c97ca635fe011a406b78bbe3ee2e0fdee3c205b_026798a4-c0b1-43a2-9cdf-1e6f140b0aac",
                  "1": "026798a4-c0b1-43a2-9cdf-1e6f140b0aac",
                  "2": "ab2a9665-ce87-4120-a8b5-edd392875e42",
                  "3": "3afe6d5c-3eaa-4c63-a027-53b957c87290",
                  "4": "445E913608A44FBDA99B8108E1990EB0",
                  "5": "6ce06102dd996e02ac093d17b596934622cf355d33cbbdaa36148b616acc8701",
                  "6": "163e8eca7a297334357b63f33c97ca635fe011a406b78bbe3ee2e0fdee3c205b",
                  "7": "4",
                  "8": "2022-01-19 18:52:00",
                  "9": "2022-01-03",
                  "10": "2022-01-09 00:00:00",
                  "11": "97.0"
                },
                {
                  "0": "2022-01-11 17:31:00_33183013d08755d0feef09a522230c4fa72d3e772f2551b71d25521a230ae7c0_62d5462d-caaa-4d5f-8ff4-66a1c8e5004a",
                  "1": "62d5462d-caaa-4d5f-8ff4-66a1c8e5004a",
                  "2": "421b6506-5b1c-45b1-8f9f-d65a35bbcf32",
                  "3": "800e3ba2-e926-489d-bbe1-df91adaa73d5",
                  "4": "21A2ECF0DA464984BAA8056F9257AC03",
                  "5": "1cb1f54623ccff43860075094d49f7cf5537a775dbd35cabc014a0ab7671d821",
                  "6": "33183013d08755d0feef09a522230c4fa72d3e772f2551b71d25521a230ae7c0",
                  "7": "3",
                  "8": "2022-01-11 17:31:00",
                  "9": "2022-01-05",
                  "10": "2022-01-15 00:00:00"
                },
                {
                  "0": "2022-01-22 04:37:00_163e8eca7a297334357b63f33c97ca635fe011a406b78bbe3ee2e0fdee3c205b_558b3e15-5f9f-41bb-9449-babb16359c6a",
                  "1": "558b3e15-5f9f-41bb-9449-babb16359c6a",
                  "2": "ab2a9665-ce87-4120-a8b5-edd392875e42",
                  "3": "3afe6d5c-3eaa-4c63-a027-53b957c87290",
                  "4": "445E913608A44FBDA99B8108E1990EB0",
                  "5": "6ce06102dd996e02ac093d17b596934622cf355d33cbbdaa36148b616acc8701",
                  "6": "163e8eca7a297334357b63f33c97ca635fe011a406b78bbe3ee2e0fdee3c205b",
                  "7": "4",
                  "8": "2022-01-22 04:37:00",
                  "9": "2022-01-05",
                  "10": "2022-01-17 00:00:00",
                  "11": "90.0"
                },
                {
                  "0": "2022-01-14 20:18:00_b7dba5d980339143825e7cc8c1063a881c8ac032c1082bed6ee24330d1d9fbeb_da143e37-edb7-482c-9df9-fe30c30d073a",
                  "1": "da143e37-edb7-482c-9df9-fe30c30d073a",
                  "2": "421b6506-5b1c-45b1-8f9f-d65a35bbcf32",
                  "3": "16abe8a8-4fb8-4987-9791-2e3cdfcb6db2",
                  "4": "16D3783DEA504F35B66FD00178DFC2CB",
                  "5": "12561d6b0c0058713825699a7697e10310fb989efb91f2343af7b87e13fdfdd8",
                  "6": "b7dba5d980339143825e7cc8c1063a881c8ac032c1082bed6ee24330d1d9fbeb",
                  "7": "2",
                  "8": "2022-01-14 20:18:00",
                  "9": "2022-01-12",
                  "10": "2022-01-17 00:00:00"
                },
                {
                  "0": "2022-01-15 05:54:00_6b2fd11f392da4b1e92e661d1ff234092e6be21d626036abe5d7d1144756daff_bbceaa5e-14b2-448f-a946-9dcbe64d7a25",
                  "1": "bbceaa5e-14b2-448f-a946-9dcbe64d7a25",
                  "2": "00b46bad-eb1d-41d3-ad11-16095144a56f",
                  "3": "ab3f7aa0-12a4-4356-8de1-001552836d4e",
                  "4": "FAF3539D627A4E6280B60BC3C73E95E2",
                  "5": "d9c5eea71a649bab20fbe2de67d803d18a745926959f4fb80560cf6c758961ef",
                  "6": "6b2fd11f392da4b1e92e661d1ff234092e6be21d626036abe5d7d1144756daff",
                  "7": "4",
                  "8": "2022-01-15 05:54:00",
                  "9": "2022-01-04",
                  "10": "2022-01-15 00:00:00",
                  "11": "91.0"
                },
                {
                  "0": "2022-01-07 14:22:00_8f24b3670df134743226c1834a3e1b50fdeb2cdafb8e8e0050ae35bb5769217e_9fd0626e-f517-4c55-bce6-54f1d48a1452",
                  "1": "9fd0626e-f517-4c55-bce6-54f1d48a1452",
                  "2": "421b6506-5b1c-45b1-8f9f-d65a35bbcf32",
                  "3": "34be5f28-8025-4310-9124-bcc0f2516df4",
                  "4": "78E67CD474B7442A8DA5297A09A558D8",
                  "5": "756dfbd4083b98214b762ead80df4f87b58acb7d03720630275aba027b4dfdaf",
                  "6": "8f24b3670df134743226c1834a3e1b50fdeb2cdafb8e8e0050ae35bb5769217e",
                  "7": "2",
                  "8": "2022-01-07 14:22:00",
                  "9": "2022-01-07",
                  "10": "2022-01-16 00:00:00"
                },
                {
                  "0": "2022-01-14 23:51:00_8f24b3670df134743226c1834a3e1b50fdeb2cdafb8e8e0050ae35bb5769217e_2eaddc49-ab44-4945-8e7a-0d057ea8a1f2",
                  "1": "2eaddc49-ab44-4945-8e7a-0d057ea8a1f2",
                  "2": "421b6506-5b1c-45b1-8f9f-d65a35bbcf32",
                  "3": "34be5f28-8025-4310-9124-bcc0f2516df4",
                  "4": "78E67CD474B7442A8DA5297A09A558D8",
                  "5": "756dfbd4083b98214b762ead80df4f87b58acb7d03720630275aba027b4dfdaf",
                  "6": "8f24b3670df134743226c1834a3e1b50fdeb2cdafb8e8e0050ae35bb5769217e",
                  "7": "2",
                  "8": "2022-01-14 23:51:00",
                  "9": "2022-01-14",
                  "10": "2022-01-25 00:00:00"
                }
              ],
              "schema": [
                {
                  "key": "0",
                  "name": "AssignmentActivityId",
                  "type": "string"
                },
                {
                  "key": "1",
                  "name": "AssignmentId",
                  "type": "string"
                },
                {
                  "key": "2",
                  "name": "SchoolId",
                  "type": "string"
                },
                {
                  "key": "3",
                  "name": "CourseId",
                  "type": "string"
                },
                {
                  "key": "4",
                  "name": "SectionId",
                  "type": "string"
                },
                {
                  "key": "5",
                  "name": "InstructorId_pseudonym",
                  "type": "string"
                },
                {
                  "key": "6",
                  "name": "StudentId_pseudonym",
                  "type": "string"
                },
                {
                  "key": "7",
                  "name": "AssignmentStatusId",
                  "type": "string"
                },
                {
                  "key": "8",
                  "name": "AssignmentStatusTime",
                  "type": "timestamp"
                },
                {
                  "key": "9",
                  "name": "AssignedDate",
                  "type": "date"
                },
                {
                  "key": "10",
                  "name": "DueDate",
                  "type": "timestamp"
                },
                {
                  "key": "11",
                  "name": "Grade",
                  "type": "double"
                }
              ],
              "truncated": false
            },
            "isSummary": false,
            "language": "scala"
          },
          "persist_state": {
            "view": {
              "type": "details",
              "tableOptions": {},
              "chartOptions": {
                "chartType": "bar",
                "aggregationType": "sum",
                "categoryFieldKeys": [
                  "0"
                ],
                "seriesFieldKeys": [
                  "11"
                ],
                "isStacked": false
              }
            }
          }
        },
        "429ac374-d171-4ab2-90b5-9b044a9e8a92": {
          "type": "Synapse.DataFrame",
          "sync_state": {
            "table": {
              "rows": [
                {
                  "0": "001719c3-be4d-4510-aa51-019f8561a412",
                  "1": "79ab1377-61f3-4462-95c8-284cb10201b8",
                  "2": "fe4e6ac7-4f63-4a6c-a580-d9156460c087",
                  "3": "A520F654FBCC4CCEBACEC63D2333D771",
                  "5": "a7cdd6149a445e73570f4b1800319666fb553420c38d6cd9f28f4a25e186c72d",
                  "6": "020000",
                  "7": "2022-01-15",
                  "8": "2022-01-15 10:05:00"
                },
                {
                  "0": "001b0f03-dafc-4a6a-8c25-6938ef0d0681",
                  "1": "421b6506-5b1c-45b1-8f9f-d65a35bbcf32",
                  "2": "64daeeb7-c5f0-4307-b352-473b8076540e",
                  "3": "95AE2468EFE544689808A2C3516E6B2E",
                  "5": "ad95c84dea29108a082a33030fc4db45cbdf0ee87af3ded8e9b9056b0c8dc428",
                  "6": "020000",
                  "7": "2022-01-24",
                  "8": "2022-01-24 10:43:00"
                },
                {
                  "0": "0021fedf-88ca-4a15-ab51-4809c7ca71ed",
                  "1": "79ab1377-61f3-4462-95c8-284cb10201b8",
                  "2": "b4d30b90-b4e6-4d58-8924-395df74071f4",
                  "3": "B6E4ABF9F1CA41A6A5317AFB4BDCACB4",
                  "5": "b54925188a3e3f25926e6f1512cb88a609dbf646d5c36434af5d794933ce937a",
                  "6": "020000",
                  "7": "2022-01-08",
                  "8": "2022-01-08 05:37:00"
                },
                {
                  "0": "00328b7b-3a17-4d85-8068-ac269194c643",
                  "1": "00b46bad-eb1d-41d3-ad11-16095144a56f",
                  "2": "9b62beda-7d06-45cb-bfa8-f4de1d7a8b84",
                  "3": "1AC9DCA1874A42B0915A699B7675B90F",
                  "5": "8d4f14a23999d5f512eea11f2be8684e5c2cb73259a0a28e0b37a02c2423e02f",
                  "6": "100000",
                  "7": "2022-01-10",
                  "8": "2022-01-10 10:55:00"
                },
                {
                  "0": "005c01d1-2bbd-4a36-a33e-057d20a147fb",
                  "1": "79ab1377-61f3-4462-95c8-284cb10201b8",
                  "2": "70c38023-8847-4967-ad18-0f5376452db3",
                  "3": "C6BFFB2D75F5425EAA743F666C89702B",
                  "5": "6b8ed342632c0b8f6bf19b9d59f7cf07c0d6249e29b037b975c9f3692d8a5a21",
                  "6": "020000",
                  "7": "2022-01-08",
                  "8": "2022-01-08 09:24:00"
                },
                {
                  "0": "006259a9-c4f2-40aa-9b9e-d063c34ca238",
                  "1": "79ab1377-61f3-4462-95c8-284cb10201b8",
                  "2": "fe4e6ac7-4f63-4a6c-a580-d9156460c087",
                  "3": "A520F654FBCC4CCEBACEC63D2333D771",
                  "5": "e3c8e101eefca15f0c0f192888e4eb6d28c3b7e2c5622d42168c3700db92a718",
                  "6": "020000",
                  "7": "2022-01-11",
                  "8": "2022-01-11 00:42:00"
                },
                {
                  "0": "006d3500-7cdf-4f3a-bb57-5b483d158e3a",
                  "1": "79ab1377-61f3-4462-95c8-284cb10201b8",
                  "2": "a1af6861-f244-4b62-a04f-1626a2de956f",
                  "3": "EEFC922BA6B543A28FECDEC638E07EE0",
                  "5": "fe793907c3c014c4b548d11d82ef0d0d739f53d81a102a0cadd5a426f2ac250d",
                  "6": "100000",
                  "7": "2022-01-20",
                  "8": "2022-01-20 13:30:00"
                },
                {
                  "0": "00798b8c-5ba6-43e1-9d5c-bde29020d2a8",
                  "1": "79ab1377-61f3-4462-95c8-284cb10201b8",
                  "2": "ee13b77c-be6e-402a-ae93-0837f5596d30",
                  "3": "7510AF2BAFE14181BE9ED11FBBE569AB",
                  "5": "71bf9f91f1f10aed4e66f6a14a92c27201f185eda6871902e6034c622e847983",
                  "6": "020000",
                  "7": "2022-01-17",
                  "8": "2022-01-17 04:02:00"
                },
                {
                  "0": "00881572-248c-4a83-b3bc-26dfce9f150d",
                  "1": "00b46bad-eb1d-41d3-ad11-16095144a56f",
                  "2": "200de65f-9d4c-4e6f-b274-9a4b3bf99148",
                  "3": "03A2BF1EEE524B1CADC97E214963BB92",
                  "5": "3a4a8dfa48e1a59ba5919efda1ffd5835f46a348dd03b543ab76d2935ab51240",
                  "6": "020000",
                  "7": "2022-01-17",
                  "8": "2022-01-17 16:33:00"
                },
                {
                  "0": "0089c903-1902-48dc-b608-fc9e14531b39",
                  "1": "421b6506-5b1c-45b1-8f9f-d65a35bbcf32",
                  "2": "08ac9a42-d082-41fe-90db-d545cc0e022f",
                  "3": "525498CDB2494D87A529C129A592BA75",
                  "5": "3f0dac5a6770112e2fe78835feac575f9cf67e2b0799ea64fbed50015f3d94b4",
                  "6": "020000",
                  "7": "2022-01-28",
                  "8": "2022-01-28 18:43:00"
                }
              ],
              "schema": [
                {
                  "key": "0",
                  "name": "ActivityId",
                  "type": "string"
                },
                {
                  "key": "1",
                  "name": "SchoolId",
                  "type": "string"
                },
                {
                  "key": "2",
                  "name": "CourseId",
                  "type": "string"
                },
                {
                  "key": "3",
                  "name": "SectionId",
                  "type": "string"
                },
                {
                  "key": "4",
                  "name": "InstructorId_pseudonym",
                  "type": "string"
                },
                {
                  "key": "5",
                  "name": "StudentId_pseudonym",
                  "type": "string"
                },
                {
                  "key": "6",
                  "name": "SignalTypeId",
                  "type": "string"
                },
                {
                  "key": "7",
                  "name": "ActivityDate",
                  "type": "date"
                },
                {
                  "key": "8",
                  "name": "StartTime",
                  "type": "timestamp"
                }
              ],
              "truncated": false
            },
            "isSummary": false,
            "language": "scala"
          },
          "persist_state": {
            "view": {
              "type": "details",
              "tableOptions": {},
              "chartOptions": {
                "chartType": "bar",
                "aggregationType": "count",
                "categoryFieldKeys": [
                  "0"
                ],
                "seriesFieldKeys": [
                  "0"
                ],
                "isStacked": false
              }
            }
          }
        }
      }
    }
  },
  "nbformat": 4,
  "nbformat_minor": 2
}