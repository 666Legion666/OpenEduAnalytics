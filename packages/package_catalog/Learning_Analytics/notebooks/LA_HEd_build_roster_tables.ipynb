{
  "cells": [
    {
      "cell_type": "markdown",
      "source": [
        "# Learning Analytics Package: Build Roster Tables\r\n",
        "\r\n",
        "Builds the rostering tables for the Learning Analytics package dashboard, in the context of using the Higher Ed. test data from Microsoft Education Insights roster and activity data.\r\n",
        "\r\n",
        "The following tables are created in each of the steps outlined below:\r\n",
        "\r\n",
        "1. Student_pseudo, \r\n",
        "2. Enrollment_pseudo, and\r\n",
        "3. Student_lookup."
      ],
      "metadata": {
        "nteract": {
          "transient": {
            "deleting": false
          }
        }
      }
    },
    {
      "cell_type": "code",
      "source": [
        "%run /OEA_py"
      ],
      "outputs": [
        {
          "output_type": "display_data",
          "data": {
            "application/vnd.livy.statement-meta+json": {
              "spark_pool": null,
              "session_id": "154",
              "statement_id": -1,
              "state": "finished",
              "livy_statement_state": "available",
              "queued_time": "2022-12-02T16:40:40.6425538Z",
              "session_start_time": null,
              "execution_start_time": "2022-12-02T16:42:19.9879851Z",
              "execution_finish_time": "2022-12-02T16:42:19.9884389Z",
              "spark_jobs": null
            },
            "text/plain": "StatementMeta(, 154, -1, Finished, Available)"
          },
          "metadata": {}
        },
        {
          "output_type": "stream",
          "name": "stdout",
          "text": [
            "2022-12-02 16:42:19,624 - OEA - DEBUG - OEA initialized.\nOEA initialized.\n"
          ]
        }
      ],
      "execution_count": 1,
      "metadata": {
        "jupyter": {
          "source_hidden": false,
          "outputs_hidden": false
        },
        "nteract": {
          "transient": {
            "deleting": false
          }
        }
      }
    },
    {
      "cell_type": "markdown",
      "source": [
        "## 1.) Create Student_pseudo Table\r\n",
        "\r\n",
        "Data Aggregations on Insights (M365) roster data: AADUserPersonMapping, Person, PersonOrgRole, Organization and RefDefinition tables. This notebook was developed using the Higher Ed. test data in stage 2p/np of the data lake. \r\n",
        "\r\n",
        "This table has one row per student in the education system, containing their internal IDs (PersonId), external IDs (AADUser/ObjectId), the school they belong to within the education system, and their grade/role in the education system (currently only grabs students).\r\n",
        "\r\n",
        "This table is then written out to stage 3p under: stage3p/learning_analytics/Student_pseudo."
      ],
      "metadata": {
        "nteract": {
          "transient": {
            "deleting": false
          }
        }
      }
    },
    {
      "cell_type": "code",
      "source": [
        "dfInsights_aaduserpersonmapping = oea.load('M365', 'AadUserPersonMapping_pseudo')\r\n",
        "dfInsights_person = oea.load('M365', 'Person_pseudo')\r\n",
        "dfInsights_personOrgRole = oea.load('M365', 'PersonOrganizationRole_pseudo')\r\n",
        "dfInsights_organization = oea.load('M365', 'Organization_pseudo')\r\n",
        "dfInsights_refDefinition = oea.load('M365', 'RefDefinition_pseudo')\r\n",
        "dfInsights_enrollment = oea.load('M365', 'Enrollment_pseudo')"
      ],
      "outputs": [
        {
          "output_type": "display_data",
          "data": {
            "application/vnd.livy.statement-meta+json": {
              "spark_pool": "sparkMed",
              "session_id": "154",
              "statement_id": 2,
              "state": "finished",
              "livy_statement_state": "available",
              "queued_time": "2022-12-02T16:40:43.7078449Z",
              "session_start_time": null,
              "execution_start_time": "2022-12-02T16:42:20.1379628Z",
              "execution_finish_time": "2022-12-02T16:42:31.1235918Z",
              "spark_jobs": null
            },
            "text/plain": "StatementMeta(sparkMed, 154, 2, Finished, Available)"
          },
          "metadata": {}
        }
      ],
      "execution_count": 2,
      "metadata": {
        "jupyter": {
          "source_hidden": false,
          "outputs_hidden": false
        },
        "nteract": {
          "transient": {
            "deleting": false
          }
        }
      }
    },
    {
      "cell_type": "code",
      "source": [
        "dfInsights = dfInsights_personOrgRole.join(dfInsights_person, dfInsights_personOrgRole.PersonId_pseudonym == dfInsights_person.Id_pseudonym, how='inner')\r\n",
        "dfInsights = dfInsights.select('PersonId_pseudonym', 'Surname', 'GivenName', 'MiddleName', 'RefRoleId', 'RefGradeLevelId', 'OrganizationId')"
      ],
      "outputs": [
        {
          "output_type": "display_data",
          "data": {
            "application/vnd.livy.statement-meta+json": {
              "spark_pool": "sparkMed",
              "session_id": "154",
              "statement_id": 3,
              "state": "finished",
              "livy_statement_state": "available",
              "queued_time": "2022-12-02T16:40:45.101072Z",
              "session_start_time": null,
              "execution_start_time": "2022-12-02T16:42:31.2552894Z",
              "execution_finish_time": "2022-12-02T16:42:31.4274207Z",
              "spark_jobs": null
            },
            "text/plain": "StatementMeta(sparkMed, 154, 3, Finished, Available)"
          },
          "metadata": {}
        }
      ],
      "execution_count": 3,
      "metadata": {
        "jupyter": {
          "source_hidden": false,
          "outputs_hidden": false
        },
        "nteract": {
          "transient": {
            "deleting": false
          }
        }
      }
    },
    {
      "cell_type": "code",
      "source": [
        "dfInsights = dfInsights.join(dfInsights_organization, dfInsights.OrganizationId == dfInsights_organization.Id, how='inner')\r\n",
        "dfInsights = dfInsights.withColumnRenamed('Name', 'OrganizationName')\r\n",
        "dfInsights = dfInsights.select('PersonId_pseudonym', 'Surname', 'GivenName', 'MiddleName', 'RefRoleId', 'RefGradeLevelId', 'OrganizationId', 'OrganizationName')"
      ],
      "outputs": [
        {
          "output_type": "display_data",
          "data": {
            "application/vnd.livy.statement-meta+json": {
              "spark_pool": "sparkMed",
              "session_id": "154",
              "statement_id": 4,
              "state": "finished",
              "livy_statement_state": "available",
              "queued_time": "2022-12-02T16:40:47.1143617Z",
              "session_start_time": null,
              "execution_start_time": "2022-12-02T16:42:31.581199Z",
              "execution_finish_time": "2022-12-02T16:42:31.7541028Z",
              "spark_jobs": null
            },
            "text/plain": "StatementMeta(sparkMed, 154, 4, Finished, Available)"
          },
          "metadata": {}
        }
      ],
      "execution_count": 4,
      "metadata": {
        "jupyter": {
          "source_hidden": false,
          "outputs_hidden": false
        },
        "nteract": {
          "transient": {
            "deleting": false
          }
        }
      }
    },
    {
      "cell_type": "code",
      "source": [
        "dfInsights = dfInsights.join(dfInsights_refDefinition, dfInsights.RefRoleId == dfInsights_refDefinition.Id, how='inner')\r\n",
        "dfInsights = dfInsights.withColumnRenamed('Code', 'PersonRole')\r\n",
        "dfInsights = dfInsights.filter(dfInsights['PersonRole'] == 'Student')\r\n",
        "dfInsights = dfInsights.select('PersonId_pseudonym', 'Surname', 'GivenName', 'MiddleName', 'PersonRole', 'RefGradeLevelId', 'OrganizationId', 'OrganizationName')"
      ],
      "outputs": [
        {
          "output_type": "display_data",
          "data": {
            "application/vnd.livy.statement-meta+json": {
              "spark_pool": "sparkMed",
              "session_id": "154",
              "statement_id": 5,
              "state": "finished",
              "livy_statement_state": "available",
              "queued_time": "2022-12-02T16:40:48.9659649Z",
              "session_start_time": null,
              "execution_start_time": "2022-12-02T16:42:31.9073207Z",
              "execution_finish_time": "2022-12-02T16:42:32.1072815Z",
              "spark_jobs": null
            },
            "text/plain": "StatementMeta(sparkMed, 154, 5, Finished, Available)"
          },
          "metadata": {}
        }
      ],
      "execution_count": 5,
      "metadata": {
        "jupyter": {
          "source_hidden": false,
          "outputs_hidden": false
        },
        "nteract": {
          "transient": {
            "deleting": false
          }
        }
      }
    },
    {
      "cell_type": "code",
      "source": [
        "dfInsights = dfInsights.join(dfInsights_refDefinition, dfInsights.RefGradeLevelId == dfInsights_refDefinition.Id, how='inner')\r\n",
        "dfInsights = dfInsights.withColumnRenamed('Code', 'StudentGrade')\r\n",
        "dfInsights = dfInsights.select('PersonId_pseudonym', 'Surname', 'GivenName', 'MiddleName', 'PersonRole', 'StudentGrade', 'OrganizationId', 'OrganizationName')"
      ],
      "outputs": [
        {
          "output_type": "display_data",
          "data": {
            "application/vnd.livy.statement-meta+json": {
              "spark_pool": "sparkMed",
              "session_id": "154",
              "statement_id": 6,
              "state": "finished",
              "livy_statement_state": "available",
              "queued_time": "2022-12-02T16:40:50.3574724Z",
              "session_start_time": null,
              "execution_start_time": "2022-12-02T16:42:32.2349213Z",
              "execution_finish_time": "2022-12-02T16:42:32.4653816Z",
              "spark_jobs": null
            },
            "text/plain": "StatementMeta(sparkMed, 154, 6, Finished, Available)"
          },
          "metadata": {}
        }
      ],
      "execution_count": 6,
      "metadata": {
        "jupyter": {
          "source_hidden": false,
          "outputs_hidden": false
        },
        "nteract": {
          "transient": {
            "deleting": false
          }
        },
        "collapsed": false
      }
    },
    {
      "cell_type": "code",
      "source": [
        "dfInsights_aaduserpersonmapping = dfInsights_aaduserpersonmapping.withColumnRenamed('PersonId_pseudonym', 'StudentId_internal_pseudonym')\r\n",
        "dfInsights = dfInsights.join(dfInsights_aaduserpersonmapping, dfInsights.PersonId_pseudonym == dfInsights_aaduserpersonmapping.StudentId_internal_pseudonym, how='inner')\r\n",
        "dfInsights = dfInsights.withColumnRenamed('ObjectId_pseudonym', 'StudentId_external_pseudonym').withColumnRenamed('OrganizationName', 'SchoolName')\r\n",
        "dfInsights = dfInsights.select('StudentId_internal_pseudonym', 'StudentId_external_pseudonym', 'Surname', 'GivenName', 'MiddleName', 'PersonRole', 'StudentGrade', 'SchoolName')\r\n",
        "display(dfInsights.limit(10))"
      ],
      "outputs": [
        {
          "output_type": "display_data",
          "data": {
            "application/vnd.livy.statement-meta+json": {
              "spark_pool": "sparkMed",
              "session_id": "154",
              "statement_id": 7,
              "state": "finished",
              "livy_statement_state": "available",
              "queued_time": "2022-12-02T16:40:52.5467339Z",
              "session_start_time": null,
              "execution_start_time": "2022-12-02T16:42:32.7529965Z",
              "execution_finish_time": "2022-12-02T16:42:41.8359889Z",
              "spark_jobs": null
            },
            "text/plain": "StatementMeta(sparkMed, 154, 7, Finished, Available)"
          },
          "metadata": {}
        },
        {
          "output_type": "display_data",
          "data": {
            "application/vnd.synapse.widget-view+json": {
              "widget_id": "24197675-eb5f-4189-a694-00c8aebdb569",
              "widget_type": "Synapse.DataFrame"
            },
            "text/plain": "SynapseWidget(Synapse.DataFrame, 24197675-eb5f-4189-a694-00c8aebdb569)"
          },
          "metadata": {}
        }
      ],
      "execution_count": 7,
      "metadata": {
        "jupyter": {
          "source_hidden": false,
          "outputs_hidden": false
        },
        "nteract": {
          "transient": {
            "deleting": false
          }
        },
        "collapsed": false
      }
    },
    {
      "cell_type": "markdown",
      "source": [
        "### Write to Stage 3p"
      ],
      "metadata": {
        "nteract": {
          "transient": {
            "deleting": false
          }
        }
      }
    },
    {
      "cell_type": "code",
      "source": [
        "dfStudent = dfInsights\r\n",
        "dfStudent.coalesce(1).write.format('delta').mode('overwrite').option('header', True).save(oea.stage3p + '/learning_analytics/Student_pseudo')"
      ],
      "outputs": [
        {
          "output_type": "display_data",
          "data": {
            "application/vnd.livy.statement-meta+json": {
              "spark_pool": "sparkMed",
              "session_id": "154",
              "statement_id": 10,
              "state": "finished",
              "livy_statement_state": "available",
              "queued_time": "2022-12-02T16:43:38.4596812Z",
              "session_start_time": null,
              "execution_start_time": "2022-12-02T16:43:38.6219255Z",
              "execution_finish_time": "2022-12-02T16:43:47.7607649Z",
              "spark_jobs": null
            },
            "text/plain": "StatementMeta(sparkMed, 154, 10, Finished, Available)"
          },
          "metadata": {}
        }
      ],
      "execution_count": 10,
      "metadata": {
        "jupyter": {
          "source_hidden": false,
          "outputs_hidden": false
        },
        "nteract": {
          "transient": {
            "deleting": false
          }
        }
      }
    },
    {
      "cell_type": "markdown",
      "source": [
        "## 2.) Create Enrollment_pseudo Table\r\n",
        "\r\n",
        "Data Aggregations/Enrichment on Insights (M365) roster data: AADGroup (pseudo and lookup), Enrollment, Section, Course, CourseGradeLevel, CourseSubject, Organization and RefDefinition tables. This notebook was developed using the Higher Ed. test data in stage 2p/np of the data lake.\r\n",
        "\r\n",
        "This table writes out multiple rows per student depending on the number of courses they're enrolled in, with specifications regarding the courses/sections that the student is enrolled in (i.e. courseGradeLevel, courseSubject, school associated, etc.)\r\n",
        "\r\n",
        "This table is then written out to stage 3p under: stage3p/learning_analytics/Enrollment_pseudo."
      ],
      "metadata": {
        "nteract": {
          "transient": {
            "deleting": false
          }
        }
      }
    },
    {
      "cell_type": "code",
      "source": [
        "dfInsights_aadgroup = oea.load('M365', 'AadGroup_pseudo')\r\n",
        "#dfInsights_aadgroupmembership = oea.load('M365', 'AadGroupMembership_pseudo')\r\n",
        "dfInsights_aadgroup_np = oea.load('M365', 'AadGroup_lookup', stage=oea.stage2np)\r\n",
        "dfInsights_enrollment = oea.load('M365', 'Enrollment_pseudo')\r\n",
        "dfInsights_section = oea.load('M365', 'Section_pseudo')\r\n",
        "dfInsights_course = oea.load('M365', 'Course_pseudo')\r\n",
        "dfInsights_courseGradeLevel = oea.load('M365', 'CourseGradeLevel_pseudo')\r\n",
        "dfInsights_courseSubject = oea.load('M365', 'CourseSubject_pseudo')\r\n",
        "dfInsights_organization = oea.load('M365', 'Organization_pseudo')\r\n",
        "dfInsights_refDefinition = oea.load('M365', 'RefDefinition_pseudo')"
      ],
      "outputs": [
        {
          "output_type": "display_data",
          "data": {
            "application/vnd.livy.statement-meta+json": {
              "spark_pool": "sparkMed",
              "session_id": "154",
              "statement_id": 11,
              "state": "finished",
              "livy_statement_state": "available",
              "queued_time": "2022-12-02T16:44:20.6689478Z",
              "session_start_time": null,
              "execution_start_time": "2022-12-02T16:44:21.2142734Z",
              "execution_finish_time": "2022-12-02T16:44:32.1352841Z",
              "spark_jobs": null
            },
            "text/plain": "StatementMeta(sparkMed, 154, 11, Finished, Available)"
          },
          "metadata": {}
        }
      ],
      "execution_count": 11,
      "metadata": {
        "jupyter": {
          "source_hidden": false,
          "outputs_hidden": false
        },
        "nteract": {
          "transient": {
            "deleting": false
          }
        }
      }
    },
    {
      "cell_type": "code",
      "source": [
        "dfInsights_enrollment = dfInsights_enrollment.withColumnRenamed('Id', 'EnrollmentId').drop('SourceSystemId')\r\n",
        "dfStudentClasses = dfInsights_enrollment.join(dfInsights_section, dfInsights_enrollment.SectionId == dfInsights_section.Id, how='inner')\r\n",
        "dfStudentClasses = dfStudentClasses.withColumnRenamed('PersonId_pseudonym', 'StudentId_internal_pseudonym').withColumnRenamed('Name', 'SectionName') \\\r\n",
        "    .withColumnRenamed('RefSectionRoleId', 'PersonRole').withColumnRenamed('OrganizationId', 'SchoolId')\r\n",
        "dfStudentClasses = dfStudentClasses.select('EnrollmentId', 'SectionName', 'SectionId', 'StudentId_internal_pseudonym', 'PersonRole', 'EntryDate', 'ExitDate', 'SchoolId', 'CourseId')"
      ],
      "outputs": [
        {
          "output_type": "display_data",
          "data": {
            "application/vnd.livy.statement-meta+json": {
              "spark_pool": "sparkMed",
              "session_id": "154",
              "statement_id": 18,
              "state": "finished",
              "livy_statement_state": "available",
              "queued_time": "2022-12-02T16:52:19.1165213Z",
              "session_start_time": null,
              "execution_start_time": "2022-12-02T16:52:19.273113Z",
              "execution_finish_time": "2022-12-02T16:52:19.5558204Z",
              "spark_jobs": null
            },
            "text/plain": "StatementMeta(sparkMed, 154, 18, Finished, Available)"
          },
          "metadata": {}
        }
      ],
      "execution_count": 18,
      "metadata": {
        "jupyter": {
          "source_hidden": false,
          "outputs_hidden": false
        },
        "nteract": {
          "transient": {
            "deleting": false
          }
        },
        "collapsed": false
      }
    },
    {
      "cell_type": "code",
      "source": [
        "dfStudentClasses = dfStudentClasses.join(dfInsights_course, dfStudentClasses.CourseId == dfInsights_course.Id, how='inner')\r\n",
        "dfStudentClasses = dfStudentClasses.withColumnRenamed('Name', 'CourseName')\r\n",
        "dfStudentClasses = dfStudentClasses.select('EnrollmentId', 'SectionName', 'SectionId', 'StudentId_internal_pseudonym', 'PersonRole', 'EntryDate', 'ExitDate', 'SchoolId', 'CourseName', 'CourseId')"
      ],
      "outputs": [
        {
          "output_type": "display_data",
          "data": {
            "application/vnd.livy.statement-meta+json": {
              "spark_pool": "sparkMed",
              "session_id": "154",
              "statement_id": 19,
              "state": "finished",
              "livy_statement_state": "available",
              "queued_time": "2022-12-02T16:52:20.8939868Z",
              "session_start_time": null,
              "execution_start_time": "2022-12-02T16:52:21.0381939Z",
              "execution_finish_time": "2022-12-02T16:52:21.2075056Z",
              "spark_jobs": null
            },
            "text/plain": "StatementMeta(sparkMed, 154, 19, Finished, Available)"
          },
          "metadata": {}
        }
      ],
      "execution_count": 19,
      "metadata": {
        "jupyter": {
          "source_hidden": false,
          "outputs_hidden": false
        },
        "nteract": {
          "transient": {
            "deleting": false
          }
        },
        "collapsed": false
      }
    },
    {
      "cell_type": "code",
      "source": [
        "dfStudentClasses = dfStudentClasses.join(dfInsights_organization, dfStudentClasses.SchoolId == dfInsights_organization.Id, how='inner')\r\n",
        "dfStudentClasses = dfStudentClasses.withColumnRenamed('Name', 'SchoolName')\r\n",
        "dfStudentClasses = dfStudentClasses.select('EnrollmentId', 'SectionName', 'SectionId', 'StudentId_internal_pseudonym', 'PersonRole', 'EntryDate', 'ExitDate', 'SchoolName', 'CourseName', 'CourseId')"
      ],
      "outputs": [
        {
          "output_type": "display_data",
          "data": {
            "application/vnd.livy.statement-meta+json": {
              "spark_pool": "sparkMed",
              "session_id": "154",
              "statement_id": 20,
              "state": "finished",
              "livy_statement_state": "available",
              "queued_time": "2022-12-02T16:52:22.9554313Z",
              "session_start_time": null,
              "execution_start_time": "2022-12-02T16:52:23.2767021Z",
              "execution_finish_time": "2022-12-02T16:52:23.466177Z",
              "spark_jobs": null
            },
            "text/plain": "StatementMeta(sparkMed, 154, 20, Finished, Available)"
          },
          "metadata": {}
        }
      ],
      "execution_count": 20,
      "metadata": {
        "jupyter": {
          "source_hidden": false,
          "outputs_hidden": false
        },
        "nteract": {
          "transient": {
            "deleting": false
          }
        },
        "collapsed": false
      }
    },
    {
      "cell_type": "code",
      "source": [
        "dfInsights_courseGradeLevel = dfInsights_courseGradeLevel.withColumnRenamed('Id', 'CourseGradeLevelId')\r\n",
        "dfCourseGradeLevel = dfInsights_courseGradeLevel.join(dfInsights_refDefinition, dfInsights_courseGradeLevel.RefGradeLevelId == dfInsights_refDefinition.Id, how='inner')\r\n",
        "dfCourseGradeLevel = dfCourseGradeLevel.select('CourseId', 'Code')\r\n",
        "dfCourseGradeLevel = dfCourseGradeLevel.withColumnRenamed('Code', 'CourseGradeLevel').withColumnRenamed('CourseId', 'Id')\r\n",
        "dfStudentClasses = dfStudentClasses.join(dfCourseGradeLevel, dfStudentClasses.CourseId == dfCourseGradeLevel.Id, how='inner')\r\n",
        "dfStudentClasses = dfStudentClasses.select('EnrollmentId', 'SectionName', 'SectionId', 'StudentId_internal_pseudonym', 'PersonRole', 'EntryDate', 'ExitDate', 'SchoolName', 'CourseName', 'CourseId', 'CourseGradeLevel')"
      ],
      "outputs": [
        {
          "output_type": "display_data",
          "data": {
            "application/vnd.livy.statement-meta+json": {
              "spark_pool": "sparkMed",
              "session_id": "154",
              "statement_id": 21,
              "state": "finished",
              "livy_statement_state": "available",
              "queued_time": "2022-12-02T16:52:25.0545602Z",
              "session_start_time": null,
              "execution_start_time": "2022-12-02T16:52:25.3265436Z",
              "execution_finish_time": "2022-12-02T16:52:25.6353514Z",
              "spark_jobs": null
            },
            "text/plain": "StatementMeta(sparkMed, 154, 21, Finished, Available)"
          },
          "metadata": {}
        }
      ],
      "execution_count": 21,
      "metadata": {
        "jupyter": {
          "source_hidden": false,
          "outputs_hidden": false
        },
        "nteract": {
          "transient": {
            "deleting": false
          }
        },
        "collapsed": false
      }
    },
    {
      "cell_type": "code",
      "source": [
        "# Build final enrollment table; temp\r\n",
        "dfInsights_aadgroup_ = dfInsights_aadgroup.select('ObjectId_pseudonym', 'SectionId').withColumnRenamed('SectionId', 'Id').withColumnRenamed('ObjectId_pseudonym', 'AADGroup_ClassId_pseudo')\r\n",
        "dfEnrollment = dfStudentClasses.join(dfInsights_aadgroup_, dfStudentClasses.SectionId == dfInsights_aadgroup_.Id, how='inner')\r\n",
        "dfEnrollment = dfEnrollment.drop('Id')\r\n",
        "dfInsights_aadgroup_np_ = dfInsights_aadgroup_np.select('ObjectId_pseudonym', 'ObjectId')\r\n",
        "dfEnrollment = dfEnrollment.join(dfInsights_aadgroup_np_, dfEnrollment.AADGroup_ClassId_pseudo == dfInsights_aadgroup_np_.ObjectId_pseudonym, how='inner')\r\n",
        "dfEnrollment = dfEnrollment.drop('SectionId').withColumnRenamed('ObjectId', 'SectionId')\r\n",
        "dfEnrollment = dfEnrollment.select('EnrollmentId', 'SectionName', 'SectionId', 'StudentId_internal_pseudonym', 'PersonRole', 'EntryDate', 'ExitDate', 'SchoolName', 'CourseName', 'CourseId', 'CourseGradeLevel')\r\n",
        "\r\n",
        "display(dfEnrollment.limit(10))"
      ],
      "outputs": [
        {
          "output_type": "display_data",
          "data": {
            "application/vnd.livy.statement-meta+json": {
              "spark_pool": "sparkMed",
              "session_id": "154",
              "statement_id": 22,
              "state": "finished",
              "livy_statement_state": "available",
              "queued_time": "2022-12-02T16:52:28.7599935Z",
              "session_start_time": null,
              "execution_start_time": "2022-12-02T16:52:28.9018323Z",
              "execution_finish_time": "2022-12-02T16:52:39.729649Z",
              "spark_jobs": null
            },
            "text/plain": "StatementMeta(sparkMed, 154, 22, Finished, Available)"
          },
          "metadata": {}
        },
        {
          "output_type": "display_data",
          "data": {
            "application/vnd.synapse.widget-view+json": {
              "widget_id": "32609bea-5f3d-489b-9de5-80e67c5cd823",
              "widget_type": "Synapse.DataFrame"
            },
            "text/plain": "SynapseWidget(Synapse.DataFrame, 32609bea-5f3d-489b-9de5-80e67c5cd823)"
          },
          "metadata": {}
        }
      ],
      "execution_count": 22,
      "metadata": {
        "jupyter": {
          "source_hidden": false,
          "outputs_hidden": false
        },
        "nteract": {
          "transient": {
            "deleting": false
          }
        },
        "collapsed": false
      }
    },
    {
      "cell_type": "markdown",
      "source": [
        "### Write to Stage 3p"
      ],
      "metadata": {
        "nteract": {
          "transient": {
            "deleting": false
          }
        }
      }
    },
    {
      "cell_type": "code",
      "source": [
        "dfEnrollment.coalesce(1).write.format('delta').mode('overwrite').option('header', True).save(oea.stage3p + '/learning_analytics/Enrollment_pseudo')"
      ],
      "outputs": [
        {
          "output_type": "display_data",
          "data": {
            "application/vnd.livy.statement-meta+json": {
              "spark_pool": "sparkMed",
              "session_id": "154",
              "statement_id": 23,
              "state": "finished",
              "livy_statement_state": "available",
              "queued_time": "2022-12-02T16:53:12.4917152Z",
              "session_start_time": null,
              "execution_start_time": "2022-12-02T16:53:12.7928387Z",
              "execution_finish_time": "2022-12-02T16:53:21.713774Z",
              "spark_jobs": null
            },
            "text/plain": "StatementMeta(sparkMed, 154, 23, Finished, Available)"
          },
          "metadata": {}
        }
      ],
      "execution_count": 23,
      "metadata": {
        "jupyter": {
          "source_hidden": false,
          "outputs_hidden": false
        },
        "nteract": {
          "transient": {
            "deleting": false
          }
        }
      }
    },
    {
      "cell_type": "markdown",
      "source": [
        "## 3.) Create Student_lookup Table"
      ],
      "metadata": {
        "nteract": {
          "transient": {
            "deleting": false
          }
        }
      }
    },
    {
      "cell_type": "code",
      "source": [
        "dfInsights_person_np = oea.load('M365', 'Person_lookup', stage=oea.stage2np)\r\n",
        "dfInsights_aaduser_np = oea.load('M365', 'AadUser_lookup', stage=oea.stage2np)\r\n",
        "dfInsights_np = dfInsights_person_np.join(dfInsights_aaduserpersonmapping, dfInsights_person_np.Id_pseudonym == dfInsights_aaduserpersonmapping.StudentId_internal_pseudonym, how='inner')\r\n",
        "dfInsights_np = dfInsights_np.withColumnRenamed('Id', 'StudentId_internal').withColumnRenamed('ObjectId_pseudonym', 'StudentId_external_pseudonym')\r\n",
        "dfInsights_np = dfInsights_np.select('StudentId_internal_pseudonym', 'StudentId_internal', 'StudentId_external_pseudonym', 'Surname', 'GivenName', 'MiddleName')\r\n",
        "display(dfInsights_np.limit(10))"
      ],
      "outputs": [
        {
          "output_type": "display_data",
          "data": {
            "application/vnd.livy.statement-meta+json": {
              "spark_pool": "sparkMed",
              "session_id": "154",
              "statement_id": 24,
              "state": "finished",
              "livy_statement_state": "available",
              "queued_time": "2022-12-02T16:53:32.29499Z",
              "session_start_time": null,
              "execution_start_time": "2022-12-02T16:53:32.5010414Z",
              "execution_finish_time": "2022-12-02T16:53:37.9847946Z",
              "spark_jobs": null
            },
            "text/plain": "StatementMeta(sparkMed, 154, 24, Finished, Available)"
          },
          "metadata": {}
        },
        {
          "output_type": "display_data",
          "data": {
            "application/vnd.synapse.widget-view+json": {
              "widget_id": "7924e03a-a2c1-4683-9b7a-ac0883ac784e",
              "widget_type": "Synapse.DataFrame"
            },
            "text/plain": "SynapseWidget(Synapse.DataFrame, 7924e03a-a2c1-4683-9b7a-ac0883ac784e)"
          },
          "metadata": {}
        }
      ],
      "execution_count": 24,
      "metadata": {
        "jupyter": {
          "source_hidden": false,
          "outputs_hidden": false
        },
        "nteract": {
          "transient": {
            "deleting": false
          }
        },
        "collapsed": false
      }
    },
    {
      "cell_type": "code",
      "source": [
        "dfInsights_aaduser_np = dfInsights_aaduser_np.withColumnRenamed('Surname', 'Surname2').withColumnRenamed('GivenName', 'GivenName2')\r\n",
        "dfInsights_np = dfInsights_np.join(dfInsights_aaduser_np, dfInsights_np.StudentId_external_pseudonym == dfInsights_aaduser_np.ObjectId_pseudonym, how='inner')\r\n",
        "dfInsights_np = dfInsights_np.withColumnRenamed('ObjectId', 'StudentId_external')\r\n",
        "dfInsights_np = dfInsights_np.select('StudentId_internal_pseudonym', 'StudentId_internal', 'StudentId_external_pseudonym', 'StudentId_external', 'Surname', 'GivenName', 'MiddleName')\r\n",
        "display(dfInsights_np.limit(10))"
      ],
      "outputs": [
        {
          "output_type": "display_data",
          "data": {
            "application/vnd.livy.statement-meta+json": {
              "spark_pool": "sparkMed",
              "session_id": "154",
              "statement_id": 25,
              "state": "finished",
              "livy_statement_state": "available",
              "queued_time": "2022-12-02T16:53:34.732702Z",
              "session_start_time": null,
              "execution_start_time": "2022-12-02T16:53:38.2450625Z",
              "execution_finish_time": "2022-12-02T16:53:41.2372083Z",
              "spark_jobs": null
            },
            "text/plain": "StatementMeta(sparkMed, 154, 25, Finished, Available)"
          },
          "metadata": {}
        },
        {
          "output_type": "display_data",
          "data": {
            "application/vnd.synapse.widget-view+json": {
              "widget_id": "83588b6b-477c-46d3-af7d-478491e0403c",
              "widget_type": "Synapse.DataFrame"
            },
            "text/plain": "SynapseWidget(Synapse.DataFrame, 83588b6b-477c-46d3-af7d-478491e0403c)"
          },
          "metadata": {}
        }
      ],
      "execution_count": 25,
      "metadata": {
        "jupyter": {
          "source_hidden": false,
          "outputs_hidden": false
        },
        "nteract": {
          "transient": {
            "deleting": false
          }
        },
        "collapsed": false
      }
    },
    {
      "cell_type": "code",
      "source": [
        "dfInsights_np.coalesce(1).write.format('delta').mode('overwrite').option('header', True).save(oea.stage3np + '/learning_analytics/Student_lookup')"
      ],
      "outputs": [
        {
          "output_type": "display_data",
          "data": {
            "application/vnd.livy.statement-meta+json": {
              "spark_pool": "sparkMed",
              "session_id": "154",
              "statement_id": 26,
              "state": "finished",
              "livy_statement_state": "available",
              "queued_time": "2022-12-02T16:53:45.6369814Z",
              "session_start_time": null,
              "execution_start_time": "2022-12-02T16:53:45.8096621Z",
              "execution_finish_time": "2022-12-02T16:53:51.3432888Z",
              "spark_jobs": null
            },
            "text/plain": "StatementMeta(sparkMed, 154, 26, Finished, Available)"
          },
          "metadata": {}
        }
      ],
      "execution_count": 26,
      "metadata": {
        "jupyter": {
          "source_hidden": false,
          "outputs_hidden": false
        },
        "nteract": {
          "transient": {
            "deleting": false
          }
        }
      }
    }
  ],
  "metadata": {
    "kernelspec": {
      "name": "synapse_pyspark",
      "display_name": "Synapse PySpark"
    },
    "language_info": {
      "name": "python"
    },
    "description": null,
    "save_output": true,
    "synapse_widget": {
      "version": "0.1",
      "state": {
        "24197675-eb5f-4189-a694-00c8aebdb569": {
          "type": "Synapse.DataFrame",
          "sync_state": {
            "table": {
              "rows": [
                {
                  "0": "c7a6a548514696f2cabebd3d38534b8361c8716633295a4c8e71d98199ef2e71",
                  "1": "e919d1612b18c5f6505e04e8843fe9774198c0de4c84c0ef17c033b45cfe35fd",
                  "2": "*",
                  "3": "*",
                  "4": "*",
                  "5": "Student",
                  "6": "undergraduate",
                  "7": "School of Fine Arts"
                },
                {
                  "0": "6bc9a18a3dcff4010d78e8707fbfccebd6ea80ca7c7d8abcf47c194ff36ca9a1",
                  "1": "5931763df30af35c6b83421ac630b8b647cf5d5405f8b65b7e49a4b9300e0ea1",
                  "2": "*",
                  "3": "*",
                  "4": "*",
                  "5": "Student",
                  "6": "undergraduate",
                  "7": "School of Fine Arts"
                },
                {
                  "0": "f9aa4222728f10dc0bfb02296a6850123722bd8f3da62dd09019499b7f440a71",
                  "1": "bbee57a9314742a12e4490f868f7484e6ae24a4c07c998b681fdde2938d84a09",
                  "2": "*",
                  "3": "*",
                  "4": "*",
                  "5": "Student",
                  "6": "undergraduate",
                  "7": "School of Fine Arts"
                },
                {
                  "0": "741fd0392de15ce5de201e071c6611ed64c1f01a81f9043ec40f03cf6d71be52",
                  "1": "2efbbf9e4cae48d02d440582f196b91c2b76bf24d58387d76ce5c453fe088fa8",
                  "2": "*",
                  "3": "*",
                  "4": "*",
                  "5": "Student",
                  "6": "undergraduate",
                  "7": "School of Fine Arts"
                },
                {
                  "0": "899e96422ff81809b165d9e19296d581f67ae2965e7146cf1f1d5ab9908f5838",
                  "1": "62198b3154089acf0d1464dacbf7d35ee5f62822a27c066bfc26faa85cef7ee8",
                  "2": "*",
                  "3": "*",
                  "4": "*",
                  "5": "Student",
                  "6": "undergraduate",
                  "7": "School of Fine Arts"
                },
                {
                  "0": "44f7d423aa31c365e5190cff760ad7e0ba8620995165a6630f346572edd751b1",
                  "1": "c49a8fa1a89ff16782c0e3995c0b0defce637d7d52d34762697a65388edc5ece",
                  "2": "*",
                  "3": "*",
                  "4": "*",
                  "5": "Student",
                  "6": "undergraduate",
                  "7": "School of Fine Arts"
                },
                {
                  "0": "8d2a392ee2699bc6326e40a6a52bcd3ba6927ae0cc0281f0c185630046b87cfa",
                  "1": "0015dd1f2156b743b6e8ff6e6881ff9119ef58e71ddc8e85b11d755b3d654d4a",
                  "2": "*",
                  "3": "*",
                  "4": "*",
                  "5": "Student",
                  "6": "undergraduate",
                  "7": "School of Fine Arts"
                },
                {
                  "0": "5ccfb0af1f77a150a1b995a72e381e6a4689c58c02997a3b6d249f65b3456d78",
                  "1": "e0eb9b73bc09c44a9f557aebb6a6bbff1a8af3a3a5dc0301e504d41912a7a086",
                  "2": "*",
                  "3": "*",
                  "4": "*",
                  "5": "Student",
                  "6": "undergraduate",
                  "7": "School of Fine Arts"
                },
                {
                  "0": "95bd66450dc58586771f997beef17a160305063eaa0966ddeb6d71f4d990ca5d",
                  "1": "0b5385e59225f13056ff38dad3d9e2f0e1bc27cd276df0b5fdafde0315fe8242",
                  "2": "*",
                  "3": "*",
                  "4": "*",
                  "5": "Student",
                  "6": "undergraduate",
                  "7": "School of Fine Arts"
                },
                {
                  "0": "b28d4edcdbe1a84095054be594815ee6333be526fc51e53eec6bdf520e5a148b",
                  "1": "66ed9a086452ec90922d8427c18cf0845302955f85fd11edbc84cc7fceb8bf8e",
                  "2": "*",
                  "3": "*",
                  "4": "*",
                  "5": "Student",
                  "6": "undergraduate",
                  "7": "School of Fine Arts"
                }
              ],
              "schema": [
                {
                  "key": "0",
                  "name": "StudentId_internal_pseudonym",
                  "type": "string"
                },
                {
                  "key": "1",
                  "name": "StudentId_external_pseudonym",
                  "type": "string"
                },
                {
                  "key": "2",
                  "name": "Surname",
                  "type": "string"
                },
                {
                  "key": "3",
                  "name": "GivenName",
                  "type": "string"
                },
                {
                  "key": "4",
                  "name": "MiddleName",
                  "type": "string"
                },
                {
                  "key": "5",
                  "name": "PersonRole",
                  "type": "string"
                },
                {
                  "key": "6",
                  "name": "StudentGrade",
                  "type": "string"
                },
                {
                  "key": "7",
                  "name": "SchoolName",
                  "type": "string"
                }
              ],
              "truncated": false
            },
            "isSummary": false,
            "language": "scala"
          },
          "persist_state": {
            "view": {
              "type": "details",
              "tableOptions": {},
              "chartOptions": {
                "chartType": "bar",
                "aggregationType": "count",
                "categoryFieldKeys": [
                  "0"
                ],
                "seriesFieldKeys": [
                  "0"
                ],
                "isStacked": false
              }
            }
          }
        },
        "32609bea-5f3d-489b-9de5-80e67c5cd823": {
          "type": "Synapse.DataFrame",
          "sync_state": {
            "table": {
              "rows": [
                {
                  "0": "8fcaa3cf-711b-4fb8-9a8f-e520c6911beb",
                  "1": "Methods in Art Education",
                  "2": "09D09336-CFDA-48CD-AE9F-B3DBD71F0FD1",
                  "3": "c7a6a548514696f2cabebd3d38534b8361c8716633295a4c8e71d98199ef2e71",
                  "4": "Student",
                  "5": "2022-01-03",
                  "6": "2022-06-03",
                  "7": "School of Fine Arts",
                  "8": "Methods in Art Education",
                  "9": "163bddd6-3ba6-40b1-8274-ee449abd1387",
                  "10": "undergraduate"
                },
                {
                  "0": "2a7946b2-1500-4aa0-9d1c-aded8aca629a",
                  "1": "Intro to Blacksmithing",
                  "2": "8637469A-995D-43FE-873F-0C3355984527",
                  "3": "c7a6a548514696f2cabebd3d38534b8361c8716633295a4c8e71d98199ef2e71",
                  "4": "Student",
                  "5": "2022-01-03",
                  "6": "2022-06-03",
                  "7": "School of Fine Arts",
                  "8": "Intro to Blacksmithing",
                  "9": "270b3a19-90ef-4d4e-b969-3b203b4d75f0",
                  "10": "undergraduate"
                },
                {
                  "0": "f5296da4-00f1-4050-b88a-49c8e463ea42",
                  "1": "Ceramics",
                  "2": "076AF3CF-400C-4FA3-B1BC-72F18294D247",
                  "3": "c7a6a548514696f2cabebd3d38534b8361c8716633295a4c8e71d98199ef2e71",
                  "4": "Student",
                  "5": "2022-01-03",
                  "6": "2022-06-03",
                  "7": "School of Fine Arts",
                  "8": "Ceramics",
                  "9": "961623b8-68af-43ab-a3a3-4caf4b961a32",
                  "10": "undergraduate"
                },
                {
                  "0": "5ebf3537-61dc-487d-ba66-85c18f7777a1",
                  "1": "Intro to Digital Art",
                  "2": "901555A6-82DC-4E55-90DF-095A324C768E",
                  "3": "c7a6a548514696f2cabebd3d38534b8361c8716633295a4c8e71d98199ef2e71",
                  "4": "Student",
                  "5": "2022-01-03",
                  "6": "2022-06-03",
                  "7": "School of Fine Arts",
                  "8": "Intro to Digital Art",
                  "9": "0f0fb674-c42a-4655-acd5-a34f520f55c3",
                  "10": "undergraduate"
                },
                {
                  "0": "27ae1725-bdaa-46b9-97d9-ce6bf945d490",
                  "1": "Art Appreciation",
                  "2": "72AA7803-11D6-4A48-B369-5B37F770F801",
                  "3": "c7a6a548514696f2cabebd3d38534b8361c8716633295a4c8e71d98199ef2e71",
                  "4": "Student",
                  "5": "2022-01-03",
                  "6": "2022-06-03",
                  "7": "School of Fine Arts",
                  "8": "Art Appreciation",
                  "9": "dc730cc3-9098-4d24-89ae-1526a0f031f8",
                  "10": "undergraduate"
                },
                {
                  "0": "a873b998-42e3-495a-8d64-c18cceeb9173",
                  "1": "Themes of Contemporary Art",
                  "2": "A20FEC35-BC7B-4C84-871F-1579BD042EAB",
                  "3": "c7a6a548514696f2cabebd3d38534b8361c8716633295a4c8e71d98199ef2e71",
                  "4": "Student",
                  "5": "2022-01-03",
                  "6": "2022-06-03",
                  "7": "School of Fine Arts",
                  "8": "Themes of Contemporary Art",
                  "9": "63c02437-c105-46c3-beeb-ffb78051315a",
                  "10": "undergraduate"
                },
                {
                  "0": "2f8ccc95-3354-48f5-a4ba-d75c19fb53f4",
                  "1": "Intro to Sculpture",
                  "2": "A828EF04-4846-486E-A5F6-3873FC03B4CD",
                  "3": "6bc9a18a3dcff4010d78e8707fbfccebd6ea80ca7c7d8abcf47c194ff36ca9a1",
                  "4": "Student",
                  "5": "2022-01-03",
                  "6": "2022-06-03",
                  "7": "School of Fine Arts",
                  "8": "Intro to Sculpture",
                  "9": "e699be70-69fa-43c9-9d29-ef2d63a4d6b2",
                  "10": "undergraduate"
                },
                {
                  "0": "2d320342-6661-429c-934f-386c75474246",
                  "1": "Intro to Ceramics",
                  "2": "4961E34E-0CD6-4141-A858-2B816723CBDF",
                  "3": "6bc9a18a3dcff4010d78e8707fbfccebd6ea80ca7c7d8abcf47c194ff36ca9a1",
                  "4": "Student",
                  "5": "2022-01-03",
                  "6": "2022-06-03",
                  "7": "School of Fine Arts",
                  "8": "Intro to Ceramics",
                  "9": "bd74bb9c-9e1a-48b4-a29d-0428cbe9772d",
                  "10": "undergraduate"
                },
                {
                  "0": "8188ac98-f2e7-4227-9761-2ca335f75cd1",
                  "1": "Methods in Art Education",
                  "2": "09D09336-CFDA-48CD-AE9F-B3DBD71F0FD1",
                  "3": "6bc9a18a3dcff4010d78e8707fbfccebd6ea80ca7c7d8abcf47c194ff36ca9a1",
                  "4": "Student",
                  "5": "2022-01-03",
                  "6": "2022-06-03",
                  "7": "School of Fine Arts",
                  "8": "Methods in Art Education",
                  "9": "163bddd6-3ba6-40b1-8274-ee449abd1387",
                  "10": "undergraduate"
                },
                {
                  "0": "82412e82-28bf-4353-84a4-7b4fd865aabb",
                  "1": "Intro to Metalsmithing",
                  "2": "AC08D2CB-AAED-42E6-8CC2-4894F57E53B5",
                  "3": "6bc9a18a3dcff4010d78e8707fbfccebd6ea80ca7c7d8abcf47c194ff36ca9a1",
                  "4": "Student",
                  "5": "2022-01-03",
                  "6": "2022-06-03",
                  "7": "School of Fine Arts",
                  "8": "Intro to Metalsmithing",
                  "9": "da08dd3c-4603-47bf-b999-4c2b28c1934c",
                  "10": "undergraduate"
                }
              ],
              "schema": [
                {
                  "key": "0",
                  "name": "EnrollmentId",
                  "type": "string"
                },
                {
                  "key": "1",
                  "name": "SectionName",
                  "type": "string"
                },
                {
                  "key": "2",
                  "name": "SectionId",
                  "type": "string"
                },
                {
                  "key": "3",
                  "name": "StudentId_internal_pseudonym",
                  "type": "string"
                },
                {
                  "key": "4",
                  "name": "PersonRole",
                  "type": "string"
                },
                {
                  "key": "5",
                  "name": "EntryDate",
                  "type": "string"
                },
                {
                  "key": "6",
                  "name": "ExitDate",
                  "type": "string"
                },
                {
                  "key": "7",
                  "name": "SchoolName",
                  "type": "string"
                },
                {
                  "key": "8",
                  "name": "CourseName",
                  "type": "string"
                },
                {
                  "key": "9",
                  "name": "CourseId",
                  "type": "string"
                },
                {
                  "key": "10",
                  "name": "CourseGradeLevel",
                  "type": "string"
                }
              ],
              "truncated": false
            },
            "isSummary": false,
            "language": "scala"
          },
          "persist_state": {
            "view": {
              "type": "details",
              "tableOptions": {},
              "chartOptions": {
                "chartType": "bar",
                "aggregationType": "count",
                "categoryFieldKeys": [
                  "0"
                ],
                "seriesFieldKeys": [
                  "0"
                ],
                "isStacked": false
              }
            }
          }
        },
        "7924e03a-a2c1-4683-9b7a-ac0883ac784e": {
          "type": "Synapse.DataFrame",
          "sync_state": {
            "table": {
              "rows": [
                {
                  "0": "c7a6a548514696f2cabebd3d38534b8361c8716633295a4c8e71d98199ef2e71",
                  "1": "b2baefad-4c1d-463e-b541-cc5f2f204f52",
                  "2": "e919d1612b18c5f6505e04e8843fe9774198c0de4c84c0ef17c033b45cfe35fd",
                  "3": "Benefield",
                  "4": "Carole",
                  "5": "M"
                },
                {
                  "0": "6bc9a18a3dcff4010d78e8707fbfccebd6ea80ca7c7d8abcf47c194ff36ca9a1",
                  "1": "efc3ba3e-3e18-4364-8d5f-6715f3884833",
                  "2": "5931763df30af35c6b83421ac630b8b647cf5d5405f8b65b7e49a4b9300e0ea1",
                  "3": "Cronan",
                  "4": "Elouise",
                  "5": "A"
                },
                {
                  "0": "f9aa4222728f10dc0bfb02296a6850123722bd8f3da62dd09019499b7f440a71",
                  "1": "f59cc0b4-c654-4fa1-8911-78e19f85ca3e",
                  "2": "bbee57a9314742a12e4490f868f7484e6ae24a4c07c998b681fdde2938d84a09",
                  "3": "Johnson",
                  "4": "Alesia",
                  "5": "C"
                },
                {
                  "0": "741fd0392de15ce5de201e071c6611ed64c1f01a81f9043ec40f03cf6d71be52",
                  "1": "03e200d9-8ceb-4ee4-b13b-a643acf63a5c",
                  "2": "2efbbf9e4cae48d02d440582f196b91c2b76bf24d58387d76ce5c453fe088fa8",
                  "3": "Warner",
                  "4": "Ralph",
                  "5": "J"
                },
                {
                  "0": "899e96422ff81809b165d9e19296d581f67ae2965e7146cf1f1d5ab9908f5838",
                  "1": "c189e3e5-4730-4b4e-ade2-d728cc6b86f3",
                  "2": "62198b3154089acf0d1464dacbf7d35ee5f62822a27c066bfc26faa85cef7ee8",
                  "3": "Patrick",
                  "4": "Jenny",
                  "5": "D"
                },
                {
                  "0": "44f7d423aa31c365e5190cff760ad7e0ba8620995165a6630f346572edd751b1",
                  "1": "b8c3f862-22df-47b5-bc9b-e69e189435e4",
                  "2": "c49a8fa1a89ff16782c0e3995c0b0defce637d7d52d34762697a65388edc5ece",
                  "3": "Lopez",
                  "4": "Marianne",
                  "5": "J"
                },
                {
                  "0": "8d2a392ee2699bc6326e40a6a52bcd3ba6927ae0cc0281f0c185630046b87cfa",
                  "1": "2a4488c6-9916-439e-917d-8b09544220f4",
                  "2": "0015dd1f2156b743b6e8ff6e6881ff9119ef58e71ddc8e85b11d755b3d654d4a",
                  "3": "Riley",
                  "4": "Mildred",
                  "5": "A"
                },
                {
                  "0": "5ccfb0af1f77a150a1b995a72e381e6a4689c58c02997a3b6d249f65b3456d78",
                  "1": "1244b8a0-f530-485a-acd2-e355e053682c",
                  "2": "e0eb9b73bc09c44a9f557aebb6a6bbff1a8af3a3a5dc0301e504d41912a7a086",
                  "3": "Lindsley",
                  "4": "David",
                  "5": "K"
                },
                {
                  "0": "95bd66450dc58586771f997beef17a160305063eaa0966ddeb6d71f4d990ca5d",
                  "1": "acaa8a47-2d91-4047-bb48-1fa4e678f7e9",
                  "2": "0b5385e59225f13056ff38dad3d9e2f0e1bc27cd276df0b5fdafde0315fe8242",
                  "3": "Petrella",
                  "4": "George",
                  "5": "P"
                },
                {
                  "0": "b28d4edcdbe1a84095054be594815ee6333be526fc51e53eec6bdf520e5a148b",
                  "1": "8790fe38-8994-4b34-a165-814e5ed121be",
                  "2": "66ed9a086452ec90922d8427c18cf0845302955f85fd11edbc84cc7fceb8bf8e",
                  "3": "Rice",
                  "4": "Joshua",
                  "5": "R"
                }
              ],
              "schema": [
                {
                  "key": "0",
                  "name": "StudentId_internal_pseudonym",
                  "type": "string"
                },
                {
                  "key": "1",
                  "name": "StudentId_internal",
                  "type": "string"
                },
                {
                  "key": "2",
                  "name": "StudentId_external_pseudonym",
                  "type": "string"
                },
                {
                  "key": "3",
                  "name": "Surname",
                  "type": "string"
                },
                {
                  "key": "4",
                  "name": "GivenName",
                  "type": "string"
                },
                {
                  "key": "5",
                  "name": "MiddleName",
                  "type": "string"
                }
              ],
              "truncated": false
            },
            "isSummary": false,
            "language": "scala"
          },
          "persist_state": {
            "view": {
              "type": "details",
              "tableOptions": {},
              "chartOptions": {
                "chartType": "bar",
                "aggregationType": "count",
                "categoryFieldKeys": [
                  "0"
                ],
                "seriesFieldKeys": [
                  "0"
                ],
                "isStacked": false
              }
            }
          }
        },
        "83588b6b-477c-46d3-af7d-478491e0403c": {
          "type": "Synapse.DataFrame",
          "sync_state": {
            "table": {
              "rows": [
                {
                  "0": "c7a6a548514696f2cabebd3d38534b8361c8716633295a4c8e71d98199ef2e71",
                  "1": "b2baefad-4c1d-463e-b541-cc5f2f204f52",
                  "2": "e919d1612b18c5f6505e04e8843fe9774198c0de4c84c0ef17c033b45cfe35fd",
                  "3": "f269ed04def44e788b92acb93e96ef58",
                  "4": "Benefield",
                  "5": "Carole",
                  "6": "M"
                },
                {
                  "0": "6bc9a18a3dcff4010d78e8707fbfccebd6ea80ca7c7d8abcf47c194ff36ca9a1",
                  "1": "efc3ba3e-3e18-4364-8d5f-6715f3884833",
                  "2": "5931763df30af35c6b83421ac630b8b647cf5d5405f8b65b7e49a4b9300e0ea1",
                  "3": "1d98ac4839844a70b226054195c9d5c7",
                  "4": "Cronan",
                  "5": "Elouise",
                  "6": "A"
                },
                {
                  "0": "f9aa4222728f10dc0bfb02296a6850123722bd8f3da62dd09019499b7f440a71",
                  "1": "f59cc0b4-c654-4fa1-8911-78e19f85ca3e",
                  "2": "bbee57a9314742a12e4490f868f7484e6ae24a4c07c998b681fdde2938d84a09",
                  "3": "29ab930fd6674114a05743ed2dcb32fa",
                  "4": "Johnson",
                  "5": "Alesia",
                  "6": "C"
                },
                {
                  "0": "741fd0392de15ce5de201e071c6611ed64c1f01a81f9043ec40f03cf6d71be52",
                  "1": "03e200d9-8ceb-4ee4-b13b-a643acf63a5c",
                  "2": "2efbbf9e4cae48d02d440582f196b91c2b76bf24d58387d76ce5c453fe088fa8",
                  "3": "27bad028458a48d0a27a129f3d1edee8",
                  "4": "Warner",
                  "5": "Ralph",
                  "6": "J"
                },
                {
                  "0": "899e96422ff81809b165d9e19296d581f67ae2965e7146cf1f1d5ab9908f5838",
                  "1": "c189e3e5-4730-4b4e-ade2-d728cc6b86f3",
                  "2": "62198b3154089acf0d1464dacbf7d35ee5f62822a27c066bfc26faa85cef7ee8",
                  "3": "90267e7054e945a49418868bbccf0571",
                  "4": "Patrick",
                  "5": "Jenny",
                  "6": "D"
                },
                {
                  "0": "44f7d423aa31c365e5190cff760ad7e0ba8620995165a6630f346572edd751b1",
                  "1": "b8c3f862-22df-47b5-bc9b-e69e189435e4",
                  "2": "c49a8fa1a89ff16782c0e3995c0b0defce637d7d52d34762697a65388edc5ece",
                  "3": "c224bda7df3046a5803f915cb7e3fb58",
                  "4": "Lopez",
                  "5": "Marianne",
                  "6": "J"
                },
                {
                  "0": "8d2a392ee2699bc6326e40a6a52bcd3ba6927ae0cc0281f0c185630046b87cfa",
                  "1": "2a4488c6-9916-439e-917d-8b09544220f4",
                  "2": "0015dd1f2156b743b6e8ff6e6881ff9119ef58e71ddc8e85b11d755b3d654d4a",
                  "3": "e3f68873c16f452bb354f7c0618152c1",
                  "4": "Riley",
                  "5": "Mildred",
                  "6": "A"
                },
                {
                  "0": "5ccfb0af1f77a150a1b995a72e381e6a4689c58c02997a3b6d249f65b3456d78",
                  "1": "1244b8a0-f530-485a-acd2-e355e053682c",
                  "2": "e0eb9b73bc09c44a9f557aebb6a6bbff1a8af3a3a5dc0301e504d41912a7a086",
                  "3": "63307e8727d8447aaf7ff4086598e01f",
                  "4": "Lindsley",
                  "5": "David",
                  "6": "K"
                },
                {
                  "0": "95bd66450dc58586771f997beef17a160305063eaa0966ddeb6d71f4d990ca5d",
                  "1": "acaa8a47-2d91-4047-bb48-1fa4e678f7e9",
                  "2": "0b5385e59225f13056ff38dad3d9e2f0e1bc27cd276df0b5fdafde0315fe8242",
                  "3": "2b602e2aea4547b980bc35bf28d17149",
                  "4": "Petrella",
                  "5": "George",
                  "6": "P"
                },
                {
                  "0": "b28d4edcdbe1a84095054be594815ee6333be526fc51e53eec6bdf520e5a148b",
                  "1": "8790fe38-8994-4b34-a165-814e5ed121be",
                  "2": "66ed9a086452ec90922d8427c18cf0845302955f85fd11edbc84cc7fceb8bf8e",
                  "3": "aafe20f94f1349999ab6267ca9beb1fd",
                  "4": "Rice",
                  "5": "Joshua",
                  "6": "R"
                }
              ],
              "schema": [
                {
                  "key": "0",
                  "name": "StudentId_internal_pseudonym",
                  "type": "string"
                },
                {
                  "key": "1",
                  "name": "StudentId_internal",
                  "type": "string"
                },
                {
                  "key": "2",
                  "name": "StudentId_external_pseudonym",
                  "type": "string"
                },
                {
                  "key": "3",
                  "name": "StudentId_external",
                  "type": "string"
                },
                {
                  "key": "4",
                  "name": "Surname",
                  "type": "string"
                },
                {
                  "key": "5",
                  "name": "GivenName",
                  "type": "string"
                },
                {
                  "key": "6",
                  "name": "MiddleName",
                  "type": "string"
                }
              ],
              "truncated": false
            },
            "isSummary": false,
            "language": "scala"
          },
          "persist_state": {
            "view": {
              "type": "details",
              "tableOptions": {},
              "chartOptions": {
                "chartType": "bar",
                "aggregationType": "count",
                "categoryFieldKeys": [
                  "0"
                ],
                "seriesFieldKeys": [
                  "0"
                ],
                "isStacked": false
              }
            }
          }
        }
      }
    }
  },
  "nbformat": 4,
  "nbformat_minor": 2
}