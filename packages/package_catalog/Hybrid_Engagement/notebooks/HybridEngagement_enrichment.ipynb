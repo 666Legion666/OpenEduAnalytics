{
  "nbformat": 4,
  "nbformat_minor": 2,
  "metadata": {
    "kernelspec": {
      "name": "synapse_pyspark",
      "display_name": "Synapse PySpark"
    },
    "language_info": {
      "name": "python"
    },
    "description": null,
    "save_output": true,
    "synapse_widget": {
      "version": "0.1",
      "state": {
        "cfde8dd9-a542-4c3e-a0d8-6416c71db66f": {
          "type": "Synapse.DataFrame",
          "sync_state": {
            "table": {
              "rows": [
                {
                  "0": "c7a6a548514696f2cabebd3d38534b8361c8716633295a4c8e71d98199ef2e71",
                  "1": "*",
                  "2": "*",
                  "3": "*",
                  "4": "43F4D867-D4B7-4EAC-886C-9BD3B3BB96A7",
                  "5": "3C1EF2CC-7EC5-45BC-A63F-BE50DD1EA8F0",
                  "6": "ab2a9665-ce87-4120-a8b5-edd392875e42"
                },
                {
                  "0": "6bc9a18a3dcff4010d78e8707fbfccebd6ea80ca7c7d8abcf47c194ff36ca9a1",
                  "1": "*",
                  "2": "*",
                  "3": "*",
                  "4": "43F4D867-D4B7-4EAC-886C-9BD3B3BB96A7",
                  "5": "865D3FCF-9711-4D63-8621-00715E148B70",
                  "6": "ab2a9665-ce87-4120-a8b5-edd392875e42"
                },
                {
                  "0": "f9aa4222728f10dc0bfb02296a6850123722bd8f3da62dd09019499b7f440a71",
                  "1": "*",
                  "2": "*",
                  "3": "*",
                  "4": "43F4D867-D4B7-4EAC-886C-9BD3B3BB96A7",
                  "5": "54BBE54F-5557-4890-8752-70A0CC452450",
                  "6": "ab2a9665-ce87-4120-a8b5-edd392875e42"
                },
                {
                  "0": "741fd0392de15ce5de201e071c6611ed64c1f01a81f9043ec40f03cf6d71be52",
                  "1": "*",
                  "2": "*",
                  "3": "*",
                  "4": "43F4D867-D4B7-4EAC-886C-9BD3B3BB96A7",
                  "5": "865D3FCF-9711-4D63-8621-00715E148B70",
                  "6": "ab2a9665-ce87-4120-a8b5-edd392875e42"
                },
                {
                  "0": "899e96422ff81809b165d9e19296d581f67ae2965e7146cf1f1d5ab9908f5838",
                  "1": "*",
                  "2": "*",
                  "3": "*",
                  "4": "43F4D867-D4B7-4EAC-886C-9BD3B3BB96A7",
                  "5": "865D3FCF-9711-4D63-8621-00715E148B70",
                  "6": "ab2a9665-ce87-4120-a8b5-edd392875e42"
                },
                {
                  "0": "44f7d423aa31c365e5190cff760ad7e0ba8620995165a6630f346572edd751b1",
                  "1": "*",
                  "2": "*",
                  "3": "*",
                  "4": "43F4D867-D4B7-4EAC-886C-9BD3B3BB96A7",
                  "5": "865D3FCF-9711-4D63-8621-00715E148B70",
                  "6": "ab2a9665-ce87-4120-a8b5-edd392875e42"
                },
                {
                  "0": "8d2a392ee2699bc6326e40a6a52bcd3ba6927ae0cc0281f0c185630046b87cfa",
                  "1": "*",
                  "2": "*",
                  "3": "*",
                  "4": "43F4D867-D4B7-4EAC-886C-9BD3B3BB96A7",
                  "5": "3C1EF2CC-7EC5-45BC-A63F-BE50DD1EA8F0",
                  "6": "ab2a9665-ce87-4120-a8b5-edd392875e42"
                },
                {
                  "0": "5ccfb0af1f77a150a1b995a72e381e6a4689c58c02997a3b6d249f65b3456d78",
                  "1": "*",
                  "2": "*",
                  "3": "*",
                  "4": "43F4D867-D4B7-4EAC-886C-9BD3B3BB96A7",
                  "5": "3C1EF2CC-7EC5-45BC-A63F-BE50DD1EA8F0",
                  "6": "ab2a9665-ce87-4120-a8b5-edd392875e42"
                },
                {
                  "0": "95bd66450dc58586771f997beef17a160305063eaa0966ddeb6d71f4d990ca5d",
                  "1": "*",
                  "2": "*",
                  "3": "*",
                  "4": "43F4D867-D4B7-4EAC-886C-9BD3B3BB96A7",
                  "5": "9E6944BB-5AF0-4D2D-B816-07AB98871DB4",
                  "6": "ab2a9665-ce87-4120-a8b5-edd392875e42"
                },
                {
                  "0": "b28d4edcdbe1a84095054be594815ee6333be526fc51e53eec6bdf520e5a148b",
                  "1": "*",
                  "2": "*",
                  "3": "*",
                  "4": "43F4D867-D4B7-4EAC-886C-9BD3B3BB96A7",
                  "5": "9E6944BB-5AF0-4D2D-B816-07AB98871DB4",
                  "6": "ab2a9665-ce87-4120-a8b5-edd392875e42"
                }
              ],
              "schema": [
                {
                  "key": "0",
                  "name": "PersonId_pseudonym",
                  "type": "string"
                },
                {
                  "key": "1",
                  "name": "Surname",
                  "type": "string"
                },
                {
                  "key": "2",
                  "name": "GivenName",
                  "type": "string"
                },
                {
                  "key": "3",
                  "name": "MiddleName",
                  "type": "string"
                },
                {
                  "key": "4",
                  "name": "RefRoleId",
                  "type": "string"
                },
                {
                  "key": "5",
                  "name": "RefGradeLevelId",
                  "type": "string"
                },
                {
                  "key": "6",
                  "name": "OrganizationId",
                  "type": "string"
                }
              ],
              "truncated": false
            },
            "isSummary": false,
            "language": "scala"
          },
          "persist_state": {
            "view": {
              "type": "details",
              "tableOptions": {},
              "chartOptions": {
                "chartType": "bar",
                "aggregationType": "count",
                "categoryFieldKeys": [
                  "0"
                ],
                "seriesFieldKeys": [
                  "0"
                ],
                "isStacked": false
              }
            }
          }
        },
        "50b6a2b8-2210-4f6d-be2f-70645315492e": {
          "type": "Synapse.DataFrame",
          "sync_state": {
            "table": {
              "rows": [
                {
                  "0": "c7a6a548514696f2cabebd3d38534b8361c8716633295a4c8e71d98199ef2e71",
                  "1": "*",
                  "2": "*",
                  "3": "*",
                  "4": "43F4D867-D4B7-4EAC-886C-9BD3B3BB96A7",
                  "5": "3C1EF2CC-7EC5-45BC-A63F-BE50DD1EA8F0",
                  "6": "ab2a9665-ce87-4120-a8b5-edd392875e42",
                  "7": "Mitchell High"
                },
                {
                  "0": "6bc9a18a3dcff4010d78e8707fbfccebd6ea80ca7c7d8abcf47c194ff36ca9a1",
                  "1": "*",
                  "2": "*",
                  "3": "*",
                  "4": "43F4D867-D4B7-4EAC-886C-9BD3B3BB96A7",
                  "5": "865D3FCF-9711-4D63-8621-00715E148B70",
                  "6": "ab2a9665-ce87-4120-a8b5-edd392875e42",
                  "7": "Mitchell High"
                },
                {
                  "0": "f9aa4222728f10dc0bfb02296a6850123722bd8f3da62dd09019499b7f440a71",
                  "1": "*",
                  "2": "*",
                  "3": "*",
                  "4": "43F4D867-D4B7-4EAC-886C-9BD3B3BB96A7",
                  "5": "54BBE54F-5557-4890-8752-70A0CC452450",
                  "6": "ab2a9665-ce87-4120-a8b5-edd392875e42",
                  "7": "Mitchell High"
                },
                {
                  "0": "741fd0392de15ce5de201e071c6611ed64c1f01a81f9043ec40f03cf6d71be52",
                  "1": "*",
                  "2": "*",
                  "3": "*",
                  "4": "43F4D867-D4B7-4EAC-886C-9BD3B3BB96A7",
                  "5": "865D3FCF-9711-4D63-8621-00715E148B70",
                  "6": "ab2a9665-ce87-4120-a8b5-edd392875e42",
                  "7": "Mitchell High"
                },
                {
                  "0": "899e96422ff81809b165d9e19296d581f67ae2965e7146cf1f1d5ab9908f5838",
                  "1": "*",
                  "2": "*",
                  "3": "*",
                  "4": "43F4D867-D4B7-4EAC-886C-9BD3B3BB96A7",
                  "5": "865D3FCF-9711-4D63-8621-00715E148B70",
                  "6": "ab2a9665-ce87-4120-a8b5-edd392875e42",
                  "7": "Mitchell High"
                },
                {
                  "0": "44f7d423aa31c365e5190cff760ad7e0ba8620995165a6630f346572edd751b1",
                  "1": "*",
                  "2": "*",
                  "3": "*",
                  "4": "43F4D867-D4B7-4EAC-886C-9BD3B3BB96A7",
                  "5": "865D3FCF-9711-4D63-8621-00715E148B70",
                  "6": "ab2a9665-ce87-4120-a8b5-edd392875e42",
                  "7": "Mitchell High"
                },
                {
                  "0": "8d2a392ee2699bc6326e40a6a52bcd3ba6927ae0cc0281f0c185630046b87cfa",
                  "1": "*",
                  "2": "*",
                  "3": "*",
                  "4": "43F4D867-D4B7-4EAC-886C-9BD3B3BB96A7",
                  "5": "3C1EF2CC-7EC5-45BC-A63F-BE50DD1EA8F0",
                  "6": "ab2a9665-ce87-4120-a8b5-edd392875e42",
                  "7": "Mitchell High"
                },
                {
                  "0": "5ccfb0af1f77a150a1b995a72e381e6a4689c58c02997a3b6d249f65b3456d78",
                  "1": "*",
                  "2": "*",
                  "3": "*",
                  "4": "43F4D867-D4B7-4EAC-886C-9BD3B3BB96A7",
                  "5": "3C1EF2CC-7EC5-45BC-A63F-BE50DD1EA8F0",
                  "6": "ab2a9665-ce87-4120-a8b5-edd392875e42",
                  "7": "Mitchell High"
                },
                {
                  "0": "95bd66450dc58586771f997beef17a160305063eaa0966ddeb6d71f4d990ca5d",
                  "1": "*",
                  "2": "*",
                  "3": "*",
                  "4": "43F4D867-D4B7-4EAC-886C-9BD3B3BB96A7",
                  "5": "9E6944BB-5AF0-4D2D-B816-07AB98871DB4",
                  "6": "ab2a9665-ce87-4120-a8b5-edd392875e42",
                  "7": "Mitchell High"
                },
                {
                  "0": "b28d4edcdbe1a84095054be594815ee6333be526fc51e53eec6bdf520e5a148b",
                  "1": "*",
                  "2": "*",
                  "3": "*",
                  "4": "43F4D867-D4B7-4EAC-886C-9BD3B3BB96A7",
                  "5": "9E6944BB-5AF0-4D2D-B816-07AB98871DB4",
                  "6": "ab2a9665-ce87-4120-a8b5-edd392875e42",
                  "7": "Mitchell High"
                }
              ],
              "schema": [
                {
                  "key": "0",
                  "name": "PersonId_pseudonym",
                  "type": "string"
                },
                {
                  "key": "1",
                  "name": "Surname",
                  "type": "string"
                },
                {
                  "key": "2",
                  "name": "GivenName",
                  "type": "string"
                },
                {
                  "key": "3",
                  "name": "MiddleName",
                  "type": "string"
                },
                {
                  "key": "4",
                  "name": "RefRoleId",
                  "type": "string"
                },
                {
                  "key": "5",
                  "name": "RefGradeLevelId",
                  "type": "string"
                },
                {
                  "key": "6",
                  "name": "OrganizationId",
                  "type": "string"
                },
                {
                  "key": "7",
                  "name": "OrganizationName",
                  "type": "string"
                }
              ],
              "truncated": false
            },
            "isSummary": false,
            "language": "scala"
          },
          "persist_state": {
            "view": {
              "type": "details",
              "tableOptions": {},
              "chartOptions": {
                "chartType": "bar",
                "aggregationType": "count",
                "categoryFieldKeys": [
                  "0"
                ],
                "seriesFieldKeys": [
                  "0"
                ],
                "isStacked": false
              }
            }
          }
        },
        "ba3a267c-791e-4cf6-994e-13e30726ab1c": {
          "type": "Synapse.DataFrame",
          "sync_state": {
            "table": {
              "rows": [
                {
                  "0": "c7a6a548514696f2cabebd3d38534b8361c8716633295a4c8e71d98199ef2e71",
                  "1": "*",
                  "2": "*",
                  "3": "*",
                  "4": "Student",
                  "5": "3C1EF2CC-7EC5-45BC-A63F-BE50DD1EA8F0",
                  "6": "ab2a9665-ce87-4120-a8b5-edd392875e42",
                  "7": "Mitchell High"
                },
                {
                  "0": "6bc9a18a3dcff4010d78e8707fbfccebd6ea80ca7c7d8abcf47c194ff36ca9a1",
                  "1": "*",
                  "2": "*",
                  "3": "*",
                  "4": "Student",
                  "5": "865D3FCF-9711-4D63-8621-00715E148B70",
                  "6": "ab2a9665-ce87-4120-a8b5-edd392875e42",
                  "7": "Mitchell High"
                },
                {
                  "0": "f9aa4222728f10dc0bfb02296a6850123722bd8f3da62dd09019499b7f440a71",
                  "1": "*",
                  "2": "*",
                  "3": "*",
                  "4": "Student",
                  "5": "54BBE54F-5557-4890-8752-70A0CC452450",
                  "6": "ab2a9665-ce87-4120-a8b5-edd392875e42",
                  "7": "Mitchell High"
                },
                {
                  "0": "741fd0392de15ce5de201e071c6611ed64c1f01a81f9043ec40f03cf6d71be52",
                  "1": "*",
                  "2": "*",
                  "3": "*",
                  "4": "Student",
                  "5": "865D3FCF-9711-4D63-8621-00715E148B70",
                  "6": "ab2a9665-ce87-4120-a8b5-edd392875e42",
                  "7": "Mitchell High"
                },
                {
                  "0": "899e96422ff81809b165d9e19296d581f67ae2965e7146cf1f1d5ab9908f5838",
                  "1": "*",
                  "2": "*",
                  "3": "*",
                  "4": "Student",
                  "5": "865D3FCF-9711-4D63-8621-00715E148B70",
                  "6": "ab2a9665-ce87-4120-a8b5-edd392875e42",
                  "7": "Mitchell High"
                },
                {
                  "0": "44f7d423aa31c365e5190cff760ad7e0ba8620995165a6630f346572edd751b1",
                  "1": "*",
                  "2": "*",
                  "3": "*",
                  "4": "Student",
                  "5": "865D3FCF-9711-4D63-8621-00715E148B70",
                  "6": "ab2a9665-ce87-4120-a8b5-edd392875e42",
                  "7": "Mitchell High"
                },
                {
                  "0": "8d2a392ee2699bc6326e40a6a52bcd3ba6927ae0cc0281f0c185630046b87cfa",
                  "1": "*",
                  "2": "*",
                  "3": "*",
                  "4": "Student",
                  "5": "3C1EF2CC-7EC5-45BC-A63F-BE50DD1EA8F0",
                  "6": "ab2a9665-ce87-4120-a8b5-edd392875e42",
                  "7": "Mitchell High"
                },
                {
                  "0": "5ccfb0af1f77a150a1b995a72e381e6a4689c58c02997a3b6d249f65b3456d78",
                  "1": "*",
                  "2": "*",
                  "3": "*",
                  "4": "Student",
                  "5": "3C1EF2CC-7EC5-45BC-A63F-BE50DD1EA8F0",
                  "6": "ab2a9665-ce87-4120-a8b5-edd392875e42",
                  "7": "Mitchell High"
                },
                {
                  "0": "95bd66450dc58586771f997beef17a160305063eaa0966ddeb6d71f4d990ca5d",
                  "1": "*",
                  "2": "*",
                  "3": "*",
                  "4": "Student",
                  "5": "9E6944BB-5AF0-4D2D-B816-07AB98871DB4",
                  "6": "ab2a9665-ce87-4120-a8b5-edd392875e42",
                  "7": "Mitchell High"
                },
                {
                  "0": "b28d4edcdbe1a84095054be594815ee6333be526fc51e53eec6bdf520e5a148b",
                  "1": "*",
                  "2": "*",
                  "3": "*",
                  "4": "Student",
                  "5": "9E6944BB-5AF0-4D2D-B816-07AB98871DB4",
                  "6": "ab2a9665-ce87-4120-a8b5-edd392875e42",
                  "7": "Mitchell High"
                }
              ],
              "schema": [
                {
                  "key": "0",
                  "name": "PersonId_pseudonym",
                  "type": "string"
                },
                {
                  "key": "1",
                  "name": "Surname",
                  "type": "string"
                },
                {
                  "key": "2",
                  "name": "GivenName",
                  "type": "string"
                },
                {
                  "key": "3",
                  "name": "MiddleName",
                  "type": "string"
                },
                {
                  "key": "4",
                  "name": "PersonRole",
                  "type": "string"
                },
                {
                  "key": "5",
                  "name": "RefGradeLevelId",
                  "type": "string"
                },
                {
                  "key": "6",
                  "name": "OrganizationId",
                  "type": "string"
                },
                {
                  "key": "7",
                  "name": "OrganizationName",
                  "type": "string"
                }
              ],
              "truncated": false
            },
            "isSummary": false,
            "language": "scala"
          },
          "persist_state": {
            "view": {
              "type": "details",
              "tableOptions": {},
              "chartOptions": {
                "chartType": "bar",
                "aggregationType": "count",
                "categoryFieldKeys": [
                  "0"
                ],
                "seriesFieldKeys": [
                  "0"
                ],
                "isStacked": false
              }
            }
          }
        },
        "69cea556-cbdc-4200-a033-e08259692691": {
          "type": "Synapse.DataFrame",
          "sync_state": {
            "table": {
              "rows": [
                {
                  "0": "c7a6a548514696f2cabebd3d38534b8361c8716633295a4c8e71d98199ef2e71",
                  "1": "*",
                  "2": "*",
                  "3": "*",
                  "4": "Student",
                  "5": "9",
                  "6": "ab2a9665-ce87-4120-a8b5-edd392875e42",
                  "7": "Mitchell High"
                },
                {
                  "0": "6bc9a18a3dcff4010d78e8707fbfccebd6ea80ca7c7d8abcf47c194ff36ca9a1",
                  "1": "*",
                  "2": "*",
                  "3": "*",
                  "4": "Student",
                  "5": "11",
                  "6": "ab2a9665-ce87-4120-a8b5-edd392875e42",
                  "7": "Mitchell High"
                },
                {
                  "0": "f9aa4222728f10dc0bfb02296a6850123722bd8f3da62dd09019499b7f440a71",
                  "1": "*",
                  "2": "*",
                  "3": "*",
                  "4": "Student",
                  "5": "10",
                  "6": "ab2a9665-ce87-4120-a8b5-edd392875e42",
                  "7": "Mitchell High"
                },
                {
                  "0": "741fd0392de15ce5de201e071c6611ed64c1f01a81f9043ec40f03cf6d71be52",
                  "1": "*",
                  "2": "*",
                  "3": "*",
                  "4": "Student",
                  "5": "11",
                  "6": "ab2a9665-ce87-4120-a8b5-edd392875e42",
                  "7": "Mitchell High"
                },
                {
                  "0": "899e96422ff81809b165d9e19296d581f67ae2965e7146cf1f1d5ab9908f5838",
                  "1": "*",
                  "2": "*",
                  "3": "*",
                  "4": "Student",
                  "5": "11",
                  "6": "ab2a9665-ce87-4120-a8b5-edd392875e42",
                  "7": "Mitchell High"
                },
                {
                  "0": "44f7d423aa31c365e5190cff760ad7e0ba8620995165a6630f346572edd751b1",
                  "1": "*",
                  "2": "*",
                  "3": "*",
                  "4": "Student",
                  "5": "11",
                  "6": "ab2a9665-ce87-4120-a8b5-edd392875e42",
                  "7": "Mitchell High"
                },
                {
                  "0": "8d2a392ee2699bc6326e40a6a52bcd3ba6927ae0cc0281f0c185630046b87cfa",
                  "1": "*",
                  "2": "*",
                  "3": "*",
                  "4": "Student",
                  "5": "9",
                  "6": "ab2a9665-ce87-4120-a8b5-edd392875e42",
                  "7": "Mitchell High"
                },
                {
                  "0": "5ccfb0af1f77a150a1b995a72e381e6a4689c58c02997a3b6d249f65b3456d78",
                  "1": "*",
                  "2": "*",
                  "3": "*",
                  "4": "Student",
                  "5": "9",
                  "6": "ab2a9665-ce87-4120-a8b5-edd392875e42",
                  "7": "Mitchell High"
                },
                {
                  "0": "95bd66450dc58586771f997beef17a160305063eaa0966ddeb6d71f4d990ca5d",
                  "1": "*",
                  "2": "*",
                  "3": "*",
                  "4": "Student",
                  "5": "12",
                  "6": "ab2a9665-ce87-4120-a8b5-edd392875e42",
                  "7": "Mitchell High"
                },
                {
                  "0": "b28d4edcdbe1a84095054be594815ee6333be526fc51e53eec6bdf520e5a148b",
                  "1": "*",
                  "2": "*",
                  "3": "*",
                  "4": "Student",
                  "5": "12",
                  "6": "ab2a9665-ce87-4120-a8b5-edd392875e42",
                  "7": "Mitchell High"
                }
              ],
              "schema": [
                {
                  "key": "0",
                  "name": "PersonId_pseudonym",
                  "type": "string"
                },
                {
                  "key": "1",
                  "name": "Surname",
                  "type": "string"
                },
                {
                  "key": "2",
                  "name": "GivenName",
                  "type": "string"
                },
                {
                  "key": "3",
                  "name": "MiddleName",
                  "type": "string"
                },
                {
                  "key": "4",
                  "name": "PersonRole",
                  "type": "string"
                },
                {
                  "key": "5",
                  "name": "StudentGrade",
                  "type": "string"
                },
                {
                  "key": "6",
                  "name": "OrganizationId",
                  "type": "string"
                },
                {
                  "key": "7",
                  "name": "OrganizationName",
                  "type": "string"
                }
              ],
              "truncated": false
            },
            "isSummary": false,
            "language": "scala"
          },
          "persist_state": {
            "view": {
              "type": "details",
              "tableOptions": {},
              "chartOptions": {
                "chartType": "bar",
                "aggregationType": "count",
                "categoryFieldKeys": [
                  "0"
                ],
                "seriesFieldKeys": [
                  "0"
                ],
                "isStacked": false
              }
            }
          }
        },
        "83a9aeed-4d81-49c6-a399-177c8f6ecb59": {
          "type": "Synapse.DataFrame",
          "sync_state": {
            "table": {
              "rows": [
                {
                  "0": "c7a6a548514696f2cabebd3d38534b8361c8716633295a4c8e71d98199ef2e71",
                  "1": "e919d1612b18c5f6505e04e8843fe9774198c0de4c84c0ef17c033b45cfe35fd",
                  "2": "*",
                  "3": "*",
                  "4": "*",
                  "5": "Student",
                  "6": "9",
                  "7": "ab2a9665-ce87-4120-a8b5-edd392875e42",
                  "8": "Mitchell High"
                },
                {
                  "0": "6bc9a18a3dcff4010d78e8707fbfccebd6ea80ca7c7d8abcf47c194ff36ca9a1",
                  "1": "5931763df30af35c6b83421ac630b8b647cf5d5405f8b65b7e49a4b9300e0ea1",
                  "2": "*",
                  "3": "*",
                  "4": "*",
                  "5": "Student",
                  "6": "11",
                  "7": "ab2a9665-ce87-4120-a8b5-edd392875e42",
                  "8": "Mitchell High"
                },
                {
                  "0": "f9aa4222728f10dc0bfb02296a6850123722bd8f3da62dd09019499b7f440a71",
                  "1": "bbee57a9314742a12e4490f868f7484e6ae24a4c07c998b681fdde2938d84a09",
                  "2": "*",
                  "3": "*",
                  "4": "*",
                  "5": "Student",
                  "6": "10",
                  "7": "ab2a9665-ce87-4120-a8b5-edd392875e42",
                  "8": "Mitchell High"
                },
                {
                  "0": "741fd0392de15ce5de201e071c6611ed64c1f01a81f9043ec40f03cf6d71be52",
                  "1": "2efbbf9e4cae48d02d440582f196b91c2b76bf24d58387d76ce5c453fe088fa8",
                  "2": "*",
                  "3": "*",
                  "4": "*",
                  "5": "Student",
                  "6": "11",
                  "7": "ab2a9665-ce87-4120-a8b5-edd392875e42",
                  "8": "Mitchell High"
                },
                {
                  "0": "899e96422ff81809b165d9e19296d581f67ae2965e7146cf1f1d5ab9908f5838",
                  "1": "62198b3154089acf0d1464dacbf7d35ee5f62822a27c066bfc26faa85cef7ee8",
                  "2": "*",
                  "3": "*",
                  "4": "*",
                  "5": "Student",
                  "6": "11",
                  "7": "ab2a9665-ce87-4120-a8b5-edd392875e42",
                  "8": "Mitchell High"
                },
                {
                  "0": "44f7d423aa31c365e5190cff760ad7e0ba8620995165a6630f346572edd751b1",
                  "1": "c49a8fa1a89ff16782c0e3995c0b0defce637d7d52d34762697a65388edc5ece",
                  "2": "*",
                  "3": "*",
                  "4": "*",
                  "5": "Student",
                  "6": "11",
                  "7": "ab2a9665-ce87-4120-a8b5-edd392875e42",
                  "8": "Mitchell High"
                },
                {
                  "0": "8d2a392ee2699bc6326e40a6a52bcd3ba6927ae0cc0281f0c185630046b87cfa",
                  "1": "0015dd1f2156b743b6e8ff6e6881ff9119ef58e71ddc8e85b11d755b3d654d4a",
                  "2": "*",
                  "3": "*",
                  "4": "*",
                  "5": "Student",
                  "6": "9",
                  "7": "ab2a9665-ce87-4120-a8b5-edd392875e42",
                  "8": "Mitchell High"
                },
                {
                  "0": "5ccfb0af1f77a150a1b995a72e381e6a4689c58c02997a3b6d249f65b3456d78",
                  "1": "e0eb9b73bc09c44a9f557aebb6a6bbff1a8af3a3a5dc0301e504d41912a7a086",
                  "2": "*",
                  "3": "*",
                  "4": "*",
                  "5": "Student",
                  "6": "9",
                  "7": "ab2a9665-ce87-4120-a8b5-edd392875e42",
                  "8": "Mitchell High"
                },
                {
                  "0": "95bd66450dc58586771f997beef17a160305063eaa0966ddeb6d71f4d990ca5d",
                  "1": "0b5385e59225f13056ff38dad3d9e2f0e1bc27cd276df0b5fdafde0315fe8242",
                  "2": "*",
                  "3": "*",
                  "4": "*",
                  "5": "Student",
                  "6": "12",
                  "7": "ab2a9665-ce87-4120-a8b5-edd392875e42",
                  "8": "Mitchell High"
                },
                {
                  "0": "b28d4edcdbe1a84095054be594815ee6333be526fc51e53eec6bdf520e5a148b",
                  "1": "66ed9a086452ec90922d8427c18cf0845302955f85fd11edbc84cc7fceb8bf8e",
                  "2": "*",
                  "3": "*",
                  "4": "*",
                  "5": "Student",
                  "6": "12",
                  "7": "ab2a9665-ce87-4120-a8b5-edd392875e42",
                  "8": "Mitchell High"
                }
              ],
              "schema": [
                {
                  "key": "0",
                  "name": "StudentId_internal_pseudonym",
                  "type": "string"
                },
                {
                  "key": "1",
                  "name": "StudentId_external_pseudonym",
                  "type": "string"
                },
                {
                  "key": "2",
                  "name": "Surname",
                  "type": "string"
                },
                {
                  "key": "3",
                  "name": "GivenName",
                  "type": "string"
                },
                {
                  "key": "4",
                  "name": "MiddleName",
                  "type": "string"
                },
                {
                  "key": "5",
                  "name": "PersonRole",
                  "type": "string"
                },
                {
                  "key": "6",
                  "name": "StudentGrade",
                  "type": "string"
                },
                {
                  "key": "7",
                  "name": "OrganizationId",
                  "type": "string"
                },
                {
                  "key": "8",
                  "name": "OrganizationName",
                  "type": "string"
                }
              ],
              "truncated": false
            },
            "isSummary": false,
            "language": "scala"
          },
          "persist_state": {
            "view": {
              "type": "details",
              "tableOptions": {},
              "chartOptions": {
                "chartType": "bar",
                "aggregationType": "count",
                "categoryFieldKeys": [
                  "0"
                ],
                "seriesFieldKeys": [
                  "0"
                ],
                "isStacked": false
              }
            }
          }
        },
        "a2d7bf81-492e-45f0-82f3-17bb36ce9ffb": {
          "type": "Synapse.DataFrame",
          "sync_state": {
            "table": {
              "rows": [
                {
                  "0": "c0d99edd4a7f2ddf99f389d985f9e9b28e32602df6cfd1ea7323463a62ff72de",
                  "1": "1.0"
                },
                {
                  "0": "3a608952fe0ea7c84c1460c85949a24f23a425eb3e8d8754baf84b4e5fae44d0",
                  "1": "0.9"
                },
                {
                  "0": "3c1178eca5e1a968937b1ab3e05ebf78596e8180276d1f00a435135286e2e86c",
                  "1": "0.95"
                },
                {
                  "0": "a2559bb8b7329a296c9346a7571cbc70c62ea41a02014320576b43e7b8a0eb81",
                  "1": "1.0"
                },
                {
                  "0": "ada8530fe200511642d6dc0edb378c5cbb2571530bbbd5c5caac8bc8a74c7686",
                  "1": "0.9"
                },
                {
                  "0": "d79acea4f76134a633909a99b0372b3320462b473870564f082ca476e294d35b",
                  "1": "0.95"
                },
                {
                  "0": "0b5385e59225f13056ff38dad3d9e2f0e1bc27cd276df0b5fdafde0315fe8242",
                  "1": "1.0"
                },
                {
                  "0": "11d5f2348dacaf4442bdc6cfc9215e3fb6a25007cabc37bbffb6a515d3880c6b",
                  "1": "0.85"
                },
                {
                  "0": "7f63714810497a9855180319c8d0f725c802d19e3eb5e53cd2c0ea02a9b1416a",
                  "1": "0.85"
                },
                {
                  "0": "af4e4bf4b6039151698b39024cfe5a57138a9e8ef20c70ea3ce44d60f988f11b",
                  "1": "0.95"
                }
              ],
              "schema": [
                {
                  "key": "0",
                  "name": "student_id_pseudonym",
                  "type": "string"
                },
                {
                  "key": "1",
                  "name": "avg(AttendanceCode_value)",
                  "type": "double"
                }
              ],
              "truncated": false
            },
            "isSummary": false,
            "language": "scala"
          },
          "persist_state": {
            "view": {
              "type": "details",
              "tableOptions": {},
              "chartOptions": {
                "chartType": "bar",
                "aggregationType": "sum",
                "categoryFieldKeys": [
                  "0"
                ],
                "seriesFieldKeys": [
                  "1"
                ],
                "isStacked": false
              }
            }
          }
        },
        "756aa2c7-47b0-4fcb-b4f9-432db571bf09": {
          "type": "Synapse.DataFrame",
          "sync_state": {
            "table": {
              "rows": [
                {
                  "0": "c7a6a548514696f2cabebd3d38534b8361c8716633295a4c8e71d98199ef2e71",
                  "1": "e919d1612b18c5f6505e04e8843fe9774198c0de4c84c0ef17c033b45cfe35fd",
                  "2": "*",
                  "3": "*",
                  "4": "*",
                  "5": "Student",
                  "6": "9",
                  "7": "1.0",
                  "8": "ab2a9665-ce87-4120-a8b5-edd392875e42",
                  "9": "Mitchell High"
                },
                {
                  "0": "6bc9a18a3dcff4010d78e8707fbfccebd6ea80ca7c7d8abcf47c194ff36ca9a1",
                  "1": "5931763df30af35c6b83421ac630b8b647cf5d5405f8b65b7e49a4b9300e0ea1",
                  "2": "*",
                  "3": "*",
                  "4": "*",
                  "5": "Student",
                  "6": "11",
                  "7": "1.0",
                  "8": "ab2a9665-ce87-4120-a8b5-edd392875e42",
                  "9": "Mitchell High"
                },
                {
                  "0": "f9aa4222728f10dc0bfb02296a6850123722bd8f3da62dd09019499b7f440a71",
                  "1": "bbee57a9314742a12e4490f868f7484e6ae24a4c07c998b681fdde2938d84a09",
                  "2": "*",
                  "3": "*",
                  "4": "*",
                  "5": "Student",
                  "6": "10",
                  "7": "1.0",
                  "8": "ab2a9665-ce87-4120-a8b5-edd392875e42",
                  "9": "Mitchell High"
                },
                {
                  "0": "741fd0392de15ce5de201e071c6611ed64c1f01a81f9043ec40f03cf6d71be52",
                  "1": "2efbbf9e4cae48d02d440582f196b91c2b76bf24d58387d76ce5c453fe088fa8",
                  "2": "*",
                  "3": "*",
                  "4": "*",
                  "5": "Student",
                  "6": "11",
                  "7": "0.85",
                  "8": "ab2a9665-ce87-4120-a8b5-edd392875e42",
                  "9": "Mitchell High"
                },
                {
                  "0": "899e96422ff81809b165d9e19296d581f67ae2965e7146cf1f1d5ab9908f5838",
                  "1": "62198b3154089acf0d1464dacbf7d35ee5f62822a27c066bfc26faa85cef7ee8",
                  "2": "*",
                  "3": "*",
                  "4": "*",
                  "5": "Student",
                  "6": "11",
                  "7": "0.9",
                  "8": "ab2a9665-ce87-4120-a8b5-edd392875e42",
                  "9": "Mitchell High"
                },
                {
                  "0": "44f7d423aa31c365e5190cff760ad7e0ba8620995165a6630f346572edd751b1",
                  "1": "c49a8fa1a89ff16782c0e3995c0b0defce637d7d52d34762697a65388edc5ece",
                  "2": "*",
                  "3": "*",
                  "4": "*",
                  "5": "Student",
                  "6": "11",
                  "7": "0.95",
                  "8": "ab2a9665-ce87-4120-a8b5-edd392875e42",
                  "9": "Mitchell High"
                },
                {
                  "0": "8d2a392ee2699bc6326e40a6a52bcd3ba6927ae0cc0281f0c185630046b87cfa",
                  "1": "0015dd1f2156b743b6e8ff6e6881ff9119ef58e71ddc8e85b11d755b3d654d4a",
                  "2": "*",
                  "3": "*",
                  "4": "*",
                  "5": "Student",
                  "6": "9",
                  "7": "0.95",
                  "8": "ab2a9665-ce87-4120-a8b5-edd392875e42",
                  "9": "Mitchell High"
                },
                {
                  "0": "5ccfb0af1f77a150a1b995a72e381e6a4689c58c02997a3b6d249f65b3456d78",
                  "1": "e0eb9b73bc09c44a9f557aebb6a6bbff1a8af3a3a5dc0301e504d41912a7a086",
                  "2": "*",
                  "3": "*",
                  "4": "*",
                  "5": "Student",
                  "6": "9",
                  "7": "0.95",
                  "8": "ab2a9665-ce87-4120-a8b5-edd392875e42",
                  "9": "Mitchell High"
                },
                {
                  "0": "95bd66450dc58586771f997beef17a160305063eaa0966ddeb6d71f4d990ca5d",
                  "1": "0b5385e59225f13056ff38dad3d9e2f0e1bc27cd276df0b5fdafde0315fe8242",
                  "2": "*",
                  "3": "*",
                  "4": "*",
                  "5": "Student",
                  "6": "12",
                  "7": "1.0",
                  "8": "ab2a9665-ce87-4120-a8b5-edd392875e42",
                  "9": "Mitchell High"
                },
                {
                  "0": "b28d4edcdbe1a84095054be594815ee6333be526fc51e53eec6bdf520e5a148b",
                  "1": "66ed9a086452ec90922d8427c18cf0845302955f85fd11edbc84cc7fceb8bf8e",
                  "2": "*",
                  "3": "*",
                  "4": "*",
                  "5": "Student",
                  "6": "12",
                  "7": "0.95",
                  "8": "ab2a9665-ce87-4120-a8b5-edd392875e42",
                  "9": "Mitchell High"
                }
              ],
              "schema": [
                {
                  "key": "0",
                  "name": "StudentId_internal_pseudonym",
                  "type": "string"
                },
                {
                  "key": "1",
                  "name": "StudentId_external_pseudonym",
                  "type": "string"
                },
                {
                  "key": "2",
                  "name": "Surname",
                  "type": "string"
                },
                {
                  "key": "3",
                  "name": "GivenName",
                  "type": "string"
                },
                {
                  "key": "4",
                  "name": "MiddleName",
                  "type": "string"
                },
                {
                  "key": "5",
                  "name": "PersonRole",
                  "type": "string"
                },
                {
                  "key": "6",
                  "name": "StudentGrade",
                  "type": "string"
                },
                {
                  "key": "7",
                  "name": "AverageAttendance_inPerson",
                  "type": "double"
                },
                {
                  "key": "8",
                  "name": "OrganizationId",
                  "type": "string"
                },
                {
                  "key": "9",
                  "name": "OrganizationName",
                  "type": "string"
                }
              ],
              "truncated": false
            },
            "isSummary": false,
            "language": "scala"
          },
          "persist_state": {
            "view": {
              "type": "details",
              "tableOptions": {},
              "chartOptions": {
                "chartType": "bar",
                "aggregationType": "sum",
                "categoryFieldKeys": [
                  "0"
                ],
                "seriesFieldKeys": [
                  "7"
                ],
                "isStacked": false
              }
            }
          }
        },
        "912257b6-bb08-4806-85a4-6f96ce00e1be": {
          "type": "Synapse.DataFrame",
          "sync_state": {
            "table": {
              "rows": [
                {
                  "0": "c4cc22fa6bae1540d846ca21f987b15e4fc354ea7af2ab6de0bfcac33eb10c1e",
                  "1": "0.84"
                },
                {
                  "0": "bf877baa4de0d00ae63d9c0d696d75e36d63a50b28311a52da251fece64a3793",
                  "1": "0.76"
                },
                {
                  "0": "397d1f703797b64bae33ca7757a7858a0c3d911f3502a3366d119371f6d290b5",
                  "1": "0.96"
                },
                {
                  "0": "d6ad55dd722058c5541b8f1c470a1f1fad520c2ea467b40917bccb4f0d0a6542",
                  "1": "0.88"
                },
                {
                  "0": "a1c7de8791c1f229c894f8c8dbed43311e0948e1f48fc69c55fb09fcc7bb0a8c",
                  "1": "0.8"
                },
                {
                  "0": "06031e067c234182354f2da6bcdb76898ea203b4bb03acdb5110d2db02b83e63",
                  "1": "0.84"
                },
                {
                  "0": "b62be4ab1e32dd1d7dac48ab5976eb40a1554095335788ab4d93b851d499e32e",
                  "1": "0.92"
                },
                {
                  "0": "f9ff93739f6edb55d56dffb307a58a7cd94e40dd1750a55bef1f60c7d7be7872",
                  "1": "0.96"
                },
                {
                  "0": "f9815d54756485f9c487f1050889ff6df6fea6b475e1d543d3af4249e3405cc2",
                  "1": "0.92"
                },
                {
                  "0": "5ece126f90c0b50f98555eb2b1d04aceeca6955308a772d7ebc0ea6cda3f252d",
                  "1": "0.76"
                }
              ],
              "schema": [
                {
                  "key": "0",
                  "name": "event_actor",
                  "type": "string"
                },
                {
                  "key": "1",
                  "name": "AverageAttendance_digital",
                  "type": "double"
                }
              ],
              "truncated": false
            },
            "isSummary": false,
            "language": "scala"
          },
          "persist_state": {
            "view": {
              "type": "details",
              "tableOptions": {},
              "chartOptions": {
                "chartType": "bar",
                "aggregationType": "sum",
                "categoryFieldKeys": [
                  "0"
                ],
                "seriesFieldKeys": [
                  "1"
                ],
                "isStacked": false
              }
            }
          }
        },
        "a31df110-f8bd-4330-af52-9a7ff2f2abad": {
          "type": "Synapse.DataFrame",
          "sync_state": {
            "table": {
              "rows": [
                {
                  "0": "c7a6a548514696f2cabebd3d38534b8361c8716633295a4c8e71d98199ef2e71",
                  "1": "e919d1612b18c5f6505e04e8843fe9774198c0de4c84c0ef17c033b45cfe35fd",
                  "2": "*",
                  "3": "*",
                  "4": "*",
                  "5": "Student",
                  "6": "9",
                  "7": "1.0",
                  "8": "0.88",
                  "9": "ab2a9665-ce87-4120-a8b5-edd392875e42",
                  "10": "Mitchell High"
                },
                {
                  "0": "6bc9a18a3dcff4010d78e8707fbfccebd6ea80ca7c7d8abcf47c194ff36ca9a1",
                  "1": "5931763df30af35c6b83421ac630b8b647cf5d5405f8b65b7e49a4b9300e0ea1",
                  "2": "*",
                  "3": "*",
                  "4": "*",
                  "5": "Student",
                  "6": "11",
                  "7": "1.0",
                  "8": "0.92",
                  "9": "ab2a9665-ce87-4120-a8b5-edd392875e42",
                  "10": "Mitchell High"
                },
                {
                  "0": "f9aa4222728f10dc0bfb02296a6850123722bd8f3da62dd09019499b7f440a71",
                  "1": "bbee57a9314742a12e4490f868f7484e6ae24a4c07c998b681fdde2938d84a09",
                  "2": "*",
                  "3": "*",
                  "4": "*",
                  "5": "Student",
                  "6": "10",
                  "7": "1.0",
                  "8": "0.96",
                  "9": "ab2a9665-ce87-4120-a8b5-edd392875e42",
                  "10": "Mitchell High"
                },
                {
                  "0": "741fd0392de15ce5de201e071c6611ed64c1f01a81f9043ec40f03cf6d71be52",
                  "1": "2efbbf9e4cae48d02d440582f196b91c2b76bf24d58387d76ce5c453fe088fa8",
                  "2": "*",
                  "3": "*",
                  "4": "*",
                  "5": "Student",
                  "6": "11",
                  "7": "0.85",
                  "8": "0.84",
                  "9": "ab2a9665-ce87-4120-a8b5-edd392875e42",
                  "10": "Mitchell High"
                },
                {
                  "0": "899e96422ff81809b165d9e19296d581f67ae2965e7146cf1f1d5ab9908f5838",
                  "1": "62198b3154089acf0d1464dacbf7d35ee5f62822a27c066bfc26faa85cef7ee8",
                  "2": "*",
                  "3": "*",
                  "4": "*",
                  "5": "Student",
                  "6": "11",
                  "7": "0.9",
                  "8": "0.76",
                  "9": "ab2a9665-ce87-4120-a8b5-edd392875e42",
                  "10": "Mitchell High"
                },
                {
                  "0": "44f7d423aa31c365e5190cff760ad7e0ba8620995165a6630f346572edd751b1",
                  "1": "c49a8fa1a89ff16782c0e3995c0b0defce637d7d52d34762697a65388edc5ece",
                  "2": "*",
                  "3": "*",
                  "4": "*",
                  "5": "Student",
                  "6": "11",
                  "7": "0.95",
                  "8": "0.84",
                  "9": "ab2a9665-ce87-4120-a8b5-edd392875e42",
                  "10": "Mitchell High"
                },
                {
                  "0": "8d2a392ee2699bc6326e40a6a52bcd3ba6927ae0cc0281f0c185630046b87cfa",
                  "1": "0015dd1f2156b743b6e8ff6e6881ff9119ef58e71ddc8e85b11d755b3d654d4a",
                  "2": "*",
                  "3": "*",
                  "4": "*",
                  "5": "Student",
                  "6": "9",
                  "7": "0.95",
                  "8": "0.96",
                  "9": "ab2a9665-ce87-4120-a8b5-edd392875e42",
                  "10": "Mitchell High"
                },
                {
                  "0": "5ccfb0af1f77a150a1b995a72e381e6a4689c58c02997a3b6d249f65b3456d78",
                  "1": "e0eb9b73bc09c44a9f557aebb6a6bbff1a8af3a3a5dc0301e504d41912a7a086",
                  "2": "*",
                  "3": "*",
                  "4": "*",
                  "5": "Student",
                  "6": "9",
                  "7": "0.95",
                  "8": "0.96",
                  "9": "ab2a9665-ce87-4120-a8b5-edd392875e42",
                  "10": "Mitchell High"
                },
                {
                  "0": "95bd66450dc58586771f997beef17a160305063eaa0966ddeb6d71f4d990ca5d",
                  "1": "0b5385e59225f13056ff38dad3d9e2f0e1bc27cd276df0b5fdafde0315fe8242",
                  "2": "*",
                  "3": "*",
                  "4": "*",
                  "5": "Student",
                  "6": "12",
                  "7": "1.0",
                  "8": "0.84",
                  "9": "ab2a9665-ce87-4120-a8b5-edd392875e42",
                  "10": "Mitchell High"
                },
                {
                  "0": "b28d4edcdbe1a84095054be594815ee6333be526fc51e53eec6bdf520e5a148b",
                  "1": "66ed9a086452ec90922d8427c18cf0845302955f85fd11edbc84cc7fceb8bf8e",
                  "2": "*",
                  "3": "*",
                  "4": "*",
                  "5": "Student",
                  "6": "12",
                  "7": "0.95",
                  "8": "0.84",
                  "9": "ab2a9665-ce87-4120-a8b5-edd392875e42",
                  "10": "Mitchell High"
                }
              ],
              "schema": [
                {
                  "key": "0",
                  "name": "StudentId_internal_pseudonym",
                  "type": "string"
                },
                {
                  "key": "1",
                  "name": "StudentId_external_pseudonym",
                  "type": "string"
                },
                {
                  "key": "2",
                  "name": "Surname",
                  "type": "string"
                },
                {
                  "key": "3",
                  "name": "GivenName",
                  "type": "string"
                },
                {
                  "key": "4",
                  "name": "MiddleName",
                  "type": "string"
                },
                {
                  "key": "5",
                  "name": "PersonRole",
                  "type": "string"
                },
                {
                  "key": "6",
                  "name": "StudentGrade",
                  "type": "string"
                },
                {
                  "key": "7",
                  "name": "AverageAttendance_inPerson",
                  "type": "double"
                },
                {
                  "key": "8",
                  "name": "AverageAttendance_digital",
                  "type": "double"
                },
                {
                  "key": "9",
                  "name": "OrganizationId",
                  "type": "string"
                },
                {
                  "key": "10",
                  "name": "OrganizationName",
                  "type": "string"
                }
              ],
              "truncated": false
            },
            "isSummary": false,
            "language": "scala"
          },
          "persist_state": {
            "view": {
              "type": "details",
              "tableOptions": {},
              "chartOptions": {
                "chartType": "bar",
                "aggregationType": "sum",
                "categoryFieldKeys": [
                  "0"
                ],
                "seriesFieldKeys": [
                  "7"
                ],
                "isStacked": false
              }
            }
          }
        },
        "ac4ad854-4ae9-472b-91e4-5a23f986540f": {
          "type": "Synapse.DataFrame",
          "sync_state": {
            "table": {
              "rows": [
                {
                  "0": "c7a6a548514696f2cabebd3d38534b8361c8716633295a4c8e71d98199ef2e71",
                  "1": "b2baefad-4c1d-463e-b541-cc5f2f204f52",
                  "2": "e919d1612b18c5f6505e04e8843fe9774198c0de4c84c0ef17c033b45cfe35fd",
                  "3": "Benefield",
                  "4": "Carole",
                  "5": "M"
                },
                {
                  "0": "6bc9a18a3dcff4010d78e8707fbfccebd6ea80ca7c7d8abcf47c194ff36ca9a1",
                  "1": "efc3ba3e-3e18-4364-8d5f-6715f3884833",
                  "2": "5931763df30af35c6b83421ac630b8b647cf5d5405f8b65b7e49a4b9300e0ea1",
                  "3": "Cronan",
                  "4": "Elouise",
                  "5": "A"
                },
                {
                  "0": "f9aa4222728f10dc0bfb02296a6850123722bd8f3da62dd09019499b7f440a71",
                  "1": "f59cc0b4-c654-4fa1-8911-78e19f85ca3e",
                  "2": "bbee57a9314742a12e4490f868f7484e6ae24a4c07c998b681fdde2938d84a09",
                  "3": "Johnson",
                  "4": "Alesia",
                  "5": "C"
                },
                {
                  "0": "741fd0392de15ce5de201e071c6611ed64c1f01a81f9043ec40f03cf6d71be52",
                  "1": "03e200d9-8ceb-4ee4-b13b-a643acf63a5c",
                  "2": "2efbbf9e4cae48d02d440582f196b91c2b76bf24d58387d76ce5c453fe088fa8",
                  "3": "Warner",
                  "4": "Ralph",
                  "5": "J"
                },
                {
                  "0": "899e96422ff81809b165d9e19296d581f67ae2965e7146cf1f1d5ab9908f5838",
                  "1": "c189e3e5-4730-4b4e-ade2-d728cc6b86f3",
                  "2": "62198b3154089acf0d1464dacbf7d35ee5f62822a27c066bfc26faa85cef7ee8",
                  "3": "Patrick",
                  "4": "Jenny",
                  "5": "D"
                },
                {
                  "0": "44f7d423aa31c365e5190cff760ad7e0ba8620995165a6630f346572edd751b1",
                  "1": "b8c3f862-22df-47b5-bc9b-e69e189435e4",
                  "2": "c49a8fa1a89ff16782c0e3995c0b0defce637d7d52d34762697a65388edc5ece",
                  "3": "Lopez",
                  "4": "Marianne",
                  "5": "J"
                },
                {
                  "0": "8d2a392ee2699bc6326e40a6a52bcd3ba6927ae0cc0281f0c185630046b87cfa",
                  "1": "2a4488c6-9916-439e-917d-8b09544220f4",
                  "2": "0015dd1f2156b743b6e8ff6e6881ff9119ef58e71ddc8e85b11d755b3d654d4a",
                  "3": "Riley",
                  "4": "Mildred",
                  "5": "A"
                },
                {
                  "0": "5ccfb0af1f77a150a1b995a72e381e6a4689c58c02997a3b6d249f65b3456d78",
                  "1": "1244b8a0-f530-485a-acd2-e355e053682c",
                  "2": "e0eb9b73bc09c44a9f557aebb6a6bbff1a8af3a3a5dc0301e504d41912a7a086",
                  "3": "Lindsley",
                  "4": "David",
                  "5": "K"
                },
                {
                  "0": "95bd66450dc58586771f997beef17a160305063eaa0966ddeb6d71f4d990ca5d",
                  "1": "acaa8a47-2d91-4047-bb48-1fa4e678f7e9",
                  "2": "0b5385e59225f13056ff38dad3d9e2f0e1bc27cd276df0b5fdafde0315fe8242",
                  "3": "Petrella",
                  "4": "George",
                  "5": "P"
                },
                {
                  "0": "b28d4edcdbe1a84095054be594815ee6333be526fc51e53eec6bdf520e5a148b",
                  "1": "8790fe38-8994-4b34-a165-814e5ed121be",
                  "2": "66ed9a086452ec90922d8427c18cf0845302955f85fd11edbc84cc7fceb8bf8e",
                  "3": "Rice",
                  "4": "Joshua",
                  "5": "R"
                }
              ],
              "schema": [
                {
                  "key": "0",
                  "name": "StudentId_internal_pseudonym",
                  "type": "string"
                },
                {
                  "key": "1",
                  "name": "StudentId_internal",
                  "type": "string"
                },
                {
                  "key": "2",
                  "name": "StudentId_external_pseudonym",
                  "type": "string"
                },
                {
                  "key": "3",
                  "name": "Surname",
                  "type": "string"
                },
                {
                  "key": "4",
                  "name": "GivenName",
                  "type": "string"
                },
                {
                  "key": "5",
                  "name": "MiddleName",
                  "type": "string"
                }
              ],
              "truncated": false
            },
            "isSummary": false,
            "language": "scala"
          },
          "persist_state": {
            "view": {
              "type": "details",
              "tableOptions": {},
              "chartOptions": {
                "chartType": "bar",
                "aggregationType": "count",
                "categoryFieldKeys": [
                  "0"
                ],
                "seriesFieldKeys": [
                  "0"
                ],
                "isStacked": false
              }
            }
          }
        },
        "af5b6771-d0d4-4241-9192-0bb3156f81e4": {
          "type": "Synapse.DataFrame",
          "sync_state": {
            "table": {
              "rows": [
                {
                  "0": "c7a6a548514696f2cabebd3d38534b8361c8716633295a4c8e71d98199ef2e71",
                  "1": "b2baefad-4c1d-463e-b541-cc5f2f204f52",
                  "2": "e919d1612b18c5f6505e04e8843fe9774198c0de4c84c0ef17c033b45cfe35fd",
                  "3": "f269ed04def44e788b92acb93e96ef58",
                  "4": "Benefield",
                  "5": "Carole",
                  "6": "M"
                },
                {
                  "0": "6bc9a18a3dcff4010d78e8707fbfccebd6ea80ca7c7d8abcf47c194ff36ca9a1",
                  "1": "efc3ba3e-3e18-4364-8d5f-6715f3884833",
                  "2": "5931763df30af35c6b83421ac630b8b647cf5d5405f8b65b7e49a4b9300e0ea1",
                  "3": "1d98ac4839844a70b226054195c9d5c7",
                  "4": "Cronan",
                  "5": "Elouise",
                  "6": "A"
                },
                {
                  "0": "f9aa4222728f10dc0bfb02296a6850123722bd8f3da62dd09019499b7f440a71",
                  "1": "f59cc0b4-c654-4fa1-8911-78e19f85ca3e",
                  "2": "bbee57a9314742a12e4490f868f7484e6ae24a4c07c998b681fdde2938d84a09",
                  "3": "29ab930fd6674114a05743ed2dcb32fa",
                  "4": "Johnson",
                  "5": "Alesia",
                  "6": "C"
                },
                {
                  "0": "741fd0392de15ce5de201e071c6611ed64c1f01a81f9043ec40f03cf6d71be52",
                  "1": "03e200d9-8ceb-4ee4-b13b-a643acf63a5c",
                  "2": "2efbbf9e4cae48d02d440582f196b91c2b76bf24d58387d76ce5c453fe088fa8",
                  "3": "27bad028458a48d0a27a129f3d1edee8",
                  "4": "Warner",
                  "5": "Ralph",
                  "6": "J"
                },
                {
                  "0": "899e96422ff81809b165d9e19296d581f67ae2965e7146cf1f1d5ab9908f5838",
                  "1": "c189e3e5-4730-4b4e-ade2-d728cc6b86f3",
                  "2": "62198b3154089acf0d1464dacbf7d35ee5f62822a27c066bfc26faa85cef7ee8",
                  "3": "90267e7054e945a49418868bbccf0571",
                  "4": "Patrick",
                  "5": "Jenny",
                  "6": "D"
                },
                {
                  "0": "44f7d423aa31c365e5190cff760ad7e0ba8620995165a6630f346572edd751b1",
                  "1": "b8c3f862-22df-47b5-bc9b-e69e189435e4",
                  "2": "c49a8fa1a89ff16782c0e3995c0b0defce637d7d52d34762697a65388edc5ece",
                  "3": "c224bda7df3046a5803f915cb7e3fb58",
                  "4": "Lopez",
                  "5": "Marianne",
                  "6": "J"
                },
                {
                  "0": "8d2a392ee2699bc6326e40a6a52bcd3ba6927ae0cc0281f0c185630046b87cfa",
                  "1": "2a4488c6-9916-439e-917d-8b09544220f4",
                  "2": "0015dd1f2156b743b6e8ff6e6881ff9119ef58e71ddc8e85b11d755b3d654d4a",
                  "3": "e3f68873c16f452bb354f7c0618152c1",
                  "4": "Riley",
                  "5": "Mildred",
                  "6": "A"
                },
                {
                  "0": "5ccfb0af1f77a150a1b995a72e381e6a4689c58c02997a3b6d249f65b3456d78",
                  "1": "1244b8a0-f530-485a-acd2-e355e053682c",
                  "2": "e0eb9b73bc09c44a9f557aebb6a6bbff1a8af3a3a5dc0301e504d41912a7a086",
                  "3": "63307e8727d8447aaf7ff4086598e01f",
                  "4": "Lindsley",
                  "5": "David",
                  "6": "K"
                },
                {
                  "0": "95bd66450dc58586771f997beef17a160305063eaa0966ddeb6d71f4d990ca5d",
                  "1": "acaa8a47-2d91-4047-bb48-1fa4e678f7e9",
                  "2": "0b5385e59225f13056ff38dad3d9e2f0e1bc27cd276df0b5fdafde0315fe8242",
                  "3": "2b602e2aea4547b980bc35bf28d17149",
                  "4": "Petrella",
                  "5": "George",
                  "6": "P"
                },
                {
                  "0": "b28d4edcdbe1a84095054be594815ee6333be526fc51e53eec6bdf520e5a148b",
                  "1": "8790fe38-8994-4b34-a165-814e5ed121be",
                  "2": "66ed9a086452ec90922d8427c18cf0845302955f85fd11edbc84cc7fceb8bf8e",
                  "3": "aafe20f94f1349999ab6267ca9beb1fd",
                  "4": "Rice",
                  "5": "Joshua",
                  "6": "R"
                }
              ],
              "schema": [
                {
                  "key": "0",
                  "name": "StudentId_internal_pseudonym",
                  "type": "string"
                },
                {
                  "key": "1",
                  "name": "StudentId_internal",
                  "type": "string"
                },
                {
                  "key": "2",
                  "name": "StudentId_external_pseudonym",
                  "type": "string"
                },
                {
                  "key": "3",
                  "name": "StudentId_external",
                  "type": "string"
                },
                {
                  "key": "4",
                  "name": "Surname",
                  "type": "string"
                },
                {
                  "key": "5",
                  "name": "GivenName",
                  "type": "string"
                },
                {
                  "key": "6",
                  "name": "MiddleName",
                  "type": "string"
                }
              ],
              "truncated": false
            },
            "isSummary": false,
            "language": "scala"
          },
          "persist_state": {
            "view": {
              "type": "details",
              "tableOptions": {},
              "chartOptions": {
                "chartType": "bar",
                "aggregationType": "count",
                "categoryFieldKeys": [
                  "0"
                ],
                "seriesFieldKeys": [
                  "0"
                ],
                "isStacked": false
              }
            }
          }
        }
      }
    }
  },
  "cells": [
    {
      "cell_type": "markdown",
      "metadata": {
        "nteract": {
          "transient": {
            "deleting": false
          }
        }
      },
      "source": [
        "# Hybrid Engagement Package Enrichment Notebook\r\n",
        "This notebook is intended to explore the capabilities of the OEA Hybrid Engagement package by processing SIS student data into a single table.\r\n",
        "\r\n",
        "**It is necessary that you review and execute the Microsoft Education Insights and Contoso SIS module pipelines, before testing this Hybrid Engagement enrichment notebook.**\r\n",
        "\r\n",
        "Below describes the execution process of the notebook:\r\n",
        "* First initialize the OEA framework class noptebook.\r\n",
        "* Then the notebook processes the Insights module roster data and Contoso SIS module studentattendance data ingested into stage 2, by re-writing the schema to only include student data for mapping of the package Power BI dashboard. The tables used are:\r\n",
        "    * stage2p/\r\n",
        "        * contoso_sis/studentattendance_pseudo,\r\n",
        "        * M365/TechActivity_pseudo,\r\n",
        "        * M365/AadUser_pseudo,\r\n",
        "        * M365/AadUserPersonMapping_pseudo,\r\n",
        "        * M365/Person_pseudo,\r\n",
        "        * M365/PersonOrganizationRole_pseudo,\r\n",
        "        * M365/Organization_pseudo, and\r\n",
        "        * M365/RefDefinition_pseudo.\r\n",
        "    * stage2np/M365/\r\n",
        "        * AadUser_lookup, and\r\n",
        "        * Person_lookup.\r\n",
        "* The final resulting tables are written to stage 3:\r\n",
        "    * stage3p/hybrid_engagement/Student_pseudo\r\n",
        "    * stage3np/hybrid_engagement/Student_lookup"
      ]
    },
    {
      "cell_type": "code",
      "execution_count": 1,
      "outputs": [
        {
          "output_type": "display_data",
          "data": {
            "application/vnd.livy.statement-meta+json": {
              "spark_pool": null,
              "session_id": "64",
              "statement_id": -1,
              "state": "finished",
              "livy_statement_state": "available",
              "queued_time": "2022-10-06T15:32:07.1032741Z",
              "session_start_time": null,
              "execution_start_time": "2022-10-06T15:36:33.5758146Z",
              "execution_finish_time": "2022-10-06T15:36:33.5760266Z",
              "spark_jobs": null
            },
            "text/plain": "StatementMeta(, 64, -1, Finished, Available)"
          },
          "metadata": {}
        },
        {
          "output_type": "stream",
          "name": "stdout",
          "text": [
            "2022-10-06 15:36:32,478 - OEA - DEBUG - OEA initialized.\nOEA initialized.\n"
          ]
        }
      ],
      "metadata": {
        "jupyter": {
          "source_hidden": false,
          "outputs_hidden": false
        },
        "nteract": {
          "transient": {
            "deleting": false
          }
        }
      },
      "source": [
        "%run /OEA_py"
      ]
    },
    {
      "cell_type": "code",
      "execution_count": 2,
      "outputs": [
        {
          "output_type": "display_data",
          "data": {
            "application/vnd.livy.statement-meta+json": {
              "spark_pool": "sparkMed",
              "session_id": "64",
              "statement_id": 2,
              "state": "finished",
              "livy_statement_state": "available",
              "queued_time": "2022-10-06T15:32:07.1081661Z",
              "session_start_time": null,
              "execution_start_time": "2022-10-06T15:36:33.6930019Z",
              "execution_finish_time": "2022-10-06T15:36:40.8361327Z",
              "spark_jobs": null
            },
            "text/plain": "StatementMeta(sparkMed, 64, 2, Finished, Available)"
          },
          "metadata": {}
        },
        {
          "output_type": "stream",
          "name": "stdout",
          "text": [
            "2022-10-06 15:36:40,393 - OEA - DEBUG - OEA initialized.\n2022-10-06 15:36:40,393 - OEA - DEBUG - OEA initialized.\nOEA initialized.\n"
          ]
        }
      ],
      "metadata": {
        "jupyter": {
          "source_hidden": false,
          "outputs_hidden": false
        },
        "nteract": {
          "transient": {
            "deleting": false
          }
        }
      },
      "source": [
        "# 0) Initialize the OEA framework.\r\n",
        "oea = OEA()"
      ]
    },
    {
      "cell_type": "markdown",
      "metadata": {
        "nteract": {
          "transient": {
            "deleting": false
          }
        }
      },
      "source": [
        "## Data Aggregations\r\n",
        "\r\n",
        "### SIS Student_pseudo table creation"
      ]
    },
    {
      "cell_type": "code",
      "execution_count": 3,
      "outputs": [
        {
          "output_type": "display_data",
          "data": {
            "application/vnd.livy.statement-meta+json": {
              "spark_pool": "sparkMed",
              "session_id": "64",
              "statement_id": 3,
              "state": "finished",
              "livy_statement_state": "available",
              "queued_time": "2022-10-06T15:32:09.4850611Z",
              "session_start_time": null,
              "execution_start_time": "2022-10-06T15:36:40.9447063Z",
              "execution_finish_time": "2022-10-06T15:36:53.8098388Z",
              "spark_jobs": null
            },
            "text/plain": "StatementMeta(sparkMed, 64, 3, Finished, Available)"
          },
          "metadata": {}
        }
      ],
      "metadata": {
        "jupyter": {
          "source_hidden": false,
          "outputs_hidden": true
        },
        "nteract": {
          "transient": {
            "deleting": false
          }
        }
      },
      "source": [
        "dfContosoSIS_studentattendance = oea.load('contoso_sis', 'studentattendance_pseudo')\r\n",
        "dfInsights_techActivity = oea.load_delta('stage2p/digital_activity')\r\n",
        "dfInsights_aaduserpersonmapping = oea.load('M365', 'AadUserPersonMapping_pseudo')\r\n",
        "dfInsights_person = oea.load('M365', 'Person_pseudo')\r\n",
        "dfInsights_personOrgRole = oea.load('M365', 'PersonOrganizationRole_pseudo')\r\n",
        "dfInsights_organization = oea.load('M365', 'Organization_pseudo')\r\n",
        "dfInsights_refDefinition = oea.load('M365', 'RefDefinition_pseudo')"
      ]
    },
    {
      "cell_type": "code",
      "execution_count": 4,
      "outputs": [
        {
          "output_type": "display_data",
          "data": {
            "application/vnd.livy.statement-meta+json": {
              "spark_pool": "sparkMed",
              "session_id": "64",
              "statement_id": 4,
              "state": "finished",
              "livy_statement_state": "available",
              "queued_time": "2022-10-06T15:32:12.6323719Z",
              "session_start_time": null,
              "execution_start_time": "2022-10-06T15:36:53.9221512Z",
              "execution_finish_time": "2022-10-06T15:36:56.8409946Z",
              "spark_jobs": null
            },
            "text/plain": "StatementMeta(sparkMed, 64, 4, Finished, Available)"
          },
          "metadata": {}
        },
        {
          "output_type": "display_data",
          "data": {
            "application/vnd.synapse.widget-view+json": {
              "widget_id": "cfde8dd9-a542-4c3e-a0d8-6416c71db66f",
              "widget_type": "Synapse.DataFrame"
            },
            "text/plain": "SynapseWidget(Synapse.DataFrame, cfde8dd9-a542-4c3e-a0d8-6416c71db66f)"
          },
          "metadata": {}
        }
      ],
      "metadata": {
        "jupyter": {
          "source_hidden": false,
          "outputs_hidden": false
        },
        "nteract": {
          "transient": {
            "deleting": false
          }
        },
        "collapsed": false
      },
      "source": [
        "dfInsights = dfInsights_personOrgRole.join(dfInsights_person, dfInsights_personOrgRole.PersonId_pseudonym == dfInsights_person.Id_pseudonym, how='inner')\r\n",
        "dfInsights = dfInsights.select('PersonId_pseudonym', 'Surname', 'GivenName', 'MiddleName', 'RefRoleId', 'RefGradeLevelId', 'OrganizationId')\r\n",
        "display(dfInsights.limit(10))"
      ]
    },
    {
      "cell_type": "code",
      "execution_count": 5,
      "outputs": [
        {
          "output_type": "display_data",
          "data": {
            "application/vnd.livy.statement-meta+json": {
              "spark_pool": "sparkMed",
              "session_id": "64",
              "statement_id": 5,
              "state": "finished",
              "livy_statement_state": "available",
              "queued_time": "2022-10-06T15:32:15.4659472Z",
              "session_start_time": null,
              "execution_start_time": "2022-10-06T15:36:57.0411841Z",
              "execution_finish_time": "2022-10-06T15:37:00.0029749Z",
              "spark_jobs": null
            },
            "text/plain": "StatementMeta(sparkMed, 64, 5, Finished, Available)"
          },
          "metadata": {}
        },
        {
          "output_type": "display_data",
          "data": {
            "application/vnd.synapse.widget-view+json": {
              "widget_id": "50b6a2b8-2210-4f6d-be2f-70645315492e",
              "widget_type": "Synapse.DataFrame"
            },
            "text/plain": "SynapseWidget(Synapse.DataFrame, 50b6a2b8-2210-4f6d-be2f-70645315492e)"
          },
          "metadata": {}
        }
      ],
      "metadata": {
        "jupyter": {
          "source_hidden": false,
          "outputs_hidden": false
        },
        "nteract": {
          "transient": {
            "deleting": false
          }
        },
        "collapsed": false
      },
      "source": [
        "dfInsights = dfInsights.join(dfInsights_organization, dfInsights.OrganizationId == dfInsights_organization.Id, how='inner')\r\n",
        "dfInsights = dfInsights.withColumnRenamed('Name', 'OrganizationName')\r\n",
        "dfInsights = dfInsights.select('PersonId_pseudonym', 'Surname', 'GivenName', 'MiddleName', 'RefRoleId', 'RefGradeLevelId', 'OrganizationId', 'OrganizationName')\r\n",
        "display(dfInsights.limit(10))"
      ]
    },
    {
      "cell_type": "code",
      "execution_count": 6,
      "outputs": [
        {
          "output_type": "display_data",
          "data": {
            "application/vnd.livy.statement-meta+json": {
              "spark_pool": "sparkMed",
              "session_id": "64",
              "statement_id": 6,
              "state": "finished",
              "livy_statement_state": "available",
              "queued_time": "2022-10-06T15:32:18.0734057Z",
              "session_start_time": null,
              "execution_start_time": "2022-10-06T15:37:00.2231562Z",
              "execution_finish_time": "2022-10-06T15:37:03.0583871Z",
              "spark_jobs": null
            },
            "text/plain": "StatementMeta(sparkMed, 64, 6, Finished, Available)"
          },
          "metadata": {}
        },
        {
          "output_type": "display_data",
          "data": {
            "application/vnd.synapse.widget-view+json": {
              "widget_id": "ba3a267c-791e-4cf6-994e-13e30726ab1c",
              "widget_type": "Synapse.DataFrame"
            },
            "text/plain": "SynapseWidget(Synapse.DataFrame, ba3a267c-791e-4cf6-994e-13e30726ab1c)"
          },
          "metadata": {}
        }
      ],
      "metadata": {
        "jupyter": {
          "source_hidden": false,
          "outputs_hidden": false
        },
        "nteract": {
          "transient": {
            "deleting": false
          }
        },
        "collapsed": false
      },
      "source": [
        "dfInsights = dfInsights.join(dfInsights_refDefinition, dfInsights.RefRoleId == dfInsights_refDefinition.Id, how='inner')\r\n",
        "dfInsights = dfInsights.withColumnRenamed('Code', 'PersonRole')\r\n",
        "dfInsights = dfInsights.select('PersonId_pseudonym', 'Surname', 'GivenName', 'MiddleName', 'PersonRole', 'RefGradeLevelId', 'OrganizationId', 'OrganizationName')\r\n",
        "display(dfInsights.limit(10))"
      ]
    },
    {
      "cell_type": "code",
      "execution_count": 7,
      "outputs": [
        {
          "output_type": "display_data",
          "data": {
            "application/vnd.livy.statement-meta+json": {
              "spark_pool": "sparkMed",
              "session_id": "64",
              "statement_id": 7,
              "state": "finished",
              "livy_statement_state": "available",
              "queued_time": "2022-10-06T15:32:19.3259175Z",
              "session_start_time": null,
              "execution_start_time": "2022-10-06T15:37:03.1736413Z",
              "execution_finish_time": "2022-10-06T15:37:07.825053Z",
              "spark_jobs": null
            },
            "text/plain": "StatementMeta(sparkMed, 64, 7, Finished, Available)"
          },
          "metadata": {}
        },
        {
          "output_type": "display_data",
          "data": {
            "application/vnd.synapse.widget-view+json": {
              "widget_id": "69cea556-cbdc-4200-a033-e08259692691",
              "widget_type": "Synapse.DataFrame"
            },
            "text/plain": "SynapseWidget(Synapse.DataFrame, 69cea556-cbdc-4200-a033-e08259692691)"
          },
          "metadata": {}
        }
      ],
      "metadata": {
        "jupyter": {
          "source_hidden": false,
          "outputs_hidden": false
        },
        "nteract": {
          "transient": {
            "deleting": false
          }
        },
        "collapsed": false
      },
      "source": [
        "dfInsights = dfInsights.join(dfInsights_refDefinition, dfInsights.RefGradeLevelId == dfInsights_refDefinition.Id, how='inner')\r\n",
        "dfInsights = dfInsights.withColumnRenamed('Code', 'StudentGrade')\r\n",
        "\r\n",
        "dfInsights = dfInsights.select('PersonId_pseudonym', 'Surname', 'GivenName', 'MiddleName', 'PersonRole', 'StudentGrade', 'OrganizationId', 'OrganizationName')\r\n",
        "display(dfInsights.limit(10))"
      ]
    },
    {
      "cell_type": "code",
      "execution_count": 9,
      "outputs": [
        {
          "output_type": "display_data",
          "data": {
            "application/vnd.livy.statement-meta+json": {
              "spark_pool": "sparkMed",
              "session_id": "64",
              "statement_id": 9,
              "state": "finished",
              "livy_statement_state": "available",
              "queued_time": "2022-10-06T15:38:42.5991382Z",
              "session_start_time": null,
              "execution_start_time": "2022-10-06T15:38:42.7023314Z",
              "execution_finish_time": "2022-10-06T15:38:45.6175827Z",
              "spark_jobs": null
            },
            "text/plain": "StatementMeta(sparkMed, 64, 9, Finished, Available)"
          },
          "metadata": {}
        },
        {
          "output_type": "display_data",
          "data": {
            "application/vnd.synapse.widget-view+json": {
              "widget_id": "83a9aeed-4d81-49c6-a399-177c8f6ecb59",
              "widget_type": "Synapse.DataFrame"
            },
            "text/plain": "SynapseWidget(Synapse.DataFrame, 83a9aeed-4d81-49c6-a399-177c8f6ecb59)"
          },
          "metadata": {}
        }
      ],
      "metadata": {
        "jupyter": {
          "source_hidden": false,
          "outputs_hidden": false
        },
        "nteract": {
          "transient": {
            "deleting": false
          }
        },
        "collapsed": false
      },
      "source": [
        "dfInsights_aaduserpersonmapping = dfInsights_aaduserpersonmapping.withColumnRenamed('PersonId_pseudonym', 'StudentId_internal_pseudonym')\r\n",
        "dfInsights = dfInsights.join(dfInsights_aaduserpersonmapping, dfInsights.PersonId_pseudonym == dfInsights_aaduserpersonmapping.StudentId_internal_pseudonym, how='inner')\r\n",
        "dfInsights = dfInsights.withColumnRenamed('ObjectId_pseudonym', 'StudentId_external_pseudonym')\r\n",
        "dfInsights = dfInsights.select('StudentId_internal_pseudonym', 'StudentId_external_pseudonym', 'Surname', 'GivenName', 'MiddleName', 'PersonRole', 'StudentGrade', 'OrganizationId', 'OrganizationName')\r\n",
        "display(dfInsights.limit(10))"
      ]
    },
    {
      "cell_type": "markdown",
      "metadata": {
        "nteract": {
          "transient": {
            "deleting": false
          }
        }
      },
      "source": [
        "### StudentAttendance Enrichment"
      ]
    },
    {
      "cell_type": "code",
      "execution_count": 10,
      "outputs": [
        {
          "output_type": "display_data",
          "data": {
            "application/vnd.livy.statement-meta+json": {
              "spark_pool": "sparkMed",
              "session_id": "64",
              "statement_id": 10,
              "state": "finished",
              "livy_statement_state": "available",
              "queued_time": "2022-10-06T15:38:52.9970376Z",
              "session_start_time": null,
              "execution_start_time": "2022-10-06T15:38:53.1065458Z",
              "execution_finish_time": "2022-10-06T15:38:58.4138911Z",
              "spark_jobs": null
            },
            "text/plain": "StatementMeta(sparkMed, 64, 10, Finished, Available)"
          },
          "metadata": {}
        },
        {
          "output_type": "display_data",
          "data": {
            "application/vnd.synapse.widget-view+json": {
              "widget_id": "a2d7bf81-492e-45f0-82f3-17bb36ce9ffb",
              "widget_type": "Synapse.DataFrame"
            },
            "text/plain": "SynapseWidget(Synapse.DataFrame, a2d7bf81-492e-45f0-82f3-17bb36ce9ffb)"
          },
          "metadata": {}
        }
      ],
      "metadata": {
        "jupyter": {
          "source_hidden": false,
          "outputs_hidden": false
        },
        "nteract": {
          "transient": {
            "deleting": false
          }
        },
        "collapsed": false
      },
      "source": [
        "dfContosoSIS_studentattendance = dfContosoSIS_studentattendance.select('student_id_pseudonym', 'AttendanceCode')\r\n",
        "dfContosoSIS_studentattendance = dfContosoSIS_studentattendance.withColumn('AttendanceCode_value', F.when(F.col('AttendanceCode') == \"P\", 1).otherwise(0))\r\n",
        "dfAttendance = dfContosoSIS_studentattendance.groupBy(\"student_id_pseudonym\").mean(\"AttendanceCode_value\").alias(\"AttendanceAverage\")\r\n",
        "display(dfAttendance.limit(10))"
      ]
    },
    {
      "cell_type": "code",
      "execution_count": 11,
      "outputs": [
        {
          "output_type": "display_data",
          "data": {
            "application/vnd.livy.statement-meta+json": {
              "spark_pool": "sparkMed",
              "session_id": "64",
              "statement_id": 11,
              "state": "finished",
              "livy_statement_state": "available",
              "queued_time": "2022-10-06T15:39:44.0306705Z",
              "session_start_time": null,
              "execution_start_time": "2022-10-06T15:39:44.1933944Z",
              "execution_finish_time": "2022-10-06T15:39:49.6009386Z",
              "spark_jobs": null
            },
            "text/plain": "StatementMeta(sparkMed, 64, 11, Finished, Available)"
          },
          "metadata": {}
        },
        {
          "output_type": "display_data",
          "data": {
            "application/vnd.synapse.widget-view+json": {
              "widget_id": "756aa2c7-47b0-4fcb-b4f9-432db571bf09",
              "widget_type": "Synapse.DataFrame"
            },
            "text/plain": "SynapseWidget(Synapse.DataFrame, 756aa2c7-47b0-4fcb-b4f9-432db571bf09)"
          },
          "metadata": {}
        }
      ],
      "metadata": {
        "jupyter": {
          "source_hidden": false,
          "outputs_hidden": false
        },
        "nteract": {
          "transient": {
            "deleting": false
          }
        },
        "collapsed": false
      },
      "source": [
        "dfAttendance = dfAttendance.withColumnRenamed('avg(AttendanceCode_value)', 'AverageAttendance_inPerson')\r\n",
        "dfInsights = dfInsights.join(dfAttendance, dfInsights.StudentId_external_pseudonym == dfAttendance.student_id_pseudonym, how='inner')\r\n",
        "dfInsights = dfInsights.select('StudentId_internal_pseudonym', 'StudentId_external_pseudonym', 'Surname', 'GivenName', 'MiddleName', 'PersonRole', 'StudentGrade', 'AverageAttendance_inPerson', 'OrganizationId', 'OrganizationName')\r\n",
        "display(dfInsights.limit(10))"
      ]
    },
    {
      "cell_type": "markdown",
      "metadata": {
        "nteract": {
          "transient": {
            "deleting": false
          }
        }
      },
      "source": [
        "### TechActivity Enrichment\r\n",
        "From the Microsoft Education Insights module"
      ]
    },
    {
      "cell_type": "code",
      "execution_count": 12,
      "outputs": [
        {
          "output_type": "display_data",
          "data": {
            "application/vnd.livy.statement-meta+json": {
              "spark_pool": "sparkMed",
              "session_id": "64",
              "statement_id": 12,
              "state": "finished",
              "livy_statement_state": "available",
              "queued_time": "2022-10-06T15:40:10.3231682Z",
              "session_start_time": null,
              "execution_start_time": "2022-10-06T15:40:10.4316602Z",
              "execution_finish_time": "2022-10-06T15:40:17.3344492Z",
              "spark_jobs": null
            },
            "text/plain": "StatementMeta(sparkMed, 64, 12, Finished, Available)"
          },
          "metadata": {}
        },
        {
          "output_type": "display_data",
          "data": {
            "application/vnd.synapse.widget-view+json": {
              "widget_id": "912257b6-bb08-4806-85a4-6f96ce00e1be",
              "widget_type": "Synapse.DataFrame"
            },
            "text/plain": "SynapseWidget(Synapse.DataFrame, 912257b6-bb08-4806-85a4-6f96ce00e1be)"
          },
          "metadata": {}
        }
      ],
      "metadata": {
        "jupyter": {
          "source_hidden": false,
          "outputs_hidden": false
        },
        "nteract": {
          "transient": {
            "deleting": false
          }
        },
        "collapsed": false
      },
      "source": [
        "dfInsights_techActivity = dfInsights_techActivity.filter(dfInsights_techActivity['event_object'] == 'MS_Insights')\r\n",
        "dfInsights_techActivity = dfInsights_techActivity.select('event_actor', 'event_eventTime')\r\n",
        "# get the total number of days from Insights-recorded digital activity\r\n",
        "metadata_table = dfInsights_techActivity.groupBy(\"event_eventTime\").count()\r\n",
        "number_of_days_recorded = metadata_table.count()\r\n",
        "# get the average number of days there was Insights digital activity per student\r\n",
        "metadata_table2 = dfInsights_techActivity.groupBy(\"event_actor\", \"event_eventTime\").count()\r\n",
        "metadata_table2 = metadata_table2.drop(F.col('count'))\r\n",
        "metadata_table2 = metadata_table2.withColumn('DigitalAttendanceCode_value', F.lit(1))\r\n",
        "metadata_table2 = metadata_table2.groupBy(\"event_actor\").sum('DigitalAttendanceCode_value')\r\n",
        "metadata_table2 = metadata_table2.withColumnRenamed('sum(DigitalAttendanceCode_value)', 'AverageAttendance_digital')\r\n",
        "dfDigitalAttendance_insights = metadata_table2.withColumn('AverageAttendance_digital', F.col('AverageAttendance_digital') / number_of_days_recorded)\r\n",
        "display(dfDigitalAttendance_insights.limit(10))"
      ]
    },
    {
      "cell_type": "code",
      "execution_count": 13,
      "outputs": [
        {
          "output_type": "display_data",
          "data": {
            "application/vnd.livy.statement-meta+json": {
              "spark_pool": "sparkMed",
              "session_id": "64",
              "statement_id": 13,
              "state": "finished",
              "livy_statement_state": "available",
              "queued_time": "2022-10-06T15:42:34.0298853Z",
              "session_start_time": null,
              "execution_start_time": "2022-10-06T15:42:34.1717481Z",
              "execution_finish_time": "2022-10-06T15:42:41.1720814Z",
              "spark_jobs": null
            },
            "text/plain": "StatementMeta(sparkMed, 64, 13, Finished, Available)"
          },
          "metadata": {}
        },
        {
          "output_type": "display_data",
          "data": {
            "application/vnd.synapse.widget-view+json": {
              "widget_id": "a31df110-f8bd-4330-af52-9a7ff2f2abad",
              "widget_type": "Synapse.DataFrame"
            },
            "text/plain": "SynapseWidget(Synapse.DataFrame, a31df110-f8bd-4330-af52-9a7ff2f2abad)"
          },
          "metadata": {}
        }
      ],
      "metadata": {
        "jupyter": {
          "source_hidden": false,
          "outputs_hidden": false
        },
        "nteract": {
          "transient": {
            "deleting": false
          }
        },
        "collapsed": false
      },
      "source": [
        "# Map the user back to the correct SIS student ID from Person ID\r\n",
        "dfInsights = dfInsights.join(dfDigitalAttendance_insights, dfInsights.StudentId_internal_pseudonym == dfDigitalAttendance_insights.event_actor, how='inner')\r\n",
        "dfInsights = dfInsights.select('StudentId_internal_pseudonym', 'StudentId_external_pseudonym', 'Surname', 'GivenName', 'MiddleName', 'PersonRole', 'StudentGrade', 'AverageAttendance_inPerson', 'AverageAttendance_digital', 'OrganizationId', 'OrganizationName')\r\n",
        "display(dfInsights.limit(10))"
      ]
    },
    {
      "cell_type": "markdown",
      "metadata": {
        "nteract": {
          "transient": {
            "deleting": false
          }
        }
      },
      "source": [
        "### Write SIS Student_pseudo table to Stage 3p"
      ]
    },
    {
      "cell_type": "code",
      "execution_count": 19,
      "outputs": [
        {
          "output_type": "display_data",
          "data": {
            "application/vnd.livy.statement-meta+json": {
              "spark_pool": "sparkMed",
              "session_id": "55",
              "statement_id": 20,
              "state": "finished",
              "livy_statement_state": "available",
              "queued_time": "2022-09-28T17:30:32.1698383Z",
              "session_start_time": null,
              "execution_start_time": "2022-09-28T17:30:32.2758888Z",
              "execution_finish_time": "2022-09-28T17:30:37.6050893Z",
              "spark_jobs": null
            },
            "text/plain": "StatementMeta(sparkMed, 55, 20, Finished, Available)"
          },
          "metadata": {}
        }
      ],
      "metadata": {
        "jupyter": {
          "source_hidden": false,
          "outputs_hidden": false
        },
        "nteract": {
          "transient": {
            "deleting": false
          }
        }
      },
      "source": [
        "dfInsights.coalesce(1).write.format('delta').mode('overwrite').option('header', True).save(oea.stage3p + '/hybrid_engagement/Student_pseudo')"
      ]
    },
    {
      "cell_type": "markdown",
      "metadata": {
        "nteract": {
          "transient": {
            "deleting": false
          }
        }
      },
      "source": [
        "## Data Aggregations\r\n",
        "\r\n",
        "### SIS Student_lookup table creation"
      ]
    },
    {
      "cell_type": "code",
      "execution_count": 15,
      "outputs": [
        {
          "output_type": "display_data",
          "data": {
            "application/vnd.livy.statement-meta+json": {
              "spark_pool": "sparkMed",
              "session_id": "64",
              "statement_id": 15,
              "state": "finished",
              "livy_statement_state": "available",
              "queued_time": "2022-10-06T15:48:22.6758162Z",
              "session_start_time": null,
              "execution_start_time": "2022-10-06T15:48:22.7918319Z",
              "execution_finish_time": "2022-10-06T15:48:24.7466037Z",
              "spark_jobs": null
            },
            "text/plain": "StatementMeta(sparkMed, 64, 15, Finished, Available)"
          },
          "metadata": {}
        },
        {
          "output_type": "display_data",
          "data": {
            "application/vnd.synapse.widget-view+json": {
              "widget_id": "ac4ad854-4ae9-472b-91e4-5a23f986540f",
              "widget_type": "Synapse.DataFrame"
            },
            "text/plain": "SynapseWidget(Synapse.DataFrame, ac4ad854-4ae9-472b-91e4-5a23f986540f)"
          },
          "metadata": {}
        }
      ],
      "metadata": {
        "jupyter": {
          "source_hidden": false,
          "outputs_hidden": false
        },
        "nteract": {
          "transient": {
            "deleting": false
          }
        },
        "collapsed": false
      },
      "source": [
        "dfInsights_person_np = oea.load('M365', 'Person_lookup', stage=oea.stage2np)\r\n",
        "dfInsights_aaduser_np = oea.load('M365', 'AadUser_lookup', stage=oea.stage2np)\r\n",
        "dfInsights_np = dfInsights_person_np.join(dfInsights_aaduserpersonmapping, dfInsights_person_np.Id_pseudonym == dfInsights_aaduserpersonmapping.StudentId_internal_pseudonym, how='inner')\r\n",
        "dfInsights_np = dfInsights_np.withColumnRenamed('Id', 'StudentId_internal').withColumnRenamed('ObjectId_pseudonym', 'StudentId_external_pseudonym')\r\n",
        "dfInsights_np = dfInsights_np.select('StudentId_internal_pseudonym', 'StudentId_internal', 'StudentId_external_pseudonym', 'Surname', 'GivenName', 'MiddleName')\r\n",
        "display(dfInsights_np.limit(10))"
      ]
    },
    {
      "cell_type": "code",
      "execution_count": 16,
      "outputs": [
        {
          "output_type": "display_data",
          "data": {
            "application/vnd.livy.statement-meta+json": {
              "spark_pool": "sparkMed",
              "session_id": "64",
              "statement_id": 16,
              "state": "finished",
              "livy_statement_state": "available",
              "queued_time": "2022-10-06T15:48:40.0829231Z",
              "session_start_time": null,
              "execution_start_time": "2022-10-06T15:48:40.215076Z",
              "execution_finish_time": "2022-10-06T15:48:43.1257744Z",
              "spark_jobs": null
            },
            "text/plain": "StatementMeta(sparkMed, 64, 16, Finished, Available)"
          },
          "metadata": {}
        },
        {
          "output_type": "display_data",
          "data": {
            "application/vnd.synapse.widget-view+json": {
              "widget_id": "af5b6771-d0d4-4241-9192-0bb3156f81e4",
              "widget_type": "Synapse.DataFrame"
            },
            "text/plain": "SynapseWidget(Synapse.DataFrame, af5b6771-d0d4-4241-9192-0bb3156f81e4)"
          },
          "metadata": {}
        }
      ],
      "metadata": {
        "jupyter": {
          "source_hidden": false,
          "outputs_hidden": false
        },
        "nteract": {
          "transient": {
            "deleting": false
          }
        },
        "collapsed": false
      },
      "source": [
        "dfInsights_aaduser_np = dfInsights_aaduser_np.withColumnRenamed('Surname', 'Surname2').withColumnRenamed('GivenName', 'GivenName2')\r\n",
        "dfInsights_np = dfInsights_np.join(dfInsights_aaduser_np, dfInsights_np.StudentId_external_pseudonym == dfInsights_aaduser_np.ObjectId_pseudonym, how='inner')\r\n",
        "dfInsights_np = dfInsights_np.withColumnRenamed('ObjectId', 'StudentId_external')\r\n",
        "dfInsights_np = dfInsights_np.select('StudentId_internal_pseudonym', 'StudentId_internal', 'StudentId_external_pseudonym', 'StudentId_external', 'Surname', 'GivenName', 'MiddleName')\r\n",
        "display(dfInsights_np.limit(10))"
      ]
    },
    {
      "cell_type": "markdown",
      "metadata": {
        "nteract": {
          "transient": {
            "deleting": false
          }
        }
      },
      "source": [
        "### Write SIS Student_lookup table to Stage 3np"
      ]
    },
    {
      "cell_type": "code",
      "execution_count": 21,
      "outputs": [
        {
          "output_type": "display_data",
          "data": {
            "application/vnd.livy.statement-meta+json": {
              "spark_pool": "sparkMed",
              "session_id": "55",
              "statement_id": 22,
              "state": "finished",
              "livy_statement_state": "available",
              "queued_time": "2022-09-28T17:45:06.7396244Z",
              "session_start_time": null,
              "execution_start_time": "2022-09-28T17:45:06.8452886Z",
              "execution_finish_time": "2022-09-28T17:45:09.5845882Z",
              "spark_jobs": null
            },
            "text/plain": "StatementMeta(sparkMed, 55, 22, Finished, Available)"
          },
          "metadata": {}
        }
      ],
      "metadata": {
        "jupyter": {
          "source_hidden": false,
          "outputs_hidden": false
        },
        "nteract": {
          "transient": {
            "deleting": false
          }
        }
      },
      "source": [
        "dfInsights_np.coalesce(1).write.format('delta').mode('overwrite').option('header', True).save(oea.stage3np + '/hybrid_engagement/Student_lookup')"
      ]
    }
  ]
}