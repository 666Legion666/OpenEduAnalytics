{
  "cells": [
    {
      "cell_type": "markdown",
      "source": [
        "# Digital Activity Schema Demo Notebook\r\n",
        "\r\n",
        "This notebook is intended to explore the capabilities of the OEA schema standardization process to applicable modules (e.g. Education Insights Module, Graph Reports API Module). \r\n",
        "\r\n",
        "__It is highly recommended you review and pull the test data from both the Insights and Graph modules, before testing these schema standardization notebooks.__ \r\n",
        "\r\n",
        "Below describes the execution process of the notebook:\r\n",
        "\r\n",
        " - First initialize the OEA and Digital Activity Schema Standard class notebooks\r\n",
        " - Then the notebook processes the Insights module data ingested to stage 2, by re-writing the schema to only pull digital activity data.\r\n",
        " - The same process is executed for the Graph API module data - specifically for the M365 and Teams queries from the module."
      ],
      "metadata": {
        "nteract": {
          "transient": {
            "deleting": false
          }
        }
      }
    },
    {
      "cell_type": "code",
      "source": [
        "%run /OEA_py"
      ],
      "outputs": [
        {
          "output_type": "display_data",
          "data": {
            "application/vnd.livy.statement-meta+json": {
              "spark_pool": null,
              "session_id": 4,
              "statement_id": -1,
              "state": "finished",
              "livy_statement_state": "available",
              "queued_time": "2022-06-23T15:44:57.7461992Z",
              "session_start_time": null,
              "execution_start_time": "2022-06-23T15:49:51.3398785Z",
              "execution_finish_time": "2022-06-23T15:49:51.3402567Z"
            },
            "text/plain": "StatementMeta(, 4, -1, Finished, Available)"
          },
          "metadata": {}
        },
        {
          "output_type": "stream",
          "name": "stdout",
          "text": [
            "2022-06-23 15:49:49,485 - OEA - DEBUG - OEA initialized.\nOEA initialized.\n"
          ]
        }
      ],
      "execution_count": 68,
      "metadata": {
        "jupyter": {
          "source_hidden": false,
          "outputs_hidden": false
        },
        "nteract": {
          "transient": {
            "deleting": false
          }
        }
      }
    },
    {
      "cell_type": "code",
      "source": [
        "%run /Schema_DigitalActivity_py"
      ],
      "outputs": [
        {
          "output_type": "display_data",
          "data": {
            "application/vnd.livy.statement-meta+json": {
              "spark_pool": null,
              "session_id": 4,
              "statement_id": -1,
              "state": "finished",
              "livy_statement_state": "available",
              "queued_time": "2022-06-23T15:44:59.096597Z",
              "session_start_time": null,
              "execution_start_time": "2022-06-23T15:49:51.7423461Z",
              "execution_finish_time": "2022-06-23T15:49:51.7427225Z"
            },
            "text/plain": "StatementMeta(, 4, -1, Finished, Available)"
          },
          "metadata": {}
        }
      ],
      "execution_count": 69,
      "metadata": {
        "jupyter": {
          "source_hidden": false,
          "outputs_hidden": false
        },
        "nteract": {
          "transient": {
            "deleting": false
          }
        }
      }
    },
    {
      "cell_type": "code",
      "source": [
        "# 0) Initialize the OEA framework and modules needed.\r\n",
        "oea = OEA()\r\n",
        "digAct = DigitalActivity()"
      ],
      "outputs": [
        {
          "output_type": "display_data",
          "data": {
            "application/vnd.livy.statement-meta+json": {
              "spark_pool": "sparkMed",
              "session_id": 4,
              "statement_id": 3,
              "state": "finished",
              "livy_statement_state": "available",
              "queued_time": "2022-06-23T15:45:01.1567281Z",
              "session_start_time": null,
              "execution_start_time": "2022-06-23T15:49:51.8634434Z",
              "execution_finish_time": "2022-06-23T15:49:59.0889111Z"
            },
            "text/plain": "StatementMeta(sparkMed, 4, 3, Finished, Available)"
          },
          "metadata": {}
        },
        {
          "output_type": "stream",
          "name": "stdout",
          "text": [
            "2022-06-23 15:49:57,892 - OEA - DEBUG - OEA initialized.\n2022-06-23 15:49:57,892 - OEA - DEBUG - OEA initialized.\nOEA initialized.\n"
          ]
        }
      ],
      "execution_count": 70,
      "metadata": {
        "jupyter": {
          "source_hidden": false,
          "outputs_hidden": false
        },
        "nteract": {
          "transient": {
            "deleting": false
          }
        }
      }
    },
    {
      "cell_type": "code",
      "source": [
        "digAct.get_digital_activity_schema()"
      ],
      "outputs": [
        {
          "output_type": "display_data",
          "data": {
            "application/vnd.livy.statement-meta+json": {
              "spark_pool": "sparkMed",
              "session_id": 3,
              "statement_id": 30,
              "state": "finished",
              "livy_statement_state": "available",
              "queued_time": "2022-06-23T00:48:45.4088308Z",
              "session_start_time": null,
              "execution_start_time": "2022-06-23T00:48:56.0022545Z",
              "execution_finish_time": "2022-06-23T00:48:56.2019407Z"
            },
            "text/plain": "StatementMeta(sparkMed, 3, 30, Finished, Available)"
          },
          "metadata": {}
        },
        {
          "output_type": "stream",
          "name": "stdout",
          "text": [
            "OEA Standard Digital Activity Schema:\n\nColumns and data types:\n\n['event_id', 'string', 'no-op']\n['event_type', 'string', 'no-op']\n['event_actor', 'string', 'no-op']\n['event_object', 'string', 'no-op']\n['event_eventTime', 'string', 'no-op']\n['entity_type', 'string', 'no-op']\n['softwareApplication_version', 'string', 'no-op']\n['generated_aggregateMeasure_metric_timeOnTask', 'string', 'no-op']\n['generated_aggregateMeasure_metric_numAccess', 'string', 'no-op']\n['generated_aggregateMeasure_metric_used', 'string', 'no-op']\n['generated_aggregateMeasure_metric_activityReportPeriod', 'string', 'no-op']\n\nColumn descriptions:\n\n['schema_source', 'https://www.imsglobal.org/spec/caliper/v1p2#tooluseevent']\n['event_id', 'unique ID used as a signal key']\n['event_type', 'type of activity event']\n['event_actor', 'student or teacher that created the signal']\n['event_object', 'entity that comprises the object of the interaction']\n['event_eventTime', 'date/timestamp of the activity signal']\n['entity_type', 'value that describes the properties of the user agent hosting this SoftwareApplication.']\n['softwareApplication_version', 'value that describes the properties of the user agent hosting this SoftwareApplication.']\n['generated_aggregateMeasure_metric_timeOnTask', 'time on task in seconds']\n['generated_aggregateMeasure_metric_numAccess', 'number of accesses']\n['generated_aggregateMeasure_metric_used', 'used true or false']\n['generated_aggregateMeasure_metric_activityReportPeriod', 'activity data collected is reported over this number of days']\n"
          ]
        }
      ],
      "execution_count": 48,
      "metadata": {
        "jupyter": {
          "source_hidden": false,
          "outputs_hidden": false
        },
        "nteract": {
          "transient": {
            "deleting": false
          }
        }
      }
    },
    {
      "cell_type": "code",
      "source": [
        "digAct.reset_digital_activity_processing()"
      ],
      "outputs": [
        {
          "output_type": "display_data",
          "data": {
            "application/vnd.livy.statement-meta+json": {
              "spark_pool": "sparkMed",
              "session_id": 3,
              "statement_id": 31,
              "state": "finished",
              "livy_statement_state": "available",
              "queued_time": "2022-06-23T00:48:45.6476781Z",
              "session_start_time": null,
              "execution_start_time": "2022-06-23T00:48:56.3067291Z",
              "execution_finish_time": "2022-06-23T00:48:56.4778109Z"
            },
            "text/plain": "StatementMeta(sparkMed, 3, 31, Finished, Available)"
          },
          "metadata": {}
        },
        {
          "output_type": "stream",
          "name": "stdout",
          "text": [
            "2022-06-23 00:48:56,329 - OEA - INFO - Deleted abfss://stage2p@stoeacisd3v06kw2.dfs.core.windows.net/<__main__.OEA object at 0x7f318c26dfd0>digital_activity\n2022-06-23 00:48:56,329 - OEA - INFO - Deleted abfss://stage2p@stoeacisd3v06kw2.dfs.core.windows.net/<__main__.OEA object at 0x7f318c26dfd0>digital_activity\n2022-06-23 00:48:56,329 - OEA - INFO - Deleted abfss://stage2p@stoeacisd3v06kw2.dfs.core.windows.net/<__main__.OEA object at 0x7f318c26dfd0>digital_activity\n2022-06-23 00:48:56,329 - OEA - INFO - Deleted abfss://stage2p@stoeacisd3v06kw2.dfs.core.windows.net/<__main__.OEA object at 0x7f318c26dfd0>digital_activity\n2022-06-23 00:48:56,329 - OEA - INFO - Deleted abfss://stage2p@stoeacisd3v06kw2.dfs.core.windows.net/<__main__.OEA object at 0x7f318c26dfd0>digital_activity\n2022-06-23 00:48:56,329 - OEA - INFO - Deleted abfss://stage2p@stoeacisd3v06kw2.dfs.core.windows.net/<__main__.OEA object at 0x7f318c26dfd0>digital_activity\nDeleted abfss://stage2p@stoeacisd3v06kw2.dfs.core.windows.net/<__main__.OEA object at 0x7f318c26dfd0>digital_activity\n"
          ]
        }
      ],
      "execution_count": 49,
      "metadata": {
        "jupyter": {
          "source_hidden": false,
          "outputs_hidden": false
        },
        "nteract": {
          "transient": {
            "deleting": false
          }
        }
      }
    },
    {
      "cell_type": "markdown",
      "source": [
        "## Education Insights Premium Module Processing"
      ],
      "metadata": {
        "nteract": {
          "transient": {
            "deleting": false
          }
        }
      }
    },
    {
      "cell_type": "code",
      "source": [
        "dfActivity = oea.load(\"M365\",\"TechActivity_pseudo\")\r\n",
        "dfActivity.printSchema()\r\n",
        "dfActivity.show(1,vertical=True)"
      ],
      "outputs": [
        {
          "output_type": "display_data",
          "data": {
            "application/vnd.livy.statement-meta+json": {
              "spark_pool": "sparkMed",
              "session_id": 3,
              "statement_id": 32,
              "state": "finished",
              "livy_statement_state": "available",
              "queued_time": "2022-06-23T00:48:45.8784466Z",
              "session_start_time": null,
              "execution_start_time": "2022-06-23T00:48:56.5794548Z",
              "execution_finish_time": "2022-06-23T00:48:57.6946635Z"
            },
            "text/plain": "StatementMeta(sparkMed, 3, 32, Finished, Available)"
          },
          "metadata": {}
        },
        {
          "output_type": "stream",
          "name": "stdout",
          "text": [
            "root\n |-- SignalType: string (nullable = true)\n |-- StartTime: timestamp (nullable = true)\n |-- UserAgent: string (nullable = true)\n |-- SignalId: string (nullable = true)\n |-- SisClassId: string (nullable = true)\n |-- ClassId: string (nullable = true)\n |-- ChannelId: string (nullable = true)\n |-- AppName: string (nullable = true)\n |-- ActorId_pseudonym: string (nullable = true)\n |-- ActorRole: string (nullable = true)\n |-- SchemaVersion: string (nullable = true)\n |-- AssignmentId: string (nullable = true)\n |-- SubmissionId: string (nullable = true)\n |-- ProbablyDateOfAssignmentActivity: timestamp (nullable = true)\n |-- Action: string (nullable = true)\n |-- DueDate: timestamp (nullable = true)\n |-- ClassCreationDate: timestamp (nullable = true)\n |-- Grade: string (nullable = true)\n |-- SourceFileExtension: string (nullable = true)\n |-- MeetingDuration: integer (nullable = true)\n |-- ToBeChanged: string (nullable = true)\n |-- ToBeUpdated: string (nullable = true)\n |-- year: integer (nullable = true)\n |-- month: integer (nullable = true)\n\n-RECORD 0------------------------------------------------\n SignalType                       | OneNotePageChanged   \n StartTime                        | 2021-10-08 00:39:32  \n UserAgent                        | null                 \n SignalId                         | 7bc1b34f-4ada-4d5... \n SisClassId                       | null                 \n ClassId                          | 9f424379-0e61-4f5... \n ChannelId                        | null                 \n AppName                          | OneNote              \n ActorId_pseudonym                | 7c04f1182bbe40f2a... \n ActorRole                        | Student              \n SchemaVersion                    | 1.12                 \n AssignmentId                     | null                 \n SubmissionId                     | null                 \n ProbablyDateOfAssignmentActivity | 2020-10-19 22:50:57  \n Action                           | null                 \n DueDate                          | null                 \n ClassCreationDate                | null                 \n Grade                            | null                 \n SourceFileExtension              | null                 \n MeetingDuration                  | null                 \n ToBeChanged                      | null                 \n ToBeUpdated                      | null                 \n year                             | 2021                 \n month                            | 10                   \nonly showing top 1 row\n\n"
          ]
        }
      ],
      "execution_count": 50,
      "metadata": {
        "jupyter": {
          "source_hidden": false,
          "outputs_hidden": false
        },
        "nteract": {
          "transient": {
            "deleting": false
          }
        }
      }
    },
    {
      "cell_type": "code",
      "source": [
        "schemaMapping = [['event_id', 'SignalId'],\r\n",
        "                        ['event_type', 'SignalType'], \r\n",
        "                        ['event_actor', 'ActorId_pseudonym'],\r\n",
        "                        ['event_object', 'MS_Insights'],\r\n",
        "                        ['event_eventTime', 'StartTime'],\r\n",
        "                        ['entity_type', 'AppName'],\r\n",
        "                        ['softwareApplication_version', 'SchemaVersion'],\r\n",
        "                        ['generated_aggregateMeasure_metric_timeOnTask', 'MeetingDuration']]\r\n",
        "\r\n",
        "source_path = 'stage2p/M365/TechActivity_pseudo'\r\n",
        "digAct.process_digital_activity(source_path, schemaMapping)"
      ],
      "outputs": [
        {
          "output_type": "display_data",
          "data": {
            "application/vnd.livy.statement-meta+json": {
              "spark_pool": "sparkMed",
              "session_id": 3,
              "statement_id": 33,
              "state": "finished",
              "livy_statement_state": "available",
              "queued_time": "2022-06-23T00:48:46.1858677Z",
              "session_start_time": null,
              "execution_start_time": "2022-06-23T00:48:57.7868969Z",
              "execution_finish_time": "2022-06-23T00:49:01.7339843Z"
            },
            "text/plain": "StatementMeta(sparkMed, 3, 33, Finished, Available)"
          },
          "metadata": {}
        },
        {
          "output_type": "stream",
          "name": "stdout",
          "text": [
            "2022-06-23 00:48:57,781 - OEA - INFO - Processing digital activity data from: stage2p/M365/TechActivity_pseudo\n2022-06-23 00:48:57,781 - OEA - INFO - Processing digital activity data from: stage2p/M365/TechActivity_pseudo\n2022-06-23 00:48:57,781 - OEA - INFO - Processing digital activity data from: stage2p/M365/TechActivity_pseudo\n2022-06-23 00:48:57,781 - OEA - INFO - Processing digital activity data from: stage2p/M365/TechActivity_pseudo\n2022-06-23 00:48:57,781 - OEA - INFO - Processing digital activity data from: stage2p/M365/TechActivity_pseudo\n2022-06-23 00:48:57,781 - OEA - INFO - Processing digital activity data from: stage2p/M365/TechActivity_pseudo\nProcessing digital activity data from: stage2p/M365/TechActivity_pseudo\n2022-06-23 00:49:01,256 - OEA - INFO - Complete processing from: stage2p/M365/TechActivity_pseudo\n2022-06-23 00:49:01,256 - OEA - INFO - Complete processing from: stage2p/M365/TechActivity_pseudo\n2022-06-23 00:49:01,256 - OEA - INFO - Complete processing from: stage2p/M365/TechActivity_pseudo\n2022-06-23 00:49:01,256 - OEA - INFO - Complete processing from: stage2p/M365/TechActivity_pseudo\n2022-06-23 00:49:01,256 - OEA - INFO - Complete processing from: stage2p/M365/TechActivity_pseudo\n2022-06-23 00:49:01,256 - OEA - INFO - Complete processing from: stage2p/M365/TechActivity_pseudo\nComplete processing from: stage2p/M365/TechActivity_pseudo\n"
          ]
        }
      ],
      "execution_count": 51,
      "metadata": {
        "jupyter": {
          "source_hidden": false,
          "outputs_hidden": false
        },
        "nteract": {
          "transient": {
            "deleting": false
          }
        }
      }
    },
    {
      "cell_type": "markdown",
      "source": [
        "## Graph Reports API Module Processing\r\n",
        "\r\n",
        "### M365 Query Processing"
      ],
      "metadata": {
        "nteract": {
          "transient": {
            "deleting": false
          }
        }
      }
    },
    {
      "cell_type": "code",
      "source": [
        "dfGraph_M365 = oea.load(\"graph_api\",\"m365_app_user_detail_pseudo\")\r\n",
        "dfGraph_M365.printSchema()\r\n",
        "dfGraph_M365.show(1,vertical=True)"
      ],
      "outputs": [
        {
          "output_type": "display_data",
          "data": {
            "application/vnd.livy.statement-meta+json": {
              "spark_pool": "sparkMed",
              "session_id": 3,
              "statement_id": 34,
              "state": "finished",
              "livy_statement_state": "available",
              "queued_time": "2022-06-23T00:48:46.6365497Z",
              "session_start_time": null,
              "execution_start_time": "2022-06-23T00:49:01.8944205Z",
              "execution_finish_time": "2022-06-23T00:49:02.9502127Z"
            },
            "text/plain": "StatementMeta(sparkMed, 3, 34, Finished, Available)"
          },
          "metadata": {}
        },
        {
          "output_type": "stream",
          "name": "stdout",
          "text": [
            "root\n |-- lastActivationDate: string (nullable = true)\n |-- lastActivityDate: string (nullable = true)\n |-- reportRefreshDate: string (nullable = true)\n |-- userPrincipalName_pseudonym: string (nullable = true)\n |-- reportPeriod: string (nullable = true)\n |-- mobile: boolean (nullable = true)\n |-- web: boolean (nullable = true)\n |-- mac: boolean (nullable = true)\n |-- windows: boolean (nullable = true)\n |-- excel: boolean (nullable = true)\n |-- excelMobile: boolean (nullable = true)\n |-- excelWeb: boolean (nullable = true)\n |-- excelMac: boolean (nullable = true)\n |-- excelWindows: boolean (nullable = true)\n |-- oneNote: boolean (nullable = true)\n |-- oneNoteMobile: boolean (nullable = true)\n |-- oneNoteWeb: boolean (nullable = true)\n |-- oneNoteMac: boolean (nullable = true)\n |-- oneNoteWindows: boolean (nullable = true)\n |-- outlook: boolean (nullable = true)\n |-- outlookMobile: boolean (nullable = true)\n |-- outlookWeb: boolean (nullable = true)\n |-- outlookMac: boolean (nullable = true)\n |-- outlookWindows: boolean (nullable = true)\n |-- powerPoint: boolean (nullable = true)\n |-- powerPointMobile: boolean (nullable = true)\n |-- powerPointWeb: boolean (nullable = true)\n |-- powerPointMac: boolean (nullable = true)\n |-- powerPointWindows: boolean (nullable = true)\n |-- teams: boolean (nullable = true)\n |-- teamsMobile: boolean (nullable = true)\n |-- teamsWeb: boolean (nullable = true)\n |-- teamsMac: boolean (nullable = true)\n |-- teamsWindows: boolean (nullable = true)\n |-- word: boolean (nullable = true)\n |-- wordMobile: boolean (nullable = true)\n |-- wordWeb: boolean (nullable = true)\n |-- wordMac: boolean (nullable = true)\n |-- wordWindows: boolean (nullable = true)\n |-- ReportYearMonth: string (nullable = true)\n\n-RECORD 0-------------------------------------------\n lastActivationDate          | 2021-09-29           \n lastActivityDate            | 2021-09-29           \n reportRefreshDate           | 2021-09-29           \n userPrincipalName_pseudonym | accff052d23ddb406... \n reportPeriod                | 7                    \n mobile                      | false                \n web                         | false                \n mac                         | true                 \n windows                     | false                \n excel                       | false                \n excelMobile                 | false                \n excelWeb                    | false                \n excelMac                    | false                \n excelWindows                | true                 \n oneNote                     | true                 \n oneNoteMobile               | true                 \n oneNoteWeb                  | false                \n oneNoteMac                  | true                 \n oneNoteWindows              | true                 \n outlook                     | false                \n outlookMobile               | false                \n outlookWeb                  | true                 \n outlookMac                  | false                \n outlookWindows              | true                 \n powerPoint                  | true                 \n powerPointMobile            | false                \n powerPointWeb               | false                \n powerPointMac               | true                 \n powerPointWindows           | false                \n teams                       | true                 \n teamsMobile                 | false                \n teamsWeb                    | true                 \n teamsMac                    | true                 \n teamsWindows                | true                 \n word                        | true                 \n wordMobile                  | false                \n wordWeb                     | false                \n wordMac                     | true                 \n wordWindows                 | false                \n ReportYearMonth             | 2022-02              \nonly showing top 1 row\n\n"
          ]
        }
      ],
      "execution_count": 52,
      "metadata": {
        "jupyter": {
          "source_hidden": false,
          "outputs_hidden": false
        },
        "nteract": {
          "transient": {
            "deleting": false
          }
        }
      }
    },
    {
      "cell_type": "code",
      "source": [
        "import pandas as pd\r\n",
        "dfPand = dfGraph_M365.toPandas()\r\n",
        "dfPandMelt = dfPand.melt(id_vars = ['userPrincipalName_pseudonym', 'reportRefreshDate', 'reportPeriod'],value_vars = ['excel','oneNote', 'outlook', 'powerPoint', 'teams', 'word'],var_name='m365_app_name',value_name='used')\r\n",
        "dfGraph_M365 = spark.createDataFrame(dfPandMelt)\r\n",
        "dfGraph_M365.printSchema()\r\n",
        "dfGraph_M365.show(1, vertical=True)"
      ],
      "outputs": [],
      "execution_count": null,
      "metadata": {
        "jupyter": {
          "source_hidden": false,
          "outputs_hidden": false
        },
        "nteract": {
          "transient": {
            "deleting": false
          }
        },
        "collapsed": false
      }
    },
    {
      "cell_type": "code",
      "source": [
        "dfGraph_M365.write.save(oea.path('stage2p', directory_path=\"temp/M365\"), format='delta', mode='append', mergeSchema='true')"
      ],
      "outputs": [
        {
          "output_type": "display_data",
          "data": {
            "application/vnd.livy.statement-meta+json": {
              "spark_pool": "sparkMed",
              "session_id": 3,
              "statement_id": 36,
              "state": "finished",
              "livy_statement_state": "available",
              "queued_time": "2022-06-23T00:48:47.3093701Z",
              "session_start_time": null,
              "execution_start_time": "2022-06-23T00:49:04.9818528Z",
              "execution_finish_time": "2022-06-23T00:49:06.8979427Z"
            },
            "text/plain": "StatementMeta(sparkMed, 3, 36, Finished, Available)"
          },
          "metadata": {}
        }
      ],
      "execution_count": 54,
      "metadata": {
        "jupyter": {
          "source_hidden": false,
          "outputs_hidden": false
        },
        "nteract": {
          "transient": {
            "deleting": false
          }
        }
      }
    },
    {
      "cell_type": "code",
      "source": [
        "schemaMapping = [['event_actor', 'userPrincipalName_pseudonym'],\r\n",
        "                        ['event_object', 'MS_GraphAPI_M365'],\r\n",
        "                        ['event_eventTime', 'reportRefreshDate'],\r\n",
        "                        ['entity_type', 'm365_app_name'],\r\n",
        "                        ['generated_aggregateMeasure_metric_used', 'used'],\r\n",
        "                        ['generated_aggregateMeasure_metric_activityReportPeriod', 'reportPeriod']]\r\n",
        "\r\n",
        "source_path = 'stage2p/temp/M365'\r\n",
        "digAct.process_digital_activity(source_path, schemaMapping)"
      ],
      "outputs": [
        {
          "output_type": "display_data",
          "data": {
            "application/vnd.livy.statement-meta+json": {
              "spark_pool": "sparkMed",
              "session_id": 3,
              "statement_id": 38,
              "state": "finished",
              "livy_statement_state": "available",
              "queued_time": "2022-06-23T00:49:21.3364284Z",
              "session_start_time": null,
              "execution_start_time": "2022-06-23T00:49:21.4464151Z",
              "execution_finish_time": "2022-06-23T00:49:26.8266633Z"
            },
            "text/plain": "StatementMeta(sparkMed, 3, 38, Finished, Available)"
          },
          "metadata": {}
        },
        {
          "output_type": "stream",
          "name": "stdout",
          "text": [
            "2022-06-23 00:49:21,430 - OEA - INFO - Processing digital activity data from: stage2p/temp\n2022-06-23 00:49:21,430 - OEA - INFO - Processing digital activity data from: stage2p/temp\n2022-06-23 00:49:21,430 - OEA - INFO - Processing digital activity data from: stage2p/temp\n2022-06-23 00:49:21,430 - OEA - INFO - Processing digital activity data from: stage2p/temp\n2022-06-23 00:49:21,430 - OEA - INFO - Processing digital activity data from: stage2p/temp\n2022-06-23 00:49:21,430 - OEA - INFO - Processing digital activity data from: stage2p/temp\nProcessing digital activity data from: stage2p/temp\n2022-06-23 00:49:26,418 - OEA - INFO - Complete processing from: stage2p/temp\n2022-06-23 00:49:26,418 - OEA - INFO - Complete processing from: stage2p/temp\n2022-06-23 00:49:26,418 - OEA - INFO - Complete processing from: stage2p/temp\n2022-06-23 00:49:26,418 - OEA - INFO - Complete processing from: stage2p/temp\n2022-06-23 00:49:26,418 - OEA - INFO - Complete processing from: stage2p/temp\n2022-06-23 00:49:26,418 - OEA - INFO - Complete processing from: stage2p/temp\nComplete processing from: stage2p/temp\n"
          ]
        }
      ],
      "execution_count": 56,
      "metadata": {
        "jupyter": {
          "source_hidden": false,
          "outputs_hidden": false
        },
        "nteract": {
          "transient": {
            "deleting": false
          }
        }
      }
    },
    {
      "cell_type": "code",
      "source": [
        "oea.rm_if_exists(oea.path('stage2p', directory_path=\"temp\"))"
      ],
      "outputs": [
        {
          "output_type": "display_data",
          "data": {
            "application/vnd.livy.statement-meta+json": {
              "spark_pool": "sparkMed",
              "session_id": 3,
              "statement_id": 39,
              "state": "finished",
              "livy_statement_state": "available",
              "queued_time": "2022-06-23T00:50:05.7115243Z",
              "session_start_time": null,
              "execution_start_time": "2022-06-23T00:50:05.9058254Z",
              "execution_finish_time": "2022-06-23T00:50:06.0513187Z"
            },
            "text/plain": "StatementMeta(sparkMed, 3, 39, Finished, Available)"
          },
          "metadata": {}
        }
      ],
      "execution_count": 57,
      "metadata": {
        "jupyter": {
          "source_hidden": false,
          "outputs_hidden": false
        },
        "nteract": {
          "transient": {
            "deleting": false
          }
        }
      }
    },
    {
      "cell_type": "code",
      "source": [
        "## Check results\r\n",
        "schema_path = 'stage2p/digital_activity'\r\n",
        "dfDigAct = oea.load_delta(schema_path)\r\n",
        "dfDigAct.printSchema()\r\n",
        "dfDigAct.show(1, vertical=True)"
      ],
      "outputs": [
        {
          "output_type": "display_data",
          "data": {
            "application/vnd.livy.statement-meta+json": {
              "spark_pool": "sparkMed",
              "session_id": 3,
              "statement_id": 41,
              "state": "finished",
              "livy_statement_state": "available",
              "queued_time": "2022-06-23T00:51:40.3397498Z",
              "session_start_time": null,
              "execution_start_time": "2022-06-23T00:51:40.4320304Z",
              "execution_finish_time": "2022-06-23T00:51:41.5105041Z"
            },
            "text/plain": "StatementMeta(sparkMed, 3, 41, Finished, Available)"
          },
          "metadata": {}
        },
        {
          "output_type": "stream",
          "name": "stdout",
          "text": [
            "root\n |-- event_id: string (nullable = true)\n |-- event_type: string (nullable = true)\n |-- event_actor: string (nullable = true)\n |-- event_eventTime: string (nullable = true)\n |-- entity_type: string (nullable = true)\n |-- softwareApplication_version: string (nullable = true)\n |-- generated_aggregateMeasure_metric_timeOnTask: string (nullable = true)\n |-- event_object: string (nullable = true)\n |-- year: integer (nullable = true)\n |-- month: integer (nullable = true)\n |-- generated_aggregateMeasure_metric_numAccess: string (nullable = true)\n |-- generated_aggregateMeasure_metric_activityReportPeriod: string (nullable = true)\n |-- generated_aggregateMeasure_metric_used: string (nullable = true)\n\n-RECORD 0----------------------------------------------------------------------\n event_id                                               | 4366da81-d797-4ba... \n event_type                                             | OneNotePageChanged   \n event_actor                                            | 40f4ce5e38d197a40... \n event_eventTime                                        | 2021-10-06 15:15:51  \n entity_type                                            | OneNote              \n softwareApplication_version                            | 1.12                 \n generated_aggregateMeasure_metric_timeOnTask           | null                 \n event_object                                           | MS_Insights          \n year                                                   | 2021                 \n month                                                  | 10                   \n generated_aggregateMeasure_metric_numAccess            | null                 \n generated_aggregateMeasure_metric_activityReportPeriod | null                 \n generated_aggregateMeasure_metric_used                 | null                 \nonly showing top 1 row\n\n"
          ]
        }
      ],
      "execution_count": 59,
      "metadata": {
        "jupyter": {
          "source_hidden": false,
          "outputs_hidden": false
        },
        "nteract": {
          "transient": {
            "deleting": false
          }
        }
      }
    },
    {
      "cell_type": "code",
      "source": [
        "dfDigAct.filter(dfDigAct['event_object'] == \"MS_Insights\").show(1,vertical=True)\r\n",
        "dfDigAct.filter(dfDigAct['event_object'] == \"MS_GraphAPI_M365\").show(1,vertical=True)"
      ],
      "outputs": [
        {
          "output_type": "display_data",
          "data": {
            "application/vnd.livy.statement-meta+json": {
              "spark_pool": "sparkMed",
              "session_id": 3,
              "statement_id": 42,
              "state": "finished",
              "livy_statement_state": "available",
              "queued_time": "2022-06-23T00:52:19.0923855Z",
              "session_start_time": null,
              "execution_start_time": "2022-06-23T00:52:19.2214629Z",
              "execution_finish_time": "2022-06-23T00:52:22.0264495Z"
            },
            "text/plain": "StatementMeta(sparkMed, 3, 42, Finished, Available)"
          },
          "metadata": {}
        },
        {
          "output_type": "stream",
          "name": "stdout",
          "text": [
            "-RECORD 0----------------------------------------------------------------------\n event_id                                               | 4366da81-d797-4ba... \n event_type                                             | OneNotePageChanged   \n event_actor                                            | 40f4ce5e38d197a40... \n event_eventTime                                        | 2021-10-06 15:15:51  \n entity_type                                            | OneNote              \n softwareApplication_version                            | 1.12                 \n generated_aggregateMeasure_metric_timeOnTask           | null                 \n event_object                                           | MS_Insights          \n year                                                   | 2021                 \n month                                                  | 10                   \n generated_aggregateMeasure_metric_numAccess            | null                 \n generated_aggregateMeasure_metric_activityReportPeriod | null                 \n generated_aggregateMeasure_metric_used                 | null                 \nonly showing top 1 row\n\n-RECORD 0----------------------------------------------------------------------\n event_id                                               | null                 \n event_type                                             | null                 \n event_actor                                            | 21e75b374979b024b... \n event_eventTime                                        | 2021-10-06           \n entity_type                                            | powerPoint           \n softwareApplication_version                            | null                 \n generated_aggregateMeasure_metric_timeOnTask           | null                 \n event_object                                           | MS_GraphAPI_M365     \n year                                                   | 2021                 \n month                                                  | 10                   \n generated_aggregateMeasure_metric_numAccess            | null                 \n generated_aggregateMeasure_metric_activityReportPeriod | 7                    \n generated_aggregateMeasure_metric_used                 | true                 \nonly showing top 1 row\n\n"
          ]
        }
      ],
      "execution_count": 60,
      "metadata": {
        "jupyter": {
          "source_hidden": false,
          "outputs_hidden": false
        },
        "nteract": {
          "transient": {
            "deleting": false
          }
        }
      }
    },
    {
      "cell_type": "markdown",
      "source": [
        "### Teams Query Processing"
      ],
      "metadata": {
        "nteract": {
          "transient": {
            "deleting": false
          }
        }
      }
    },
    {
      "cell_type": "code",
      "source": [
        "dfGraph_Teams = oea.load(\"graph_api\",\"teams_activity_user_detail_pseudo\")\r\n",
        "dfGraph_Teams.printSchema()\r\n",
        "dfGraph_Teams.show(1,vertical=True)"
      ],
      "outputs": [
        {
          "output_type": "display_data",
          "data": {
            "application/vnd.livy.statement-meta+json": {
              "spark_pool": "sparkMed",
              "session_id": 4,
              "statement_id": 4,
              "state": "finished",
              "livy_statement_state": "available",
              "queued_time": "2022-06-23T15:45:08.5696908Z",
              "session_start_time": null,
              "execution_start_time": "2022-06-23T15:49:59.2253542Z",
              "execution_finish_time": "2022-06-23T15:50:02.1482726Z"
            },
            "text/plain": "StatementMeta(sparkMed, 4, 4, Finished, Available)"
          },
          "metadata": {}
        },
        {
          "output_type": "stream",
          "name": "stdout",
          "text": [
            "root\n |-- adHocMeetingsAttendedCount: long (nullable = true)\n |-- adHocMeetingsOrganizedCount: long (nullable = true)\n |-- assignedProducts: string (nullable = true)\n |-- audioDuration: integer (nullable = true)\n |-- callCount: long (nullable = true)\n |-- deletedDate: string (nullable = true)\n |-- hasOtherAction: boolean (nullable = true)\n |-- isDeleted: boolean (nullable = true)\n |-- isLicensed: boolean (nullable = true)\n |-- lastActivityDate: string (nullable = true)\n |-- meetingCount: long (nullable = true)\n |-- meetingsAttendedCount: long (nullable = true)\n |-- meetingsOrganizedCount: long (nullable = true)\n |-- privateChatMessageCount: long (nullable = true)\n |-- reportPeriod: string (nullable = true)\n |-- reportRefreshDate: string (nullable = true)\n |-- scheduledOneTimeMeetingsAttendedCount: long (nullable = true)\n |-- scheduledOneTimeMeetingsOrganizedCount: long (nullable = true)\n |-- scheduledRecurringMeetingsAttendedCount: long (nullable = true)\n |-- scheduledRecurringMeetingsOrganizedCount: long (nullable = true)\n |-- screenShareDuration: integer (nullable = true)\n |-- teamChatMessageCount: long (nullable = true)\n |-- userPrincipalName_pseudonym: string (nullable = true)\n |-- videoDuration: integer (nullable = true)\n |-- ReportYearMonth: string (nullable = true)\n\n-RECORD 0--------------------------------------------------------\n adHocMeetingsAttendedCount               | 0                    \n adHocMeetingsOrganizedCount              | 1                    \n assignedProducts                         | OFFICE 365 A1 FOR... \n audioDuration                            | 70                   \n callCount                                | 5                    \n deletedDate                              |                      \n hasOtherAction                           | false                \n isDeleted                                | false                \n isLicensed                               | true                 \n lastActivityDate                         | 2021-09-22           \n meetingCount                             | 7                    \n meetingsAttendedCount                    | 4                    \n meetingsOrganizedCount                   | 4                    \n privateChatMessageCount                  | 3                    \n reportPeriod                             | 7                    \n reportRefreshDate                        | 2021-09-22           \n scheduledOneTimeMeetingsAttendedCount    | 5                    \n scheduledOneTimeMeetingsOrganizedCount   | 5                    \n scheduledRecurringMeetingsAttendedCount  | 1                    \n scheduledRecurringMeetingsOrganizedCount | 9                    \n screenShareDuration                      | 30                   \n teamChatMessageCount                     | 6                    \n userPrincipalName_pseudonym              | b2fc3244b204053e2... \n videoDuration                            | 0                    \n ReportYearMonth                          | 2022-02              \nonly showing top 1 row\n\n"
          ]
        }
      ],
      "execution_count": 71,
      "metadata": {
        "jupyter": {
          "source_hidden": false,
          "outputs_hidden": false
        },
        "nteract": {
          "transient": {
            "deleting": false
          }
        }
      }
    },
    {
      "cell_type": "code",
      "source": [
        "import pandas as pd\r\n",
        "dfPand = dfGraph_Teams.toPandas()\r\n",
        "dfPandMelt = dfPand.melt(id_vars = ['userPrincipalName_pseudonym', 'reportRefreshDate', 'reportPeriod', 'videoDuration'],value_vars = ['callCount', 'meetingCount', 'meetingsAttendedCount', 'meetingsOrganizedCount', 'privateChatMessageCount', 'teamChatMessageCount'],var_name='meetings_and_messages',value_name='counts')\r\n",
        "dfGraph_Teams_counts = spark.createDataFrame(dfPandMelt)\r\n",
        "dfGraph_Teams_counts.printSchema()\r\n",
        "dfGraph_Teams_counts.show(1, vertical=True)"
      ],
      "outputs": [
        {
          "output_type": "display_data",
          "data": {
            "application/vnd.livy.statement-meta+json": {
              "spark_pool": "sparkMed",
              "session_id": 4,
              "statement_id": 6,
              "state": "finished",
              "livy_statement_state": "available",
              "queued_time": "2022-06-23T16:25:31.1993499Z",
              "session_start_time": null,
              "execution_start_time": "2022-06-23T16:25:31.2972812Z",
              "execution_finish_time": "2022-06-23T16:25:38.1801129Z"
            },
            "text/plain": "StatementMeta(sparkMed, 4, 6, Finished, Available)"
          },
          "metadata": {}
        },
        {
          "output_type": "stream",
          "name": "stderr",
          "text": [
            "/opt/spark/python/lib/pyspark.zip/pyspark/sql/pandas/conversion.py:289: UserWarning: createDataFrame attempted Arrow optimization because 'spark.sql.execution.arrow.pyspark.enabled' is set to true; however, failed by the reason below:\n  'JavaPackage' object is not callable\nAttempting non-optimization as 'spark.sql.execution.arrow.pyspark.fallback.enabled' is set to true.\n  warnings.warn(msg)\n"
          ]
        }
      ],
      "execution_count": 73,
      "metadata": {
        "jupyter": {
          "source_hidden": false,
          "outputs_hidden": false
        },
        "nteract": {
          "transient": {
            "deleting": false
          }
        }
      }
    },
    {
      "cell_type": "code",
      "source": [
        "dfGraph_Teams_counts.write.save(oea.path('stage2p', directory_path=\"temp\"), format='delta', mode='append', mergeSchema='true')"
      ],
      "outputs": [
        {
          "output_type": "display_data",
          "data": {
            "application/vnd.livy.statement-meta+json": {
              "spark_pool": "sparkMed",
              "session_id": 4,
              "statement_id": 7,
              "state": "finished",
              "livy_statement_state": "available",
              "queued_time": "2022-06-23T16:26:07.261124Z",
              "session_start_time": null,
              "execution_start_time": "2022-06-23T16:26:07.3583372Z",
              "execution_finish_time": "2022-06-23T16:26:12.6872805Z"
            },
            "text/plain": "StatementMeta(sparkMed, 4, 7, Finished, Available)"
          },
          "metadata": {}
        }
      ],
      "execution_count": 74,
      "metadata": {
        "jupyter": {
          "source_hidden": false,
          "outputs_hidden": false
        },
        "nteract": {
          "transient": {
            "deleting": false
          }
        }
      }
    },
    {
      "cell_type": "code",
      "source": [
        "schemaMapping = [['event_type', 'meetings_and_messages'],\r\n",
        "                        ['event_actor', 'userPrincipalName_pseudonym'],\r\n",
        "                        ['event_object', 'MS_GraphAPI_Teams'],\r\n",
        "                        ['event_eventTime', 'reportRefreshDate'],\r\n",
        "                        ['generated_aggregateMeasure_metric_timeOnTask', 'videoDuration'],\r\n",
        "                        ['generated_aggregateMeasure_metric_numAccess', 'counts'],\r\n",
        "                        ['generated_aggregateMeasure_metric_activityReportPeriod', 'reportPeriod']]\r\n",
        "\r\n",
        "source_path = 'stage2p/temp'\r\n",
        "digAct.process_digital_activity(source_path, schemaMapping)"
      ],
      "outputs": [
        {
          "output_type": "display_data",
          "data": {
            "application/vnd.livy.statement-meta+json": {
              "spark_pool": "sparkMed",
              "session_id": 4,
              "statement_id": 8,
              "state": "finished",
              "livy_statement_state": "available",
              "queued_time": "2022-06-23T16:31:48.8609187Z",
              "session_start_time": null,
              "execution_start_time": "2022-06-23T16:31:49.073541Z",
              "execution_finish_time": "2022-06-23T16:31:56.8748697Z"
            },
            "text/plain": "StatementMeta(sparkMed, 4, 8, Finished, Available)"
          },
          "metadata": {}
        },
        {
          "output_type": "stream",
          "name": "stdout",
          "text": [
            "2022-06-23 16:31:49,067 - OEA - INFO - Processing digital activity data from: stage2p/temp\n2022-06-23 16:31:49,067 - OEA - INFO - Processing digital activity data from: stage2p/temp\nProcessing digital activity data from: stage2p/temp\n2022-06-23 16:31:55,349 - OEA - INFO - Complete processing from: stage2p/temp\n2022-06-23 16:31:55,349 - OEA - INFO - Complete processing from: stage2p/temp\nComplete processing from: stage2p/temp\n"
          ]
        }
      ],
      "execution_count": 75,
      "metadata": {
        "jupyter": {
          "source_hidden": false,
          "outputs_hidden": false
        },
        "nteract": {
          "transient": {
            "deleting": false
          }
        }
      }
    },
    {
      "cell_type": "code",
      "source": [
        "oea.rm_if_exists(oea.path('stage2p', directory_path=\"temp\"))"
      ],
      "outputs": [
        {
          "output_type": "display_data",
          "data": {
            "application/vnd.livy.statement-meta+json": {
              "spark_pool": "sparkMed",
              "session_id": 4,
              "statement_id": 9,
              "state": "finished",
              "livy_statement_state": "available",
              "queued_time": "2022-06-23T16:32:53.117077Z",
              "session_start_time": null,
              "execution_start_time": "2022-06-23T16:32:53.2260187Z",
              "execution_finish_time": "2022-06-23T16:32:53.4210608Z"
            },
            "text/plain": "StatementMeta(sparkMed, 4, 9, Finished, Available)"
          },
          "metadata": {}
        }
      ],
      "execution_count": 76,
      "metadata": {
        "jupyter": {
          "source_hidden": false,
          "outputs_hidden": false
        },
        "nteract": {
          "transient": {
            "deleting": false
          }
        }
      }
    },
    {
      "cell_type": "code",
      "source": [
        "## Check results\r\n",
        "schema_path = 'stage2p/digital_activity'\r\n",
        "dfDigAct = oea.load_delta(schema_path)\r\n",
        "dfDigAct.printSchema()\r\n",
        "dfDigAct.show(1, vertical=True)"
      ],
      "outputs": [
        {
          "output_type": "display_data",
          "data": {
            "application/vnd.livy.statement-meta+json": {
              "spark_pool": "sparkMed",
              "session_id": 4,
              "statement_id": 10,
              "state": "finished",
              "livy_statement_state": "available",
              "queued_time": "2022-06-23T16:32:55.8834898Z",
              "session_start_time": null,
              "execution_start_time": "2022-06-23T16:32:55.9750458Z",
              "execution_finish_time": "2022-06-23T16:32:57.8889821Z"
            },
            "text/plain": "StatementMeta(sparkMed, 4, 10, Finished, Available)"
          },
          "metadata": {}
        },
        {
          "output_type": "stream",
          "name": "stdout",
          "text": [
            "root\n |-- event_id: string (nullable = true)\n |-- event_type: string (nullable = true)\n |-- event_actor: string (nullable = true)\n |-- event_eventTime: string (nullable = true)\n |-- entity_type: string (nullable = true)\n |-- softwareApplication_version: string (nullable = true)\n |-- generated_aggregateMeasure_metric_timeOnTask: string (nullable = true)\n |-- event_object: string (nullable = true)\n |-- year: integer (nullable = true)\n |-- month: integer (nullable = true)\n |-- generated_aggregateMeasure_metric_numAccess: string (nullable = true)\n |-- generated_aggregateMeasure_metric_activityReportPeriod: string (nullable = true)\n |-- generated_aggregateMeasure_metric_used: string (nullable = true)\n\n-RECORD 0----------------------------------------------------------------------\n event_id                                               | 4366da81-d797-4ba... \n event_type                                             | OneNotePageChanged   \n event_actor                                            | 40f4ce5e38d197a40... \n event_eventTime                                        | 2021-10-06 15:15:51  \n entity_type                                            | OneNote              \n softwareApplication_version                            | 1.12                 \n generated_aggregateMeasure_metric_timeOnTask           | null                 \n event_object                                           | MS_Insights          \n year                                                   | 2021                 \n month                                                  | 10                   \n generated_aggregateMeasure_metric_numAccess            | null                 \n generated_aggregateMeasure_metric_activityReportPeriod | null                 \n generated_aggregateMeasure_metric_used                 | null                 \nonly showing top 1 row\n\n"
          ]
        }
      ],
      "execution_count": 77,
      "metadata": {
        "jupyter": {
          "source_hidden": false,
          "outputs_hidden": false
        },
        "nteract": {
          "transient": {
            "deleting": false
          }
        }
      }
    },
    {
      "cell_type": "code",
      "source": [
        "dfDigAct.filter(dfDigAct['event_object'] == \"MS_Insights\").show(1,vertical=True)\r\n",
        "dfDigAct.filter(dfDigAct['event_object'] == \"MS_GraphAPI_Teams\").show(1,vertical=True)"
      ],
      "outputs": [
        {
          "output_type": "display_data",
          "data": {
            "application/vnd.livy.statement-meta+json": {
              "spark_pool": "sparkMed",
              "session_id": 4,
              "statement_id": 11,
              "state": "finished",
              "livy_statement_state": "available",
              "queued_time": "2022-06-23T16:33:03.0660338Z",
              "session_start_time": null,
              "execution_start_time": "2022-06-23T16:33:03.1622084Z",
              "execution_finish_time": "2022-06-23T16:33:05.991651Z"
            },
            "text/plain": "StatementMeta(sparkMed, 4, 11, Finished, Available)"
          },
          "metadata": {}
        },
        {
          "output_type": "stream",
          "name": "stdout",
          "text": [
            "-RECORD 0----------------------------------------------------------------------\n event_id                                               | 4366da81-d797-4ba... \n event_type                                             | OneNotePageChanged   \n event_actor                                            | 40f4ce5e38d197a40... \n event_eventTime                                        | 2021-10-06 15:15:51  \n entity_type                                            | OneNote              \n softwareApplication_version                            | 1.12                 \n generated_aggregateMeasure_metric_timeOnTask           | null                 \n event_object                                           | MS_Insights          \n year                                                   | 2021                 \n month                                                  | 10                   \n generated_aggregateMeasure_metric_numAccess            | null                 \n generated_aggregateMeasure_metric_activityReportPeriod | null                 \n generated_aggregateMeasure_metric_used                 | null                 \nonly showing top 1 row\n\n-RECORD 0----------------------------------------------------------------------\n event_id                                               | null                 \n event_type                                             | privateChatMessag... \n event_actor                                            | 88df69c17ecc78617... \n event_eventTime                                        | 2021-10-06           \n entity_type                                            | null                 \n softwareApplication_version                            | null                 \n generated_aggregateMeasure_metric_timeOnTask           | 0                    \n event_object                                           | MS_GraphAPI_Teams    \n year                                                   | 2021                 \n month                                                  | 10                   \n generated_aggregateMeasure_metric_numAccess            | 9                    \n generated_aggregateMeasure_metric_activityReportPeriod | 7                    \n generated_aggregateMeasure_metric_used                 | null                 \nonly showing top 1 row\n\n"
          ]
        }
      ],
      "execution_count": 78,
      "metadata": {
        "jupyter": {
          "source_hidden": false,
          "outputs_hidden": false
        },
        "nteract": {
          "transient": {
            "deleting": false
          }
        }
      }
    }
  ],
  "metadata": {
    "kernelspec": {
      "name": "synapse_pyspark",
      "language": "Python",
      "display_name": "Synapse PySpark"
    },
    "language_info": {
      "name": "python"
    },
    "kernel_info": {
      "name": "synapse_pyspark"
    },
    "description": null,
    "save_output": true,
    "synapse_widget": {
      "version": "0.1",
      "state": {}
    }
  },
  "nbformat": 4,
  "nbformat_minor": 2
}