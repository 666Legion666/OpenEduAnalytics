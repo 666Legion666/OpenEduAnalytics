{
  "cells": [
    {
      "cell_type": "markdown",
      "source": [
        "# OEA connector\n",
        "This notebook provides a way for invoking methods on the OEA framework or supporting modules from a pipeline.\n",
        "\n",
        "When setting up a new module, be sure to include a new cell below that imports that module, so that its methods can be invoked by pipelines."
      ],
      "metadata": {
        "nteract": {
          "transient": {
            "deleting": false
          }
        }
      }
    },
    {
      "cell_type": "code",
      "source": [
        "# These values should be passed in from the pipeline that is using this notebook as an activity.\r\n",
        "# Note that kwargs allows you to pass in a dict of params, but the dict has to specified as a string when invoked from a pipeline.\r\n",
        "# Also note that you can refer to attributes of an object in the params, for example: {'path':oea.stage2np}\r\n",
        "#dataSets = [{\"dataSet\":\"clever\",\"sourceDirectory\":\"Clever\"},{\"dataSet\":\"sds\",\"sourceDirectory\":\"SDS\"},{\"dataSet\":\"sis\",\"sourceDirectory\":\"SIS\"},{\"dataSet\":\"myqoi\",\"sourceDirectory\":\"myQoI\"}]\r\n",
        "object_name = 'clever'\r\n",
        "method_name = 'ingest'\r\n",
        "kwargs = '{}'"
      ],
      "outputs": [],
      "execution_count": 18,
      "metadata": {
        "jupyter": {
          "source_hidden": false,
          "outputs_hidden": false
        },
        "nteract": {
          "transient": {
            "deleting": false
          }
        },
        "tags": [
          "parameters"
        ]
      }
    },
    {
      "cell_type": "code",
      "source": [
        "%run /OEA_py"
      ],
      "outputs": [],
      "execution_count": 16,
      "metadata": {
        "jupyter": {
          "outputs_hidden": false,
          "source_hidden": false
        },
        "nteract": {
          "transient": {
            "deleting": false
          }
        },
        "collapsed": true
      }
    },
    {
      "cell_type": "code",
      "source": [
        "%run /Clever_py"
      ],
      "outputs": [],
      "execution_count": 13,
      "metadata": {
        "jupyter": {
          "source_hidden": false,
          "outputs_hidden": false
        },
        "nteract": {
          "transient": {
            "deleting": false
          }
        }
      }
    },
    {
      "cell_type": "code",
      "source": [
        "try:\r\n",
        "    obj = eval(object_name)\r\n",
        "    kwargs = eval(kwargs)\r\n",
        "    m = getattr(obj, method_name)\r\n",
        "    result = m(**kwargs)\r\n",
        "    mssparkutils.notebook.exit(result)\r\n",
        "except AnalysisException as e:\r\n",
        "        mssparkutils.notebook.exit(e)"
      ],
      "outputs": [],
      "execution_count": 19,
      "metadata": {
        "jupyter": {
          "source_hidden": false,
          "outputs_hidden": false
        },
        "nteract": {
          "transient": {
            "deleting": false
          }
        }
      }
    }
  ],
  "metadata": {
    "kernelspec": {
      "name": "synapse_pyspark",
      "display_name": "Synapse PySpark"
    },
    "language_info": {
      "name": "python"
    },
    "save_output": true,
    "synapse_widget": {
      "version": "0.1",
      "state": {}
    }
  },
  "nbformat": 4,
  "nbformat_minor": 2
}