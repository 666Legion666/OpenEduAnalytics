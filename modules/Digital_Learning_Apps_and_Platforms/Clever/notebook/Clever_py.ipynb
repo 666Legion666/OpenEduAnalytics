{
  "nbformat": 4,
  "nbformat_minor": 2,
  "cells": [
    {
      "cell_type": "code",
      "execution_count": null,
      "outputs": [],
      "metadata": {},
      "source": [
        "class Clever(BaseOEAModule):\r\n",
        "    def __init__(self, source_folder='Clever', pseudonymize = True):\r\n",
        "        BaseOEAModule.__init__(self, source_folder, pseudonymize)\r\n",
        "        self.schemas['daily_participation']  = [['DATE', 'date', 'partition-by'],\r\n",
        "                                            ['SIS_ID', 'string', 'hash'],\r\n",
        "                                            ['CLEVER_USER_ID', 'string', 'hash'],\r\n",
        "                                            ['CLEVER_SCHOOL_ID', 'string', 'no-op'],\r\n",
        "                                            ['SCHOOL_NAME', 'string', 'no-op'],\r\n",
        "                                            ['ACTIVE', 'boolean', 'no-op'],\r\n",
        "                                            ['NUM_LOGINS', 'short', 'no-op'],\r\n",
        "                                            ['NUM_RESOURCES_ACCESSED', 'short', 'no-op']]\r\n",
        "        self.schemas['resource_usage']=   [['DATE', 'date', 'partition-by'], \r\n",
        "                                            ['SIS_ID', 'string', 'hash'],\r\n",
        "                                            ['CLEVER_USER_ID', 'string', 'hash'],\r\n",
        "                                            ['CLEVER_SCHOOL_ID', 'string', 'no-op'],\r\n",
        "                                            ['SCHOOL_NAME', 'string', 'no-op'],\r\n",
        "                                            ['RESOURCE_TYPE', 'string', 'no-op'],\r\n",
        "                                            ['RESOURCE_NAME', 'string', 'no-op'],\r\n",
        "                                            ['RESOURCE_ID', 'string', 'no-op'],\r\n",
        "                                            ['NUM_ACCESS', 'short', 'no-op']]\r\n",
        "\r\n",
        "    def ingest(self):\r\n",
        "        oea.ingest_incremental_data(self.source_folder,'daily_participation', self.schemas['daily_participation'], 'DATE', 'SIS_ID')\r\n",
        "        oea.ingest_incremental_data(self.source_folder,'resource_usage', self.schemas['resource_usage'], 'DATE', 'SIS_ID')\r\n",
        "clever = Clever()        "
      ]
    }
  ],
  "metadata": {
    "save_output": true,
    "kernelspec": {
      "name": "synapse_pyspark",
      "display_name": "python"
    },
    "language_info": {
      "name": "python"
    }
  }
}