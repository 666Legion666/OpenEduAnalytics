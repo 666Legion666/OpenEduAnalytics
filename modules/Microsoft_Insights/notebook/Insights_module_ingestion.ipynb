{
  "cells": [
    {
      "cell_type": "markdown",
      "source": [
        "# Microsoft Insights Module Example Notebook"
      ],
      "metadata": {
        "nteract": {
          "transient": {
            "deleting": false
          }
        }
      }
    },
    {
      "cell_type": "code",
      "source": [
        "%run /OEA_py"
      ],
      "outputs": [
        {
          "output_type": "display_data",
          "data": {
            "application/vnd.livy.statement-meta+json": {
              "spark_pool": null,
              "session_id": 117,
              "statement_id": -1,
              "state": "finished",
              "livy_statement_state": "available",
              "queued_time": "2021-12-13T22:17:20.0368947Z",
              "session_start_time": null,
              "execution_start_time": "2021-12-13T22:19:16.6905646Z",
              "execution_finish_time": "2021-12-13T22:19:16.6907073Z"
            },
            "text/plain": "StatementMeta(, 117, -1, Finished, Available)"
          },
          "metadata": {}
        },
        {
          "output_type": "stream",
          "name": "stdout",
          "text": [
            "2021-12-13 22:19:16,203 - OEA - DEBUG - OEA initialized.\nOEA initialized."
          ]
        }
      ],
      "execution_count": 20,
      "metadata": {
        "jupyter": {
          "source_hidden": false,
          "outputs_hidden": false
        },
        "nteract": {
          "transient": {
            "deleting": false
          }
        }
      }
    },
    {
      "cell_type": "code",
      "source": [
        "%run /NEW_Insights_py"
      ],
      "outputs": [
        {
          "output_type": "display_data",
          "data": {
            "application/vnd.livy.statement-meta+json": {
              "spark_pool": null,
              "session_id": 117,
              "statement_id": -1,
              "state": "finished",
              "livy_statement_state": "available",
              "queued_time": "2021-12-13T22:17:21.7413411Z",
              "session_start_time": null,
              "execution_start_time": "2021-12-13T22:19:17.2048968Z",
              "execution_finish_time": "2021-12-13T22:19:17.2051006Z"
            },
            "text/plain": "StatementMeta(, 117, -1, Finished, Available)"
          },
          "metadata": {}
        }
      ],
      "execution_count": 21,
      "metadata": {
        "jupyter": {
          "source_hidden": false,
          "outputs_hidden": false
        },
        "nteract": {
          "transient": {
            "deleting": false
          }
        }
      }
    },
    {
      "cell_type": "code",
      "source": [
        "# 0) Initialize the OEA framework and Insights module class notebook.\r\n",
        "oea = OEA()\r\n",
        "insights = Insights()"
      ],
      "outputs": [
        {
          "output_type": "display_data",
          "data": {
            "application/vnd.livy.statement-meta+json": {
              "spark_pool": "spark3p1sm",
              "session_id": 117,
              "statement_id": 3,
              "state": "finished",
              "livy_statement_state": "available",
              "queued_time": "2021-12-13T22:17:22.623876Z",
              "session_start_time": null,
              "execution_start_time": "2021-12-13T22:19:17.3248444Z",
              "execution_finish_time": "2021-12-13T22:19:27.8334201Z"
            },
            "text/plain": "StatementMeta(spark3p1sm, 117, 3, Finished, Available)"
          },
          "metadata": {}
        },
        {
          "output_type": "stream",
          "name": "stdout",
          "text": [
            "2021-12-13 22:19:27,795 - OEA - DEBUG - OEA initialized.\nOEA initialized."
          ]
        }
      ],
      "execution_count": 22,
      "metadata": {
        "jupyter": {
          "source_hidden": false,
          "outputs_hidden": false
        },
        "nteract": {
          "transient": {
            "deleting": false
          }
        }
      }
    },
    {
      "cell_type": "code",
      "source": [
        "insights.ingest()"
      ],
      "outputs": [
        {
          "output_type": "display_data",
          "data": {
            "application/vnd.livy.statement-meta+json": {
              "spark_pool": "spark3p1sm",
              "session_id": 117,
              "statement_id": 4,
              "state": "finished",
              "livy_statement_state": "available",
              "queued_time": "2021-12-13T22:19:11.4361327Z",
              "session_start_time": null,
              "execution_start_time": "2021-12-13T22:19:27.9504968Z",
              "execution_finish_time": "2021-12-13T22:20:08.459344Z"
            },
            "text/plain": "StatementMeta(spark3p1sm, 117, 4, Finished, Available)"
          },
          "metadata": {}
        },
        {
          "output_type": "stream",
          "name": "stdout",
          "text": [
            "Processing ms_insights activity data from: abfss://stage1np@stoeahybriddev2.dfs.core.windows.net/M365/activity\n{'id': '599a7587-ead9-425c-bba1-bb9c4e8d2861', 'runId': '4f0ddbb1-400f-4553-a540-742efd4d2d8d', 'name': None, 'timestamp': '2021-12-13T22:19:29.990Z', 'batchId': 0, 'numInputRows': 5, 'inputRowsPerSecond': 0.0, 'processedRowsPerSecond': 0.25785158063018926, 'durationMs': {'addBatch': 17903, 'getBatch': 154, 'latestOffset': 540, 'queryPlanning': 98, 'triggerExecution': 19388, 'walCommit': 305}, 'stateOperators': [{'numRowsTotal': 4, 'numRowsUpdated': 4, 'memoryUsedBytes': 43232, 'numRowsDroppedByWatermark': 0, 'customMetrics': {'loadedMapCacheHitCount': 0, 'loadedMapCacheMissCount': 0, 'stateOnCurrentVersionSizeBytes': 14432}}], 'sources': [{'description': 'FileStreamSource[abfss://stage1np@stoeahybriddev2.dfs.core.windows.net/M365/activity/*/*.csv]', 'startOffset': None, 'endOffset': {'logOffset': 0}, 'numInputRows': 5, 'inputRowsPerSecond': 0.0, 'processedRowsPerSecond': 0.25785158063018926}], 'sink': {'description': 'DeltaSink[abfss://stage2p@stoeahybriddev2.dfs.core.windows.net/M365/TechActivity_pseudo]', 'numOutputRows': -1}}\n{'id': '1df98ccc-8011-4278-8450-dd25c7d043f6', 'runId': '61a7d2b8-9899-4c31-bdd5-0d4976cb49ad', 'name': None, 'timestamp': '2021-12-13T22:19:50.377Z', 'batchId': 0, 'numInputRows': 5, 'inputRowsPerSecond': 0.0, 'processedRowsPerSecond': 0.2839618355293049, 'durationMs': {'addBatch': 15241, 'getBatch': 99, 'latestOffset': 459, 'queryPlanning': 41, 'triggerExecution': 17608, 'walCommit': 314}, 'stateOperators': [{'numRowsTotal': 4, 'numRowsUpdated': 4, 'memoryUsedBytes': 43232, 'numRowsDroppedByWatermark': 0, 'customMetrics': {'loadedMapCacheHitCount': 0, 'loadedMapCacheMissCount': 0, 'stateOnCurrentVersionSizeBytes': 14432}}], 'sources': [{'description': 'FileStreamSource[abfss://stage1np@stoeahybriddev2.dfs.core.windows.net/M365/activity/*/*.csv]', 'startOffset': None, 'endOffset': {'logOffset': 0}, 'numInputRows': 5, 'inputRowsPerSecond': 0.0, 'processedRowsPerSecond': 0.2839618355293049}], 'sink': {'description': 'DeltaSink[abfss://stage2np@stoeahybriddev2.dfs.core.windows.net/M365/TechActivity_lookup]', 'numOutputRows': -1}}"
          ]
        }
      ],
      "execution_count": 23,
      "metadata": {
        "jupyter": {
          "source_hidden": false,
          "outputs_hidden": false
        },
        "nteract": {
          "transient": {
            "deleting": false
          }
        }
      }
    }
  ],
  "metadata": {
    "kernelspec": {
      "name": "synapse_pyspark",
      "display_name": "Synapse PySpark"
    },
    "language_info": {
      "name": "python"
    },
    "description": null,
    "save_output": true,
    "synapse_widget": {
      "version": "0.1",
      "state": {}
    }
  },
  "nbformat": 4,
  "nbformat_minor": 2
}