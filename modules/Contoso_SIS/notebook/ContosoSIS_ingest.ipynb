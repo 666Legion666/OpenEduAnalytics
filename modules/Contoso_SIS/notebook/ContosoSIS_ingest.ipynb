{
  "cells": [
    {
      "cell_type": "markdown",
      "source": [
        "# ContosoSIS Module\n",
        "This is an example module that demonstrates data extraction and ingestion of data for a fictional data source utilizing the standard OEA approach.\n",
        "\n",
        "Check the github repo for more info: [Contoso SIS module](https://github.com/microsoft/OpenEduAnalytics/tree/main/modules/Contoso_SIS)"
      ],
      "metadata": {
        "nteract": {
          "transient": {
            "deleting": false
          }
        }
      }
    },
    {
      "cell_type": "code",
      "source": [
        "%run /OEA_py"
      ],
      "outputs": [],
      "execution_count": null,
      "metadata": {
        "jupyter": {
          "outputs_hidden": false,
          "source_hidden": false
        },
        "nteract": {
          "transient": {
            "deleting": false
          }
        },
        "collapsed": true
      }
    },
    {
      "cell_type": "code",
      "source": [
        "%run /ContosoSIS_py"
      ],
      "outputs": [],
      "execution_count": null,
      "metadata": {
        "jupyter": {
          "outputs_hidden": false,
          "source_hidden": false
        },
        "nteract": {
          "transient": {
            "deleting": false
          }
        },
        "collapsed": true
      }
    },
    {
      "cell_type": "code",
      "source": [
        "# Initialize the OEA framework, the ContosoSIS module, and ingest the data from stage1 into stage2\n",
        "oea = OEA()\n",
        "contoso_sis = ContosoSIS(oea)\n",
        "contoso_sis.ingest()"
      ],
      "outputs": [],
      "execution_count": null,
      "metadata": {
        "jupyter": {
          "outputs_hidden": false,
          "source_hidden": false
        },
        "nteract": {
          "transient": {
            "deleting": false
          }
        },
        "collapsed": true
      }
    }
  ],
  "metadata": {
    "kernelspec": {
      "name": "synapse_pyspark",
      "language": "Python",
      "display_name": "Synapse PySpark"
    },
    "language_info": {
      "name": "python"
    },
    "kernel_info": {
      "name": "synapse_pyspark"
    },
    "save_output": true,
    "synapse_widget": {
      "version": "0.1",
      "state": {}
    }
  },
  "nbformat": 4,
  "nbformat_minor": 2
}