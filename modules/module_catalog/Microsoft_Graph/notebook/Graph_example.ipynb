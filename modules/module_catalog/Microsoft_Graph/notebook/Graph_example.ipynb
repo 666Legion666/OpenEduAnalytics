{
  "cells": [
    {
      "cell_type": "markdown",
      "source": [
        "# Test for processing Microsoft Graph Reports API data\r\n",
        "\r\n",
        "This notebook demonstrates possible data processing and exploration of the Microsoft Graph Reports API data, using the OEA_py class notebook. \r\n",
        "\r\n",
        "Most of the data processing done in this notebook are also achieved by executing the Graph module main pipeline. This notebook is designed as an alternate approach to the same processing, as well as module data exploration and visualization. \r\n",
        "\r\n",
        "The steps are clearly outlined below:\r\n",
        "1. Set the workspace,\r\n",
        "2. Land Graph Module (K-12 or Higher Ed.) Test Data,\r\n",
        "3. Ingest the Graph Module Test Data,\r\n",
        "4. Graph Schema Correction,\r\n",
        "5. Refine the Graph Module Test Data, \r\n",
        "6. Demonstrate Lake Database Queries/Final Remarks, and\r\n",
        "7. Appendix"
      ],
      "metadata": {
        "nteract": {
          "transient": {
            "deleting": false
          }
        }
      }
    },
    {
      "cell_type": "code",
      "source": [
        "%run OEA_py"
      ],
      "outputs": [
        {
          "output_type": "display_data",
          "data": {
            "application/vnd.livy.statement-meta+json": {
              "spark_pool": null,
              "session_id": "36",
              "statement_id": -1,
              "state": "finished",
              "livy_statement_state": "available",
              "queued_time": "2023-01-07T00:11:28.9540296Z",
              "session_start_time": null,
              "execution_start_time": "2023-01-07T00:15:23.1415588Z",
              "execution_finish_time": "2023-01-07T00:15:23.1418281Z",
              "spark_jobs": null
            },
            "text/plain": "StatementMeta(, 36, -1, Finished, Available)"
          },
          "metadata": {}
        },
        {
          "output_type": "stream",
          "name": "stdout",
          "text": [
            "2023-01-07 00:15:21,685 - OEA - INFO - Now using workspace: dev\n2023-01-07 00:15:21,686 - OEA - INFO - OEA initialized.\n"
          ]
        }
      ],
      "execution_count": 47,
      "metadata": {
        "jupyter": {
          "source_hidden": false,
          "outputs_hidden": false
        },
        "nteract": {
          "transient": {
            "deleting": false
          }
        }
      }
    },
    {
      "cell_type": "code",
      "source": [
        "# 1) set the workspace (this determines where in the data lake you'll be writing to and reading from).\r\n",
        "# You can work in 'dev', 'prod', or a sandbox with any name you choose.\r\n",
        "# For example, Sam the developer can create a 'sam' workspace and expect to find his datasets in the data lake under oea/sandboxes/sam\r\n",
        "oea.set_workspace('sam')"
      ],
      "outputs": [
        {
          "output_type": "display_data",
          "data": {
            "application/vnd.livy.statement-meta+json": {
              "spark_pool": null,
              "session_id": null,
              "statement_id": null,
              "state": "cancelled",
              "livy_statement_state": null,
              "queued_time": "2023-01-07T00:11:31.2454726Z",
              "session_start_time": null,
              "execution_start_time": null,
              "execution_finish_time": "2023-01-07T00:11:36.0278573Z",
              "spark_jobs": null
            },
            "text/plain": "StatementMeta(, , , Cancelled, )"
          },
          "metadata": {}
        }
      ],
      "execution_count": null,
      "metadata": {
        "jupyter": {
          "source_hidden": false,
          "outputs_hidden": false
        },
        "nteract": {
          "transient": {
            "deleting": false
          }
        }
      }
    },
    {
      "cell_type": "markdown",
      "source": [
        "## 2.) Land Graph Module (K-12 or Higher Ed.) Test Data\r\n",
        "Below are 3 code blocks - the first lands test data formatted as K-12 data in your data lake, whereas the second and third land Higher Ed. test data in your lake. Choose and run *one* of the set of these blocks."
      ],
      "metadata": {
        "nteract": {
          "transient": {
            "deleting": false
          }
        }
      }
    },
    {
      "cell_type": "code",
      "source": [
        "# 2.1) Land batch data files into stage1 of the data lake.\r\n",
        "# In this example we pull Graph K-12 test json data files from github and land it in oea/sandboxes/sam/stage1/Transactional/graph_api/beta\r\n",
        "# NOTE: You can choose to ingest Graph Higher Ed. test data instead, by running the 2 code blocks below rather than this one.\r\n",
        "import datetime\r\n",
        "currentDate = datetime.datetime.now()\r\n",
        "currentDateTime = currentDate.strftime(\"%Y-%m-%d %H-%M-%S\")\r\n",
        "data = requests.get('https://raw.githubusercontent.com/microsoft/OpenEduAnalytics/main/modules/module_catalog/Microsoft_Graph/test_data/k12_test_data/Users/part-00000-cae42818-3572-4824-b396-58587ad01616-c000.json').text\r\n",
        "oea.land(data, 'graph_api/beta/users', 'users_k12_test_data.json', oea.SNAPSHOT_BATCH_DATA, currentDateTime)\r\n",
        "\r\n",
        "data = requests.get('https://raw.githubusercontent.com/microsoft/OpenEduAnalytics/main/modules/module_catalog/Microsoft_Graph/test_data/k12_test_data/M365_App_User_Detail/part-00000-b6c697c6-1520-4aae-9f5c-6213dff6ab0a-c000.json').text\r\n",
        "oea.land(data, 'graph_api/beta/m365_app_user_detail', 'part01_k12_test_data.json', oea.ADDITIVE_BATCH_DATA, currentDateTime)\r\n",
        "data = requests.get('https://raw.githubusercontent.com/microsoft/OpenEduAnalytics/main/modules/module_catalog/Microsoft_Graph/test_data/k12_test_data/M365_App_User_Detail/part-00001-b6c697c6-1520-4aae-9f5c-6213dff6ab0a-c000.json').text\r\n",
        "oea.land(data, 'graph_api/beta/m365_app_user_detail', 'part02_k12_test_data.json', oea.ADDITIVE_BATCH_DATA, currentDateTime)\r\n",
        "data = requests.get('https://raw.githubusercontent.com/microsoft/OpenEduAnalytics/main/modules/module_catalog/Microsoft_Graph/test_data/k12_test_data/M365_App_User_Detail/part-00002-b6c697c6-1520-4aae-9f5c-6213dff6ab0a-c000.json').text\r\n",
        "oea.land(data, 'graph_api/beta/m365_app_user_detail', 'part03_k12_test_data.json', oea.ADDITIVE_BATCH_DATA, currentDateTime)\r\n",
        "data = requests.get('https://raw.githubusercontent.com/microsoft/OpenEduAnalytics/main/modules/module_catalog/Microsoft_Graph/test_data/k12_test_data/M365_App_User_Detail/part-00003-b6c697c6-1520-4aae-9f5c-6213dff6ab0a-c000.json').text\r\n",
        "oea.land(data, 'graph_api/beta/m365_app_user_detail', 'part04_k12_test_data.json', oea.ADDITIVE_BATCH_DATA, currentDateTime)\r\n",
        "data = requests.get('https://raw.githubusercontent.com/microsoft/OpenEduAnalytics/main/modules/module_catalog/Microsoft_Graph/test_data/k12_test_data/M365_App_User_Detail/part-00004-b6c697c6-1520-4aae-9f5c-6213dff6ab0a-c000.json').text\r\n",
        "oea.land(data, 'graph_api/beta/m365_app_user_detail', 'part05_k12_test_data.json', oea.ADDITIVE_BATCH_DATA, currentDateTime)\r\n",
        "data = requests.get('https://raw.githubusercontent.com/microsoft/OpenEduAnalytics/main/modules/module_catalog/Microsoft_Graph/test_data/k12_test_data/M365_App_User_Detail/part-00005-b6c697c6-1520-4aae-9f5c-6213dff6ab0a-c000.json').text\r\n",
        "oea.land(data, 'graph_api/beta/m365_app_user_detail', 'part06_k12_test_data.json', oea.ADDITIVE_BATCH_DATA, currentDateTime)\r\n",
        "data = requests.get('https://raw.githubusercontent.com/microsoft/OpenEduAnalytics/main/modules/module_catalog/Microsoft_Graph/test_data/k12_test_data/M365_App_User_Detail/part-00006-b6c697c6-1520-4aae-9f5c-6213dff6ab0a-c000.json').text\r\n",
        "oea.land(data, 'graph_api/beta/m365_app_user_detail', 'part07_k12_test_data.json', oea.ADDITIVE_BATCH_DATA, currentDateTime)\r\n",
        "data = requests.get('https://raw.githubusercontent.com/microsoft/OpenEduAnalytics/main/modules/module_catalog/Microsoft_Graph/test_data/k12_test_data/M365_App_User_Detail/part-00007-b6c697c6-1520-4aae-9f5c-6213dff6ab0a-c000.json').text\r\n",
        "oea.land(data, 'graph_api/beta/m365_app_user_detail', 'part08_k12_test_data.json', oea.ADDITIVE_BATCH_DATA, currentDateTime)\r\n",
        "data = requests.get('https://raw.githubusercontent.com/microsoft/OpenEduAnalytics/main/modules/module_catalog/Microsoft_Graph/test_data/k12_test_data/M365_App_User_Detail/part-00008-b6c697c6-1520-4aae-9f5c-6213dff6ab0a-c000.json').text\r\n",
        "oea.land(data, 'graph_api/beta/m365_app_user_detail', 'part09_k12_test_data.json', oea.ADDITIVE_BATCH_DATA, currentDateTime)\r\n",
        "data = requests.get('https://raw.githubusercontent.com/microsoft/OpenEduAnalytics/main/modules/module_catalog/Microsoft_Graph/test_data/k12_test_data/M365_App_User_Detail/part-00009-b6c697c6-1520-4aae-9f5c-6213dff6ab0a-c000.json').text\r\n",
        "oea.land(data, 'graph_api/beta/m365_app_user_detail', 'part10_k12_test_data.json', oea.ADDITIVE_BATCH_DATA, currentDateTime)\r\n",
        "data = requests.get('https://raw.githubusercontent.com/microsoft/OpenEduAnalytics/main/modules/module_catalog/Microsoft_Graph/test_data/k12_test_data/M365_App_User_Detail/part-00010-b6c697c6-1520-4aae-9f5c-6213dff6ab0a-c000.json').text\r\n",
        "oea.land(data, 'graph_api/beta/m365_app_user_detail', 'part11_k12_test_data.json', oea.ADDITIVE_BATCH_DATA, currentDateTime)\r\n",
        "data = requests.get('https://raw.githubusercontent.com/microsoft/OpenEduAnalytics/main/modules/module_catalog/Microsoft_Graph/test_data/k12_test_data/M365_App_User_Detail/part-00011-b6c697c6-1520-4aae-9f5c-6213dff6ab0a-c000.json').text\r\n",
        "oea.land(data, 'graph_api/beta/m365_app_user_detail', 'part12_k12_test_data.json', oea.ADDITIVE_BATCH_DATA, currentDateTime)\r\n",
        "data = requests.get('https://raw.githubusercontent.com/microsoft/OpenEduAnalytics/main/modules/module_catalog/Microsoft_Graph/test_data/k12_test_data/M365_App_User_Detail/part-00012-b6c697c6-1520-4aae-9f5c-6213dff6ab0a-c000.json').text\r\n",
        "oea.land(data, 'graph_api/beta/m365_app_user_detail', 'part13_k12_test_data.json', oea.ADDITIVE_BATCH_DATA, currentDateTime)\r\n",
        "data = requests.get('https://raw.githubusercontent.com/microsoft/OpenEduAnalytics/main/modules/module_catalog/Microsoft_Graph/test_data/k12_test_data/M365_App_User_Detail/part-00013-b6c697c6-1520-4aae-9f5c-6213dff6ab0a-c000.json').text\r\n",
        "oea.land(data, 'graph_api/beta/m365_app_user_detail', 'part14_k12_test_data.json', oea.ADDITIVE_BATCH_DATA, currentDateTime)\r\n",
        "data = requests.get('https://raw.githubusercontent.com/microsoft/OpenEduAnalytics/main/modules/module_catalog/Microsoft_Graph/test_data/k12_test_data/M365_App_User_Detail/part-00014-b6c697c6-1520-4aae-9f5c-6213dff6ab0a-c000.json').text\r\n",
        "oea.land(data, 'graph_api/beta/m365_app_user_detail', 'part15_k12_test_data.json', oea.ADDITIVE_BATCH_DATA, currentDateTime)\r\n",
        "data = requests.get('https://raw.githubusercontent.com/microsoft/OpenEduAnalytics/main/modules/module_catalog/Microsoft_Graph/test_data/k12_test_data/M365_App_User_Detail/part-00015-b6c697c6-1520-4aae-9f5c-6213dff6ab0a-c000.json').text\r\n",
        "oea.land(data, 'graph_api/beta/m365_app_user_detail', 'part16_k12_test_data.json', oea.ADDITIVE_BATCH_DATA, currentDateTime)\r\n",
        "data = requests.get('https://raw.githubusercontent.com/microsoft/OpenEduAnalytics/main/modules/module_catalog/Microsoft_Graph/test_data/k12_test_data/M365_App_User_Detail/part-00016-b6c697c6-1520-4aae-9f5c-6213dff6ab0a-c000.json').text\r\n",
        "oea.land(data, 'graph_api/beta/m365_app_user_detail', 'part17_k12_test_data.json', oea.ADDITIVE_BATCH_DATA, currentDateTime)\r\n",
        "data = requests.get('https://raw.githubusercontent.com/microsoft/OpenEduAnalytics/main/modules/module_catalog/Microsoft_Graph/test_data/k12_test_data/M365_App_User_Detail/part-00017-b6c697c6-1520-4aae-9f5c-6213dff6ab0a-c000.json').text\r\n",
        "oea.land(data, 'graph_api/beta/m365_app_user_detail', 'part18_k12_test_data.json', oea.ADDITIVE_BATCH_DATA, currentDateTime)\r\n",
        "data = requests.get('https://raw.githubusercontent.com/microsoft/OpenEduAnalytics/main/modules/module_catalog/Microsoft_Graph/test_data/k12_test_data/M365_App_User_Detail/part-00018-b6c697c6-1520-4aae-9f5c-6213dff6ab0a-c000.json').text\r\n",
        "oea.land(data, 'graph_api/beta/m365_app_user_detail', 'part19_k12_test_data.json', oea.ADDITIVE_BATCH_DATA, currentDateTime)\r\n",
        "data = requests.get('https://raw.githubusercontent.com/microsoft/OpenEduAnalytics/main/modules/module_catalog/Microsoft_Graph/test_data/k12_test_data/M365_App_User_Detail/part-00019-b6c697c6-1520-4aae-9f5c-6213dff6ab0a-c000.json').text\r\n",
        "oea.land(data, 'graph_api/beta/m365_app_user_detail', 'part20_k12_test_data.json', oea.ADDITIVE_BATCH_DATA, currentDateTime)\r\n",
        "data = requests.get('https://raw.githubusercontent.com/microsoft/OpenEduAnalytics/main/modules/module_catalog/Microsoft_Graph/test_data/k12_test_data/M365_App_User_Detail/part-00020-b6c697c6-1520-4aae-9f5c-6213dff6ab0a-c000.json').text\r\n",
        "oea.land(data, 'graph_api/beta/m365_app_user_detail', 'part21_k12_test_data.json', oea.ADDITIVE_BATCH_DATA, currentDateTime)\r\n",
        "data = requests.get('https://raw.githubusercontent.com/microsoft/OpenEduAnalytics/main/modules/module_catalog/Microsoft_Graph/test_data/k12_test_data/M365_App_User_Detail/part-00021-b6c697c6-1520-4aae-9f5c-6213dff6ab0a-c000.json').text\r\n",
        "oea.land(data, 'graph_api/beta/m365_app_user_detail', 'part22_k12_test_data.json', oea.ADDITIVE_BATCH_DATA, currentDateTime)\r\n",
        "data = requests.get('https://raw.githubusercontent.com/microsoft/OpenEduAnalytics/main/modules/module_catalog/Microsoft_Graph/test_data/k12_test_data/M365_App_User_Detail/part-00022-b6c697c6-1520-4aae-9f5c-6213dff6ab0a-c000.json').text\r\n",
        "oea.land(data, 'graph_api/beta/m365_app_user_detail', 'part23_k12_test_data.json', oea.ADDITIVE_BATCH_DATA, currentDateTime)\r\n",
        "data = requests.get('https://raw.githubusercontent.com/microsoft/OpenEduAnalytics/main/modules/module_catalog/Microsoft_Graph/test_data/k12_test_data/M365_App_User_Detail/part-00023-b6c697c6-1520-4aae-9f5c-6213dff6ab0a-c000.json').text\r\n",
        "oea.land(data, 'graph_api/beta/m365_app_user_detail', 'part24_k12_test_data.json', oea.ADDITIVE_BATCH_DATA, currentDateTime)\r\n",
        "data = requests.get('https://raw.githubusercontent.com/microsoft/OpenEduAnalytics/main/modules/module_catalog/Microsoft_Graph/test_data/k12_test_data/M365_App_User_Detail/part-00024-b6c697c6-1520-4aae-9f5c-6213dff6ab0a-c000.json').text\r\n",
        "oea.land(data, 'graph_api/beta/m365_app_user_detail', 'part25_k12_test_data.json', oea.ADDITIVE_BATCH_DATA, currentDateTime)\r\n",
        "data = requests.get('https://raw.githubusercontent.com/microsoft/OpenEduAnalytics/main/modules/module_catalog/Microsoft_Graph/test_data/k12_test_data/M365_App_User_Detail/part-00025-b6c697c6-1520-4aae-9f5c-6213dff6ab0a-c000.json').text\r\n",
        "oea.land(data, 'graph_api/beta/m365_app_user_detail', 'part26_k12_test_data.json', oea.ADDITIVE_BATCH_DATA, currentDateTime)\r\n",
        "data = requests.get('https://raw.githubusercontent.com/microsoft/OpenEduAnalytics/main/modules/module_catalog/Microsoft_Graph/test_data/k12_test_data/M365_App_User_Detail/part-00026-b6c697c6-1520-4aae-9f5c-6213dff6ab0a-c000.json').text\r\n",
        "oea.land(data, 'graph_api/beta/m365_app_user_detail', 'part27_k12_test_data.json', oea.ADDITIVE_BATCH_DATA, currentDateTime)\r\n",
        "data = requests.get('https://raw.githubusercontent.com/microsoft/OpenEduAnalytics/main/modules/module_catalog/Microsoft_Graph/test_data/k12_test_data/M365_App_User_Detail/part-00027-b6c697c6-1520-4aae-9f5c-6213dff6ab0a-c000.json').text\r\n",
        "oea.land(data, 'graph_api/beta/m365_app_user_detail', 'part28_k12_test_data.json', oea.ADDITIVE_BATCH_DATA, currentDateTime)\r\n",
        "data = requests.get('https://raw.githubusercontent.com/microsoft/OpenEduAnalytics/main/modules/module_catalog/Microsoft_Graph/test_data/k12_test_data/M365_App_User_Detail/part-00028-b6c697c6-1520-4aae-9f5c-6213dff6ab0a-c000.json').text\r\n",
        "oea.land(data, 'graph_api/beta/m365_app_user_detail', 'part29_k12_test_data.json', oea.ADDITIVE_BATCH_DATA, currentDateTime)\r\n",
        "data = requests.get('https://raw.githubusercontent.com/microsoft/OpenEduAnalytics/main/modules/module_catalog/Microsoft_Graph/test_data/k12_test_data/M365_App_User_Detail/part-00029-b6c697c6-1520-4aae-9f5c-6213dff6ab0a-c000.json').text\r\n",
        "oea.land(data, 'graph_api/beta/m365_app_user_detail', 'part30_k12_test_data.json', oea.ADDITIVE_BATCH_DATA, currentDateTime)\r\n",
        "data = requests.get('https://raw.githubusercontent.com/microsoft/OpenEduAnalytics/main/modules/module_catalog/Microsoft_Graph/test_data/k12_test_data/M365_App_User_Detail/part-00030-b6c697c6-1520-4aae-9f5c-6213dff6ab0a-c000.json').text\r\n",
        "oea.land(data, 'graph_api/beta/m365_app_user_detail', 'part31_k12_test_data.json', oea.ADDITIVE_BATCH_DATA, currentDateTime)\r\n",
        "data = requests.get('https://raw.githubusercontent.com/microsoft/OpenEduAnalytics/main/modules/module_catalog/Microsoft_Graph/test_data/k12_test_data/M365_App_User_Detail/part-00031-b6c697c6-1520-4aae-9f5c-6213dff6ab0a-c000.json').text\r\n",
        "oea.land(data, 'graph_api/beta/m365_app_user_detail', 'part32_k12_test_data.json', oea.ADDITIVE_BATCH_DATA, currentDateTime)\r\n",
        "\r\n",
        "data = requests.get('https://raw.githubusercontent.com/microsoft/OpenEduAnalytics/main/modules/module_catalog/Microsoft_Graph/test_data/k12_test_data/Teams_Activity_User_Detail/part-00000-bd366e94-d20e-4e81-b4ba-47b15889b4a9-c000.json').text\r\n",
        "oea.land(data, 'graph_api/beta/teams_activity_user_detail', 'part01_k12_test_data.json', oea.ADDITIVE_BATCH_DATA, currentDateTime)\r\n",
        "data = requests.get('https://raw.githubusercontent.com/microsoft/OpenEduAnalytics/main/modules/module_catalog/Microsoft_Graph/test_data/k12_test_data/Teams_Activity_User_Detail/part-00001-bd366e94-d20e-4e81-b4ba-47b15889b4a9-c000.json').text\r\n",
        "oea.land(data, 'graph_api/beta/teams_activity_user_detail', 'part02_k12_test_data.json', oea.ADDITIVE_BATCH_DATA, currentDateTime)\r\n",
        "data = requests.get('https://raw.githubusercontent.com/microsoft/OpenEduAnalytics/main/modules/module_catalog/Microsoft_Graph/test_data/k12_test_data/Teams_Activity_User_Detail/part-00002-bd366e94-d20e-4e81-b4ba-47b15889b4a9-c000.json').text\r\n",
        "oea.land(data, 'graph_api/beta/teams_activity_user_detail', 'part03_k12_test_data.json', oea.ADDITIVE_BATCH_DATA, currentDateTime)\r\n",
        "data = requests.get('https://raw.githubusercontent.com/microsoft/OpenEduAnalytics/main/modules/module_catalog/Microsoft_Graph/test_data/k12_test_data/Teams_Activity_User_Detail/part-00003-bd366e94-d20e-4e81-b4ba-47b15889b4a9-c000.json').text\r\n",
        "oea.land(data, 'graph_api/beta/teams_activity_user_detail', 'part04_k12_test_data.json', oea.ADDITIVE_BATCH_DATA, currentDateTime)\r\n",
        "data = requests.get('https://raw.githubusercontent.com/microsoft/OpenEduAnalytics/main/modules/module_catalog/Microsoft_Graph/test_data/k12_test_data/Teams_Activity_User_Detail/part-00004-bd366e94-d20e-4e81-b4ba-47b15889b4a9-c000.json').text\r\n",
        "oea.land(data, 'graph_api/beta/teams_activity_user_detail', 'part05_k12_test_data.json', oea.ADDITIVE_BATCH_DATA, currentDateTime)\r\n",
        "data = requests.get('https://raw.githubusercontent.com/microsoft/OpenEduAnalytics/main/modules/module_catalog/Microsoft_Graph/test_data/k12_test_data/Teams_Activity_User_Detail/part-00005-bd366e94-d20e-4e81-b4ba-47b15889b4a9-c000.json').text\r\n",
        "oea.land(data, 'graph_api/beta/teams_activity_user_detail', 'part06_k12_test_data.json', oea.ADDITIVE_BATCH_DATA, currentDateTime)\r\n",
        "data = requests.get('https://raw.githubusercontent.com/microsoft/OpenEduAnalytics/main/modules/module_catalog/Microsoft_Graph/test_data/k12_test_data/Teams_Activity_User_Detail/part-00006-bd366e94-d20e-4e81-b4ba-47b15889b4a9-c000.json').text\r\n",
        "oea.land(data, 'graph_api/beta/teams_activity_user_detail', 'part07_k12_test_data.json', oea.ADDITIVE_BATCH_DATA, currentDateTime)\r\n",
        "data = requests.get('https://raw.githubusercontent.com/microsoft/OpenEduAnalytics/main/modules/module_catalog/Microsoft_Graph/test_data/k12_test_data/Teams_Activity_User_Detail/part-00007-bd366e94-d20e-4e81-b4ba-47b15889b4a9-c000.json').text\r\n",
        "oea.land(data, 'graph_api/beta/teams_activity_user_detail', 'part08_k12_test_data.json', oea.ADDITIVE_BATCH_DATA, currentDateTime)\r\n",
        "data = requests.get('https://raw.githubusercontent.com/microsoft/OpenEduAnalytics/main/modules/module_catalog/Microsoft_Graph/test_data/k12_test_data/Teams_Activity_User_Detail/part-00008-bd366e94-d20e-4e81-b4ba-47b15889b4a9-c000.json').text\r\n",
        "oea.land(data, 'graph_api/beta/teams_activity_user_detail', 'part09_k12_test_data.json', oea.ADDITIVE_BATCH_DATA, currentDateTime)\r\n",
        "data = requests.get('https://raw.githubusercontent.com/microsoft/OpenEduAnalytics/main/modules/module_catalog/Microsoft_Graph/test_data/k12_test_data/Teams_Activity_User_Detail/part-00009-bd366e94-d20e-4e81-b4ba-47b15889b4a9-c000.json').text\r\n",
        "oea.land(data, 'graph_api/beta/teams_activity_user_detail', 'part10_k12_test_data.json', oea.ADDITIVE_BATCH_DATA, currentDateTime)\r\n",
        "data = requests.get('https://raw.githubusercontent.com/microsoft/OpenEduAnalytics/main/modules/module_catalog/Microsoft_Graph/test_data/k12_test_data/Teams_Activity_User_Detail/part-00010-bd366e94-d20e-4e81-b4ba-47b15889b4a9-c000.json').text\r\n",
        "oea.land(data, 'graph_api/beta/teams_activity_user_detail', 'part11_k12_test_data.json', oea.ADDITIVE_BATCH_DATA, currentDateTime)\r\n",
        "data = requests.get('https://raw.githubusercontent.com/microsoft/OpenEduAnalytics/main/modules/module_catalog/Microsoft_Graph/test_data/k12_test_data/Teams_Activity_User_Detail/part-00011-bd366e94-d20e-4e81-b4ba-47b15889b4a9-c000.json').text\r\n",
        "oea.land(data, 'graph_api/beta/teams_activity_user_detail', 'part12_k12_test_data.json', oea.ADDITIVE_BATCH_DATA, currentDateTime)\r\n",
        "data = requests.get('https://raw.githubusercontent.com/microsoft/OpenEduAnalytics/main/modules/module_catalog/Microsoft_Graph/test_data/k12_test_data/Teams_Activity_User_Detail/part-00012-bd366e94-d20e-4e81-b4ba-47b15889b4a9-c000.json').text\r\n",
        "oea.land(data, 'graph_api/beta/teams_activity_user_detail', 'part13_k12_test_data.json', oea.ADDITIVE_BATCH_DATA, currentDateTime)\r\n",
        "data = requests.get('https://raw.githubusercontent.com/microsoft/OpenEduAnalytics/main/modules/module_catalog/Microsoft_Graph/test_data/k12_test_data/Teams_Activity_User_Detail/part-00013-bd366e94-d20e-4e81-b4ba-47b15889b4a9-c000.json').text\r\n",
        "oea.land(data, 'graph_api/beta/teams_activity_user_detail', 'part14_k12_test_data.json', oea.ADDITIVE_BATCH_DATA, currentDateTime)\r\n",
        "data = requests.get('https://raw.githubusercontent.com/microsoft/OpenEduAnalytics/main/modules/module_catalog/Microsoft_Graph/test_data/k12_test_data/Teams_Activity_User_Detail/part-00014-bd366e94-d20e-4e81-b4ba-47b15889b4a9-c000.json').text\r\n",
        "oea.land(data, 'graph_api/beta/teams_activity_user_detail', 'part15_k12_test_data.json', oea.ADDITIVE_BATCH_DATA, currentDateTime)\r\n",
        "data = requests.get('https://raw.githubusercontent.com/microsoft/OpenEduAnalytics/main/modules/module_catalog/Microsoft_Graph/test_data/k12_test_data/Teams_Activity_User_Detail/part-00015-bd366e94-d20e-4e81-b4ba-47b15889b4a9-c000.json').text\r\n",
        "oea.land(data, 'graph_api/beta/teams_activity_user_detail', 'part16_k12_test_data.json', oea.ADDITIVE_BATCH_DATA, currentDateTime)\r\n",
        "data = requests.get('https://raw.githubusercontent.com/microsoft/OpenEduAnalytics/main/modules/module_catalog/Microsoft_Graph/test_data/k12_test_data/Teams_Activity_User_Detail/part-00016-bd366e94-d20e-4e81-b4ba-47b15889b4a9-c000.json').text\r\n",
        "oea.land(data, 'graph_api/beta/teams_activity_user_detail', 'part17_k12_test_data.json', oea.ADDITIVE_BATCH_DATA, currentDateTime)\r\n",
        "data = requests.get('https://raw.githubusercontent.com/microsoft/OpenEduAnalytics/main/modules/module_catalog/Microsoft_Graph/test_data/k12_test_data/Teams_Activity_User_Detail/part-00017-bd366e94-d20e-4e81-b4ba-47b15889b4a9-c000.json').text\r\n",
        "oea.land(data, 'graph_api/beta/teams_activity_user_detail', 'part18_k12_test_data.json', oea.ADDITIVE_BATCH_DATA, currentDateTime)\r\n",
        "data = requests.get('https://raw.githubusercontent.com/microsoft/OpenEduAnalytics/main/modules/module_catalog/Microsoft_Graph/test_data/k12_test_data/Teams_Activity_User_Detail/part-00018-bd366e94-d20e-4e81-b4ba-47b15889b4a9-c000.json').text\r\n",
        "oea.land(data, 'graph_api/beta/teams_activity_user_detail', 'part19_k12_test_data.json', oea.ADDITIVE_BATCH_DATA, currentDateTime)\r\n",
        "data = requests.get('https://raw.githubusercontent.com/microsoft/OpenEduAnalytics/main/modules/module_catalog/Microsoft_Graph/test_data/k12_test_data/Teams_Activity_User_Detail/part-00019-bd366e94-d20e-4e81-b4ba-47b15889b4a9-c000.json').text\r\n",
        "oea.land(data, 'graph_api/beta/teams_activity_user_detail', 'part20_k12_test_data.json', oea.ADDITIVE_BATCH_DATA, currentDateTime)\r\n",
        "data = requests.get('https://raw.githubusercontent.com/microsoft/OpenEduAnalytics/main/modules/module_catalog/Microsoft_Graph/test_data/k12_test_data/Teams_Activity_User_Detail/part-00020-bd366e94-d20e-4e81-b4ba-47b15889b4a9-c000.json').text\r\n",
        "oea.land(data, 'graph_api/beta/teams_activity_user_detail', 'part21_k12_test_data.json', oea.ADDITIVE_BATCH_DATA, currentDateTime)\r\n",
        "data = requests.get('https://raw.githubusercontent.com/microsoft/OpenEduAnalytics/main/modules/module_catalog/Microsoft_Graph/test_data/k12_test_data/Teams_Activity_User_Detail/part-00021-bd366e94-d20e-4e81-b4ba-47b15889b4a9-c000.json').text\r\n",
        "oea.land(data, 'graph_api/beta/teams_activity_user_detail', 'part22_k12_test_data.json', oea.ADDITIVE_BATCH_DATA, currentDateTime)\r\n",
        "data = requests.get('https://raw.githubusercontent.com/microsoft/OpenEduAnalytics/main/modules/module_catalog/Microsoft_Graph/test_data/k12_test_data/Teams_Activity_User_Detail/part-00022-bd366e94-d20e-4e81-b4ba-47b15889b4a9-c000.json').text\r\n",
        "oea.land(data, 'graph_api/beta/teams_activity_user_detail', 'part23_k12_test_data.json', oea.ADDITIVE_BATCH_DATA, currentDateTime)\r\n",
        "data = requests.get('https://raw.githubusercontent.com/microsoft/OpenEduAnalytics/main/modules/module_catalog/Microsoft_Graph/test_data/k12_test_data/Teams_Activity_User_Detail/part-00023-bd366e94-d20e-4e81-b4ba-47b15889b4a9-c000.json').text\r\n",
        "oea.land(data, 'graph_api/beta/teams_activity_user_detail', 'part24_k12_test_data.json', oea.ADDITIVE_BATCH_DATA, currentDateTime)\r\n",
        "data = requests.get('https://raw.githubusercontent.com/microsoft/OpenEduAnalytics/main/modules/module_catalog/Microsoft_Graph/test_data/k12_test_data/Teams_Activity_User_Detail/part-00024-bd366e94-d20e-4e81-b4ba-47b15889b4a9-c000.json').text\r\n",
        "oea.land(data, 'graph_api/beta/teams_activity_user_detail', 'part25_k12_test_data.json', oea.ADDITIVE_BATCH_DATA, currentDateTime)\r\n",
        "data = requests.get('https://raw.githubusercontent.com/microsoft/OpenEduAnalytics/main/modules/module_catalog/Microsoft_Graph/test_data/k12_test_data/Teams_Activity_User_Detail/part-00025-bd366e94-d20e-4e81-b4ba-47b15889b4a9-c000.json').text\r\n",
        "oea.land(data, 'graph_api/beta/teams_activity_user_detail', 'part26_k12_test_data.json', oea.ADDITIVE_BATCH_DATA, currentDateTime)\r\n",
        "data = requests.get('https://raw.githubusercontent.com/microsoft/OpenEduAnalytics/main/modules/module_catalog/Microsoft_Graph/test_data/k12_test_data/Teams_Activity_User_Detail/part-00026-bd366e94-d20e-4e81-b4ba-47b15889b4a9-c000.json').text\r\n",
        "oea.land(data, 'graph_api/beta/teams_activity_user_detail', 'part27_k12_test_data.json', oea.ADDITIVE_BATCH_DATA, currentDateTime)\r\n",
        "data = requests.get('https://raw.githubusercontent.com/microsoft/OpenEduAnalytics/main/modules/module_catalog/Microsoft_Graph/test_data/k12_test_data/Teams_Activity_User_Detail/part-00027-bd366e94-d20e-4e81-b4ba-47b15889b4a9-c000.json').text\r\n",
        "oea.land(data, 'graph_api/beta/teams_activity_user_detail', 'part28_k12_test_data.json', oea.ADDITIVE_BATCH_DATA, currentDateTime)\r\n",
        "data = requests.get('https://raw.githubusercontent.com/microsoft/OpenEduAnalytics/main/modules/module_catalog/Microsoft_Graph/test_data/k12_test_data/Teams_Activity_User_Detail/part-00028-bd366e94-d20e-4e81-b4ba-47b15889b4a9-c000.json').text\r\n",
        "oea.land(data, 'graph_api/beta/teams_activity_user_detail', 'part29_k12_test_data.json', oea.ADDITIVE_BATCH_DATA, currentDateTime)\r\n",
        "data = requests.get('https://raw.githubusercontent.com/microsoft/OpenEduAnalytics/main/modules/module_catalog/Microsoft_Graph/test_data/k12_test_data/Teams_Activity_User_Detail/part-00029-bd366e94-d20e-4e81-b4ba-47b15889b4a9-c000.json').text\r\n",
        "oea.land(data, 'graph_api/beta/teams_activity_user_detail', 'part30_k12_test_data.json', oea.ADDITIVE_BATCH_DATA, currentDateTime)\r\n",
        "data = requests.get('https://raw.githubusercontent.com/microsoft/OpenEduAnalytics/main/modules/module_catalog/Microsoft_Graph/test_data/k12_test_data/Teams_Activity_User_Detail/part-00030-bd366e94-d20e-4e81-b4ba-47b15889b4a9-c000.json').text\r\n",
        "oea.land(data, 'graph_api/beta/teams_activity_user_detail', 'part31_k12_test_data.json', oea.ADDITIVE_BATCH_DATA, currentDateTime)\r\n",
        "data = requests.get('https://raw.githubusercontent.com/microsoft/OpenEduAnalytics/main/modules/module_catalog/Microsoft_Graph/test_data/k12_test_data/Teams_Activity_User_Detail/part-00031-bd366e94-d20e-4e81-b4ba-47b15889b4a9-c000.json').text\r\n",
        "oea.land(data, 'graph_api/beta/teams_activity_user_detail', 'part32_k12_test_data.json', oea.ADDITIVE_BATCH_DATA, currentDateTime)"
      ],
      "outputs": [],
      "execution_count": null,
      "metadata": {
        "jupyter": {
          "source_hidden": false,
          "outputs_hidden": false
        },
        "nteract": {
          "transient": {
            "deleting": false
          }
        }
      }
    },
    {
      "cell_type": "code",
      "source": [
        "# 2.2) Land batch data files into stage1 of the data lake.\r\n",
        "# In this example we pull Graph Higher Ed. test json data files from github and land it in oea/sandboxes/sam/stage1/Transactional/graph_api/beta \r\n",
        "# NOTE: You can choose to ingest Graph K-12 test data instead, by running the code block above rather than this one and the one below.\r\n",
        "import datetime\r\n",
        "currentDate = datetime.datetime.now()\r\n",
        "currentDateTime = currentDate.strftime(\"%Y-%m-%d %H-%M-%S\")\r\n",
        "data = requests.get('https://raw.githubusercontent.com/microsoft/OpenEduAnalytics/main/modules/module_catalog/Microsoft_Graph/test_data/hed_test_data/Users/part-00000-cae42818-3572-4824-b396-58587ad01616-c000.json').text\r\n",
        "oea.land(data, 'graph_api/beta/users', 'users_hed_test_data.json', oea.SNAPSHOT_BATCH_DATA, currentDateTime)\r\n",
        "\r\n",
        "data = requests.get('https://raw.githubusercontent.com/microsoft/OpenEduAnalytics/main/modules/module_catalog/Microsoft_Graph/test_data/hed_test_data/M365_App_User_Detail/part-00000-b6c697c6-1520-4aae-9f5c-6213dff6ab0a-c000.json').text\r\n",
        "oea.land(data, 'graph_api/beta/m365_app_user_detail', 'part01_hed_test_data.json', oea.ADDITIVE_BATCH_DATA, currentDateTime)\r\n",
        "data = requests.get('https://raw.githubusercontent.com/microsoft/OpenEduAnalytics/main/modules/module_catalog/Microsoft_Graph/test_data/hed_test_data/M365_App_User_Detail/part-00001-b6c697c6-1520-4aae-9f5c-6213dff6ab0a-c000.json').text\r\n",
        "oea.land(data, 'graph_api/beta/m365_app_user_detail', 'part02_hed_test_data.json', oea.ADDITIVE_BATCH_DATA, currentDateTime)\r\n",
        "data = requests.get('https://raw.githubusercontent.com/microsoft/OpenEduAnalytics/main/modules/module_catalog/Microsoft_Graph/test_data/hed_test_data/M365_App_User_Detail/part-00002-b6c697c6-1520-4aae-9f5c-6213dff6ab0a-c000.json').text\r\n",
        "oea.land(data, 'graph_api/beta/m365_app_user_detail', 'part03_hed_test_data.json', oea.ADDITIVE_BATCH_DATA, currentDateTime)\r\n",
        "data = requests.get('https://raw.githubusercontent.com/microsoft/OpenEduAnalytics/main/modules/module_catalog/Microsoft_Graph/test_data/hed_test_data/M365_App_User_Detail/part-00003-b6c697c6-1520-4aae-9f5c-6213dff6ab0a-c000.json').text\r\n",
        "oea.land(data, 'graph_api/beta/m365_app_user_detail', 'part04_hed_test_data.json', oea.ADDITIVE_BATCH_DATA, currentDateTime)\r\n",
        "data = requests.get('https://raw.githubusercontent.com/microsoft/OpenEduAnalytics/main/modules/module_catalog/Microsoft_Graph/test_data/hed_test_data/M365_App_User_Detail/part-00004-b6c697c6-1520-4aae-9f5c-6213dff6ab0a-c000.json').text\r\n",
        "oea.land(data, 'graph_api/beta/m365_app_user_detail', 'part05_hed_test_data.json', oea.ADDITIVE_BATCH_DATA, currentDateTime)\r\n",
        "data = requests.get('https://raw.githubusercontent.com/microsoft/OpenEduAnalytics/main/modules/module_catalog/Microsoft_Graph/test_data/hed_test_data/M365_App_User_Detail/part-00005-b6c697c6-1520-4aae-9f5c-6213dff6ab0a-c000.json').text\r\n",
        "oea.land(data, 'graph_api/beta/m365_app_user_detail', 'part06_hed_test_data.json', oea.ADDITIVE_BATCH_DATA, currentDateTime)\r\n",
        "data = requests.get('https://raw.githubusercontent.com/microsoft/OpenEduAnalytics/main/modules/module_catalog/Microsoft_Graph/test_data/hed_test_data/M365_App_User_Detail/part-00006-b6c697c6-1520-4aae-9f5c-6213dff6ab0a-c000.json').text\r\n",
        "oea.land(data, 'graph_api/beta/m365_app_user_detail', 'part07_hed_test_data.json', oea.ADDITIVE_BATCH_DATA, currentDateTime)\r\n",
        "data = requests.get('https://raw.githubusercontent.com/microsoft/OpenEduAnalytics/main/modules/module_catalog/Microsoft_Graph/test_data/hed_test_data/M365_App_User_Detail/part-00007-b6c697c6-1520-4aae-9f5c-6213dff6ab0a-c000.json').text\r\n",
        "oea.land(data, 'graph_api/beta/m365_app_user_detail', 'part08_hed_test_data.json', oea.ADDITIVE_BATCH_DATA, currentDateTime)\r\n",
        "data = requests.get('https://raw.githubusercontent.com/microsoft/OpenEduAnalytics/main/modules/module_catalog/Microsoft_Graph/test_data/hed_test_data/M365_App_User_Detail/part-00008-b6c697c6-1520-4aae-9f5c-6213dff6ab0a-c000.json').text\r\n",
        "oea.land(data, 'graph_api/beta/m365_app_user_detail', 'part09_hed_test_data.json', oea.ADDITIVE_BATCH_DATA, currentDateTime)\r\n",
        "data = requests.get('https://raw.githubusercontent.com/microsoft/OpenEduAnalytics/main/modules/module_catalog/Microsoft_Graph/test_data/hed_test_data/M365_App_User_Detail/part-00009-b6c697c6-1520-4aae-9f5c-6213dff6ab0a-c000.json').text\r\n",
        "oea.land(data, 'graph_api/beta/m365_app_user_detail', 'part10_hed_test_data.json', oea.ADDITIVE_BATCH_DATA, currentDateTime)\r\n",
        "data = requests.get('https://raw.githubusercontent.com/microsoft/OpenEduAnalytics/main/modules/module_catalog/Microsoft_Graph/test_data/hed_test_data/M365_App_User_Detail/part-00010-b6c697c6-1520-4aae-9f5c-6213dff6ab0a-c000.json').text\r\n",
        "oea.land(data, 'graph_api/beta/m365_app_user_detail', 'part11_hed_test_data.json', oea.ADDITIVE_BATCH_DATA, currentDateTime)\r\n",
        "data = requests.get('https://raw.githubusercontent.com/microsoft/OpenEduAnalytics/main/modules/module_catalog/Microsoft_Graph/test_data/hed_test_data/M365_App_User_Detail/part-00011-b6c697c6-1520-4aae-9f5c-6213dff6ab0a-c000.json').text\r\n",
        "oea.land(data, 'graph_api/beta/m365_app_user_detail', 'part12_hed_test_data.json', oea.ADDITIVE_BATCH_DATA, currentDateTime)\r\n",
        "data = requests.get('https://raw.githubusercontent.com/microsoft/OpenEduAnalytics/main/modules/module_catalog/Microsoft_Graph/test_data/hed_test_data/M365_App_User_Detail/part-00012-b6c697c6-1520-4aae-9f5c-6213dff6ab0a-c000.json').text\r\n",
        "oea.land(data, 'graph_api/beta/m365_app_user_detail', 'part13_hed_test_data.json', oea.ADDITIVE_BATCH_DATA, currentDateTime)\r\n",
        "data = requests.get('https://raw.githubusercontent.com/microsoft/OpenEduAnalytics/main/modules/module_catalog/Microsoft_Graph/test_data/hed_test_data/M365_App_User_Detail/part-00013-b6c697c6-1520-4aae-9f5c-6213dff6ab0a-c000.json').text\r\n",
        "oea.land(data, 'graph_api/beta/m365_app_user_detail', 'part14_hed_test_data.json', oea.ADDITIVE_BATCH_DATA, currentDateTime)\r\n",
        "data = requests.get('https://raw.githubusercontent.com/microsoft/OpenEduAnalytics/main/modules/module_catalog/Microsoft_Graph/test_data/hed_test_data/M365_App_User_Detail/part-00014-b6c697c6-1520-4aae-9f5c-6213dff6ab0a-c000.json').text\r\n",
        "oea.land(data, 'graph_api/beta/m365_app_user_detail', 'part15_hed_test_data.json', oea.ADDITIVE_BATCH_DATA, currentDateTime)\r\n",
        "data = requests.get('https://raw.githubusercontent.com/microsoft/OpenEduAnalytics/main/modules/module_catalog/Microsoft_Graph/test_data/hed_test_data/M365_App_User_Detail/part-00015-b6c697c6-1520-4aae-9f5c-6213dff6ab0a-c000.json').text\r\n",
        "oea.land(data, 'graph_api/beta/m365_app_user_detail', 'part16_hed_test_data.json', oea.ADDITIVE_BATCH_DATA, currentDateTime)\r\n",
        "data = requests.get('https://raw.githubusercontent.com/microsoft/OpenEduAnalytics/main/modules/module_catalog/Microsoft_Graph/test_data/hed_test_data/M365_App_User_Detail/part-00016-b6c697c6-1520-4aae-9f5c-6213dff6ab0a-c000.json').text\r\n",
        "oea.land(data, 'graph_api/beta/m365_app_user_detail', 'part17_hed_test_data.json', oea.ADDITIVE_BATCH_DATA, currentDateTime)\r\n",
        "data = requests.get('https://raw.githubusercontent.com/microsoft/OpenEduAnalytics/main/modules/module_catalog/Microsoft_Graph/test_data/hed_test_data/M365_App_User_Detail/part-00017-b6c697c6-1520-4aae-9f5c-6213dff6ab0a-c000.json').text\r\n",
        "oea.land(data, 'graph_api/beta/m365_app_user_detail', 'part18_hed_test_data.json', oea.ADDITIVE_BATCH_DATA, currentDateTime)\r\n",
        "data = requests.get('https://raw.githubusercontent.com/microsoft/OpenEduAnalytics/main/modules/module_catalog/Microsoft_Graph/test_data/hed_test_data/M365_App_User_Detail/part-00018-b6c697c6-1520-4aae-9f5c-6213dff6ab0a-c000.json').text\r\n",
        "oea.land(data, 'graph_api/beta/m365_app_user_detail', 'part19_hed_test_data.json', oea.ADDITIVE_BATCH_DATA, currentDateTime)\r\n",
        "data = requests.get('https://raw.githubusercontent.com/microsoft/OpenEduAnalytics/main/modules/module_catalog/Microsoft_Graph/test_data/hed_test_data/M365_App_User_Detail/part-00019-b6c697c6-1520-4aae-9f5c-6213dff6ab0a-c000.json').text\r\n",
        "oea.land(data, 'graph_api/beta/m365_app_user_detail', 'part20_hed_test_data.json', oea.ADDITIVE_BATCH_DATA, currentDateTime)\r\n",
        "data = requests.get('https://raw.githubusercontent.com/microsoft/OpenEduAnalytics/main/modules/module_catalog/Microsoft_Graph/test_data/hed_test_data/M365_App_User_Detail/part-00020-b6c697c6-1520-4aae-9f5c-6213dff6ab0a-c000.json').text\r\n",
        "oea.land(data, 'graph_api/beta/m365_app_user_detail', 'part21_hed_test_data.json', oea.ADDITIVE_BATCH_DATA, currentDateTime)\r\n",
        "data = requests.get('https://raw.githubusercontent.com/microsoft/OpenEduAnalytics/main/modules/module_catalog/Microsoft_Graph/test_data/hed_test_data/M365_App_User_Detail/part-00021-b6c697c6-1520-4aae-9f5c-6213dff6ab0a-c000.json').text\r\n",
        "oea.land(data, 'graph_api/beta/m365_app_user_detail', 'part22_hed_test_data.json', oea.ADDITIVE_BATCH_DATA, currentDateTime)\r\n",
        "data = requests.get('https://raw.githubusercontent.com/microsoft/OpenEduAnalytics/main/modules/module_catalog/Microsoft_Graph/test_data/hed_test_data/M365_App_User_Detail/part-00022-b6c697c6-1520-4aae-9f5c-6213dff6ab0a-c000.json').text\r\n",
        "oea.land(data, 'graph_api/beta/m365_app_user_detail', 'part23_hed_test_data.json', oea.ADDITIVE_BATCH_DATA, currentDateTime)\r\n",
        "data = requests.get('https://raw.githubusercontent.com/microsoft/OpenEduAnalytics/main/modules/module_catalog/Microsoft_Graph/test_data/hed_test_data/M365_App_User_Detail/part-00023-b6c697c6-1520-4aae-9f5c-6213dff6ab0a-c000.json').text\r\n",
        "oea.land(data, 'graph_api/beta/m365_app_user_detail', 'part24_hed_test_data.json', oea.ADDITIVE_BATCH_DATA, currentDateTime)\r\n",
        "data = requests.get('https://raw.githubusercontent.com/microsoft/OpenEduAnalytics/main/modules/module_catalog/Microsoft_Graph/test_data/hed_test_data/M365_App_User_Detail/part-00024-b6c697c6-1520-4aae-9f5c-6213dff6ab0a-c000.json').text\r\n",
        "oea.land(data, 'graph_api/beta/m365_app_user_detail', 'part25_hed_test_data.json', oea.ADDITIVE_BATCH_DATA, currentDateTime)\r\n",
        "data = requests.get('https://raw.githubusercontent.com/microsoft/OpenEduAnalytics/main/modules/module_catalog/Microsoft_Graph/test_data/hed_test_data/M365_App_User_Detail/part-00025-b6c697c6-1520-4aae-9f5c-6213dff6ab0a-c000.json').text\r\n",
        "oea.land(data, 'graph_api/beta/m365_app_user_detail', 'part26_hed_test_data.json', oea.ADDITIVE_BATCH_DATA, currentDateTime)\r\n",
        "data = requests.get('https://raw.githubusercontent.com/microsoft/OpenEduAnalytics/main/modules/module_catalog/Microsoft_Graph/test_data/hed_test_data/M365_App_User_Detail/part-00026-b6c697c6-1520-4aae-9f5c-6213dff6ab0a-c000.json').text\r\n",
        "oea.land(data, 'graph_api/beta/m365_app_user_detail', 'part27_hed_test_data.json', oea.ADDITIVE_BATCH_DATA, currentDateTime)\r\n",
        "data = requests.get('https://raw.githubusercontent.com/microsoft/OpenEduAnalytics/main/modules/module_catalog/Microsoft_Graph/test_data/hed_test_data/M365_App_User_Detail/part-00027-b6c697c6-1520-4aae-9f5c-6213dff6ab0a-c000.json').text\r\n",
        "oea.land(data, 'graph_api/beta/m365_app_user_detail', 'part28_hed_test_data.json', oea.ADDITIVE_BATCH_DATA, currentDateTime)\r\n",
        "data = requests.get('https://raw.githubusercontent.com/microsoft/OpenEduAnalytics/main/modules/module_catalog/Microsoft_Graph/test_data/hed_test_data/M365_App_User_Detail/part-00028-b6c697c6-1520-4aae-9f5c-6213dff6ab0a-c000.json').text\r\n",
        "oea.land(data, 'graph_api/beta/m365_app_user_detail', 'part29_hed_test_data.json', oea.ADDITIVE_BATCH_DATA, currentDateTime)\r\n",
        "data = requests.get('https://raw.githubusercontent.com/microsoft/OpenEduAnalytics/main/modules/module_catalog/Microsoft_Graph/test_data/hed_test_data/M365_App_User_Detail/part-00029-b6c697c6-1520-4aae-9f5c-6213dff6ab0a-c000.json').text\r\n",
        "oea.land(data, 'graph_api/beta/m365_app_user_detail', 'part30_hed_test_data.json', oea.ADDITIVE_BATCH_DATA, currentDateTime)\r\n",
        "data = requests.get('https://raw.githubusercontent.com/microsoft/OpenEduAnalytics/main/modules/module_catalog/Microsoft_Graph/test_data/hed_test_data/M365_App_User_Detail/part-00030-b6c697c6-1520-4aae-9f5c-6213dff6ab0a-c000.json').text\r\n",
        "oea.land(data, 'graph_api/beta/m365_app_user_detail', 'part31_hed_test_data.json', oea.ADDITIVE_BATCH_DATA, currentDateTime)\r\n",
        "data = requests.get('https://raw.githubusercontent.com/microsoft/OpenEduAnalytics/main/modules/module_catalog/Microsoft_Graph/test_data/hed_test_data/M365_App_User_Detail/part-00031-b6c697c6-1520-4aae-9f5c-6213dff6ab0a-c000.json').text\r\n",
        "oea.land(data, 'graph_api/beta/m365_app_user_detail', 'part32_hed_test_data.json', oea.ADDITIVE_BATCH_DATA, currentDateTime)\r\n",
        "\r\n",
        "data = requests.get('https://raw.githubusercontent.com/microsoft/OpenEduAnalytics/main/modules/module_catalog/Microsoft_Graph/test_data/hed_test_data/Teams_Activity_User_Detail/part-00000-bd366e94-d20e-4e81-b4ba-47b15889b4a9-c000.json').text\r\n",
        "oea.land(data, 'graph_api/beta/teams_activity_user_detail', 'part01_hed_test_data.json', oea.ADDITIVE_BATCH_DATA, currentDateTime)\r\n",
        "data = requests.get('https://raw.githubusercontent.com/microsoft/OpenEduAnalytics/main/modules/module_catalog/Microsoft_Graph/test_data/hed_test_data/Teams_Activity_User_Detail/part-00001-bd366e94-d20e-4e81-b4ba-47b15889b4a9-c000.json').text\r\n",
        "oea.land(data, 'graph_api/beta/teams_activity_user_detail', 'part02_hed_test_data.json', oea.ADDITIVE_BATCH_DATA, currentDateTime)\r\n",
        "data = requests.get('https://raw.githubusercontent.com/microsoft/OpenEduAnalytics/main/modules/module_catalog/Microsoft_Graph/test_data/hed_test_data/Teams_Activity_User_Detail/part-00002-bd366e94-d20e-4e81-b4ba-47b15889b4a9-c000.json').text\r\n",
        "oea.land(data, 'graph_api/beta/teams_activity_user_detail', 'part03_hed_test_data.json', oea.ADDITIVE_BATCH_DATA, currentDateTime)\r\n",
        "data = requests.get('https://raw.githubusercontent.com/microsoft/OpenEduAnalytics/main/modules/module_catalog/Microsoft_Graph/test_data/hed_test_data/Teams_Activity_User_Detail/part-00003-bd366e94-d20e-4e81-b4ba-47b15889b4a9-c000.json').text\r\n",
        "oea.land(data, 'graph_api/beta/teams_activity_user_detail', 'part04_hed_test_data.json', oea.ADDITIVE_BATCH_DATA, currentDateTime)\r\n",
        "data = requests.get('https://raw.githubusercontent.com/microsoft/OpenEduAnalytics/main/modules/module_catalog/Microsoft_Graph/test_data/hed_test_data/Teams_Activity_User_Detail/part-00004-bd366e94-d20e-4e81-b4ba-47b15889b4a9-c000.json').text\r\n",
        "oea.land(data, 'graph_api/beta/teams_activity_user_detail', 'part05_hed_test_data.json', oea.ADDITIVE_BATCH_DATA, currentDateTime)\r\n",
        "data = requests.get('https://raw.githubusercontent.com/microsoft/OpenEduAnalytics/main/modules/module_catalog/Microsoft_Graph/test_data/hed_test_data/Teams_Activity_User_Detail/part-00005-bd366e94-d20e-4e81-b4ba-47b15889b4a9-c000.json').text\r\n",
        "oea.land(data, 'graph_api/beta/teams_activity_user_detail', 'part06_hed_test_data.json', oea.ADDITIVE_BATCH_DATA, currentDateTime)\r\n",
        "data = requests.get('https://raw.githubusercontent.com/microsoft/OpenEduAnalytics/main/modules/module_catalog/Microsoft_Graph/test_data/hed_test_data/Teams_Activity_User_Detail/part-00006-bd366e94-d20e-4e81-b4ba-47b15889b4a9-c000.json').text\r\n",
        "oea.land(data, 'graph_api/beta/teams_activity_user_detail', 'part07_hed_test_data.json', oea.ADDITIVE_BATCH_DATA, currentDateTime)\r\n",
        "data = requests.get('https://raw.githubusercontent.com/microsoft/OpenEduAnalytics/main/modules/module_catalog/Microsoft_Graph/test_data/hed_test_data/Teams_Activity_User_Detail/part-00007-bd366e94-d20e-4e81-b4ba-47b15889b4a9-c000.json').text\r\n",
        "oea.land(data, 'graph_api/beta/teams_activity_user_detail', 'part08_hed_test_data.json', oea.ADDITIVE_BATCH_DATA, currentDateTime)\r\n",
        "data = requests.get('https://raw.githubusercontent.com/microsoft/OpenEduAnalytics/main/modules/module_catalog/Microsoft_Graph/test_data/hed_test_data/Teams_Activity_User_Detail/part-00008-bd366e94-d20e-4e81-b4ba-47b15889b4a9-c000.json').text\r\n",
        "oea.land(data, 'graph_api/beta/teams_activity_user_detail', 'part09_hed_test_data.json', oea.ADDITIVE_BATCH_DATA, currentDateTime)\r\n",
        "data = requests.get('https://raw.githubusercontent.com/microsoft/OpenEduAnalytics/main/modules/module_catalog/Microsoft_Graph/test_data/hed_test_data/Teams_Activity_User_Detail/part-00009-bd366e94-d20e-4e81-b4ba-47b15889b4a9-c000.json').text\r\n",
        "oea.land(data, 'graph_api/beta/teams_activity_user_detail', 'part10_hed_test_data.json', oea.ADDITIVE_BATCH_DATA, currentDateTime)\r\n",
        "data = requests.get('https://raw.githubusercontent.com/microsoft/OpenEduAnalytics/main/modules/module_catalog/Microsoft_Graph/test_data/hed_test_data/Teams_Activity_User_Detail/part-00010-bd366e94-d20e-4e81-b4ba-47b15889b4a9-c000.json').text\r\n",
        "oea.land(data, 'graph_api/beta/teams_activity_user_detail', 'part11_hed_test_data.json', oea.ADDITIVE_BATCH_DATA, currentDateTime)\r\n",
        "data = requests.get('https://raw.githubusercontent.com/microsoft/OpenEduAnalytics/main/modules/module_catalog/Microsoft_Graph/test_data/hed_test_data/Teams_Activity_User_Detail/part-00011-bd366e94-d20e-4e81-b4ba-47b15889b4a9-c000.json').text\r\n",
        "oea.land(data, 'graph_api/beta/teams_activity_user_detail', 'part12_hed_test_data.json', oea.ADDITIVE_BATCH_DATA, currentDateTime)\r\n",
        "data = requests.get('https://raw.githubusercontent.com/microsoft/OpenEduAnalytics/main/modules/module_catalog/Microsoft_Graph/test_data/hed_test_data/Teams_Activity_User_Detail/part-00012-bd366e94-d20e-4e81-b4ba-47b15889b4a9-c000.json').text\r\n",
        "oea.land(data, 'graph_api/beta/teams_activity_user_detail', 'part13_hed_test_data.json', oea.ADDITIVE_BATCH_DATA, currentDateTime)\r\n",
        "data = requests.get('https://raw.githubusercontent.com/microsoft/OpenEduAnalytics/main/modules/module_catalog/Microsoft_Graph/test_data/hed_test_data/Teams_Activity_User_Detail/part-00013-bd366e94-d20e-4e81-b4ba-47b15889b4a9-c000.json').text\r\n",
        "oea.land(data, 'graph_api/beta/teams_activity_user_detail', 'part14_hed_test_data.json', oea.ADDITIVE_BATCH_DATA, currentDateTime)\r\n",
        "data = requests.get('https://raw.githubusercontent.com/microsoft/OpenEduAnalytics/main/modules/module_catalog/Microsoft_Graph/test_data/hed_test_data/Teams_Activity_User_Detail/part-00014-bd366e94-d20e-4e81-b4ba-47b15889b4a9-c000.json').text\r\n",
        "oea.land(data, 'graph_api/beta/teams_activity_user_detail', 'part15_hed_test_data.json', oea.ADDITIVE_BATCH_DATA, currentDateTime)\r\n",
        "data = requests.get('https://raw.githubusercontent.com/microsoft/OpenEduAnalytics/main/modules/module_catalog/Microsoft_Graph/test_data/hed_test_data/Teams_Activity_User_Detail/part-00015-bd366e94-d20e-4e81-b4ba-47b15889b4a9-c000.json').text\r\n",
        "oea.land(data, 'graph_api/beta/teams_activity_user_detail', 'part16_hed_test_data.json', oea.ADDITIVE_BATCH_DATA, currentDateTime)\r\n",
        "data = requests.get('https://raw.githubusercontent.com/microsoft/OpenEduAnalytics/main/modules/module_catalog/Microsoft_Graph/test_data/hed_test_data/Teams_Activity_User_Detail/part-00016-bd366e94-d20e-4e81-b4ba-47b15889b4a9-c000.json').text\r\n",
        "oea.land(data, 'graph_api/beta/teams_activity_user_detail', 'part17_hed_test_data.json', oea.ADDITIVE_BATCH_DATA, currentDateTime)\r\n",
        "data = requests.get('https://raw.githubusercontent.com/microsoft/OpenEduAnalytics/main/modules/module_catalog/Microsoft_Graph/test_data/hed_test_data/Teams_Activity_User_Detail/part-00017-bd366e94-d20e-4e81-b4ba-47b15889b4a9-c000.json').text\r\n",
        "oea.land(data, 'graph_api/beta/teams_activity_user_detail', 'part18_hed_test_data.json', oea.ADDITIVE_BATCH_DATA, currentDateTime)\r\n",
        "data = requests.get('https://raw.githubusercontent.com/microsoft/OpenEduAnalytics/main/modules/module_catalog/Microsoft_Graph/test_data/hed_test_data/Teams_Activity_User_Detail/part-00018-bd366e94-d20e-4e81-b4ba-47b15889b4a9-c000.json').text\r\n",
        "oea.land(data, 'graph_api/beta/teams_activity_user_detail', 'part19_hed_test_data.json', oea.ADDITIVE_BATCH_DATA, currentDateTime)\r\n",
        "data = requests.get('https://raw.githubusercontent.com/microsoft/OpenEduAnalytics/main/modules/module_catalog/Microsoft_Graph/test_data/hed_test_data/Teams_Activity_User_Detail/part-00019-bd366e94-d20e-4e81-b4ba-47b15889b4a9-c000.json').text\r\n",
        "oea.land(data, 'graph_api/beta/teams_activity_user_detail', 'part20_hed_test_data.json', oea.ADDITIVE_BATCH_DATA, currentDateTime)\r\n",
        "data = requests.get('https://raw.githubusercontent.com/microsoft/OpenEduAnalytics/main/modules/module_catalog/Microsoft_Graph/test_data/hed_test_data/Teams_Activity_User_Detail/part-00020-bd366e94-d20e-4e81-b4ba-47b15889b4a9-c000.json').text\r\n",
        "oea.land(data, 'graph_api/beta/teams_activity_user_detail', 'part21_hed_test_data.json', oea.ADDITIVE_BATCH_DATA, currentDateTime)\r\n",
        "data = requests.get('https://raw.githubusercontent.com/microsoft/OpenEduAnalytics/main/modules/module_catalog/Microsoft_Graph/test_data/hed_test_data/Teams_Activity_User_Detail/part-00021-bd366e94-d20e-4e81-b4ba-47b15889b4a9-c000.json').text\r\n",
        "oea.land(data, 'graph_api/beta/teams_activity_user_detail', 'part22_hed_test_data.json', oea.ADDITIVE_BATCH_DATA, currentDateTime)\r\n",
        "data = requests.get('https://raw.githubusercontent.com/microsoft/OpenEduAnalytics/main/modules/module_catalog/Microsoft_Graph/test_data/hed_test_data/Teams_Activity_User_Detail/part-00022-bd366e94-d20e-4e81-b4ba-47b15889b4a9-c000.json').text\r\n",
        "oea.land(data, 'graph_api/beta/teams_activity_user_detail', 'part23_hed_test_data.json', oea.ADDITIVE_BATCH_DATA, currentDateTime)\r\n",
        "data = requests.get('https://raw.githubusercontent.com/microsoft/OpenEduAnalytics/main/modules/module_catalog/Microsoft_Graph/test_data/hed_test_data/Teams_Activity_User_Detail/part-00023-bd366e94-d20e-4e81-b4ba-47b15889b4a9-c000.json').text\r\n",
        "oea.land(data, 'graph_api/beta/teams_activity_user_detail', 'part24_hed_test_data.json', oea.ADDITIVE_BATCH_DATA, currentDateTime)\r\n",
        "data = requests.get('https://raw.githubusercontent.com/microsoft/OpenEduAnalytics/main/modules/module_catalog/Microsoft_Graph/test_data/hed_test_data/Teams_Activity_User_Detail/part-00024-bd366e94-d20e-4e81-b4ba-47b15889b4a9-c000.json').text\r\n",
        "oea.land(data, 'graph_api/beta/teams_activity_user_detail', 'part25_hed_test_data.json', oea.ADDITIVE_BATCH_DATA, currentDateTime)\r\n",
        "data = requests.get('https://raw.githubusercontent.com/microsoft/OpenEduAnalytics/main/modules/module_catalog/Microsoft_Graph/test_data/hed_test_data/Teams_Activity_User_Detail/part-00025-bd366e94-d20e-4e81-b4ba-47b15889b4a9-c000.json').text\r\n",
        "oea.land(data, 'graph_api/beta/teams_activity_user_detail', 'part26_hed_test_data.json', oea.ADDITIVE_BATCH_DATA, currentDateTime)\r\n",
        "data = requests.get('https://raw.githubusercontent.com/microsoft/OpenEduAnalytics/main/modules/module_catalog/Microsoft_Graph/test_data/hed_test_data/Teams_Activity_User_Detail/part-00026-bd366e94-d20e-4e81-b4ba-47b15889b4a9-c000.json').text\r\n",
        "oea.land(data, 'graph_api/beta/teams_activity_user_detail', 'part27_hed_test_data.json', oea.ADDITIVE_BATCH_DATA, currentDateTime)\r\n",
        "data = requests.get('https://raw.githubusercontent.com/microsoft/OpenEduAnalytics/main/modules/module_catalog/Microsoft_Graph/test_data/hed_test_data/Teams_Activity_User_Detail/part-00027-bd366e94-d20e-4e81-b4ba-47b15889b4a9-c000.json').text\r\n",
        "oea.land(data, 'graph_api/beta/teams_activity_user_detail', 'part28_hed_test_data.json', oea.ADDITIVE_BATCH_DATA, currentDateTime)\r\n",
        "data = requests.get('https://raw.githubusercontent.com/microsoft/OpenEduAnalytics/main/modules/module_catalog/Microsoft_Graph/test_data/hed_test_data/Teams_Activity_User_Detail/part-00028-bd366e94-d20e-4e81-b4ba-47b15889b4a9-c000.json').text\r\n",
        "oea.land(data, 'graph_api/beta/teams_activity_user_detail', 'part29_hed_test_data.json', oea.ADDITIVE_BATCH_DATA, currentDateTime)\r\n",
        "data = requests.get('https://raw.githubusercontent.com/microsoft/OpenEduAnalytics/main/modules/module_catalog/Microsoft_Graph/test_data/hed_test_data/Teams_Activity_User_Detail/part-00029-bd366e94-d20e-4e81-b4ba-47b15889b4a9-c000.json').text\r\n",
        "oea.land(data, 'graph_api/beta/teams_activity_user_detail', 'part30_hed_test_data.json', oea.ADDITIVE_BATCH_DATA, currentDateTime)\r\n",
        "data = requests.get('https://raw.githubusercontent.com/microsoft/OpenEduAnalytics/main/modules/module_catalog/Microsoft_Graph/test_data/hed_test_data/Teams_Activity_User_Detail/part-00030-bd366e94-d20e-4e81-b4ba-47b15889b4a9-c000.json').text\r\n",
        "oea.land(data, 'graph_api/beta/teams_activity_user_detail', 'part31_hed_test_data.json', oea.ADDITIVE_BATCH_DATA, currentDateTime)\r\n",
        "data = requests.get('https://raw.githubusercontent.com/microsoft/OpenEduAnalytics/main/modules/module_catalog/Microsoft_Graph/test_data/hed_test_data/Teams_Activity_User_Detail/part-00031-bd366e94-d20e-4e81-b4ba-47b15889b4a9-c000.json').text\r\n",
        "oea.land(data, 'graph_api/beta/teams_activity_user_detail', 'part32_hed_test_data.json', oea.ADDITIVE_BATCH_DATA, currentDateTime)"
      ],
      "outputs": [
        {
          "output_type": "display_data",
          "data": {
            "application/vnd.livy.statement-meta+json": {
              "spark_pool": "spark3p2med",
              "session_id": "36",
              "statement_id": 2,
              "state": "finished",
              "livy_statement_state": "available",
              "queued_time": "2023-01-07T00:11:52.9458924Z",
              "session_start_time": null,
              "execution_start_time": "2023-01-07T00:15:23.2899262Z",
              "execution_finish_time": "2023-01-07T00:15:59.6359632Z",
              "spark_jobs": null
            },
            "text/plain": "StatementMeta(spark3p2med, 36, 2, Finished, Available)"
          },
          "metadata": {}
        },
        {
          "output_type": "execute_result",
          "execution_count": 7,
          "data": {
            "text/plain": "'stage1/Transactional/graph_api/beta/teams_activity_user_detail/additive_batch_data/rundate=2023-01-07 00-15-23/part32_hed_test_data.json'"
          },
          "metadata": {}
        }
      ],
      "execution_count": 48,
      "metadata": {
        "jupyter": {
          "source_hidden": false,
          "outputs_hidden": false
        },
        "nteract": {
          "transient": {
            "deleting": false
          }
        }
      }
    },
    {
      "cell_type": "code",
      "source": [
        "# 2.25) Land batch data files into stage1 of the data lake.\r\n",
        "# In this example we pull Graph Higher Ed. test json data files from github and land it in oea/sandboxes/sam/stage1/Transactional/graph_api/v1.0\r\n",
        "import datetime\r\n",
        "currentDate = datetime.datetime.now()\r\n",
        "currentDateTime = currentDate.strftime(\"%Y-%m-%d %H-%M-%S\")\r\n",
        "data = requests.get('https://raw.githubusercontent.com/microsoft/OpenEduAnalytics/main/modules/module_catalog/Microsoft_Graph/test_data/hed_test_data/Meeting_Attendance_Report/030733285E7943CE86189E39C88A04D6_13_16.json').text\r\n",
        "oea.land(data, 'graph_api/v1.0/meeting_attendance_report', 'report001_hed_test_data.json', oea.ADDITIVE_BATCH_DATA, currentDateTime)\r\n",
        "data = requests.get('https://raw.githubusercontent.com/microsoft/OpenEduAnalytics/main/modules/module_catalog/Microsoft_Graph/test_data/hed_test_data/Meeting_Attendance_Report/030733285E7943CE86189E39C88A04D6_20_15.json').text\r\n",
        "oea.land(data, 'graph_api/v1.0/meeting_attendance_report', 'report002_hed_test_data.json', oea.ADDITIVE_BATCH_DATA, currentDateTime)\r\n",
        "data = requests.get('https://raw.githubusercontent.com/microsoft/OpenEduAnalytics/main/modules/module_catalog/Microsoft_Graph/test_data/hed_test_data/Meeting_Attendance_Report/030733285E7943CE86189E39C88A04D6_21_12.json').text\r\n",
        "oea.land(data, 'graph_api/v1.0/meeting_attendance_report', 'report003_hed_test_data.json', oea.ADDITIVE_BATCH_DATA, currentDateTime)\r\n",
        "data = requests.get('https://raw.githubusercontent.com/microsoft/OpenEduAnalytics/main/modules/module_catalog/Microsoft_Graph/test_data/hed_test_data/Meeting_Attendance_Report/03A2BF1EEE524B1CADC97E214963BB92_11_14.json').text\r\n",
        "oea.land(data, 'graph_api/v1.0/meeting_attendance_report', 'report004_hed_test_data.json', oea.ADDITIVE_BATCH_DATA, currentDateTime)\r\n",
        "data = requests.get('https://raw.githubusercontent.com/microsoft/OpenEduAnalytics/main/modules/module_catalog/Microsoft_Graph/test_data/hed_test_data/Meeting_Attendance_Report/03A2BF1EEE524B1CADC97E214963BB92_14_9.json').text\r\n",
        "oea.land(data, 'graph_api/v1.0/meeting_attendance_report', 'report005_hed_test_data.json', oea.ADDITIVE_BATCH_DATA, currentDateTime)\r\n",
        "data = requests.get('https://raw.githubusercontent.com/microsoft/OpenEduAnalytics/main/modules/module_catalog/Microsoft_Graph/test_data/hed_test_data/Meeting_Attendance_Report/03A2BF1EEE524B1CADC97E214963BB92_6_15.json').text\r\n",
        "oea.land(data, 'graph_api/v1.0/meeting_attendance_report', 'report006_hed_test_data.json', oea.ADDITIVE_BATCH_DATA, currentDateTime)\r\n",
        "data = requests.get('https://raw.githubusercontent.com/microsoft/OpenEduAnalytics/main/modules/module_catalog/Microsoft_Graph/test_data/hed_test_data/Meeting_Attendance_Report/08DDFD65A495417587EE3E91F25FEECD_20_15.json').text\r\n",
        "oea.land(data, 'graph_api/v1.0/meeting_attendance_report', 'report007_hed_test_data.json', oea.ADDITIVE_BATCH_DATA, currentDateTime)\r\n",
        "data = requests.get('https://raw.githubusercontent.com/microsoft/OpenEduAnalytics/main/modules/module_catalog/Microsoft_Graph/test_data/hed_test_data/Meeting_Attendance_Report/08DDFD65A495417587EE3E91F25FEECD_21_15.json').text\r\n",
        "oea.land(data, 'graph_api/v1.0/meeting_attendance_report', 'report008_hed_test_data.json', oea.ADDITIVE_BATCH_DATA, currentDateTime)\r\n",
        "data = requests.get('https://raw.githubusercontent.com/microsoft/OpenEduAnalytics/main/modules/module_catalog/Microsoft_Graph/test_data/hed_test_data/Meeting_Attendance_Report/08DDFD65A495417587EE3E91F25FEECD_28_12.json').text\r\n",
        "oea.land(data, 'graph_api/v1.0/meeting_attendance_report', 'report009_hed_test_data.json', oea.ADDITIVE_BATCH_DATA, currentDateTime)\r\n",
        "data = requests.get('https://raw.githubusercontent.com/microsoft/OpenEduAnalytics/main/modules/module_catalog/Microsoft_Graph/test_data/hed_test_data/Meeting_Attendance_Report/16D3783DEA504F35B66FD00178DFC2CB_13_11.json').text\r\n",
        "oea.land(data, 'graph_api/v1.0/meeting_attendance_report', 'report010_hed_test_data.json', oea.ADDITIVE_BATCH_DATA, currentDateTime)\r\n",
        "data = requests.get('https://raw.githubusercontent.com/microsoft/OpenEduAnalytics/main/modules/module_catalog/Microsoft_Graph/test_data/hed_test_data/Meeting_Attendance_Report/16D3783DEA504F35B66FD00178DFC2CB_17_10.json').text\r\n",
        "oea.land(data, 'graph_api/v1.0/meeting_attendance_report', 'report011_hed_test_data.json', oea.ADDITIVE_BATCH_DATA, currentDateTime)\r\n",
        "data = requests.get('https://raw.githubusercontent.com/microsoft/OpenEduAnalytics/main/modules/module_catalog/Microsoft_Graph/test_data/hed_test_data/Meeting_Attendance_Report/16D3783DEA504F35B66FD00178DFC2CB_25_15.json').text\r\n",
        "oea.land(data, 'graph_api/v1.0/meeting_attendance_report', 'report012_hed_test_data.json', oea.ADDITIVE_BATCH_DATA, currentDateTime)\r\n",
        "data = requests.get('https://raw.githubusercontent.com/microsoft/OpenEduAnalytics/main/modules/module_catalog/Microsoft_Graph/test_data/hed_test_data/Meeting_Attendance_Report/1AC9DCA1874A42B0915A699B7675B90F_10_10.json').text\r\n",
        "oea.land(data, 'graph_api/v1.0/meeting_attendance_report', 'report013_hed_test_data.json', oea.ADDITIVE_BATCH_DATA, currentDateTime)\r\n",
        "data = requests.get('https://raw.githubusercontent.com/microsoft/OpenEduAnalytics/main/modules/module_catalog/Microsoft_Graph/test_data/hed_test_data/Meeting_Attendance_Report/1AC9DCA1874A42B0915A699B7675B90F_17_11.json').text\r\n",
        "oea.land(data, 'graph_api/v1.0/meeting_attendance_report', 'report014_hed_test_data.json', oea.ADDITIVE_BATCH_DATA, currentDateTime)\r\n",
        "data = requests.get('https://raw.githubusercontent.com/microsoft/OpenEduAnalytics/main/modules/module_catalog/Microsoft_Graph/test_data/hed_test_data/Meeting_Attendance_Report/1AC9DCA1874A42B0915A699B7675B90F_26_13.json').text\r\n",
        "oea.land(data, 'graph_api/v1.0/meeting_attendance_report', 'report015_hed_test_data.json', oea.ADDITIVE_BATCH_DATA, currentDateTime)\r\n",
        "data = requests.get('https://raw.githubusercontent.com/microsoft/OpenEduAnalytics/main/modules/module_catalog/Microsoft_Graph/test_data/hed_test_data/Meeting_Attendance_Report/1CC8AEF1B8364E2C8B1C00CEFA109248_10_15.json').text\r\n",
        "oea.land(data, 'graph_api/v1.0/meeting_attendance_report', 'report016_hed_test_data.json', oea.ADDITIVE_BATCH_DATA, currentDateTime)\r\n",
        "data = requests.get('https://raw.githubusercontent.com/microsoft/OpenEduAnalytics/main/modules/module_catalog/Microsoft_Graph/test_data/hed_test_data/Meeting_Attendance_Report/1CC8AEF1B8364E2C8B1C00CEFA109248_20_14.json').text\r\n",
        "oea.land(data, 'graph_api/v1.0/meeting_attendance_report', 'report017_hed_test_data.json', oea.ADDITIVE_BATCH_DATA, currentDateTime)\r\n",
        "data = requests.get('https://raw.githubusercontent.com/microsoft/OpenEduAnalytics/main/modules/module_catalog/Microsoft_Graph/test_data/hed_test_data/Meeting_Attendance_Report/1CC8AEF1B8364E2C8B1C00CEFA109248_26_15.json').text\r\n",
        "oea.land(data, 'graph_api/v1.0/meeting_attendance_report', 'report018_hed_test_data.json', oea.ADDITIVE_BATCH_DATA, currentDateTime)\r\n",
        "data = requests.get('https://raw.githubusercontent.com/microsoft/OpenEduAnalytics/main/modules/module_catalog/Microsoft_Graph/test_data/hed_test_data/Meeting_Attendance_Report/1D636A19738249C59B08BB8D41E240F9_10_7.json').text\r\n",
        "oea.land(data, 'graph_api/v1.0/meeting_attendance_report', 'report019_hed_test_data.json', oea.ADDITIVE_BATCH_DATA, currentDateTime)\r\n",
        "data = requests.get('https://raw.githubusercontent.com/microsoft/OpenEduAnalytics/main/modules/module_catalog/Microsoft_Graph/test_data/hed_test_data/Meeting_Attendance_Report/1D636A19738249C59B08BB8D41E240F9_20_14.json').text\r\n",
        "oea.land(data, 'graph_api/v1.0/meeting_attendance_report', 'report020_hed_test_data.json', oea.ADDITIVE_BATCH_DATA, currentDateTime)\r\n",
        "data = requests.get('https://raw.githubusercontent.com/microsoft/OpenEduAnalytics/main/modules/module_catalog/Microsoft_Graph/test_data/hed_test_data/Meeting_Attendance_Report/1D636A19738249C59B08BB8D41E240F9_26_7.json').text\r\n",
        "oea.land(data, 'graph_api/v1.0/meeting_attendance_report', 'report021_hed_test_data.json', oea.ADDITIVE_BATCH_DATA, currentDateTime)\r\n",
        "data = requests.get('https://raw.githubusercontent.com/microsoft/OpenEduAnalytics/main/modules/module_catalog/Microsoft_Graph/test_data/hed_test_data/Meeting_Attendance_Report/21A2ECF0DA464984BAA8056F9257AC03_24_13.json').text\r\n",
        "oea.land(data, 'graph_api/v1.0/meeting_attendance_report', 'report022_hed_test_data.json', oea.ADDITIVE_BATCH_DATA, currentDateTime)\r\n",
        "data = requests.get('https://raw.githubusercontent.com/microsoft/OpenEduAnalytics/main/modules/module_catalog/Microsoft_Graph/test_data/hed_test_data/Meeting_Attendance_Report/21A2ECF0DA464984BAA8056F9257AC03_24_9.json').text\r\n",
        "oea.land(data, 'graph_api/v1.0/meeting_attendance_report', 'report023_hed_test_data.json', oea.ADDITIVE_BATCH_DATA, currentDateTime)\r\n",
        "data = requests.get('https://raw.githubusercontent.com/microsoft/OpenEduAnalytics/main/modules/module_catalog/Microsoft_Graph/test_data/hed_test_data/Meeting_Attendance_Report/21A2ECF0DA464984BAA8056F9257AC03_4_12.json').text\r\n",
        "oea.land(data, 'graph_api/v1.0/meeting_attendance_report', 'report024_hed_test_data.json', oea.ADDITIVE_BATCH_DATA, currentDateTime)\r\n",
        "data = requests.get('https://raw.githubusercontent.com/microsoft/OpenEduAnalytics/main/modules/module_catalog/Microsoft_Graph/test_data/hed_test_data/Meeting_Attendance_Report/2234ACFD1FE44510B19607B1D31AD714_10_7.json').text\r\n",
        "oea.land(data, 'graph_api/v1.0/meeting_attendance_report', 'report025_hed_test_data.json', oea.ADDITIVE_BATCH_DATA, currentDateTime)\r\n",
        "data = requests.get('https://raw.githubusercontent.com/microsoft/OpenEduAnalytics/main/modules/module_catalog/Microsoft_Graph/test_data/hed_test_data/Meeting_Attendance_Report/2234ACFD1FE44510B19607B1D31AD714_24_9.json').text\r\n",
        "oea.land(data, 'graph_api/v1.0/meeting_attendance_report', 'report026_hed_test_data.json', oea.ADDITIVE_BATCH_DATA, currentDateTime)\r\n",
        "data = requests.get('https://raw.githubusercontent.com/microsoft/OpenEduAnalytics/main/modules/module_catalog/Microsoft_Graph/test_data/hed_test_data/Meeting_Attendance_Report/2234ACFD1FE44510B19607B1D31AD714_4_7.json').text\r\n",
        "oea.land(data, 'graph_api/v1.0/meeting_attendance_report', 'report027_hed_test_data.json', oea.ADDITIVE_BATCH_DATA, currentDateTime)\r\n",
        "data = requests.get('https://raw.githubusercontent.com/microsoft/OpenEduAnalytics/main/modules/module_catalog/Microsoft_Graph/test_data/hed_test_data/Meeting_Attendance_Report/2481F408C8FF44C99E64CF522F323EEF_11_10.json').text\r\n",
        "oea.land(data, 'graph_api/v1.0/meeting_attendance_report', 'report028_hed_test_data.json', oea.ADDITIVE_BATCH_DATA, currentDateTime)\r\n",
        "data = requests.get('https://raw.githubusercontent.com/microsoft/OpenEduAnalytics/main/modules/module_catalog/Microsoft_Graph/test_data/hed_test_data/Meeting_Attendance_Report/2481F408C8FF44C99E64CF522F323EEF_12_8.json').text\r\n",
        "oea.land(data, 'graph_api/v1.0/meeting_attendance_report', 'report029_hed_test_data.json', oea.ADDITIVE_BATCH_DATA, currentDateTime)\r\n",
        "data = requests.get('https://raw.githubusercontent.com/microsoft/OpenEduAnalytics/main/modules/module_catalog/Microsoft_Graph/test_data/hed_test_data/Meeting_Attendance_Report/2481F408C8FF44C99E64CF522F323EEF_18_9.json').text\r\n",
        "oea.land(data, 'graph_api/v1.0/meeting_attendance_report', 'report030_hed_test_data.json', oea.ADDITIVE_BATCH_DATA, currentDateTime)\r\n",
        "data = requests.get('https://raw.githubusercontent.com/microsoft/OpenEduAnalytics/main/modules/module_catalog/Microsoft_Graph/test_data/hed_test_data/Meeting_Attendance_Report/25E91551DD0F4EB69FA10ABF1CE740B7_11_10.json').text\r\n",
        "oea.land(data, 'graph_api/v1.0/meeting_attendance_report', 'report031_hed_test_data.json', oea.ADDITIVE_BATCH_DATA, currentDateTime)\r\n",
        "data = requests.get('https://raw.githubusercontent.com/microsoft/OpenEduAnalytics/main/modules/module_catalog/Microsoft_Graph/test_data/hed_test_data/Meeting_Attendance_Report/25E91551DD0F4EB69FA10ABF1CE740B7_21_11.json').text\r\n",
        "oea.land(data, 'graph_api/v1.0/meeting_attendance_report', 'report032_hed_test_data.json', oea.ADDITIVE_BATCH_DATA, currentDateTime)\r\n",
        "data = requests.get('https://raw.githubusercontent.com/microsoft/OpenEduAnalytics/main/modules/module_catalog/Microsoft_Graph/test_data/hed_test_data/Meeting_Attendance_Report/25E91551DD0F4EB69FA10ABF1CE740B7_25_11.json').text\r\n",
        "oea.land(data, 'graph_api/v1.0/meeting_attendance_report', 'report033_hed_test_data.json', oea.ADDITIVE_BATCH_DATA, currentDateTime)\r\n",
        "data = requests.get('https://raw.githubusercontent.com/microsoft/OpenEduAnalytics/main/modules/module_catalog/Microsoft_Graph/test_data/hed_test_data/Meeting_Attendance_Report/2A16BC7D7F0D4B90822FEB162FFFA3BF_11_16.json').text\r\n",
        "oea.land(data, 'graph_api/v1.0/meeting_attendance_report', 'report034_hed_test_data.json', oea.ADDITIVE_BATCH_DATA, currentDateTime)\r\n",
        "data = requests.get('https://raw.githubusercontent.com/microsoft/OpenEduAnalytics/main/modules/module_catalog/Microsoft_Graph/test_data/hed_test_data/Meeting_Attendance_Report/2A16BC7D7F0D4B90822FEB162FFFA3BF_13_13.json').text\r\n",
        "oea.land(data, 'graph_api/v1.0/meeting_attendance_report', 'report035_hed_test_data.json', oea.ADDITIVE_BATCH_DATA, currentDateTime)\r\n",
        "data = requests.get('https://raw.githubusercontent.com/microsoft/OpenEduAnalytics/main/modules/module_catalog/Microsoft_Graph/test_data/hed_test_data/Meeting_Attendance_Report/2A16BC7D7F0D4B90822FEB162FFFA3BF_20_13.json').text\r\n",
        "oea.land(data, 'graph_api/v1.0/meeting_attendance_report', 'report036_hed_test_data.json', oea.ADDITIVE_BATCH_DATA, currentDateTime)\r\n",
        "data = requests.get('https://raw.githubusercontent.com/microsoft/OpenEduAnalytics/main/modules/module_catalog/Microsoft_Graph/test_data/hed_test_data/Meeting_Attendance_Report/346617E5E8AD4C5C96A345B428660558_18_12.json').text\r\n",
        "oea.land(data, 'graph_api/v1.0/meeting_attendance_report', 'report037_hed_test_data.json', oea.ADDITIVE_BATCH_DATA, currentDateTime)\r\n",
        "data = requests.get('https://raw.githubusercontent.com/microsoft/OpenEduAnalytics/main/modules/module_catalog/Microsoft_Graph/test_data/hed_test_data/Meeting_Attendance_Report/346617E5E8AD4C5C96A345B428660558_21_12.json').text\r\n",
        "oea.land(data, 'graph_api/v1.0/meeting_attendance_report', 'report038_hed_test_data.json', oea.ADDITIVE_BATCH_DATA, currentDateTime)\r\n",
        "data = requests.get('https://raw.githubusercontent.com/microsoft/OpenEduAnalytics/main/modules/module_catalog/Microsoft_Graph/test_data/hed_test_data/Meeting_Attendance_Report/346617E5E8AD4C5C96A345B428660558_25_10.json').text\r\n",
        "oea.land(data, 'graph_api/v1.0/meeting_attendance_report', 'report039_hed_test_data.json', oea.ADDITIVE_BATCH_DATA, currentDateTime)\r\n",
        "data = requests.get('https://raw.githubusercontent.com/microsoft/OpenEduAnalytics/main/modules/module_catalog/Microsoft_Graph/test_data/hed_test_data/Meeting_Attendance_Report/3B4BBA143AF041839B597DFA97CA93C5_11_15.json').text\r\n",
        "oea.land(data, 'graph_api/v1.0/meeting_attendance_report', 'report040_hed_test_data.json', oea.ADDITIVE_BATCH_DATA, currentDateTime)\r\n",
        "data = requests.get('https://raw.githubusercontent.com/microsoft/OpenEduAnalytics/main/modules/module_catalog/Microsoft_Graph/test_data/hed_test_data/Meeting_Attendance_Report/3B4BBA143AF041839B597DFA97CA93C5_18_9.json').text\r\n",
        "oea.land(data, 'graph_api/v1.0/meeting_attendance_report', 'report041_hed_test_data.json', oea.ADDITIVE_BATCH_DATA, currentDateTime)\r\n",
        "data = requests.get('https://raw.githubusercontent.com/microsoft/OpenEduAnalytics/main/modules/module_catalog/Microsoft_Graph/test_data/hed_test_data/Meeting_Attendance_Report/3B4BBA143AF041839B597DFA97CA93C5_3_13.json').text\r\n",
        "oea.land(data, 'graph_api/v1.0/meeting_attendance_report', 'report042_hed_test_data.json', oea.ADDITIVE_BATCH_DATA, currentDateTime)\r\n",
        "data = requests.get('https://raw.githubusercontent.com/microsoft/OpenEduAnalytics/main/modules/module_catalog/Microsoft_Graph/test_data/hed_test_data/Meeting_Attendance_Report/3BA7BDD4577C4974A1D46F51E9EA2831_21_10.json').text\r\n",
        "oea.land(data, 'graph_api/v1.0/meeting_attendance_report', 'report043_hed_test_data.json', oea.ADDITIVE_BATCH_DATA, currentDateTime)\r\n",
        "data = requests.get('https://raw.githubusercontent.com/microsoft/OpenEduAnalytics/main/modules/module_catalog/Microsoft_Graph/test_data/hed_test_data/Meeting_Attendance_Report/3BA7BDD4577C4974A1D46F51E9EA2831_25_13.json').text\r\n",
        "oea.land(data, 'graph_api/v1.0/meeting_attendance_report', 'report044_hed_test_data.json', oea.ADDITIVE_BATCH_DATA, currentDateTime)\r\n",
        "data = requests.get('https://raw.githubusercontent.com/microsoft/OpenEduAnalytics/main/modules/module_catalog/Microsoft_Graph/test_data/hed_test_data/Meeting_Attendance_Report/3BA7BDD4577C4974A1D46F51E9EA2831_4_12.json').text\r\n",
        "oea.land(data, 'graph_api/v1.0/meeting_attendance_report', 'report045_hed_test_data.json', oea.ADDITIVE_BATCH_DATA, currentDateTime)\r\n",
        "data = requests.get('https://raw.githubusercontent.com/microsoft/OpenEduAnalytics/main/modules/module_catalog/Microsoft_Graph/test_data/hed_test_data/Meeting_Attendance_Report/3C0DCC5113564086A3726ADA0D329E71_10_8.json').text\r\n",
        "oea.land(data, 'graph_api/v1.0/meeting_attendance_report', 'report046_hed_test_data.json', oea.ADDITIVE_BATCH_DATA, currentDateTime)\r\n",
        "data = requests.get('https://raw.githubusercontent.com/microsoft/OpenEduAnalytics/main/modules/module_catalog/Microsoft_Graph/test_data/hed_test_data/Meeting_Attendance_Report/3C0DCC5113564086A3726ADA0D329E71_12_15.json').text\r\n",
        "oea.land(data, 'graph_api/v1.0/meeting_attendance_report', 'report047_hed_test_data.json', oea.ADDITIVE_BATCH_DATA, currentDateTime)\r\n",
        "data = requests.get('https://raw.githubusercontent.com/microsoft/OpenEduAnalytics/main/modules/module_catalog/Microsoft_Graph/test_data/hed_test_data/Meeting_Attendance_Report/3C0DCC5113564086A3726ADA0D329E71_4_13.json').text\r\n",
        "oea.land(data, 'graph_api/v1.0/meeting_attendance_report', 'report048_hed_test_data.json', oea.ADDITIVE_BATCH_DATA, currentDateTime)\r\n",
        "data = requests.get('https://raw.githubusercontent.com/microsoft/OpenEduAnalytics/main/modules/module_catalog/Microsoft_Graph/test_data/hed_test_data/Meeting_Attendance_Report/3C97C00264E84D34BC36231432D26D08_11_12.json').text\r\n",
        "oea.land(data, 'graph_api/v1.0/meeting_attendance_report', 'report049_hed_test_data.json', oea.ADDITIVE_BATCH_DATA, currentDateTime)\r\n",
        "data = requests.get('https://raw.githubusercontent.com/microsoft/OpenEduAnalytics/main/modules/module_catalog/Microsoft_Graph/test_data/hed_test_data/Meeting_Attendance_Report/3C97C00264E84D34BC36231432D26D08_24_9.json').text\r\n",
        "oea.land(data, 'graph_api/v1.0/meeting_attendance_report', 'report050_hed_test_data.json', oea.ADDITIVE_BATCH_DATA, currentDateTime)\r\n",
        "data = requests.get('https://raw.githubusercontent.com/microsoft/OpenEduAnalytics/main/modules/module_catalog/Microsoft_Graph/test_data/hed_test_data/Meeting_Attendance_Report/3C97C00264E84D34BC36231432D26D08_3_10.json').text\r\n",
        "oea.land(data, 'graph_api/v1.0/meeting_attendance_report', 'report051_hed_test_data.json', oea.ADDITIVE_BATCH_DATA, currentDateTime)\r\n",
        "data = requests.get('https://raw.githubusercontent.com/microsoft/OpenEduAnalytics/main/modules/module_catalog/Microsoft_Graph/test_data/hed_test_data/Meeting_Attendance_Report/3CFE40C9DD8246F1A6E574AA0CB2DC93_11_9.json').text\r\n",
        "oea.land(data, 'graph_api/v1.0/meeting_attendance_report', 'report052_hed_test_data.json', oea.ADDITIVE_BATCH_DATA, currentDateTime)\r\n",
        "data = requests.get('https://raw.githubusercontent.com/microsoft/OpenEduAnalytics/main/modules/module_catalog/Microsoft_Graph/test_data/hed_test_data/Meeting_Attendance_Report/3CFE40C9DD8246F1A6E574AA0CB2DC93_27_7.json').text\r\n",
        "oea.land(data, 'graph_api/v1.0/meeting_attendance_report', 'report053_hed_test_data.json', oea.ADDITIVE_BATCH_DATA, currentDateTime)\r\n",
        "data = requests.get('https://raw.githubusercontent.com/microsoft/OpenEduAnalytics/main/modules/module_catalog/Microsoft_Graph/test_data/hed_test_data/Meeting_Attendance_Report/3CFE40C9DD8246F1A6E574AA0CB2DC93_5_13.json').text\r\n",
        "oea.land(data, 'graph_api/v1.0/meeting_attendance_report', 'report054_hed_test_data.json', oea.ADDITIVE_BATCH_DATA, currentDateTime)\r\n",
        "data = requests.get('https://raw.githubusercontent.com/microsoft/OpenEduAnalytics/main/modules/module_catalog/Microsoft_Graph/test_data/hed_test_data/Meeting_Attendance_Report/3DC76BEF0A674B14A3416A751E6614AD_19_7.json').text\r\n",
        "oea.land(data, 'graph_api/v1.0/meeting_attendance_report', 'report055_hed_test_data.json', oea.ADDITIVE_BATCH_DATA, currentDateTime)\r\n",
        "data = requests.get('https://raw.githubusercontent.com/microsoft/OpenEduAnalytics/main/modules/module_catalog/Microsoft_Graph/test_data/hed_test_data/Meeting_Attendance_Report/3DC76BEF0A674B14A3416A751E6614AD_21_15.json').text\r\n",
        "oea.land(data, 'graph_api/v1.0/meeting_attendance_report', 'report056_hed_test_data.json', oea.ADDITIVE_BATCH_DATA, currentDateTime)\r\n",
        "data = requests.get('https://raw.githubusercontent.com/microsoft/OpenEduAnalytics/main/modules/module_catalog/Microsoft_Graph/test_data/hed_test_data/Meeting_Attendance_Report/3DC76BEF0A674B14A3416A751E6614AD_26_9.json').text\r\n",
        "oea.land(data, 'graph_api/v1.0/meeting_attendance_report', 'report057_hed_test_data.json', oea.ADDITIVE_BATCH_DATA, currentDateTime)\r\n",
        "data = requests.get('https://raw.githubusercontent.com/microsoft/OpenEduAnalytics/main/modules/module_catalog/Microsoft_Graph/test_data/hed_test_data/Meeting_Attendance_Report/4334F5A95C144FFF898B7721C0DCCFF6_11_15.json').text\r\n",
        "oea.land(data, 'graph_api/v1.0/meeting_attendance_report', 'report058_hed_test_data.json', oea.ADDITIVE_BATCH_DATA, currentDateTime)\r\n",
        "data = requests.get('https://raw.githubusercontent.com/microsoft/OpenEduAnalytics/main/modules/module_catalog/Microsoft_Graph/test_data/hed_test_data/Meeting_Attendance_Report/4334F5A95C144FFF898B7721C0DCCFF6_11_7.json').text\r\n",
        "oea.land(data, 'graph_api/v1.0/meeting_attendance_report', 'report059_hed_test_data.json', oea.ADDITIVE_BATCH_DATA, currentDateTime)\r\n",
        "data = requests.get('https://raw.githubusercontent.com/microsoft/OpenEduAnalytics/main/modules/module_catalog/Microsoft_Graph/test_data/hed_test_data/Meeting_Attendance_Report/4334F5A95C144FFF898B7721C0DCCFF6_18_8.json').text\r\n",
        "oea.land(data, 'graph_api/v1.0/meeting_attendance_report', 'report060_hed_test_data.json', oea.ADDITIVE_BATCH_DATA, currentDateTime)\r\n",
        "data = requests.get('https://raw.githubusercontent.com/microsoft/OpenEduAnalytics/main/modules/module_catalog/Microsoft_Graph/test_data/hed_test_data/Meeting_Attendance_Report/4394AC06CD484BCF97BA17DE0076B2A2_19_16.json').text\r\n",
        "oea.land(data, 'graph_api/v1.0/meeting_attendance_report', 'report061_hed_test_data.json', oea.ADDITIVE_BATCH_DATA, currentDateTime)\r\n",
        "data = requests.get('https://raw.githubusercontent.com/microsoft/OpenEduAnalytics/main/modules/module_catalog/Microsoft_Graph/test_data/hed_test_data/Meeting_Attendance_Report/4394AC06CD484BCF97BA17DE0076B2A2_28_10.json').text\r\n",
        "oea.land(data, 'graph_api/v1.0/meeting_attendance_report', 'report062_hed_test_data.json', oea.ADDITIVE_BATCH_DATA, currentDateTime)\r\n",
        "data = requests.get('https://raw.githubusercontent.com/microsoft/OpenEduAnalytics/main/modules/module_catalog/Microsoft_Graph/test_data/hed_test_data/Meeting_Attendance_Report/4394AC06CD484BCF97BA17DE0076B2A2_28_7.json').text\r\n",
        "oea.land(data, 'graph_api/v1.0/meeting_attendance_report', 'report063_hed_test_data.json', oea.ADDITIVE_BATCH_DATA, currentDateTime)\r\n",
        "data = requests.get('https://raw.githubusercontent.com/microsoft/OpenEduAnalytics/main/modules/module_catalog/Microsoft_Graph/test_data/hed_test_data/Meeting_Attendance_Report/445E913608A44FBDA99B8108E1990EB0_13_7.json').text\r\n",
        "oea.land(data, 'graph_api/v1.0/meeting_attendance_report', 'report064_hed_test_data.json', oea.ADDITIVE_BATCH_DATA, currentDateTime)\r\n",
        "data = requests.get('https://raw.githubusercontent.com/microsoft/OpenEduAnalytics/main/modules/module_catalog/Microsoft_Graph/test_data/hed_test_data/Meeting_Attendance_Report/445E913608A44FBDA99B8108E1990EB0_17_9.json').text\r\n",
        "oea.land(data, 'graph_api/v1.0/meeting_attendance_report', 'report065_hed_test_data.json', oea.ADDITIVE_BATCH_DATA, currentDateTime)\r\n",
        "data = requests.get('https://raw.githubusercontent.com/microsoft/OpenEduAnalytics/main/modules/module_catalog/Microsoft_Graph/test_data/hed_test_data/Meeting_Attendance_Report/445E913608A44FBDA99B8108E1990EB0_18_7.json').text\r\n",
        "oea.land(data, 'graph_api/v1.0/meeting_attendance_report', 'report066_hed_test_data.json', oea.ADDITIVE_BATCH_DATA, currentDateTime)\r\n",
        "data = requests.get('https://raw.githubusercontent.com/microsoft/OpenEduAnalytics/main/modules/module_catalog/Microsoft_Graph/test_data/hed_test_data/Meeting_Attendance_Report/4659EDDC864346B9BE42E52321A14D3F_11_13.json').text\r\n",
        "oea.land(data, 'graph_api/v1.0/meeting_attendance_report', 'report067_hed_test_data.json', oea.ADDITIVE_BATCH_DATA, currentDateTime)\r\n",
        "data = requests.get('https://raw.githubusercontent.com/microsoft/OpenEduAnalytics/main/modules/module_catalog/Microsoft_Graph/test_data/hed_test_data/Meeting_Attendance_Report/4659EDDC864346B9BE42E52321A14D3F_14_12.json').text\r\n",
        "oea.land(data, 'graph_api/v1.0/meeting_attendance_report', 'report068_hed_test_data.json', oea.ADDITIVE_BATCH_DATA, currentDateTime)\r\n",
        "data = requests.get('https://raw.githubusercontent.com/microsoft/OpenEduAnalytics/main/modules/module_catalog/Microsoft_Graph/test_data/hed_test_data/Meeting_Attendance_Report/4659EDDC864346B9BE42E52321A14D3F_7_10.json').text\r\n",
        "oea.land(data, 'graph_api/v1.0/meeting_attendance_report', 'report069_hed_test_data.json', oea.ADDITIVE_BATCH_DATA, currentDateTime)\r\n",
        "data = requests.get('https://raw.githubusercontent.com/microsoft/OpenEduAnalytics/main/modules/module_catalog/Microsoft_Graph/test_data/hed_test_data/Meeting_Attendance_Report/49589E18A4734BB182FEFE0F8B8D6962_21_11.json').text\r\n",
        "oea.land(data, 'graph_api/v1.0/meeting_attendance_report', 'report070_hed_test_data.json', oea.ADDITIVE_BATCH_DATA, currentDateTime)\r\n",
        "data = requests.get('https://raw.githubusercontent.com/microsoft/OpenEduAnalytics/main/modules/module_catalog/Microsoft_Graph/test_data/hed_test_data/Meeting_Attendance_Report/49589E18A4734BB182FEFE0F8B8D6962_3_14.json').text\r\n",
        "oea.land(data, 'graph_api/v1.0/meeting_attendance_report', 'report071_hed_test_data.json', oea.ADDITIVE_BATCH_DATA, currentDateTime)\r\n",
        "data = requests.get('https://raw.githubusercontent.com/microsoft/OpenEduAnalytics/main/modules/module_catalog/Microsoft_Graph/test_data/hed_test_data/Meeting_Attendance_Report/49589E18A4734BB182FEFE0F8B8D6962_6_12.json').text\r\n",
        "oea.land(data, 'graph_api/v1.0/meeting_attendance_report', 'report072_hed_test_data.json', oea.ADDITIVE_BATCH_DATA, currentDateTime)\r\n",
        "data = requests.get('https://raw.githubusercontent.com/microsoft/OpenEduAnalytics/main/modules/module_catalog/Microsoft_Graph/test_data/hed_test_data/Meeting_Attendance_Report/49A1942FADD6402DB745870761477CAF_10_9.json').text\r\n",
        "oea.land(data, 'graph_api/v1.0/meeting_attendance_report', 'report073_hed_test_data.json', oea.ADDITIVE_BATCH_DATA, currentDateTime)\r\n",
        "data = requests.get('https://raw.githubusercontent.com/microsoft/OpenEduAnalytics/main/modules/module_catalog/Microsoft_Graph/test_data/hed_test_data/Meeting_Attendance_Report/49A1942FADD6402DB745870761477CAF_14_12.json').text\r\n",
        "oea.land(data, 'graph_api/v1.0/meeting_attendance_report', 'report074_hed_test_data.json', oea.ADDITIVE_BATCH_DATA, currentDateTime)\r\n",
        "data = requests.get('https://raw.githubusercontent.com/microsoft/OpenEduAnalytics/main/modules/module_catalog/Microsoft_Graph/test_data/hed_test_data/Meeting_Attendance_Report/49A1942FADD6402DB745870761477CAF_19_10.json').text\r\n",
        "oea.land(data, 'graph_api/v1.0/meeting_attendance_report', 'report075_hed_test_data.json', oea.ADDITIVE_BATCH_DATA, currentDateTime)\r\n",
        "data = requests.get('https://raw.githubusercontent.com/microsoft/OpenEduAnalytics/main/modules/module_catalog/Microsoft_Graph/test_data/hed_test_data/Meeting_Attendance_Report/508D26EBA720459FB44FA6C910832522_18_9.json').text\r\n",
        "oea.land(data, 'graph_api/v1.0/meeting_attendance_report', 'report076_hed_test_data.json', oea.ADDITIVE_BATCH_DATA, currentDateTime)\r\n",
        "data = requests.get('https://raw.githubusercontent.com/microsoft/OpenEduAnalytics/main/modules/module_catalog/Microsoft_Graph/test_data/hed_test_data/Meeting_Attendance_Report/508D26EBA720459FB44FA6C910832522_28_13.json').text\r\n",
        "oea.land(data, 'graph_api/v1.0/meeting_attendance_report', 'report077_hed_test_data.json', oea.ADDITIVE_BATCH_DATA, currentDateTime)\r\n",
        "data = requests.get('https://raw.githubusercontent.com/microsoft/OpenEduAnalytics/main/modules/module_catalog/Microsoft_Graph/test_data/hed_test_data/Meeting_Attendance_Report/508D26EBA720459FB44FA6C910832522_6_7.json').text\r\n",
        "oea.land(data, 'graph_api/v1.0/meeting_attendance_report', 'report078_hed_test_data.json', oea.ADDITIVE_BATCH_DATA, currentDateTime)\r\n",
        "data = requests.get('https://raw.githubusercontent.com/microsoft/OpenEduAnalytics/main/modules/module_catalog/Microsoft_Graph/test_data/hed_test_data/Meeting_Attendance_Report/518053972F9E417990607B6F95279906_11_11.json').text\r\n",
        "oea.land(data, 'graph_api/v1.0/meeting_attendance_report', 'report079_hed_test_data.json', oea.ADDITIVE_BATCH_DATA, currentDateTime)\r\n",
        "data = requests.get('https://raw.githubusercontent.com/microsoft/OpenEduAnalytics/main/modules/module_catalog/Microsoft_Graph/test_data/hed_test_data/Meeting_Attendance_Report/518053972F9E417990607B6F95279906_14_11.json').text\r\n",
        "oea.land(data, 'graph_api/v1.0/meeting_attendance_report', 'report080_hed_test_data.json', oea.ADDITIVE_BATCH_DATA, currentDateTime)\r\n",
        "data = requests.get('https://raw.githubusercontent.com/microsoft/OpenEduAnalytics/main/modules/module_catalog/Microsoft_Graph/test_data/hed_test_data/Meeting_Attendance_Report/518053972F9E417990607B6F95279906_17_14.json').text\r\n",
        "oea.land(data, 'graph_api/v1.0/meeting_attendance_report', 'report081_hed_test_data.json', oea.ADDITIVE_BATCH_DATA, currentDateTime)\r\n",
        "data = requests.get('https://raw.githubusercontent.com/microsoft/OpenEduAnalytics/main/modules/module_catalog/Microsoft_Graph/test_data/hed_test_data/Meeting_Attendance_Report/525498CDB2494D87A529C129A592BA75_20_14.json').text\r\n",
        "oea.land(data, 'graph_api/v1.0/meeting_attendance_report', 'report082_hed_test_data.json', oea.ADDITIVE_BATCH_DATA, currentDateTime)\r\n",
        "data = requests.get('https://raw.githubusercontent.com/microsoft/OpenEduAnalytics/main/modules/module_catalog/Microsoft_Graph/test_data/hed_test_data/Meeting_Attendance_Report/525498CDB2494D87A529C129A592BA75_24_13.json').text\r\n",
        "oea.land(data, 'graph_api/v1.0/meeting_attendance_report', 'report083_hed_test_data.json', oea.ADDITIVE_BATCH_DATA, currentDateTime)\r\n",
        "data = requests.get('https://raw.githubusercontent.com/microsoft/OpenEduAnalytics/main/modules/module_catalog/Microsoft_Graph/test_data/hed_test_data/Meeting_Attendance_Report/525498CDB2494D87A529C129A592BA75_3_13.json').text\r\n",
        "oea.land(data, 'graph_api/v1.0/meeting_attendance_report', 'report084_hed_test_data.json', oea.ADDITIVE_BATCH_DATA, currentDateTime)\r\n",
        "data = requests.get('https://raw.githubusercontent.com/microsoft/OpenEduAnalytics/main/modules/module_catalog/Microsoft_Graph/test_data/hed_test_data/Meeting_Attendance_Report/53114219F05E4AAC877219B6D7181E7A_21_11.json').text\r\n",
        "oea.land(data, 'graph_api/v1.0/meeting_attendance_report', 'report085_hed_test_data.json', oea.ADDITIVE_BATCH_DATA, currentDateTime)\r\n",
        "data = requests.get('https://raw.githubusercontent.com/microsoft/OpenEduAnalytics/main/modules/module_catalog/Microsoft_Graph/test_data/hed_test_data/Meeting_Attendance_Report/53114219F05E4AAC877219B6D7181E7A_26_16.json').text\r\n",
        "oea.land(data, 'graph_api/v1.0/meeting_attendance_report', 'report086_hed_test_data.json', oea.ADDITIVE_BATCH_DATA, currentDateTime)\r\n",
        "data = requests.get('https://raw.githubusercontent.com/microsoft/OpenEduAnalytics/main/modules/module_catalog/Microsoft_Graph/test_data/hed_test_data/Meeting_Attendance_Report/53114219F05E4AAC877219B6D7181E7A_4_9.json').text\r\n",
        "oea.land(data, 'graph_api/v1.0/meeting_attendance_report', 'report087_hed_test_data.json', oea.ADDITIVE_BATCH_DATA, currentDateTime)\r\n",
        "data = requests.get('https://raw.githubusercontent.com/microsoft/OpenEduAnalytics/main/modules/module_catalog/Microsoft_Graph/test_data/hed_test_data/Meeting_Attendance_Report/57A93AA78A6F492287C15F30F238BE1D_11_10.json').text\r\n",
        "oea.land(data, 'graph_api/v1.0/meeting_attendance_report', 'report088_hed_test_data.json', oea.ADDITIVE_BATCH_DATA, currentDateTime)\r\n",
        "data = requests.get('https://raw.githubusercontent.com/microsoft/OpenEduAnalytics/main/modules/module_catalog/Microsoft_Graph/test_data/hed_test_data/Meeting_Attendance_Report/57A93AA78A6F492287C15F30F238BE1D_3_14.json').text\r\n",
        "oea.land(data, 'graph_api/v1.0/meeting_attendance_report', 'report089_hed_test_data.json', oea.ADDITIVE_BATCH_DATA, currentDateTime)\r\n",
        "data = requests.get('https://raw.githubusercontent.com/microsoft/OpenEduAnalytics/main/modules/module_catalog/Microsoft_Graph/test_data/hed_test_data/Meeting_Attendance_Report/57A93AA78A6F492287C15F30F238BE1D_5_16.json').text\r\n",
        "oea.land(data, 'graph_api/v1.0/meeting_attendance_report', 'report090_hed_test_data.json', oea.ADDITIVE_BATCH_DATA, currentDateTime)\r\n",
        "data = requests.get('https://raw.githubusercontent.com/microsoft/OpenEduAnalytics/main/modules/module_catalog/Microsoft_Graph/test_data/hed_test_data/Meeting_Attendance_Report/5D129FA96C454B0387237E799D1EEF12_28_10.json').text\r\n",
        "oea.land(data, 'graph_api/v1.0/meeting_attendance_report', 'report091_hed_test_data.json', oea.ADDITIVE_BATCH_DATA, currentDateTime)\r\n",
        "data = requests.get('https://raw.githubusercontent.com/microsoft/OpenEduAnalytics/main/modules/module_catalog/Microsoft_Graph/test_data/hed_test_data/Meeting_Attendance_Report/5D129FA96C454B0387237E799D1EEF12_28_8.json').text\r\n",
        "oea.land(data, 'graph_api/v1.0/meeting_attendance_report', 'report092_hed_test_data.json', oea.ADDITIVE_BATCH_DATA, currentDateTime)\r\n",
        "data = requests.get('https://raw.githubusercontent.com/microsoft/OpenEduAnalytics/main/modules/module_catalog/Microsoft_Graph/test_data/hed_test_data/Meeting_Attendance_Report/5D129FA96C454B0387237E799D1EEF12_5_8.json').text\r\n",
        "oea.land(data, 'graph_api/v1.0/meeting_attendance_report', 'report093_hed_test_data.json', oea.ADDITIVE_BATCH_DATA, currentDateTime)\r\n",
        "data = requests.get('https://raw.githubusercontent.com/microsoft/OpenEduAnalytics/main/modules/module_catalog/Microsoft_Graph/test_data/hed_test_data/Meeting_Attendance_Report/5EECBA2B274847679615AEC649EFA200_27_15.json').text\r\n",
        "oea.land(data, 'graph_api/v1.0/meeting_attendance_report', 'report094_hed_test_data.json', oea.ADDITIVE_BATCH_DATA, currentDateTime)\r\n",
        "data = requests.get('https://raw.githubusercontent.com/microsoft/OpenEduAnalytics/main/modules/module_catalog/Microsoft_Graph/test_data/hed_test_data/Meeting_Attendance_Report/5EECBA2B274847679615AEC649EFA200_28_13.json').text\r\n",
        "oea.land(data, 'graph_api/v1.0/meeting_attendance_report', 'report095_hed_test_data.json', oea.ADDITIVE_BATCH_DATA, currentDateTime)\r\n",
        "data = requests.get('https://raw.githubusercontent.com/microsoft/OpenEduAnalytics/main/modules/module_catalog/Microsoft_Graph/test_data/hed_test_data/Meeting_Attendance_Report/5EECBA2B274847679615AEC649EFA200_5_11.json').text\r\n",
        "oea.land(data, 'graph_api/v1.0/meeting_attendance_report', 'report096_hed_test_data.json', oea.ADDITIVE_BATCH_DATA, currentDateTime)\r\n",
        "data = requests.get('https://raw.githubusercontent.com/microsoft/OpenEduAnalytics/main/modules/module_catalog/Microsoft_Graph/test_data/hed_test_data/Meeting_Attendance_Report/66D505FBFEC5477684B7DFE66323C8CB_25_9.json').text\r\n",
        "oea.land(data, 'graph_api/v1.0/meeting_attendance_report', 'report097_hed_test_data.json', oea.ADDITIVE_BATCH_DATA, currentDateTime)\r\n",
        "data = requests.get('https://raw.githubusercontent.com/microsoft/OpenEduAnalytics/main/modules/module_catalog/Microsoft_Graph/test_data/hed_test_data/Meeting_Attendance_Report/66D505FBFEC5477684B7DFE66323C8CB_4_8.json').text\r\n",
        "oea.land(data, 'graph_api/v1.0/meeting_attendance_report', 'report098_hed_test_data.json', oea.ADDITIVE_BATCH_DATA, currentDateTime)\r\n",
        "data = requests.get('https://raw.githubusercontent.com/microsoft/OpenEduAnalytics/main/modules/module_catalog/Microsoft_Graph/test_data/hed_test_data/Meeting_Attendance_Report/66D505FBFEC5477684B7DFE66323C8CB_7_14.json').text\r\n",
        "oea.land(data, 'graph_api/v1.0/meeting_attendance_report', 'report099_hed_test_data.json', oea.ADDITIVE_BATCH_DATA, currentDateTime)\r\n",
        "data = requests.get('https://raw.githubusercontent.com/microsoft/OpenEduAnalytics/main/modules/module_catalog/Microsoft_Graph/test_data/hed_test_data/Meeting_Attendance_Report/66EF3D922B054714AA9060ECFA1E50D0_12_12.json').text\r\n",
        "oea.land(data, 'graph_api/v1.0/meeting_attendance_report', 'report100_hed_test_data.json', oea.ADDITIVE_BATCH_DATA, currentDateTime)\r\n",
        "data = requests.get('https://raw.githubusercontent.com/microsoft/OpenEduAnalytics/main/modules/module_catalog/Microsoft_Graph/test_data/hed_test_data/Meeting_Attendance_Report/66EF3D922B054714AA9060ECFA1E50D0_14_15.json').text\r\n",
        "oea.land(data, 'graph_api/v1.0/meeting_attendance_report', 'report101_hed_test_data.json', oea.ADDITIVE_BATCH_DATA, currentDateTime)\r\n",
        "data = requests.get('https://raw.githubusercontent.com/microsoft/OpenEduAnalytics/main/modules/module_catalog/Microsoft_Graph/test_data/hed_test_data/Meeting_Attendance_Report/66EF3D922B054714AA9060ECFA1E50D0_7_11.json').text\r\n",
        "oea.land(data, 'graph_api/v1.0/meeting_attendance_report', 'report102_hed_test_data.json', oea.ADDITIVE_BATCH_DATA, currentDateTime)\r\n",
        "data = requests.get('https://raw.githubusercontent.com/microsoft/OpenEduAnalytics/main/modules/module_catalog/Microsoft_Graph/test_data/hed_test_data/Meeting_Attendance_Report/69F85F73C3104AFE9E0427C808E3D2CD_20_8.json').text\r\n",
        "oea.land(data, 'graph_api/v1.0/meeting_attendance_report', 'report103_hed_test_data.json', oea.ADDITIVE_BATCH_DATA, currentDateTime)\r\n",
        "data = requests.get('https://raw.githubusercontent.com/microsoft/OpenEduAnalytics/main/modules/module_catalog/Microsoft_Graph/test_data/hed_test_data/Meeting_Attendance_Report/69F85F73C3104AFE9E0427C808E3D2CD_25_7.json').text\r\n",
        "oea.land(data, 'graph_api/v1.0/meeting_attendance_report', 'report104_hed_test_data.json', oea.ADDITIVE_BATCH_DATA, currentDateTime)\r\n",
        "data = requests.get('https://raw.githubusercontent.com/microsoft/OpenEduAnalytics/main/modules/module_catalog/Microsoft_Graph/test_data/hed_test_data/Meeting_Attendance_Report/69F85F73C3104AFE9E0427C808E3D2CD_5_16.json').text\r\n",
        "oea.land(data, 'graph_api/v1.0/meeting_attendance_report', 'report105_hed_test_data.json', oea.ADDITIVE_BATCH_DATA, currentDateTime)\r\n",
        "data = requests.get('https://raw.githubusercontent.com/microsoft/OpenEduAnalytics/main/modules/module_catalog/Microsoft_Graph/test_data/hed_test_data/Meeting_Attendance_Report/6B2F0FEF9F38494FB10B3F1AB1FB0210_18_10.json').text\r\n",
        "oea.land(data, 'graph_api/v1.0/meeting_attendance_report', 'report106_hed_test_data.json', oea.ADDITIVE_BATCH_DATA, currentDateTime)\r\n",
        "data = requests.get('https://raw.githubusercontent.com/microsoft/OpenEduAnalytics/main/modules/module_catalog/Microsoft_Graph/test_data/hed_test_data/Meeting_Attendance_Report/6B2F0FEF9F38494FB10B3F1AB1FB0210_4_13.json').text\r\n",
        "oea.land(data, 'graph_api/v1.0/meeting_attendance_report', 'report107_hed_test_data.json', oea.ADDITIVE_BATCH_DATA, currentDateTime)\r\n",
        "data = requests.get('https://raw.githubusercontent.com/microsoft/OpenEduAnalytics/main/modules/module_catalog/Microsoft_Graph/test_data/hed_test_data/Meeting_Attendance_Report/6B2F0FEF9F38494FB10B3F1AB1FB0210_7_10.json').text\r\n",
        "oea.land(data, 'graph_api/v1.0/meeting_attendance_report', 'report108_hed_test_data.json', oea.ADDITIVE_BATCH_DATA, currentDateTime)\r\n",
        "data = requests.get('https://raw.githubusercontent.com/microsoft/OpenEduAnalytics/main/modules/module_catalog/Microsoft_Graph/test_data/hed_test_data/Meeting_Attendance_Report/6F6FBD3F724F4CB8AE2F090B37BB729A_24_10.json').text\r\n",
        "oea.land(data, 'graph_api/v1.0/meeting_attendance_report', 'report109_hed_test_data.json', oea.ADDITIVE_BATCH_DATA, currentDateTime)\r\n",
        "data = requests.get('https://raw.githubusercontent.com/microsoft/OpenEduAnalytics/main/modules/module_catalog/Microsoft_Graph/test_data/hed_test_data/Meeting_Attendance_Report/6F6FBD3F724F4CB8AE2F090B37BB729A_27_8.json').text\r\n",
        "oea.land(data, 'graph_api/v1.0/meeting_attendance_report', 'report110_hed_test_data.json', oea.ADDITIVE_BATCH_DATA, currentDateTime)\r\n",
        "data = requests.get('https://raw.githubusercontent.com/microsoft/OpenEduAnalytics/main/modules/module_catalog/Microsoft_Graph/test_data/hed_test_data/Meeting_Attendance_Report/6F6FBD3F724F4CB8AE2F090B37BB729A_7_16.json').text\r\n",
        "oea.land(data, 'graph_api/v1.0/meeting_attendance_report', 'report111_hed_test_data.json', oea.ADDITIVE_BATCH_DATA, currentDateTime)\r\n",
        "data = requests.get('https://raw.githubusercontent.com/microsoft/OpenEduAnalytics/main/modules/module_catalog/Microsoft_Graph/test_data/hed_test_data/Meeting_Attendance_Report/7307533D0C4143469F22436EF53FDD00_17_15.json').text\r\n",
        "oea.land(data, 'graph_api/v1.0/meeting_attendance_report', 'report112_hed_test_data.json', oea.ADDITIVE_BATCH_DATA, currentDateTime)\r\n",
        "data = requests.get('https://raw.githubusercontent.com/microsoft/OpenEduAnalytics/main/modules/module_catalog/Microsoft_Graph/test_data/hed_test_data/Meeting_Attendance_Report/7307533D0C4143469F22436EF53FDD00_3_13.json').text\r\n",
        "oea.land(data, 'graph_api/v1.0/meeting_attendance_report', 'report113_hed_test_data.json', oea.ADDITIVE_BATCH_DATA, currentDateTime)\r\n",
        "data = requests.get('https://raw.githubusercontent.com/microsoft/OpenEduAnalytics/main/modules/module_catalog/Microsoft_Graph/test_data/hed_test_data/Meeting_Attendance_Report/7307533D0C4143469F22436EF53FDD00_3_9.json').text\r\n",
        "oea.land(data, 'graph_api/v1.0/meeting_attendance_report', 'report114_hed_test_data.json', oea.ADDITIVE_BATCH_DATA, currentDateTime)\r\n",
        "data = requests.get('https://raw.githubusercontent.com/microsoft/OpenEduAnalytics/main/modules/module_catalog/Microsoft_Graph/test_data/hed_test_data/Meeting_Attendance_Report/7510AF2BAFE14181BE9ED11FBBE569AB_17_15.json').text\r\n",
        "oea.land(data, 'graph_api/v1.0/meeting_attendance_report', 'report115_hed_test_data.json', oea.ADDITIVE_BATCH_DATA, currentDateTime)\r\n",
        "data = requests.get('https://raw.githubusercontent.com/microsoft/OpenEduAnalytics/main/modules/module_catalog/Microsoft_Graph/test_data/hed_test_data/Meeting_Attendance_Report/7510AF2BAFE14181BE9ED11FBBE569AB_24_8.json').text\r\n",
        "oea.land(data, 'graph_api/v1.0/meeting_attendance_report', 'report116_hed_test_data.json', oea.ADDITIVE_BATCH_DATA, currentDateTime)\r\n",
        "data = requests.get('https://raw.githubusercontent.com/microsoft/OpenEduAnalytics/main/modules/module_catalog/Microsoft_Graph/test_data/hed_test_data/Meeting_Attendance_Report/7510AF2BAFE14181BE9ED11FBBE569AB_28_12.json').text\r\n",
        "oea.land(data, 'graph_api/v1.0/meeting_attendance_report', 'report117_hed_test_data.json', oea.ADDITIVE_BATCH_DATA, currentDateTime)\r\n",
        "data = requests.get('https://raw.githubusercontent.com/microsoft/OpenEduAnalytics/main/modules/module_catalog/Microsoft_Graph/test_data/hed_test_data/Meeting_Attendance_Report/78E67CD474B7442A8DA5297A09A558D8_17_14.json').text\r\n",
        "oea.land(data, 'graph_api/v1.0/meeting_attendance_report', 'report118_hed_test_data.json', oea.ADDITIVE_BATCH_DATA, currentDateTime)\r\n",
        "data = requests.get('https://raw.githubusercontent.com/microsoft/OpenEduAnalytics/main/modules/module_catalog/Microsoft_Graph/test_data/hed_test_data/Meeting_Attendance_Report/78E67CD474B7442A8DA5297A09A558D8_27_12.json').text\r\n",
        "oea.land(data, 'graph_api/v1.0/meeting_attendance_report', 'report119_hed_test_data.json', oea.ADDITIVE_BATCH_DATA, currentDateTime)\r\n",
        "data = requests.get('https://raw.githubusercontent.com/microsoft/OpenEduAnalytics/main/modules/module_catalog/Microsoft_Graph/test_data/hed_test_data/Meeting_Attendance_Report/78E67CD474B7442A8DA5297A09A558D8_5_9.json').text\r\n",
        "oea.land(data, 'graph_api/v1.0/meeting_attendance_report', 'report120_hed_test_data.json', oea.ADDITIVE_BATCH_DATA, currentDateTime)\r\n",
        "data = requests.get('https://raw.githubusercontent.com/microsoft/OpenEduAnalytics/main/modules/module_catalog/Microsoft_Graph/test_data/hed_test_data/Meeting_Attendance_Report/7D851C14FFA244CF909340AC7863BAC3_28_14.json').text\r\n",
        "oea.land(data, 'graph_api/v1.0/meeting_attendance_report', 'report121_hed_test_data.json', oea.ADDITIVE_BATCH_DATA, currentDateTime)\r\n",
        "data = requests.get('https://raw.githubusercontent.com/microsoft/OpenEduAnalytics/main/modules/module_catalog/Microsoft_Graph/test_data/hed_test_data/Meeting_Attendance_Report/7D851C14FFA244CF909340AC7863BAC3_5_11.json').text\r\n",
        "oea.land(data, 'graph_api/v1.0/meeting_attendance_report', 'report122_hed_test_data.json', oea.ADDITIVE_BATCH_DATA, currentDateTime)\r\n",
        "data = requests.get('https://raw.githubusercontent.com/microsoft/OpenEduAnalytics/main/modules/module_catalog/Microsoft_Graph/test_data/hed_test_data/Meeting_Attendance_Report/7D851C14FFA244CF909340AC7863BAC3_7_9.json').text\r\n",
        "oea.land(data, 'graph_api/v1.0/meeting_attendance_report', 'report123_hed_test_data.json', oea.ADDITIVE_BATCH_DATA, currentDateTime)\r\n",
        "data = requests.get('https://raw.githubusercontent.com/microsoft/OpenEduAnalytics/main/modules/module_catalog/Microsoft_Graph/test_data/hed_test_data/Meeting_Attendance_Report/7EA3285A7DFB4C2389A12D00CE77BDF9_10_8.json').text\r\n",
        "oea.land(data, 'graph_api/v1.0/meeting_attendance_report', 'report124_hed_test_data.json', oea.ADDITIVE_BATCH_DATA, currentDateTime)\r\n",
        "data = requests.get('https://raw.githubusercontent.com/microsoft/OpenEduAnalytics/main/modules/module_catalog/Microsoft_Graph/test_data/hed_test_data/Meeting_Attendance_Report/7EA3285A7DFB4C2389A12D00CE77BDF9_11_7.json').text\r\n",
        "oea.land(data, 'graph_api/v1.0/meeting_attendance_report', 'report125_hed_test_data.json', oea.ADDITIVE_BATCH_DATA, currentDateTime)\r\n",
        "data = requests.get('https://raw.githubusercontent.com/microsoft/OpenEduAnalytics/main/modules/module_catalog/Microsoft_Graph/test_data/hed_test_data/Meeting_Attendance_Report/7EA3285A7DFB4C2389A12D00CE77BDF9_5_10.json').text\r\n",
        "oea.land(data, 'graph_api/v1.0/meeting_attendance_report', 'report126_hed_test_data.json', oea.ADDITIVE_BATCH_DATA, currentDateTime)\r\n",
        "data = requests.get('https://raw.githubusercontent.com/microsoft/OpenEduAnalytics/main/modules/module_catalog/Microsoft_Graph/test_data/hed_test_data/Meeting_Attendance_Report/7F9AE60E119947A587F733734913F561_11_8.json').text\r\n",
        "oea.land(data, 'graph_api/v1.0/meeting_attendance_report', 'report127_hed_test_data.json', oea.ADDITIVE_BATCH_DATA, currentDateTime)\r\n",
        "data = requests.get('https://raw.githubusercontent.com/microsoft/OpenEduAnalytics/main/modules/module_catalog/Microsoft_Graph/test_data/hed_test_data/Meeting_Attendance_Report/7F9AE60E119947A587F733734913F561_12_14.json').text\r\n",
        "oea.land(data, 'graph_api/v1.0/meeting_attendance_report', 'report128_hed_test_data.json', oea.ADDITIVE_BATCH_DATA, currentDateTime)\r\n",
        "data = requests.get('https://raw.githubusercontent.com/microsoft/OpenEduAnalytics/main/modules/module_catalog/Microsoft_Graph/test_data/hed_test_data/Meeting_Attendance_Report/7F9AE60E119947A587F733734913F561_7_9.json').text\r\n",
        "oea.land(data, 'graph_api/v1.0/meeting_attendance_report', 'report129_hed_test_data.json', oea.ADDITIVE_BATCH_DATA, currentDateTime)\r\n",
        "data = requests.get('https://raw.githubusercontent.com/microsoft/OpenEduAnalytics/main/modules/module_catalog/Microsoft_Graph/test_data/hed_test_data/Meeting_Attendance_Report/856A511D6D124BE3A61D8A9FBECF89D1_11_13.json').text\r\n",
        "oea.land(data, 'graph_api/v1.0/meeting_attendance_report', 'report130_hed_test_data.json', oea.ADDITIVE_BATCH_DATA, currentDateTime)\r\n",
        "data = requests.get('https://raw.githubusercontent.com/microsoft/OpenEduAnalytics/main/modules/module_catalog/Microsoft_Graph/test_data/hed_test_data/Meeting_Attendance_Report/856A511D6D124BE3A61D8A9FBECF89D1_11_15.json').text\r\n",
        "oea.land(data, 'graph_api/v1.0/meeting_attendance_report', 'report131_hed_test_data.json', oea.ADDITIVE_BATCH_DATA, currentDateTime)\r\n",
        "data = requests.get('https://raw.githubusercontent.com/microsoft/OpenEduAnalytics/main/modules/module_catalog/Microsoft_Graph/test_data/hed_test_data/Meeting_Attendance_Report/856A511D6D124BE3A61D8A9FBECF89D1_18_7.json').text\r\n",
        "oea.land(data, 'graph_api/v1.0/meeting_attendance_report', 'report132_hed_test_data.json', oea.ADDITIVE_BATCH_DATA, currentDateTime)\r\n",
        "data = requests.get('https://raw.githubusercontent.com/microsoft/OpenEduAnalytics/main/modules/module_catalog/Microsoft_Graph/test_data/hed_test_data/Meeting_Attendance_Report/88C5D9EE75344355ACBFAD211D436E0A_11_14.json').text\r\n",
        "oea.land(data, 'graph_api/v1.0/meeting_attendance_report', 'report133_hed_test_data.json', oea.ADDITIVE_BATCH_DATA, currentDateTime)\r\n",
        "data = requests.get('https://raw.githubusercontent.com/microsoft/OpenEduAnalytics/main/modules/module_catalog/Microsoft_Graph/test_data/hed_test_data/Meeting_Attendance_Report/88C5D9EE75344355ACBFAD211D436E0A_11_16.json').text\r\n",
        "oea.land(data, 'graph_api/v1.0/meeting_attendance_report', 'report134_hed_test_data.json', oea.ADDITIVE_BATCH_DATA, currentDateTime)\r\n",
        "data = requests.get('https://raw.githubusercontent.com/microsoft/OpenEduAnalytics/main/modules/module_catalog/Microsoft_Graph/test_data/hed_test_data/Meeting_Attendance_Report/88C5D9EE75344355ACBFAD211D436E0A_21_12.json').text\r\n",
        "oea.land(data, 'graph_api/v1.0/meeting_attendance_report', 'report135_hed_test_data.json', oea.ADDITIVE_BATCH_DATA, currentDateTime)\r\n",
        "data = requests.get('https://raw.githubusercontent.com/microsoft/OpenEduAnalytics/main/modules/module_catalog/Microsoft_Graph/test_data/hed_test_data/Meeting_Attendance_Report/8F93CDB9FB7740899247AE8EE1B647AE_11_9.json').text\r\n",
        "oea.land(data, 'graph_api/v1.0/meeting_attendance_report', 'report136_hed_test_data.json', oea.ADDITIVE_BATCH_DATA, currentDateTime)\r\n",
        "data = requests.get('https://raw.githubusercontent.com/microsoft/OpenEduAnalytics/main/modules/module_catalog/Microsoft_Graph/test_data/hed_test_data/Meeting_Attendance_Report/8F93CDB9FB7740899247AE8EE1B647AE_24_7.json').text\r\n",
        "oea.land(data, 'graph_api/v1.0/meeting_attendance_report', 'report137_hed_test_data.json', oea.ADDITIVE_BATCH_DATA, currentDateTime)\r\n",
        "data = requests.get('https://raw.githubusercontent.com/microsoft/OpenEduAnalytics/main/modules/module_catalog/Microsoft_Graph/test_data/hed_test_data/Meeting_Attendance_Report/8F93CDB9FB7740899247AE8EE1B647AE_27_14.json').text\r\n",
        "oea.land(data, 'graph_api/v1.0/meeting_attendance_report', 'report138_hed_test_data.json', oea.ADDITIVE_BATCH_DATA, currentDateTime)\r\n",
        "data = requests.get('https://raw.githubusercontent.com/microsoft/OpenEduAnalytics/main/modules/module_catalog/Microsoft_Graph/test_data/hed_test_data/Meeting_Attendance_Report/90A1DB4399014520B10AC7FBCC8A165C_14_8.json').text\r\n",
        "oea.land(data, 'graph_api/v1.0/meeting_attendance_report', 'report139_hed_test_data.json', oea.ADDITIVE_BATCH_DATA, currentDateTime)\r\n",
        "data = requests.get('https://raw.githubusercontent.com/microsoft/OpenEduAnalytics/main/modules/module_catalog/Microsoft_Graph/test_data/hed_test_data/Meeting_Attendance_Report/90A1DB4399014520B10AC7FBCC8A165C_24_16.json').text\r\n",
        "oea.land(data, 'graph_api/v1.0/meeting_attendance_report', 'report140_hed_test_data.json', oea.ADDITIVE_BATCH_DATA, currentDateTime)\r\n",
        "data = requests.get('https://raw.githubusercontent.com/microsoft/OpenEduAnalytics/main/modules/module_catalog/Microsoft_Graph/test_data/hed_test_data/Meeting_Attendance_Report/90A1DB4399014520B10AC7FBCC8A165C_5_16.json').text\r\n",
        "oea.land(data, 'graph_api/v1.0/meeting_attendance_report', 'report141_hed_test_data.json', oea.ADDITIVE_BATCH_DATA, currentDateTime)\r\n",
        "data = requests.get('https://raw.githubusercontent.com/microsoft/OpenEduAnalytics/main/modules/module_catalog/Microsoft_Graph/test_data/hed_test_data/Meeting_Attendance_Report/92C670E8E11A47888A574BE6D6300042_10_12.json').text\r\n",
        "oea.land(data, 'graph_api/v1.0/meeting_attendance_report', 'report142_hed_test_data.json', oea.ADDITIVE_BATCH_DATA, currentDateTime)\r\n",
        "data = requests.get('https://raw.githubusercontent.com/microsoft/OpenEduAnalytics/main/modules/module_catalog/Microsoft_Graph/test_data/hed_test_data/Meeting_Attendance_Report/92C670E8E11A47888A574BE6D6300042_13_12.json').text\r\n",
        "oea.land(data, 'graph_api/v1.0/meeting_attendance_report', 'report143_hed_test_data.json', oea.ADDITIVE_BATCH_DATA, currentDateTime)\r\n",
        "data = requests.get('https://raw.githubusercontent.com/microsoft/OpenEduAnalytics/main/modules/module_catalog/Microsoft_Graph/test_data/hed_test_data/Meeting_Attendance_Report/92C670E8E11A47888A574BE6D6300042_14_9.json').text\r\n",
        "oea.land(data, 'graph_api/v1.0/meeting_attendance_report', 'report144_hed_test_data.json', oea.ADDITIVE_BATCH_DATA, currentDateTime)\r\n",
        "data = requests.get('https://raw.githubusercontent.com/microsoft/OpenEduAnalytics/main/modules/module_catalog/Microsoft_Graph/test_data/hed_test_data/Meeting_Attendance_Report/95AE2468EFE544689808A2C3516E6B2E_13_9.json').text\r\n",
        "oea.land(data, 'graph_api/v1.0/meeting_attendance_report', 'report145_hed_test_data.json', oea.ADDITIVE_BATCH_DATA, currentDateTime)\r\n",
        "data = requests.get('https://raw.githubusercontent.com/microsoft/OpenEduAnalytics/main/modules/module_catalog/Microsoft_Graph/test_data/hed_test_data/Meeting_Attendance_Report/95AE2468EFE544689808A2C3516E6B2E_27_11.json').text\r\n",
        "oea.land(data, 'graph_api/v1.0/meeting_attendance_report', 'report146_hed_test_data.json', oea.ADDITIVE_BATCH_DATA, currentDateTime)\r\n",
        "data = requests.get('https://raw.githubusercontent.com/microsoft/OpenEduAnalytics/main/modules/module_catalog/Microsoft_Graph/test_data/hed_test_data/Meeting_Attendance_Report/95AE2468EFE544689808A2C3516E6B2E_3_15.json').text\r\n",
        "oea.land(data, 'graph_api/v1.0/meeting_attendance_report', 'report147_hed_test_data.json', oea.ADDITIVE_BATCH_DATA, currentDateTime)\r\n",
        "data = requests.get('https://raw.githubusercontent.com/microsoft/OpenEduAnalytics/main/modules/module_catalog/Microsoft_Graph/test_data/hed_test_data/Meeting_Attendance_Report/95CB73976B544812B6CACDFAB76A4A7D_10_8.json').text\r\n",
        "oea.land(data, 'graph_api/v1.0/meeting_attendance_report', 'report148_hed_test_data.json', oea.ADDITIVE_BATCH_DATA, currentDateTime)\r\n",
        "data = requests.get('https://raw.githubusercontent.com/microsoft/OpenEduAnalytics/main/modules/module_catalog/Microsoft_Graph/test_data/hed_test_data/Meeting_Attendance_Report/95CB73976B544812B6CACDFAB76A4A7D_4_13.json').text\r\n",
        "oea.land(data, 'graph_api/v1.0/meeting_attendance_report', 'report149_hed_test_data.json', oea.ADDITIVE_BATCH_DATA, currentDateTime)\r\n",
        "data = requests.get('https://raw.githubusercontent.com/microsoft/OpenEduAnalytics/main/modules/module_catalog/Microsoft_Graph/test_data/hed_test_data/Meeting_Attendance_Report/95CB73976B544812B6CACDFAB76A4A7D_5_12.json').text\r\n",
        "oea.land(data, 'graph_api/v1.0/meeting_attendance_report', 'report150_hed_test_data.json', oea.ADDITIVE_BATCH_DATA, currentDateTime)\r\n",
        "data = requests.get('https://raw.githubusercontent.com/microsoft/OpenEduAnalytics/main/modules/module_catalog/Microsoft_Graph/test_data/hed_test_data/Meeting_Attendance_Report/9EA9D757EBCD4C7BB1B65077F9F1AEF3_17_16.json').text\r\n",
        "oea.land(data, 'graph_api/v1.0/meeting_attendance_report', 'report151_hed_test_data.json', oea.ADDITIVE_BATCH_DATA, currentDateTime)\r\n",
        "data = requests.get('https://raw.githubusercontent.com/microsoft/OpenEduAnalytics/main/modules/module_catalog/Microsoft_Graph/test_data/hed_test_data/Meeting_Attendance_Report/9EA9D757EBCD4C7BB1B65077F9F1AEF3_18_10.json').text\r\n",
        "oea.land(data, 'graph_api/v1.0/meeting_attendance_report', 'report152_hed_test_data.json', oea.ADDITIVE_BATCH_DATA, currentDateTime)\r\n",
        "data = requests.get('https://raw.githubusercontent.com/microsoft/OpenEduAnalytics/main/modules/module_catalog/Microsoft_Graph/test_data/hed_test_data/Meeting_Attendance_Report/9EA9D757EBCD4C7BB1B65077F9F1AEF3_6_15.json').text\r\n",
        "oea.land(data, 'graph_api/v1.0/meeting_attendance_report', 'report153_hed_test_data.json', oea.ADDITIVE_BATCH_DATA, currentDateTime)\r\n",
        "data = requests.get('https://raw.githubusercontent.com/microsoft/OpenEduAnalytics/main/modules/module_catalog/Microsoft_Graph/test_data/hed_test_data/Meeting_Attendance_Report/A12FDEF5617C49E380791A543353B0A2_20_8.json').text\r\n",
        "oea.land(data, 'graph_api/v1.0/meeting_attendance_report', 'report154_hed_test_data.json', oea.ADDITIVE_BATCH_DATA, currentDateTime)\r\n",
        "data = requests.get('https://raw.githubusercontent.com/microsoft/OpenEduAnalytics/main/modules/module_catalog/Microsoft_Graph/test_data/hed_test_data/Meeting_Attendance_Report/A12FDEF5617C49E380791A543353B0A2_7_14.json').text\r\n",
        "oea.land(data, 'graph_api/v1.0/meeting_attendance_report', 'report155_hed_test_data.json', oea.ADDITIVE_BATCH_DATA, currentDateTime)\r\n",
        "data = requests.get('https://raw.githubusercontent.com/microsoft/OpenEduAnalytics/main/modules/module_catalog/Microsoft_Graph/test_data/hed_test_data/Meeting_Attendance_Report/A12FDEF5617C49E380791A543353B0A2_7_16.json').text\r\n",
        "oea.land(data, 'graph_api/v1.0/meeting_attendance_report', 'report156_hed_test_data.json', oea.ADDITIVE_BATCH_DATA, currentDateTime)\r\n",
        "data = requests.get('https://raw.githubusercontent.com/microsoft/OpenEduAnalytics/main/modules/module_catalog/Microsoft_Graph/test_data/hed_test_data/Meeting_Attendance_Report/A41A4D8CF7CD4CCCABA4FE5FC3CE21BF_11_12.json').text\r\n",
        "oea.land(data, 'graph_api/v1.0/meeting_attendance_report', 'report157_hed_test_data.json', oea.ADDITIVE_BATCH_DATA, currentDateTime)\r\n",
        "data = requests.get('https://raw.githubusercontent.com/microsoft/OpenEduAnalytics/main/modules/module_catalog/Microsoft_Graph/test_data/hed_test_data/Meeting_Attendance_Report/A41A4D8CF7CD4CCCABA4FE5FC3CE21BF_28_7.json').text\r\n",
        "oea.land(data, 'graph_api/v1.0/meeting_attendance_report', 'report158_hed_test_data.json', oea.ADDITIVE_BATCH_DATA, currentDateTime)\r\n",
        "data = requests.get('https://raw.githubusercontent.com/microsoft/OpenEduAnalytics/main/modules/module_catalog/Microsoft_Graph/test_data/hed_test_data/Meeting_Attendance_Report/A41A4D8CF7CD4CCCABA4FE5FC3CE21BF_7_12.json').text\r\n",
        "oea.land(data, 'graph_api/v1.0/meeting_attendance_report', 'report159_hed_test_data.json', oea.ADDITIVE_BATCH_DATA, currentDateTime)\r\n",
        "data = requests.get('https://raw.githubusercontent.com/microsoft/OpenEduAnalytics/main/modules/module_catalog/Microsoft_Graph/test_data/hed_test_data/Meeting_Attendance_Report/A520F654FBCC4CCEBACEC63D2333D771_14_10.json').text\r\n",
        "oea.land(data, 'graph_api/v1.0/meeting_attendance_report', 'report160_hed_test_data.json', oea.ADDITIVE_BATCH_DATA, currentDateTime)\r\n",
        "data = requests.get('https://raw.githubusercontent.com/microsoft/OpenEduAnalytics/main/modules/module_catalog/Microsoft_Graph/test_data/hed_test_data/Meeting_Attendance_Report/A520F654FBCC4CCEBACEC63D2333D771_17_12.json').text\r\n",
        "oea.land(data, 'graph_api/v1.0/meeting_attendance_report', 'report161_hed_test_data.json', oea.ADDITIVE_BATCH_DATA, currentDateTime)\r\n",
        "data = requests.get('https://raw.githubusercontent.com/microsoft/OpenEduAnalytics/main/modules/module_catalog/Microsoft_Graph/test_data/hed_test_data/Meeting_Attendance_Report/A520F654FBCC4CCEBACEC63D2333D771_17_7.json').text\r\n",
        "oea.land(data, 'graph_api/v1.0/meeting_attendance_report', 'report162_hed_test_data.json', oea.ADDITIVE_BATCH_DATA, currentDateTime)\r\n",
        "data = requests.get('https://raw.githubusercontent.com/microsoft/OpenEduAnalytics/main/modules/module_catalog/Microsoft_Graph/test_data/hed_test_data/Meeting_Attendance_Report/A7D4A05729F84E00B19FF5279BC0ACB2_13_15.json').text\r\n",
        "oea.land(data, 'graph_api/v1.0/meeting_attendance_report', 'report163_hed_test_data.json', oea.ADDITIVE_BATCH_DATA, currentDateTime)\r\n",
        "data = requests.get('https://raw.githubusercontent.com/microsoft/OpenEduAnalytics/main/modules/module_catalog/Microsoft_Graph/test_data/hed_test_data/Meeting_Attendance_Report/A7D4A05729F84E00B19FF5279BC0ACB2_14_10.json').text\r\n",
        "oea.land(data, 'graph_api/v1.0/meeting_attendance_report', 'report164_hed_test_data.json', oea.ADDITIVE_BATCH_DATA, currentDateTime)\r\n",
        "data = requests.get('https://raw.githubusercontent.com/microsoft/OpenEduAnalytics/main/modules/module_catalog/Microsoft_Graph/test_data/hed_test_data/Meeting_Attendance_Report/A7D4A05729F84E00B19FF5279BC0ACB2_5_8.json').text\r\n",
        "oea.land(data, 'graph_api/v1.0/meeting_attendance_report', 'report165_hed_test_data.json', oea.ADDITIVE_BATCH_DATA, currentDateTime)\r\n",
        "data = requests.get('https://raw.githubusercontent.com/microsoft/OpenEduAnalytics/main/modules/module_catalog/Microsoft_Graph/test_data/hed_test_data/Meeting_Attendance_Report/AACE248D43BE4595AEEED5A95FA70ED2_28_13.json').text\r\n",
        "oea.land(data, 'graph_api/v1.0/meeting_attendance_report', 'report166_hed_test_data.json', oea.ADDITIVE_BATCH_DATA, currentDateTime)\r\n",
        "data = requests.get('https://raw.githubusercontent.com/microsoft/OpenEduAnalytics/main/modules/module_catalog/Microsoft_Graph/test_data/hed_test_data/Meeting_Attendance_Report/AACE248D43BE4595AEEED5A95FA70ED2_4_15.json').text\r\n",
        "oea.land(data, 'graph_api/v1.0/meeting_attendance_report', 'report167_hed_test_data.json', oea.ADDITIVE_BATCH_DATA, currentDateTime)\r\n",
        "data = requests.get('https://raw.githubusercontent.com/microsoft/OpenEduAnalytics/main/modules/module_catalog/Microsoft_Graph/test_data/hed_test_data/Meeting_Attendance_Report/AACE248D43BE4595AEEED5A95FA70ED2_5_13.json').text\r\n",
        "oea.land(data, 'graph_api/v1.0/meeting_attendance_report', 'report168_hed_test_data.json', oea.ADDITIVE_BATCH_DATA, currentDateTime)\r\n",
        "data = requests.get('https://raw.githubusercontent.com/microsoft/OpenEduAnalytics/main/modules/module_catalog/Microsoft_Graph/test_data/hed_test_data/Meeting_Attendance_Report/AD1204DE0EE14ECB97A62A03310E1FA5_19_13.json').text\r\n",
        "oea.land(data, 'graph_api/v1.0/meeting_attendance_report', 'report169_hed_test_data.json', oea.ADDITIVE_BATCH_DATA, currentDateTime)\r\n",
        "data = requests.get('https://raw.githubusercontent.com/microsoft/OpenEduAnalytics/main/modules/module_catalog/Microsoft_Graph/test_data/hed_test_data/Meeting_Attendance_Report/AD1204DE0EE14ECB97A62A03310E1FA5_26_12.json').text\r\n",
        "oea.land(data, 'graph_api/v1.0/meeting_attendance_report', 'report170_hed_test_data.json', oea.ADDITIVE_BATCH_DATA, currentDateTime)\r\n",
        "data = requests.get('https://raw.githubusercontent.com/microsoft/OpenEduAnalytics/main/modules/module_catalog/Microsoft_Graph/test_data/hed_test_data/Meeting_Attendance_Report/AD1204DE0EE14ECB97A62A03310E1FA5_3_10.json').text\r\n",
        "oea.land(data, 'graph_api/v1.0/meeting_attendance_report', 'report171_hed_test_data.json', oea.ADDITIVE_BATCH_DATA, currentDateTime)\r\n",
        "data = requests.get('https://raw.githubusercontent.com/microsoft/OpenEduAnalytics/main/modules/module_catalog/Microsoft_Graph/test_data/hed_test_data/Meeting_Attendance_Report/B207F983B9524E5F892884A8934D1077_21_11.json').text\r\n",
        "oea.land(data, 'graph_api/v1.0/meeting_attendance_report', 'report172_hed_test_data.json', oea.ADDITIVE_BATCH_DATA, currentDateTime)\r\n",
        "data = requests.get('https://raw.githubusercontent.com/microsoft/OpenEduAnalytics/main/modules/module_catalog/Microsoft_Graph/test_data/hed_test_data/Meeting_Attendance_Report/B207F983B9524E5F892884A8934D1077_21_12.json').text\r\n",
        "oea.land(data, 'graph_api/v1.0/meeting_attendance_report', 'report173_hed_test_data.json', oea.ADDITIVE_BATCH_DATA, currentDateTime)\r\n",
        "data = requests.get('https://raw.githubusercontent.com/microsoft/OpenEduAnalytics/main/modules/module_catalog/Microsoft_Graph/test_data/hed_test_data/Meeting_Attendance_Report/B207F983B9524E5F892884A8934D1077_24_7.json').text\r\n",
        "oea.land(data, 'graph_api/v1.0/meeting_attendance_report', 'report174_hed_test_data.json', oea.ADDITIVE_BATCH_DATA, currentDateTime)\r\n",
        "data = requests.get('https://raw.githubusercontent.com/microsoft/OpenEduAnalytics/main/modules/module_catalog/Microsoft_Graph/test_data/hed_test_data/Meeting_Attendance_Report/B3890CDB0D9148C78770334E44F30729_19_10.json').text\r\n",
        "oea.land(data, 'graph_api/v1.0/meeting_attendance_report', 'report175_hed_test_data.json', oea.ADDITIVE_BATCH_DATA, currentDateTime)\r\n",
        "data = requests.get('https://raw.githubusercontent.com/microsoft/OpenEduAnalytics/main/modules/module_catalog/Microsoft_Graph/test_data/hed_test_data/Meeting_Attendance_Report/B3890CDB0D9148C78770334E44F30729_19_15.json').text\r\n",
        "oea.land(data, 'graph_api/v1.0/meeting_attendance_report', 'report176_hed_test_data.json', oea.ADDITIVE_BATCH_DATA, currentDateTime)\r\n",
        "data = requests.get('https://raw.githubusercontent.com/microsoft/OpenEduAnalytics/main/modules/module_catalog/Microsoft_Graph/test_data/hed_test_data/Meeting_Attendance_Report/B3890CDB0D9148C78770334E44F30729_21_16.json').text\r\n",
        "oea.land(data, 'graph_api/v1.0/meeting_attendance_report', 'report177_hed_test_data.json', oea.ADDITIVE_BATCH_DATA, currentDateTime)\r\n",
        "data = requests.get('https://raw.githubusercontent.com/microsoft/OpenEduAnalytics/main/modules/module_catalog/Microsoft_Graph/test_data/hed_test_data/Meeting_Attendance_Report/B6E4ABF9F1CA41A6A5317AFB4BDCACB4_10_16.json').text\r\n",
        "oea.land(data, 'graph_api/v1.0/meeting_attendance_report', 'report178_hed_test_data.json', oea.ADDITIVE_BATCH_DATA, currentDateTime)\r\n",
        "data = requests.get('https://raw.githubusercontent.com/microsoft/OpenEduAnalytics/main/modules/module_catalog/Microsoft_Graph/test_data/hed_test_data/Meeting_Attendance_Report/B6E4ABF9F1CA41A6A5317AFB4BDCACB4_13_10.json').text\r\n",
        "oea.land(data, 'graph_api/v1.0/meeting_attendance_report', 'report179_hed_test_data.json', oea.ADDITIVE_BATCH_DATA, currentDateTime)\r\n",
        "data = requests.get('https://raw.githubusercontent.com/microsoft/OpenEduAnalytics/main/modules/module_catalog/Microsoft_Graph/test_data/hed_test_data/Meeting_Attendance_Report/B6E4ABF9F1CA41A6A5317AFB4BDCACB4_18_16.json').text\r\n",
        "oea.land(data, 'graph_api/v1.0/meeting_attendance_report', 'report180_hed_test_data.json', oea.ADDITIVE_BATCH_DATA, currentDateTime)\r\n",
        "data = requests.get('https://raw.githubusercontent.com/microsoft/OpenEduAnalytics/main/modules/module_catalog/Microsoft_Graph/test_data/hed_test_data/Meeting_Attendance_Report/BE0A4AC2F0264375B4ED97DC17DD6800_13_10.json').text\r\n",
        "oea.land(data, 'graph_api/v1.0/meeting_attendance_report', 'report181_hed_test_data.json', oea.ADDITIVE_BATCH_DATA, currentDateTime)\r\n",
        "data = requests.get('https://raw.githubusercontent.com/microsoft/OpenEduAnalytics/main/modules/module_catalog/Microsoft_Graph/test_data/hed_test_data/Meeting_Attendance_Report/BE0A4AC2F0264375B4ED97DC17DD6800_17_16.json').text\r\n",
        "oea.land(data, 'graph_api/v1.0/meeting_attendance_report', 'report182_hed_test_data.json', oea.ADDITIVE_BATCH_DATA, currentDateTime)\r\n",
        "data = requests.get('https://raw.githubusercontent.com/microsoft/OpenEduAnalytics/main/modules/module_catalog/Microsoft_Graph/test_data/hed_test_data/Meeting_Attendance_Report/BE0A4AC2F0264375B4ED97DC17DD6800_25_8.json').text\r\n",
        "oea.land(data, 'graph_api/v1.0/meeting_attendance_report', 'report183_hed_test_data.json', oea.ADDITIVE_BATCH_DATA, currentDateTime)\r\n",
        "data = requests.get('https://raw.githubusercontent.com/microsoft/OpenEduAnalytics/main/modules/module_catalog/Microsoft_Graph/test_data/hed_test_data/Meeting_Attendance_Report/BEB8D1707FEB453A85B387A9C474F08F_3_7.json').text\r\n",
        "oea.land(data, 'graph_api/v1.0/meeting_attendance_report', 'report184_hed_test_data.json', oea.ADDITIVE_BATCH_DATA, currentDateTime)\r\n",
        "data = requests.get('https://raw.githubusercontent.com/microsoft/OpenEduAnalytics/main/modules/module_catalog/Microsoft_Graph/test_data/hed_test_data/Meeting_Attendance_Report/BEB8D1707FEB453A85B387A9C474F08F_5_7.json').text\r\n",
        "oea.land(data, 'graph_api/v1.0/meeting_attendance_report', 'report185_hed_test_data.json', oea.ADDITIVE_BATCH_DATA, currentDateTime)\r\n",
        "data = requests.get('https://raw.githubusercontent.com/microsoft/OpenEduAnalytics/main/modules/module_catalog/Microsoft_Graph/test_data/hed_test_data/Meeting_Attendance_Report/BEB8D1707FEB453A85B387A9C474F08F_7_11.json').text\r\n",
        "oea.land(data, 'graph_api/v1.0/meeting_attendance_report', 'report186_hed_test_data.json', oea.ADDITIVE_BATCH_DATA, currentDateTime)\r\n",
        "data = requests.get('https://raw.githubusercontent.com/microsoft/OpenEduAnalytics/main/modules/module_catalog/Microsoft_Graph/test_data/hed_test_data/Meeting_Attendance_Report/C6BFFB2D75F5425EAA743F666C89702B_10_16.json').text\r\n",
        "oea.land(data, 'graph_api/v1.0/meeting_attendance_report', 'report187_hed_test_data.json', oea.ADDITIVE_BATCH_DATA, currentDateTime)\r\n",
        "data = requests.get('https://raw.githubusercontent.com/microsoft/OpenEduAnalytics/main/modules/module_catalog/Microsoft_Graph/test_data/hed_test_data/Meeting_Attendance_Report/C6BFFB2D75F5425EAA743F666C89702B_17_16.json').text\r\n",
        "oea.land(data, 'graph_api/v1.0/meeting_attendance_report', 'report188_hed_test_data.json', oea.ADDITIVE_BATCH_DATA, currentDateTime)\r\n",
        "data = requests.get('https://raw.githubusercontent.com/microsoft/OpenEduAnalytics/main/modules/module_catalog/Microsoft_Graph/test_data/hed_test_data/Meeting_Attendance_Report/C6BFFB2D75F5425EAA743F666C89702B_26_11.json').text\r\n",
        "oea.land(data, 'graph_api/v1.0/meeting_attendance_report', 'report189_hed_test_data.json', oea.ADDITIVE_BATCH_DATA, currentDateTime)\r\n",
        "data = requests.get('https://raw.githubusercontent.com/microsoft/OpenEduAnalytics/main/modules/module_catalog/Microsoft_Graph/test_data/hed_test_data/Meeting_Attendance_Report/C6C48F7DA7FB413AB903DF50BDA02C1D_24_13.json').text\r\n",
        "oea.land(data, 'graph_api/v1.0/meeting_attendance_report', 'report190_hed_test_data.json', oea.ADDITIVE_BATCH_DATA, currentDateTime)\r\n",
        "data = requests.get('https://raw.githubusercontent.com/microsoft/OpenEduAnalytics/main/modules/module_catalog/Microsoft_Graph/test_data/hed_test_data/Meeting_Attendance_Report/C6C48F7DA7FB413AB903DF50BDA02C1D_5_12.json').text\r\n",
        "oea.land(data, 'graph_api/v1.0/meeting_attendance_report', 'report191_hed_test_data.json', oea.ADDITIVE_BATCH_DATA, currentDateTime)\r\n",
        "data = requests.get('https://raw.githubusercontent.com/microsoft/OpenEduAnalytics/main/modules/module_catalog/Microsoft_Graph/test_data/hed_test_data/Meeting_Attendance_Report/C6C48F7DA7FB413AB903DF50BDA02C1D_6_7.json').text\r\n",
        "oea.land(data, 'graph_api/v1.0/meeting_attendance_report', 'report192_hed_test_data.json', oea.ADDITIVE_BATCH_DATA, currentDateTime)\r\n",
        "data = requests.get('https://raw.githubusercontent.com/microsoft/OpenEduAnalytics/main/modules/module_catalog/Microsoft_Graph/test_data/hed_test_data/Meeting_Attendance_Report/C9314F1342D740C5B8C89FB12C55DBB8_10_12.json').text\r\n",
        "oea.land(data, 'graph_api/v1.0/meeting_attendance_report', 'report193_hed_test_data.json', oea.ADDITIVE_BATCH_DATA, currentDateTime)\r\n",
        "data = requests.get('https://raw.githubusercontent.com/microsoft/OpenEduAnalytics/main/modules/module_catalog/Microsoft_Graph/test_data/hed_test_data/Meeting_Attendance_Report/C9314F1342D740C5B8C89FB12C55DBB8_18_16.json').text\r\n",
        "oea.land(data, 'graph_api/v1.0/meeting_attendance_report', 'report194_hed_test_data.json', oea.ADDITIVE_BATCH_DATA, currentDateTime)\r\n",
        "data = requests.get('https://raw.githubusercontent.com/microsoft/OpenEduAnalytics/main/modules/module_catalog/Microsoft_Graph/test_data/hed_test_data/Meeting_Attendance_Report/C9314F1342D740C5B8C89FB12C55DBB8_20_16.json').text\r\n",
        "oea.land(data, 'graph_api/v1.0/meeting_attendance_report', 'report195_hed_test_data.json', oea.ADDITIVE_BATCH_DATA, currentDateTime)\r\n",
        "data = requests.get('https://raw.githubusercontent.com/microsoft/OpenEduAnalytics/main/modules/module_catalog/Microsoft_Graph/test_data/hed_test_data/Meeting_Attendance_Report/CBA6D54FF6F347B4B0676331FD87295C_26_14.json').text\r\n",
        "oea.land(data, 'graph_api/v1.0/meeting_attendance_report', 'report196_hed_test_data.json', oea.ADDITIVE_BATCH_DATA, currentDateTime)\r\n",
        "data = requests.get('https://raw.githubusercontent.com/microsoft/OpenEduAnalytics/main/modules/module_catalog/Microsoft_Graph/test_data/hed_test_data/Meeting_Attendance_Report/CBA6D54FF6F347B4B0676331FD87295C_27_13.json').text\r\n",
        "oea.land(data, 'graph_api/v1.0/meeting_attendance_report', 'report197_hed_test_data.json', oea.ADDITIVE_BATCH_DATA, currentDateTime)\r\n",
        "data = requests.get('https://raw.githubusercontent.com/microsoft/OpenEduAnalytics/main/modules/module_catalog/Microsoft_Graph/test_data/hed_test_data/Meeting_Attendance_Report/CBA6D54FF6F347B4B0676331FD87295C_3_10.json').text\r\n",
        "oea.land(data, 'graph_api/v1.0/meeting_attendance_report', 'report198_hed_test_data.json', oea.ADDITIVE_BATCH_DATA, currentDateTime)\r\n",
        "data = requests.get('https://raw.githubusercontent.com/microsoft/OpenEduAnalytics/main/modules/module_catalog/Microsoft_Graph/test_data/hed_test_data/Meeting_Attendance_Report/D2B4723C805C42748F405FDDD94E114C_24_15.json').text\r\n",
        "oea.land(data, 'graph_api/v1.0/meeting_attendance_report', 'report199_hed_test_data.json', oea.ADDITIVE_BATCH_DATA, currentDateTime)\r\n",
        "data = requests.get('https://raw.githubusercontent.com/microsoft/OpenEduAnalytics/main/modules/module_catalog/Microsoft_Graph/test_data/hed_test_data/Meeting_Attendance_Report/D2B4723C805C42748F405FDDD94E114C_28_16.json').text\r\n",
        "oea.land(data, 'graph_api/v1.0/meeting_attendance_report', 'report200_hed_test_data.json', oea.ADDITIVE_BATCH_DATA, currentDateTime)\r\n",
        "data = requests.get('https://raw.githubusercontent.com/microsoft/OpenEduAnalytics/main/modules/module_catalog/Microsoft_Graph/test_data/hed_test_data/Meeting_Attendance_Report/D2B4723C805C42748F405FDDD94E114C_6_8.json').text\r\n",
        "oea.land(data, 'graph_api/v1.0/meeting_attendance_report', 'report201_hed_test_data.json', oea.ADDITIVE_BATCH_DATA, currentDateTime)\r\n",
        "data = requests.get('https://raw.githubusercontent.com/microsoft/OpenEduAnalytics/main/modules/module_catalog/Microsoft_Graph/test_data/hed_test_data/Meeting_Attendance_Report/D496C7CA2D9F48488AC516ADE41E839D_24_12.json').text\r\n",
        "oea.land(data, 'graph_api/v1.0/meeting_attendance_report', 'report202_hed_test_data.json', oea.ADDITIVE_BATCH_DATA, currentDateTime)\r\n",
        "data = requests.get('https://raw.githubusercontent.com/microsoft/OpenEduAnalytics/main/modules/module_catalog/Microsoft_Graph/test_data/hed_test_data/Meeting_Attendance_Report/D496C7CA2D9F48488AC516ADE41E839D_28_7.json').text\r\n",
        "oea.land(data, 'graph_api/v1.0/meeting_attendance_report', 'report203_hed_test_data.json', oea.ADDITIVE_BATCH_DATA, currentDateTime)\r\n",
        "data = requests.get('https://raw.githubusercontent.com/microsoft/OpenEduAnalytics/main/modules/module_catalog/Microsoft_Graph/test_data/hed_test_data/Meeting_Attendance_Report/D496C7CA2D9F48488AC516ADE41E839D_7_7.json').text\r\n",
        "oea.land(data, 'graph_api/v1.0/meeting_attendance_report', 'report204_hed_test_data.json', oea.ADDITIVE_BATCH_DATA, currentDateTime)\r\n",
        "data = requests.get('https://raw.githubusercontent.com/microsoft/OpenEduAnalytics/main/modules/module_catalog/Microsoft_Graph/test_data/hed_test_data/Meeting_Attendance_Report/D4EE7DB0625E4DE6B7AE26B29F297607_24_11.json').text\r\n",
        "oea.land(data, 'graph_api/v1.0/meeting_attendance_report', 'report205_hed_test_data.json', oea.ADDITIVE_BATCH_DATA, currentDateTime)\r\n",
        "data = requests.get('https://raw.githubusercontent.com/microsoft/OpenEduAnalytics/main/modules/module_catalog/Microsoft_Graph/test_data/hed_test_data/Meeting_Attendance_Report/D4EE7DB0625E4DE6B7AE26B29F297607_27_10.json').text\r\n",
        "oea.land(data, 'graph_api/v1.0/meeting_attendance_report', 'report206_hed_test_data.json', oea.ADDITIVE_BATCH_DATA, currentDateTime)\r\n",
        "data = requests.get('https://raw.githubusercontent.com/microsoft/OpenEduAnalytics/main/modules/module_catalog/Microsoft_Graph/test_data/hed_test_data/Meeting_Attendance_Report/D4EE7DB0625E4DE6B7AE26B29F297607_7_10.json').text\r\n",
        "oea.land(data, 'graph_api/v1.0/meeting_attendance_report', 'report207_hed_test_data.json', oea.ADDITIVE_BATCH_DATA, currentDateTime)\r\n",
        "data = requests.get('https://raw.githubusercontent.com/microsoft/OpenEduAnalytics/main/modules/module_catalog/Microsoft_Graph/test_data/hed_test_data/Meeting_Attendance_Report/D527009BB12344CD9DBE54B60AE06D98_11_8.json').text\r\n",
        "oea.land(data, 'graph_api/v1.0/meeting_attendance_report', 'report208_hed_test_data.json', oea.ADDITIVE_BATCH_DATA, currentDateTime)\r\n",
        "data = requests.get('https://raw.githubusercontent.com/microsoft/OpenEduAnalytics/main/modules/module_catalog/Microsoft_Graph/test_data/hed_test_data/Meeting_Attendance_Report/D527009BB12344CD9DBE54B60AE06D98_17_11.json').text\r\n",
        "oea.land(data, 'graph_api/v1.0/meeting_attendance_report', 'report209_hed_test_data.json', oea.ADDITIVE_BATCH_DATA, currentDateTime)\r\n",
        "data = requests.get('https://raw.githubusercontent.com/microsoft/OpenEduAnalytics/main/modules/module_catalog/Microsoft_Graph/test_data/hed_test_data/Meeting_Attendance_Report/D527009BB12344CD9DBE54B60AE06D98_28_8.json').text\r\n",
        "oea.land(data, 'graph_api/v1.0/meeting_attendance_report', 'report210_hed_test_data.json', oea.ADDITIVE_BATCH_DATA, currentDateTime)\r\n",
        "data = requests.get('https://raw.githubusercontent.com/microsoft/OpenEduAnalytics/main/modules/module_catalog/Microsoft_Graph/test_data/hed_test_data/Meeting_Attendance_Report/D75473554303430AADBC77748F20E4E9_13_7.json').text\r\n",
        "oea.land(data, 'graph_api/v1.0/meeting_attendance_report', 'report211_hed_test_data.json', oea.ADDITIVE_BATCH_DATA, currentDateTime)\r\n",
        "data = requests.get('https://raw.githubusercontent.com/microsoft/OpenEduAnalytics/main/modules/module_catalog/Microsoft_Graph/test_data/hed_test_data/Meeting_Attendance_Report/D75473554303430AADBC77748F20E4E9_19_12.json').text\r\n",
        "oea.land(data, 'graph_api/v1.0/meeting_attendance_report', 'report212_hed_test_data.json', oea.ADDITIVE_BATCH_DATA, currentDateTime)\r\n",
        "data = requests.get('https://raw.githubusercontent.com/microsoft/OpenEduAnalytics/main/modules/module_catalog/Microsoft_Graph/test_data/hed_test_data/Meeting_Attendance_Report/D75473554303430AADBC77748F20E4E9_27_10.json').text\r\n",
        "oea.land(data, 'graph_api/v1.0/meeting_attendance_report', 'report213_hed_test_data.json', oea.ADDITIVE_BATCH_DATA, currentDateTime)\r\n",
        "data = requests.get('https://raw.githubusercontent.com/microsoft/OpenEduAnalytics/main/modules/module_catalog/Microsoft_Graph/test_data/hed_test_data/Meeting_Attendance_Report/D8991C4D1D924B97998B81B4804A3A72_18_8.json').text\r\n",
        "oea.land(data, 'graph_api/v1.0/meeting_attendance_report', 'report214_hed_test_data.json', oea.ADDITIVE_BATCH_DATA, currentDateTime)\r\n",
        "data = requests.get('https://raw.githubusercontent.com/microsoft/OpenEduAnalytics/main/modules/module_catalog/Microsoft_Graph/test_data/hed_test_data/Meeting_Attendance_Report/D8991C4D1D924B97998B81B4804A3A72_24_7.json').text\r\n",
        "oea.land(data, 'graph_api/v1.0/meeting_attendance_report', 'report215_hed_test_data.json', oea.ADDITIVE_BATCH_DATA, currentDateTime)\r\n",
        "data = requests.get('https://raw.githubusercontent.com/microsoft/OpenEduAnalytics/main/modules/module_catalog/Microsoft_Graph/test_data/hed_test_data/Meeting_Attendance_Report/D8991C4D1D924B97998B81B4804A3A72_3_11.json').text\r\n",
        "oea.land(data, 'graph_api/v1.0/meeting_attendance_report', 'report216_hed_test_data.json', oea.ADDITIVE_BATCH_DATA, currentDateTime)\r\n",
        "data = requests.get('https://raw.githubusercontent.com/microsoft/OpenEduAnalytics/main/modules/module_catalog/Microsoft_Graph/test_data/hed_test_data/Meeting_Attendance_Report/D8DDAC3FCAF04F2FAB556415E6548815_18_16.json').text\r\n",
        "oea.land(data, 'graph_api/v1.0/meeting_attendance_report', 'report217_hed_test_data.json', oea.ADDITIVE_BATCH_DATA, currentDateTime)\r\n",
        "data = requests.get('https://raw.githubusercontent.com/microsoft/OpenEduAnalytics/main/modules/module_catalog/Microsoft_Graph/test_data/hed_test_data/Meeting_Attendance_Report/D8DDAC3FCAF04F2FAB556415E6548815_6_8.json').text\r\n",
        "oea.land(data, 'graph_api/v1.0/meeting_attendance_report', 'report218_hed_test_data.json', oea.ADDITIVE_BATCH_DATA, currentDateTime)\r\n",
        "data = requests.get('https://raw.githubusercontent.com/microsoft/OpenEduAnalytics/main/modules/module_catalog/Microsoft_Graph/test_data/hed_test_data/Meeting_Attendance_Report/D8DDAC3FCAF04F2FAB556415E6548815_7_13.json').text\r\n",
        "oea.land(data, 'graph_api/v1.0/meeting_attendance_report', 'report219_hed_test_data.json', oea.ADDITIVE_BATCH_DATA, currentDateTime)\r\n",
        "data = requests.get('https://raw.githubusercontent.com/microsoft/OpenEduAnalytics/main/modules/module_catalog/Microsoft_Graph/test_data/hed_test_data/Meeting_Attendance_Report/DBBD9A73B355472188EC58D66BDFF9C0_19_11.json').text\r\n",
        "oea.land(data, 'graph_api/v1.0/meeting_attendance_report', 'report220_hed_test_data.json', oea.ADDITIVE_BATCH_DATA, currentDateTime)\r\n",
        "data = requests.get('https://raw.githubusercontent.com/microsoft/OpenEduAnalytics/main/modules/module_catalog/Microsoft_Graph/test_data/hed_test_data/Meeting_Attendance_Report/DBBD9A73B355472188EC58D66BDFF9C0_27_9.json').text\r\n",
        "oea.land(data, 'graph_api/v1.0/meeting_attendance_report', 'report221_hed_test_data.json', oea.ADDITIVE_BATCH_DATA, currentDateTime)\r\n",
        "data = requests.get('https://raw.githubusercontent.com/microsoft/OpenEduAnalytics/main/modules/module_catalog/Microsoft_Graph/test_data/hed_test_data/Meeting_Attendance_Report/DBBD9A73B355472188EC58D66BDFF9C0_28_13.json').text\r\n",
        "oea.land(data, 'graph_api/v1.0/meeting_attendance_report', 'report222_hed_test_data.json', oea.ADDITIVE_BATCH_DATA, currentDateTime)\r\n",
        "data = requests.get('https://raw.githubusercontent.com/microsoft/OpenEduAnalytics/main/modules/module_catalog/Microsoft_Graph/test_data/hed_test_data/Meeting_Attendance_Report/DE9680C86ACE45F083586D625595D07F_12_9.json').text\r\n",
        "oea.land(data, 'graph_api/v1.0/meeting_attendance_report', 'report223_hed_test_data.json', oea.ADDITIVE_BATCH_DATA, currentDateTime)\r\n",
        "data = requests.get('https://raw.githubusercontent.com/microsoft/OpenEduAnalytics/main/modules/module_catalog/Microsoft_Graph/test_data/hed_test_data/Meeting_Attendance_Report/DE9680C86ACE45F083586D625595D07F_13_10.json').text\r\n",
        "oea.land(data, 'graph_api/v1.0/meeting_attendance_report', 'report224_hed_test_data.json', oea.ADDITIVE_BATCH_DATA, currentDateTime)\r\n",
        "data = requests.get('https://raw.githubusercontent.com/microsoft/OpenEduAnalytics/main/modules/module_catalog/Microsoft_Graph/test_data/hed_test_data/Meeting_Attendance_Report/DE9680C86ACE45F083586D625595D07F_27_9.json').text\r\n",
        "oea.land(data, 'graph_api/v1.0/meeting_attendance_report', 'report225_hed_test_data.json', oea.ADDITIVE_BATCH_DATA, currentDateTime)\r\n",
        "data = requests.get('https://raw.githubusercontent.com/microsoft/OpenEduAnalytics/main/modules/module_catalog/Microsoft_Graph/test_data/hed_test_data/Meeting_Attendance_Report/E5A01DE79553432FA7F86CAF28A8599B_13_11.json').text\r\n",
        "oea.land(data, 'graph_api/v1.0/meeting_attendance_report', 'report226_hed_test_data.json', oea.ADDITIVE_BATCH_DATA, currentDateTime)\r\n",
        "data = requests.get('https://raw.githubusercontent.com/microsoft/OpenEduAnalytics/main/modules/module_catalog/Microsoft_Graph/test_data/hed_test_data/Meeting_Attendance_Report/E5A01DE79553432FA7F86CAF28A8599B_18_8.json').text\r\n",
        "oea.land(data, 'graph_api/v1.0/meeting_attendance_report', 'report227_hed_test_data.json', oea.ADDITIVE_BATCH_DATA, currentDateTime)\r\n",
        "data = requests.get('https://raw.githubusercontent.com/microsoft/OpenEduAnalytics/main/modules/module_catalog/Microsoft_Graph/test_data/hed_test_data/Meeting_Attendance_Report/E5A01DE79553432FA7F86CAF28A8599B_20_7.json').text\r\n",
        "oea.land(data, 'graph_api/v1.0/meeting_attendance_report', 'report228_hed_test_data.json', oea.ADDITIVE_BATCH_DATA, currentDateTime)\r\n",
        "data = requests.get('https://raw.githubusercontent.com/microsoft/OpenEduAnalytics/main/modules/module_catalog/Microsoft_Graph/test_data/hed_test_data/Meeting_Attendance_Report/E6B970EC95E444759FEF0581FC0110B1_17_15.json').text\r\n",
        "oea.land(data, 'graph_api/v1.0/meeting_attendance_report', 'report229_hed_test_data.json', oea.ADDITIVE_BATCH_DATA, currentDateTime)\r\n",
        "data = requests.get('https://raw.githubusercontent.com/microsoft/OpenEduAnalytics/main/modules/module_catalog/Microsoft_Graph/test_data/hed_test_data/Meeting_Attendance_Report/E6B970EC95E444759FEF0581FC0110B1_25_16.json').text\r\n",
        "oea.land(data, 'graph_api/v1.0/meeting_attendance_report', 'report230_hed_test_data.json', oea.ADDITIVE_BATCH_DATA, currentDateTime)\r\n",
        "data = requests.get('https://raw.githubusercontent.com/microsoft/OpenEduAnalytics/main/modules/module_catalog/Microsoft_Graph/test_data/hed_test_data/Meeting_Attendance_Report/E6B970EC95E444759FEF0581FC0110B1_4_8.json').text\r\n",
        "oea.land(data, 'graph_api/v1.0/meeting_attendance_report', 'report231_hed_test_data.json', oea.ADDITIVE_BATCH_DATA, currentDateTime)\r\n",
        "data = requests.get('https://raw.githubusercontent.com/microsoft/OpenEduAnalytics/main/modules/module_catalog/Microsoft_Graph/test_data/hed_test_data/Meeting_Attendance_Report/E7FD916EDB4E4533B3A57E8A5053DAA8_18_10.json').text\r\n",
        "oea.land(data, 'graph_api/v1.0/meeting_attendance_report', 'report232_hed_test_data.json', oea.ADDITIVE_BATCH_DATA, currentDateTime)\r\n",
        "data = requests.get('https://raw.githubusercontent.com/microsoft/OpenEduAnalytics/main/modules/module_catalog/Microsoft_Graph/test_data/hed_test_data/Meeting_Attendance_Report/E7FD916EDB4E4533B3A57E8A5053DAA8_20_9.json').text\r\n",
        "oea.land(data, 'graph_api/v1.0/meeting_attendance_report', 'report233_hed_test_data.json', oea.ADDITIVE_BATCH_DATA, currentDateTime)\r\n",
        "data = requests.get('https://raw.githubusercontent.com/microsoft/OpenEduAnalytics/main/modules/module_catalog/Microsoft_Graph/test_data/hed_test_data/Meeting_Attendance_Report/E7FD916EDB4E4533B3A57E8A5053DAA8_24_16.json').text\r\n",
        "oea.land(data, 'graph_api/v1.0/meeting_attendance_report', 'report234_hed_test_data.json', oea.ADDITIVE_BATCH_DATA, currentDateTime)\r\n",
        "data = requests.get('https://raw.githubusercontent.com/microsoft/OpenEduAnalytics/main/modules/module_catalog/Microsoft_Graph/test_data/hed_test_data/Meeting_Attendance_Report/ED5760AB46DC44BBAB0CF9E8F59658D5_11_16.json').text\r\n",
        "oea.land(data, 'graph_api/v1.0/meeting_attendance_report', 'report235_hed_test_data.json', oea.ADDITIVE_BATCH_DATA, currentDateTime)\r\n",
        "data = requests.get('https://raw.githubusercontent.com/microsoft/OpenEduAnalytics/main/modules/module_catalog/Microsoft_Graph/test_data/hed_test_data/Meeting_Attendance_Report/ED5760AB46DC44BBAB0CF9E8F59658D5_4_12.json').text\r\n",
        "oea.land(data, 'graph_api/v1.0/meeting_attendance_report', 'report236_hed_test_data.json', oea.ADDITIVE_BATCH_DATA, currentDateTime)\r\n",
        "data = requests.get('https://raw.githubusercontent.com/microsoft/OpenEduAnalytics/main/modules/module_catalog/Microsoft_Graph/test_data/hed_test_data/Meeting_Attendance_Report/ED5760AB46DC44BBAB0CF9E8F59658D5_5_7.json').text\r\n",
        "oea.land(data, 'graph_api/v1.0/meeting_attendance_report', 'report237_hed_test_data.json', oea.ADDITIVE_BATCH_DATA, currentDateTime)\r\n",
        "data = requests.get('https://raw.githubusercontent.com/microsoft/OpenEduAnalytics/main/modules/module_catalog/Microsoft_Graph/test_data/hed_test_data/Meeting_Attendance_Report/EEFC922BA6B543A28FECDEC638E07EE0_20_10.json').text\r\n",
        "oea.land(data, 'graph_api/v1.0/meeting_attendance_report', 'report238_hed_test_data.json', oea.ADDITIVE_BATCH_DATA, currentDateTime)\r\n",
        "data = requests.get('https://raw.githubusercontent.com/microsoft/OpenEduAnalytics/main/modules/module_catalog/Microsoft_Graph/test_data/hed_test_data/Meeting_Attendance_Report/EEFC922BA6B543A28FECDEC638E07EE0_20_13.json').text\r\n",
        "oea.land(data, 'graph_api/v1.0/meeting_attendance_report', 'report239_hed_test_data.json', oea.ADDITIVE_BATCH_DATA, currentDateTime)\r\n",
        "data = requests.get('https://raw.githubusercontent.com/microsoft/OpenEduAnalytics/main/modules/module_catalog/Microsoft_Graph/test_data/hed_test_data/Meeting_Attendance_Report/EEFC922BA6B543A28FECDEC638E07EE0_26_8.json').text\r\n",
        "oea.land(data, 'graph_api/v1.0/meeting_attendance_report', 'report240_hed_test_data.json', oea.ADDITIVE_BATCH_DATA, currentDateTime)\r\n",
        "data = requests.get('https://raw.githubusercontent.com/microsoft/OpenEduAnalytics/main/modules/module_catalog/Microsoft_Graph/test_data/hed_test_data/Meeting_Attendance_Report/F1EE0B9AD5F7421EB3B49578A2E3B09B_17_7.json').text\r\n",
        "oea.land(data, 'graph_api/v1.0/meeting_attendance_report', 'report241_hed_test_data.json', oea.ADDITIVE_BATCH_DATA, currentDateTime)\r\n",
        "data = requests.get('https://raw.githubusercontent.com/microsoft/OpenEduAnalytics/main/modules/module_catalog/Microsoft_Graph/test_data/hed_test_data/Meeting_Attendance_Report/F1EE0B9AD5F7421EB3B49578A2E3B09B_28_9.json').text\r\n",
        "oea.land(data, 'graph_api/v1.0/meeting_attendance_report', 'report242_hed_test_data.json', oea.ADDITIVE_BATCH_DATA, currentDateTime)\r\n",
        "data = requests.get('https://raw.githubusercontent.com/microsoft/OpenEduAnalytics/main/modules/module_catalog/Microsoft_Graph/test_data/hed_test_data/Meeting_Attendance_Report/F1EE0B9AD5F7421EB3B49578A2E3B09B_7_13.json').text\r\n",
        "oea.land(data, 'graph_api/v1.0/meeting_attendance_report', 'report243_hed_test_data.json', oea.ADDITIVE_BATCH_DATA, currentDateTime)\r\n",
        "data = requests.get('https://raw.githubusercontent.com/microsoft/OpenEduAnalytics/main/modules/module_catalog/Microsoft_Graph/test_data/hed_test_data/Meeting_Attendance_Report/F1F03A18392E40818B01E55D19C26700_20_13.json').text\r\n",
        "oea.land(data, 'graph_api/v1.0/meeting_attendance_report', 'report244_hed_test_data.json', oea.ADDITIVE_BATCH_DATA, currentDateTime)\r\n",
        "data = requests.get('https://raw.githubusercontent.com/microsoft/OpenEduAnalytics/main/modules/module_catalog/Microsoft_Graph/test_data/hed_test_data/Meeting_Attendance_Report/F1F03A18392E40818B01E55D19C26700_24_7.json').text\r\n",
        "oea.land(data, 'graph_api/v1.0/meeting_attendance_report', 'report245_hed_test_data.json', oea.ADDITIVE_BATCH_DATA, currentDateTime)\r\n",
        "data = requests.get('https://raw.githubusercontent.com/microsoft/OpenEduAnalytics/main/modules/module_catalog/Microsoft_Graph/test_data/hed_test_data/Meeting_Attendance_Report/F1F03A18392E40818B01E55D19C26700_6_16.json').text\r\n",
        "oea.land(data, 'graph_api/v1.0/meeting_attendance_report', 'report246_hed_test_data.json', oea.ADDITIVE_BATCH_DATA, currentDateTime)\r\n",
        "data = requests.get('https://raw.githubusercontent.com/microsoft/OpenEduAnalytics/main/modules/module_catalog/Microsoft_Graph/test_data/hed_test_data/Meeting_Attendance_Report/F7163B9D8FB64D1F828028906A69CD98_13_15.json').text\r\n",
        "oea.land(data, 'graph_api/v1.0/meeting_attendance_report', 'report247_hed_test_data.json', oea.ADDITIVE_BATCH_DATA, currentDateTime)\r\n",
        "data = requests.get('https://raw.githubusercontent.com/microsoft/OpenEduAnalytics/main/modules/module_catalog/Microsoft_Graph/test_data/hed_test_data/Meeting_Attendance_Report/F7163B9D8FB64D1F828028906A69CD98_14_13.json').text\r\n",
        "oea.land(data, 'graph_api/v1.0/meeting_attendance_report', 'report248_hed_test_data.json', oea.ADDITIVE_BATCH_DATA, currentDateTime)\r\n",
        "data = requests.get('https://raw.githubusercontent.com/microsoft/OpenEduAnalytics/main/modules/module_catalog/Microsoft_Graph/test_data/hed_test_data/Meeting_Attendance_Report/F7163B9D8FB64D1F828028906A69CD98_20_16.json').text\r\n",
        "oea.land(data, 'graph_api/v1.0/meeting_attendance_report', 'report249_hed_test_data.json', oea.ADDITIVE_BATCH_DATA, currentDateTime)\r\n",
        "data = requests.get('https://raw.githubusercontent.com/microsoft/OpenEduAnalytics/main/modules/module_catalog/Microsoft_Graph/test_data/hed_test_data/Meeting_Attendance_Report/F94C741BE5064831A356F30C6863C6E2_13_16.json').text\r\n",
        "oea.land(data, 'graph_api/v1.0/meeting_attendance_report', 'report250_hed_test_data.json', oea.ADDITIVE_BATCH_DATA, currentDateTime)\r\n",
        "data = requests.get('https://raw.githubusercontent.com/microsoft/OpenEduAnalytics/main/modules/module_catalog/Microsoft_Graph/test_data/hed_test_data/Meeting_Attendance_Report/F94C741BE5064831A356F30C6863C6E2_6_12.json').text\r\n",
        "oea.land(data, 'graph_api/v1.0/meeting_attendance_report', 'report251_hed_test_data.json', oea.ADDITIVE_BATCH_DATA, currentDateTime)\r\n",
        "data = requests.get('https://raw.githubusercontent.com/microsoft/OpenEduAnalytics/main/modules/module_catalog/Microsoft_Graph/test_data/hed_test_data/Meeting_Attendance_Report/F94C741BE5064831A356F30C6863C6E2_7_12.json').text\r\n",
        "oea.land(data, 'graph_api/v1.0/meeting_attendance_report', 'report252_hed_test_data.json', oea.ADDITIVE_BATCH_DATA, currentDateTime)\r\n",
        "data = requests.get('https://raw.githubusercontent.com/microsoft/OpenEduAnalytics/main/modules/module_catalog/Microsoft_Graph/test_data/hed_test_data/Meeting_Attendance_Report/F9A6820A57E542CBA302680BB6BD2B22_24_10.json').text\r\n",
        "oea.land(data, 'graph_api/v1.0/meeting_attendance_report', 'report253_hed_test_data.json', oea.ADDITIVE_BATCH_DATA, currentDateTime)\r\n",
        "data = requests.get('https://raw.githubusercontent.com/microsoft/OpenEduAnalytics/main/modules/module_catalog/Microsoft_Graph/test_data/hed_test_data/Meeting_Attendance_Report/F9A6820A57E542CBA302680BB6BD2B22_6_13.json').text\r\n",
        "oea.land(data, 'graph_api/v1.0/meeting_attendance_report', 'report254_hed_test_data.json', oea.ADDITIVE_BATCH_DATA, currentDateTime)\r\n",
        "data = requests.get('https://raw.githubusercontent.com/microsoft/OpenEduAnalytics/main/modules/module_catalog/Microsoft_Graph/test_data/hed_test_data/Meeting_Attendance_Report/F9A6820A57E542CBA302680BB6BD2B22_7_14.json').text\r\n",
        "oea.land(data, 'graph_api/v1.0/meeting_attendance_report', 'report255_hed_test_data.json', oea.ADDITIVE_BATCH_DATA, currentDateTime)\r\n",
        "data = requests.get('https://raw.githubusercontent.com/microsoft/OpenEduAnalytics/main/modules/module_catalog/Microsoft_Graph/test_data/hed_test_data/Meeting_Attendance_Report/FAF3539D627A4E6280B60BC3C73E95E2_11_13.json').text\r\n",
        "oea.land(data, 'graph_api/v1.0/meeting_attendance_report', 'report256_hed_test_data.json', oea.ADDITIVE_BATCH_DATA, currentDateTime)\r\n",
        "data = requests.get('https://raw.githubusercontent.com/microsoft/OpenEduAnalytics/main/modules/module_catalog/Microsoft_Graph/test_data/hed_test_data/Meeting_Attendance_Report/FAF3539D627A4E6280B60BC3C73E95E2_13_9.json').text\r\n",
        "oea.land(data, 'graph_api/v1.0/meeting_attendance_report', 'report257_hed_test_data.json', oea.ADDITIVE_BATCH_DATA, currentDateTime)\r\n",
        "data = requests.get('https://raw.githubusercontent.com/microsoft/OpenEduAnalytics/main/modules/module_catalog/Microsoft_Graph/test_data/hed_test_data/Meeting_Attendance_Report/FAF3539D627A4E6280B60BC3C73E95E2_6_7.json').text\r\n",
        "oea.land(data, 'graph_api/v1.0/meeting_attendance_report', 'report258_hed_test_data.json', oea.ADDITIVE_BATCH_DATA, currentDateTime)\r\n",
        "data = requests.get('https://raw.githubusercontent.com/microsoft/OpenEduAnalytics/main/modules/module_catalog/Microsoft_Graph/test_data/hed_test_data/Meeting_Attendance_Report/FCAE13D8ADD94DB8B1BD65E4607B7DE0_13_9.json').text\r\n",
        "oea.land(data, 'graph_api/v1.0/meeting_attendance_report', 'report259_hed_test_data.json', oea.ADDITIVE_BATCH_DATA, currentDateTime)\r\n",
        "data = requests.get('https://raw.githubusercontent.com/microsoft/OpenEduAnalytics/main/modules/module_catalog/Microsoft_Graph/test_data/hed_test_data/Meeting_Attendance_Report/FCAE13D8ADD94DB8B1BD65E4607B7DE0_18_10.json').text\r\n",
        "oea.land(data, 'graph_api/v1.0/meeting_attendance_report', 'report260_hed_test_data.json', oea.ADDITIVE_BATCH_DATA, currentDateTime)\r\n",
        "data = requests.get('https://raw.githubusercontent.com/microsoft/OpenEduAnalytics/main/modules/module_catalog/Microsoft_Graph/test_data/hed_test_data/Meeting_Attendance_Report/FCAE13D8ADD94DB8B1BD65E4607B7DE0_4_14.json').text\r\n",
        "oea.land(data, 'graph_api/v1.0/meeting_attendance_report', 'report261_hed_test_data.json', oea.ADDITIVE_BATCH_DATA, currentDateTime)"
      ],
      "outputs": [
        {
          "output_type": "display_data",
          "data": {
            "application/vnd.livy.statement-meta+json": {
              "spark_pool": "spark3p2med",
              "session_id": "36",
              "statement_id": 3,
              "state": "finished",
              "livy_statement_state": "available",
              "queued_time": "2023-01-07T00:11:58.9822885Z",
              "session_start_time": null,
              "execution_start_time": "2023-01-07T00:15:59.8193782Z",
              "execution_finish_time": "2023-01-07T00:17:19.9400623Z",
              "spark_jobs": null
            },
            "text/plain": "StatementMeta(spark3p2med, 36, 3, Finished, Available)"
          },
          "metadata": {}
        },
        {
          "output_type": "execute_result",
          "execution_count": 9,
          "data": {
            "text/plain": "'stage1/Transactional/graph_api/v1.0/meeting_attendance_report/additive_batch_data/rundate=2023-01-07 00-15-59/report261_hed_test_data.json'"
          },
          "metadata": {}
        }
      ],
      "execution_count": 49,
      "metadata": {
        "jupyter": {
          "source_hidden": false,
          "outputs_hidden": false
        },
        "nteract": {
          "transient": {
            "deleting": false
          }
        }
      }
    },
    {
      "cell_type": "markdown",
      "source": [
        "## 3.) Ingest the Graph Module Test Data\r\n",
        "\r\n",
        "This step ingests the Graph module test data from stage1 to stage2/Ingested (ingests either the K-12 or Higher Ed. test data - whichever dataset is in your lake, chosen from the last step).\r\n",
        "\r\n",
        "Both test datasets are formatted exactly as the Graph data - thus, the schema will be un-flattened, initially. Ingest the data using the ```oea.ingest()``` function as normal, and next step will correct each table's schema. \r\n",
        "\r\n",
        "*NOTE:* There is a pre-processing step where the \"@odata.context\" field in the meeting_attendance_report table is dropped in order to ingest properly.\r\n",
        "\r\n",
        "**To-Do's:**\r\n",
        " - Confirm this is the way to ingest the meeting_attendance_report data.\r\n",
        "    * *Will need to be updated per production data purposes* - the pre-processing method replaces all the data in the lake, under graph_api/v1.0/meeting__attendance_report, with the updated schema. This may cause issues with processing batch data over more periods of time."
      ],
      "metadata": {
        "nteract": {
          "transient": {
            "deleting": false
          }
        }
      }
    },
    {
      "cell_type": "code",
      "source": [
        "# 3) The next step is to ingest the batch data into stage2\r\n",
        "# Note that when you run this the first time, you'll see an info message like \"Number of new inbound rows processed: 2\".\r\n",
        "# If you run this a second time, the number of inbound rows processed will be 0 because the ingestion uses spark structured streaming to keep track of what data has already been processed.\r\n",
        "oea.ingest(f'graph_api/beta/users', 'value')\r\n",
        "oea.ingest(f'graph_api/beta/m365_app_user_detail', 'value')\r\n",
        "oea.ingest(f'graph_api/beta/teams_activity_user_detail', 'value')"
      ],
      "outputs": [
        {
          "output_type": "display_data",
          "data": {
            "application/vnd.livy.statement-meta+json": {
              "spark_pool": "spark3p2med",
              "session_id": "36",
              "statement_id": 4,
              "state": "finished",
              "livy_statement_state": "available",
              "queued_time": "2023-01-07T00:12:06.0593512Z",
              "session_start_time": null,
              "execution_start_time": "2023-01-07T00:17:20.0841393Z",
              "execution_finish_time": "2023-01-07T00:18:49.2771661Z",
              "spark_jobs": null
            },
            "text/plain": "StatementMeta(spark3p2med, 36, 4, Finished, Available)"
          },
          "metadata": {}
        },
        {
          "output_type": "stream",
          "name": "stdout",
          "text": [
            "2023-01-07 00:17:20,371 - OEA - INFO - Ingesting from: stage1/Transactional/graph_api/beta/users, batch type of: snapshot, source data format of: json\n2023-01-07 00:17:36,521 - py4j.java_gateway - INFO - Callback Server Starting\n2023-01-07 00:17:36,522 - py4j.java_gateway - INFO - Socket listening on ('127.0.0.1', 37195)\n2023-01-07 00:17:38,620 - py4j.java_gateway - INFO - Callback Connection ready to receive messages\n2023-01-07 00:17:38,621 - py4j.java_gateway - INFO - Received command c on object id p0\n2023-01-07 00:18:12,121 - OEA - INFO - Number of new inbound rows processed: 600\n2023-01-07 00:18:28,356 - OEA - INFO - Ingesting from: stage1/Transactional/graph_api/beta/m365_app_user_detail, batch type of: additive, source data format of: json\n2023-01-07 00:18:34,041 - py4j.java_gateway - INFO - Received command c on object id p1\n2023-01-07 00:18:41,278 - OEA - INFO - Number of new inbound rows processed: 512\n2023-01-07 00:18:41,670 - OEA - INFO - Ingesting from: stage1/Transactional/graph_api/beta/teams_activity_user_detail, batch type of: additive, source data format of: json\n2023-01-07 00:18:44,094 - py4j.java_gateway - INFO - Received command c on object id p2\n2023-01-07 00:18:48,317 - OEA - INFO - Number of new inbound rows processed: 497\n"
          ]
        },
        {
          "output_type": "execute_result",
          "execution_count": 11,
          "data": {
            "text/plain": "497"
          },
          "metadata": {}
        }
      ],
      "execution_count": 50,
      "metadata": {
        "jupyter": {
          "source_hidden": false,
          "outputs_hidden": false
        },
        "nteract": {
          "transient": {
            "deleting": false
          }
        },
        "collapsed": false
      }
    },
    {
      "cell_type": "code",
      "source": [
        "# read in the original meeting_attendance_report table, if you chose to land the HEd test dataset, remove the '@odata.context' column and confirm it has been removed.\r\n",
        "df = spark.read.format('json').load(oea.to_url('stage1/Transactional/graph_api/v1.0/meeting_attendance_report'), multiline='true')\r\n",
        "df_corrected = df.select('id', 'totalParticipantCount', 'meetingStartDateTime', 'meetingEndDateTime', 'attendanceRecords')\r\n",
        "display(df_corrected.limit(10))"
      ],
      "outputs": [
        {
          "output_type": "display_data",
          "data": {
            "application/vnd.livy.statement-meta+json": {
              "spark_pool": "spark3p2med",
              "session_id": "36",
              "statement_id": 5,
              "state": "finished",
              "livy_statement_state": "available",
              "queued_time": "2023-01-07T00:12:08.6494386Z",
              "session_start_time": null,
              "execution_start_time": "2023-01-07T00:18:49.4072565Z",
              "execution_finish_time": "2023-01-07T00:19:10.4472329Z",
              "spark_jobs": null
            },
            "text/plain": "StatementMeta(spark3p2med, 36, 5, Finished, Available)"
          },
          "metadata": {}
        },
        {
          "output_type": "display_data",
          "data": {
            "application/vnd.synapse.widget-view+json": {
              "widget_id": "c064f5a5-db7a-4071-abb3-8c5f4de131da",
              "widget_type": "Synapse.DataFrame"
            },
            "text/plain": "SynapseWidget(Synapse.DataFrame, c064f5a5-db7a-4071-abb3-8c5f4de131da)"
          },
          "metadata": {}
        }
      ],
      "execution_count": 51,
      "metadata": {
        "jupyter": {
          "source_hidden": false,
          "outputs_hidden": false
        },
        "nteract": {
          "transient": {
            "deleting": false
          }
        },
        "collapsed": false
      }
    },
    {
      "cell_type": "code",
      "source": [
        "df_corrected.printSchema()"
      ],
      "outputs": [
        {
          "output_type": "display_data",
          "data": {
            "application/vnd.livy.statement-meta+json": {
              "spark_pool": "spark3p2med",
              "session_id": "36",
              "statement_id": 6,
              "state": "finished",
              "livy_statement_state": "available",
              "queued_time": "2023-01-07T00:12:37.2251964Z",
              "session_start_time": null,
              "execution_start_time": "2023-01-07T00:19:10.5801817Z",
              "execution_finish_time": "2023-01-07T00:19:10.7674272Z",
              "spark_jobs": null
            },
            "text/plain": "StatementMeta(spark3p2med, 36, 6, Finished, Available)"
          },
          "metadata": {}
        },
        {
          "output_type": "stream",
          "name": "stdout",
          "text": [
            "root\n |-- id: string (nullable = true)\n |-- totalParticipantCount: long (nullable = true)\n |-- meetingStartDateTime: string (nullable = true)\n |-- meetingEndDateTime: string (nullable = true)\n |-- attendanceRecords: array (nullable = true)\n |    |-- element: struct (containsNull = true)\n |    |    |-- attendanceIntervals: array (nullable = true)\n |    |    |    |-- element: struct (containsNull = true)\n |    |    |    |    |-- durationInSeconds: long (nullable = true)\n |    |    |    |    |-- joinDateTime: string (nullable = true)\n |    |    |    |    |-- leaveDateTime: string (nullable = true)\n |    |    |-- emailAddress: string (nullable = true)\n |    |    |-- identity: struct (nullable = true)\n |    |    |    |-- displayName: string (nullable = true)\n |    |    |    |-- id: string (nullable = true)\n |    |    |    |-- tenantId: string (nullable = true)\n |    |    |-- role: string (nullable = true)\n |    |    |-- totalAttendanceInSeconds: long (nullable = true)\n\n"
          ]
        }
      ],
      "execution_count": 52,
      "metadata": {
        "jupyter": {
          "source_hidden": false,
          "outputs_hidden": false
        },
        "nteract": {
          "transient": {
            "deleting": false
          }
        }
      }
    },
    {
      "cell_type": "code",
      "source": [
        "# set the current date and time (using the correct format), and write out to the same relative same location, with a new rundate partition-folder.\r\n",
        "import datetime\r\n",
        "currentDate = datetime.datetime.now()\r\n",
        "currentDateTime = currentDate.strftime(\"%Y-%m-%d %H-%M-%S\")\r\n",
        "table_path = 'stage1/Transactional/graph_api/v1.0/meeting_attendance_report/additive_batch_data/rundate=' + currentDateTime\r\n",
        "df_corrected.write.save(oea.to_url(table_path), format='json', mode='overwrite', overwriteSchema='true')"
      ],
      "outputs": [
        {
          "output_type": "display_data",
          "data": {
            "application/vnd.livy.statement-meta+json": {
              "spark_pool": "spark3p2med",
              "session_id": "36",
              "statement_id": 7,
              "state": "finished",
              "livy_statement_state": "available",
              "queued_time": "2023-01-07T00:12:39.3733978Z",
              "session_start_time": null,
              "execution_start_time": "2023-01-07T00:19:10.875477Z",
              "execution_finish_time": "2023-01-07T00:19:12.6971625Z",
              "spark_jobs": null
            },
            "text/plain": "StatementMeta(spark3p2med, 36, 7, Finished, Available)"
          },
          "metadata": {}
        }
      ],
      "execution_count": 53,
      "metadata": {
        "jupyter": {
          "source_hidden": false,
          "outputs_hidden": false
        },
        "nteract": {
          "transient": {
            "deleting": false
          }
        }
      }
    },
    {
      "cell_type": "code",
      "source": [
        "# only house the latest rundate folder compared to the old data (which had the '@odata.context' column).\r\n",
        "def clean_data_lake_latest(source_path):\r\n",
        "    latest_folder = oea.get_latest_folder(source_path)\r\n",
        "    items = mssparkutils.fs.ls(oea.to_url(source_path))\r\n",
        "    for item in items:\r\n",
        "        if item.name != latest_folder:\r\n",
        "            logger.info('file removal path: ' + item.path + ' with item: ' + item.name)\r\n",
        "            oea.rm_if_exists(source_path + '/' + item.name)\r\n",
        "            logger.info('Successfully removed folder: ' + item.name + ' from path: ' + item.path)\r\n",
        "        else:\r\n",
        "            logger.info('Kept folder: ' + item.name + ' from path: ' + item.path)\r\n",
        "    logger.info('Finished cleaning data lake to house only the latest folder')"
      ],
      "outputs": [
        {
          "output_type": "display_data",
          "data": {
            "application/vnd.livy.statement-meta+json": {
              "spark_pool": "spark3p2med",
              "session_id": "36",
              "statement_id": 8,
              "state": "finished",
              "livy_statement_state": "available",
              "queued_time": "2023-01-07T00:12:41.5879825Z",
              "session_start_time": null,
              "execution_start_time": "2023-01-07T00:19:12.8099508Z",
              "execution_finish_time": "2023-01-07T00:19:12.9780577Z",
              "spark_jobs": null
            },
            "text/plain": "StatementMeta(spark3p2med, 36, 8, Finished, Available)"
          },
          "metadata": {}
        }
      ],
      "execution_count": 54,
      "metadata": {
        "jupyter": {
          "source_hidden": false,
          "outputs_hidden": false
        },
        "nteract": {
          "transient": {
            "deleting": false
          }
        }
      }
    },
    {
      "cell_type": "code",
      "source": [
        "clean_data_lake_latest('stage1/Transactional/graph_api/v1.0/meeting_attendance_report/additive_batch_data')"
      ],
      "outputs": [
        {
          "output_type": "display_data",
          "data": {
            "application/vnd.livy.statement-meta+json": {
              "spark_pool": "spark3p2med",
              "session_id": "36",
              "statement_id": 9,
              "state": "finished",
              "livy_statement_state": "available",
              "queued_time": "2023-01-07T00:12:43.2084353Z",
              "session_start_time": null,
              "execution_start_time": "2023-01-07T00:19:13.1471013Z",
              "execution_finish_time": "2023-01-07T00:19:13.3195153Z",
              "spark_jobs": null
            },
            "text/plain": "StatementMeta(spark3p2med, 36, 9, Finished, Available)"
          },
          "metadata": {}
        },
        {
          "output_type": "stream",
          "name": "stdout",
          "text": [
            "2023-01-07 00:19:13,153 - OEA - INFO - file removal path: abfss://oea@stoeacisd3v07kw1.dfs.core.windows.net/dev/stage1/Transactional/graph_api/v1.0/meeting_attendance_report/additive_batch_data/rundate=2023-01-07 00-15-59 with item: rundate=2023-01-07 00-15-59\n2023-01-07 00:19:13,205 - OEA - INFO - Successfully removed folder: rundate=2023-01-07 00-15-59 from path: abfss://oea@stoeacisd3v07kw1.dfs.core.windows.net/dev/stage1/Transactional/graph_api/v1.0/meeting_attendance_report/additive_batch_data/rundate=2023-01-07 00-15-59\n2023-01-07 00:19:13,205 - OEA - INFO - Kept folder: rundate=2023-01-07 00-19-10 from path: abfss://oea@stoeacisd3v07kw1.dfs.core.windows.net/dev/stage1/Transactional/graph_api/v1.0/meeting_attendance_report/additive_batch_data/rundate=2023-01-07 00-19-10\n2023-01-07 00:19:13,206 - OEA - INFO - Finished cleaning data lake to house only the latest folder\n"
          ]
        }
      ],
      "execution_count": 55,
      "metadata": {
        "jupyter": {
          "source_hidden": false,
          "outputs_hidden": false
        },
        "nteract": {
          "transient": {
            "deleting": false
          }
        }
      }
    },
    {
      "cell_type": "code",
      "source": [
        "# ad hoc work - remove the _SUCCESS file, otherwise this will throw an error when ingesting the table.\r\n",
        "table_path = 'stage1/Transactional/graph_api/v1.0/meeting_attendance_report/additive_batch_data/rundate=' + currentDateTime\r\n",
        "oea.rm_if_exists(table_path + '/_SUCCESS', False)"
      ],
      "outputs": [
        {
          "output_type": "display_data",
          "data": {
            "application/vnd.livy.statement-meta+json": {
              "spark_pool": "spark3p2med",
              "session_id": "36",
              "statement_id": 10,
              "state": "finished",
              "livy_statement_state": "available",
              "queued_time": "2023-01-07T00:12:45.1586957Z",
              "session_start_time": null,
              "execution_start_time": "2023-01-07T00:19:13.4378577Z",
              "execution_finish_time": "2023-01-07T00:19:13.6051557Z",
              "spark_jobs": null
            },
            "text/plain": "StatementMeta(spark3p2med, 36, 10, Finished, Available)"
          },
          "metadata": {}
        }
      ],
      "execution_count": 56,
      "metadata": {
        "jupyter": {
          "source_hidden": false,
          "outputs_hidden": false
        },
        "nteract": {
          "transient": {
            "deleting": false
          }
        }
      }
    },
    {
      "cell_type": "code",
      "source": [
        "oea.ingest(f'graph_api/v1.0/meeting_attendance_report', 'id')"
      ],
      "outputs": [
        {
          "output_type": "display_data",
          "data": {
            "application/vnd.livy.statement-meta+json": {
              "spark_pool": "spark3p2med",
              "session_id": "36",
              "statement_id": 11,
              "state": "finished",
              "livy_statement_state": "available",
              "queued_time": "2023-01-07T00:12:47.0548485Z",
              "session_start_time": null,
              "execution_start_time": "2023-01-07T00:19:13.7157213Z",
              "execution_finish_time": "2023-01-07T00:19:22.3836736Z",
              "spark_jobs": null
            },
            "text/plain": "StatementMeta(spark3p2med, 36, 11, Finished, Available)"
          },
          "metadata": {}
        },
        {
          "output_type": "stream",
          "name": "stdout",
          "text": [
            "2023-01-07 00:19:13,742 - OEA - INFO - Ingesting from: stage1/Transactional/graph_api/v1.0/meeting_attendance_report, batch type of: additive, source data format of: json\n2023-01-07 00:19:15,548 - py4j.java_gateway - INFO - Received command c on object id p3\n2023-01-07 00:19:19,448 - OEA - INFO - Number of new inbound rows processed: 261\n"
          ]
        },
        {
          "output_type": "execute_result",
          "execution_count": 25,
          "data": {
            "text/plain": "261"
          },
          "metadata": {}
        }
      ],
      "execution_count": 57,
      "metadata": {
        "jupyter": {
          "source_hidden": false,
          "outputs_hidden": false
        },
        "nteract": {
          "transient": {
            "deleting": false
          }
        }
      }
    },
    {
      "cell_type": "code",
      "source": [
        "# 3.5) Now you can run queries against the auto-generated \"lake database\" with the ingested Graph data.\r\n",
        "df = spark.sql(\"select * from ldb_sam_s2i_graph_api_v1p0.meeting_attendance_report\")\r\n",
        "display(df.limit(10))"
      ],
      "outputs": [
        {
          "output_type": "display_data",
          "data": {
            "application/vnd.livy.statement-meta+json": {
              "spark_pool": "spark3p2med",
              "session_id": "36",
              "statement_id": 12,
              "state": "finished",
              "livy_statement_state": "available",
              "queued_time": "2023-01-07T00:15:06.4289671Z",
              "session_start_time": null,
              "execution_start_time": "2023-01-07T00:19:22.497069Z",
              "execution_finish_time": "2023-01-07T00:19:24.4673045Z",
              "spark_jobs": null
            },
            "text/plain": "StatementMeta(spark3p2med, 36, 12, Finished, Available)"
          },
          "metadata": {}
        },
        {
          "output_type": "display_data",
          "data": {
            "application/vnd.synapse.widget-view+json": {
              "widget_id": "86d6ae62-822b-491b-8814-11ead049225a",
              "widget_type": "Synapse.DataFrame"
            },
            "text/plain": "SynapseWidget(Synapse.DataFrame, 86d6ae62-822b-491b-8814-11ead049225a)"
          },
          "metadata": {}
        }
      ],
      "execution_count": 58,
      "metadata": {
        "jupyter": {
          "source_hidden": false,
          "outputs_hidden": false
        },
        "nteract": {
          "transient": {
            "deleting": false
          }
        },
        "collapsed": false
      }
    },
    {
      "cell_type": "markdown",
      "source": [
        "## 4.) Graph Schema Corrections\r\n",
        "\r\n",
        "This step uses the same four functions from the \"Graph_schema_correction\" notebook, where the metadata.csv is used to correct each table's schema. Each table's schema is updated with the column dtypes and flattened/exploded fields, as well as unique primary keys being created for the m365_app_user_detail, teams_activity_user_table, and meeting_attendance_report.\r\n",
        "\r\n",
        "After the schema is corrected, each table is overwritten in ```stage2/Ingested```.\r\n",
        "\r\n",
        "**To-Do's:**\r\n",
        " - Confirm this is the way to update tables (m365, teams, and meeting) to have unique primary keys.\r\n",
        "    * Currently, **m365 and teams tables** use userPrincipalName + reportRefreshDate columns to create a new primary key column - assumption is every person has a single row per reportRefreshDate.\r\n",
        "    * The **meeting table** uses meetingId + userId columns to create a new primary key column - assumption is that every person has a single row per meeting [should be updated for production data]."
      ],
      "metadata": {
        "nteract": {
          "transient": {
            "deleting": false
          }
        }
      }
    },
    {
      "cell_type": "code",
      "source": [
        "# 4) schema correction, since Graph data initially landed is unstructured with nested arrays, incorrect column dtypes, and without primary keys for 3 of the 4 tables.\r\n",
        "def _correct_users_table(df):\r\n",
        "    df_flat = df.select(F.explode('value').alias('exploded_values')).select(\"exploded_values.*\")\r\n",
        "    return df_flat\r\n",
        "\r\n",
        "def _correct_m365_table(df):\r\n",
        "    df_flat = df.select(F.explode('value').alias('exploded_values'), 'rundate').select(\"exploded_values.*\", 'rundate')\r\n",
        "    df_flat = df_flat.withColumn('reportPeriod', F.explode(F.col('details').reportPeriod)) \\\r\n",
        "                    .withColumn('mobile', F.explode(F.col('details').mobile)) \\\r\n",
        "                    .withColumn('web', F.explode(F.col('details').web)) \\\r\n",
        "                    .withColumn('mac', F.explode(F.col('details').mac)) \\\r\n",
        "                    .withColumn('windows', F.explode(F.col('details').windows)) \\\r\n",
        "                    .withColumn('excel', F.explode(F.col('details').excel)) \\\r\n",
        "                    .withColumn('excelMobile', F.explode(F.col('details').excelMobile)) \\\r\n",
        "                    .withColumn('excelWeb', F.explode(F.col('details').excelWeb)) \\\r\n",
        "                    .withColumn('excelMac', F.explode(F.col('details').excelMac)) \\\r\n",
        "                    .withColumn('excelWindows', F.explode(F.col('details').excelWindows)) \\\r\n",
        "                    .withColumn('oneNote', F.explode(F.col('details').oneNote)) \\\r\n",
        "                    .withColumn('oneNoteMobile', F.explode(F.col('details').oneNoteMobile)) \\\r\n",
        "                    .withColumn('oneNoteWeb', F.explode(F.col('details').oneNoteWeb)) \\\r\n",
        "                    .withColumn('oneNoteMac', F.explode(F.col('details').oneNoteMac)) \\\r\n",
        "                    .withColumn('oneNoteWindows', F.explode(F.col('details').oneNoteWindows)) \\\r\n",
        "                    .withColumn('outlook', F.explode(F.col('details').outlook)) \\\r\n",
        "                    .withColumn('outlookMobile', F.explode(F.col('details').outlookMobile)) \\\r\n",
        "                    .withColumn('outlookWeb', F.explode(F.col('details').outlookWeb)) \\\r\n",
        "                    .withColumn('outlookMac', F.explode(F.col('details').outlookMac)) \\\r\n",
        "                    .withColumn('outlookWindows', F.explode(F.col('details').outlookWindows)) \\\r\n",
        "                    .withColumn('powerPoint', F.explode(F.col('details').powerPoint)) \\\r\n",
        "                    .withColumn('powerPointMobile', F.explode(F.col('details').powerPointMobile)) \\\r\n",
        "                    .withColumn('powerPointWeb', F.explode(F.col('details').powerPointWeb)) \\\r\n",
        "                    .withColumn('powerPointMac', F.explode(F.col('details').powerPointMac)) \\\r\n",
        "                    .withColumn('powerPointWindows', F.explode(F.col('details').powerPointWindows)) \\\r\n",
        "                    .withColumn('teams', F.explode(F.col('details').teams)) \\\r\n",
        "                    .withColumn('teamsMobile', F.explode(F.col('details').teamsMobile)) \\\r\n",
        "                    .withColumn('teamsWeb', F.explode(F.col('details').teamsWeb)) \\\r\n",
        "                    .withColumn('teamsMac', F.explode(F.col('details').teamsMac)) \\\r\n",
        "                    .withColumn('teamsWindows', F.explode(F.col('details').teamsWindows)) \\\r\n",
        "                    .withColumn('word', F.explode(F.col('details').word)) \\\r\n",
        "                    .withColumn('wordMobile', F.explode(F.col('details').wordMobile)) \\\r\n",
        "                    .withColumn('wordWeb', F.explode(F.col('details').wordWeb)) \\\r\n",
        "                    .withColumn('wordMac', F.explode(F.col('details').wordMac)) \\\r\n",
        "                    .withColumn('wordWindows', F.explode(F.col('details').wordWindows)) \\\r\n",
        "                    .drop('details')\r\n",
        "    # temp: add unique primary key per row, by combining UPNs with the date the report was generated\r\n",
        "    # this assumes every person has only one row per reportRefreshDate\r\n",
        "    df_flat = df_flat.withColumn('m365Activity_pk', F.concat(F.col('userPrincipalName'),F.lit('_'),F.col('reportRefreshDate')))\r\n",
        "\r\n",
        "    df_flat.select(F.col('reportRefreshDate'), F.to_date(F.col('reportRefreshDate'), 'yyyy-MM-dd'))\r\n",
        "    df_flat.select(F.col('lastActivityDate'), F.to_date(F.col('lastActivityDate'), 'yyyy-MM-dd'))\r\n",
        "    df_flat.select(F.col('lastActivationDate'), F.to_date(F.col('lastActivationDate'), 'yyyy-MM-dd'))\r\n",
        "    return df_flat\r\n",
        "\r\n",
        "def _correct_teams_table(df):\r\n",
        "    df_flat = df.select(F.explode('value').alias('exploded_values'), 'rundate').select(\"exploded_values.*\", 'rundate')\r\n",
        "    df_flat = df_flat.withColumn('assignedProducts', F.explode(F.col('assignedProducts')))\r\n",
        "    # convert duration to seconds only \r\n",
        "    # NOTE: The duration expression may have changed and this will need to be modified to accommodate any new duration formatting\r\n",
        "    df_flat = df_flat.withColumn(\r\n",
        "        'screenShareDuration', \r\n",
        "        F.coalesce(F.regexp_extract('screenShareDuration', r'(\\d+)H', 1).cast('int'), F.lit(0)) * 3600 + \r\n",
        "        F.coalesce(F.regexp_extract('screenShareDuration', r'(\\d+)M', 1).cast('int'), F.lit(0)) * 60 + \r\n",
        "        F.coalesce(F.regexp_extract('screenShareDuration', r'(\\d+)S', 1).cast('int'), F.lit(0))\r\n",
        "        ).withColumn(\r\n",
        "        'videoDuration', \r\n",
        "        F.coalesce(F.regexp_extract('videoDuration', r'(\\d+)H', 1).cast('int'), F.lit(0)) * 3600 + \r\n",
        "        F.coalesce(F.regexp_extract('videoDuration', r'(\\d+)M', 1).cast('int'), F.lit(0)) * 60 + \r\n",
        "        F.coalesce(F.regexp_extract('videoDuration', r'(\\d+)S', 1).cast('int'), F.lit(0))\r\n",
        "        ).withColumn(\r\n",
        "        'audioDuration', \r\n",
        "        F.coalesce(F.regexp_extract('audioDuration', r'(\\d+)H', 1).cast('int'), F.lit(0)) * 3600 + \r\n",
        "        F.coalesce(F.regexp_extract('audioDuration', r'(\\d+)M', 1).cast('int'), F.lit(0)) * 60 + \r\n",
        "        F.coalesce(F.regexp_extract('audioDuration', r'(\\d+)S', 1).cast('int'), F.lit(0))\r\n",
        "        )\r\n",
        "    # temp: add unique primary key per row, by combining UPNs with the date the report was generated\r\n",
        "    # this assumes every person has only one row per reportRefreshDate\r\n",
        "    df_flat = df_flat.withColumn('teamsActivity_pk', F.concat(F.col('userPrincipalName'),F.lit('_'),F.col('reportRefreshDate')))\r\n",
        "\r\n",
        "    df_flat.select(F.col('reportRefreshDate'), F.to_date(F.col('reportRefreshDate'), 'yyyy-MM-dd'))\r\n",
        "    df_flat.select(F.col('lastActivityDate'), F.to_date(F.col('lastActivityDate'), 'yyyy-MM-dd'))\r\n",
        "    return df_flat\r\n",
        "\r\n",
        "def _correct_meetings_table(df):\r\n",
        "    df_flat = df.select(\r\n",
        "        \"id\", \"meetingEndDateTime\", \"meetingStartDateTime\", \"totalParticipantCount\",\r\n",
        "        F.explode(\"attendanceRecords\").alias(\"attendanceRecordsExplode\"), 'rundate'\r\n",
        "        ).select(\"id\", \"meetingEndDateTime\", \"meetingStartDateTime\", \"totalParticipantCount\", \r\n",
        "                \"attendanceRecordsExplode.*\", 'rundate')\r\n",
        "    df_flat = df_flat.withColumnRenamed(\"id\",\"meetingId\")\r\n",
        "    df_flat = df_flat.select(\r\n",
        "        \"meetingId\", \"meetingEndDateTime\", \"meetingStartDateTime\", \"totalParticipantCount\", \r\n",
        "        \"totalAttendanceInSeconds\", \"role\", \"emailAddress\", \"attendanceIntervals\",\r\n",
        "        F.explode(F.array(\"identity\")).alias(\"identityExplode\"), 'rundate'\r\n",
        "        ).select(\"meetingId\", \"meetingEndDateTime\", \"meetingStartDateTime\", \"totalParticipantCount\", \r\n",
        "            \"totalAttendanceInSeconds\", \"role\", \"emailAddress\",\"attendanceIntervals\",\r\n",
        "            \"identityExplode.*\", 'rundate')\r\n",
        "\r\n",
        "    df_flat = df_flat.select(\r\n",
        "        \"meetingId\", \"meetingEndDateTime\", \"meetingStartDateTime\", \"totalParticipantCount\", \r\n",
        "        \"totalAttendanceInSeconds\", \"role\", \"emailAddress\",\r\n",
        "        \"displayName\", \"id\", \"tenantId\",\r\n",
        "        F.explode(\"attendanceIntervals\").alias(\"attendanceIntervalsExplode\"), 'rundate'\r\n",
        "        ).select(\"meetingId\", \"meetingEndDateTime\", \"meetingStartDateTime\", \"totalParticipantCount\", \r\n",
        "            \"totalAttendanceInSeconds\", \"role\", \"emailAddress\",\r\n",
        "            \"attendanceIntervalsExplode.*\",\r\n",
        "            \"displayName\", \"id\", \"tenantId\", 'rundate')\r\n",
        "    # clean up column names and timestamp types\r\n",
        "    df_flat = df_flat.withColumnRenamed(\"id\", \"userId\").withColumnRenamed(\"displayName\", \"userDisplayName\").withColumnRenamed(\"emailAddress\", \"userEmailAddress\") \\\r\n",
        "        .withColumnRenamed(\"totalAttendanceInSeconds\", \"totalAttendanceInSec\").withColumnRenamed(\"tenantId\", \"userTenantId\") \\\r\n",
        "        .withColumnRenamed(\"joinDateTime\", \"attendanceInterval_joinDateTime\").withColumnRenamed(\"leaveDateTime\", \"attendanceInterval_leaveDateTime\").withColumnRenamed(\"durationInSeconds\", \"attendanceInterval_durationInSec\")\r\n",
        "    df_flat = df_flat.withColumn('meetingStartDateTime', F.to_timestamp(F.col('meetingStartDateTime'))) \\\r\n",
        "                .withColumn('meetingEndDateTime', F.to_timestamp(F.col('meetingEndDateTime'))) \\\r\n",
        "                .withColumn('attendanceInterval_joinDateTime', F.to_timestamp(F.col('attendanceInterval_joinDateTime'))) \\\r\n",
        "                .withColumn('attendanceInterval_leaveDateTime', F.to_timestamp(F.col('attendanceInterval_leaveDateTime')))\r\n",
        "    # temp: add unique primary key per row, by combining meeting IDs with user IDs\r\n",
        "    # this assumes every person attending a meeting has only one attendance interval\r\n",
        "    df_flat = df_flat.withColumn('meetingUserId_pk', F.concat(F.col('meetingId'),F.col('userId')))\r\n",
        "    df_flat = df_flat.select(\r\n",
        "        'meetingUserId_pk','meetingId','meetingStartDateTime','meetingEndDateTime','totalParticipantCount','userId','userDisplayName','userEmailAddress',\r\n",
        "        'userTenantId','role','totalAttendanceInSec','attendanceInterval_joinDateTime','attendanceInterval_leaveDateTime','attendanceInterval_durationInSec','rundate'\r\n",
        "        )\r\n",
        "    return df_flat\r\n",
        "\r\n",
        "def correct_graph_dataset(tables_source):\r\n",
        "    items = oea.get_folders(tables_source)\r\n",
        "    for item in items: \r\n",
        "        table_path = tables_source +'/'+ item\r\n",
        "        if item == 'metadata.csv':\r\n",
        "            logger.info('ignore metadata processing, since this is not a table to be ingested')\r\n",
        "        elif item == 'users':\r\n",
        "            df_users = spark.read.format('delta').load(oea.to_url(table_path), header='true')\r\n",
        "            df_corrected = _correct_users_table(df_users)\r\n",
        "            df_corrected.write.save(oea.to_url(table_path), format='delta', mode='overwrite', header='true', overwriteSchema='true')\r\n",
        "            logger.info('Successfully corrected the users table from: ' + table_path)\r\n",
        "        elif item == 'm365_app_user_detail':\r\n",
        "            df_m365 = spark.read.format('delta').load(oea.to_url(table_path), header='true')\r\n",
        "            df_corrected = _correct_m365_table(df_m365)\r\n",
        "            df_corrected.write.save(oea.to_url(table_path), format='delta', mode='overwrite', header='true', overwriteSchema='true')\r\n",
        "            logger.info('Successfully corrected the m365_app_user_detail table from: ' + table_path)\r\n",
        "        elif item == 'teams_activity_user_detail':\r\n",
        "            df_teams = spark.read.format('delta').load(oea.to_url(table_path), header='true')\r\n",
        "            df_corrected = _correct_teams_table(df_teams)\r\n",
        "            df_corrected.write.save(oea.to_url(table_path), format='delta', mode='overwrite', header='true', overwriteSchema='true')\r\n",
        "            logger.info('Successfully corrected the teams_activity_user_detail table from: ' + table_path)\r\n",
        "        elif item == 'meeting_attendance_report':\r\n",
        "            df_meetings = spark.read.format('delta').load(oea.to_url(table_path), header='true')\r\n",
        "            df_corrected = _correct_meetings_table(df_meetings)\r\n",
        "            df_corrected.write.save(oea.to_url(table_path), format='delta', mode='overwrite', header='true', overwriteSchema='true')\r\n",
        "            logger.info('Successfully corrected the meeting_attendance_report table from: ' + table_path)\r\n",
        "        else:\r\n",
        "            logger.info('No defined function for table: ' + item)\r\n",
        "    logger.info('Finished schema correction for Graph dataset')"
      ],
      "outputs": [
        {
          "output_type": "display_data",
          "data": {
            "application/vnd.livy.statement-meta+json": {
              "spark_pool": "spark3p2med",
              "session_id": "36",
              "statement_id": 13,
              "state": "finished",
              "livy_statement_state": "available",
              "queued_time": "2023-01-07T00:15:42.8414734Z",
              "session_start_time": null,
              "execution_start_time": "2023-01-07T00:19:24.5873101Z",
              "execution_finish_time": "2023-01-07T00:19:24.7422563Z",
              "spark_jobs": null
            },
            "text/plain": "StatementMeta(spark3p2med, 36, 13, Finished, Available)"
          },
          "metadata": {}
        }
      ],
      "execution_count": 59,
      "metadata": {
        "jupyter": {
          "source_hidden": false,
          "outputs_hidden": false
        },
        "nteract": {
          "transient": {
            "deleting": false
          }
        }
      }
    },
    {
      "cell_type": "code",
      "source": [
        "correct_graph_dataset('stage2/Ingested/graph_api/beta')\r\n",
        "correct_graph_dataset('stage2/Ingested/graph_api/v1.0')"
      ],
      "outputs": [
        {
          "output_type": "display_data",
          "data": {
            "application/vnd.livy.statement-meta+json": {
              "spark_pool": "spark3p2med",
              "session_id": "36",
              "statement_id": 14,
              "state": "finished",
              "livy_statement_state": "available",
              "queued_time": "2023-01-07T00:15:49.0529493Z",
              "session_start_time": null,
              "execution_start_time": "2023-01-07T00:19:24.8578986Z",
              "execution_finish_time": "2023-01-07T00:19:39.6685072Z",
              "spark_jobs": null
            },
            "text/plain": "StatementMeta(spark3p2med, 36, 14, Finished, Available)"
          },
          "metadata": {}
        },
        {
          "output_type": "stream",
          "name": "stdout",
          "text": [
            "2023-01-07 00:19:30,019 - OEA - INFO - Successfully corrected the m365_app_user_detail table from: stage2/Ingested/graph_api/beta/m365_app_user_detail\n2023-01-07 00:19:33,297 - OEA - INFO - Successfully corrected the teams_activity_user_detail table from: stage2/Ingested/graph_api/beta/teams_activity_user_detail\n2023-01-07 00:19:35,868 - OEA - INFO - Successfully corrected the users table from: stage2/Ingested/graph_api/beta/users\n2023-01-07 00:19:35,868 - OEA - INFO - Finished schema correction for Graph dataset\n2023-01-07 00:19:39,346 - OEA - INFO - Successfully corrected the meeting_attendance_report table from: stage2/Ingested/graph_api/v1.0/meeting_attendance_report\n2023-01-07 00:19:39,346 - OEA - INFO - Finished schema correction for Graph dataset\n"
          ]
        }
      ],
      "execution_count": 60,
      "metadata": {
        "jupyter": {
          "source_hidden": false,
          "outputs_hidden": false
        },
        "nteract": {
          "transient": {
            "deleting": false
          }
        }
      }
    },
    {
      "cell_type": "code",
      "source": [
        "df = spark.read.format('delta').load(oea.to_url('stage2/Ingested/graph_api/beta/m365_app_user_detail'), header='true')\r\n",
        "display(df.limit(10))"
      ],
      "outputs": [
        {
          "output_type": "display_data",
          "data": {
            "application/vnd.livy.statement-meta+json": {
              "spark_pool": "spark3p2med",
              "session_id": "36",
              "statement_id": 15,
              "state": "finished",
              "livy_statement_state": "available",
              "queued_time": "2023-01-07T00:15:51.6955157Z",
              "session_start_time": null,
              "execution_start_time": "2023-01-07T00:19:39.7803352Z",
              "execution_finish_time": "2023-01-07T00:19:40.9485477Z",
              "spark_jobs": null
            },
            "text/plain": "StatementMeta(spark3p2med, 36, 15, Finished, Available)"
          },
          "metadata": {}
        },
        {
          "output_type": "display_data",
          "data": {
            "application/vnd.synapse.widget-view+json": {
              "widget_id": "c03bfa66-b3b8-468f-b254-c527396587d7",
              "widget_type": "Synapse.DataFrame"
            },
            "text/plain": "SynapseWidget(Synapse.DataFrame, c03bfa66-b3b8-468f-b254-c527396587d7)"
          },
          "metadata": {}
        }
      ],
      "execution_count": 61,
      "metadata": {
        "jupyter": {
          "source_hidden": false,
          "outputs_hidden": false
        },
        "nteract": {
          "transient": {
            "deleting": false
          }
        },
        "collapsed": false
      }
    },
    {
      "cell_type": "code",
      "source": [
        "df = spark.read.format('delta').load(oea.to_url('stage2/Ingested/graph_api/v1.0/meeting_attendance_report'), header='true')\r\n",
        "display(df.limit(10))"
      ],
      "outputs": [
        {
          "output_type": "display_data",
          "data": {
            "application/vnd.livy.statement-meta+json": {
              "spark_pool": "spark3p2med",
              "session_id": "36",
              "statement_id": 16,
              "state": "finished",
              "livy_statement_state": "available",
              "queued_time": "2023-01-07T00:15:53.6500666Z",
              "session_start_time": null,
              "execution_start_time": "2023-01-07T00:19:41.0584448Z",
              "execution_finish_time": "2023-01-07T00:19:42.1787056Z",
              "spark_jobs": null
            },
            "text/plain": "StatementMeta(spark3p2med, 36, 16, Finished, Available)"
          },
          "metadata": {}
        },
        {
          "output_type": "display_data",
          "data": {
            "application/vnd.synapse.widget-view+json": {
              "widget_id": "f92c2f7d-0b08-431e-a1ac-8816d2f2d674",
              "widget_type": "Synapse.DataFrame"
            },
            "text/plain": "SynapseWidget(Synapse.DataFrame, f92c2f7d-0b08-431e-a1ac-8816d2f2d674)"
          },
          "metadata": {}
        }
      ],
      "execution_count": 62,
      "metadata": {
        "jupyter": {
          "source_hidden": false,
          "outputs_hidden": false
        },
        "nteract": {
          "transient": {
            "deleting": false
          }
        },
        "collapsed": false
      }
    },
    {
      "cell_type": "code",
      "source": [
        "df.printSchema()"
      ],
      "outputs": [
        {
          "output_type": "display_data",
          "data": {
            "application/vnd.livy.statement-meta+json": {
              "spark_pool": "spark3p2med",
              "session_id": "36",
              "statement_id": 17,
              "state": "finished",
              "livy_statement_state": "available",
              "queued_time": "2023-01-07T00:15:55.5280875Z",
              "session_start_time": null,
              "execution_start_time": "2023-01-07T00:19:42.4203083Z",
              "execution_finish_time": "2023-01-07T00:19:42.5879376Z",
              "spark_jobs": null
            },
            "text/plain": "StatementMeta(spark3p2med, 36, 17, Finished, Available)"
          },
          "metadata": {}
        },
        {
          "output_type": "stream",
          "name": "stdout",
          "text": [
            "root\n |-- meetingUserId_pk: string (nullable = true)\n |-- meetingId: string (nullable = true)\n |-- meetingStartDateTime: timestamp (nullable = true)\n |-- meetingEndDateTime: timestamp (nullable = true)\n |-- totalParticipantCount: long (nullable = true)\n |-- userId: string (nullable = true)\n |-- userDisplayName: string (nullable = true)\n |-- userEmailAddress: string (nullable = true)\n |-- userTenantId: string (nullable = true)\n |-- role: string (nullable = true)\n |-- totalAttendanceInSec: long (nullable = true)\n |-- attendanceInterval_joinDateTime: timestamp (nullable = true)\n |-- attendanceInterval_leaveDateTime: timestamp (nullable = true)\n |-- attendanceInterval_durationInSec: long (nullable = true)\n |-- rundate: string (nullable = true)\n\n"
          ]
        }
      ],
      "execution_count": 63,
      "metadata": {
        "jupyter": {
          "source_hidden": false,
          "outputs_hidden": false
        },
        "nteract": {
          "transient": {
            "deleting": false
          }
        }
      }
    },
    {
      "cell_type": "markdown",
      "source": [
        "## 5.) Refine the Graph Module Test Data\r\n",
        "This step refines the Graph test data from stage2/Ingested to stage2/Refined, using the metadata.csv. This step is responsible for pseudonymization, which preserves sensitive student information by either hashing or masking the sensitive columns. \r\n",
        "\r\n",
        "Tables are separated into either ```stage2/Refined/graph_api/(beta or v1.0)/general``` or ```stage2/Refined/graph_api/(beta or v1.0)/sensitive```, depending on whether each table is pseudonymized or has a sensitive column-hashing/masking mapping, respectively."
      ],
      "metadata": {
        "nteract": {
          "transient": {
            "deleting": false
          }
        }
      }
    },
    {
      "cell_type": "code",
      "source": [
        "# 5) After ingesting data, the next step is to refine the data through the use of metadata (this is where the pseudonymization of the data occurs).\r\n",
        "def refine_graph_dataset(tables_source):\r\n",
        "    items = oea.get_folders(tables_source)\r\n",
        "    for item in items: \r\n",
        "        table_path = tables_source +'/'+ item\r\n",
        "        if item == 'metadata_beta.csv':\r\n",
        "            logger.info('ignore metadata processing, since this is not a table to be ingested')\r\n",
        "        elif item == 'metadata_v1p0.csv':\r\n",
        "            logger.info('ignore metadata processing, since this is not a table to be ingested')\r\n",
        "        else:\r\n",
        "            try:\r\n",
        "                if item == 'users':\r\n",
        "                    oea.refine('graph_api/beta/' + item, metadata_beta[item], 'userPrincipalName_pseudonym')\r\n",
        "                elif item == 'm365_app_user_detail':\r\n",
        "                    oea.refine('graph_api/beta/' + item, metadata_beta[item], 'm365Activity_pk_pseudonym')\r\n",
        "                elif item == 'teams_activity_user_detail':\r\n",
        "                    oea.refine('graph_api/beta/' + item, metadata_beta[item], 'teamsActivity_pk_pseudonym')\r\n",
        "                elif item == 'meeting_attendance_report':\r\n",
        "                    oea.refine('graph_api/v1.0/' + item, metadata_v1p0[item], 'meetingUserId_pk_pseudonym')\r\n",
        "                else:\r\n",
        "                    logger.info('No defined function for processing this Graph table.')\r\n",
        "            except AnalysisException as e:\r\n",
        "                # This means the table may have not been properly refined due to errors with the primary key not aligning with columns expected in the lookup table.\r\n",
        "                pass\r\n",
        "            \r\n",
        "            logger.info('Refined table: ' + item + ' from: ' + table_path)"
      ],
      "outputs": [
        {
          "output_type": "display_data",
          "data": {
            "application/vnd.livy.statement-meta+json": {
              "spark_pool": "spark3p2med",
              "session_id": "36",
              "statement_id": 18,
              "state": "finished",
              "livy_statement_state": "available",
              "queued_time": "2023-01-07T00:15:59.7996465Z",
              "session_start_time": null,
              "execution_start_time": "2023-01-07T00:19:42.7341393Z",
              "execution_finish_time": "2023-01-07T00:19:42.8966266Z",
              "spark_jobs": null
            },
            "text/plain": "StatementMeta(spark3p2med, 36, 18, Finished, Available)"
          },
          "metadata": {}
        }
      ],
      "execution_count": 64,
      "metadata": {
        "jupyter": {
          "source_hidden": false,
          "outputs_hidden": false
        },
        "nteract": {
          "transient": {
            "deleting": false
          }
        }
      }
    },
    {
      "cell_type": "code",
      "source": [
        "#metadata_beta = oea.get_metadata_from_url('https://raw.githubusercontent.com/microsoft/OpenEduAnalytics/main/modules/module_catalog/Microsoft_Graph/test_data/metadata_beta.csv')\r\n",
        "#metadata_v1p0 = oea.get_metadata_from_url('https://raw.githubusercontent.com/microsoft/OpenEduAnalytics/main/modules/module_catalog/Microsoft_Graph/test_data/metadata_v1p0.csv')\r\n",
        "metadata_beta = oea.get_metadata_from_url('https://raw.githubusercontent.com/cstohlmann/oea-graph-api/main/test_data/metadata_beta.csv')\r\n",
        "metadata_v1p0 = oea.get_metadata_from_url('https://raw.githubusercontent.com/cstohlmann/oea-graph-api/main/test_data/metadata_v1p0.csv')\r\n",
        "refine_graph_dataset('stage2/Ingested/graph_api/beta')\r\n",
        "refine_graph_dataset('stage2/Ingested/graph_api/v1.0')"
      ],
      "outputs": [
        {
          "output_type": "display_data",
          "data": {
            "application/vnd.livy.statement-meta+json": {
              "spark_pool": "spark3p2med",
              "session_id": "36",
              "statement_id": 19,
              "state": "finished",
              "livy_statement_state": "available",
              "queued_time": "2023-01-07T00:16:02.4724631Z",
              "session_start_time": null,
              "execution_start_time": "2023-01-07T00:19:43.0020696Z",
              "execution_finish_time": "2023-01-07T00:20:37.947286Z",
              "spark_jobs": null
            },
            "text/plain": "StatementMeta(spark3p2med, 36, 19, Finished, Available)"
          },
          "metadata": {}
        },
        {
          "output_type": "stream",
          "name": "stdout",
          "text": [
            "2023-01-07 00:20:00,737 - OEA - INFO - Processed 512 updated rows from stage2/Ingested/graph_api/beta/m365_app_user_detail into stage2/Refined\n2023-01-07 00:20:01,166 - OEA - INFO - Refined table: m365_app_user_detail from: stage2/Ingested/graph_api/beta/m365_app_user_detail\n2023-01-07 00:20:06,525 - py4j.java_gateway - INFO - Received command  on object id \n2023-01-07 00:20:06,526 - py4j.java_gateway - INFO - Closing down callback connection\n2023-01-07 00:20:12,382 - OEA - INFO - Processed 497 updated rows from stage2/Ingested/graph_api/beta/teams_activity_user_detail into stage2/Refined\n2023-01-07 00:20:12,788 - OEA - INFO - Refined table: teams_activity_user_detail from: stage2/Ingested/graph_api/beta/teams_activity_user_detail\n2023-01-07 00:20:23,493 - OEA - INFO - Processed 600 updated rows from stage2/Ingested/graph_api/beta/users into stage2/Refined\n2023-01-07 00:20:23,879 - OEA - INFO - Refined table: users from: stage2/Ingested/graph_api/beta/users\n2023-01-07 00:20:35,925 - OEA - INFO - Processed 10170 updated rows from stage2/Ingested/graph_api/v1.0/meeting_attendance_report into stage2/Refined\n2023-01-07 00:20:36,285 - OEA - INFO - Refined table: meeting_attendance_report from: stage2/Ingested/graph_api/v1.0/meeting_attendance_report\n"
          ]
        }
      ],
      "execution_count": 65,
      "metadata": {
        "jupyter": {
          "source_hidden": false,
          "outputs_hidden": false
        },
        "nteract": {
          "transient": {
            "deleting": false
          }
        }
      }
    },
    {
      "cell_type": "code",
      "source": [
        "# This block represents what the blocks above (in this step) accomplish\r\n",
        "#metadata_beta = oea.get_metadata_from_url('https://raw.githubusercontent.com/microsoft/OpenEduAnalytics/main/modules/module_catalog/Microsoft_Graph/test_data/metadata_beta.csv')\r\n",
        "#metadata_v1p0 = oea.get_metadata_from_url('https://raw.githubusercontent.com/microsoft/OpenEduAnalytics/main/modules/module_catalog/Microsoft_Graph/test_data/metadata_v1p0.csv')\r\n",
        "\r\n",
        "#oea.refine('graph_api/beta/users', metadata['users'], 'userPrincipalName_pseudonym')\r\n",
        "#oea.refine('graph_api/beta/m365_app_user_detail', metadata['m365_app_user_detail'], 'm365Activity_pk_pseudonym')\r\n",
        "#oea.refine('graph_api/beta/teams_activity_user_detail', metadata['teams_activity_user_detail'], 'teamsActivity_pk_pseudonym')\r\n",
        "#oea.refine('graph_api/v1.0/meeting_attendance_report', metadata['meeting_attendance_report'], 'meetingUserId_pk_pseudonym')"
      ],
      "outputs": [
        {
          "output_type": "display_data",
          "data": {
            "application/vnd.livy.statement-meta+json": {
              "spark_pool": "spark3p2med",
              "session_id": "36",
              "statement_id": 20,
              "state": "finished",
              "livy_statement_state": "available",
              "queued_time": "2023-01-07T00:20:48.1728801Z",
              "session_start_time": null,
              "execution_start_time": "2023-01-07T00:20:48.2879107Z",
              "execution_finish_time": "2023-01-07T00:20:48.4991659Z",
              "spark_jobs": null
            },
            "text/plain": "StatementMeta(spark3p2med, 36, 20, Finished, Available)"
          },
          "metadata": {}
        }
      ],
      "execution_count": 66,
      "metadata": {
        "jupyter": {
          "source_hidden": false,
          "outputs_hidden": false
        },
        "nteract": {
          "transient": {
            "deleting": false
          }
        }
      }
    },
    {
      "cell_type": "markdown",
      "source": [
        "## 6.) Demonstrate Lake Database Queries/Final Remarks"
      ],
      "metadata": {
        "nteract": {
          "transient": {
            "deleting": false
          }
        }
      }
    },
    {
      "cell_type": "code",
      "source": [
        "#oea.add_to_lake_db('stage2/Refined/graph_api/beta/general/m365_app_user_detail')\r\n",
        "#oea.add_to_lake_db('stage2/Refined/graph_api/beta/general/teams_activity_user_detail')"
      ],
      "outputs": [
        {
          "output_type": "display_data",
          "data": {
            "application/vnd.livy.statement-meta+json": {
              "spark_pool": "spark3p2med",
              "session_id": "36",
              "statement_id": 21,
              "state": "finished",
              "livy_statement_state": "available",
              "queued_time": "2023-01-07T00:20:50.9641329Z",
              "session_start_time": null,
              "execution_start_time": "2023-01-07T00:20:51.070085Z",
              "execution_finish_time": "2023-01-07T00:20:51.2371278Z",
              "spark_jobs": null
            },
            "text/plain": "StatementMeta(spark3p2med, 36, 21, Finished, Available)"
          },
          "metadata": {}
        }
      ],
      "execution_count": 67,
      "metadata": {
        "jupyter": {
          "source_hidden": false,
          "outputs_hidden": false
        },
        "nteract": {
          "transient": {
            "deleting": false
          }
        }
      }
    },
    {
      "cell_type": "code",
      "source": [
        "# 6) Now you can query the refined data tables in the lake db\r\n",
        "df = spark.sql(\"select * from ldb_sam_s2r_graph_api.teams_activity_user_detail\")\r\n",
        "display(df.limit(10))\r\n",
        "df.printSchema()\r\n",
        "df = spark.sql(\"select * from ldb_sam_s2r_graph_api.users_lookup\")\r\n",
        "display(df.limit(10))\r\n",
        "df.printSchema()\r\n",
        "# You can use the \"lookup\" table for joins (people with restricted access won't be able to perform this query because they won't have access to data in the \"sensitive\" folder in the data lake)\r\n",
        "df = spark.sql(\"select taud.reportRefreshDate, taud.reportPeriod, taud.audioDuration, taud.screenShareDuration, taud.videoDuration, ul.userPrincipalName from ldb_sam_s2r_graph_api.users_lookup ul, ldb_sam_s2r_graph_api.teams_activity_user_detail taud where taud.userPrincipalName_pseudonym = ul.userPrincipalName_pseudonym\")\r\n",
        "display(df.limit(10))"
      ],
      "outputs": [
        {
          "output_type": "display_data",
          "data": {
            "application/vnd.livy.statement-meta+json": {
              "spark_pool": "spark3p2med",
              "session_id": "36",
              "statement_id": 23,
              "state": "finished",
              "livy_statement_state": "available",
              "queued_time": "2023-01-07T00:21:20.7395583Z",
              "session_start_time": null,
              "execution_start_time": "2023-01-07T00:21:20.8508517Z",
              "execution_finish_time": "2023-01-07T00:21:24.9443582Z",
              "spark_jobs": null
            },
            "text/plain": "StatementMeta(spark3p2med, 36, 23, Finished, Available)"
          },
          "metadata": {}
        },
        {
          "output_type": "display_data",
          "data": {
            "application/vnd.synapse.widget-view+json": {
              "widget_id": "5f145313-e065-4480-8df1-80155aec6f4b",
              "widget_type": "Synapse.DataFrame"
            },
            "text/plain": "SynapseWidget(Synapse.DataFrame, 5f145313-e065-4480-8df1-80155aec6f4b)"
          },
          "metadata": {}
        },
        {
          "output_type": "stream",
          "name": "stdout",
          "text": [
            "root\n |-- adHocMeetingsAttendedCount: integer (nullable = true)\n |-- adHocMeetingsOrganizedCount: integer (nullable = true)\n |-- assignedProducts: string (nullable = true)\n |-- audioDuration: string (nullable = true)\n |-- callCount: integer (nullable = true)\n |-- deletedDate: string (nullable = true)\n |-- hasOtherAction: boolean (nullable = true)\n |-- isDeleted: boolean (nullable = true)\n |-- isLicensed: boolean (nullable = true)\n |-- lastActivityDate: date (nullable = true)\n |-- meetingCount: integer (nullable = true)\n |-- meetingsAttendedCount: integer (nullable = true)\n |-- meetingsOrganizedCount: integer (nullable = true)\n |-- privateChatMessageCount: integer (nullable = true)\n |-- reportPeriod: string (nullable = true)\n |-- reportRefreshDate: date (nullable = true)\n |-- scheduledOneTimeMeetingsAttendedCount: integer (nullable = true)\n |-- scheduledOneTimeMeetingsOrganizedCount: integer (nullable = true)\n |-- scheduledRecurringMeetingsAttendedCount: integer (nullable = true)\n |-- scheduledRecurringMeetingsOrganizedCount: integer (nullable = true)\n |-- screenShareDuration: string (nullable = true)\n |-- teamChatMessageCount: integer (nullable = true)\n |-- userPrincipalName_pseudonym: string (nullable = true)\n |-- videoDuration: string (nullable = true)\n |-- rundate: string (nullable = true)\n |-- teamsActivity_pk_pseudonym: string (nullable = true)\n\n"
          ]
        },
        {
          "output_type": "display_data",
          "data": {
            "application/vnd.synapse.widget-view+json": {
              "widget_id": "3dc84d8a-88cf-44e2-845d-785a6986f7e2",
              "widget_type": "Synapse.DataFrame"
            },
            "text/plain": "SynapseWidget(Synapse.DataFrame, 3dc84d8a-88cf-44e2-845d-785a6986f7e2)"
          },
          "metadata": {}
        },
        {
          "output_type": "stream",
          "name": "stdout",
          "text": [
            "root\n |-- givenName: string (nullable = true)\n |-- id: string (nullable = true)\n |-- surname: string (nullable = true)\n |-- userPrincipalName: string (nullable = true)\n |-- userPrincipalName_pseudonym: string (nullable = true)\n |-- id_pseudonym: string (nullable = true)\n\n"
          ]
        },
        {
          "output_type": "display_data",
          "data": {
            "application/vnd.synapse.widget-view+json": {
              "widget_id": "785d0424-eabf-41de-bed1-d00a4c16533c",
              "widget_type": "Synapse.DataFrame"
            },
            "text/plain": "SynapseWidget(Synapse.DataFrame, 785d0424-eabf-41de-bed1-d00a4c16533c)"
          },
          "metadata": {}
        }
      ],
      "execution_count": 69,
      "metadata": {
        "jupyter": {
          "source_hidden": false,
          "outputs_hidden": false
        },
        "nteract": {
          "transient": {
            "deleting": false
          }
        },
        "collapsed": false
      }
    },
    {
      "cell_type": "code",
      "source": [
        "# Run this cell to reset this example (deleting all the example Graph data in your workspace)\r\n",
        "oea.rm_if_exists('stage1/Transactional/graph_api')\r\n",
        "oea.rm_if_exists('stage2/Ingested/graph_api')\r\n",
        "oea.rm_if_exists('stage2/Refined/graph_api')\r\n",
        "oea.drop_lake_db('ldb_sam_s2i_graph_api')\r\n",
        "oea.drop_lake_db('ldb_sam_s2i_graph_api_v1p0')\r\n",
        "oea.drop_lake_db('ldb_sam_s2r_graph_api')\r\n",
        "oea.drop_lake_db('ldb_sam_s2r_graph_api_v1p0')"
      ],
      "outputs": [
        {
          "output_type": "display_data",
          "data": {
            "application/vnd.livy.statement-meta+json": {
              "spark_pool": null,
              "session_id": null,
              "statement_id": null,
              "state": "cancelled",
              "livy_statement_state": null,
              "queued_time": "2023-01-07T00:13:30.8866959Z",
              "session_start_time": null,
              "execution_start_time": null,
              "execution_finish_time": "2023-01-07T00:13:33.084483Z",
              "spark_jobs": null
            },
            "text/plain": "StatementMeta(, , , Cancelled, )"
          },
          "metadata": {}
        }
      ],
      "execution_count": null,
      "metadata": {
        "jupyter": {
          "source_hidden": false,
          "outputs_hidden": false
        },
        "nteract": {
          "transient": {
            "deleting": false
          }
        }
      }
    },
    {
      "cell_type": "markdown",
      "source": [
        "## Appendix"
      ],
      "metadata": {
        "nteract": {
          "transient": {
            "deleting": false
          }
        }
      }
    },
    {
      "cell_type": "code",
      "source": [
        "# generate an initial metadata file for manual modification\r\n",
        "metadata = oea.create_metadata_from_lake_db('ldb_sam_s2i_graph_api')\r\n",
        "dlw = DataLakeWriter(oea.to_url('stage1/Transactional/graph_api'))\r\n",
        "dlw.write('metadata_beta.csv', metadata)\r\n",
        "metadata = oea.create_metadata_from_lake_db('ldb_sam_s2i_graph_api_v1p0')\r\n",
        "dlw = DataLakeWriter(oea.to_url('stage1/Transactional/graph_api'))\r\n",
        "dlw.write('metadata_v1p0.csv', metadata)"
      ],
      "outputs": [],
      "execution_count": null,
      "metadata": {
        "jupyter": {
          "source_hidden": false,
          "outputs_hidden": false
        },
        "nteract": {
          "transient": {
            "deleting": false
          }
        }
      }
    },
    {
      "cell_type": "code",
      "source": [
        "# Create a sql db for the ingested Graph data\r\n",
        "oea.create_sql_db('stage2/Ingested/graph_api')"
      ],
      "outputs": [],
      "execution_count": null,
      "metadata": {
        "jupyter": {
          "source_hidden": false,
          "outputs_hidden": false
        },
        "nteract": {
          "transient": {
            "deleting": false
          }
        }
      }
    }
  ],
  "metadata": {
    "kernelspec": {
      "name": "synapse_pyspark",
      "language": "Python",
      "display_name": "Synapse PySpark"
    },
    "language_info": {
      "name": "python"
    },
    "kernel_info": {
      "name": "synapse_pyspark"
    },
    "description": null,
    "save_output": true,
    "synapse_widget": {
      "version": "0.1",
      "state": {
        "c064f5a5-db7a-4071-abb3-8c5f4de131da": {
          "type": "Synapse.DataFrame",
          "sync_state": {
            "table": {
              "rows": [
                {
                  "0": "6cdf6908-f265-4329-8d6e-d7f7a47291d1",
                  "1": "60",
                  "2": "2022-1-24T16:45:00.00Z",
                  "3": "2022-1-24T17:15:00.00Z",
                  "4": [
                    {
                      "totalAttendanceInSeconds": 1320,
                      "role": "Student",
                      "emailAddress": "MaryRMartin@contoso.org",
                      "attendanceIntervals": [
                        {
                          "durationInSeconds": 1320,
                          "joinDateTime": "2022-1-24T16:50:00.00Z",
                          "leaveDateTime": "2022-1-24T17:12:00.00Z"
                        }
                      ],
                      "identity": {
                        "displayName": "Mary Martin",
                        "id": "c44b0944-7500-486c-9162-30a9c30a2529",
                        "tenantId": ""
                      }
                    },
                    {
                      "totalAttendanceInSeconds": 720,
                      "role": "Student",
                      "emailAddress": "JohnMYamamoto@contoso.org",
                      "attendanceIntervals": [
                        {
                          "durationInSeconds": 720,
                          "joinDateTime": "2022-1-24T16:50:00.00Z",
                          "leaveDateTime": "2022-1-24T17:2:00.00Z"
                        }
                      ],
                      "identity": {
                        "displayName": "John Yamamoto",
                        "id": "f3c50ff5-43f2-405b-8fc7-b6588009fbbe",
                        "tenantId": ""
                      }
                    },
                    {
                      "totalAttendanceInSeconds": 1440,
                      "role": "Student",
                      "emailAddress": "MichelleDLibbey@contoso.org",
                      "attendanceIntervals": [
                        {
                          "durationInSeconds": 1440,
                          "joinDateTime": "2022-1-24T16:46:00.00Z",
                          "leaveDateTime": "2022-1-24T17:10:00.00Z"
                        }
                      ],
                      "identity": {
                        "displayName": "Michelle Libbey",
                        "id": "4fa935e0-4b46-4916-b18e-d4a5162350aa",
                        "tenantId": ""
                      }
                    },
                    {
                      "totalAttendanceInSeconds": 900,
                      "role": "Student",
                      "emailAddress": "JimKWhite@contoso.org",
                      "attendanceIntervals": [
                        {
                          "durationInSeconds": 900,
                          "joinDateTime": "2022-1-24T16:49:00.00Z",
                          "leaveDateTime": "2022-1-24T17:4:00.00Z"
                        }
                      ],
                      "identity": {
                        "displayName": "Jim White",
                        "id": "6cfeff48-4343-4648-92ad-d21e3b4b7d12",
                        "tenantId": ""
                      }
                    },
                    {
                      "totalAttendanceInSeconds": 1380,
                      "role": "Student",
                      "emailAddress": "LeroyCWilliams@contoso.org",
                      "attendanceIntervals": [
                        {
                          "durationInSeconds": 1380,
                          "joinDateTime": "2022-1-24T16:49:00.00Z",
                          "leaveDateTime": "2022-1-24T17:12:00.00Z"
                        }
                      ],
                      "identity": {
                        "displayName": "Leroy Williams",
                        "id": "191d236e-fb6f-470a-b9e4-314f5347b221",
                        "tenantId": ""
                      }
                    },
                    {
                      "totalAttendanceInSeconds": 900,
                      "role": "Student",
                      "emailAddress": "MelindaJSchneider@contoso.org",
                      "attendanceIntervals": [
                        {
                          "durationInSeconds": 900,
                          "joinDateTime": "2022-1-24T16:45:00.00Z",
                          "leaveDateTime": "2022-1-24T17:0:00.00Z"
                        }
                      ],
                      "identity": {
                        "displayName": "Melinda Schneider",
                        "id": "208de147-f663-48c0-9bba-fceb3b18bb77",
                        "tenantId": ""
                      }
                    },
                    {
                      "totalAttendanceInSeconds": 1320,
                      "role": "Student",
                      "emailAddress": "InezCIsbell@contoso.org",
                      "attendanceIntervals": [
                        {
                          "durationInSeconds": 1320,
                          "joinDateTime": "2022-1-24T16:45:00.00Z",
                          "leaveDateTime": "2022-1-24T17:7:00.00Z"
                        }
                      ],
                      "identity": {
                        "displayName": "Inez Isbell",
                        "id": "b87db641-9abc-4a89-ab92-bc1bc99ada2e",
                        "tenantId": ""
                      }
                    },
                    {
                      "totalAttendanceInSeconds": 4260,
                      "role": "Student",
                      "emailAddress": "CarolRSmith@contoso.org",
                      "attendanceIntervals": [
                        {
                          "durationInSeconds": 4260,
                          "joinDateTime": "2022-1-24T16:46:00.00Z",
                          "leaveDateTime": "2022-1-24T17:57:00.00Z"
                        }
                      ],
                      "identity": {
                        "displayName": "Carol Smith",
                        "id": "28d5987f-0363-4500-a2a6-568f9e5fb3fd",
                        "tenantId": ""
                      }
                    },
                    {
                      "totalAttendanceInSeconds": 1800,
                      "role": "Student",
                      "emailAddress": "EveretteMRugg@contoso.org",
                      "attendanceIntervals": [
                        {
                          "durationInSeconds": 1800,
                          "joinDateTime": "2022-1-24T16:45:00.00Z",
                          "leaveDateTime": "2022-1-24T17:15:00.00Z"
                        }
                      ],
                      "identity": {
                        "displayName": "Everette Rugg",
                        "id": "719c1bfc-04fd-4e4b-961e-672c336b265b",
                        "tenantId": ""
                      }
                    },
                    {
                      "totalAttendanceInSeconds": 1380,
                      "role": "Student",
                      "emailAddress": "LucilleCFirth@contoso.org",
                      "attendanceIntervals": [
                        {
                          "durationInSeconds": 1380,
                          "joinDateTime": "2022-1-24T16:49:00.00Z",
                          "leaveDateTime": "2022-1-24T17:12:00.00Z"
                        }
                      ],
                      "identity": {
                        "displayName": "Lucille Firth",
                        "id": "b416314a-3ce4-4522-99d8-b98e84de22c7",
                        "tenantId": ""
                      }
                    },
                    {
                      "totalAttendanceInSeconds": 1200,
                      "role": "Student",
                      "emailAddress": "JosephKQuach@contoso.org",
                      "attendanceIntervals": [
                        {
                          "durationInSeconds": 1200,
                          "joinDateTime": "2022-1-24T16:46:00.00Z",
                          "leaveDateTime": "2022-1-24T17:6:00.00Z"
                        }
                      ],
                      "identity": {
                        "displayName": "Joseph Quach",
                        "id": "ec96df04-45c0-40f0-8f12-f4363fc5e7d5",
                        "tenantId": ""
                      }
                    },
                    {
                      "totalAttendanceInSeconds": 4380,
                      "role": "Student",
                      "emailAddress": "DonaldSPittenger@contoso.org",
                      "attendanceIntervals": [
                        {
                          "durationInSeconds": 4380,
                          "joinDateTime": "2022-1-24T16:45:00.00Z",
                          "leaveDateTime": "2022-1-24T17:58:00.00Z"
                        }
                      ],
                      "identity": {
                        "displayName": "Donald Pittenger",
                        "id": "4af8e61e-8ecd-4ec1-b0ff-0821ec99b2cf",
                        "tenantId": ""
                      }
                    },
                    {
                      "totalAttendanceInSeconds": 1080,
                      "role": "Student",
                      "emailAddress": "JohnCBowman@contoso.org",
                      "attendanceIntervals": [
                        {
                          "durationInSeconds": 1080,
                          "joinDateTime": "2022-1-24T16:46:00.00Z",
                          "leaveDateTime": "2022-1-24T17:4:00.00Z"
                        }
                      ],
                      "identity": {
                        "displayName": "John Bowman",
                        "id": "581234db-13d0-4657-86f0-0908ab7b493a",
                        "tenantId": ""
                      }
                    },
                    {
                      "totalAttendanceInSeconds": 1260,
                      "role": "Student",
                      "emailAddress": "BethLBarker@contoso.org",
                      "attendanceIntervals": [
                        {
                          "durationInSeconds": 1260,
                          "joinDateTime": "2022-1-24T16:45:00.00Z",
                          "leaveDateTime": "2022-1-24T17:6:00.00Z"
                        }
                      ],
                      "identity": {
                        "displayName": "Beth Barker",
                        "id": "560635b6-42ea-432c-b7e2-891e6f86dd3d",
                        "tenantId": ""
                      }
                    },
                    {
                      "totalAttendanceInSeconds": 3960,
                      "role": "Student",
                      "emailAddress": "TheodoreANewberry@contoso.org",
                      "attendanceIntervals": [
                        {
                          "durationInSeconds": 3960,
                          "joinDateTime": "2022-1-24T16:50:00.00Z",
                          "leaveDateTime": "2022-1-24T17:56:00.00Z"
                        }
                      ],
                      "identity": {
                        "displayName": "Theodore Newberry",
                        "id": "ab1ca0e1-7684-40f8-8984-b3a406edd0b8",
                        "tenantId": ""
                      }
                    },
                    {
                      "totalAttendanceInSeconds": 960,
                      "role": "Student",
                      "emailAddress": "AmandaGLewis@contoso.org",
                      "attendanceIntervals": [
                        {
                          "durationInSeconds": 960,
                          "joinDateTime": "2022-1-24T16:45:00.00Z",
                          "leaveDateTime": "2022-1-24T17:1:00.00Z"
                        }
                      ],
                      "identity": {
                        "displayName": "Amanda Lewis",
                        "id": "c56a8f95-8618-496b-97a5-86999d80605f",
                        "tenantId": ""
                      }
                    },
                    {
                      "totalAttendanceInSeconds": 4260,
                      "role": "Student",
                      "emailAddress": "JulianSTaylor@contoso.org",
                      "attendanceIntervals": [
                        {
                          "durationInSeconds": 4260,
                          "joinDateTime": "2022-1-24T16:47:00.00Z",
                          "leaveDateTime": "2022-1-24T17:58:00.00Z"
                        }
                      ],
                      "identity": {
                        "displayName": "Julian Taylor",
                        "id": "a2119ca2-1f13-4272-bb23-d070b17f2518",
                        "tenantId": ""
                      }
                    },
                    {
                      "totalAttendanceInSeconds": 4200,
                      "role": "Student",
                      "emailAddress": "CharlesDBabin@contoso.org",
                      "attendanceIntervals": [
                        {
                          "durationInSeconds": 4200,
                          "joinDateTime": "2022-1-24T16:48:00.00Z",
                          "leaveDateTime": "2022-1-24T17:58:00.00Z"
                        }
                      ],
                      "identity": {
                        "displayName": "Charles Babin",
                        "id": "01d103b9-703d-4be5-8898-300b4e986621",
                        "tenantId": ""
                      }
                    },
                    {
                      "totalAttendanceInSeconds": 1140,
                      "role": "Student",
                      "emailAddress": "SophieMSchenk@contoso.org",
                      "attendanceIntervals": [
                        {
                          "durationInSeconds": 1140,
                          "joinDateTime": "2022-1-24T16:48:00.00Z",
                          "leaveDateTime": "2022-1-24T17:7:00.00Z"
                        }
                      ],
                      "identity": {
                        "displayName": "Sophie Schenk",
                        "id": "e12cab6a-0151-47c8-bd75-3a695d2b3f3f",
                        "tenantId": ""
                      }
                    },
                    {
                      "totalAttendanceInSeconds": 1500,
                      "role": "Student",
                      "emailAddress": "LouisACaver@contoso.org",
                      "attendanceIntervals": [
                        {
                          "durationInSeconds": 1500,
                          "joinDateTime": "2022-1-24T16:49:00.00Z",
                          "leaveDateTime": "2022-1-24T17:14:00.00Z"
                        }
                      ],
                      "identity": {
                        "displayName": "Louis Caver",
                        "id": "23e9ffdc-6aa3-4972-b0c6-f3f2c6ddd151",
                        "tenantId": ""
                      }
                    },
                    {
                      "totalAttendanceInSeconds": 1500,
                      "role": "Student",
                      "emailAddress": "KatherineJWilcox@contoso.org",
                      "attendanceIntervals": [
                        {
                          "durationInSeconds": 1500,
                          "joinDateTime": "2022-1-24T16:47:00.00Z",
                          "leaveDateTime": "2022-1-24T17:12:00.00Z"
                        }
                      ],
                      "identity": {
                        "displayName": "Katherine Wilcox",
                        "id": "a6614478-d01d-4d22-bba3-81d7f6affdb9",
                        "tenantId": ""
                      }
                    },
                    {
                      "totalAttendanceInSeconds": 1500,
                      "role": "Student",
                      "emailAddress": "RosaleeWAndrews@contoso.org",
                      "attendanceIntervals": [
                        {
                          "durationInSeconds": 1500,
                          "joinDateTime": "2022-1-24T16:50:00.00Z",
                          "leaveDateTime": "2022-1-24T17:15:00.00Z"
                        }
                      ],
                      "identity": {
                        "displayName": "Rosalee Andrews",
                        "id": "07bd7cbb-dc91-49c0-8c41-7ceef2953a0b",
                        "tenantId": ""
                      }
                    },
                    {
                      "totalAttendanceInSeconds": 4380,
                      "role": "Student",
                      "emailAddress": "LaurenCRicci@contoso.org",
                      "attendanceIntervals": [
                        {
                          "durationInSeconds": 4380,
                          "joinDateTime": "2022-1-24T16:45:00.00Z",
                          "leaveDateTime": "2022-1-24T17:58:00.00Z"
                        }
                      ],
                      "identity": {
                        "displayName": "Lauren Ricci",
                        "id": "38bdf37d-a239-4183-8eba-576a71fe4a88",
                        "tenantId": ""
                      }
                    },
                    {
                      "totalAttendanceInSeconds": 780,
                      "role": "Student",
                      "emailAddress": "PaulSZak@contoso.org",
                      "attendanceIntervals": [
                        {
                          "durationInSeconds": 780,
                          "joinDateTime": "2022-1-24T16:50:00.00Z",
                          "leaveDateTime": "2022-1-24T17:3:00.00Z"
                        }
                      ],
                      "identity": {
                        "displayName": "Paul Zak",
                        "id": "acf27f76-6ad8-4b19-882d-1e46bde786e7",
                        "tenantId": ""
                      }
                    },
                    {
                      "totalAttendanceInSeconds": 1680,
                      "role": "Student",
                      "emailAddress": "SarahJDaly@contoso.org",
                      "attendanceIntervals": [
                        {
                          "durationInSeconds": 1680,
                          "joinDateTime": "2022-1-24T16:45:00.00Z",
                          "leaveDateTime": "2022-1-24T17:13:00.00Z"
                        }
                      ],
                      "identity": {
                        "displayName": "Sarah Daly",
                        "id": "86c1bcc8-37df-4064-8adf-0cf26591fdd3",
                        "tenantId": ""
                      }
                    },
                    {
                      "totalAttendanceInSeconds": 1500,
                      "role": "Student",
                      "emailAddress": "AshantiJMaldonado@contoso.org",
                      "attendanceIntervals": [
                        {
                          "durationInSeconds": 1500,
                          "joinDateTime": "2022-1-24T16:48:00.00Z",
                          "leaveDateTime": "2022-1-24T17:13:00.00Z"
                        }
                      ],
                      "identity": {
                        "displayName": "Ashanti Maldonado",
                        "id": "9569742c-7c31-46fe-a5b4-221992a1f092",
                        "tenantId": ""
                      }
                    },
                    {
                      "totalAttendanceInSeconds": 1140,
                      "role": "Student",
                      "emailAddress": "FlorenceRMorse@contoso.org",
                      "attendanceIntervals": [
                        {
                          "durationInSeconds": 1140,
                          "joinDateTime": "2022-1-24T16:46:00.00Z",
                          "leaveDateTime": "2022-1-24T17:5:00.00Z"
                        }
                      ],
                      "identity": {
                        "displayName": "Florence Morse",
                        "id": "877039b9-5494-4844-88d1-a13ab46f018f",
                        "tenantId": ""
                      }
                    },
                    {
                      "totalAttendanceInSeconds": 1380,
                      "role": "Student",
                      "emailAddress": "EllaGRosier@contoso.org",
                      "attendanceIntervals": [
                        {
                          "durationInSeconds": 1380,
                          "joinDateTime": "2022-1-24T16:47:00.00Z",
                          "leaveDateTime": "2022-1-24T17:10:00.00Z"
                        }
                      ],
                      "identity": {
                        "displayName": "Ella Rosier",
                        "id": "44500e73-8bfd-4091-b3ec-162037601339",
                        "tenantId": ""
                      }
                    },
                    {
                      "totalAttendanceInSeconds": 1080,
                      "role": "Student",
                      "emailAddress": "JenniferJAnsley@contoso.org",
                      "attendanceIntervals": [
                        {
                          "durationInSeconds": 1080,
                          "joinDateTime": "2022-1-24T16:49:00.00Z",
                          "leaveDateTime": "2022-1-24T17:7:00.00Z"
                        }
                      ],
                      "identity": {
                        "displayName": "Jennifer Ansley",
                        "id": "e0bf662a-d905-42d7-8081-b3144a2bcc0d",
                        "tenantId": ""
                      }
                    },
                    {
                      "totalAttendanceInSeconds": 4140,
                      "role": "Student",
                      "emailAddress": "CheriBDeluca@contoso.org",
                      "attendanceIntervals": [
                        {
                          "durationInSeconds": 4140,
                          "joinDateTime": "2022-1-24T16:49:00.00Z",
                          "leaveDateTime": "2022-1-24T17:58:00.00Z"
                        }
                      ],
                      "identity": {
                        "displayName": "Cheri Deluca",
                        "id": "ab58c97c-7460-48c7-924f-7a5859dc1409",
                        "tenantId": ""
                      }
                    },
                    {
                      "totalAttendanceInSeconds": 1500,
                      "role": "Student",
                      "emailAddress": "TanishaJEaton@contoso.org",
                      "attendanceIntervals": [
                        {
                          "durationInSeconds": 1500,
                          "joinDateTime": "2022-1-24T16:50:00.00Z",
                          "leaveDateTime": "2022-1-24T17:15:00.00Z"
                        }
                      ],
                      "identity": {
                        "displayName": "Tanisha Eaton",
                        "id": "02603f1a-1558-4072-ae81-9cea0fae4911",
                        "tenantId": ""
                      }
                    },
                    {
                      "totalAttendanceInSeconds": 4020,
                      "role": "Student",
                      "emailAddress": "JamesNNicholas@contoso.org",
                      "attendanceIntervals": [
                        {
                          "durationInSeconds": 4020,
                          "joinDateTime": "2022-1-24T16:49:00.00Z",
                          "leaveDateTime": "2022-1-24T17:56:00.00Z"
                        }
                      ],
                      "identity": {
                        "displayName": "James Nicholas",
                        "id": "1e909d12-5d9e-4f03-8484-6a193ea68bcb",
                        "tenantId": ""
                      }
                    },
                    {
                      "totalAttendanceInSeconds": 4080,
                      "role": "Student",
                      "emailAddress": "FrancesLMcDaniel@contoso.org",
                      "attendanceIntervals": [
                        {
                          "durationInSeconds": 4080,
                          "joinDateTime": "2022-1-24T16:50:00.00Z",
                          "leaveDateTime": "2022-1-24T17:58:00.00Z"
                        }
                      ],
                      "identity": {
                        "displayName": "Frances McDaniel",
                        "id": "ec9ccc19-f59f-40cb-a210-9c696630f626",
                        "tenantId": ""
                      }
                    },
                    {
                      "totalAttendanceInSeconds": 1800,
                      "role": "Student",
                      "emailAddress": "MariaJBrown@contoso.org",
                      "attendanceIntervals": [
                        {
                          "durationInSeconds": 1800,
                          "joinDateTime": "2022-1-24T16:45:00.00Z",
                          "leaveDateTime": "2022-1-24T17:15:00.00Z"
                        }
                      ],
                      "identity": {
                        "displayName": "Maria Brown",
                        "id": "176f3edc-31ba-4b0e-b8b4-7f0dfc1fe579",
                        "tenantId": ""
                      }
                    },
                    {
                      "totalAttendanceInSeconds": 1440,
                      "role": "Student",
                      "emailAddress": "RayCMoreno@contoso.org",
                      "attendanceIntervals": [
                        {
                          "durationInSeconds": 1440,
                          "joinDateTime": "2022-1-24T16:45:00.00Z",
                          "leaveDateTime": "2022-1-24T17:9:00.00Z"
                        }
                      ],
                      "identity": {
                        "displayName": "Ray Moreno",
                        "id": "160cb2a4-613b-4716-956e-98affccea0df",
                        "tenantId": ""
                      }
                    },
                    {
                      "totalAttendanceInSeconds": 4200,
                      "role": "Student",
                      "emailAddress": "GeoffreyPChapman@contoso.org",
                      "attendanceIntervals": [
                        {
                          "durationInSeconds": 4200,
                          "joinDateTime": "2022-1-24T16:45:00.00Z",
                          "leaveDateTime": "2022-1-24T17:55:00.00Z"
                        }
                      ],
                      "identity": {
                        "displayName": "Geoffrey Chapman",
                        "id": "4b2147e5-0751-44d1-b021-7a7cc86ff4a6",
                        "tenantId": ""
                      }
                    },
                    {
                      "totalAttendanceInSeconds": 1140,
                      "role": "Student",
                      "emailAddress": "BretAThomas@contoso.org",
                      "attendanceIntervals": [
                        {
                          "durationInSeconds": 1140,
                          "joinDateTime": "2022-1-24T16:48:00.00Z",
                          "leaveDateTime": "2022-1-24T17:7:00.00Z"
                        }
                      ],
                      "identity": {
                        "displayName": "Bret Thomas",
                        "id": "085924bc-df34-4528-9f18-679b86d2bd05",
                        "tenantId": ""
                      }
                    },
                    {
                      "totalAttendanceInSeconds": 4200,
                      "role": "Student",
                      "emailAddress": "NathanBGrover@contoso.org",
                      "attendanceIntervals": [
                        {
                          "durationInSeconds": 4200,
                          "joinDateTime": "2022-1-24T16:46:00.00Z",
                          "leaveDateTime": "2022-1-24T17:56:00.00Z"
                        }
                      ],
                      "identity": {
                        "displayName": "Nathan Grover",
                        "id": "815dccf4-e18d-4cad-9e3a-3c10b9725949",
                        "tenantId": ""
                      }
                    },
                    {
                      "totalAttendanceInSeconds": 720,
                      "role": "Student",
                      "emailAddress": "JenniferNJones@contoso.org",
                      "attendanceIntervals": [
                        {
                          "durationInSeconds": 720,
                          "joinDateTime": "2022-1-24T16:48:00.00Z",
                          "leaveDateTime": "2022-1-24T17:0:00.00Z"
                        }
                      ],
                      "identity": {
                        "displayName": "Jennifer Jones",
                        "id": "d8f78339-a850-426e-8e33-6eb36e6493c3",
                        "tenantId": ""
                      }
                    },
                    {
                      "totalAttendanceInSeconds": 4080,
                      "role": "Student",
                      "emailAddress": "JamesMAnderson@contoso.org",
                      "attendanceIntervals": [
                        {
                          "durationInSeconds": 4080,
                          "joinDateTime": "2022-1-24T16:46:00.00Z",
                          "leaveDateTime": "2022-1-24T17:54:00.00Z"
                        }
                      ],
                      "identity": {
                        "displayName": "James Anderson",
                        "id": "b34b5d40-189e-4558-9545-9cdd9e86b397",
                        "tenantId": ""
                      }
                    },
                    {
                      "totalAttendanceInSeconds": 1020,
                      "role": "Student",
                      "emailAddress": "KennyMLair@contoso.org",
                      "attendanceIntervals": [
                        {
                          "durationInSeconds": 1020,
                          "joinDateTime": "2022-1-24T16:48:00.00Z",
                          "leaveDateTime": "2022-1-24T17:5:00.00Z"
                        }
                      ],
                      "identity": {
                        "displayName": "Kenny Lair",
                        "id": "8a29f408-accf-4fa9-a2aa-e95f5bc08932",
                        "tenantId": ""
                      }
                    },
                    {
                      "totalAttendanceInSeconds": 1440,
                      "role": "Student",
                      "emailAddress": "RobertGWashington@contoso.org",
                      "attendanceIntervals": [
                        {
                          "durationInSeconds": 1440,
                          "joinDateTime": "2022-1-24T16:50:00.00Z",
                          "leaveDateTime": "2022-1-24T17:14:00.00Z"
                        }
                      ],
                      "identity": {
                        "displayName": "Robert Washington",
                        "id": "6abfffeb-9961-4795-9e8e-49d2a0f646b9",
                        "tenantId": ""
                      }
                    },
                    {
                      "totalAttendanceInSeconds": 1560,
                      "role": "Student",
                      "emailAddress": "MabelNDuarte@contoso.org",
                      "attendanceIntervals": [
                        {
                          "durationInSeconds": 1560,
                          "joinDateTime": "2022-1-24T16:46:00.00Z",
                          "leaveDateTime": "2022-1-24T17:12:00.00Z"
                        }
                      ],
                      "identity": {
                        "displayName": "Mabel Duarte",
                        "id": "30c78fa8-1393-418e-87c4-9427ca2ec2ad",
                        "tenantId": ""
                      }
                    },
                    {
                      "totalAttendanceInSeconds": 1140,
                      "role": "Student",
                      "emailAddress": "JacobNSmart@contoso.org",
                      "attendanceIntervals": [
                        {
                          "durationInSeconds": 1140,
                          "joinDateTime": "2022-1-24T16:48:00.00Z",
                          "leaveDateTime": "2022-1-24T17:7:00.00Z"
                        }
                      ],
                      "identity": {
                        "displayName": "Jacob Smart",
                        "id": "0b9909b7-edcd-4006-a22f-c647b4237ea5",
                        "tenantId": ""
                      }
                    },
                    {
                      "totalAttendanceInSeconds": 840,
                      "role": "Student",
                      "emailAddress": "DallasFRoberts@contoso.org",
                      "attendanceIntervals": [
                        {
                          "durationInSeconds": 840,
                          "joinDateTime": "2022-1-24T16:49:00.00Z",
                          "leaveDateTime": "2022-1-24T17:3:00.00Z"
                        }
                      ],
                      "identity": {
                        "displayName": "Dallas Roberts",
                        "id": "c0874fd1-1512-4075-99e5-3a18274f9d4a",
                        "tenantId": ""
                      }
                    },
                    {
                      "totalAttendanceInSeconds": 1380,
                      "role": "Student",
                      "emailAddress": "HeatherFSmith@contoso.org",
                      "attendanceIntervals": [
                        {
                          "durationInSeconds": 1380,
                          "joinDateTime": "2022-1-24T16:48:00.00Z",
                          "leaveDateTime": "2022-1-24T17:11:00.00Z"
                        }
                      ],
                      "identity": {
                        "displayName": "Heather Smith",
                        "id": "651e8651-037c-49b5-940d-079d0d0b3130",
                        "tenantId": ""
                      }
                    },
                    {
                      "totalAttendanceInSeconds": 1140,
                      "role": "Student",
                      "emailAddress": "AlliePMcGlothlin@contoso.org",
                      "attendanceIntervals": [
                        {
                          "durationInSeconds": 1140,
                          "joinDateTime": "2022-1-24T16:47:00.00Z",
                          "leaveDateTime": "2022-1-24T17:6:00.00Z"
                        }
                      ],
                      "identity": {
                        "displayName": "Allie McGlothlin",
                        "id": "b1f351a8-e041-4835-ad42-933eab79d543",
                        "tenantId": ""
                      }
                    },
                    {
                      "totalAttendanceInSeconds": 900,
                      "role": "Student",
                      "emailAddress": "ShirlyRWilliams@contoso.org",
                      "attendanceIntervals": [
                        {
                          "durationInSeconds": 900,
                          "joinDateTime": "2022-1-24T16:50:00.00Z",
                          "leaveDateTime": "2022-1-24T17:5:00.00Z"
                        }
                      ],
                      "identity": {
                        "displayName": "Shirly Williams",
                        "id": "7b88e62e-04a3-4c7b-975a-f34ca4915688",
                        "tenantId": ""
                      }
                    },
                    {
                      "totalAttendanceInSeconds": 1380,
                      "role": "Student",
                      "emailAddress": "WendyJJones@contoso.org",
                      "attendanceIntervals": [
                        {
                          "durationInSeconds": 1380,
                          "joinDateTime": "2022-1-24T16:47:00.00Z",
                          "leaveDateTime": "2022-1-24T17:10:00.00Z"
                        }
                      ],
                      "identity": {
                        "displayName": "Wendy Jones",
                        "id": "cfeb0941-d0e2-482d-a8fc-3196424efe51",
                        "tenantId": ""
                      }
                    },
                    {
                      "totalAttendanceInSeconds": 4140,
                      "role": "Student",
                      "emailAddress": "ElsieWWagner@contoso.org",
                      "attendanceIntervals": [
                        {
                          "durationInSeconds": 4140,
                          "joinDateTime": "2022-1-24T16:48:00.00Z",
                          "leaveDateTime": "2022-1-24T17:57:00.00Z"
                        }
                      ],
                      "identity": {
                        "displayName": "Elsie Wagner",
                        "id": "da698590-d491-4cf9-ad77-35116e875cfd",
                        "tenantId": ""
                      }
                    },
                    {
                      "totalAttendanceInSeconds": 3960,
                      "role": "Student",
                      "emailAddress": "KirkSFeliciano@contoso.org",
                      "attendanceIntervals": [
                        {
                          "durationInSeconds": 3960,
                          "joinDateTime": "2022-1-24T16:50:00.00Z",
                          "leaveDateTime": "2022-1-24T17:56:00.00Z"
                        }
                      ],
                      "identity": {
                        "displayName": "Kirk Feliciano",
                        "id": "9c0f7f1f-f86d-40f2-a840-7ac3bf13b070",
                        "tenantId": ""
                      }
                    },
                    {
                      "totalAttendanceInSeconds": 1200,
                      "role": "Student",
                      "emailAddress": "WilburBIngram@contoso.org",
                      "attendanceIntervals": [
                        {
                          "durationInSeconds": 1200,
                          "joinDateTime": "2022-1-24T16:48:00.00Z",
                          "leaveDateTime": "2022-1-24T17:8:00.00Z"
                        }
                      ],
                      "identity": {
                        "displayName": "Wilbur Ingram",
                        "id": "6f4ab288-aded-44ad-8bfe-702ab915f7f3",
                        "tenantId": ""
                      }
                    },
                    {
                      "totalAttendanceInSeconds": 600,
                      "role": "Student",
                      "emailAddress": "RonaldTBowman@contoso.org",
                      "attendanceIntervals": [
                        {
                          "durationInSeconds": 600,
                          "joinDateTime": "2022-1-24T16:50:00.00Z",
                          "leaveDateTime": "2022-1-24T17:0:00.00Z"
                        }
                      ],
                      "identity": {
                        "displayName": "Ronald Bowman",
                        "id": "1dacc749-4016-4bc0-811e-db5286386d33",
                        "tenantId": ""
                      }
                    },
                    {
                      "totalAttendanceInSeconds": 1320,
                      "role": "Student",
                      "emailAddress": "GeorgeJSantiago@contoso.org",
                      "attendanceIntervals": [
                        {
                          "durationInSeconds": 1320,
                          "joinDateTime": "2022-1-24T16:46:00.00Z",
                          "leaveDateTime": "2022-1-24T17:8:00.00Z"
                        }
                      ],
                      "identity": {
                        "displayName": "George Santiago",
                        "id": "f206f943-e534-41e2-a81a-ed41c7db3992",
                        "tenantId": ""
                      }
                    },
                    {
                      "totalAttendanceInSeconds": 4020,
                      "role": "Student",
                      "emailAddress": "WilliamMBlackburn@contoso.org",
                      "attendanceIntervals": [
                        {
                          "durationInSeconds": 4020,
                          "joinDateTime": "2022-1-24T16:48:00.00Z",
                          "leaveDateTime": "2022-1-24T17:55:00.00Z"
                        }
                      ],
                      "identity": {
                        "displayName": "William Blackburn",
                        "id": "65cdb379-46fb-4350-90d6-4e6a18291d2d",
                        "tenantId": ""
                      }
                    },
                    {
                      "totalAttendanceInSeconds": 4200,
                      "role": "Student",
                      "emailAddress": "HazelKJones@contoso.org",
                      "attendanceIntervals": [
                        {
                          "durationInSeconds": 4200,
                          "joinDateTime": "2022-1-24T16:47:00.00Z",
                          "leaveDateTime": "2022-1-24T17:57:00.00Z"
                        }
                      ],
                      "identity": {
                        "displayName": "Hazel Jones",
                        "id": "2810f2ae-77db-4e0a-977b-d0376fd12222",
                        "tenantId": ""
                      }
                    },
                    {
                      "totalAttendanceInSeconds": 3960,
                      "role": "Student",
                      "emailAddress": "JeanPBloodworth@contoso.org",
                      "attendanceIntervals": [
                        {
                          "durationInSeconds": 3960,
                          "joinDateTime": "2022-1-24T16:49:00.00Z",
                          "leaveDateTime": "2022-1-24T17:55:00.00Z"
                        }
                      ],
                      "identity": {
                        "displayName": "Jean Bloodworth",
                        "id": "ea363d72-27ad-4fec-9c36-9107b6aa22bf",
                        "tenantId": ""
                      }
                    },
                    {
                      "totalAttendanceInSeconds": 1260,
                      "role": "Student",
                      "emailAddress": "DanielMMartinez@contoso.org",
                      "attendanceIntervals": [
                        {
                          "durationInSeconds": 1260,
                          "joinDateTime": "2022-1-24T16:49:00.00Z",
                          "leaveDateTime": "2022-1-24T17:10:00.00Z"
                        }
                      ],
                      "identity": {
                        "displayName": "Daniel Martinez",
                        "id": "9e77b486-89b7-4344-adcf-9bf0c742e6f4",
                        "tenantId": ""
                      }
                    }
                  ]
                },
                {
                  "0": "702448b2-c0b0-4885-9b3e-07c05ae4c00f",
                  "1": "60",
                  "2": "2022-1-20T9:0:00.00Z",
                  "3": "2022-1-20T11:0:00.00Z",
                  "4": [
                    {
                      "totalAttendanceInSeconds": 10320,
                      "role": "Student",
                      "emailAddress": "JohnMYamamoto@contoso.org",
                      "attendanceIntervals": [
                        {
                          "durationInSeconds": 10320,
                          "joinDateTime": "2022-1-20T9:3:00.00Z",
                          "leaveDateTime": "2022-1-20T11:55:00.00Z"
                        }
                      ],
                      "identity": {
                        "displayName": "John Yamamoto",
                        "id": "f3c50ff5-43f2-405b-8fc7-b6588009fbbe",
                        "tenantId": ""
                      }
                    },
                    {
                      "totalAttendanceInSeconds": 10320,
                      "role": "Student",
                      "emailAddress": "MichelleDLibbey@contoso.org",
                      "attendanceIntervals": [
                        {
                          "durationInSeconds": 10320,
                          "joinDateTime": "2022-1-20T9:2:00.00Z",
                          "leaveDateTime": "2022-1-20T11:54:00.00Z"
                        }
                      ],
                      "identity": {
                        "displayName": "Michelle Libbey",
                        "id": "4fa935e0-4b46-4916-b18e-d4a5162350aa",
                        "tenantId": ""
                      }
                    },
                    {
                      "totalAttendanceInSeconds": 7080,
                      "role": "Student",
                      "emailAddress": "JimKWhite@contoso.org",
                      "attendanceIntervals": [
                        {
                          "durationInSeconds": 7080,
                          "joinDateTime": "2022-1-20T9:2:00.00Z",
                          "leaveDateTime": "2022-1-20T11:0:00.00Z"
                        }
                      ],
                      "identity": {
                        "displayName": "Jim White",
                        "id": "6cfeff48-4343-4648-92ad-d21e3b4b7d12",
                        "tenantId": ""
                      }
                    },
                    {
                      "totalAttendanceInSeconds": 9420,
                      "role": "Student",
                      "emailAddress": "LeroyCWilliams@contoso.org",
                      "attendanceIntervals": [
                        {
                          "durationInSeconds": 9420,
                          "joinDateTime": "2022-1-20T9:2:00.00Z",
                          "leaveDateTime": "2022-1-20T11:39:00.00Z"
                        }
                      ],
                      "identity": {
                        "displayName": "Leroy Williams",
                        "id": "191d236e-fb6f-470a-b9e4-314f5347b221",
                        "tenantId": ""
                      }
                    },
                    {
                      "totalAttendanceInSeconds": 10500,
                      "role": "Student",
                      "emailAddress": "MelindaJSchneider@contoso.org",
                      "attendanceIntervals": [
                        {
                          "durationInSeconds": 10500,
                          "joinDateTime": "2022-1-20T9:0:00.00Z",
                          "leaveDateTime": "2022-1-20T11:55:00.00Z"
                        }
                      ],
                      "identity": {
                        "displayName": "Melinda Schneider",
                        "id": "208de147-f663-48c0-9bba-fceb3b18bb77",
                        "tenantId": ""
                      }
                    },
                    {
                      "totalAttendanceInSeconds": 9900,
                      "role": "Student",
                      "emailAddress": "RyanNRitchie@contoso.org",
                      "attendanceIntervals": [
                        {
                          "durationInSeconds": 9900,
                          "joinDateTime": "2022-1-20T9:5:00.00Z",
                          "leaveDateTime": "2022-1-20T11:50:00.00Z"
                        }
                      ],
                      "identity": {
                        "displayName": "Ryan Ritchie",
                        "id": "907b0838-48d2-4c50-ae9f-a0c8c4724fa7",
                        "tenantId": ""
                      }
                    },
                    {
                      "totalAttendanceInSeconds": 7200,
                      "role": "Student",
                      "emailAddress": "InezCIsbell@contoso.org",
                      "attendanceIntervals": [
                        {
                          "durationInSeconds": 7200,
                          "joinDateTime": "2022-1-20T9:0:00.00Z",
                          "leaveDateTime": "2022-1-20T11:0:00.00Z"
                        }
                      ],
                      "identity": {
                        "displayName": "Inez Isbell",
                        "id": "b87db641-9abc-4a89-ab92-bc1bc99ada2e",
                        "tenantId": ""
                      }
                    },
                    {
                      "totalAttendanceInSeconds": 10560,
                      "role": "Student",
                      "emailAddress": "CarolRSmith@contoso.org",
                      "attendanceIntervals": [
                        {
                          "durationInSeconds": 10560,
                          "joinDateTime": "2022-1-20T9:2:00.00Z",
                          "leaveDateTime": "2022-1-20T11:58:00.00Z"
                        }
                      ],
                      "identity": {
                        "displayName": "Carol Smith",
                        "id": "28d5987f-0363-4500-a2a6-568f9e5fb3fd",
                        "tenantId": ""
                      }
                    },
                    {
                      "totalAttendanceInSeconds": 10200,
                      "role": "Student",
                      "emailAddress": "EveretteMRugg@contoso.org",
                      "attendanceIntervals": [
                        {
                          "durationInSeconds": 10200,
                          "joinDateTime": "2022-1-20T9:5:00.00Z",
                          "leaveDateTime": "2022-1-20T11:55:00.00Z"
                        }
                      ],
                      "identity": {
                        "displayName": "Everette Rugg",
                        "id": "719c1bfc-04fd-4e4b-961e-672c336b265b",
                        "tenantId": ""
                      }
                    },
                    {
                      "totalAttendanceInSeconds": 10500,
                      "role": "Student",
                      "emailAddress": "LucilleCFirth@contoso.org",
                      "attendanceIntervals": [
                        {
                          "durationInSeconds": 10500,
                          "joinDateTime": "2022-1-20T9:1:00.00Z",
                          "leaveDateTime": "2022-1-20T11:56:00.00Z"
                        }
                      ],
                      "identity": {
                        "displayName": "Lucille Firth",
                        "id": "b416314a-3ce4-4522-99d8-b98e84de22c7",
                        "tenantId": ""
                      }
                    },
                    {
                      "totalAttendanceInSeconds": 9960,
                      "role": "Student",
                      "emailAddress": "NormaWDenton@contoso.org",
                      "attendanceIntervals": [
                        {
                          "durationInSeconds": 9960,
                          "joinDateTime": "2022-1-20T9:3:00.00Z",
                          "leaveDateTime": "2022-1-20T11:49:00.00Z"
                        }
                      ],
                      "identity": {
                        "displayName": "Norma Denton",
                        "id": "c2215ecd-9c68-44b0-9af6-1d717bf17317",
                        "tenantId": ""
                      }
                    },
                    {
                      "totalAttendanceInSeconds": 10200,
                      "role": "Student",
                      "emailAddress": "JosephKQuach@contoso.org",
                      "attendanceIntervals": [
                        {
                          "durationInSeconds": 10200,
                          "joinDateTime": "2022-1-20T9:4:00.00Z",
                          "leaveDateTime": "2022-1-20T11:54:00.00Z"
                        }
                      ],
                      "identity": {
                        "displayName": "Joseph Quach",
                        "id": "ec96df04-45c0-40f0-8f12-f4363fc5e7d5",
                        "tenantId": ""
                      }
                    },
                    {
                      "totalAttendanceInSeconds": 10500,
                      "role": "Student",
                      "emailAddress": "DonaldSPittenger@contoso.org",
                      "attendanceIntervals": [
                        {
                          "durationInSeconds": 10500,
                          "joinDateTime": "2022-1-20T9:1:00.00Z",
                          "leaveDateTime": "2022-1-20T11:56:00.00Z"
                        }
                      ],
                      "identity": {
                        "displayName": "Donald Pittenger",
                        "id": "4af8e61e-8ecd-4ec1-b0ff-0821ec99b2cf",
                        "tenantId": ""
                      }
                    },
                    {
                      "totalAttendanceInSeconds": 9480,
                      "role": "Student",
                      "emailAddress": "JohnCBowman@contoso.org",
                      "attendanceIntervals": [
                        {
                          "durationInSeconds": 9480,
                          "joinDateTime": "2022-1-20T9:1:00.00Z",
                          "leaveDateTime": "2022-1-20T11:39:00.00Z"
                        }
                      ],
                      "identity": {
                        "displayName": "John Bowman",
                        "id": "581234db-13d0-4657-86f0-0908ab7b493a",
                        "tenantId": ""
                      }
                    },
                    {
                      "totalAttendanceInSeconds": 9420,
                      "role": "Student",
                      "emailAddress": "BethLBarker@contoso.org",
                      "attendanceIntervals": [
                        {
                          "durationInSeconds": 9420,
                          "joinDateTime": "2022-1-20T9:4:00.00Z",
                          "leaveDateTime": "2022-1-20T11:41:00.00Z"
                        }
                      ],
                      "identity": {
                        "displayName": "Beth Barker",
                        "id": "560635b6-42ea-432c-b7e2-891e6f86dd3d",
                        "tenantId": ""
                      }
                    },
                    {
                      "totalAttendanceInSeconds": 9720,
                      "role": "Student",
                      "emailAddress": "TheodoreANewberry@contoso.org",
                      "attendanceIntervals": [
                        {
                          "durationInSeconds": 9720,
                          "joinDateTime": "2022-1-20T9:0:00.00Z",
                          "leaveDateTime": "2022-1-20T11:42:00.00Z"
                        }
                      ],
                      "identity": {
                        "displayName": "Theodore Newberry",
                        "id": "ab1ca0e1-7684-40f8-8984-b3a406edd0b8",
                        "tenantId": ""
                      }
                    },
                    {
                      "totalAttendanceInSeconds": 9720,
                      "role": "Student",
                      "emailAddress": "AmandaGLewis@contoso.org",
                      "attendanceIntervals": [
                        {
                          "durationInSeconds": 9720,
                          "joinDateTime": "2022-1-20T9:2:00.00Z",
                          "leaveDateTime": "2022-1-20T11:44:00.00Z"
                        }
                      ],
                      "identity": {
                        "displayName": "Amanda Lewis",
                        "id": "c56a8f95-8618-496b-97a5-86999d80605f",
                        "tenantId": ""
                      }
                    },
                    {
                      "totalAttendanceInSeconds": 10140,
                      "role": "Student",
                      "emailAddress": "JulianSTaylor@contoso.org",
                      "attendanceIntervals": [
                        {
                          "durationInSeconds": 10140,
                          "joinDateTime": "2022-1-20T9:5:00.00Z",
                          "leaveDateTime": "2022-1-20T11:54:00.00Z"
                        }
                      ],
                      "identity": {
                        "displayName": "Julian Taylor",
                        "id": "a2119ca2-1f13-4272-bb23-d070b17f2518",
                        "tenantId": ""
                      }
                    },
                    {
                      "totalAttendanceInSeconds": 9720,
                      "role": "Student",
                      "emailAddress": "CharlesDBabin@contoso.org",
                      "attendanceIntervals": [
                        {
                          "durationInSeconds": 9720,
                          "joinDateTime": "2022-1-20T9:3:00.00Z",
                          "leaveDateTime": "2022-1-20T11:45:00.00Z"
                        }
                      ],
                      "identity": {
                        "displayName": "Charles Babin",
                        "id": "01d103b9-703d-4be5-8898-300b4e986621",
                        "tenantId": ""
                      }
                    },
                    {
                      "totalAttendanceInSeconds": 9840,
                      "role": "Student",
                      "emailAddress": "SophieMSchenk@contoso.org",
                      "attendanceIntervals": [
                        {
                          "durationInSeconds": 9840,
                          "joinDateTime": "2022-1-20T9:1:00.00Z",
                          "leaveDateTime": "2022-1-20T11:45:00.00Z"
                        }
                      ],
                      "identity": {
                        "displayName": "Sophie Schenk",
                        "id": "e12cab6a-0151-47c8-bd75-3a695d2b3f3f",
                        "tenantId": ""
                      }
                    },
                    {
                      "totalAttendanceInSeconds": 9420,
                      "role": "Student",
                      "emailAddress": "LouisACaver@contoso.org",
                      "attendanceIntervals": [
                        {
                          "durationInSeconds": 9420,
                          "joinDateTime": "2022-1-20T9:4:00.00Z",
                          "leaveDateTime": "2022-1-20T11:41:00.00Z"
                        }
                      ],
                      "identity": {
                        "displayName": "Louis Caver",
                        "id": "23e9ffdc-6aa3-4972-b0c6-f3f2c6ddd151",
                        "tenantId": ""
                      }
                    },
                    {
                      "totalAttendanceInSeconds": 9540,
                      "role": "Student",
                      "emailAddress": "KatherineJWilcox@contoso.org",
                      "attendanceIntervals": [
                        {
                          "durationInSeconds": 9540,
                          "joinDateTime": "2022-1-20T9:3:00.00Z",
                          "leaveDateTime": "2022-1-20T11:42:00.00Z"
                        }
                      ],
                      "identity": {
                        "displayName": "Katherine Wilcox",
                        "id": "a6614478-d01d-4d22-bba3-81d7f6affdb9",
                        "tenantId": ""
                      }
                    },
                    {
                      "totalAttendanceInSeconds": 10200,
                      "role": "Student",
                      "emailAddress": "RosaleeWAndrews@contoso.org",
                      "attendanceIntervals": [
                        {
                          "durationInSeconds": 10200,
                          "joinDateTime": "2022-1-20T9:4:00.00Z",
                          "leaveDateTime": "2022-1-20T11:54:00.00Z"
                        }
                      ],
                      "identity": {
                        "displayName": "Rosalee Andrews",
                        "id": "07bd7cbb-dc91-49c0-8c41-7ceef2953a0b",
                        "tenantId": ""
                      }
                    },
                    {
                      "totalAttendanceInSeconds": 10560,
                      "role": "Student",
                      "emailAddress": "LaurenCRicci@contoso.org",
                      "attendanceIntervals": [
                        {
                          "durationInSeconds": 10560,
                          "joinDateTime": "2022-1-20T9:1:00.00Z",
                          "leaveDateTime": "2022-1-20T11:57:00.00Z"
                        }
                      ],
                      "identity": {
                        "displayName": "Lauren Ricci",
                        "id": "38bdf37d-a239-4183-8eba-576a71fe4a88",
                        "tenantId": ""
                      }
                    },
                    {
                      "totalAttendanceInSeconds": 6960,
                      "role": "Student",
                      "emailAddress": "PaulSZak@contoso.org",
                      "attendanceIntervals": [
                        {
                          "durationInSeconds": 6960,
                          "joinDateTime": "2022-1-20T9:4:00.00Z",
                          "leaveDateTime": "2022-1-20T11:0:00.00Z"
                        }
                      ],
                      "identity": {
                        "displayName": "Paul Zak",
                        "id": "acf27f76-6ad8-4b19-882d-1e46bde786e7",
                        "tenantId": ""
                      }
                    },
                    {
                      "totalAttendanceInSeconds": 9540,
                      "role": "Student",
                      "emailAddress": "SarahJDaly@contoso.org",
                      "attendanceIntervals": [
                        {
                          "durationInSeconds": 9540,
                          "joinDateTime": "2022-1-20T9:5:00.00Z",
                          "leaveDateTime": "2022-1-20T11:44:00.00Z"
                        }
                      ],
                      "identity": {
                        "displayName": "Sarah Daly",
                        "id": "86c1bcc8-37df-4064-8adf-0cf26591fdd3",
                        "tenantId": ""
                      }
                    },
                    {
                      "totalAttendanceInSeconds": 10260,
                      "role": "Student",
                      "emailAddress": "AshantiJMaldonado@contoso.org",
                      "attendanceIntervals": [
                        {
                          "durationInSeconds": 10260,
                          "joinDateTime": "2022-1-20T9:2:00.00Z",
                          "leaveDateTime": "2022-1-20T11:53:00.00Z"
                        }
                      ],
                      "identity": {
                        "displayName": "Ashanti Maldonado",
                        "id": "9569742c-7c31-46fe-a5b4-221992a1f092",
                        "tenantId": ""
                      }
                    },
                    {
                      "totalAttendanceInSeconds": 9780,
                      "role": "Student",
                      "emailAddress": "FlorenceRMorse@contoso.org",
                      "attendanceIntervals": [
                        {
                          "durationInSeconds": 9780,
                          "joinDateTime": "2022-1-20T9:4:00.00Z",
                          "leaveDateTime": "2022-1-20T11:47:00.00Z"
                        }
                      ],
                      "identity": {
                        "displayName": "Florence Morse",
                        "id": "877039b9-5494-4844-88d1-a13ab46f018f",
                        "tenantId": ""
                      }
                    },
                    {
                      "totalAttendanceInSeconds": 9840,
                      "role": "Student",
                      "emailAddress": "EllaGRosier@contoso.org",
                      "attendanceIntervals": [
                        {
                          "durationInSeconds": 9840,
                          "joinDateTime": "2022-1-20T9:4:00.00Z",
                          "leaveDateTime": "2022-1-20T11:48:00.00Z"
                        }
                      ],
                      "identity": {
                        "displayName": "Ella Rosier",
                        "id": "44500e73-8bfd-4091-b3ec-162037601339",
                        "tenantId": ""
                      }
                    },
                    {
                      "totalAttendanceInSeconds": 9780,
                      "role": "Student",
                      "emailAddress": "JenniferJAnsley@contoso.org",
                      "attendanceIntervals": [
                        {
                          "durationInSeconds": 9780,
                          "joinDateTime": "2022-1-20T9:1:00.00Z",
                          "leaveDateTime": "2022-1-20T11:44:00.00Z"
                        }
                      ],
                      "identity": {
                        "displayName": "Jennifer Ansley",
                        "id": "e0bf662a-d905-42d7-8081-b3144a2bcc0d",
                        "tenantId": ""
                      }
                    },
                    {
                      "totalAttendanceInSeconds": 10680,
                      "role": "Student",
                      "emailAddress": "CheriBDeluca@contoso.org",
                      "attendanceIntervals": [
                        {
                          "durationInSeconds": 10680,
                          "joinDateTime": "2022-1-20T9:0:00.00Z",
                          "leaveDateTime": "2022-1-20T11:58:00.00Z"
                        }
                      ],
                      "identity": {
                        "displayName": "Cheri Deluca",
                        "id": "ab58c97c-7460-48c7-924f-7a5859dc1409",
                        "tenantId": ""
                      }
                    },
                    {
                      "totalAttendanceInSeconds": 6900,
                      "role": "Student",
                      "emailAddress": "TanishaJEaton@contoso.org",
                      "attendanceIntervals": [
                        {
                          "durationInSeconds": 6900,
                          "joinDateTime": "2022-1-20T9:5:00.00Z",
                          "leaveDateTime": "2022-1-20T11:0:00.00Z"
                        }
                      ],
                      "identity": {
                        "displayName": "Tanisha Eaton",
                        "id": "02603f1a-1558-4072-ae81-9cea0fae4911",
                        "tenantId": ""
                      }
                    },
                    {
                      "totalAttendanceInSeconds": 10320,
                      "role": "Student",
                      "emailAddress": "JamesNNicholas@contoso.org",
                      "attendanceIntervals": [
                        {
                          "durationInSeconds": 10320,
                          "joinDateTime": "2022-1-20T9:2:00.00Z",
                          "leaveDateTime": "2022-1-20T11:54:00.00Z"
                        }
                      ],
                      "identity": {
                        "displayName": "James Nicholas",
                        "id": "1e909d12-5d9e-4f03-8484-6a193ea68bcb",
                        "tenantId": ""
                      }
                    },
                    {
                      "totalAttendanceInSeconds": 9900,
                      "role": "Student",
                      "emailAddress": "FrancesLMcDaniel@contoso.org",
                      "attendanceIntervals": [
                        {
                          "durationInSeconds": 9900,
                          "joinDateTime": "2022-1-20T9:2:00.00Z",
                          "leaveDateTime": "2022-1-20T11:47:00.00Z"
                        }
                      ],
                      "identity": {
                        "displayName": "Frances McDaniel",
                        "id": "ec9ccc19-f59f-40cb-a210-9c696630f626",
                        "tenantId": ""
                      }
                    },
                    {
                      "totalAttendanceInSeconds": 9720,
                      "role": "Student",
                      "emailAddress": "MariaJBrown@contoso.org",
                      "attendanceIntervals": [
                        {
                          "durationInSeconds": 9720,
                          "joinDateTime": "2022-1-20T9:2:00.00Z",
                          "leaveDateTime": "2022-1-20T11:44:00.00Z"
                        }
                      ],
                      "identity": {
                        "displayName": "Maria Brown",
                        "id": "176f3edc-31ba-4b0e-b8b4-7f0dfc1fe579",
                        "tenantId": ""
                      }
                    },
                    {
                      "totalAttendanceInSeconds": 10500,
                      "role": "Student",
                      "emailAddress": "RayCMoreno@contoso.org",
                      "attendanceIntervals": [
                        {
                          "durationInSeconds": 10500,
                          "joinDateTime": "2022-1-20T9:2:00.00Z",
                          "leaveDateTime": "2022-1-20T11:57:00.00Z"
                        }
                      ],
                      "identity": {
                        "displayName": "Ray Moreno",
                        "id": "160cb2a4-613b-4716-956e-98affccea0df",
                        "tenantId": ""
                      }
                    },
                    {
                      "totalAttendanceInSeconds": 10380,
                      "role": "Student",
                      "emailAddress": "GeoffreyPChapman@contoso.org",
                      "attendanceIntervals": [
                        {
                          "durationInSeconds": 10380,
                          "joinDateTime": "2022-1-20T9:5:00.00Z",
                          "leaveDateTime": "2022-1-20T11:58:00.00Z"
                        }
                      ],
                      "identity": {
                        "displayName": "Geoffrey Chapman",
                        "id": "4b2147e5-0751-44d1-b021-7a7cc86ff4a6",
                        "tenantId": ""
                      }
                    },
                    {
                      "totalAttendanceInSeconds": 9600,
                      "role": "Student",
                      "emailAddress": "BretAThomas@contoso.org",
                      "attendanceIntervals": [
                        {
                          "durationInSeconds": 9600,
                          "joinDateTime": "2022-1-20T9:1:00.00Z",
                          "leaveDateTime": "2022-1-20T11:41:00.00Z"
                        }
                      ],
                      "identity": {
                        "displayName": "Bret Thomas",
                        "id": "085924bc-df34-4528-9f18-679b86d2bd05",
                        "tenantId": ""
                      }
                    },
                    {
                      "totalAttendanceInSeconds": 10020,
                      "role": "Student",
                      "emailAddress": "NathanBGrover@contoso.org",
                      "attendanceIntervals": [
                        {
                          "durationInSeconds": 10020,
                          "joinDateTime": "2022-1-20T9:4:00.00Z",
                          "leaveDateTime": "2022-1-20T11:51:00.00Z"
                        }
                      ],
                      "identity": {
                        "displayName": "Nathan Grover",
                        "id": "815dccf4-e18d-4cad-9e3a-3c10b9725949",
                        "tenantId": ""
                      }
                    },
                    {
                      "totalAttendanceInSeconds": 9720,
                      "role": "Student",
                      "emailAddress": "JenniferNJones@contoso.org",
                      "attendanceIntervals": [
                        {
                          "durationInSeconds": 9720,
                          "joinDateTime": "2022-1-20T9:5:00.00Z",
                          "leaveDateTime": "2022-1-20T11:47:00.00Z"
                        }
                      ],
                      "identity": {
                        "displayName": "Jennifer Jones",
                        "id": "d8f78339-a850-426e-8e33-6eb36e6493c3",
                        "tenantId": ""
                      }
                    },
                    {
                      "totalAttendanceInSeconds": 9420,
                      "role": "Student",
                      "emailAddress": "JamesMAnderson@contoso.org",
                      "attendanceIntervals": [
                        {
                          "durationInSeconds": 9420,
                          "joinDateTime": "2022-1-20T9:4:00.00Z",
                          "leaveDateTime": "2022-1-20T11:41:00.00Z"
                        }
                      ],
                      "identity": {
                        "displayName": "James Anderson",
                        "id": "b34b5d40-189e-4558-9545-9cdd9e86b397",
                        "tenantId": ""
                      }
                    },
                    {
                      "totalAttendanceInSeconds": 9600,
                      "role": "Student",
                      "emailAddress": "KennyMLair@contoso.org",
                      "attendanceIntervals": [
                        {
                          "durationInSeconds": 9600,
                          "joinDateTime": "2022-1-20T9:3:00.00Z",
                          "leaveDateTime": "2022-1-20T11:43:00.00Z"
                        }
                      ],
                      "identity": {
                        "displayName": "Kenny Lair",
                        "id": "8a29f408-accf-4fa9-a2aa-e95f5bc08932",
                        "tenantId": ""
                      }
                    },
                    {
                      "totalAttendanceInSeconds": 9420,
                      "role": "Student",
                      "emailAddress": "RobertGWashington@contoso.org",
                      "attendanceIntervals": [
                        {
                          "durationInSeconds": 9420,
                          "joinDateTime": "2022-1-20T9:4:00.00Z",
                          "leaveDateTime": "2022-1-20T11:41:00.00Z"
                        }
                      ],
                      "identity": {
                        "displayName": "Robert Washington",
                        "id": "6abfffeb-9961-4795-9e8e-49d2a0f646b9",
                        "tenantId": ""
                      }
                    },
                    {
                      "totalAttendanceInSeconds": 9540,
                      "role": "Student",
                      "emailAddress": "MabelNDuarte@contoso.org",
                      "attendanceIntervals": [
                        {
                          "durationInSeconds": 9540,
                          "joinDateTime": "2022-1-20T9:1:00.00Z",
                          "leaveDateTime": "2022-1-20T11:40:00.00Z"
                        }
                      ],
                      "identity": {
                        "displayName": "Mabel Duarte",
                        "id": "30c78fa8-1393-418e-87c4-9427ca2ec2ad",
                        "tenantId": ""
                      }
                    },
                    {
                      "totalAttendanceInSeconds": 10380,
                      "role": "Student",
                      "emailAddress": "JacobNSmart@contoso.org",
                      "attendanceIntervals": [
                        {
                          "durationInSeconds": 10380,
                          "joinDateTime": "2022-1-20T9:0:00.00Z",
                          "leaveDateTime": "2022-1-20T11:53:00.00Z"
                        }
                      ],
                      "identity": {
                        "displayName": "Jacob Smart",
                        "id": "0b9909b7-edcd-4006-a22f-c647b4237ea5",
                        "tenantId": ""
                      }
                    },
                    {
                      "totalAttendanceInSeconds": 6900,
                      "role": "Student",
                      "emailAddress": "DallasFRoberts@contoso.org",
                      "attendanceIntervals": [
                        {
                          "durationInSeconds": 6900,
                          "joinDateTime": "2022-1-20T9:5:00.00Z",
                          "leaveDateTime": "2022-1-20T11:0:00.00Z"
                        }
                      ],
                      "identity": {
                        "displayName": "Dallas Roberts",
                        "id": "c0874fd1-1512-4075-99e5-3a18274f9d4a",
                        "tenantId": ""
                      }
                    },
                    {
                      "totalAttendanceInSeconds": 9720,
                      "role": "Student",
                      "emailAddress": "HeatherFSmith@contoso.org",
                      "attendanceIntervals": [
                        {
                          "durationInSeconds": 9720,
                          "joinDateTime": "2022-1-20T9:1:00.00Z",
                          "leaveDateTime": "2022-1-20T11:43:00.00Z"
                        }
                      ],
                      "identity": {
                        "displayName": "Heather Smith",
                        "id": "651e8651-037c-49b5-940d-079d0d0b3130",
                        "tenantId": ""
                      }
                    },
                    {
                      "totalAttendanceInSeconds": 10320,
                      "role": "Student",
                      "emailAddress": "AlliePMcGlothlin@contoso.org",
                      "attendanceIntervals": [
                        {
                          "durationInSeconds": 10320,
                          "joinDateTime": "2022-1-20T9:2:00.00Z",
                          "leaveDateTime": "2022-1-20T11:54:00.00Z"
                        }
                      ],
                      "identity": {
                        "displayName": "Allie McGlothlin",
                        "id": "b1f351a8-e041-4835-ad42-933eab79d543",
                        "tenantId": ""
                      }
                    },
                    {
                      "totalAttendanceInSeconds": 10080,
                      "role": "Student",
                      "emailAddress": "ShirlyRWilliams@contoso.org",
                      "attendanceIntervals": [
                        {
                          "durationInSeconds": 10080,
                          "joinDateTime": "2022-1-20T9:2:00.00Z",
                          "leaveDateTime": "2022-1-20T11:50:00.00Z"
                        }
                      ],
                      "identity": {
                        "displayName": "Shirly Williams",
                        "id": "7b88e62e-04a3-4c7b-975a-f34ca4915688",
                        "tenantId": ""
                      }
                    },
                    {
                      "totalAttendanceInSeconds": 9900,
                      "role": "Student",
                      "emailAddress": "WendyJJones@contoso.org",
                      "attendanceIntervals": [
                        {
                          "durationInSeconds": 9900,
                          "joinDateTime": "2022-1-20T9:1:00.00Z",
                          "leaveDateTime": "2022-1-20T11:46:00.00Z"
                        }
                      ],
                      "identity": {
                        "displayName": "Wendy Jones",
                        "id": "cfeb0941-d0e2-482d-a8fc-3196424efe51",
                        "tenantId": ""
                      }
                    },
                    {
                      "totalAttendanceInSeconds": 6960,
                      "role": "Student",
                      "emailAddress": "ElsieWWagner@contoso.org",
                      "attendanceIntervals": [
                        {
                          "durationInSeconds": 6960,
                          "joinDateTime": "2022-1-20T9:4:00.00Z",
                          "leaveDateTime": "2022-1-20T11:0:00.00Z"
                        }
                      ],
                      "identity": {
                        "displayName": "Elsie Wagner",
                        "id": "da698590-d491-4cf9-ad77-35116e875cfd",
                        "tenantId": ""
                      }
                    },
                    {
                      "totalAttendanceInSeconds": 10320,
                      "role": "Student",
                      "emailAddress": "KirkSFeliciano@contoso.org",
                      "attendanceIntervals": [
                        {
                          "durationInSeconds": 10320,
                          "joinDateTime": "2022-1-20T9:5:00.00Z",
                          "leaveDateTime": "2022-1-20T11:57:00.00Z"
                        }
                      ],
                      "identity": {
                        "displayName": "Kirk Feliciano",
                        "id": "9c0f7f1f-f86d-40f2-a840-7ac3bf13b070",
                        "tenantId": ""
                      }
                    },
                    {
                      "totalAttendanceInSeconds": 9600,
                      "role": "Student",
                      "emailAddress": "WilburBIngram@contoso.org",
                      "attendanceIntervals": [
                        {
                          "durationInSeconds": 9600,
                          "joinDateTime": "2022-1-20T9:5:00.00Z",
                          "leaveDateTime": "2022-1-20T11:45:00.00Z"
                        }
                      ],
                      "identity": {
                        "displayName": "Wilbur Ingram",
                        "id": "6f4ab288-aded-44ad-8bfe-702ab915f7f3",
                        "tenantId": ""
                      }
                    },
                    {
                      "totalAttendanceInSeconds": 10200,
                      "role": "Student",
                      "emailAddress": "RonaldTBowman@contoso.org",
                      "attendanceIntervals": [
                        {
                          "durationInSeconds": 10200,
                          "joinDateTime": "2022-1-20T9:3:00.00Z",
                          "leaveDateTime": "2022-1-20T11:53:00.00Z"
                        }
                      ],
                      "identity": {
                        "displayName": "Ronald Bowman",
                        "id": "1dacc749-4016-4bc0-811e-db5286386d33",
                        "tenantId": ""
                      }
                    },
                    {
                      "totalAttendanceInSeconds": 9600,
                      "role": "Student",
                      "emailAddress": "WilliamMBlackburn@contoso.org",
                      "attendanceIntervals": [
                        {
                          "durationInSeconds": 9600,
                          "joinDateTime": "2022-1-20T9:3:00.00Z",
                          "leaveDateTime": "2022-1-20T11:43:00.00Z"
                        }
                      ],
                      "identity": {
                        "displayName": "William Blackburn",
                        "id": "65cdb379-46fb-4350-90d6-4e6a18291d2d",
                        "tenantId": ""
                      }
                    },
                    {
                      "totalAttendanceInSeconds": 10560,
                      "role": "Student",
                      "emailAddress": "HazelKJones@contoso.org",
                      "attendanceIntervals": [
                        {
                          "durationInSeconds": 10560,
                          "joinDateTime": "2022-1-20T9:0:00.00Z",
                          "leaveDateTime": "2022-1-20T11:56:00.00Z"
                        }
                      ],
                      "identity": {
                        "displayName": "Hazel Jones",
                        "id": "2810f2ae-77db-4e0a-977b-d0376fd12222",
                        "tenantId": ""
                      }
                    },
                    {
                      "totalAttendanceInSeconds": 10140,
                      "role": "Student",
                      "emailAddress": "JeanPBloodworth@contoso.org",
                      "attendanceIntervals": [
                        {
                          "durationInSeconds": 10140,
                          "joinDateTime": "2022-1-20T9:0:00.00Z",
                          "leaveDateTime": "2022-1-20T11:49:00.00Z"
                        }
                      ],
                      "identity": {
                        "displayName": "Jean Bloodworth",
                        "id": "ea363d72-27ad-4fec-9c36-9107b6aa22bf",
                        "tenantId": ""
                      }
                    },
                    {
                      "totalAttendanceInSeconds": 10620,
                      "role": "Student",
                      "emailAddress": "DanielMMartinez@contoso.org",
                      "attendanceIntervals": [
                        {
                          "durationInSeconds": 10620,
                          "joinDateTime": "2022-1-20T9:0:00.00Z",
                          "leaveDateTime": "2022-1-20T11:57:00.00Z"
                        }
                      ],
                      "identity": {
                        "displayName": "Daniel Martinez",
                        "id": "9e77b486-89b7-4344-adcf-9bf0c742e6f4",
                        "tenantId": ""
                      }
                    }
                  ]
                },
                {
                  "0": "1621c330-d463-41c6-85b7-e5928b8dfa6e",
                  "1": "58",
                  "2": "2022-1-5T9:0:00.00Z",
                  "3": "2022-1-5T10:15:00.00Z",
                  "4": [
                    {
                      "totalAttendanceInSeconds": 4380,
                      "role": "Student",
                      "emailAddress": "JohnMYamamoto@contoso.org",
                      "attendanceIntervals": [
                        {
                          "durationInSeconds": 4380,
                          "joinDateTime": "2022-1-5T9:1:00.00Z",
                          "leaveDateTime": "2022-1-5T10:14:00.00Z"
                        }
                      ],
                      "identity": {
                        "displayName": "John Yamamoto",
                        "id": "f3c50ff5-43f2-405b-8fc7-b6588009fbbe",
                        "tenantId": ""
                      }
                    },
                    {
                      "totalAttendanceInSeconds": 3480,
                      "role": "Student",
                      "emailAddress": "GeorgePStice@contoso.org",
                      "attendanceIntervals": [
                        {
                          "durationInSeconds": 3480,
                          "joinDateTime": "2022-1-5T9:3:00.00Z",
                          "leaveDateTime": "2022-1-5T10:1:00.00Z"
                        }
                      ],
                      "identity": {
                        "displayName": "George Stice",
                        "id": "668b3d39-9c10-4acc-a571-600ff9029bd3",
                        "tenantId": ""
                      }
                    },
                    {
                      "totalAttendanceInSeconds": 3840,
                      "role": "Student",
                      "emailAddress": "JimKWhite@contoso.org",
                      "attendanceIntervals": [
                        {
                          "durationInSeconds": 3840,
                          "joinDateTime": "2022-1-5T9:0:00.00Z",
                          "leaveDateTime": "2022-1-5T10:4:00.00Z"
                        }
                      ],
                      "identity": {
                        "displayName": "Jim White",
                        "id": "6cfeff48-4343-4648-92ad-d21e3b4b7d12",
                        "tenantId": ""
                      }
                    },
                    {
                      "totalAttendanceInSeconds": 6840,
                      "role": "Student",
                      "emailAddress": "WilliamBHumphrey@contoso.org",
                      "attendanceIntervals": [
                        {
                          "durationInSeconds": 6840,
                          "joinDateTime": "2022-1-5T9:3:00.00Z",
                          "leaveDateTime": "2022-1-5T10:57:00.00Z"
                        }
                      ],
                      "identity": {
                        "displayName": "William Humphrey",
                        "id": "7447d717-65a3-424e-879c-49575f49b9aa",
                        "tenantId": ""
                      }
                    },
                    {
                      "totalAttendanceInSeconds": 3840,
                      "role": "Student",
                      "emailAddress": "RyanNRitchie@contoso.org",
                      "attendanceIntervals": [
                        {
                          "durationInSeconds": 3840,
                          "joinDateTime": "2022-1-5T9:1:00.00Z",
                          "leaveDateTime": "2022-1-5T10:5:00.00Z"
                        }
                      ],
                      "identity": {
                        "displayName": "Ryan Ritchie",
                        "id": "907b0838-48d2-4c50-ae9f-a0c8c4724fa7",
                        "tenantId": ""
                      }
                    },
                    {
                      "totalAttendanceInSeconds": 3720,
                      "role": "Student",
                      "emailAddress": "InezCIsbell@contoso.org",
                      "attendanceIntervals": [
                        {
                          "durationInSeconds": 3720,
                          "joinDateTime": "2022-1-5T9:5:00.00Z",
                          "leaveDateTime": "2022-1-5T10:7:00.00Z"
                        }
                      ],
                      "identity": {
                        "displayName": "Inez Isbell",
                        "id": "b87db641-9abc-4a89-ab92-bc1bc99ada2e",
                        "tenantId": ""
                      }
                    },
                    {
                      "totalAttendanceInSeconds": 3660,
                      "role": "Student",
                      "emailAddress": "CarolRSmith@contoso.org",
                      "attendanceIntervals": [
                        {
                          "durationInSeconds": 3660,
                          "joinDateTime": "2022-1-5T9:2:00.00Z",
                          "leaveDateTime": "2022-1-5T10:3:00.00Z"
                        }
                      ],
                      "identity": {
                        "displayName": "Carol Smith",
                        "id": "28d5987f-0363-4500-a2a6-568f9e5fb3fd",
                        "tenantId": ""
                      }
                    },
                    {
                      "totalAttendanceInSeconds": 6900,
                      "role": "Student",
                      "emailAddress": "StephanieLNokes@contoso.org",
                      "attendanceIntervals": [
                        {
                          "durationInSeconds": 6900,
                          "joinDateTime": "2022-1-5T9:3:00.00Z",
                          "leaveDateTime": "2022-1-5T10:58:00.00Z"
                        }
                      ],
                      "identity": {
                        "displayName": "Stephanie Nokes",
                        "id": "7793701b-a628-42dc-ae67-63ad7273a803",
                        "tenantId": ""
                      }
                    },
                    {
                      "totalAttendanceInSeconds": 6720,
                      "role": "Student",
                      "emailAddress": "LucilleCFirth@contoso.org",
                      "attendanceIntervals": [
                        {
                          "durationInSeconds": 6720,
                          "joinDateTime": "2022-1-5T9:5:00.00Z",
                          "leaveDateTime": "2022-1-5T10:57:00.00Z"
                        }
                      ],
                      "identity": {
                        "displayName": "Lucille Firth",
                        "id": "b416314a-3ce4-4522-99d8-b98e84de22c7",
                        "tenantId": ""
                      }
                    },
                    {
                      "totalAttendanceInSeconds": 4140,
                      "role": "Student",
                      "emailAddress": "GaryTKellner@contoso.org",
                      "attendanceIntervals": [
                        {
                          "durationInSeconds": 4140,
                          "joinDateTime": "2022-1-5T9:3:00.00Z",
                          "leaveDateTime": "2022-1-5T10:12:00.00Z"
                        }
                      ],
                      "identity": {
                        "displayName": "Gary Kellner",
                        "id": "5d0761ff-0833-4b01-a449-c24e331c64dd",
                        "tenantId": ""
                      }
                    },
                    {
                      "totalAttendanceInSeconds": 3660,
                      "role": "Student",
                      "emailAddress": "JasonLAvila@contoso.org",
                      "attendanceIntervals": [
                        {
                          "durationInSeconds": 3660,
                          "joinDateTime": "2022-1-5T9:5:00.00Z",
                          "leaveDateTime": "2022-1-5T10:6:00.00Z"
                        }
                      ],
                      "identity": {
                        "displayName": "Jason Avila",
                        "id": "4028d23c-ce7c-4fdc-8bb6-18a85c2a09ec",
                        "tenantId": ""
                      }
                    },
                    {
                      "totalAttendanceInSeconds": 4380,
                      "role": "Student",
                      "emailAddress": "StephanieJHayward@contoso.org",
                      "attendanceIntervals": [
                        {
                          "durationInSeconds": 4380,
                          "joinDateTime": "2022-1-5T9:1:00.00Z",
                          "leaveDateTime": "2022-1-5T10:14:00.00Z"
                        }
                      ],
                      "identity": {
                        "displayName": "Stephanie Hayward",
                        "id": "59237a7a-4419-4082-8704-da3436976ad2",
                        "tenantId": ""
                      }
                    },
                    {
                      "totalAttendanceInSeconds": 3900,
                      "role": "Student",
                      "emailAddress": "BethLBarker@contoso.org",
                      "attendanceIntervals": [
                        {
                          "durationInSeconds": 3900,
                          "joinDateTime": "2022-1-5T9:1:00.00Z",
                          "leaveDateTime": "2022-1-5T10:6:00.00Z"
                        }
                      ],
                      "identity": {
                        "displayName": "Beth Barker",
                        "id": "560635b6-42ea-432c-b7e2-891e6f86dd3d",
                        "tenantId": ""
                      }
                    },
                    {
                      "totalAttendanceInSeconds": 6780,
                      "role": "Student",
                      "emailAddress": "TheodoreANewberry@contoso.org",
                      "attendanceIntervals": [
                        {
                          "durationInSeconds": 6780,
                          "joinDateTime": "2022-1-5T9:5:00.00Z",
                          "leaveDateTime": "2022-1-5T10:58:00.00Z"
                        }
                      ],
                      "identity": {
                        "displayName": "Theodore Newberry",
                        "id": "ab1ca0e1-7684-40f8-8984-b3a406edd0b8",
                        "tenantId": ""
                      }
                    },
                    {
                      "totalAttendanceInSeconds": 3840,
                      "role": "Student",
                      "emailAddress": "GarySSell@contoso.org",
                      "attendanceIntervals": [
                        {
                          "durationInSeconds": 3840,
                          "joinDateTime": "2022-1-5T9:5:00.00Z",
                          "leaveDateTime": "2022-1-5T10:9:00.00Z"
                        }
                      ],
                      "identity": {
                        "displayName": "Gary Sell",
                        "id": "7451c94d-2543-428e-8c4f-72b7ac58f3f9",
                        "tenantId": ""
                      }
                    },
                    {
                      "totalAttendanceInSeconds": 3840,
                      "role": "Student",
                      "emailAddress": "AllisonTErdman@contoso.org",
                      "attendanceIntervals": [
                        {
                          "durationInSeconds": 3840,
                          "joinDateTime": "2022-1-5T9:1:00.00Z",
                          "leaveDateTime": "2022-1-5T10:5:00.00Z"
                        }
                      ],
                      "identity": {
                        "displayName": "Allison Erdman",
                        "id": "966ed08a-fc99-4885-85b9-22762d56c0ea",
                        "tenantId": ""
                      }
                    },
                    {
                      "totalAttendanceInSeconds": 4260,
                      "role": "Student",
                      "emailAddress": "PeterRAmos@contoso.org",
                      "attendanceIntervals": [
                        {
                          "durationInSeconds": 4260,
                          "joinDateTime": "2022-1-5T9:1:00.00Z",
                          "leaveDateTime": "2022-1-5T10:12:00.00Z"
                        }
                      ],
                      "identity": {
                        "displayName": "Peter Amos",
                        "id": "02f57f1c-ad50-42bf-8d8c-5224f5bfcd88",
                        "tenantId": ""
                      }
                    },
                    {
                      "totalAttendanceInSeconds": 6840,
                      "role": "Student",
                      "emailAddress": "LouisACaver@contoso.org",
                      "attendanceIntervals": [
                        {
                          "durationInSeconds": 6840,
                          "joinDateTime": "2022-1-5T9:3:00.00Z",
                          "leaveDateTime": "2022-1-5T10:57:00.00Z"
                        }
                      ],
                      "identity": {
                        "displayName": "Louis Caver",
                        "id": "23e9ffdc-6aa3-4972-b0c6-f3f2c6ddd151",
                        "tenantId": ""
                      }
                    },
                    {
                      "totalAttendanceInSeconds": 3660,
                      "role": "Student",
                      "emailAddress": "FelixJBenton@contoso.org",
                      "attendanceIntervals": [
                        {
                          "durationInSeconds": 3660,
                          "joinDateTime": "2022-1-5T9:1:00.00Z",
                          "leaveDateTime": "2022-1-5T10:2:00.00Z"
                        }
                      ],
                      "identity": {
                        "displayName": "Felix Benton",
                        "id": "0c707f16-b101-402b-b571-8afdb5669f41",
                        "tenantId": ""
                      }
                    },
                    {
                      "totalAttendanceInSeconds": 4020,
                      "role": "Student",
                      "emailAddress": "LaurenCRicci@contoso.org",
                      "attendanceIntervals": [
                        {
                          "durationInSeconds": 4020,
                          "joinDateTime": "2022-1-5T9:1:00.00Z",
                          "leaveDateTime": "2022-1-5T10:8:00.00Z"
                        }
                      ],
                      "identity": {
                        "displayName": "Lauren Ricci",
                        "id": "38bdf37d-a239-4183-8eba-576a71fe4a88",
                        "tenantId": ""
                      }
                    },
                    {
                      "totalAttendanceInSeconds": 4200,
                      "role": "Student",
                      "emailAddress": "SarahJDaly@contoso.org",
                      "attendanceIntervals": [
                        {
                          "durationInSeconds": 4200,
                          "joinDateTime": "2022-1-5T9:3:00.00Z",
                          "leaveDateTime": "2022-1-5T10:13:00.00Z"
                        }
                      ],
                      "identity": {
                        "displayName": "Sarah Daly",
                        "id": "86c1bcc8-37df-4064-8adf-0cf26591fdd3",
                        "tenantId": ""
                      }
                    },
                    {
                      "totalAttendanceInSeconds": 3660,
                      "role": "Student",
                      "emailAddress": "AshantiJMaldonado@contoso.org",
                      "attendanceIntervals": [
                        {
                          "durationInSeconds": 3660,
                          "joinDateTime": "2022-1-5T9:1:00.00Z",
                          "leaveDateTime": "2022-1-5T10:2:00.00Z"
                        }
                      ],
                      "identity": {
                        "displayName": "Ashanti Maldonado",
                        "id": "9569742c-7c31-46fe-a5b4-221992a1f092",
                        "tenantId": ""
                      }
                    },
                    {
                      "totalAttendanceInSeconds": 6720,
                      "role": "Student",
                      "emailAddress": "JenniferJAnsley@contoso.org",
                      "attendanceIntervals": [
                        {
                          "durationInSeconds": 6720,
                          "joinDateTime": "2022-1-5T9:3:00.00Z",
                          "leaveDateTime": "2022-1-5T10:55:00.00Z"
                        }
                      ],
                      "identity": {
                        "displayName": "Jennifer Ansley",
                        "id": "e0bf662a-d905-42d7-8081-b3144a2bcc0d",
                        "tenantId": ""
                      }
                    },
                    {
                      "totalAttendanceInSeconds": 3720,
                      "role": "Student",
                      "emailAddress": "KathleenCCassano@contoso.org",
                      "attendanceIntervals": [
                        {
                          "durationInSeconds": 3720,
                          "joinDateTime": "2022-1-5T9:4:00.00Z",
                          "leaveDateTime": "2022-1-5T10:6:00.00Z"
                        }
                      ],
                      "identity": {
                        "displayName": "Kathleen Cassano",
                        "id": "9cc5fd15-c5f7-4baa-8ebe-b048b8a7adad",
                        "tenantId": ""
                      }
                    },
                    {
                      "totalAttendanceInSeconds": 3660,
                      "role": "Student",
                      "emailAddress": "CheriBDeluca@contoso.org",
                      "attendanceIntervals": [
                        {
                          "durationInSeconds": 3660,
                          "joinDateTime": "2022-1-5T9:1:00.00Z",
                          "leaveDateTime": "2022-1-5T10:2:00.00Z"
                        }
                      ],
                      "identity": {
                        "displayName": "Cheri Deluca",
                        "id": "ab58c97c-7460-48c7-924f-7a5859dc1409",
                        "tenantId": ""
                      }
                    },
                    {
                      "totalAttendanceInSeconds": 3540,
                      "role": "Student",
                      "emailAddress": "TanishaJEaton@contoso.org",
                      "attendanceIntervals": [
                        {
                          "durationInSeconds": 3540,
                          "joinDateTime": "2022-1-5T9:3:00.00Z",
                          "leaveDateTime": "2022-1-5T10:2:00.00Z"
                        }
                      ],
                      "identity": {
                        "displayName": "Tanisha Eaton",
                        "id": "02603f1a-1558-4072-ae81-9cea0fae4911",
                        "tenantId": ""
                      }
                    },
                    {
                      "totalAttendanceInSeconds": 3600,
                      "role": "Student",
                      "emailAddress": "MarileeEVirgil@contoso.org",
                      "attendanceIntervals": [
                        {
                          "durationInSeconds": 3600,
                          "joinDateTime": "2022-1-5T9:0:00.00Z",
                          "leaveDateTime": "2022-1-5T10:0:00.00Z"
                        }
                      ],
                      "identity": {
                        "displayName": "Marilee Virgil",
                        "id": "a336fc65-85ee-4d3d-945e-bb8084b7c841",
                        "tenantId": ""
                      }
                    },
                    {
                      "totalAttendanceInSeconds": 3780,
                      "role": "Student",
                      "emailAddress": "MaryFMartindale@contoso.org",
                      "attendanceIntervals": [
                        {
                          "durationInSeconds": 3780,
                          "joinDateTime": "2022-1-5T9:5:00.00Z",
                          "leaveDateTime": "2022-1-5T10:8:00.00Z"
                        }
                      ],
                      "identity": {
                        "displayName": "Mary Martindale",
                        "id": "a71f7656-3dff-40cc-9ee0-a45c82df9c42",
                        "tenantId": ""
                      }
                    },
                    {
                      "totalAttendanceInSeconds": 3780,
                      "role": "Student",
                      "emailAddress": "JamesNNicholas@contoso.org",
                      "attendanceIntervals": [
                        {
                          "durationInSeconds": 3780,
                          "joinDateTime": "2022-1-5T9:4:00.00Z",
                          "leaveDateTime": "2022-1-5T10:7:00.00Z"
                        }
                      ],
                      "identity": {
                        "displayName": "James Nicholas",
                        "id": "1e909d12-5d9e-4f03-8484-6a193ea68bcb",
                        "tenantId": ""
                      }
                    },
                    {
                      "totalAttendanceInSeconds": 3660,
                      "role": "Student",
                      "emailAddress": "RayCMoreno@contoso.org",
                      "attendanceIntervals": [
                        {
                          "durationInSeconds": 3660,
                          "joinDateTime": "2022-1-5T9:1:00.00Z",
                          "leaveDateTime": "2022-1-5T10:2:00.00Z"
                        }
                      ],
                      "identity": {
                        "displayName": "Ray Moreno",
                        "id": "160cb2a4-613b-4716-956e-98affccea0df",
                        "tenantId": ""
                      }
                    },
                    {
                      "totalAttendanceInSeconds": 3540,
                      "role": "Student",
                      "emailAddress": "NathanBGrover@contoso.org",
                      "attendanceIntervals": [
                        {
                          "durationInSeconds": 3540,
                          "joinDateTime": "2022-1-5T9:4:00.00Z",
                          "leaveDateTime": "2022-1-5T10:3:00.00Z"
                        }
                      ],
                      "identity": {
                        "displayName": "Nathan Grover",
                        "id": "815dccf4-e18d-4cad-9e3a-3c10b9725949",
                        "tenantId": ""
                      }
                    },
                    {
                      "totalAttendanceInSeconds": 6780,
                      "role": "Student",
                      "emailAddress": "MichaelAMansfield@contoso.org",
                      "attendanceIntervals": [
                        {
                          "durationInSeconds": 6780,
                          "joinDateTime": "2022-1-5T9:2:00.00Z",
                          "leaveDateTime": "2022-1-5T10:55:00.00Z"
                        }
                      ],
                      "identity": {
                        "displayName": "Michael Mansfield",
                        "id": "6b47c601-6c57-49ce-a5e3-d70cf6aa3868",
                        "tenantId": ""
                      }
                    },
                    {
                      "totalAttendanceInSeconds": 3360,
                      "role": "Student",
                      "emailAddress": "MauriceSVera@contoso.org",
                      "attendanceIntervals": [
                        {
                          "durationInSeconds": 3360,
                          "joinDateTime": "2022-1-5T9:4:00.00Z",
                          "leaveDateTime": "2022-1-5T10:0:00.00Z"
                        }
                      ],
                      "identity": {
                        "displayName": "Maurice Vera",
                        "id": "2d3f7e01-e3b4-49af-aad1-ef16b91dc2a3",
                        "tenantId": ""
                      }
                    },
                    {
                      "totalAttendanceInSeconds": 7020,
                      "role": "Student",
                      "emailAddress": "JenniferNJones@contoso.org",
                      "attendanceIntervals": [
                        {
                          "durationInSeconds": 7020,
                          "joinDateTime": "2022-1-5T9:1:00.00Z",
                          "leaveDateTime": "2022-1-5T10:58:00.00Z"
                        }
                      ],
                      "identity": {
                        "displayName": "Jennifer Jones",
                        "id": "d8f78339-a850-426e-8e33-6eb36e6493c3",
                        "tenantId": ""
                      }
                    },
                    {
                      "totalAttendanceInSeconds": 4380,
                      "role": "Student",
                      "emailAddress": "JamesMAnderson@contoso.org",
                      "attendanceIntervals": [
                        {
                          "durationInSeconds": 4380,
                          "joinDateTime": "2022-1-5T9:0:00.00Z",
                          "leaveDateTime": "2022-1-5T10:13:00.00Z"
                        }
                      ],
                      "identity": {
                        "displayName": "James Anderson",
                        "id": "b34b5d40-189e-4558-9545-9cdd9e86b397",
                        "tenantId": ""
                      }
                    },
                    {
                      "totalAttendanceInSeconds": 4260,
                      "role": "Student",
                      "emailAddress": "KennyMLair@contoso.org",
                      "attendanceIntervals": [
                        {
                          "durationInSeconds": 4260,
                          "joinDateTime": "2022-1-5T9:3:00.00Z",
                          "leaveDateTime": "2022-1-5T10:14:00.00Z"
                        }
                      ],
                      "identity": {
                        "displayName": "Kenny Lair",
                        "id": "8a29f408-accf-4fa9-a2aa-e95f5bc08932",
                        "tenantId": ""
                      }
                    },
                    {
                      "totalAttendanceInSeconds": 7080,
                      "role": "Student",
                      "emailAddress": "BelindaRTorres@contoso.org",
                      "attendanceIntervals": [
                        {
                          "durationInSeconds": 7080,
                          "joinDateTime": "2022-1-5T9:0:00.00Z",
                          "leaveDateTime": "2022-1-5T10:58:00.00Z"
                        }
                      ],
                      "identity": {
                        "displayName": "Belinda Torres",
                        "id": "78eb25f5-eda7-47cc-b3a3-3ff8f9aea761",
                        "tenantId": ""
                      }
                    },
                    {
                      "totalAttendanceInSeconds": 4140,
                      "role": "Student",
                      "emailAddress": "MabelNDuarte@contoso.org",
                      "attendanceIntervals": [
                        {
                          "durationInSeconds": 4140,
                          "joinDateTime": "2022-1-5T9:1:00.00Z",
                          "leaveDateTime": "2022-1-5T10:10:00.00Z"
                        }
                      ],
                      "identity": {
                        "displayName": "Mabel Duarte",
                        "id": "30c78fa8-1393-418e-87c4-9427ca2ec2ad",
                        "tenantId": ""
                      }
                    },
                    {
                      "totalAttendanceInSeconds": 4200,
                      "role": "Student",
                      "emailAddress": "MichelleETalbott@contoso.org",
                      "attendanceIntervals": [
                        {
                          "durationInSeconds": 4200,
                          "joinDateTime": "2022-1-5T9:1:00.00Z",
                          "leaveDateTime": "2022-1-5T10:11:00.00Z"
                        }
                      ],
                      "identity": {
                        "displayName": "Michelle Talbott",
                        "id": "7b04910d-7556-4a5d-a898-7aa750520bf8",
                        "tenantId": ""
                      }
                    },
                    {
                      "totalAttendanceInSeconds": 3600,
                      "role": "Student",
                      "emailAddress": "ToddMLeclair@contoso.org",
                      "attendanceIntervals": [
                        {
                          "durationInSeconds": 3600,
                          "joinDateTime": "2022-1-5T9:3:00.00Z",
                          "leaveDateTime": "2022-1-5T10:3:00.00Z"
                        }
                      ],
                      "identity": {
                        "displayName": "Todd Leclair",
                        "id": "a3ef1676-3227-4c78-b3fb-049bdf04ac0a",
                        "tenantId": ""
                      }
                    },
                    {
                      "totalAttendanceInSeconds": 6960,
                      "role": "Student",
                      "emailAddress": "HeatherFSmith@contoso.org",
                      "attendanceIntervals": [
                        {
                          "durationInSeconds": 6960,
                          "joinDateTime": "2022-1-5T9:1:00.00Z",
                          "leaveDateTime": "2022-1-5T10:57:00.00Z"
                        }
                      ],
                      "identity": {
                        "displayName": "Heather Smith",
                        "id": "651e8651-037c-49b5-940d-079d0d0b3130",
                        "tenantId": ""
                      }
                    },
                    {
                      "totalAttendanceInSeconds": 3480,
                      "role": "Student",
                      "emailAddress": "HelenDArnold@contoso.org",
                      "attendanceIntervals": [
                        {
                          "durationInSeconds": 3480,
                          "joinDateTime": "2022-1-5T9:3:00.00Z",
                          "leaveDateTime": "2022-1-5T10:1:00.00Z"
                        }
                      ],
                      "identity": {
                        "displayName": "Helen Arnold",
                        "id": "d6c8f44c-91e1-4f58-a916-f635d08c93eb",
                        "tenantId": ""
                      }
                    },
                    {
                      "totalAttendanceInSeconds": 3900,
                      "role": "Student",
                      "emailAddress": "RonnieABoyd@contoso.org",
                      "attendanceIntervals": [
                        {
                          "durationInSeconds": 3900,
                          "joinDateTime": "2022-1-5T9:0:00.00Z",
                          "leaveDateTime": "2022-1-5T10:5:00.00Z"
                        }
                      ],
                      "identity": {
                        "displayName": "Ronnie Boyd",
                        "id": "ef39ea62-b739-4bc3-963e-d82089467902",
                        "tenantId": ""
                      }
                    },
                    {
                      "totalAttendanceInSeconds": 3600,
                      "role": "Student",
                      "emailAddress": "AlliePMcGlothlin@contoso.org",
                      "attendanceIntervals": [
                        {
                          "durationInSeconds": 3600,
                          "joinDateTime": "2022-1-5T9:3:00.00Z",
                          "leaveDateTime": "2022-1-5T10:3:00.00Z"
                        }
                      ],
                      "identity": {
                        "displayName": "Allie McGlothlin",
                        "id": "b1f351a8-e041-4835-ad42-933eab79d543",
                        "tenantId": ""
                      }
                    },
                    {
                      "totalAttendanceInSeconds": 3780,
                      "role": "Student",
                      "emailAddress": "AngelaEJameson@contoso.org",
                      "attendanceIntervals": [
                        {
                          "durationInSeconds": 3780,
                          "joinDateTime": "2022-1-5T9:3:00.00Z",
                          "leaveDateTime": "2022-1-5T10:6:00.00Z"
                        }
                      ],
                      "identity": {
                        "displayName": "Angela Jameson",
                        "id": "79e5c3c6-eee9-4e9c-8654-f17dce00333e",
                        "tenantId": ""
                      }
                    },
                    {
                      "totalAttendanceInSeconds": 4500,
                      "role": "Student",
                      "emailAddress": "GarryKHart@contoso.org",
                      "attendanceIntervals": [
                        {
                          "durationInSeconds": 4500,
                          "joinDateTime": "2022-1-5T9:0:00.00Z",
                          "leaveDateTime": "2022-1-5T10:15:00.00Z"
                        }
                      ],
                      "identity": {
                        "displayName": "Garry Hart",
                        "id": "0c178ac8-88b4-4bea-88df-954bc14c1fd9",
                        "tenantId": ""
                      }
                    },
                    {
                      "totalAttendanceInSeconds": 3660,
                      "role": "Student",
                      "emailAddress": "ElsieWWagner@contoso.org",
                      "attendanceIntervals": [
                        {
                          "durationInSeconds": 3660,
                          "joinDateTime": "2022-1-5T9:5:00.00Z",
                          "leaveDateTime": "2022-1-5T10:6:00.00Z"
                        }
                      ],
                      "identity": {
                        "displayName": "Elsie Wagner",
                        "id": "da698590-d491-4cf9-ad77-35116e875cfd",
                        "tenantId": ""
                      }
                    },
                    {
                      "totalAttendanceInSeconds": 4080,
                      "role": "Student",
                      "emailAddress": "KirkSFeliciano@contoso.org",
                      "attendanceIntervals": [
                        {
                          "durationInSeconds": 4080,
                          "joinDateTime": "2022-1-5T9:3:00.00Z",
                          "leaveDateTime": "2022-1-5T10:11:00.00Z"
                        }
                      ],
                      "identity": {
                        "displayName": "Kirk Feliciano",
                        "id": "9c0f7f1f-f86d-40f2-a840-7ac3bf13b070",
                        "tenantId": ""
                      }
                    },
                    {
                      "totalAttendanceInSeconds": 3420,
                      "role": "Student",
                      "emailAddress": "WilburBIngram@contoso.org",
                      "attendanceIntervals": [
                        {
                          "durationInSeconds": 3420,
                          "joinDateTime": "2022-1-5T9:5:00.00Z",
                          "leaveDateTime": "2022-1-5T10:2:00.00Z"
                        }
                      ],
                      "identity": {
                        "displayName": "Wilbur Ingram",
                        "id": "6f4ab288-aded-44ad-8bfe-702ab915f7f3",
                        "tenantId": ""
                      }
                    },
                    {
                      "totalAttendanceInSeconds": 3540,
                      "role": "Student",
                      "emailAddress": "PaulVMoskowitz@contoso.org",
                      "attendanceIntervals": [
                        {
                          "durationInSeconds": 3540,
                          "joinDateTime": "2022-1-5T9:1:00.00Z",
                          "leaveDateTime": "2022-1-5T10:0:00.00Z"
                        }
                      ],
                      "identity": {
                        "displayName": "Paul Moskowitz",
                        "id": "f47574d8-c9db-4b97-ad5e-d1921396e298",
                        "tenantId": ""
                      }
                    },
                    {
                      "totalAttendanceInSeconds": 6720,
                      "role": "Student",
                      "emailAddress": "DavidLThompson@contoso.org",
                      "attendanceIntervals": [
                        {
                          "durationInSeconds": 6720,
                          "joinDateTime": "2022-1-5T9:2:00.00Z",
                          "leaveDateTime": "2022-1-5T10:54:00.00Z"
                        }
                      ],
                      "identity": {
                        "displayName": "David Thompson",
                        "id": "46d61de9-8587-47bb-9589-46fbca622dee",
                        "tenantId": ""
                      }
                    },
                    {
                      "totalAttendanceInSeconds": 6660,
                      "role": "Student",
                      "emailAddress": "GeorgeJSantiago@contoso.org",
                      "attendanceIntervals": [
                        {
                          "durationInSeconds": 6660,
                          "joinDateTime": "2022-1-5T9:5:00.00Z",
                          "leaveDateTime": "2022-1-5T10:56:00.00Z"
                        }
                      ],
                      "identity": {
                        "displayName": "George Santiago",
                        "id": "f206f943-e534-41e2-a81a-ed41c7db3992",
                        "tenantId": ""
                      }
                    },
                    {
                      "totalAttendanceInSeconds": 4140,
                      "role": "Student",
                      "emailAddress": "WilliamMBlackburn@contoso.org",
                      "attendanceIntervals": [
                        {
                          "durationInSeconds": 4140,
                          "joinDateTime": "2022-1-5T9:5:00.00Z",
                          "leaveDateTime": "2022-1-5T10:14:00.00Z"
                        }
                      ],
                      "identity": {
                        "displayName": "William Blackburn",
                        "id": "65cdb379-46fb-4350-90d6-4e6a18291d2d",
                        "tenantId": ""
                      }
                    },
                    {
                      "totalAttendanceInSeconds": 4020,
                      "role": "Student",
                      "emailAddress": "HazelKJones@contoso.org",
                      "attendanceIntervals": [
                        {
                          "durationInSeconds": 4020,
                          "joinDateTime": "2022-1-5T9:1:00.00Z",
                          "leaveDateTime": "2022-1-5T10:8:00.00Z"
                        }
                      ],
                      "identity": {
                        "displayName": "Hazel Jones",
                        "id": "2810f2ae-77db-4e0a-977b-d0376fd12222",
                        "tenantId": ""
                      }
                    },
                    {
                      "totalAttendanceInSeconds": 6900,
                      "role": "Student",
                      "emailAddress": "DanielMMartinez@contoso.org",
                      "attendanceIntervals": [
                        {
                          "durationInSeconds": 6900,
                          "joinDateTime": "2022-1-5T9:3:00.00Z",
                          "leaveDateTime": "2022-1-5T10:58:00.00Z"
                        }
                      ],
                      "identity": {
                        "displayName": "Daniel Martinez",
                        "id": "9e77b486-89b7-4344-adcf-9bf0c742e6f4",
                        "tenantId": ""
                      }
                    },
                    {
                      "totalAttendanceInSeconds": 3660,
                      "role": "Student",
                      "emailAddress": "JamesRPaul@contoso.org",
                      "attendanceIntervals": [
                        {
                          "durationInSeconds": 3660,
                          "joinDateTime": "2022-1-5T9:3:00.00Z",
                          "leaveDateTime": "2022-1-5T10:4:00.00Z"
                        }
                      ],
                      "identity": {
                        "displayName": "James Paul",
                        "id": "b37151f3-f2aa-4e2a-84b3-a0fb1f51f7e8",
                        "tenantId": ""
                      }
                    },
                    {
                      "totalAttendanceInSeconds": 6840,
                      "role": "Student",
                      "emailAddress": "StephenJNunn@contoso.org",
                      "attendanceIntervals": [
                        {
                          "durationInSeconds": 6840,
                          "joinDateTime": "2022-1-5T9:1:00.00Z",
                          "leaveDateTime": "2022-1-5T10:55:00.00Z"
                        }
                      ],
                      "identity": {
                        "displayName": "Stephen Nunn",
                        "id": "a9888cde-8e32-4f97-a72a-4fae0cfe1908",
                        "tenantId": ""
                      }
                    }
                  ]
                },
                {
                  "0": "3cdb93b4-5011-4ba8-a067-ec07a45a29be",
                  "1": "60",
                  "2": "2022-1-18T10:55:00.00Z",
                  "3": "2022-1-18T11:40:00.00Z",
                  "4": [
                    {
                      "totalAttendanceInSeconds": 1740,
                      "role": "Student",
                      "emailAddress": "MaryRMartin@contoso.org",
                      "attendanceIntervals": [
                        {
                          "durationInSeconds": 1740,
                          "joinDateTime": "2022-1-18T10:56:00.00Z",
                          "leaveDateTime": "2022-1-18T11:25:00.00Z"
                        }
                      ],
                      "identity": {
                        "displayName": "Mary Martin",
                        "id": "c44b0944-7500-486c-9162-30a9c30a2529",
                        "tenantId": ""
                      }
                    },
                    {
                      "totalAttendanceInSeconds": 2100,
                      "role": "Student",
                      "emailAddress": "JohnMYamamoto@contoso.org",
                      "attendanceIntervals": [
                        {
                          "durationInSeconds": 2100,
                          "joinDateTime": "2022-1-18T10:55:00.00Z",
                          "leaveDateTime": "2022-1-18T11:30:00.00Z"
                        }
                      ],
                      "identity": {
                        "displayName": "John Yamamoto",
                        "id": "f3c50ff5-43f2-405b-8fc7-b6588009fbbe",
                        "tenantId": ""
                      }
                    },
                    {
                      "totalAttendanceInSeconds": 1500,
                      "role": "Student",
                      "emailAddress": "MichelleDLibbey@contoso.org",
                      "attendanceIntervals": [
                        {
                          "durationInSeconds": 1500,
                          "joinDateTime": "2022-1-18T10:57:00.00Z",
                          "leaveDateTime": "2022-1-18T11:22:00.00Z"
                        }
                      ],
                      "identity": {
                        "displayName": "Michelle Libbey",
                        "id": "4fa935e0-4b46-4916-b18e-d4a5162350aa",
                        "tenantId": ""
                      }
                    },
                    {
                      "totalAttendanceInSeconds": 2280,
                      "role": "Student",
                      "emailAddress": "JimKWhite@contoso.org",
                      "attendanceIntervals": [
                        {
                          "durationInSeconds": 2280,
                          "joinDateTime": "2022-1-18T10:57:00.00Z",
                          "leaveDateTime": "2022-1-18T11:35:00.00Z"
                        }
                      ],
                      "identity": {
                        "displayName": "Jim White",
                        "id": "6cfeff48-4343-4648-92ad-d21e3b4b7d12",
                        "tenantId": ""
                      }
                    },
                    {
                      "totalAttendanceInSeconds": 2700,
                      "role": "Student",
                      "emailAddress": "MelindaJSchneider@contoso.org",
                      "attendanceIntervals": [
                        {
                          "durationInSeconds": 2700,
                          "joinDateTime": "2022-1-18T10:55:00.00Z",
                          "leaveDateTime": "2022-1-18T11:40:00.00Z"
                        }
                      ],
                      "identity": {
                        "displayName": "Melinda Schneider",
                        "id": "208de147-f663-48c0-9bba-fceb3b18bb77",
                        "tenantId": ""
                      }
                    },
                    {
                      "totalAttendanceInSeconds": 2100,
                      "role": "Student",
                      "emailAddress": "RyanNRitchie@contoso.org",
                      "attendanceIntervals": [
                        {
                          "durationInSeconds": 2100,
                          "joinDateTime": "2022-1-18T10:55:00.00Z",
                          "leaveDateTime": "2022-1-18T11:30:00.00Z"
                        }
                      ],
                      "identity": {
                        "displayName": "Ryan Ritchie",
                        "id": "907b0838-48d2-4c50-ae9f-a0c8c4724fa7",
                        "tenantId": ""
                      }
                    },
                    {
                      "totalAttendanceInSeconds": 1560,
                      "role": "Student",
                      "emailAddress": "InezCIsbell@contoso.org",
                      "attendanceIntervals": [
                        {
                          "durationInSeconds": 1560,
                          "joinDateTime": "2022-1-18T10:59:00.00Z",
                          "leaveDateTime": "2022-1-18T11:25:00.00Z"
                        }
                      ],
                      "identity": {
                        "displayName": "Inez Isbell",
                        "id": "b87db641-9abc-4a89-ab92-bc1bc99ada2e",
                        "tenantId": ""
                      }
                    },
                    {
                      "totalAttendanceInSeconds": 5400,
                      "role": "Student",
                      "emailAddress": "CarolRSmith@contoso.org",
                      "attendanceIntervals": [
                        {
                          "durationInSeconds": 5400,
                          "joinDateTime": "2022-1-18T10:1:00.00Z",
                          "leaveDateTime": "2022-1-18T11:31:00.00Z"
                        }
                      ],
                      "identity": {
                        "displayName": "Carol Smith",
                        "id": "28d5987f-0363-4500-a2a6-568f9e5fb3fd",
                        "tenantId": ""
                      }
                    },
                    {
                      "totalAttendanceInSeconds": 1800,
                      "role": "Student",
                      "emailAddress": "EveretteMRugg@contoso.org",
                      "attendanceIntervals": [
                        {
                          "durationInSeconds": 1800,
                          "joinDateTime": "2022-1-18T10:55:00.00Z",
                          "leaveDateTime": "2022-1-18T11:25:00.00Z"
                        }
                      ],
                      "identity": {
                        "displayName": "Everette Rugg",
                        "id": "719c1bfc-04fd-4e4b-961e-672c336b265b",
                        "tenantId": ""
                      }
                    },
                    {
                      "totalAttendanceInSeconds": 2580,
                      "role": "Student",
                      "emailAddress": "LucilleCFirth@contoso.org",
                      "attendanceIntervals": [
                        {
                          "durationInSeconds": 2580,
                          "joinDateTime": "2022-1-18T10:57:00.00Z",
                          "leaveDateTime": "2022-1-18T11:40:00.00Z"
                        }
                      ],
                      "identity": {
                        "displayName": "Lucille Firth",
                        "id": "b416314a-3ce4-4522-99d8-b98e84de22c7",
                        "tenantId": ""
                      }
                    },
                    {
                      "totalAttendanceInSeconds": 2520,
                      "role": "Student",
                      "emailAddress": "NormaWDenton@contoso.org",
                      "attendanceIntervals": [
                        {
                          "durationInSeconds": 2520,
                          "joinDateTime": "2022-1-18T10:58:00.00Z",
                          "leaveDateTime": "2022-1-18T11:40:00.00Z"
                        }
                      ],
                      "identity": {
                        "displayName": "Norma Denton",
                        "id": "c2215ecd-9c68-44b0-9af6-1d717bf17317",
                        "tenantId": ""
                      }
                    },
                    {
                      "totalAttendanceInSeconds": 1980,
                      "role": "Student",
                      "emailAddress": "JosephKQuach@contoso.org",
                      "attendanceIntervals": [
                        {
                          "durationInSeconds": 1980,
                          "joinDateTime": "2022-1-18T10:58:00.00Z",
                          "leaveDateTime": "2022-1-18T11:31:00.00Z"
                        }
                      ],
                      "identity": {
                        "displayName": "Joseph Quach",
                        "id": "ec96df04-45c0-40f0-8f12-f4363fc5e7d5",
                        "tenantId": ""
                      }
                    },
                    {
                      "totalAttendanceInSeconds": 1500,
                      "role": "Student",
                      "emailAddress": "DonaldSPittenger@contoso.org",
                      "attendanceIntervals": [
                        {
                          "durationInSeconds": 1500,
                          "joinDateTime": "2022-1-18T10:56:00.00Z",
                          "leaveDateTime": "2022-1-18T11:21:00.00Z"
                        }
                      ],
                      "identity": {
                        "displayName": "Donald Pittenger",
                        "id": "4af8e61e-8ecd-4ec1-b0ff-0821ec99b2cf",
                        "tenantId": ""
                      }
                    },
                    {
                      "totalAttendanceInSeconds": 1800,
                      "role": "Student",
                      "emailAddress": "JohnCBowman@contoso.org",
                      "attendanceIntervals": [
                        {
                          "durationInSeconds": 1800,
                          "joinDateTime": "2022-1-18T10:57:00.00Z",
                          "leaveDateTime": "2022-1-18T11:27:00.00Z"
                        }
                      ],
                      "identity": {
                        "displayName": "John Bowman",
                        "id": "581234db-13d0-4657-86f0-0908ab7b493a",
                        "tenantId": ""
                      }
                    },
                    {
                      "totalAttendanceInSeconds": 1620,
                      "role": "Student",
                      "emailAddress": "BethLBarker@contoso.org",
                      "attendanceIntervals": [
                        {
                          "durationInSeconds": 1620,
                          "joinDateTime": "2022-1-18T10:56:00.00Z",
                          "leaveDateTime": "2022-1-18T11:23:00.00Z"
                        }
                      ],
                      "identity": {
                        "displayName": "Beth Barker",
                        "id": "560635b6-42ea-432c-b7e2-891e6f86dd3d",
                        "tenantId": ""
                      }
                    },
                    {
                      "totalAttendanceInSeconds": 1440,
                      "role": "Student",
                      "emailAddress": "TheodoreANewberry@contoso.org",
                      "attendanceIntervals": [
                        {
                          "durationInSeconds": 1440,
                          "joinDateTime": "2022-1-18T10:56:00.00Z",
                          "leaveDateTime": "2022-1-18T11:20:00.00Z"
                        }
                      ],
                      "identity": {
                        "displayName": "Theodore Newberry",
                        "id": "ab1ca0e1-7684-40f8-8984-b3a406edd0b8",
                        "tenantId": ""
                      }
                    },
                    {
                      "totalAttendanceInSeconds": 2280,
                      "role": "Student",
                      "emailAddress": "AmandaGLewis@contoso.org",
                      "attendanceIntervals": [
                        {
                          "durationInSeconds": 2280,
                          "joinDateTime": "2022-1-18T10:55:00.00Z",
                          "leaveDateTime": "2022-1-18T11:33:00.00Z"
                        }
                      ],
                      "identity": {
                        "displayName": "Amanda Lewis",
                        "id": "c56a8f95-8618-496b-97a5-86999d80605f",
                        "tenantId": ""
                      }
                    },
                    {
                      "totalAttendanceInSeconds": 1620,
                      "role": "Student",
                      "emailAddress": "JulianSTaylor@contoso.org",
                      "attendanceIntervals": [
                        {
                          "durationInSeconds": 1620,
                          "joinDateTime": "2022-1-18T10:59:00.00Z",
                          "leaveDateTime": "2022-1-18T11:26:00.00Z"
                        }
                      ],
                      "identity": {
                        "displayName": "Julian Taylor",
                        "id": "a2119ca2-1f13-4272-bb23-d070b17f2518",
                        "tenantId": ""
                      }
                    },
                    {
                      "totalAttendanceInSeconds": 2340,
                      "role": "Student",
                      "emailAddress": "CharlesDBabin@contoso.org",
                      "attendanceIntervals": [
                        {
                          "durationInSeconds": 2340,
                          "joinDateTime": "2022-1-18T10:59:00.00Z",
                          "leaveDateTime": "2022-1-18T11:38:00.00Z"
                        }
                      ],
                      "identity": {
                        "displayName": "Charles Babin",
                        "id": "01d103b9-703d-4be5-8898-300b4e986621",
                        "tenantId": ""
                      }
                    },
                    {
                      "totalAttendanceInSeconds": 1920,
                      "role": "Student",
                      "emailAddress": "SophieMSchenk@contoso.org",
                      "attendanceIntervals": [
                        {
                          "durationInSeconds": 1920,
                          "joinDateTime": "2022-1-18T10:55:00.00Z",
                          "leaveDateTime": "2022-1-18T11:27:00.00Z"
                        }
                      ],
                      "identity": {
                        "displayName": "Sophie Schenk",
                        "id": "e12cab6a-0151-47c8-bd75-3a695d2b3f3f",
                        "tenantId": ""
                      }
                    },
                    {
                      "totalAttendanceInSeconds": 2340,
                      "role": "Student",
                      "emailAddress": "LouisACaver@contoso.org",
                      "attendanceIntervals": [
                        {
                          "durationInSeconds": 2340,
                          "joinDateTime": "2022-1-18T10:55:00.00Z",
                          "leaveDateTime": "2022-1-18T11:34:00.00Z"
                        }
                      ],
                      "identity": {
                        "displayName": "Louis Caver",
                        "id": "23e9ffdc-6aa3-4972-b0c6-f3f2c6ddd151",
                        "tenantId": ""
                      }
                    },
                    {
                      "totalAttendanceInSeconds": 1980,
                      "role": "Student",
                      "emailAddress": "KatherineJWilcox@contoso.org",
                      "attendanceIntervals": [
                        {
                          "durationInSeconds": 1980,
                          "joinDateTime": "2022-1-18T10:58:00.00Z",
                          "leaveDateTime": "2022-1-18T11:31:00.00Z"
                        }
                      ],
                      "identity": {
                        "displayName": "Katherine Wilcox",
                        "id": "a6614478-d01d-4d22-bba3-81d7f6affdb9",
                        "tenantId": ""
                      }
                    },
                    {
                      "totalAttendanceInSeconds": 1920,
                      "role": "Student",
                      "emailAddress": "RosaleeWAndrews@contoso.org",
                      "attendanceIntervals": [
                        {
                          "durationInSeconds": 1920,
                          "joinDateTime": "2022-1-18T10:58:00.00Z",
                          "leaveDateTime": "2022-1-18T11:30:00.00Z"
                        }
                      ],
                      "identity": {
                        "displayName": "Rosalee Andrews",
                        "id": "07bd7cbb-dc91-49c0-8c41-7ceef2953a0b",
                        "tenantId": ""
                      }
                    },
                    {
                      "totalAttendanceInSeconds": 2040,
                      "role": "Student",
                      "emailAddress": "LaurenCRicci@contoso.org",
                      "attendanceIntervals": [
                        {
                          "durationInSeconds": 2040,
                          "joinDateTime": "2022-1-18T10:58:00.00Z",
                          "leaveDateTime": "2022-1-18T11:32:00.00Z"
                        }
                      ],
                      "identity": {
                        "displayName": "Lauren Ricci",
                        "id": "38bdf37d-a239-4183-8eba-576a71fe4a88",
                        "tenantId": ""
                      }
                    },
                    {
                      "totalAttendanceInSeconds": 1440,
                      "role": "Student",
                      "emailAddress": "PaulSZak@contoso.org",
                      "attendanceIntervals": [
                        {
                          "durationInSeconds": 1440,
                          "joinDateTime": "2022-1-18T10:58:00.00Z",
                          "leaveDateTime": "2022-1-18T11:22:00.00Z"
                        }
                      ],
                      "identity": {
                        "displayName": "Paul Zak",
                        "id": "acf27f76-6ad8-4b19-882d-1e46bde786e7",
                        "tenantId": ""
                      }
                    },
                    {
                      "totalAttendanceInSeconds": 4980,
                      "role": "Student",
                      "emailAddress": "SarahJDaly@contoso.org",
                      "attendanceIntervals": [
                        {
                          "durationInSeconds": 4980,
                          "joinDateTime": "2022-1-18T10:1:00.00Z",
                          "leaveDateTime": "2022-1-18T11:24:00.00Z"
                        }
                      ],
                      "identity": {
                        "displayName": "Sarah Daly",
                        "id": "86c1bcc8-37df-4064-8adf-0cf26591fdd3",
                        "tenantId": ""
                      }
                    },
                    {
                      "totalAttendanceInSeconds": 1500,
                      "role": "Student",
                      "emailAddress": "AshantiJMaldonado@contoso.org",
                      "attendanceIntervals": [
                        {
                          "durationInSeconds": 1500,
                          "joinDateTime": "2022-1-18T10:55:00.00Z",
                          "leaveDateTime": "2022-1-18T11:20:00.00Z"
                        }
                      ],
                      "identity": {
                        "displayName": "Ashanti Maldonado",
                        "id": "9569742c-7c31-46fe-a5b4-221992a1f092",
                        "tenantId": ""
                      }
                    },
                    {
                      "totalAttendanceInSeconds": 1680,
                      "role": "Student",
                      "emailAddress": "FlorenceRMorse@contoso.org",
                      "attendanceIntervals": [
                        {
                          "durationInSeconds": 1680,
                          "joinDateTime": "2022-1-18T10:57:00.00Z",
                          "leaveDateTime": "2022-1-18T11:25:00.00Z"
                        }
                      ],
                      "identity": {
                        "displayName": "Florence Morse",
                        "id": "877039b9-5494-4844-88d1-a13ab46f018f",
                        "tenantId": ""
                      }
                    },
                    {
                      "totalAttendanceInSeconds": 2100,
                      "role": "Student",
                      "emailAddress": "JenniferJAnsley@contoso.org",
                      "attendanceIntervals": [
                        {
                          "durationInSeconds": 2100,
                          "joinDateTime": "2022-1-18T10:56:00.00Z",
                          "leaveDateTime": "2022-1-18T11:31:00.00Z"
                        }
                      ],
                      "identity": {
                        "displayName": "Jennifer Ansley",
                        "id": "e0bf662a-d905-42d7-8081-b3144a2bcc0d",
                        "tenantId": ""
                      }
                    },
                    {
                      "totalAttendanceInSeconds": 2100,
                      "role": "Student",
                      "emailAddress": "CheriBDeluca@contoso.org",
                      "attendanceIntervals": [
                        {
                          "durationInSeconds": 2100,
                          "joinDateTime": "2022-1-18T10:57:00.00Z",
                          "leaveDateTime": "2022-1-18T11:32:00.00Z"
                        }
                      ],
                      "identity": {
                        "displayName": "Cheri Deluca",
                        "id": "ab58c97c-7460-48c7-924f-7a5859dc1409",
                        "tenantId": ""
                      }
                    },
                    {
                      "totalAttendanceInSeconds": 1740,
                      "role": "Student",
                      "emailAddress": "TanishaJEaton@contoso.org",
                      "attendanceIntervals": [
                        {
                          "durationInSeconds": 1740,
                          "joinDateTime": "2022-1-18T10:58:00.00Z",
                          "leaveDateTime": "2022-1-18T11:27:00.00Z"
                        }
                      ],
                      "identity": {
                        "displayName": "Tanisha Eaton",
                        "id": "02603f1a-1558-4072-ae81-9cea0fae4911",
                        "tenantId": ""
                      }
                    },
                    {
                      "totalAttendanceInSeconds": 1800,
                      "role": "Student",
                      "emailAddress": "JamesNNicholas@contoso.org",
                      "attendanceIntervals": [
                        {
                          "durationInSeconds": 1800,
                          "joinDateTime": "2022-1-18T10:59:00.00Z",
                          "leaveDateTime": "2022-1-18T11:29:00.00Z"
                        }
                      ],
                      "identity": {
                        "displayName": "James Nicholas",
                        "id": "1e909d12-5d9e-4f03-8484-6a193ea68bcb",
                        "tenantId": ""
                      }
                    },
                    {
                      "totalAttendanceInSeconds": 2700,
                      "role": "Student",
                      "emailAddress": "MariaJBrown@contoso.org",
                      "attendanceIntervals": [
                        {
                          "durationInSeconds": 2700,
                          "joinDateTime": "2022-1-18T10:55:00.00Z",
                          "leaveDateTime": "2022-1-18T11:40:00.00Z"
                        }
                      ],
                      "identity": {
                        "displayName": "Maria Brown",
                        "id": "176f3edc-31ba-4b0e-b8b4-7f0dfc1fe579",
                        "tenantId": ""
                      }
                    },
                    {
                      "totalAttendanceInSeconds": 2160,
                      "role": "Student",
                      "emailAddress": "RayCMoreno@contoso.org",
                      "attendanceIntervals": [
                        {
                          "durationInSeconds": 2160,
                          "joinDateTime": "2022-1-18T10:58:00.00Z",
                          "leaveDateTime": "2022-1-18T11:34:00.00Z"
                        }
                      ],
                      "identity": {
                        "displayName": "Ray Moreno",
                        "id": "160cb2a4-613b-4716-956e-98affccea0df",
                        "tenantId": ""
                      }
                    },
                    {
                      "totalAttendanceInSeconds": 1440,
                      "role": "Student",
                      "emailAddress": "GeoffreyPChapman@contoso.org",
                      "attendanceIntervals": [
                        {
                          "durationInSeconds": 1440,
                          "joinDateTime": "2022-1-18T10:59:00.00Z",
                          "leaveDateTime": "2022-1-18T11:23:00.00Z"
                        }
                      ],
                      "identity": {
                        "displayName": "Geoffrey Chapman",
                        "id": "4b2147e5-0751-44d1-b021-7a7cc86ff4a6",
                        "tenantId": ""
                      }
                    },
                    {
                      "totalAttendanceInSeconds": 2520,
                      "role": "Student",
                      "emailAddress": "BretAThomas@contoso.org",
                      "attendanceIntervals": [
                        {
                          "durationInSeconds": 2520,
                          "joinDateTime": "2022-1-18T10:57:00.00Z",
                          "leaveDateTime": "2022-1-18T11:39:00.00Z"
                        }
                      ],
                      "identity": {
                        "displayName": "Bret Thomas",
                        "id": "085924bc-df34-4528-9f18-679b86d2bd05",
                        "tenantId": ""
                      }
                    },
                    {
                      "totalAttendanceInSeconds": 1500,
                      "role": "Student",
                      "emailAddress": "NathanBGrover@contoso.org",
                      "attendanceIntervals": [
                        {
                          "durationInSeconds": 1500,
                          "joinDateTime": "2022-1-18T10:55:00.00Z",
                          "leaveDateTime": "2022-1-18T11:20:00.00Z"
                        }
                      ],
                      "identity": {
                        "displayName": "Nathan Grover",
                        "id": "815dccf4-e18d-4cad-9e3a-3c10b9725949",
                        "tenantId": ""
                      }
                    },
                    {
                      "totalAttendanceInSeconds": 2340,
                      "role": "Student",
                      "emailAddress": "JenniferNJones@contoso.org",
                      "attendanceIntervals": [
                        {
                          "durationInSeconds": 2340,
                          "joinDateTime": "2022-1-18T10:55:00.00Z",
                          "leaveDateTime": "2022-1-18T11:34:00.00Z"
                        }
                      ],
                      "identity": {
                        "displayName": "Jennifer Jones",
                        "id": "d8f78339-a850-426e-8e33-6eb36e6493c3",
                        "tenantId": ""
                      }
                    },
                    {
                      "totalAttendanceInSeconds": 1980,
                      "role": "Student",
                      "emailAddress": "JamesMAnderson@contoso.org",
                      "attendanceIntervals": [
                        {
                          "durationInSeconds": 1980,
                          "joinDateTime": "2022-1-18T10:59:00.00Z",
                          "leaveDateTime": "2022-1-18T11:32:00.00Z"
                        }
                      ],
                      "identity": {
                        "displayName": "James Anderson",
                        "id": "b34b5d40-189e-4558-9545-9cdd9e86b397",
                        "tenantId": ""
                      }
                    },
                    {
                      "totalAttendanceInSeconds": 5640,
                      "role": "Student",
                      "emailAddress": "KennyMLair@contoso.org",
                      "attendanceIntervals": [
                        {
                          "durationInSeconds": 5640,
                          "joinDateTime": "2022-1-18T10:1:00.00Z",
                          "leaveDateTime": "2022-1-18T11:35:00.00Z"
                        }
                      ],
                      "identity": {
                        "displayName": "Kenny Lair",
                        "id": "8a29f408-accf-4fa9-a2aa-e95f5bc08932",
                        "tenantId": ""
                      }
                    },
                    {
                      "totalAttendanceInSeconds": 5940,
                      "role": "Student",
                      "emailAddress": "RobertGWashington@contoso.org",
                      "attendanceIntervals": [
                        {
                          "durationInSeconds": 5940,
                          "joinDateTime": "2022-1-18T10:1:00.00Z",
                          "leaveDateTime": "2022-1-18T11:40:00.00Z"
                        }
                      ],
                      "identity": {
                        "displayName": "Robert Washington",
                        "id": "6abfffeb-9961-4795-9e8e-49d2a0f646b9",
                        "tenantId": ""
                      }
                    },
                    {
                      "totalAttendanceInSeconds": 1860,
                      "role": "Student",
                      "emailAddress": "MabelNDuarte@contoso.org",
                      "attendanceIntervals": [
                        {
                          "durationInSeconds": 1860,
                          "joinDateTime": "2022-1-18T10:57:00.00Z",
                          "leaveDateTime": "2022-1-18T11:28:00.00Z"
                        }
                      ],
                      "identity": {
                        "displayName": "Mabel Duarte",
                        "id": "30c78fa8-1393-418e-87c4-9427ca2ec2ad",
                        "tenantId": ""
                      }
                    },
                    {
                      "totalAttendanceInSeconds": 4980,
                      "role": "Student",
                      "emailAddress": "JacobNSmart@contoso.org",
                      "attendanceIntervals": [
                        {
                          "durationInSeconds": 4980,
                          "joinDateTime": "2022-1-18T10:1:00.00Z",
                          "leaveDateTime": "2022-1-18T11:24:00.00Z"
                        }
                      ],
                      "identity": {
                        "displayName": "Jacob Smart",
                        "id": "0b9909b7-edcd-4006-a22f-c647b4237ea5",
                        "tenantId": ""
                      }
                    },
                    {
                      "totalAttendanceInSeconds": 2220,
                      "role": "Student",
                      "emailAddress": "DallasFRoberts@contoso.org",
                      "attendanceIntervals": [
                        {
                          "durationInSeconds": 2220,
                          "joinDateTime": "2022-1-18T10:58:00.00Z",
                          "leaveDateTime": "2022-1-18T11:35:00.00Z"
                        }
                      ],
                      "identity": {
                        "displayName": "Dallas Roberts",
                        "id": "c0874fd1-1512-4075-99e5-3a18274f9d4a",
                        "tenantId": ""
                      }
                    },
                    {
                      "totalAttendanceInSeconds": 2400,
                      "role": "Student",
                      "emailAddress": "HeatherFSmith@contoso.org",
                      "attendanceIntervals": [
                        {
                          "durationInSeconds": 2400,
                          "joinDateTime": "2022-1-18T10:58:00.00Z",
                          "leaveDateTime": "2022-1-18T11:38:00.00Z"
                        }
                      ],
                      "identity": {
                        "displayName": "Heather Smith",
                        "id": "651e8651-037c-49b5-940d-079d0d0b3130",
                        "tenantId": ""
                      }
                    },
                    {
                      "totalAttendanceInSeconds": 2040,
                      "role": "Student",
                      "emailAddress": "AlliePMcGlothlin@contoso.org",
                      "attendanceIntervals": [
                        {
                          "durationInSeconds": 2040,
                          "joinDateTime": "2022-1-18T10:59:00.00Z",
                          "leaveDateTime": "2022-1-18T11:33:00.00Z"
                        }
                      ],
                      "identity": {
                        "displayName": "Allie McGlothlin",
                        "id": "b1f351a8-e041-4835-ad42-933eab79d543",
                        "tenantId": ""
                      }
                    },
                    {
                      "totalAttendanceInSeconds": 1680,
                      "role": "Student",
                      "emailAddress": "ShirlyRWilliams@contoso.org",
                      "attendanceIntervals": [
                        {
                          "durationInSeconds": 1680,
                          "joinDateTime": "2022-1-18T10:57:00.00Z",
                          "leaveDateTime": "2022-1-18T11:25:00.00Z"
                        }
                      ],
                      "identity": {
                        "displayName": "Shirly Williams",
                        "id": "7b88e62e-04a3-4c7b-975a-f34ca4915688",
                        "tenantId": ""
                      }
                    },
                    {
                      "totalAttendanceInSeconds": 1440,
                      "role": "Student",
                      "emailAddress": "WendyJJones@contoso.org",
                      "attendanceIntervals": [
                        {
                          "durationInSeconds": 1440,
                          "joinDateTime": "2022-1-18T10:59:00.00Z",
                          "leaveDateTime": "2022-1-18T11:23:00.00Z"
                        }
                      ],
                      "identity": {
                        "displayName": "Wendy Jones",
                        "id": "cfeb0941-d0e2-482d-a8fc-3196424efe51",
                        "tenantId": ""
                      }
                    },
                    {
                      "totalAttendanceInSeconds": 1980,
                      "role": "Student",
                      "emailAddress": "ElsieWWagner@contoso.org",
                      "attendanceIntervals": [
                        {
                          "durationInSeconds": 1980,
                          "joinDateTime": "2022-1-18T10:57:00.00Z",
                          "leaveDateTime": "2022-1-18T11:30:00.00Z"
                        }
                      ],
                      "identity": {
                        "displayName": "Elsie Wagner",
                        "id": "da698590-d491-4cf9-ad77-35116e875cfd",
                        "tenantId": ""
                      }
                    },
                    {
                      "totalAttendanceInSeconds": 5820,
                      "role": "Student",
                      "emailAddress": "KirkSFeliciano@contoso.org",
                      "attendanceIntervals": [
                        {
                          "durationInSeconds": 5820,
                          "joinDateTime": "2022-1-18T10:1:00.00Z",
                          "leaveDateTime": "2022-1-18T11:38:00.00Z"
                        }
                      ],
                      "identity": {
                        "displayName": "Kirk Feliciano",
                        "id": "9c0f7f1f-f86d-40f2-a840-7ac3bf13b070",
                        "tenantId": ""
                      }
                    },
                    {
                      "totalAttendanceInSeconds": 1800,
                      "role": "Student",
                      "emailAddress": "WilburBIngram@contoso.org",
                      "attendanceIntervals": [
                        {
                          "durationInSeconds": 1800,
                          "joinDateTime": "2022-1-18T10:58:00.00Z",
                          "leaveDateTime": "2022-1-18T11:28:00.00Z"
                        }
                      ],
                      "identity": {
                        "displayName": "Wilbur Ingram",
                        "id": "6f4ab288-aded-44ad-8bfe-702ab915f7f3",
                        "tenantId": ""
                      }
                    },
                    {
                      "totalAttendanceInSeconds": 2220,
                      "role": "Student",
                      "emailAddress": "GeorgeJSantiago@contoso.org",
                      "attendanceIntervals": [
                        {
                          "durationInSeconds": 2220,
                          "joinDateTime": "2022-1-18T10:57:00.00Z",
                          "leaveDateTime": "2022-1-18T11:34:00.00Z"
                        }
                      ],
                      "identity": {
                        "displayName": "George Santiago",
                        "id": "f206f943-e534-41e2-a81a-ed41c7db3992",
                        "tenantId": ""
                      }
                    },
                    {
                      "totalAttendanceInSeconds": 4920,
                      "role": "Student",
                      "emailAddress": "WilliamMBlackburn@contoso.org",
                      "attendanceIntervals": [
                        {
                          "durationInSeconds": 4920,
                          "joinDateTime": "2022-1-18T10:1:00.00Z",
                          "leaveDateTime": "2022-1-18T11:23:00.00Z"
                        }
                      ],
                      "identity": {
                        "displayName": "William Blackburn",
                        "id": "65cdb379-46fb-4350-90d6-4e6a18291d2d",
                        "tenantId": ""
                      }
                    },
                    {
                      "totalAttendanceInSeconds": 2640,
                      "role": "Student",
                      "emailAddress": "HazelKJones@contoso.org",
                      "attendanceIntervals": [
                        {
                          "durationInSeconds": 2640,
                          "joinDateTime": "2022-1-18T10:55:00.00Z",
                          "leaveDateTime": "2022-1-18T11:39:00.00Z"
                        }
                      ],
                      "identity": {
                        "displayName": "Hazel Jones",
                        "id": "2810f2ae-77db-4e0a-977b-d0376fd12222",
                        "tenantId": ""
                      }
                    },
                    {
                      "totalAttendanceInSeconds": 2160,
                      "role": "Student",
                      "emailAddress": "JeanPBloodworth@contoso.org",
                      "attendanceIntervals": [
                        {
                          "durationInSeconds": 2160,
                          "joinDateTime": "2022-1-18T10:55:00.00Z",
                          "leaveDateTime": "2022-1-18T11:31:00.00Z"
                        }
                      ],
                      "identity": {
                        "displayName": "Jean Bloodworth",
                        "id": "ea363d72-27ad-4fec-9c36-9107b6aa22bf",
                        "tenantId": ""
                      }
                    },
                    {
                      "totalAttendanceInSeconds": 2220,
                      "role": "Student",
                      "emailAddress": "DanielMMartinez@contoso.org",
                      "attendanceIntervals": [
                        {
                          "durationInSeconds": 2220,
                          "joinDateTime": "2022-1-18T10:56:00.00Z",
                          "leaveDateTime": "2022-1-18T11:33:00.00Z"
                        }
                      ],
                      "identity": {
                        "displayName": "Daniel Martinez",
                        "id": "9e77b486-89b7-4344-adcf-9bf0c742e6f4",
                        "tenantId": ""
                      }
                    }
                  ]
                },
                {
                  "0": "05066be0-cbea-4abd-b6c4-78f210f9798e",
                  "1": "58",
                  "2": "2022-1-17T14:45:00.00Z",
                  "3": "2022-1-17T15:45:00.00Z",
                  "4": [
                    {
                      "totalAttendanceInSeconds": 2280,
                      "role": "Student",
                      "emailAddress": "JohnMYamamoto@contoso.org",
                      "attendanceIntervals": [
                        {
                          "durationInSeconds": 2280,
                          "joinDateTime": "2022-1-17T14:49:00.00Z",
                          "leaveDateTime": "2022-1-17T15:27:00.00Z"
                        }
                      ],
                      "identity": {
                        "displayName": "John Yamamoto",
                        "id": "f3c50ff5-43f2-405b-8fc7-b6588009fbbe",
                        "tenantId": ""
                      }
                    },
                    {
                      "totalAttendanceInSeconds": 2700,
                      "role": "Student",
                      "emailAddress": "GeorgePStice@contoso.org",
                      "attendanceIntervals": [
                        {
                          "durationInSeconds": 2700,
                          "joinDateTime": "2022-1-17T14:48:00.00Z",
                          "leaveDateTime": "2022-1-17T15:33:00.00Z"
                        }
                      ],
                      "identity": {
                        "displayName": "George Stice",
                        "id": "668b3d39-9c10-4acc-a571-600ff9029bd3",
                        "tenantId": ""
                      }
                    },
                    {
                      "totalAttendanceInSeconds": 2160,
                      "role": "Student",
                      "emailAddress": "JimKWhite@contoso.org",
                      "attendanceIntervals": [
                        {
                          "durationInSeconds": 2160,
                          "joinDateTime": "2022-1-17T14:50:00.00Z",
                          "leaveDateTime": "2022-1-17T15:26:00.00Z"
                        }
                      ],
                      "identity": {
                        "displayName": "Jim White",
                        "id": "6cfeff48-4343-4648-92ad-d21e3b4b7d12",
                        "tenantId": ""
                      }
                    },
                    {
                      "totalAttendanceInSeconds": 3240,
                      "role": "Student",
                      "emailAddress": "WilliamBHumphrey@contoso.org",
                      "attendanceIntervals": [
                        {
                          "durationInSeconds": 3240,
                          "joinDateTime": "2022-1-17T14:49:00.00Z",
                          "leaveDateTime": "2022-1-17T15:43:00.00Z"
                        }
                      ],
                      "identity": {
                        "displayName": "William Humphrey",
                        "id": "7447d717-65a3-424e-879c-49575f49b9aa",
                        "tenantId": ""
                      }
                    },
                    {
                      "totalAttendanceInSeconds": 3300,
                      "role": "Student",
                      "emailAddress": "RyanNRitchie@contoso.org",
                      "attendanceIntervals": [
                        {
                          "durationInSeconds": 3300,
                          "joinDateTime": "2022-1-17T14:47:00.00Z",
                          "leaveDateTime": "2022-1-17T15:42:00.00Z"
                        }
                      ],
                      "identity": {
                        "displayName": "Ryan Ritchie",
                        "id": "907b0838-48d2-4c50-ae9f-a0c8c4724fa7",
                        "tenantId": ""
                      }
                    },
                    {
                      "totalAttendanceInSeconds": 2460,
                      "role": "Student",
                      "emailAddress": "InezCIsbell@contoso.org",
                      "attendanceIntervals": [
                        {
                          "durationInSeconds": 2460,
                          "joinDateTime": "2022-1-17T14:47:00.00Z",
                          "leaveDateTime": "2022-1-17T15:28:00.00Z"
                        }
                      ],
                      "identity": {
                        "displayName": "Inez Isbell",
                        "id": "b87db641-9abc-4a89-ab92-bc1bc99ada2e",
                        "tenantId": ""
                      }
                    },
                    {
                      "totalAttendanceInSeconds": 2100,
                      "role": "Student",
                      "emailAddress": "CarolRSmith@contoso.org",
                      "attendanceIntervals": [
                        {
                          "durationInSeconds": 2100,
                          "joinDateTime": "2022-1-17T14:50:00.00Z",
                          "leaveDateTime": "2022-1-17T15:25:00.00Z"
                        }
                      ],
                      "identity": {
                        "displayName": "Carol Smith",
                        "id": "28d5987f-0363-4500-a2a6-568f9e5fb3fd",
                        "tenantId": ""
                      }
                    },
                    {
                      "totalAttendanceInSeconds": 3540,
                      "role": "Student",
                      "emailAddress": "StephanieLNokes@contoso.org",
                      "attendanceIntervals": [
                        {
                          "durationInSeconds": 3540,
                          "joinDateTime": "2022-1-17T14:45:00.00Z",
                          "leaveDateTime": "2022-1-17T15:44:00.00Z"
                        }
                      ],
                      "identity": {
                        "displayName": "Stephanie Nokes",
                        "id": "7793701b-a628-42dc-ae67-63ad7273a803",
                        "tenantId": ""
                      }
                    },
                    {
                      "totalAttendanceInSeconds": 3360,
                      "role": "Student",
                      "emailAddress": "LucilleCFirth@contoso.org",
                      "attendanceIntervals": [
                        {
                          "durationInSeconds": 3360,
                          "joinDateTime": "2022-1-17T14:46:00.00Z",
                          "leaveDateTime": "2022-1-17T15:42:00.00Z"
                        }
                      ],
                      "identity": {
                        "displayName": "Lucille Firth",
                        "id": "b416314a-3ce4-4522-99d8-b98e84de22c7",
                        "tenantId": ""
                      }
                    },
                    {
                      "totalAttendanceInSeconds": 2820,
                      "role": "Student",
                      "emailAddress": "GaryTKellner@contoso.org",
                      "attendanceIntervals": [
                        {
                          "durationInSeconds": 2820,
                          "joinDateTime": "2022-1-17T14:46:00.00Z",
                          "leaveDateTime": "2022-1-17T15:33:00.00Z"
                        }
                      ],
                      "identity": {
                        "displayName": "Gary Kellner",
                        "id": "5d0761ff-0833-4b01-a449-c24e331c64dd",
                        "tenantId": ""
                      }
                    },
                    {
                      "totalAttendanceInSeconds": 2280,
                      "role": "Student",
                      "emailAddress": "JasonLAvila@contoso.org",
                      "attendanceIntervals": [
                        {
                          "durationInSeconds": 2280,
                          "joinDateTime": "2022-1-17T14:50:00.00Z",
                          "leaveDateTime": "2022-1-17T15:28:00.00Z"
                        }
                      ],
                      "identity": {
                        "displayName": "Jason Avila",
                        "id": "4028d23c-ce7c-4fdc-8bb6-18a85c2a09ec",
                        "tenantId": ""
                      }
                    },
                    {
                      "totalAttendanceInSeconds": 2400,
                      "role": "Student",
                      "emailAddress": "StephanieJHayward@contoso.org",
                      "attendanceIntervals": [
                        {
                          "durationInSeconds": 2400,
                          "joinDateTime": "2022-1-17T14:46:00.00Z",
                          "leaveDateTime": "2022-1-17T15:26:00.00Z"
                        }
                      ],
                      "identity": {
                        "displayName": "Stephanie Hayward",
                        "id": "59237a7a-4419-4082-8704-da3436976ad2",
                        "tenantId": ""
                      }
                    },
                    {
                      "totalAttendanceInSeconds": 2880,
                      "role": "Student",
                      "emailAddress": "BethLBarker@contoso.org",
                      "attendanceIntervals": [
                        {
                          "durationInSeconds": 2880,
                          "joinDateTime": "2022-1-17T14:45:00.00Z",
                          "leaveDateTime": "2022-1-17T15:33:00.00Z"
                        }
                      ],
                      "identity": {
                        "displayName": "Beth Barker",
                        "id": "560635b6-42ea-432c-b7e2-891e6f86dd3d",
                        "tenantId": ""
                      }
                    },
                    {
                      "totalAttendanceInSeconds": 2400,
                      "role": "Student",
                      "emailAddress": "TheodoreANewberry@contoso.org",
                      "attendanceIntervals": [
                        {
                          "durationInSeconds": 2400,
                          "joinDateTime": "2022-1-17T14:45:00.00Z",
                          "leaveDateTime": "2022-1-17T15:25:00.00Z"
                        }
                      ],
                      "identity": {
                        "displayName": "Theodore Newberry",
                        "id": "ab1ca0e1-7684-40f8-8984-b3a406edd0b8",
                        "tenantId": ""
                      }
                    },
                    {
                      "totalAttendanceInSeconds": 2580,
                      "role": "Student",
                      "emailAddress": "GarySSell@contoso.org",
                      "attendanceIntervals": [
                        {
                          "durationInSeconds": 2580,
                          "joinDateTime": "2022-1-17T14:48:00.00Z",
                          "leaveDateTime": "2022-1-17T15:31:00.00Z"
                        }
                      ],
                      "identity": {
                        "displayName": "Gary Sell",
                        "id": "7451c94d-2543-428e-8c4f-72b7ac58f3f9",
                        "tenantId": ""
                      }
                    },
                    {
                      "totalAttendanceInSeconds": 3240,
                      "role": "Student",
                      "emailAddress": "AllisonTErdman@contoso.org",
                      "attendanceIntervals": [
                        {
                          "durationInSeconds": 3240,
                          "joinDateTime": "2022-1-17T14:47:00.00Z",
                          "leaveDateTime": "2022-1-17T15:41:00.00Z"
                        }
                      ],
                      "identity": {
                        "displayName": "Allison Erdman",
                        "id": "966ed08a-fc99-4885-85b9-22762d56c0ea",
                        "tenantId": ""
                      }
                    },
                    {
                      "totalAttendanceInSeconds": 2940,
                      "role": "Student",
                      "emailAddress": "PeterRAmos@contoso.org",
                      "attendanceIntervals": [
                        {
                          "durationInSeconds": 2940,
                          "joinDateTime": "2022-1-17T14:47:00.00Z",
                          "leaveDateTime": "2022-1-17T15:36:00.00Z"
                        }
                      ],
                      "identity": {
                        "displayName": "Peter Amos",
                        "id": "02f57f1c-ad50-42bf-8d8c-5224f5bfcd88",
                        "tenantId": ""
                      }
                    },
                    {
                      "totalAttendanceInSeconds": 2100,
                      "role": "Student",
                      "emailAddress": "LouisACaver@contoso.org",
                      "attendanceIntervals": [
                        {
                          "durationInSeconds": 2100,
                          "joinDateTime": "2022-1-17T14:50:00.00Z",
                          "leaveDateTime": "2022-1-17T15:25:00.00Z"
                        }
                      ],
                      "identity": {
                        "displayName": "Louis Caver",
                        "id": "23e9ffdc-6aa3-4972-b0c6-f3f2c6ddd151",
                        "tenantId": ""
                      }
                    },
                    {
                      "totalAttendanceInSeconds": 2400,
                      "role": "Student",
                      "emailAddress": "FelixJBenton@contoso.org",
                      "attendanceIntervals": [
                        {
                          "durationInSeconds": 2400,
                          "joinDateTime": "2022-1-17T14:49:00.00Z",
                          "leaveDateTime": "2022-1-17T15:29:00.00Z"
                        }
                      ],
                      "identity": {
                        "displayName": "Felix Benton",
                        "id": "0c707f16-b101-402b-b571-8afdb5669f41",
                        "tenantId": ""
                      }
                    },
                    {
                      "totalAttendanceInSeconds": 2520,
                      "role": "Student",
                      "emailAddress": "SarahJDaly@contoso.org",
                      "attendanceIntervals": [
                        {
                          "durationInSeconds": 2520,
                          "joinDateTime": "2022-1-17T14:47:00.00Z",
                          "leaveDateTime": "2022-1-17T15:29:00.00Z"
                        }
                      ],
                      "identity": {
                        "displayName": "Sarah Daly",
                        "id": "86c1bcc8-37df-4064-8adf-0cf26591fdd3",
                        "tenantId": ""
                      }
                    },
                    {
                      "totalAttendanceInSeconds": 2820,
                      "role": "Student",
                      "emailAddress": "AshantiJMaldonado@contoso.org",
                      "attendanceIntervals": [
                        {
                          "durationInSeconds": 2820,
                          "joinDateTime": "2022-1-17T14:49:00.00Z",
                          "leaveDateTime": "2022-1-17T15:36:00.00Z"
                        }
                      ],
                      "identity": {
                        "displayName": "Ashanti Maldonado",
                        "id": "9569742c-7c31-46fe-a5b4-221992a1f092",
                        "tenantId": ""
                      }
                    },
                    {
                      "totalAttendanceInSeconds": 3420,
                      "role": "Student",
                      "emailAddress": "JenniferJAnsley@contoso.org",
                      "attendanceIntervals": [
                        {
                          "durationInSeconds": 3420,
                          "joinDateTime": "2022-1-17T14:48:00.00Z",
                          "leaveDateTime": "2022-1-17T15:45:00.00Z"
                        }
                      ],
                      "identity": {
                        "displayName": "Jennifer Ansley",
                        "id": "e0bf662a-d905-42d7-8081-b3144a2bcc0d",
                        "tenantId": ""
                      }
                    },
                    {
                      "totalAttendanceInSeconds": 2280,
                      "role": "Student",
                      "emailAddress": "KathleenCCassano@contoso.org",
                      "attendanceIntervals": [
                        {
                          "durationInSeconds": 2280,
                          "joinDateTime": "2022-1-17T14:47:00.00Z",
                          "leaveDateTime": "2022-1-17T15:25:00.00Z"
                        }
                      ],
                      "identity": {
                        "displayName": "Kathleen Cassano",
                        "id": "9cc5fd15-c5f7-4baa-8ebe-b048b8a7adad",
                        "tenantId": ""
                      }
                    },
                    {
                      "totalAttendanceInSeconds": 3000,
                      "role": "Student",
                      "emailAddress": "CheriBDeluca@contoso.org",
                      "attendanceIntervals": [
                        {
                          "durationInSeconds": 3000,
                          "joinDateTime": "2022-1-17T14:48:00.00Z",
                          "leaveDateTime": "2022-1-17T15:38:00.00Z"
                        }
                      ],
                      "identity": {
                        "displayName": "Cheri Deluca",
                        "id": "ab58c97c-7460-48c7-924f-7a5859dc1409",
                        "tenantId": ""
                      }
                    },
                    {
                      "totalAttendanceInSeconds": 3180,
                      "role": "Student",
                      "emailAddress": "TanishaJEaton@contoso.org",
                      "attendanceIntervals": [
                        {
                          "durationInSeconds": 3180,
                          "joinDateTime": "2022-1-17T14:47:00.00Z",
                          "leaveDateTime": "2022-1-17T15:40:00.00Z"
                        }
                      ],
                      "identity": {
                        "displayName": "Tanisha Eaton",
                        "id": "02603f1a-1558-4072-ae81-9cea0fae4911",
                        "tenantId": ""
                      }
                    },
                    {
                      "totalAttendanceInSeconds": 2940,
                      "role": "Student",
                      "emailAddress": "MarileeEVirgil@contoso.org",
                      "attendanceIntervals": [
                        {
                          "durationInSeconds": 2940,
                          "joinDateTime": "2022-1-17T14:48:00.00Z",
                          "leaveDateTime": "2022-1-17T15:37:00.00Z"
                        }
                      ],
                      "identity": {
                        "displayName": "Marilee Virgil",
                        "id": "a336fc65-85ee-4d3d-945e-bb8084b7c841",
                        "tenantId": ""
                      }
                    },
                    {
                      "totalAttendanceInSeconds": 3180,
                      "role": "Student",
                      "emailAddress": "MaryFMartindale@contoso.org",
                      "attendanceIntervals": [
                        {
                          "durationInSeconds": 3180,
                          "joinDateTime": "2022-1-17T14:45:00.00Z",
                          "leaveDateTime": "2022-1-17T15:38:00.00Z"
                        }
                      ],
                      "identity": {
                        "displayName": "Mary Martindale",
                        "id": "a71f7656-3dff-40cc-9ee0-a45c82df9c42",
                        "tenantId": ""
                      }
                    },
                    {
                      "totalAttendanceInSeconds": 3240,
                      "role": "Student",
                      "emailAddress": "JamesNNicholas@contoso.org",
                      "attendanceIntervals": [
                        {
                          "durationInSeconds": 3240,
                          "joinDateTime": "2022-1-17T14:47:00.00Z",
                          "leaveDateTime": "2022-1-17T15:41:00.00Z"
                        }
                      ],
                      "identity": {
                        "displayName": "James Nicholas",
                        "id": "1e909d12-5d9e-4f03-8484-6a193ea68bcb",
                        "tenantId": ""
                      }
                    },
                    {
                      "totalAttendanceInSeconds": 2760,
                      "role": "Student",
                      "emailAddress": "RayCMoreno@contoso.org",
                      "attendanceIntervals": [
                        {
                          "durationInSeconds": 2760,
                          "joinDateTime": "2022-1-17T14:45:00.00Z",
                          "leaveDateTime": "2022-1-17T15:31:00.00Z"
                        }
                      ],
                      "identity": {
                        "displayName": "Ray Moreno",
                        "id": "160cb2a4-613b-4716-956e-98affccea0df",
                        "tenantId": ""
                      }
                    },
                    {
                      "totalAttendanceInSeconds": 2580,
                      "role": "Student",
                      "emailAddress": "NathanBGrover@contoso.org",
                      "attendanceIntervals": [
                        {
                          "durationInSeconds": 2580,
                          "joinDateTime": "2022-1-17T14:47:00.00Z",
                          "leaveDateTime": "2022-1-17T15:30:00.00Z"
                        }
                      ],
                      "identity": {
                        "displayName": "Nathan Grover",
                        "id": "815dccf4-e18d-4cad-9e3a-3c10b9725949",
                        "tenantId": ""
                      }
                    },
                    {
                      "totalAttendanceInSeconds": 3360,
                      "role": "Student",
                      "emailAddress": "MichaelAMansfield@contoso.org",
                      "attendanceIntervals": [
                        {
                          "durationInSeconds": 3360,
                          "joinDateTime": "2022-1-17T14:49:00.00Z",
                          "leaveDateTime": "2022-1-17T15:45:00.00Z"
                        }
                      ],
                      "identity": {
                        "displayName": "Michael Mansfield",
                        "id": "6b47c601-6c57-49ce-a5e3-d70cf6aa3868",
                        "tenantId": ""
                      }
                    },
                    {
                      "totalAttendanceInSeconds": 2160,
                      "role": "Student",
                      "emailAddress": "MauriceSVera@contoso.org",
                      "attendanceIntervals": [
                        {
                          "durationInSeconds": 2160,
                          "joinDateTime": "2022-1-17T14:50:00.00Z",
                          "leaveDateTime": "2022-1-17T15:26:00.00Z"
                        }
                      ],
                      "identity": {
                        "displayName": "Maurice Vera",
                        "id": "2d3f7e01-e3b4-49af-aad1-ef16b91dc2a3",
                        "tenantId": ""
                      }
                    },
                    {
                      "totalAttendanceInSeconds": 2220,
                      "role": "Student",
                      "emailAddress": "JenniferNJones@contoso.org",
                      "attendanceIntervals": [
                        {
                          "durationInSeconds": 2220,
                          "joinDateTime": "2022-1-17T14:48:00.00Z",
                          "leaveDateTime": "2022-1-17T15:25:00.00Z"
                        }
                      ],
                      "identity": {
                        "displayName": "Jennifer Jones",
                        "id": "d8f78339-a850-426e-8e33-6eb36e6493c3",
                        "tenantId": ""
                      }
                    },
                    {
                      "totalAttendanceInSeconds": 2340,
                      "role": "Student",
                      "emailAddress": "JamesMAnderson@contoso.org",
                      "attendanceIntervals": [
                        {
                          "durationInSeconds": 2340,
                          "joinDateTime": "2022-1-17T14:49:00.00Z",
                          "leaveDateTime": "2022-1-17T15:28:00.00Z"
                        }
                      ],
                      "identity": {
                        "displayName": "James Anderson",
                        "id": "b34b5d40-189e-4558-9545-9cdd9e86b397",
                        "tenantId": ""
                      }
                    },
                    {
                      "totalAttendanceInSeconds": 2460,
                      "role": "Student",
                      "emailAddress": "KennyMLair@contoso.org",
                      "attendanceIntervals": [
                        {
                          "durationInSeconds": 2460,
                          "joinDateTime": "2022-1-17T14:45:00.00Z",
                          "leaveDateTime": "2022-1-17T15:26:00.00Z"
                        }
                      ],
                      "identity": {
                        "displayName": "Kenny Lair",
                        "id": "8a29f408-accf-4fa9-a2aa-e95f5bc08932",
                        "tenantId": ""
                      }
                    },
                    {
                      "totalAttendanceInSeconds": 2820,
                      "role": "Student",
                      "emailAddress": "BelindaRTorres@contoso.org",
                      "attendanceIntervals": [
                        {
                          "durationInSeconds": 2820,
                          "joinDateTime": "2022-1-17T14:50:00.00Z",
                          "leaveDateTime": "2022-1-17T15:37:00.00Z"
                        }
                      ],
                      "identity": {
                        "displayName": "Belinda Torres",
                        "id": "78eb25f5-eda7-47cc-b3a3-3ff8f9aea761",
                        "tenantId": ""
                      }
                    },
                    {
                      "totalAttendanceInSeconds": 3120,
                      "role": "Student",
                      "emailAddress": "MabelNDuarte@contoso.org",
                      "attendanceIntervals": [
                        {
                          "durationInSeconds": 3120,
                          "joinDateTime": "2022-1-17T14:47:00.00Z",
                          "leaveDateTime": "2022-1-17T15:39:00.00Z"
                        }
                      ],
                      "identity": {
                        "displayName": "Mabel Duarte",
                        "id": "30c78fa8-1393-418e-87c4-9427ca2ec2ad",
                        "tenantId": ""
                      }
                    },
                    {
                      "totalAttendanceInSeconds": 3300,
                      "role": "Student",
                      "emailAddress": "MichelleETalbott@contoso.org",
                      "attendanceIntervals": [
                        {
                          "durationInSeconds": 3300,
                          "joinDateTime": "2022-1-17T14:45:00.00Z",
                          "leaveDateTime": "2022-1-17T15:40:00.00Z"
                        }
                      ],
                      "identity": {
                        "displayName": "Michelle Talbott",
                        "id": "7b04910d-7556-4a5d-a898-7aa750520bf8",
                        "tenantId": ""
                      }
                    },
                    {
                      "totalAttendanceInSeconds": 2700,
                      "role": "Student",
                      "emailAddress": "NancyRBest@contoso.org",
                      "attendanceIntervals": [
                        {
                          "durationInSeconds": 2700,
                          "joinDateTime": "2022-1-17T14:47:00.00Z",
                          "leaveDateTime": "2022-1-17T15:32:00.00Z"
                        }
                      ],
                      "identity": {
                        "displayName": "Nancy Best",
                        "id": "9ce3d3c8-4b37-40a6-a15d-adf860a31870",
                        "tenantId": ""
                      }
                    },
                    {
                      "totalAttendanceInSeconds": 3240,
                      "role": "Student",
                      "emailAddress": "ToddMLeclair@contoso.org",
                      "attendanceIntervals": [
                        {
                          "durationInSeconds": 3240,
                          "joinDateTime": "2022-1-17T14:49:00.00Z",
                          "leaveDateTime": "2022-1-17T15:43:00.00Z"
                        }
                      ],
                      "identity": {
                        "displayName": "Todd Leclair",
                        "id": "a3ef1676-3227-4c78-b3fb-049bdf04ac0a",
                        "tenantId": ""
                      }
                    },
                    {
                      "totalAttendanceInSeconds": 2640,
                      "role": "Student",
                      "emailAddress": "HeatherFSmith@contoso.org",
                      "attendanceIntervals": [
                        {
                          "durationInSeconds": 2640,
                          "joinDateTime": "2022-1-17T14:48:00.00Z",
                          "leaveDateTime": "2022-1-17T15:32:00.00Z"
                        }
                      ],
                      "identity": {
                        "displayName": "Heather Smith",
                        "id": "651e8651-037c-49b5-940d-079d0d0b3130",
                        "tenantId": ""
                      }
                    },
                    {
                      "totalAttendanceInSeconds": 2940,
                      "role": "Student",
                      "emailAddress": "HelenDArnold@contoso.org",
                      "attendanceIntervals": [
                        {
                          "durationInSeconds": 2940,
                          "joinDateTime": "2022-1-17T14:50:00.00Z",
                          "leaveDateTime": "2022-1-17T15:39:00.00Z"
                        }
                      ],
                      "identity": {
                        "displayName": "Helen Arnold",
                        "id": "d6c8f44c-91e1-4f58-a916-f635d08c93eb",
                        "tenantId": ""
                      }
                    },
                    {
                      "totalAttendanceInSeconds": 2640,
                      "role": "Student",
                      "emailAddress": "RonnieABoyd@contoso.org",
                      "attendanceIntervals": [
                        {
                          "durationInSeconds": 2640,
                          "joinDateTime": "2022-1-17T14:48:00.00Z",
                          "leaveDateTime": "2022-1-17T15:32:00.00Z"
                        }
                      ],
                      "identity": {
                        "displayName": "Ronnie Boyd",
                        "id": "ef39ea62-b739-4bc3-963e-d82089467902",
                        "tenantId": ""
                      }
                    },
                    {
                      "totalAttendanceInSeconds": 2700,
                      "role": "Student",
                      "emailAddress": "AlliePMcGlothlin@contoso.org",
                      "attendanceIntervals": [
                        {
                          "durationInSeconds": 2700,
                          "joinDateTime": "2022-1-17T14:49:00.00Z",
                          "leaveDateTime": "2022-1-17T15:34:00.00Z"
                        }
                      ],
                      "identity": {
                        "displayName": "Allie McGlothlin",
                        "id": "b1f351a8-e041-4835-ad42-933eab79d543",
                        "tenantId": ""
                      }
                    },
                    {
                      "totalAttendanceInSeconds": 2160,
                      "role": "Student",
                      "emailAddress": "AngelaEJameson@contoso.org",
                      "attendanceIntervals": [
                        {
                          "durationInSeconds": 2160,
                          "joinDateTime": "2022-1-17T14:50:00.00Z",
                          "leaveDateTime": "2022-1-17T15:26:00.00Z"
                        }
                      ],
                      "identity": {
                        "displayName": "Angela Jameson",
                        "id": "79e5c3c6-eee9-4e9c-8654-f17dce00333e",
                        "tenantId": ""
                      }
                    },
                    {
                      "totalAttendanceInSeconds": 2940,
                      "role": "Student",
                      "emailAddress": "GarryKHart@contoso.org",
                      "attendanceIntervals": [
                        {
                          "durationInSeconds": 2940,
                          "joinDateTime": "2022-1-17T14:47:00.00Z",
                          "leaveDateTime": "2022-1-17T15:36:00.00Z"
                        }
                      ],
                      "identity": {
                        "displayName": "Garry Hart",
                        "id": "0c178ac8-88b4-4bea-88df-954bc14c1fd9",
                        "tenantId": ""
                      }
                    },
                    {
                      "totalAttendanceInSeconds": 2460,
                      "role": "Student",
                      "emailAddress": "ElsieWWagner@contoso.org",
                      "attendanceIntervals": [
                        {
                          "durationInSeconds": 2460,
                          "joinDateTime": "2022-1-17T14:47:00.00Z",
                          "leaveDateTime": "2022-1-17T15:28:00.00Z"
                        }
                      ],
                      "identity": {
                        "displayName": "Elsie Wagner",
                        "id": "da698590-d491-4cf9-ad77-35116e875cfd",
                        "tenantId": ""
                      }
                    },
                    {
                      "totalAttendanceInSeconds": 3300,
                      "role": "Student",
                      "emailAddress": "KirkSFeliciano@contoso.org",
                      "attendanceIntervals": [
                        {
                          "durationInSeconds": 3300,
                          "joinDateTime": "2022-1-17T14:50:00.00Z",
                          "leaveDateTime": "2022-1-17T15:45:00.00Z"
                        }
                      ],
                      "identity": {
                        "displayName": "Kirk Feliciano",
                        "id": "9c0f7f1f-f86d-40f2-a840-7ac3bf13b070",
                        "tenantId": ""
                      }
                    },
                    {
                      "totalAttendanceInSeconds": 3300,
                      "role": "Student",
                      "emailAddress": "WilburBIngram@contoso.org",
                      "attendanceIntervals": [
                        {
                          "durationInSeconds": 3300,
                          "joinDateTime": "2022-1-17T14:48:00.00Z",
                          "leaveDateTime": "2022-1-17T15:43:00.00Z"
                        }
                      ],
                      "identity": {
                        "displayName": "Wilbur Ingram",
                        "id": "6f4ab288-aded-44ad-8bfe-702ab915f7f3",
                        "tenantId": ""
                      }
                    },
                    {
                      "totalAttendanceInSeconds": 2640,
                      "role": "Student",
                      "emailAddress": "PaulVMoskowitz@contoso.org",
                      "attendanceIntervals": [
                        {
                          "durationInSeconds": 2640,
                          "joinDateTime": "2022-1-17T14:48:00.00Z",
                          "leaveDateTime": "2022-1-17T15:32:00.00Z"
                        }
                      ],
                      "identity": {
                        "displayName": "Paul Moskowitz",
                        "id": "f47574d8-c9db-4b97-ad5e-d1921396e298",
                        "tenantId": ""
                      }
                    },
                    {
                      "totalAttendanceInSeconds": 2520,
                      "role": "Student",
                      "emailAddress": "DavidLThompson@contoso.org",
                      "attendanceIntervals": [
                        {
                          "durationInSeconds": 2520,
                          "joinDateTime": "2022-1-17T14:45:00.00Z",
                          "leaveDateTime": "2022-1-17T15:27:00.00Z"
                        }
                      ],
                      "identity": {
                        "displayName": "David Thompson",
                        "id": "46d61de9-8587-47bb-9589-46fbca622dee",
                        "tenantId": ""
                      }
                    },
                    {
                      "totalAttendanceInSeconds": 3180,
                      "role": "Student",
                      "emailAddress": "GeorgeJSantiago@contoso.org",
                      "attendanceIntervals": [
                        {
                          "durationInSeconds": 3180,
                          "joinDateTime": "2022-1-17T14:45:00.00Z",
                          "leaveDateTime": "2022-1-17T15:38:00.00Z"
                        }
                      ],
                      "identity": {
                        "displayName": "George Santiago",
                        "id": "f206f943-e534-41e2-a81a-ed41c7db3992",
                        "tenantId": ""
                      }
                    },
                    {
                      "totalAttendanceInSeconds": 2280,
                      "role": "Student",
                      "emailAddress": "WilliamMBlackburn@contoso.org",
                      "attendanceIntervals": [
                        {
                          "durationInSeconds": 2280,
                          "joinDateTime": "2022-1-17T14:47:00.00Z",
                          "leaveDateTime": "2022-1-17T15:25:00.00Z"
                        }
                      ],
                      "identity": {
                        "displayName": "William Blackburn",
                        "id": "65cdb379-46fb-4350-90d6-4e6a18291d2d",
                        "tenantId": ""
                      }
                    },
                    {
                      "totalAttendanceInSeconds": 2580,
                      "role": "Student",
                      "emailAddress": "HazelKJones@contoso.org",
                      "attendanceIntervals": [
                        {
                          "durationInSeconds": 2580,
                          "joinDateTime": "2022-1-17T14:48:00.00Z",
                          "leaveDateTime": "2022-1-17T15:31:00.00Z"
                        }
                      ],
                      "identity": {
                        "displayName": "Hazel Jones",
                        "id": "2810f2ae-77db-4e0a-977b-d0376fd12222",
                        "tenantId": ""
                      }
                    },
                    {
                      "totalAttendanceInSeconds": 2160,
                      "role": "Student",
                      "emailAddress": "JamesRPaul@contoso.org",
                      "attendanceIntervals": [
                        {
                          "durationInSeconds": 2160,
                          "joinDateTime": "2022-1-17T14:49:00.00Z",
                          "leaveDateTime": "2022-1-17T15:25:00.00Z"
                        }
                      ],
                      "identity": {
                        "displayName": "James Paul",
                        "id": "b37151f3-f2aa-4e2a-84b3-a0fb1f51f7e8",
                        "tenantId": ""
                      }
                    },
                    {
                      "totalAttendanceInSeconds": 3240,
                      "role": "Student",
                      "emailAddress": "StephenJNunn@contoso.org",
                      "attendanceIntervals": [
                        {
                          "durationInSeconds": 3240,
                          "joinDateTime": "2022-1-17T14:49:00.00Z",
                          "leaveDateTime": "2022-1-17T15:43:00.00Z"
                        }
                      ],
                      "identity": {
                        "displayName": "Stephen Nunn",
                        "id": "a9888cde-8e32-4f97-a72a-4fae0cfe1908",
                        "tenantId": ""
                      }
                    }
                  ]
                },
                {
                  "0": "435e7b6b-8810-4d11-b303-19f8b36f2ebd",
                  "1": "57",
                  "2": "2022-1-7T11:45:00.00Z",
                  "3": "2022-1-7T12:30:00.00Z",
                  "4": [
                    {
                      "totalAttendanceInSeconds": 2280,
                      "role": "Student",
                      "emailAddress": "RebeccaDLucas@contoso.org",
                      "attendanceIntervals": [
                        {
                          "durationInSeconds": 2280,
                          "joinDateTime": "2022-1-7T11:50:00.00Z",
                          "leaveDateTime": "2022-1-7T12:28:00.00Z"
                        }
                      ],
                      "identity": {
                        "displayName": "Rebecca Lucas",
                        "id": "4f276ad2-83a6-4a55-b59c-592b69427ca9",
                        "tenantId": ""
                      }
                    },
                    {
                      "totalAttendanceInSeconds": 1560,
                      "role": "Student",
                      "emailAddress": "MaryBBanks@contoso.org",
                      "attendanceIntervals": [
                        {
                          "durationInSeconds": 1560,
                          "joinDateTime": "2022-1-7T11:46:00.00Z",
                          "leaveDateTime": "2022-1-7T12:12:00.00Z"
                        }
                      ],
                      "identity": {
                        "displayName": "Mary Banks",
                        "id": "0cafc08b-c79e-4a76-8e15-88d778ae24b1",
                        "tenantId": ""
                      }
                    },
                    {
                      "totalAttendanceInSeconds": 1440,
                      "role": "Student",
                      "emailAddress": "JasonBMoore@contoso.org",
                      "attendanceIntervals": [
                        {
                          "durationInSeconds": 1440,
                          "joinDateTime": "2022-1-7T11:46:00.00Z",
                          "leaveDateTime": "2022-1-7T12:10:00.00Z"
                        }
                      ],
                      "identity": {
                        "displayName": "Jason Moore",
                        "id": "a7b58425-fdd2-4bf1-92cf-f66761c8de8e",
                        "tenantId": ""
                      }
                    },
                    {
                      "totalAttendanceInSeconds": 1500,
                      "role": "Student",
                      "emailAddress": "DoraIHernandez@contoso.org",
                      "attendanceIntervals": [
                        {
                          "durationInSeconds": 1500,
                          "joinDateTime": "2022-1-7T11:45:00.00Z",
                          "leaveDateTime": "2022-1-7T12:10:00.00Z"
                        }
                      ],
                      "identity": {
                        "displayName": "Dora Hernandez",
                        "id": "8c7d250b-59a9-4c78-a0a4-da7853d0e856",
                        "tenantId": ""
                      }
                    },
                    {
                      "totalAttendanceInSeconds": 2100,
                      "role": "Student",
                      "emailAddress": "BenjaminHHollins@contoso.org",
                      "attendanceIntervals": [
                        {
                          "durationInSeconds": 2100,
                          "joinDateTime": "2022-1-7T11:46:00.00Z",
                          "leaveDateTime": "2022-1-7T12:21:00.00Z"
                        }
                      ],
                      "identity": {
                        "displayName": "Benjamin Hollins",
                        "id": "226aa81d-a725-493f-8d7d-36a0952e8390",
                        "tenantId": ""
                      }
                    },
                    {
                      "totalAttendanceInSeconds": 2400,
                      "role": "Student",
                      "emailAddress": "DebbieBBlackwell@contoso.org",
                      "attendanceIntervals": [
                        {
                          "durationInSeconds": 2400,
                          "joinDateTime": "2022-1-7T11:47:00.00Z",
                          "leaveDateTime": "2022-1-7T12:27:00.00Z"
                        }
                      ],
                      "identity": {
                        "displayName": "Debbie Blackwell",
                        "id": "2fb26bb5-35e3-4a1c-bbc5-754825da6b92",
                        "tenantId": ""
                      }
                    },
                    {
                      "totalAttendanceInSeconds": 1860,
                      "role": "Student",
                      "emailAddress": "ClaudiaWDesai@contoso.org",
                      "attendanceIntervals": [
                        {
                          "durationInSeconds": 1860,
                          "joinDateTime": "2022-1-7T11:46:00.00Z",
                          "leaveDateTime": "2022-1-7T12:17:00.00Z"
                        }
                      ],
                      "identity": {
                        "displayName": "Claudia Desai",
                        "id": "1aee3441-b3a0-4995-840d-789249e43663",
                        "tenantId": ""
                      }
                    },
                    {
                      "totalAttendanceInSeconds": 1920,
                      "role": "Student",
                      "emailAddress": "ScottVVillagomez@contoso.org",
                      "attendanceIntervals": [
                        {
                          "durationInSeconds": 1920,
                          "joinDateTime": "2022-1-7T11:45:00.00Z",
                          "leaveDateTime": "2022-1-7T12:17:00.00Z"
                        }
                      ],
                      "identity": {
                        "displayName": "Scott Villagomez",
                        "id": "2eab5439-c587-4fe1-bf8c-f1e194979967",
                        "tenantId": ""
                      }
                    },
                    {
                      "totalAttendanceInSeconds": 2100,
                      "role": "Student",
                      "emailAddress": "SaraPSilveira@contoso.org",
                      "attendanceIntervals": [
                        {
                          "durationInSeconds": 2100,
                          "joinDateTime": "2022-1-7T11:48:00.00Z",
                          "leaveDateTime": "2022-1-7T12:23:00.00Z"
                        }
                      ],
                      "identity": {
                        "displayName": "Sara Silveira",
                        "id": "87859c78-a388-4ccb-a332-128332a1be00",
                        "tenantId": ""
                      }
                    },
                    {
                      "totalAttendanceInSeconds": 1320,
                      "role": "Student",
                      "emailAddress": "ShamikaJGregory@contoso.org",
                      "attendanceIntervals": [
                        {
                          "durationInSeconds": 1320,
                          "joinDateTime": "2022-1-7T11:50:00.00Z",
                          "leaveDateTime": "2022-1-7T12:12:00.00Z"
                        }
                      ],
                      "identity": {
                        "displayName": "Shamika Gregory",
                        "id": "d5eed8ae-0d1b-40c8-8716-602f19c6d4b3",
                        "tenantId": ""
                      }
                    },
                    {
                      "totalAttendanceInSeconds": 2640,
                      "role": "Student",
                      "emailAddress": "JuliaAGonzalez@contoso.org",
                      "attendanceIntervals": [
                        {
                          "durationInSeconds": 2640,
                          "joinDateTime": "2022-1-7T11:45:00.00Z",
                          "leaveDateTime": "2022-1-7T12:29:00.00Z"
                        }
                      ],
                      "identity": {
                        "displayName": "Julia Gonzalez",
                        "id": "a2cdbe39-57c6-4d3a-b36d-0f8a12db04d0",
                        "tenantId": ""
                      }
                    },
                    {
                      "totalAttendanceInSeconds": 1620,
                      "role": "Student",
                      "emailAddress": "CarlTMcCray@contoso.org",
                      "attendanceIntervals": [
                        {
                          "durationInSeconds": 1620,
                          "joinDateTime": "2022-1-7T11:50:00.00Z",
                          "leaveDateTime": "2022-1-7T12:17:00.00Z"
                        }
                      ],
                      "identity": {
                        "displayName": "Carl McCray",
                        "id": "a690a55a-a7d8-4b6a-8429-b89869314c5d",
                        "tenantId": ""
                      }
                    },
                    {
                      "totalAttendanceInSeconds": 1680,
                      "role": "Student",
                      "emailAddress": "MarthaTMcLaughlin@contoso.org",
                      "attendanceIntervals": [
                        {
                          "durationInSeconds": 1680,
                          "joinDateTime": "2022-1-7T11:47:00.00Z",
                          "leaveDateTime": "2022-1-7T12:15:00.00Z"
                        }
                      ],
                      "identity": {
                        "displayName": "Martha McLaughlin",
                        "id": "d636abe1-0e5f-4fb3-baae-7f97e13a298c",
                        "tenantId": ""
                      }
                    },
                    {
                      "totalAttendanceInSeconds": 1560,
                      "role": "Student",
                      "emailAddress": "RachelHLukasik@contoso.org",
                      "attendanceIntervals": [
                        {
                          "durationInSeconds": 1560,
                          "joinDateTime": "2022-1-7T11:46:00.00Z",
                          "leaveDateTime": "2022-1-7T12:12:00.00Z"
                        }
                      ],
                      "identity": {
                        "displayName": "Rachel Lukasik",
                        "id": "3169496c-626c-4e44-bee2-8c21b407c529",
                        "tenantId": ""
                      }
                    },
                    {
                      "totalAttendanceInSeconds": 2460,
                      "role": "Student",
                      "emailAddress": "VanessaMSchmidt@contoso.org",
                      "attendanceIntervals": [
                        {
                          "durationInSeconds": 2460,
                          "joinDateTime": "2022-1-7T11:48:00.00Z",
                          "leaveDateTime": "2022-1-7T12:29:00.00Z"
                        }
                      ],
                      "identity": {
                        "displayName": "Vanessa Schmidt",
                        "id": "f8b56c4e-435a-4d0d-bb79-393d6d52eac2",
                        "tenantId": ""
                      }
                    },
                    {
                      "totalAttendanceInSeconds": 2520,
                      "role": "Student",
                      "emailAddress": "JohnEReynolds@contoso.org",
                      "attendanceIntervals": [
                        {
                          "durationInSeconds": 2520,
                          "joinDateTime": "2022-1-7T11:47:00.00Z",
                          "leaveDateTime": "2022-1-7T12:29:00.00Z"
                        }
                      ],
                      "identity": {
                        "displayName": "John Reynolds",
                        "id": "f69ce4bb-5618-41bf-9187-fe5b9d50f060",
                        "tenantId": ""
                      }
                    },
                    {
                      "totalAttendanceInSeconds": 1440,
                      "role": "Student",
                      "emailAddress": "BonnieHBello@contoso.org",
                      "attendanceIntervals": [
                        {
                          "durationInSeconds": 1440,
                          "joinDateTime": "2022-1-7T11:47:00.00Z",
                          "leaveDateTime": "2022-1-7T12:11:00.00Z"
                        }
                      ],
                      "identity": {
                        "displayName": "Bonnie Bello",
                        "id": "00bed1be-4a52-4bfa-802a-ecf7891f01a6",
                        "tenantId": ""
                      }
                    },
                    {
                      "totalAttendanceInSeconds": 2040,
                      "role": "Student",
                      "emailAddress": "TabithaCMorales@contoso.org",
                      "attendanceIntervals": [
                        {
                          "durationInSeconds": 2040,
                          "joinDateTime": "2022-1-7T11:50:00.00Z",
                          "leaveDateTime": "2022-1-7T12:24:00.00Z"
                        }
                      ],
                      "identity": {
                        "displayName": "Tabitha Morales",
                        "id": "6eba85cf-9f59-44f2-bf85-1c1bbcc83a45",
                        "tenantId": ""
                      }
                    },
                    {
                      "totalAttendanceInSeconds": 1740,
                      "role": "Student",
                      "emailAddress": "CourtneyJElwell@contoso.org",
                      "attendanceIntervals": [
                        {
                          "durationInSeconds": 1740,
                          "joinDateTime": "2022-1-7T11:45:00.00Z",
                          "leaveDateTime": "2022-1-7T12:14:00.00Z"
                        }
                      ],
                      "identity": {
                        "displayName": "Courtney Elwell",
                        "id": "f92e3d49-9637-41cb-a804-d078f1b3998c",
                        "tenantId": ""
                      }
                    },
                    {
                      "totalAttendanceInSeconds": 1860,
                      "role": "Student",
                      "emailAddress": "MarthaRGrace@contoso.org",
                      "attendanceIntervals": [
                        {
                          "durationInSeconds": 1860,
                          "joinDateTime": "2022-1-7T11:48:00.00Z",
                          "leaveDateTime": "2022-1-7T12:19:00.00Z"
                        }
                      ],
                      "identity": {
                        "displayName": "Martha Grace",
                        "id": "1b78784a-5709-45de-a6ee-d7325effbb1c",
                        "tenantId": ""
                      }
                    },
                    {
                      "totalAttendanceInSeconds": 2160,
                      "role": "Student",
                      "emailAddress": "RachelGRamsey@contoso.org",
                      "attendanceIntervals": [
                        {
                          "durationInSeconds": 2160,
                          "joinDateTime": "2022-1-7T11:45:00.00Z",
                          "leaveDateTime": "2022-1-7T12:21:00.00Z"
                        }
                      ],
                      "identity": {
                        "displayName": "Rachel Ramsey",
                        "id": "40ee7744-a6c9-4be6-a7a5-17153f37ee26",
                        "tenantId": ""
                      }
                    },
                    {
                      "totalAttendanceInSeconds": 2160,
                      "role": "Student",
                      "emailAddress": "TeresaDWoods@contoso.org",
                      "attendanceIntervals": [
                        {
                          "durationInSeconds": 2160,
                          "joinDateTime": "2022-1-7T11:49:00.00Z",
                          "leaveDateTime": "2022-1-7T12:25:00.00Z"
                        }
                      ],
                      "identity": {
                        "displayName": "Teresa Woods",
                        "id": "44d5b24c-07a1-4fe4-9536-adb3fae6348f",
                        "tenantId": ""
                      }
                    },
                    {
                      "totalAttendanceInSeconds": 1680,
                      "role": "Student",
                      "emailAddress": "LoisHRecinos@contoso.org",
                      "attendanceIntervals": [
                        {
                          "durationInSeconds": 1680,
                          "joinDateTime": "2022-1-7T11:50:00.00Z",
                          "leaveDateTime": "2022-1-7T12:18:00.00Z"
                        }
                      ],
                      "identity": {
                        "displayName": "Lois Recinos",
                        "id": "a5b205a5-6170-4f83-9b0c-a42e0cd12cdb",
                        "tenantId": ""
                      }
                    },
                    {
                      "totalAttendanceInSeconds": 2520,
                      "role": "Student",
                      "emailAddress": "BelindaNLeiser@contoso.org",
                      "attendanceIntervals": [
                        {
                          "durationInSeconds": 2520,
                          "joinDateTime": "2022-1-7T11:47:00.00Z",
                          "leaveDateTime": "2022-1-7T12:29:00.00Z"
                        }
                      ],
                      "identity": {
                        "displayName": "Belinda Leiser",
                        "id": "4b4c8f51-7a20-45b3-b6f3-2212af34522e",
                        "tenantId": ""
                      }
                    },
                    {
                      "totalAttendanceInSeconds": 2100,
                      "role": "Student",
                      "emailAddress": "BradleyCWilmoth@contoso.org",
                      "attendanceIntervals": [
                        {
                          "durationInSeconds": 2100,
                          "joinDateTime": "2022-1-7T11:47:00.00Z",
                          "leaveDateTime": "2022-1-7T12:22:00.00Z"
                        }
                      ],
                      "identity": {
                        "displayName": "Bradley Wilmoth",
                        "id": "20338e4e-0276-485d-b499-3d6988c629bf",
                        "tenantId": ""
                      }
                    },
                    {
                      "totalAttendanceInSeconds": 2280,
                      "role": "Student",
                      "emailAddress": "RachelRSanchez@contoso.org",
                      "attendanceIntervals": [
                        {
                          "durationInSeconds": 2280,
                          "joinDateTime": "2022-1-7T11:46:00.00Z",
                          "leaveDateTime": "2022-1-7T12:24:00.00Z"
                        }
                      ],
                      "identity": {
                        "displayName": "Rachel Sanchez",
                        "id": "19bd65c0-160b-4563-8175-f8a55163e059",
                        "tenantId": ""
                      }
                    },
                    {
                      "totalAttendanceInSeconds": 2340,
                      "role": "Student",
                      "emailAddress": "HectorMScott@contoso.org",
                      "attendanceIntervals": [
                        {
                          "durationInSeconds": 2340,
                          "joinDateTime": "2022-1-7T11:48:00.00Z",
                          "leaveDateTime": "2022-1-7T12:27:00.00Z"
                        }
                      ],
                      "identity": {
                        "displayName": "Hector Scott",
                        "id": "8be228a8-c642-4ed6-8251-de6ca831a197",
                        "tenantId": ""
                      }
                    },
                    {
                      "totalAttendanceInSeconds": 1860,
                      "role": "Student",
                      "emailAddress": "LethaAJohnson@contoso.org",
                      "attendanceIntervals": [
                        {
                          "durationInSeconds": 1860,
                          "joinDateTime": "2022-1-7T11:47:00.00Z",
                          "leaveDateTime": "2022-1-7T12:18:00.00Z"
                        }
                      ],
                      "identity": {
                        "displayName": "Letha Johnson",
                        "id": "45cb53f2-5205-4786-a0a5-e5f6f2fdd403",
                        "tenantId": ""
                      }
                    },
                    {
                      "totalAttendanceInSeconds": 2640,
                      "role": "Student",
                      "emailAddress": "MatthewMAlston@contoso.org",
                      "attendanceIntervals": [
                        {
                          "durationInSeconds": 2640,
                          "joinDateTime": "2022-1-7T11:46:00.00Z",
                          "leaveDateTime": "2022-1-7T12:30:00.00Z"
                        }
                      ],
                      "identity": {
                        "displayName": "Matthew Alston",
                        "id": "fc3c5426-9cda-43b7-9a1a-996df458cf85",
                        "tenantId": ""
                      }
                    },
                    {
                      "totalAttendanceInSeconds": 2640,
                      "role": "Student",
                      "emailAddress": "KristyAHedberg@contoso.org",
                      "attendanceIntervals": [
                        {
                          "durationInSeconds": 2640,
                          "joinDateTime": "2022-1-7T11:46:00.00Z",
                          "leaveDateTime": "2022-1-7T12:30:00.00Z"
                        }
                      ],
                      "identity": {
                        "displayName": "Kristy Hedberg",
                        "id": "3405bcb8-6d6a-4f7a-9ce5-6e8c517a12e3",
                        "tenantId": ""
                      }
                    },
                    {
                      "totalAttendanceInSeconds": 2460,
                      "role": "Student",
                      "emailAddress": "JoanJEstrada@contoso.org",
                      "attendanceIntervals": [
                        {
                          "durationInSeconds": 2460,
                          "joinDateTime": "2022-1-7T11:49:00.00Z",
                          "leaveDateTime": "2022-1-7T12:30:00.00Z"
                        }
                      ],
                      "identity": {
                        "displayName": "Joan Estrada",
                        "id": "8d707e16-e0dc-4fc2-9b9f-09f459eaec98",
                        "tenantId": ""
                      }
                    },
                    {
                      "totalAttendanceInSeconds": 2460,
                      "role": "Student",
                      "emailAddress": "ManaJNault@contoso.org",
                      "attendanceIntervals": [
                        {
                          "durationInSeconds": 2460,
                          "joinDateTime": "2022-1-7T11:46:00.00Z",
                          "leaveDateTime": "2022-1-7T12:27:00.00Z"
                        }
                      ],
                      "identity": {
                        "displayName": "Mana Nault",
                        "id": "05011c85-7378-4263-b761-c379983bd5c3",
                        "tenantId": ""
                      }
                    },
                    {
                      "totalAttendanceInSeconds": 2220,
                      "role": "Student",
                      "emailAddress": "AdrianDMiller@contoso.org",
                      "attendanceIntervals": [
                        {
                          "durationInSeconds": 2220,
                          "joinDateTime": "2022-1-7T11:46:00.00Z",
                          "leaveDateTime": "2022-1-7T12:23:00.00Z"
                        }
                      ],
                      "identity": {
                        "displayName": "Adrian Miller",
                        "id": "0fdfe2bb-159d-4d74-bcde-41eb11c8f2c4",
                        "tenantId": ""
                      }
                    },
                    {
                      "totalAttendanceInSeconds": 1740,
                      "role": "Student",
                      "emailAddress": "RosalieDWalker@contoso.org",
                      "attendanceIntervals": [
                        {
                          "durationInSeconds": 1740,
                          "joinDateTime": "2022-1-7T11:48:00.00Z",
                          "leaveDateTime": "2022-1-7T12:17:00.00Z"
                        }
                      ],
                      "identity": {
                        "displayName": "Rosalie Walker",
                        "id": "cefa9f5d-576f-471d-ab57-f20647b63056",
                        "tenantId": ""
                      }
                    },
                    {
                      "totalAttendanceInSeconds": 1380,
                      "role": "Student",
                      "emailAddress": "WillaEMelendez@contoso.org",
                      "attendanceIntervals": [
                        {
                          "durationInSeconds": 1380,
                          "joinDateTime": "2022-1-7T11:48:00.00Z",
                          "leaveDateTime": "2022-1-7T12:11:00.00Z"
                        }
                      ],
                      "identity": {
                        "displayName": "Willa Melendez",
                        "id": "b0498d32-9501-47e0-8a6d-754e88521f03",
                        "tenantId": ""
                      }
                    },
                    {
                      "totalAttendanceInSeconds": 2460,
                      "role": "Student",
                      "emailAddress": "RobertDRichard@contoso.org",
                      "attendanceIntervals": [
                        {
                          "durationInSeconds": 2460,
                          "joinDateTime": "2022-1-7T11:45:00.00Z",
                          "leaveDateTime": "2022-1-7T12:26:00.00Z"
                        }
                      ],
                      "identity": {
                        "displayName": "Robert Richard",
                        "id": "04a81573-ec2f-492c-bf9c-55d1d2cdd11d",
                        "tenantId": ""
                      }
                    },
                    {
                      "totalAttendanceInSeconds": 2460,
                      "role": "Student",
                      "emailAddress": "HollyACrisp@contoso.org",
                      "attendanceIntervals": [
                        {
                          "durationInSeconds": 2460,
                          "joinDateTime": "2022-1-7T11:46:00.00Z",
                          "leaveDateTime": "2022-1-7T12:27:00.00Z"
                        }
                      ],
                      "identity": {
                        "displayName": "Holly Crisp",
                        "id": "7f6a8bc4-906a-4b2b-8334-5198f4b91d72",
                        "tenantId": ""
                      }
                    },
                    {
                      "totalAttendanceInSeconds": 1380,
                      "role": "Student",
                      "emailAddress": "StuartYCarty@contoso.org",
                      "attendanceIntervals": [
                        {
                          "durationInSeconds": 1380,
                          "joinDateTime": "2022-1-7T11:47:00.00Z",
                          "leaveDateTime": "2022-1-7T12:10:00.00Z"
                        }
                      ],
                      "identity": {
                        "displayName": "Stuart Carty",
                        "id": "a223ab3d-af6b-4ddd-aae0-8620ed4a18c3",
                        "tenantId": ""
                      }
                    },
                    {
                      "totalAttendanceInSeconds": 1440,
                      "role": "Student",
                      "emailAddress": "BettyDRose@contoso.org",
                      "attendanceIntervals": [
                        {
                          "durationInSeconds": 1440,
                          "joinDateTime": "2022-1-7T11:48:00.00Z",
                          "leaveDateTime": "2022-1-7T12:12:00.00Z"
                        }
                      ],
                      "identity": {
                        "displayName": "Betty Rose",
                        "id": "2b20a68a-d700-4859-b52d-9a4b97534104",
                        "tenantId": ""
                      }
                    },
                    {
                      "totalAttendanceInSeconds": 1500,
                      "role": "Student",
                      "emailAddress": "HarveyLBoothe@contoso.org",
                      "attendanceIntervals": [
                        {
                          "durationInSeconds": 1500,
                          "joinDateTime": "2022-1-7T11:46:00.00Z",
                          "leaveDateTime": "2022-1-7T12:11:00.00Z"
                        }
                      ],
                      "identity": {
                        "displayName": "Harvey Boothe",
                        "id": "1124249e-998e-4052-9b3d-4fcd23d0ff83",
                        "tenantId": ""
                      }
                    },
                    {
                      "totalAttendanceInSeconds": 2040,
                      "role": "Student",
                      "emailAddress": "JoeVPerry@contoso.org",
                      "attendanceIntervals": [
                        {
                          "durationInSeconds": 2040,
                          "joinDateTime": "2022-1-7T11:50:00.00Z",
                          "leaveDateTime": "2022-1-7T12:24:00.00Z"
                        }
                      ],
                      "identity": {
                        "displayName": "Joe Perry",
                        "id": "2c6986c5-6f65-4315-b028-5c4e1a59809a",
                        "tenantId": ""
                      }
                    },
                    {
                      "totalAttendanceInSeconds": 1920,
                      "role": "Student",
                      "emailAddress": "IdaWPetty@contoso.org",
                      "attendanceIntervals": [
                        {
                          "durationInSeconds": 1920,
                          "joinDateTime": "2022-1-7T11:45:00.00Z",
                          "leaveDateTime": "2022-1-7T12:17:00.00Z"
                        }
                      ],
                      "identity": {
                        "displayName": "Ida Petty",
                        "id": "e203e864-f101-4aa2-ba6d-2345ac1db60f",
                        "tenantId": ""
                      }
                    },
                    {
                      "totalAttendanceInSeconds": 1260,
                      "role": "Student",
                      "emailAddress": "JoeyLFrey@contoso.org",
                      "attendanceIntervals": [
                        {
                          "durationInSeconds": 1260,
                          "joinDateTime": "2022-1-7T11:50:00.00Z",
                          "leaveDateTime": "2022-1-7T12:11:00.00Z"
                        }
                      ],
                      "identity": {
                        "displayName": "Joey Frey",
                        "id": "fa91322a-e7b3-4311-8e7b-7304add3480b",
                        "tenantId": ""
                      }
                    },
                    {
                      "totalAttendanceInSeconds": 2340,
                      "role": "Student",
                      "emailAddress": "OlaWStrauser@contoso.org",
                      "attendanceIntervals": [
                        {
                          "durationInSeconds": 2340,
                          "joinDateTime": "2022-1-7T11:46:00.00Z",
                          "leaveDateTime": "2022-1-7T12:25:00.00Z"
                        }
                      ],
                      "identity": {
                        "displayName": "Ola Strauser",
                        "id": "43d00955-e922-40a7-9828-ecd7f84db083",
                        "tenantId": ""
                      }
                    },
                    {
                      "totalAttendanceInSeconds": 1860,
                      "role": "Student",
                      "emailAddress": "RandyKCota@contoso.org",
                      "attendanceIntervals": [
                        {
                          "durationInSeconds": 1860,
                          "joinDateTime": "2022-1-7T11:47:00.00Z",
                          "leaveDateTime": "2022-1-7T12:18:00.00Z"
                        }
                      ],
                      "identity": {
                        "displayName": "Randy Cota",
                        "id": "3ff292c6-0d0e-48c9-92cb-ca9d89e7a2a6",
                        "tenantId": ""
                      }
                    },
                    {
                      "totalAttendanceInSeconds": 2160,
                      "role": "Student",
                      "emailAddress": "JanieEMeinhardt@contoso.org",
                      "attendanceIntervals": [
                        {
                          "durationInSeconds": 2160,
                          "joinDateTime": "2022-1-7T11:47:00.00Z",
                          "leaveDateTime": "2022-1-7T12:23:00.00Z"
                        }
                      ],
                      "identity": {
                        "displayName": "Janie Meinhardt",
                        "id": "e35e11eb-d65c-4050-8221-a849aec34255",
                        "tenantId": ""
                      }
                    },
                    {
                      "totalAttendanceInSeconds": 1740,
                      "role": "Student",
                      "emailAddress": "ElizabethRShields@contoso.org",
                      "attendanceIntervals": [
                        {
                          "durationInSeconds": 1740,
                          "joinDateTime": "2022-1-7T11:48:00.00Z",
                          "leaveDateTime": "2022-1-7T12:17:00.00Z"
                        }
                      ],
                      "identity": {
                        "displayName": "Elizabeth Shields",
                        "id": "153352b9-6729-4acc-9d1f-7aba44fa307e",
                        "tenantId": ""
                      }
                    },
                    {
                      "totalAttendanceInSeconds": 1860,
                      "role": "Student",
                      "emailAddress": "TimothyADaley@contoso.org",
                      "attendanceIntervals": [
                        {
                          "durationInSeconds": 1860,
                          "joinDateTime": "2022-1-7T11:46:00.00Z",
                          "leaveDateTime": "2022-1-7T12:17:00.00Z"
                        }
                      ],
                      "identity": {
                        "displayName": "Timothy Daley",
                        "id": "99973390-9e03-46da-a5c7-943e8379f398",
                        "tenantId": ""
                      }
                    },
                    {
                      "totalAttendanceInSeconds": 2400,
                      "role": "Student",
                      "emailAddress": "MarkAMoore@contoso.org",
                      "attendanceIntervals": [
                        {
                          "durationInSeconds": 2400,
                          "joinDateTime": "2022-1-7T11:49:00.00Z",
                          "leaveDateTime": "2022-1-7T12:29:00.00Z"
                        }
                      ],
                      "identity": {
                        "displayName": "Mark Moore",
                        "id": "b53fae07-7576-4086-9296-643086042bf7",
                        "tenantId": ""
                      }
                    },
                    {
                      "totalAttendanceInSeconds": 1560,
                      "role": "Student",
                      "emailAddress": "PageWGarcia@contoso.org",
                      "attendanceIntervals": [
                        {
                          "durationInSeconds": 1560,
                          "joinDateTime": "2022-1-7T11:47:00.00Z",
                          "leaveDateTime": "2022-1-7T12:13:00.00Z"
                        }
                      ],
                      "identity": {
                        "displayName": "Page Garcia",
                        "id": "93658ce3-b736-4a82-b023-108b0f146d23",
                        "tenantId": ""
                      }
                    },
                    {
                      "totalAttendanceInSeconds": 2100,
                      "role": "Student",
                      "emailAddress": "LeahJWenzel@contoso.org",
                      "attendanceIntervals": [
                        {
                          "durationInSeconds": 2100,
                          "joinDateTime": "2022-1-7T11:48:00.00Z",
                          "leaveDateTime": "2022-1-7T12:23:00.00Z"
                        }
                      ],
                      "identity": {
                        "displayName": "Leah Wenzel",
                        "id": "ac5e9ee7-c1e6-472d-a615-9d9af8cabfb2",
                        "tenantId": ""
                      }
                    },
                    {
                      "totalAttendanceInSeconds": 2340,
                      "role": "Student",
                      "emailAddress": "EllaJCole@contoso.org",
                      "attendanceIntervals": [
                        {
                          "durationInSeconds": 2340,
                          "joinDateTime": "2022-1-7T11:49:00.00Z",
                          "leaveDateTime": "2022-1-7T12:28:00.00Z"
                        }
                      ],
                      "identity": {
                        "displayName": "Ella Cole",
                        "id": "ab9e99e8-864a-4db1-9f6b-3db81dfb01c7",
                        "tenantId": ""
                      }
                    },
                    {
                      "totalAttendanceInSeconds": 1380,
                      "role": "Student",
                      "emailAddress": "AlyseDHatcher@contoso.org",
                      "attendanceIntervals": [
                        {
                          "durationInSeconds": 1380,
                          "joinDateTime": "2022-1-7T11:50:00.00Z",
                          "leaveDateTime": "2022-1-7T12:13:00.00Z"
                        }
                      ],
                      "identity": {
                        "displayName": "Alyse Hatcher",
                        "id": "35150b61-0982-4508-a33d-fd906e5436c5",
                        "tenantId": ""
                      }
                    },
                    {
                      "totalAttendanceInSeconds": 2220,
                      "role": "Student",
                      "emailAddress": "MichaelMWilliamson@contoso.org",
                      "attendanceIntervals": [
                        {
                          "durationInSeconds": 2220,
                          "joinDateTime": "2022-1-7T11:50:00.00Z",
                          "leaveDateTime": "2022-1-7T12:27:00.00Z"
                        }
                      ],
                      "identity": {
                        "displayName": "Michael Williamson",
                        "id": "ab5f03d2-28af-421f-8cb8-20b1bb21e8ee",
                        "tenantId": ""
                      }
                    },
                    {
                      "totalAttendanceInSeconds": 1380,
                      "role": "Student",
                      "emailAddress": "AnnaLVance@contoso.org",
                      "attendanceIntervals": [
                        {
                          "durationInSeconds": 1380,
                          "joinDateTime": "2022-1-7T11:48:00.00Z",
                          "leaveDateTime": "2022-1-7T12:11:00.00Z"
                        }
                      ],
                      "identity": {
                        "displayName": "Anna Vance",
                        "id": "c0ffc59d-819b-4901-85fd-ca842d28441d",
                        "tenantId": ""
                      }
                    },
                    {
                      "totalAttendanceInSeconds": 2040,
                      "role": "Student",
                      "emailAddress": "LonnieLStanley@contoso.org",
                      "attendanceIntervals": [
                        {
                          "durationInSeconds": 2040,
                          "joinDateTime": "2022-1-7T11:46:00.00Z",
                          "leaveDateTime": "2022-1-7T12:20:00.00Z"
                        }
                      ],
                      "identity": {
                        "displayName": "Lonnie Stanley",
                        "id": "06016255-91b4-4bf1-a70e-3468e463857f",
                        "tenantId": ""
                      }
                    }
                  ]
                },
                {
                  "0": "52f86ca2-cee1-4b75-95a1-4ca17fd1f15d",
                  "1": "58",
                  "2": "2022-1-27T12:30:00.00Z",
                  "3": "2022-1-27T14:0:00.00Z",
                  "4": [
                    {
                      "totalAttendanceInSeconds": 8640,
                      "role": "Student",
                      "emailAddress": "JohnMYamamoto@contoso.org",
                      "attendanceIntervals": [
                        {
                          "durationInSeconds": 8640,
                          "joinDateTime": "2022-1-27T12:33:00.00Z",
                          "leaveDateTime": "2022-1-27T14:57:00.00Z"
                        }
                      ],
                      "identity": {
                        "displayName": "John Yamamoto",
                        "id": "f3c50ff5-43f2-405b-8fc7-b6588009fbbe",
                        "tenantId": ""
                      }
                    },
                    {
                      "totalAttendanceInSeconds": 8100,
                      "role": "Student",
                      "emailAddress": "GeorgePStice@contoso.org",
                      "attendanceIntervals": [
                        {
                          "durationInSeconds": 8100,
                          "joinDateTime": "2022-1-27T12:32:00.00Z",
                          "leaveDateTime": "2022-1-27T14:47:00.00Z"
                        }
                      ],
                      "identity": {
                        "displayName": "George Stice",
                        "id": "668b3d39-9c10-4acc-a571-600ff9029bd3",
                        "tenantId": ""
                      }
                    },
                    {
                      "totalAttendanceInSeconds": 8820,
                      "role": "Student",
                      "emailAddress": "JimKWhite@contoso.org",
                      "attendanceIntervals": [
                        {
                          "durationInSeconds": 8820,
                          "joinDateTime": "2022-1-27T12:31:00.00Z",
                          "leaveDateTime": "2022-1-27T14:58:00.00Z"
                        }
                      ],
                      "identity": {
                        "displayName": "Jim White",
                        "id": "6cfeff48-4343-4648-92ad-d21e3b4b7d12",
                        "tenantId": ""
                      }
                    },
                    {
                      "totalAttendanceInSeconds": 8520,
                      "role": "Student",
                      "emailAddress": "WilliamBHumphrey@contoso.org",
                      "attendanceIntervals": [
                        {
                          "durationInSeconds": 8520,
                          "joinDateTime": "2022-1-27T12:32:00.00Z",
                          "leaveDateTime": "2022-1-27T14:54:00.00Z"
                        }
                      ],
                      "identity": {
                        "displayName": "William Humphrey",
                        "id": "7447d717-65a3-424e-879c-49575f49b9aa",
                        "tenantId": ""
                      }
                    },
                    {
                      "totalAttendanceInSeconds": 8520,
                      "role": "Student",
                      "emailAddress": "RyanNRitchie@contoso.org",
                      "attendanceIntervals": [
                        {
                          "durationInSeconds": 8520,
                          "joinDateTime": "2022-1-27T12:31:00.00Z",
                          "leaveDateTime": "2022-1-27T14:53:00.00Z"
                        }
                      ],
                      "identity": {
                        "displayName": "Ryan Ritchie",
                        "id": "907b0838-48d2-4c50-ae9f-a0c8c4724fa7",
                        "tenantId": ""
                      }
                    },
                    {
                      "totalAttendanceInSeconds": 7980,
                      "role": "Student",
                      "emailAddress": "InezCIsbell@contoso.org",
                      "attendanceIntervals": [
                        {
                          "durationInSeconds": 7980,
                          "joinDateTime": "2022-1-27T12:33:00.00Z",
                          "leaveDateTime": "2022-1-27T14:46:00.00Z"
                        }
                      ],
                      "identity": {
                        "displayName": "Inez Isbell",
                        "id": "b87db641-9abc-4a89-ab92-bc1bc99ada2e",
                        "tenantId": ""
                      }
                    },
                    {
                      "totalAttendanceInSeconds": 8040,
                      "role": "Student",
                      "emailAddress": "CarolRSmith@contoso.org",
                      "attendanceIntervals": [
                        {
                          "durationInSeconds": 8040,
                          "joinDateTime": "2022-1-27T12:35:00.00Z",
                          "leaveDateTime": "2022-1-27T14:49:00.00Z"
                        }
                      ],
                      "identity": {
                        "displayName": "Carol Smith",
                        "id": "28d5987f-0363-4500-a2a6-568f9e5fb3fd",
                        "tenantId": ""
                      }
                    },
                    {
                      "totalAttendanceInSeconds": 7800,
                      "role": "Student",
                      "emailAddress": "StephanieLNokes@contoso.org",
                      "attendanceIntervals": [
                        {
                          "durationInSeconds": 7800,
                          "joinDateTime": "2022-1-27T12:31:00.00Z",
                          "leaveDateTime": "2022-1-27T14:41:00.00Z"
                        }
                      ],
                      "identity": {
                        "displayName": "Stephanie Nokes",
                        "id": "7793701b-a628-42dc-ae67-63ad7273a803",
                        "tenantId": ""
                      }
                    },
                    {
                      "totalAttendanceInSeconds": 8760,
                      "role": "Student",
                      "emailAddress": "LucilleCFirth@contoso.org",
                      "attendanceIntervals": [
                        {
                          "durationInSeconds": 8760,
                          "joinDateTime": "2022-1-27T12:31:00.00Z",
                          "leaveDateTime": "2022-1-27T14:57:00.00Z"
                        }
                      ],
                      "identity": {
                        "displayName": "Lucille Firth",
                        "id": "b416314a-3ce4-4522-99d8-b98e84de22c7",
                        "tenantId": ""
                      }
                    },
                    {
                      "totalAttendanceInSeconds": 8100,
                      "role": "Student",
                      "emailAddress": "GaryTKellner@contoso.org",
                      "attendanceIntervals": [
                        {
                          "durationInSeconds": 8100,
                          "joinDateTime": "2022-1-27T12:35:00.00Z",
                          "leaveDateTime": "2022-1-27T14:50:00.00Z"
                        }
                      ],
                      "identity": {
                        "displayName": "Gary Kellner",
                        "id": "5d0761ff-0833-4b01-a449-c24e331c64dd",
                        "tenantId": ""
                      }
                    },
                    {
                      "totalAttendanceInSeconds": 8400,
                      "role": "Student",
                      "emailAddress": "JasonLAvila@contoso.org",
                      "attendanceIntervals": [
                        {
                          "durationInSeconds": 8400,
                          "joinDateTime": "2022-1-27T12:33:00.00Z",
                          "leaveDateTime": "2022-1-27T14:53:00.00Z"
                        }
                      ],
                      "identity": {
                        "displayName": "Jason Avila",
                        "id": "4028d23c-ce7c-4fdc-8bb6-18a85c2a09ec",
                        "tenantId": ""
                      }
                    },
                    {
                      "totalAttendanceInSeconds": 7620,
                      "role": "Student",
                      "emailAddress": "StephanieJHayward@contoso.org",
                      "attendanceIntervals": [
                        {
                          "durationInSeconds": 7620,
                          "joinDateTime": "2022-1-27T12:32:00.00Z",
                          "leaveDateTime": "2022-1-27T14:39:00.00Z"
                        }
                      ],
                      "identity": {
                        "displayName": "Stephanie Hayward",
                        "id": "59237a7a-4419-4082-8704-da3436976ad2",
                        "tenantId": ""
                      }
                    },
                    {
                      "totalAttendanceInSeconds": 7800,
                      "role": "Student",
                      "emailAddress": "BethLBarker@contoso.org",
                      "attendanceIntervals": [
                        {
                          "durationInSeconds": 7800,
                          "joinDateTime": "2022-1-27T12:34:00.00Z",
                          "leaveDateTime": "2022-1-27T14:44:00.00Z"
                        }
                      ],
                      "identity": {
                        "displayName": "Beth Barker",
                        "id": "560635b6-42ea-432c-b7e2-891e6f86dd3d",
                        "tenantId": ""
                      }
                    },
                    {
                      "totalAttendanceInSeconds": 8040,
                      "role": "Student",
                      "emailAddress": "TheodoreANewberry@contoso.org",
                      "attendanceIntervals": [
                        {
                          "durationInSeconds": 8040,
                          "joinDateTime": "2022-1-27T12:32:00.00Z",
                          "leaveDateTime": "2022-1-27T14:46:00.00Z"
                        }
                      ],
                      "identity": {
                        "displayName": "Theodore Newberry",
                        "id": "ab1ca0e1-7684-40f8-8984-b3a406edd0b8",
                        "tenantId": ""
                      }
                    },
                    {
                      "totalAttendanceInSeconds": 8100,
                      "role": "Student",
                      "emailAddress": "AllisonTErdman@contoso.org",
                      "attendanceIntervals": [
                        {
                          "durationInSeconds": 8100,
                          "joinDateTime": "2022-1-27T12:31:00.00Z",
                          "leaveDateTime": "2022-1-27T14:46:00.00Z"
                        }
                      ],
                      "identity": {
                        "displayName": "Allison Erdman",
                        "id": "966ed08a-fc99-4885-85b9-22762d56c0ea",
                        "tenantId": ""
                      }
                    },
                    {
                      "totalAttendanceInSeconds": 5100,
                      "role": "Student",
                      "emailAddress": "PeterRAmos@contoso.org",
                      "attendanceIntervals": [
                        {
                          "durationInSeconds": 5100,
                          "joinDateTime": "2022-1-27T12:35:00.00Z",
                          "leaveDateTime": "2022-1-27T14:0:00.00Z"
                        }
                      ],
                      "identity": {
                        "displayName": "Peter Amos",
                        "id": "02f57f1c-ad50-42bf-8d8c-5224f5bfcd88",
                        "tenantId": ""
                      }
                    },
                    {
                      "totalAttendanceInSeconds": 8460,
                      "role": "Student",
                      "emailAddress": "LouisACaver@contoso.org",
                      "attendanceIntervals": [
                        {
                          "durationInSeconds": 8460,
                          "joinDateTime": "2022-1-27T12:33:00.00Z",
                          "leaveDateTime": "2022-1-27T14:54:00.00Z"
                        }
                      ],
                      "identity": {
                        "displayName": "Louis Caver",
                        "id": "23e9ffdc-6aa3-4972-b0c6-f3f2c6ddd151",
                        "tenantId": ""
                      }
                    },
                    {
                      "totalAttendanceInSeconds": 7620,
                      "role": "Student",
                      "emailAddress": "FelixJBenton@contoso.org",
                      "attendanceIntervals": [
                        {
                          "durationInSeconds": 7620,
                          "joinDateTime": "2022-1-27T12:35:00.00Z",
                          "leaveDateTime": "2022-1-27T14:42:00.00Z"
                        }
                      ],
                      "identity": {
                        "displayName": "Felix Benton",
                        "id": "0c707f16-b101-402b-b571-8afdb5669f41",
                        "tenantId": ""
                      }
                    },
                    {
                      "totalAttendanceInSeconds": 8520,
                      "role": "Student",
                      "emailAddress": "LaurenCRicci@contoso.org",
                      "attendanceIntervals": [
                        {
                          "durationInSeconds": 8520,
                          "joinDateTime": "2022-1-27T12:35:00.00Z",
                          "leaveDateTime": "2022-1-27T14:57:00.00Z"
                        }
                      ],
                      "identity": {
                        "displayName": "Lauren Ricci",
                        "id": "38bdf37d-a239-4183-8eba-576a71fe4a88",
                        "tenantId": ""
                      }
                    },
                    {
                      "totalAttendanceInSeconds": 8640,
                      "role": "Student",
                      "emailAddress": "SarahJDaly@contoso.org",
                      "attendanceIntervals": [
                        {
                          "durationInSeconds": 8640,
                          "joinDateTime": "2022-1-27T12:32:00.00Z",
                          "leaveDateTime": "2022-1-27T14:56:00.00Z"
                        }
                      ],
                      "identity": {
                        "displayName": "Sarah Daly",
                        "id": "86c1bcc8-37df-4064-8adf-0cf26591fdd3",
                        "tenantId": ""
                      }
                    },
                    {
                      "totalAttendanceInSeconds": 7740,
                      "role": "Student",
                      "emailAddress": "JenniferJAnsley@contoso.org",
                      "attendanceIntervals": [
                        {
                          "durationInSeconds": 7740,
                          "joinDateTime": "2022-1-27T12:34:00.00Z",
                          "leaveDateTime": "2022-1-27T14:43:00.00Z"
                        }
                      ],
                      "identity": {
                        "displayName": "Jennifer Ansley",
                        "id": "e0bf662a-d905-42d7-8081-b3144a2bcc0d",
                        "tenantId": ""
                      }
                    },
                    {
                      "totalAttendanceInSeconds": 7500,
                      "role": "Student",
                      "emailAddress": "KathleenCCassano@contoso.org",
                      "attendanceIntervals": [
                        {
                          "durationInSeconds": 7500,
                          "joinDateTime": "2022-1-27T12:34:00.00Z",
                          "leaveDateTime": "2022-1-27T14:39:00.00Z"
                        }
                      ],
                      "identity": {
                        "displayName": "Kathleen Cassano",
                        "id": "9cc5fd15-c5f7-4baa-8ebe-b048b8a7adad",
                        "tenantId": ""
                      }
                    },
                    {
                      "totalAttendanceInSeconds": 7980,
                      "role": "Student",
                      "emailAddress": "CheriBDeluca@contoso.org",
                      "attendanceIntervals": [
                        {
                          "durationInSeconds": 7980,
                          "joinDateTime": "2022-1-27T12:30:00.00Z",
                          "leaveDateTime": "2022-1-27T14:43:00.00Z"
                        }
                      ],
                      "identity": {
                        "displayName": "Cheri Deluca",
                        "id": "ab58c97c-7460-48c7-924f-7a5859dc1409",
                        "tenantId": ""
                      }
                    },
                    {
                      "totalAttendanceInSeconds": 8760,
                      "role": "Student",
                      "emailAddress": "TanishaJEaton@contoso.org",
                      "attendanceIntervals": [
                        {
                          "durationInSeconds": 8760,
                          "joinDateTime": "2022-1-27T12:30:00.00Z",
                          "leaveDateTime": "2022-1-27T14:56:00.00Z"
                        }
                      ],
                      "identity": {
                        "displayName": "Tanisha Eaton",
                        "id": "02603f1a-1558-4072-ae81-9cea0fae4911",
                        "tenantId": ""
                      }
                    },
                    {
                      "totalAttendanceInSeconds": 7620,
                      "role": "Student",
                      "emailAddress": "MarileeEVirgil@contoso.org",
                      "attendanceIntervals": [
                        {
                          "durationInSeconds": 7620,
                          "joinDateTime": "2022-1-27T12:35:00.00Z",
                          "leaveDateTime": "2022-1-27T14:42:00.00Z"
                        }
                      ],
                      "identity": {
                        "displayName": "Marilee Virgil",
                        "id": "a336fc65-85ee-4d3d-945e-bb8084b7c841",
                        "tenantId": ""
                      }
                    },
                    {
                      "totalAttendanceInSeconds": 7680,
                      "role": "Student",
                      "emailAddress": "MaryFMartindale@contoso.org",
                      "attendanceIntervals": [
                        {
                          "durationInSeconds": 7680,
                          "joinDateTime": "2022-1-27T12:32:00.00Z",
                          "leaveDateTime": "2022-1-27T14:40:00.00Z"
                        }
                      ],
                      "identity": {
                        "displayName": "Mary Martindale",
                        "id": "a71f7656-3dff-40cc-9ee0-a45c82df9c42",
                        "tenantId": ""
                      }
                    },
                    {
                      "totalAttendanceInSeconds": 8100,
                      "role": "Student",
                      "emailAddress": "JamesNNicholas@contoso.org",
                      "attendanceIntervals": [
                        {
                          "durationInSeconds": 8100,
                          "joinDateTime": "2022-1-27T12:33:00.00Z",
                          "leaveDateTime": "2022-1-27T14:48:00.00Z"
                        }
                      ],
                      "identity": {
                        "displayName": "James Nicholas",
                        "id": "1e909d12-5d9e-4f03-8484-6a193ea68bcb",
                        "tenantId": ""
                      }
                    },
                    {
                      "totalAttendanceInSeconds": 8520,
                      "role": "Student",
                      "emailAddress": "RayCMoreno@contoso.org",
                      "attendanceIntervals": [
                        {
                          "durationInSeconds": 8520,
                          "joinDateTime": "2022-1-27T12:31:00.00Z",
                          "leaveDateTime": "2022-1-27T14:53:00.00Z"
                        }
                      ],
                      "identity": {
                        "displayName": "Ray Moreno",
                        "id": "160cb2a4-613b-4716-956e-98affccea0df",
                        "tenantId": ""
                      }
                    },
                    {
                      "totalAttendanceInSeconds": 7620,
                      "role": "Student",
                      "emailAddress": "NathanBGrover@contoso.org",
                      "attendanceIntervals": [
                        {
                          "durationInSeconds": 7620,
                          "joinDateTime": "2022-1-27T12:32:00.00Z",
                          "leaveDateTime": "2022-1-27T14:39:00.00Z"
                        }
                      ],
                      "identity": {
                        "displayName": "Nathan Grover",
                        "id": "815dccf4-e18d-4cad-9e3a-3c10b9725949",
                        "tenantId": ""
                      }
                    },
                    {
                      "totalAttendanceInSeconds": 7800,
                      "role": "Student",
                      "emailAddress": "MichaelAMansfield@contoso.org",
                      "attendanceIntervals": [
                        {
                          "durationInSeconds": 7800,
                          "joinDateTime": "2022-1-27T12:33:00.00Z",
                          "leaveDateTime": "2022-1-27T14:43:00.00Z"
                        }
                      ],
                      "identity": {
                        "displayName": "Michael Mansfield",
                        "id": "6b47c601-6c57-49ce-a5e3-d70cf6aa3868",
                        "tenantId": ""
                      }
                    },
                    {
                      "totalAttendanceInSeconds": 7980,
                      "role": "Student",
                      "emailAddress": "MauriceSVera@contoso.org",
                      "attendanceIntervals": [
                        {
                          "durationInSeconds": 7980,
                          "joinDateTime": "2022-1-27T12:33:00.00Z",
                          "leaveDateTime": "2022-1-27T14:46:00.00Z"
                        }
                      ],
                      "identity": {
                        "displayName": "Maurice Vera",
                        "id": "2d3f7e01-e3b4-49af-aad1-ef16b91dc2a3",
                        "tenantId": ""
                      }
                    },
                    {
                      "totalAttendanceInSeconds": 8520,
                      "role": "Student",
                      "emailAddress": "JenniferNJones@contoso.org",
                      "attendanceIntervals": [
                        {
                          "durationInSeconds": 8520,
                          "joinDateTime": "2022-1-27T12:30:00.00Z",
                          "leaveDateTime": "2022-1-27T14:52:00.00Z"
                        }
                      ],
                      "identity": {
                        "displayName": "Jennifer Jones",
                        "id": "d8f78339-a850-426e-8e33-6eb36e6493c3",
                        "tenantId": ""
                      }
                    },
                    {
                      "totalAttendanceInSeconds": 8220,
                      "role": "Student",
                      "emailAddress": "KennyMLair@contoso.org",
                      "attendanceIntervals": [
                        {
                          "durationInSeconds": 8220,
                          "joinDateTime": "2022-1-27T12:31:00.00Z",
                          "leaveDateTime": "2022-1-27T14:48:00.00Z"
                        }
                      ],
                      "identity": {
                        "displayName": "Kenny Lair",
                        "id": "8a29f408-accf-4fa9-a2aa-e95f5bc08932",
                        "tenantId": ""
                      }
                    },
                    {
                      "totalAttendanceInSeconds": 7860,
                      "role": "Student",
                      "emailAddress": "BelindaRTorres@contoso.org",
                      "attendanceIntervals": [
                        {
                          "durationInSeconds": 7860,
                          "joinDateTime": "2022-1-27T12:32:00.00Z",
                          "leaveDateTime": "2022-1-27T14:43:00.00Z"
                        }
                      ],
                      "identity": {
                        "displayName": "Belinda Torres",
                        "id": "78eb25f5-eda7-47cc-b3a3-3ff8f9aea761",
                        "tenantId": ""
                      }
                    },
                    {
                      "totalAttendanceInSeconds": 8400,
                      "role": "Student",
                      "emailAddress": "MabelNDuarte@contoso.org",
                      "attendanceIntervals": [
                        {
                          "durationInSeconds": 8400,
                          "joinDateTime": "2022-1-27T12:31:00.00Z",
                          "leaveDateTime": "2022-1-27T14:51:00.00Z"
                        }
                      ],
                      "identity": {
                        "displayName": "Mabel Duarte",
                        "id": "30c78fa8-1393-418e-87c4-9427ca2ec2ad",
                        "tenantId": ""
                      }
                    },
                    {
                      "totalAttendanceInSeconds": 8400,
                      "role": "Student",
                      "emailAddress": "MichelleETalbott@contoso.org",
                      "attendanceIntervals": [
                        {
                          "durationInSeconds": 8400,
                          "joinDateTime": "2022-1-27T12:30:00.00Z",
                          "leaveDateTime": "2022-1-27T14:50:00.00Z"
                        }
                      ],
                      "identity": {
                        "displayName": "Michelle Talbott",
                        "id": "7b04910d-7556-4a5d-a898-7aa750520bf8",
                        "tenantId": ""
                      }
                    },
                    {
                      "totalAttendanceInSeconds": 8220,
                      "role": "Student",
                      "emailAddress": "NancyRBest@contoso.org",
                      "attendanceIntervals": [
                        {
                          "durationInSeconds": 8220,
                          "joinDateTime": "2022-1-27T12:33:00.00Z",
                          "leaveDateTime": "2022-1-27T14:50:00.00Z"
                        }
                      ],
                      "identity": {
                        "displayName": "Nancy Best",
                        "id": "9ce3d3c8-4b37-40a6-a15d-adf860a31870",
                        "tenantId": ""
                      }
                    },
                    {
                      "totalAttendanceInSeconds": 5160,
                      "role": "Student",
                      "emailAddress": "ToddMLeclair@contoso.org",
                      "attendanceIntervals": [
                        {
                          "durationInSeconds": 5160,
                          "joinDateTime": "2022-1-27T12:34:00.00Z",
                          "leaveDateTime": "2022-1-27T14:0:00.00Z"
                        }
                      ],
                      "identity": {
                        "displayName": "Todd Leclair",
                        "id": "a3ef1676-3227-4c78-b3fb-049bdf04ac0a",
                        "tenantId": ""
                      }
                    },
                    {
                      "totalAttendanceInSeconds": 8460,
                      "role": "Student",
                      "emailAddress": "HeatherFSmith@contoso.org",
                      "attendanceIntervals": [
                        {
                          "durationInSeconds": 8460,
                          "joinDateTime": "2022-1-27T12:33:00.00Z",
                          "leaveDateTime": "2022-1-27T14:54:00.00Z"
                        }
                      ],
                      "identity": {
                        "displayName": "Heather Smith",
                        "id": "651e8651-037c-49b5-940d-079d0d0b3130",
                        "tenantId": ""
                      }
                    },
                    {
                      "totalAttendanceInSeconds": 8520,
                      "role": "Student",
                      "emailAddress": "HelenDArnold@contoso.org",
                      "attendanceIntervals": [
                        {
                          "durationInSeconds": 8520,
                          "joinDateTime": "2022-1-27T12:31:00.00Z",
                          "leaveDateTime": "2022-1-27T14:53:00.00Z"
                        }
                      ],
                      "identity": {
                        "displayName": "Helen Arnold",
                        "id": "d6c8f44c-91e1-4f58-a916-f635d08c93eb",
                        "tenantId": ""
                      }
                    },
                    {
                      "totalAttendanceInSeconds": 7860,
                      "role": "Student",
                      "emailAddress": "RonnieABoyd@contoso.org",
                      "attendanceIntervals": [
                        {
                          "durationInSeconds": 7860,
                          "joinDateTime": "2022-1-27T12:34:00.00Z",
                          "leaveDateTime": "2022-1-27T14:45:00.00Z"
                        }
                      ],
                      "identity": {
                        "displayName": "Ronnie Boyd",
                        "id": "ef39ea62-b739-4bc3-963e-d82089467902",
                        "tenantId": ""
                      }
                    },
                    {
                      "totalAttendanceInSeconds": 8820,
                      "role": "Student",
                      "emailAddress": "AlliePMcGlothlin@contoso.org",
                      "attendanceIntervals": [
                        {
                          "durationInSeconds": 8820,
                          "joinDateTime": "2022-1-27T12:30:00.00Z",
                          "leaveDateTime": "2022-1-27T14:57:00.00Z"
                        }
                      ],
                      "identity": {
                        "displayName": "Allie McGlothlin",
                        "id": "b1f351a8-e041-4835-ad42-933eab79d543",
                        "tenantId": ""
                      }
                    },
                    {
                      "totalAttendanceInSeconds": 7740,
                      "role": "Student",
                      "emailAddress": "AngelaEJameson@contoso.org",
                      "attendanceIntervals": [
                        {
                          "durationInSeconds": 7740,
                          "joinDateTime": "2022-1-27T12:34:00.00Z",
                          "leaveDateTime": "2022-1-27T14:43:00.00Z"
                        }
                      ],
                      "identity": {
                        "displayName": "Angela Jameson",
                        "id": "79e5c3c6-eee9-4e9c-8654-f17dce00333e",
                        "tenantId": ""
                      }
                    },
                    {
                      "totalAttendanceInSeconds": 7980,
                      "role": "Student",
                      "emailAddress": "ElsieWWagner@contoso.org",
                      "attendanceIntervals": [
                        {
                          "durationInSeconds": 7980,
                          "joinDateTime": "2022-1-27T12:30:00.00Z",
                          "leaveDateTime": "2022-1-27T14:43:00.00Z"
                        }
                      ],
                      "identity": {
                        "displayName": "Elsie Wagner",
                        "id": "da698590-d491-4cf9-ad77-35116e875cfd",
                        "tenantId": ""
                      }
                    },
                    {
                      "totalAttendanceInSeconds": 8460,
                      "role": "Student",
                      "emailAddress": "KirkSFeliciano@contoso.org",
                      "attendanceIntervals": [
                        {
                          "durationInSeconds": 8460,
                          "joinDateTime": "2022-1-27T12:33:00.00Z",
                          "leaveDateTime": "2022-1-27T14:54:00.00Z"
                        }
                      ],
                      "identity": {
                        "displayName": "Kirk Feliciano",
                        "id": "9c0f7f1f-f86d-40f2-a840-7ac3bf13b070",
                        "tenantId": ""
                      }
                    },
                    {
                      "totalAttendanceInSeconds": 8700,
                      "role": "Student",
                      "emailAddress": "WilburBIngram@contoso.org",
                      "attendanceIntervals": [
                        {
                          "durationInSeconds": 8700,
                          "joinDateTime": "2022-1-27T12:31:00.00Z",
                          "leaveDateTime": "2022-1-27T14:56:00.00Z"
                        }
                      ],
                      "identity": {
                        "displayName": "Wilbur Ingram",
                        "id": "6f4ab288-aded-44ad-8bfe-702ab915f7f3",
                        "tenantId": ""
                      }
                    },
                    {
                      "totalAttendanceInSeconds": 8460,
                      "role": "Student",
                      "emailAddress": "PaulVMoskowitz@contoso.org",
                      "attendanceIntervals": [
                        {
                          "durationInSeconds": 8460,
                          "joinDateTime": "2022-1-27T12:34:00.00Z",
                          "leaveDateTime": "2022-1-27T14:55:00.00Z"
                        }
                      ],
                      "identity": {
                        "displayName": "Paul Moskowitz",
                        "id": "f47574d8-c9db-4b97-ad5e-d1921396e298",
                        "tenantId": ""
                      }
                    },
                    {
                      "totalAttendanceInSeconds": 8820,
                      "role": "Student",
                      "emailAddress": "DavidLThompson@contoso.org",
                      "attendanceIntervals": [
                        {
                          "durationInSeconds": 8820,
                          "joinDateTime": "2022-1-27T12:30:00.00Z",
                          "leaveDateTime": "2022-1-27T14:57:00.00Z"
                        }
                      ],
                      "identity": {
                        "displayName": "David Thompson",
                        "id": "46d61de9-8587-47bb-9589-46fbca622dee",
                        "tenantId": ""
                      }
                    },
                    {
                      "totalAttendanceInSeconds": 8700,
                      "role": "Student",
                      "emailAddress": "GeorgeJSantiago@contoso.org",
                      "attendanceIntervals": [
                        {
                          "durationInSeconds": 8700,
                          "joinDateTime": "2022-1-27T12:30:00.00Z",
                          "leaveDateTime": "2022-1-27T14:55:00.00Z"
                        }
                      ],
                      "identity": {
                        "displayName": "George Santiago",
                        "id": "f206f943-e534-41e2-a81a-ed41c7db3992",
                        "tenantId": ""
                      }
                    },
                    {
                      "totalAttendanceInSeconds": 8100,
                      "role": "Student",
                      "emailAddress": "WilliamMBlackburn@contoso.org",
                      "attendanceIntervals": [
                        {
                          "durationInSeconds": 8100,
                          "joinDateTime": "2022-1-27T12:34:00.00Z",
                          "leaveDateTime": "2022-1-27T14:49:00.00Z"
                        }
                      ],
                      "identity": {
                        "displayName": "William Blackburn",
                        "id": "65cdb379-46fb-4350-90d6-4e6a18291d2d",
                        "tenantId": ""
                      }
                    },
                    {
                      "totalAttendanceInSeconds": 8280,
                      "role": "Student",
                      "emailAddress": "HazelKJones@contoso.org",
                      "attendanceIntervals": [
                        {
                          "durationInSeconds": 8280,
                          "joinDateTime": "2022-1-27T12:34:00.00Z",
                          "leaveDateTime": "2022-1-27T14:52:00.00Z"
                        }
                      ],
                      "identity": {
                        "displayName": "Hazel Jones",
                        "id": "2810f2ae-77db-4e0a-977b-d0376fd12222",
                        "tenantId": ""
                      }
                    },
                    {
                      "totalAttendanceInSeconds": 8700,
                      "role": "Student",
                      "emailAddress": "DanielMMartinez@contoso.org",
                      "attendanceIntervals": [
                        {
                          "durationInSeconds": 8700,
                          "joinDateTime": "2022-1-27T12:33:00.00Z",
                          "leaveDateTime": "2022-1-27T14:58:00.00Z"
                        }
                      ],
                      "identity": {
                        "displayName": "Daniel Martinez",
                        "id": "9e77b486-89b7-4344-adcf-9bf0c742e6f4",
                        "tenantId": ""
                      }
                    },
                    {
                      "totalAttendanceInSeconds": 7800,
                      "role": "Student",
                      "emailAddress": "JamesRPaul@contoso.org",
                      "attendanceIntervals": [
                        {
                          "durationInSeconds": 7800,
                          "joinDateTime": "2022-1-27T12:35:00.00Z",
                          "leaveDateTime": "2022-1-27T14:45:00.00Z"
                        }
                      ],
                      "identity": {
                        "displayName": "James Paul",
                        "id": "b37151f3-f2aa-4e2a-84b3-a0fb1f51f7e8",
                        "tenantId": ""
                      }
                    },
                    {
                      "totalAttendanceInSeconds": 8580,
                      "role": "Student",
                      "emailAddress": "StephenJNunn@contoso.org",
                      "attendanceIntervals": [
                        {
                          "durationInSeconds": 8580,
                          "joinDateTime": "2022-1-27T12:35:00.00Z",
                          "leaveDateTime": "2022-1-27T14:58:00.00Z"
                        }
                      ],
                      "identity": {
                        "displayName": "Stephen Nunn",
                        "id": "a9888cde-8e32-4f97-a72a-4fae0cfe1908",
                        "tenantId": ""
                      }
                    }
                  ]
                },
                {
                  "0": "a8b671dc-6093-403a-8cc1-ea1492b378d8",
                  "1": "57",
                  "2": "2022-1-14T15:45:00.00Z",
                  "3": "2022-1-14T17:15:00.00Z",
                  "4": [
                    {
                      "totalAttendanceInSeconds": 4320,
                      "role": "Student",
                      "emailAddress": "RebeccaDLucas@contoso.org",
                      "attendanceIntervals": [
                        {
                          "durationInSeconds": 4320,
                          "joinDateTime": "2022-1-14T15:48:00.00Z",
                          "leaveDateTime": "2022-1-14T17:0:00.00Z"
                        }
                      ],
                      "identity": {
                        "displayName": "Rebecca Lucas",
                        "id": "4f276ad2-83a6-4a55-b59c-592b69427ca9",
                        "tenantId": ""
                      }
                    },
                    {
                      "totalAttendanceInSeconds": 5100,
                      "role": "Student",
                      "emailAddress": "MaryBBanks@contoso.org",
                      "attendanceIntervals": [
                        {
                          "durationInSeconds": 5100,
                          "joinDateTime": "2022-1-14T15:47:00.00Z",
                          "leaveDateTime": "2022-1-14T17:12:00.00Z"
                        }
                      ],
                      "identity": {
                        "displayName": "Mary Banks",
                        "id": "0cafc08b-c79e-4a76-8e15-88d778ae24b1",
                        "tenantId": ""
                      }
                    },
                    {
                      "totalAttendanceInSeconds": 4860,
                      "role": "Student",
                      "emailAddress": "DoraIHernandez@contoso.org",
                      "attendanceIntervals": [
                        {
                          "durationInSeconds": 4860,
                          "joinDateTime": "2022-1-14T15:46:00.00Z",
                          "leaveDateTime": "2022-1-14T17:7:00.00Z"
                        }
                      ],
                      "identity": {
                        "displayName": "Dora Hernandez",
                        "id": "8c7d250b-59a9-4c78-a0a4-da7853d0e856",
                        "tenantId": ""
                      }
                    },
                    {
                      "totalAttendanceInSeconds": 4560,
                      "role": "Student",
                      "emailAddress": "BenjaminHHollins@contoso.org",
                      "attendanceIntervals": [
                        {
                          "durationInSeconds": 4560,
                          "joinDateTime": "2022-1-14T15:48:00.00Z",
                          "leaveDateTime": "2022-1-14T17:4:00.00Z"
                        }
                      ],
                      "identity": {
                        "displayName": "Benjamin Hollins",
                        "id": "226aa81d-a725-493f-8d7d-36a0952e8390",
                        "tenantId": ""
                      }
                    },
                    {
                      "totalAttendanceInSeconds": 4800,
                      "role": "Student",
                      "emailAddress": "DebbieBBlackwell@contoso.org",
                      "attendanceIntervals": [
                        {
                          "durationInSeconds": 4800,
                          "joinDateTime": "2022-1-14T15:49:00.00Z",
                          "leaveDateTime": "2022-1-14T17:9:00.00Z"
                        }
                      ],
                      "identity": {
                        "displayName": "Debbie Blackwell",
                        "id": "2fb26bb5-35e3-4a1c-bbc5-754825da6b92",
                        "tenantId": ""
                      }
                    },
                    {
                      "totalAttendanceInSeconds": 7740,
                      "role": "Student",
                      "emailAddress": "ClaudiaWDesai@contoso.org",
                      "attendanceIntervals": [
                        {
                          "durationInSeconds": 7740,
                          "joinDateTime": "2022-1-14T15:46:00.00Z",
                          "leaveDateTime": "2022-1-14T17:55:00.00Z"
                        }
                      ],
                      "identity": {
                        "displayName": "Claudia Desai",
                        "id": "1aee3441-b3a0-4995-840d-789249e43663",
                        "tenantId": ""
                      }
                    },
                    {
                      "totalAttendanceInSeconds": 4440,
                      "role": "Student",
                      "emailAddress": "ScottVVillagomez@contoso.org",
                      "attendanceIntervals": [
                        {
                          "durationInSeconds": 4440,
                          "joinDateTime": "2022-1-14T15:47:00.00Z",
                          "leaveDateTime": "2022-1-14T17:1:00.00Z"
                        }
                      ],
                      "identity": {
                        "displayName": "Scott Villagomez",
                        "id": "2eab5439-c587-4fe1-bf8c-f1e194979967",
                        "tenantId": ""
                      }
                    },
                    {
                      "totalAttendanceInSeconds": 4440,
                      "role": "Student",
                      "emailAddress": "SaraPSilveira@contoso.org",
                      "attendanceIntervals": [
                        {
                          "durationInSeconds": 4440,
                          "joinDateTime": "2022-1-14T15:47:00.00Z",
                          "leaveDateTime": "2022-1-14T17:1:00.00Z"
                        }
                      ],
                      "identity": {
                        "displayName": "Sara Silveira",
                        "id": "87859c78-a388-4ccb-a332-128332a1be00",
                        "tenantId": ""
                      }
                    },
                    {
                      "totalAttendanceInSeconds": 5160,
                      "role": "Student",
                      "emailAddress": "ShamikaJGregory@contoso.org",
                      "attendanceIntervals": [
                        {
                          "durationInSeconds": 5160,
                          "joinDateTime": "2022-1-14T15:47:00.00Z",
                          "leaveDateTime": "2022-1-14T17:13:00.00Z"
                        }
                      ],
                      "identity": {
                        "displayName": "Shamika Gregory",
                        "id": "d5eed8ae-0d1b-40c8-8716-602f19c6d4b3",
                        "tenantId": ""
                      }
                    },
                    {
                      "totalAttendanceInSeconds": 4800,
                      "role": "Student",
                      "emailAddress": "JuliaAGonzalez@contoso.org",
                      "attendanceIntervals": [
                        {
                          "durationInSeconds": 4800,
                          "joinDateTime": "2022-1-14T15:50:00.00Z",
                          "leaveDateTime": "2022-1-14T17:10:00.00Z"
                        }
                      ],
                      "identity": {
                        "displayName": "Julia Gonzalez",
                        "id": "a2cdbe39-57c6-4d3a-b36d-0f8a12db04d0",
                        "tenantId": ""
                      }
                    },
                    {
                      "totalAttendanceInSeconds": 5220,
                      "role": "Student",
                      "emailAddress": "CarlTMcCray@contoso.org",
                      "attendanceIntervals": [
                        {
                          "durationInSeconds": 5220,
                          "joinDateTime": "2022-1-14T15:46:00.00Z",
                          "leaveDateTime": "2022-1-14T17:13:00.00Z"
                        }
                      ],
                      "identity": {
                        "displayName": "Carl McCray",
                        "id": "a690a55a-a7d8-4b6a-8429-b89869314c5d",
                        "tenantId": ""
                      }
                    },
                    {
                      "totalAttendanceInSeconds": 4980,
                      "role": "Student",
                      "emailAddress": "MarthaTMcLaughlin@contoso.org",
                      "attendanceIntervals": [
                        {
                          "durationInSeconds": 4980,
                          "joinDateTime": "2022-1-14T15:49:00.00Z",
                          "leaveDateTime": "2022-1-14T17:12:00.00Z"
                        }
                      ],
                      "identity": {
                        "displayName": "Martha McLaughlin",
                        "id": "d636abe1-0e5f-4fb3-baae-7f97e13a298c",
                        "tenantId": ""
                      }
                    },
                    {
                      "totalAttendanceInSeconds": 4260,
                      "role": "Student",
                      "emailAddress": "RachelHLukasik@contoso.org",
                      "attendanceIntervals": [
                        {
                          "durationInSeconds": 4260,
                          "joinDateTime": "2022-1-14T15:50:00.00Z",
                          "leaveDateTime": "2022-1-14T17:1:00.00Z"
                        }
                      ],
                      "identity": {
                        "displayName": "Rachel Lukasik",
                        "id": "3169496c-626c-4e44-bee2-8c21b407c529",
                        "tenantId": ""
                      }
                    },
                    {
                      "totalAttendanceInSeconds": 4980,
                      "role": "Student",
                      "emailAddress": "VanessaMSchmidt@contoso.org",
                      "attendanceIntervals": [
                        {
                          "durationInSeconds": 4980,
                          "joinDateTime": "2022-1-14T15:45:00.00Z",
                          "leaveDateTime": "2022-1-14T17:8:00.00Z"
                        }
                      ],
                      "identity": {
                        "displayName": "Vanessa Schmidt",
                        "id": "f8b56c4e-435a-4d0d-bb79-393d6d52eac2",
                        "tenantId": ""
                      }
                    },
                    {
                      "totalAttendanceInSeconds": 4800,
                      "role": "Student",
                      "emailAddress": "JohnEReynolds@contoso.org",
                      "attendanceIntervals": [
                        {
                          "durationInSeconds": 4800,
                          "joinDateTime": "2022-1-14T15:45:00.00Z",
                          "leaveDateTime": "2022-1-14T17:5:00.00Z"
                        }
                      ],
                      "identity": {
                        "displayName": "John Reynolds",
                        "id": "f69ce4bb-5618-41bf-9187-fe5b9d50f060",
                        "tenantId": ""
                      }
                    },
                    {
                      "totalAttendanceInSeconds": 7560,
                      "role": "Student",
                      "emailAddress": "BonnieHBello@contoso.org",
                      "attendanceIntervals": [
                        {
                          "durationInSeconds": 7560,
                          "joinDateTime": "2022-1-14T15:48:00.00Z",
                          "leaveDateTime": "2022-1-14T17:54:00.00Z"
                        }
                      ],
                      "identity": {
                        "displayName": "Bonnie Bello",
                        "id": "00bed1be-4a52-4bfa-802a-ecf7891f01a6",
                        "tenantId": ""
                      }
                    },
                    {
                      "totalAttendanceInSeconds": 4500,
                      "role": "Student",
                      "emailAddress": "TabithaCMorales@contoso.org",
                      "attendanceIntervals": [
                        {
                          "durationInSeconds": 4500,
                          "joinDateTime": "2022-1-14T15:47:00.00Z",
                          "leaveDateTime": "2022-1-14T17:2:00.00Z"
                        }
                      ],
                      "identity": {
                        "displayName": "Tabitha Morales",
                        "id": "6eba85cf-9f59-44f2-bf85-1c1bbcc83a45",
                        "tenantId": ""
                      }
                    },
                    {
                      "totalAttendanceInSeconds": 4440,
                      "role": "Student",
                      "emailAddress": "CourtneyJElwell@contoso.org",
                      "attendanceIntervals": [
                        {
                          "durationInSeconds": 4440,
                          "joinDateTime": "2022-1-14T15:47:00.00Z",
                          "leaveDateTime": "2022-1-14T17:1:00.00Z"
                        }
                      ],
                      "identity": {
                        "displayName": "Courtney Elwell",
                        "id": "f92e3d49-9637-41cb-a804-d078f1b3998c",
                        "tenantId": ""
                      }
                    },
                    {
                      "totalAttendanceInSeconds": 5340,
                      "role": "Student",
                      "emailAddress": "MarthaRGrace@contoso.org",
                      "attendanceIntervals": [
                        {
                          "durationInSeconds": 5340,
                          "joinDateTime": "2022-1-14T15:45:00.00Z",
                          "leaveDateTime": "2022-1-14T17:14:00.00Z"
                        }
                      ],
                      "identity": {
                        "displayName": "Martha Grace",
                        "id": "1b78784a-5709-45de-a6ee-d7325effbb1c",
                        "tenantId": ""
                      }
                    },
                    {
                      "totalAttendanceInSeconds": 4680,
                      "role": "Student",
                      "emailAddress": "RachelGRamsey@contoso.org",
                      "attendanceIntervals": [
                        {
                          "durationInSeconds": 4680,
                          "joinDateTime": "2022-1-14T15:48:00.00Z",
                          "leaveDateTime": "2022-1-14T17:6:00.00Z"
                        }
                      ],
                      "identity": {
                        "displayName": "Rachel Ramsey",
                        "id": "40ee7744-a6c9-4be6-a7a5-17153f37ee26",
                        "tenantId": ""
                      }
                    },
                    {
                      "totalAttendanceInSeconds": 4920,
                      "role": "Student",
                      "emailAddress": "TeresaDWoods@contoso.org",
                      "attendanceIntervals": [
                        {
                          "durationInSeconds": 4920,
                          "joinDateTime": "2022-1-14T15:45:00.00Z",
                          "leaveDateTime": "2022-1-14T17:7:00.00Z"
                        }
                      ],
                      "identity": {
                        "displayName": "Teresa Woods",
                        "id": "44d5b24c-07a1-4fe4-9536-adb3fae6348f",
                        "tenantId": ""
                      }
                    },
                    {
                      "totalAttendanceInSeconds": 5160,
                      "role": "Student",
                      "emailAddress": "LoisHRecinos@contoso.org",
                      "attendanceIntervals": [
                        {
                          "durationInSeconds": 5160,
                          "joinDateTime": "2022-1-14T15:47:00.00Z",
                          "leaveDateTime": "2022-1-14T17:13:00.00Z"
                        }
                      ],
                      "identity": {
                        "displayName": "Lois Recinos",
                        "id": "a5b205a5-6170-4f83-9b0c-a42e0cd12cdb",
                        "tenantId": ""
                      }
                    },
                    {
                      "totalAttendanceInSeconds": 4320,
                      "role": "Student",
                      "emailAddress": "BelindaNLeiser@contoso.org",
                      "attendanceIntervals": [
                        {
                          "durationInSeconds": 4320,
                          "joinDateTime": "2022-1-14T15:48:00.00Z",
                          "leaveDateTime": "2022-1-14T17:0:00.00Z"
                        }
                      ],
                      "identity": {
                        "displayName": "Belinda Leiser",
                        "id": "4b4c8f51-7a20-45b3-b6f3-2212af34522e",
                        "tenantId": ""
                      }
                    },
                    {
                      "totalAttendanceInSeconds": 4680,
                      "role": "Student",
                      "emailAddress": "BradleyCWilmoth@contoso.org",
                      "attendanceIntervals": [
                        {
                          "durationInSeconds": 4680,
                          "joinDateTime": "2022-1-14T15:46:00.00Z",
                          "leaveDateTime": "2022-1-14T17:4:00.00Z"
                        }
                      ],
                      "identity": {
                        "displayName": "Bradley Wilmoth",
                        "id": "20338e4e-0276-485d-b499-3d6988c629bf",
                        "tenantId": ""
                      }
                    },
                    {
                      "totalAttendanceInSeconds": 4920,
                      "role": "Student",
                      "emailAddress": "RachelRSanchez@contoso.org",
                      "attendanceIntervals": [
                        {
                          "durationInSeconds": 4920,
                          "joinDateTime": "2022-1-14T15:49:00.00Z",
                          "leaveDateTime": "2022-1-14T17:11:00.00Z"
                        }
                      ],
                      "identity": {
                        "displayName": "Rachel Sanchez",
                        "id": "19bd65c0-160b-4563-8175-f8a55163e059",
                        "tenantId": ""
                      }
                    },
                    {
                      "totalAttendanceInSeconds": 4920,
                      "role": "Student",
                      "emailAddress": "HectorMScott@contoso.org",
                      "attendanceIntervals": [
                        {
                          "durationInSeconds": 4920,
                          "joinDateTime": "2022-1-14T15:47:00.00Z",
                          "leaveDateTime": "2022-1-14T17:9:00.00Z"
                        }
                      ],
                      "identity": {
                        "displayName": "Hector Scott",
                        "id": "8be228a8-c642-4ed6-8251-de6ca831a197",
                        "tenantId": ""
                      }
                    },
                    {
                      "totalAttendanceInSeconds": 4620,
                      "role": "Student",
                      "emailAddress": "LethaAJohnson@contoso.org",
                      "attendanceIntervals": [
                        {
                          "durationInSeconds": 4620,
                          "joinDateTime": "2022-1-14T15:50:00.00Z",
                          "leaveDateTime": "2022-1-14T17:7:00.00Z"
                        }
                      ],
                      "identity": {
                        "displayName": "Letha Johnson",
                        "id": "45cb53f2-5205-4786-a0a5-e5f6f2fdd403",
                        "tenantId": ""
                      }
                    },
                    {
                      "totalAttendanceInSeconds": 5100,
                      "role": "Student",
                      "emailAddress": "MatthewMAlston@contoso.org",
                      "attendanceIntervals": [
                        {
                          "durationInSeconds": 5100,
                          "joinDateTime": "2022-1-14T15:49:00.00Z",
                          "leaveDateTime": "2022-1-14T17:14:00.00Z"
                        }
                      ],
                      "identity": {
                        "displayName": "Matthew Alston",
                        "id": "fc3c5426-9cda-43b7-9a1a-996df458cf85",
                        "tenantId": ""
                      }
                    },
                    {
                      "totalAttendanceInSeconds": 5160,
                      "role": "Student",
                      "emailAddress": "JoanJEstrada@contoso.org",
                      "attendanceIntervals": [
                        {
                          "durationInSeconds": 5160,
                          "joinDateTime": "2022-1-14T15:46:00.00Z",
                          "leaveDateTime": "2022-1-14T17:12:00.00Z"
                        }
                      ],
                      "identity": {
                        "displayName": "Joan Estrada",
                        "id": "8d707e16-e0dc-4fc2-9b9f-09f459eaec98",
                        "tenantId": ""
                      }
                    },
                    {
                      "totalAttendanceInSeconds": 4440,
                      "role": "Student",
                      "emailAddress": "ManaJNault@contoso.org",
                      "attendanceIntervals": [
                        {
                          "durationInSeconds": 4440,
                          "joinDateTime": "2022-1-14T15:47:00.00Z",
                          "leaveDateTime": "2022-1-14T17:1:00.00Z"
                        }
                      ],
                      "identity": {
                        "displayName": "Mana Nault",
                        "id": "05011c85-7378-4263-b761-c379983bd5c3",
                        "tenantId": ""
                      }
                    },
                    {
                      "totalAttendanceInSeconds": 4980,
                      "role": "Student",
                      "emailAddress": "AdrianDMiller@contoso.org",
                      "attendanceIntervals": [
                        {
                          "durationInSeconds": 4980,
                          "joinDateTime": "2022-1-14T15:46:00.00Z",
                          "leaveDateTime": "2022-1-14T17:9:00.00Z"
                        }
                      ],
                      "identity": {
                        "displayName": "Adrian Miller",
                        "id": "0fdfe2bb-159d-4d74-bcde-41eb11c8f2c4",
                        "tenantId": ""
                      }
                    },
                    {
                      "totalAttendanceInSeconds": 7740,
                      "role": "Student",
                      "emailAddress": "RosalieDWalker@contoso.org",
                      "attendanceIntervals": [
                        {
                          "durationInSeconds": 7740,
                          "joinDateTime": "2022-1-14T15:45:00.00Z",
                          "leaveDateTime": "2022-1-14T17:54:00.00Z"
                        }
                      ],
                      "identity": {
                        "displayName": "Rosalie Walker",
                        "id": "cefa9f5d-576f-471d-ab57-f20647b63056",
                        "tenantId": ""
                      }
                    },
                    {
                      "totalAttendanceInSeconds": 4860,
                      "role": "Student",
                      "emailAddress": "WillaEMelendez@contoso.org",
                      "attendanceIntervals": [
                        {
                          "durationInSeconds": 4860,
                          "joinDateTime": "2022-1-14T15:47:00.00Z",
                          "leaveDateTime": "2022-1-14T17:8:00.00Z"
                        }
                      ],
                      "identity": {
                        "displayName": "Willa Melendez",
                        "id": "b0498d32-9501-47e0-8a6d-754e88521f03",
                        "tenantId": ""
                      }
                    },
                    {
                      "totalAttendanceInSeconds": 4740,
                      "role": "Student",
                      "emailAddress": "RobertDRichard@contoso.org",
                      "attendanceIntervals": [
                        {
                          "durationInSeconds": 4740,
                          "joinDateTime": "2022-1-14T15:46:00.00Z",
                          "leaveDateTime": "2022-1-14T17:5:00.00Z"
                        }
                      ],
                      "identity": {
                        "displayName": "Robert Richard",
                        "id": "04a81573-ec2f-492c-bf9c-55d1d2cdd11d",
                        "tenantId": ""
                      }
                    },
                    {
                      "totalAttendanceInSeconds": 4380,
                      "role": "Student",
                      "emailAddress": "HollyACrisp@contoso.org",
                      "attendanceIntervals": [
                        {
                          "durationInSeconds": 4380,
                          "joinDateTime": "2022-1-14T15:49:00.00Z",
                          "leaveDateTime": "2022-1-14T17:2:00.00Z"
                        }
                      ],
                      "identity": {
                        "displayName": "Holly Crisp",
                        "id": "7f6a8bc4-906a-4b2b-8334-5198f4b91d72",
                        "tenantId": ""
                      }
                    },
                    {
                      "totalAttendanceInSeconds": 5040,
                      "role": "Student",
                      "emailAddress": "BettyDRose@contoso.org",
                      "attendanceIntervals": [
                        {
                          "durationInSeconds": 5040,
                          "joinDateTime": "2022-1-14T15:45:00.00Z",
                          "leaveDateTime": "2022-1-14T17:9:00.00Z"
                        }
                      ],
                      "identity": {
                        "displayName": "Betty Rose",
                        "id": "2b20a68a-d700-4859-b52d-9a4b97534104",
                        "tenantId": ""
                      }
                    },
                    {
                      "totalAttendanceInSeconds": 7860,
                      "role": "Student",
                      "emailAddress": "HarveyLBoothe@contoso.org",
                      "attendanceIntervals": [
                        {
                          "durationInSeconds": 7860,
                          "joinDateTime": "2022-1-14T15:45:00.00Z",
                          "leaveDateTime": "2022-1-14T17:56:00.00Z"
                        }
                      ],
                      "identity": {
                        "displayName": "Harvey Boothe",
                        "id": "1124249e-998e-4052-9b3d-4fcd23d0ff83",
                        "tenantId": ""
                      }
                    },
                    {
                      "totalAttendanceInSeconds": 7560,
                      "role": "Student",
                      "emailAddress": "JoeVPerry@contoso.org",
                      "attendanceIntervals": [
                        {
                          "durationInSeconds": 7560,
                          "joinDateTime": "2022-1-14T15:50:00.00Z",
                          "leaveDateTime": "2022-1-14T17:56:00.00Z"
                        }
                      ],
                      "identity": {
                        "displayName": "Joe Perry",
                        "id": "2c6986c5-6f65-4315-b028-5c4e1a59809a",
                        "tenantId": ""
                      }
                    },
                    {
                      "totalAttendanceInSeconds": 4560,
                      "role": "Student",
                      "emailAddress": "IdaWPetty@contoso.org",
                      "attendanceIntervals": [
                        {
                          "durationInSeconds": 4560,
                          "joinDateTime": "2022-1-14T15:48:00.00Z",
                          "leaveDateTime": "2022-1-14T17:4:00.00Z"
                        }
                      ],
                      "identity": {
                        "displayName": "Ida Petty",
                        "id": "e203e864-f101-4aa2-ba6d-2345ac1db60f",
                        "tenantId": ""
                      }
                    },
                    {
                      "totalAttendanceInSeconds": 5340,
                      "role": "Student",
                      "emailAddress": "JoeyLFrey@contoso.org",
                      "attendanceIntervals": [
                        {
                          "durationInSeconds": 5340,
                          "joinDateTime": "2022-1-14T15:45:00.00Z",
                          "leaveDateTime": "2022-1-14T17:14:00.00Z"
                        }
                      ],
                      "identity": {
                        "displayName": "Joey Frey",
                        "id": "fa91322a-e7b3-4311-8e7b-7304add3480b",
                        "tenantId": ""
                      }
                    },
                    {
                      "totalAttendanceInSeconds": 4500,
                      "role": "Student",
                      "emailAddress": "OlaWStrauser@contoso.org",
                      "attendanceIntervals": [
                        {
                          "durationInSeconds": 4500,
                          "joinDateTime": "2022-1-14T15:50:00.00Z",
                          "leaveDateTime": "2022-1-14T17:5:00.00Z"
                        }
                      ],
                      "identity": {
                        "displayName": "Ola Strauser",
                        "id": "43d00955-e922-40a7-9828-ecd7f84db083",
                        "tenantId": ""
                      }
                    },
                    {
                      "totalAttendanceInSeconds": 4920,
                      "role": "Student",
                      "emailAddress": "RandyKCota@contoso.org",
                      "attendanceIntervals": [
                        {
                          "durationInSeconds": 4920,
                          "joinDateTime": "2022-1-14T15:45:00.00Z",
                          "leaveDateTime": "2022-1-14T17:7:00.00Z"
                        }
                      ],
                      "identity": {
                        "displayName": "Randy Cota",
                        "id": "3ff292c6-0d0e-48c9-92cb-ca9d89e7a2a6",
                        "tenantId": ""
                      }
                    },
                    {
                      "totalAttendanceInSeconds": 4620,
                      "role": "Student",
                      "emailAddress": "JanieEMeinhardt@contoso.org",
                      "attendanceIntervals": [
                        {
                          "durationInSeconds": 4620,
                          "joinDateTime": "2022-1-14T15:46:00.00Z",
                          "leaveDateTime": "2022-1-14T17:3:00.00Z"
                        }
                      ],
                      "identity": {
                        "displayName": "Janie Meinhardt",
                        "id": "e35e11eb-d65c-4050-8221-a849aec34255",
                        "tenantId": ""
                      }
                    },
                    {
                      "totalAttendanceInSeconds": 4920,
                      "role": "Student",
                      "emailAddress": "ElizabethRShields@contoso.org",
                      "attendanceIntervals": [
                        {
                          "durationInSeconds": 4920,
                          "joinDateTime": "2022-1-14T15:50:00.00Z",
                          "leaveDateTime": "2022-1-14T17:12:00.00Z"
                        }
                      ],
                      "identity": {
                        "displayName": "Elizabeth Shields",
                        "id": "153352b9-6729-4acc-9d1f-7aba44fa307e",
                        "tenantId": ""
                      }
                    },
                    {
                      "totalAttendanceInSeconds": 7740,
                      "role": "Student",
                      "emailAddress": "JamesAHargrove@contoso.org",
                      "attendanceIntervals": [
                        {
                          "durationInSeconds": 7740,
                          "joinDateTime": "2022-1-14T15:46:00.00Z",
                          "leaveDateTime": "2022-1-14T17:55:00.00Z"
                        }
                      ],
                      "identity": {
                        "displayName": "James Hargrove",
                        "id": "5720de86-3f4d-4a66-91be-456c51fb3f6f",
                        "tenantId": ""
                      }
                    },
                    {
                      "totalAttendanceInSeconds": 4320,
                      "role": "Student",
                      "emailAddress": "MarkAMoore@contoso.org",
                      "attendanceIntervals": [
                        {
                          "durationInSeconds": 4320,
                          "joinDateTime": "2022-1-14T15:49:00.00Z",
                          "leaveDateTime": "2022-1-14T17:1:00.00Z"
                        }
                      ],
                      "identity": {
                        "displayName": "Mark Moore",
                        "id": "b53fae07-7576-4086-9296-643086042bf7",
                        "tenantId": ""
                      }
                    },
                    {
                      "totalAttendanceInSeconds": 4680,
                      "role": "Student",
                      "emailAddress": "PageWGarcia@contoso.org",
                      "attendanceIntervals": [
                        {
                          "durationInSeconds": 4680,
                          "joinDateTime": "2022-1-14T15:49:00.00Z",
                          "leaveDateTime": "2022-1-14T17:7:00.00Z"
                        }
                      ],
                      "identity": {
                        "displayName": "Page Garcia",
                        "id": "93658ce3-b736-4a82-b023-108b0f146d23",
                        "tenantId": ""
                      }
                    },
                    {
                      "totalAttendanceInSeconds": 4260,
                      "role": "Student",
                      "emailAddress": "LeahJWenzel@contoso.org",
                      "attendanceIntervals": [
                        {
                          "durationInSeconds": 4260,
                          "joinDateTime": "2022-1-14T15:50:00.00Z",
                          "leaveDateTime": "2022-1-14T17:1:00.00Z"
                        }
                      ],
                      "identity": {
                        "displayName": "Leah Wenzel",
                        "id": "ac5e9ee7-c1e6-472d-a615-9d9af8cabfb2",
                        "tenantId": ""
                      }
                    },
                    {
                      "totalAttendanceInSeconds": 4200,
                      "role": "Student",
                      "emailAddress": "EllaJCole@contoso.org",
                      "attendanceIntervals": [
                        {
                          "durationInSeconds": 4200,
                          "joinDateTime": "2022-1-14T15:50:00.00Z",
                          "leaveDateTime": "2022-1-14T17:0:00.00Z"
                        }
                      ],
                      "identity": {
                        "displayName": "Ella Cole",
                        "id": "ab9e99e8-864a-4db1-9f6b-3db81dfb01c7",
                        "tenantId": ""
                      }
                    },
                    {
                      "totalAttendanceInSeconds": 4800,
                      "role": "Student",
                      "emailAddress": "AlyseDHatcher@contoso.org",
                      "attendanceIntervals": [
                        {
                          "durationInSeconds": 4800,
                          "joinDateTime": "2022-1-14T15:46:00.00Z",
                          "leaveDateTime": "2022-1-14T17:6:00.00Z"
                        }
                      ],
                      "identity": {
                        "displayName": "Alyse Hatcher",
                        "id": "35150b61-0982-4508-a33d-fd906e5436c5",
                        "tenantId": ""
                      }
                    },
                    {
                      "totalAttendanceInSeconds": 4500,
                      "role": "Student",
                      "emailAddress": "MichaelMWilliamson@contoso.org",
                      "attendanceIntervals": [
                        {
                          "durationInSeconds": 4500,
                          "joinDateTime": "2022-1-14T15:47:00.00Z",
                          "leaveDateTime": "2022-1-14T17:2:00.00Z"
                        }
                      ],
                      "identity": {
                        "displayName": "Michael Williamson",
                        "id": "ab5f03d2-28af-421f-8cb8-20b1bb21e8ee",
                        "tenantId": ""
                      }
                    },
                    {
                      "totalAttendanceInSeconds": 4800,
                      "role": "Student",
                      "emailAddress": "AnnaLVance@contoso.org",
                      "attendanceIntervals": [
                        {
                          "durationInSeconds": 4800,
                          "joinDateTime": "2022-1-14T15:49:00.00Z",
                          "leaveDateTime": "2022-1-14T17:9:00.00Z"
                        }
                      ],
                      "identity": {
                        "displayName": "Anna Vance",
                        "id": "c0ffc59d-819b-4901-85fd-ca842d28441d",
                        "tenantId": ""
                      }
                    },
                    {
                      "totalAttendanceInSeconds": 7680,
                      "role": "Student",
                      "emailAddress": "LonnieLStanley@contoso.org",
                      "attendanceIntervals": [
                        {
                          "durationInSeconds": 7680,
                          "joinDateTime": "2022-1-14T15:48:00.00Z",
                          "leaveDateTime": "2022-1-14T17:56:00.00Z"
                        }
                      ],
                      "identity": {
                        "displayName": "Lonnie Stanley",
                        "id": "06016255-91b4-4bf1-a70e-3468e463857f",
                        "tenantId": ""
                      }
                    }
                  ]
                },
                {
                  "0": "1e6102c7-a28c-4192-a9e4-255f6476ece3",
                  "1": "55",
                  "2": "2022-1-7T12:45:00.00Z",
                  "3": "2022-1-7T14:15:00.00Z",
                  "4": [
                    {
                      "totalAttendanceInSeconds": 4920,
                      "role": "Student",
                      "emailAddress": "MaryBBanks@contoso.org",
                      "attendanceIntervals": [
                        {
                          "durationInSeconds": 4920,
                          "joinDateTime": "2022-1-7T12:47:00.00Z",
                          "leaveDateTime": "2022-1-7T14:9:00.00Z"
                        }
                      ],
                      "identity": {
                        "displayName": "Mary Banks",
                        "id": "0cafc08b-c79e-4a76-8e15-88d778ae24b1",
                        "tenantId": ""
                      }
                    },
                    {
                      "totalAttendanceInSeconds": 7740,
                      "role": "Student",
                      "emailAddress": "TravisDO'Connor@contoso.org",
                      "attendanceIntervals": [
                        {
                          "durationInSeconds": 7740,
                          "joinDateTime": "2022-1-7T12:48:00.00Z",
                          "leaveDateTime": "2022-1-7T14:57:00.00Z"
                        }
                      ],
                      "identity": {
                        "displayName": "Travis O'Connor",
                        "id": "0f1a420f-7694-473f-8588-d2357f4c6958",
                        "tenantId": ""
                      }
                    },
                    {
                      "totalAttendanceInSeconds": 4620,
                      "role": "Student",
                      "emailAddress": "DoraIHernandez@contoso.org",
                      "attendanceIntervals": [
                        {
                          "durationInSeconds": 4620,
                          "joinDateTime": "2022-1-7T12:48:00.00Z",
                          "leaveDateTime": "2022-1-7T14:5:00.00Z"
                        }
                      ],
                      "identity": {
                        "displayName": "Dora Hernandez",
                        "id": "8c7d250b-59a9-4c78-a0a4-da7853d0e856",
                        "tenantId": ""
                      }
                    },
                    {
                      "totalAttendanceInSeconds": 5040,
                      "role": "Student",
                      "emailAddress": "BenjaminHHollins@contoso.org",
                      "attendanceIntervals": [
                        {
                          "durationInSeconds": 5040,
                          "joinDateTime": "2022-1-7T12:49:00.00Z",
                          "leaveDateTime": "2022-1-7T14:13:00.00Z"
                        }
                      ],
                      "identity": {
                        "displayName": "Benjamin Hollins",
                        "id": "226aa81d-a725-493f-8d7d-36a0952e8390",
                        "tenantId": ""
                      }
                    },
                    {
                      "totalAttendanceInSeconds": 4980,
                      "role": "Student",
                      "emailAddress": "DebbieBBlackwell@contoso.org",
                      "attendanceIntervals": [
                        {
                          "durationInSeconds": 4980,
                          "joinDateTime": "2022-1-7T12:46:00.00Z",
                          "leaveDateTime": "2022-1-7T14:9:00.00Z"
                        }
                      ],
                      "identity": {
                        "displayName": "Debbie Blackwell",
                        "id": "2fb26bb5-35e3-4a1c-bbc5-754825da6b92",
                        "tenantId": ""
                      }
                    },
                    {
                      "totalAttendanceInSeconds": 4920,
                      "role": "Student",
                      "emailAddress": "ScottVVillagomez@contoso.org",
                      "attendanceIntervals": [
                        {
                          "durationInSeconds": 4920,
                          "joinDateTime": "2022-1-7T12:49:00.00Z",
                          "leaveDateTime": "2022-1-7T14:11:00.00Z"
                        }
                      ],
                      "identity": {
                        "displayName": "Scott Villagomez",
                        "id": "2eab5439-c587-4fe1-bf8c-f1e194979967",
                        "tenantId": ""
                      }
                    },
                    {
                      "totalAttendanceInSeconds": 4260,
                      "role": "Student",
                      "emailAddress": "SaraPSilveira@contoso.org",
                      "attendanceIntervals": [
                        {
                          "durationInSeconds": 4260,
                          "joinDateTime": "2022-1-7T12:49:00.00Z",
                          "leaveDateTime": "2022-1-7T14:0:00.00Z"
                        }
                      ],
                      "identity": {
                        "displayName": "Sara Silveira",
                        "id": "87859c78-a388-4ccb-a332-128332a1be00",
                        "tenantId": ""
                      }
                    },
                    {
                      "totalAttendanceInSeconds": 4980,
                      "role": "Student",
                      "emailAddress": "RaymondCTownsend@contoso.org",
                      "attendanceIntervals": [
                        {
                          "durationInSeconds": 4980,
                          "joinDateTime": "2022-1-7T12:48:00.00Z",
                          "leaveDateTime": "2022-1-7T14:11:00.00Z"
                        }
                      ],
                      "identity": {
                        "displayName": "Raymond Townsend",
                        "id": "d22e3919-ebb2-4aec-8603-b3a0d32b7e6d",
                        "tenantId": ""
                      }
                    },
                    {
                      "totalAttendanceInSeconds": 4740,
                      "role": "Student",
                      "emailAddress": "LenoreAWolfe@contoso.org",
                      "attendanceIntervals": [
                        {
                          "durationInSeconds": 4740,
                          "joinDateTime": "2022-1-7T12:50:00.00Z",
                          "leaveDateTime": "2022-1-7T14:9:00.00Z"
                        }
                      ],
                      "identity": {
                        "displayName": "Lenore Wolfe",
                        "id": "6e3e8b36-749d-4763-b86a-6463c6909acf",
                        "tenantId": ""
                      }
                    },
                    {
                      "totalAttendanceInSeconds": 4620,
                      "role": "Student",
                      "emailAddress": "NoreenDBarnes@contoso.org",
                      "attendanceIntervals": [
                        {
                          "durationInSeconds": 4620,
                          "joinDateTime": "2022-1-7T12:46:00.00Z",
                          "leaveDateTime": "2022-1-7T14:3:00.00Z"
                        }
                      ],
                      "identity": {
                        "displayName": "Noreen Barnes",
                        "id": "9e3b376d-dc7d-4bc4-a90c-ac4007dd7d80",
                        "tenantId": ""
                      }
                    },
                    {
                      "totalAttendanceInSeconds": 4920,
                      "role": "Student",
                      "emailAddress": "JuliaAGonzalez@contoso.org",
                      "attendanceIntervals": [
                        {
                          "durationInSeconds": 4920,
                          "joinDateTime": "2022-1-7T12:50:00.00Z",
                          "leaveDateTime": "2022-1-7T14:12:00.00Z"
                        }
                      ],
                      "identity": {
                        "displayName": "Julia Gonzalez",
                        "id": "a2cdbe39-57c6-4d3a-b36d-0f8a12db04d0",
                        "tenantId": ""
                      }
                    },
                    {
                      "totalAttendanceInSeconds": 4380,
                      "role": "Student",
                      "emailAddress": "DanielHLawrence@contoso.org",
                      "attendanceIntervals": [
                        {
                          "durationInSeconds": 4380,
                          "joinDateTime": "2022-1-7T12:49:00.00Z",
                          "leaveDateTime": "2022-1-7T14:2:00.00Z"
                        }
                      ],
                      "identity": {
                        "displayName": "Daniel Lawrence",
                        "id": "438e2b0c-efca-4614-a39a-3fbb67c15773",
                        "tenantId": ""
                      }
                    },
                    {
                      "totalAttendanceInSeconds": 4860,
                      "role": "Student",
                      "emailAddress": "LaurenceCRobertson@contoso.org",
                      "attendanceIntervals": [
                        {
                          "durationInSeconds": 4860,
                          "joinDateTime": "2022-1-7T12:45:00.00Z",
                          "leaveDateTime": "2022-1-7T14:6:00.00Z"
                        }
                      ],
                      "identity": {
                        "displayName": "Laurence Robertson",
                        "id": "6abe3b5e-1cad-4327-808e-65ea7cfea460",
                        "tenantId": ""
                      }
                    },
                    {
                      "totalAttendanceInSeconds": 4980,
                      "role": "Student",
                      "emailAddress": "KennethKEllison@contoso.org",
                      "attendanceIntervals": [
                        {
                          "durationInSeconds": 4980,
                          "joinDateTime": "2022-1-7T12:48:00.00Z",
                          "leaveDateTime": "2022-1-7T14:11:00.00Z"
                        }
                      ],
                      "identity": {
                        "displayName": "Kenneth Ellison",
                        "id": "61adafae-7ea8-4b1b-8bfb-092b7d486392",
                        "tenantId": ""
                      }
                    },
                    {
                      "totalAttendanceInSeconds": 4500,
                      "role": "Student",
                      "emailAddress": "RachelHLukasik@contoso.org",
                      "attendanceIntervals": [
                        {
                          "durationInSeconds": 4500,
                          "joinDateTime": "2022-1-7T12:48:00.00Z",
                          "leaveDateTime": "2022-1-7T14:3:00.00Z"
                        }
                      ],
                      "identity": {
                        "displayName": "Rachel Lukasik",
                        "id": "3169496c-626c-4e44-bee2-8c21b407c529",
                        "tenantId": ""
                      }
                    },
                    {
                      "totalAttendanceInSeconds": 4380,
                      "role": "Student",
                      "emailAddress": "CourtneyJElwell@contoso.org",
                      "attendanceIntervals": [
                        {
                          "durationInSeconds": 4380,
                          "joinDateTime": "2022-1-7T12:49:00.00Z",
                          "leaveDateTime": "2022-1-7T14:2:00.00Z"
                        }
                      ],
                      "identity": {
                        "displayName": "Courtney Elwell",
                        "id": "f92e3d49-9637-41cb-a804-d078f1b3998c",
                        "tenantId": ""
                      }
                    },
                    {
                      "totalAttendanceInSeconds": 7800,
                      "role": "Student",
                      "emailAddress": "MarthaRGrace@contoso.org",
                      "attendanceIntervals": [
                        {
                          "durationInSeconds": 7800,
                          "joinDateTime": "2022-1-7T12:46:00.00Z",
                          "leaveDateTime": "2022-1-7T14:56:00.00Z"
                        }
                      ],
                      "identity": {
                        "displayName": "Martha Grace",
                        "id": "1b78784a-5709-45de-a6ee-d7325effbb1c",
                        "tenantId": ""
                      }
                    },
                    {
                      "totalAttendanceInSeconds": 5160,
                      "role": "Student",
                      "emailAddress": "TeresaDWoods@contoso.org",
                      "attendanceIntervals": [
                        {
                          "durationInSeconds": 5160,
                          "joinDateTime": "2022-1-7T12:49:00.00Z",
                          "leaveDateTime": "2022-1-7T14:15:00.00Z"
                        }
                      ],
                      "identity": {
                        "displayName": "Teresa Woods",
                        "id": "44d5b24c-07a1-4fe4-9536-adb3fae6348f",
                        "tenantId": ""
                      }
                    },
                    {
                      "totalAttendanceInSeconds": 4440,
                      "role": "Student",
                      "emailAddress": "ChrisTFisher@contoso.org",
                      "attendanceIntervals": [
                        {
                          "durationInSeconds": 4440,
                          "joinDateTime": "2022-1-7T12:48:00.00Z",
                          "leaveDateTime": "2022-1-7T14:2:00.00Z"
                        }
                      ],
                      "identity": {
                        "displayName": "Chris Fisher",
                        "id": "4c4ead7f-9069-4a7a-8d76-031c31909b98",
                        "tenantId": ""
                      }
                    },
                    {
                      "totalAttendanceInSeconds": 5160,
                      "role": "Student",
                      "emailAddress": "BelindaNLeiser@contoso.org",
                      "attendanceIntervals": [
                        {
                          "durationInSeconds": 5160,
                          "joinDateTime": "2022-1-7T12:45:00.00Z",
                          "leaveDateTime": "2022-1-7T14:11:00.00Z"
                        }
                      ],
                      "identity": {
                        "displayName": "Belinda Leiser",
                        "id": "4b4c8f51-7a20-45b3-b6f3-2212af34522e",
                        "tenantId": ""
                      }
                    },
                    {
                      "totalAttendanceInSeconds": 4380,
                      "role": "Student",
                      "emailAddress": "JamesCWoods@contoso.org",
                      "attendanceIntervals": [
                        {
                          "durationInSeconds": 4380,
                          "joinDateTime": "2022-1-7T12:47:00.00Z",
                          "leaveDateTime": "2022-1-7T14:0:00.00Z"
                        }
                      ],
                      "identity": {
                        "displayName": "James Woods",
                        "id": "b5a77d26-4d2f-465f-bd2e-b146bc89dddf",
                        "tenantId": ""
                      }
                    },
                    {
                      "totalAttendanceInSeconds": 4920,
                      "role": "Student",
                      "emailAddress": "RachelRSanchez@contoso.org",
                      "attendanceIntervals": [
                        {
                          "durationInSeconds": 4920,
                          "joinDateTime": "2022-1-7T12:47:00.00Z",
                          "leaveDateTime": "2022-1-7T14:9:00.00Z"
                        }
                      ],
                      "identity": {
                        "displayName": "Rachel Sanchez",
                        "id": "19bd65c0-160b-4563-8175-f8a55163e059",
                        "tenantId": ""
                      }
                    },
                    {
                      "totalAttendanceInSeconds": 4680,
                      "role": "Student",
                      "emailAddress": "LethaAJohnson@contoso.org",
                      "attendanceIntervals": [
                        {
                          "durationInSeconds": 4680,
                          "joinDateTime": "2022-1-7T12:50:00.00Z",
                          "leaveDateTime": "2022-1-7T14:8:00.00Z"
                        }
                      ],
                      "identity": {
                        "displayName": "Letha Johnson",
                        "id": "45cb53f2-5205-4786-a0a5-e5f6f2fdd403",
                        "tenantId": ""
                      }
                    },
                    {
                      "totalAttendanceInSeconds": 4620,
                      "role": "Student",
                      "emailAddress": "PatriciaAHart@contoso.org",
                      "attendanceIntervals": [
                        {
                          "durationInSeconds": 4620,
                          "joinDateTime": "2022-1-7T12:48:00.00Z",
                          "leaveDateTime": "2022-1-7T14:5:00.00Z"
                        }
                      ],
                      "identity": {
                        "displayName": "Patricia Hart",
                        "id": "43a140e0-a10a-4f2d-ad8f-f9731c949d66",
                        "tenantId": ""
                      }
                    },
                    {
                      "totalAttendanceInSeconds": 5280,
                      "role": "Student",
                      "emailAddress": "JoanJEstrada@contoso.org",
                      "attendanceIntervals": [
                        {
                          "durationInSeconds": 5280,
                          "joinDateTime": "2022-1-7T12:47:00.00Z",
                          "leaveDateTime": "2022-1-7T14:15:00.00Z"
                        }
                      ],
                      "identity": {
                        "displayName": "Joan Estrada",
                        "id": "8d707e16-e0dc-4fc2-9b9f-09f459eaec98",
                        "tenantId": ""
                      }
                    },
                    {
                      "totalAttendanceInSeconds": 4440,
                      "role": "Student",
                      "emailAddress": "JudithJStahl@contoso.org",
                      "attendanceIntervals": [
                        {
                          "durationInSeconds": 4440,
                          "joinDateTime": "2022-1-7T12:49:00.00Z",
                          "leaveDateTime": "2022-1-7T14:3:00.00Z"
                        }
                      ],
                      "identity": {
                        "displayName": "Judith Stahl",
                        "id": "c4d9cf80-bd0b-4f2b-87d8-71a8f6dd066e",
                        "tenantId": ""
                      }
                    },
                    {
                      "totalAttendanceInSeconds": 7920,
                      "role": "Student",
                      "emailAddress": "WillieRGagne@contoso.org",
                      "attendanceIntervals": [
                        {
                          "durationInSeconds": 7920,
                          "joinDateTime": "2022-1-7T12:45:00.00Z",
                          "leaveDateTime": "2022-1-7T14:57:00.00Z"
                        }
                      ],
                      "identity": {
                        "displayName": "Willie Gagne",
                        "id": "99eed98a-a8d9-4d47-96e7-cb22b3f01279",
                        "tenantId": ""
                      }
                    },
                    {
                      "totalAttendanceInSeconds": 7500,
                      "role": "Student",
                      "emailAddress": "ManaJNault@contoso.org",
                      "attendanceIntervals": [
                        {
                          "durationInSeconds": 7500,
                          "joinDateTime": "2022-1-7T12:50:00.00Z",
                          "leaveDateTime": "2022-1-7T14:55:00.00Z"
                        }
                      ],
                      "identity": {
                        "displayName": "Mana Nault",
                        "id": "05011c85-7378-4263-b761-c379983bd5c3",
                        "tenantId": ""
                      }
                    },
                    {
                      "totalAttendanceInSeconds": 5160,
                      "role": "Student",
                      "emailAddress": "AdrianDMiller@contoso.org",
                      "attendanceIntervals": [
                        {
                          "durationInSeconds": 5160,
                          "joinDateTime": "2022-1-7T12:46:00.00Z",
                          "leaveDateTime": "2022-1-7T14:12:00.00Z"
                        }
                      ],
                      "identity": {
                        "displayName": "Adrian Miller",
                        "id": "0fdfe2bb-159d-4d74-bcde-41eb11c8f2c4",
                        "tenantId": ""
                      }
                    },
                    {
                      "totalAttendanceInSeconds": 7740,
                      "role": "Student",
                      "emailAddress": "RosalieDWalker@contoso.org",
                      "attendanceIntervals": [
                        {
                          "durationInSeconds": 7740,
                          "joinDateTime": "2022-1-7T12:47:00.00Z",
                          "leaveDateTime": "2022-1-7T14:56:00.00Z"
                        }
                      ],
                      "identity": {
                        "displayName": "Rosalie Walker",
                        "id": "cefa9f5d-576f-471d-ab57-f20647b63056",
                        "tenantId": ""
                      }
                    },
                    {
                      "totalAttendanceInSeconds": 7680,
                      "role": "Student",
                      "emailAddress": "WillaEMelendez@contoso.org",
                      "attendanceIntervals": [
                        {
                          "durationInSeconds": 7680,
                          "joinDateTime": "2022-1-7T12:48:00.00Z",
                          "leaveDateTime": "2022-1-7T14:56:00.00Z"
                        }
                      ],
                      "identity": {
                        "displayName": "Willa Melendez",
                        "id": "b0498d32-9501-47e0-8a6d-754e88521f03",
                        "tenantId": ""
                      }
                    },
                    {
                      "totalAttendanceInSeconds": 7800,
                      "role": "Student",
                      "emailAddress": "RobertDRichard@contoso.org",
                      "attendanceIntervals": [
                        {
                          "durationInSeconds": 7800,
                          "joinDateTime": "2022-1-7T12:46:00.00Z",
                          "leaveDateTime": "2022-1-7T14:56:00.00Z"
                        }
                      ],
                      "identity": {
                        "displayName": "Robert Richard",
                        "id": "04a81573-ec2f-492c-bf9c-55d1d2cdd11d",
                        "tenantId": ""
                      }
                    },
                    {
                      "totalAttendanceInSeconds": 5160,
                      "role": "Student",
                      "emailAddress": "MiriamEGray@contoso.org",
                      "attendanceIntervals": [
                        {
                          "durationInSeconds": 5160,
                          "joinDateTime": "2022-1-7T12:48:00.00Z",
                          "leaveDateTime": "2022-1-7T14:14:00.00Z"
                        }
                      ],
                      "identity": {
                        "displayName": "Miriam Gray",
                        "id": "7ee0591f-b9a6-4593-a277-f1815231038a",
                        "tenantId": ""
                      }
                    },
                    {
                      "totalAttendanceInSeconds": 4680,
                      "role": "Student",
                      "emailAddress": "ThomasJFord@contoso.org",
                      "attendanceIntervals": [
                        {
                          "durationInSeconds": 4680,
                          "joinDateTime": "2022-1-7T12:46:00.00Z",
                          "leaveDateTime": "2022-1-7T14:4:00.00Z"
                        }
                      ],
                      "identity": {
                        "displayName": "Thomas Ford",
                        "id": "a53b541a-71d6-45d6-9eb8-b35380a6c4ab",
                        "tenantId": ""
                      }
                    },
                    {
                      "totalAttendanceInSeconds": 7800,
                      "role": "Student",
                      "emailAddress": "WilliamMSteinbeck@contoso.org",
                      "attendanceIntervals": [
                        {
                          "durationInSeconds": 7800,
                          "joinDateTime": "2022-1-7T12:46:00.00Z",
                          "leaveDateTime": "2022-1-7T14:56:00.00Z"
                        }
                      ],
                      "identity": {
                        "displayName": "William Steinbeck",
                        "id": "bc7ddc14-0151-4f0f-a714-fbd132056cca",
                        "tenantId": ""
                      }
                    },
                    {
                      "totalAttendanceInSeconds": 5040,
                      "role": "Student",
                      "emailAddress": "MichaelHThomas@contoso.org",
                      "attendanceIntervals": [
                        {
                          "durationInSeconds": 5040,
                          "joinDateTime": "2022-1-7T12:49:00.00Z",
                          "leaveDateTime": "2022-1-7T14:13:00.00Z"
                        }
                      ],
                      "identity": {
                        "displayName": "Michael Thomas",
                        "id": "68ecf08b-316c-4808-a534-119122c615d0",
                        "tenantId": ""
                      }
                    },
                    {
                      "totalAttendanceInSeconds": 7620,
                      "role": "Student",
                      "emailAddress": "StuartYCarty@contoso.org",
                      "attendanceIntervals": [
                        {
                          "durationInSeconds": 7620,
                          "joinDateTime": "2022-1-7T12:49:00.00Z",
                          "leaveDateTime": "2022-1-7T14:56:00.00Z"
                        }
                      ],
                      "identity": {
                        "displayName": "Stuart Carty",
                        "id": "a223ab3d-af6b-4ddd-aae0-8620ed4a18c3",
                        "tenantId": ""
                      }
                    },
                    {
                      "totalAttendanceInSeconds": 7920,
                      "role": "Student",
                      "emailAddress": "LindaFClark@contoso.org",
                      "attendanceIntervals": [
                        {
                          "durationInSeconds": 7920,
                          "joinDateTime": "2022-1-7T12:46:00.00Z",
                          "leaveDateTime": "2022-1-7T14:58:00.00Z"
                        }
                      ],
                      "identity": {
                        "displayName": "Linda Clark",
                        "id": "c0529702-98a7-4247-b007-99ecc65ea603",
                        "tenantId": ""
                      }
                    },
                    {
                      "totalAttendanceInSeconds": 5280,
                      "role": "Student",
                      "emailAddress": "ClaireFMartinez@contoso.org",
                      "attendanceIntervals": [
                        {
                          "durationInSeconds": 5280,
                          "joinDateTime": "2022-1-7T12:47:00.00Z",
                          "leaveDateTime": "2022-1-7T14:15:00.00Z"
                        }
                      ],
                      "identity": {
                        "displayName": "Claire Martinez",
                        "id": "12e091ce-18a0-443c-a807-b97b4a0dd107",
                        "tenantId": ""
                      }
                    },
                    {
                      "totalAttendanceInSeconds": 5160,
                      "role": "Student",
                      "emailAddress": "BernardSRemer@contoso.org",
                      "attendanceIntervals": [
                        {
                          "durationInSeconds": 5160,
                          "joinDateTime": "2022-1-7T12:45:00.00Z",
                          "leaveDateTime": "2022-1-7T14:11:00.00Z"
                        }
                      ],
                      "identity": {
                        "displayName": "Bernard Remer",
                        "id": "907ee259-2e70-4488-9fb2-1eb39e657e47",
                        "tenantId": ""
                      }
                    },
                    {
                      "totalAttendanceInSeconds": 4920,
                      "role": "Student",
                      "emailAddress": "JamesAClark@contoso.org",
                      "attendanceIntervals": [
                        {
                          "durationInSeconds": 4920,
                          "joinDateTime": "2022-1-7T12:49:00.00Z",
                          "leaveDateTime": "2022-1-7T14:11:00.00Z"
                        }
                      ],
                      "identity": {
                        "displayName": "James Clark",
                        "id": "39ccf924-e456-437d-aff1-cca48ea64b28",
                        "tenantId": ""
                      }
                    },
                    {
                      "totalAttendanceInSeconds": 4560,
                      "role": "Student",
                      "emailAddress": "VanALevine@contoso.org",
                      "attendanceIntervals": [
                        {
                          "durationInSeconds": 4560,
                          "joinDateTime": "2022-1-7T12:49:00.00Z",
                          "leaveDateTime": "2022-1-7T14:5:00.00Z"
                        }
                      ],
                      "identity": {
                        "displayName": "Van Levine",
                        "id": "012dbf5e-8642-45ed-9cfb-1640b2913ccd",
                        "tenantId": ""
                      }
                    },
                    {
                      "totalAttendanceInSeconds": 5160,
                      "role": "Student",
                      "emailAddress": "JoeyLFrey@contoso.org",
                      "attendanceIntervals": [
                        {
                          "durationInSeconds": 5160,
                          "joinDateTime": "2022-1-7T12:45:00.00Z",
                          "leaveDateTime": "2022-1-7T14:11:00.00Z"
                        }
                      ],
                      "identity": {
                        "displayName": "Joey Frey",
                        "id": "fa91322a-e7b3-4311-8e7b-7304add3480b",
                        "tenantId": ""
                      }
                    },
                    {
                      "totalAttendanceInSeconds": 4980,
                      "role": "Student",
                      "emailAddress": "RobertENelson@contoso.org",
                      "attendanceIntervals": [
                        {
                          "durationInSeconds": 4980,
                          "joinDateTime": "2022-1-7T12:45:00.00Z",
                          "leaveDateTime": "2022-1-7T14:8:00.00Z"
                        }
                      ],
                      "identity": {
                        "displayName": "Robert Nelson",
                        "id": "8b7288ee-cf46-46e6-bbb1-201f2b746034",
                        "tenantId": ""
                      }
                    },
                    {
                      "totalAttendanceInSeconds": 7860,
                      "role": "Student",
                      "emailAddress": "BeverlyLNee@contoso.org",
                      "attendanceIntervals": [
                        {
                          "durationInSeconds": 7860,
                          "joinDateTime": "2022-1-7T12:47:00.00Z",
                          "leaveDateTime": "2022-1-7T14:58:00.00Z"
                        }
                      ],
                      "identity": {
                        "displayName": "Beverly Nee",
                        "id": "3908e0ac-8d33-4e67-b7f0-b268fe82897a",
                        "tenantId": ""
                      }
                    },
                    {
                      "totalAttendanceInSeconds": 7860,
                      "role": "Student",
                      "emailAddress": "RandyKCota@contoso.org",
                      "attendanceIntervals": [
                        {
                          "durationInSeconds": 7860,
                          "joinDateTime": "2022-1-7T12:45:00.00Z",
                          "leaveDateTime": "2022-1-7T14:56:00.00Z"
                        }
                      ],
                      "identity": {
                        "displayName": "Randy Cota",
                        "id": "3ff292c6-0d0e-48c9-92cb-ca9d89e7a2a6",
                        "tenantId": ""
                      }
                    },
                    {
                      "totalAttendanceInSeconds": 4920,
                      "role": "Student",
                      "emailAddress": "MichelleTNewsom@contoso.org",
                      "attendanceIntervals": [
                        {
                          "durationInSeconds": 4920,
                          "joinDateTime": "2022-1-7T12:47:00.00Z",
                          "leaveDateTime": "2022-1-7T14:9:00.00Z"
                        }
                      ],
                      "identity": {
                        "displayName": "Michelle Newsom",
                        "id": "99b73ba4-6fa0-4b45-8d25-d46fbf1d5b29",
                        "tenantId": ""
                      }
                    },
                    {
                      "totalAttendanceInSeconds": 4860,
                      "role": "Student",
                      "emailAddress": "JamesAHargrove@contoso.org",
                      "attendanceIntervals": [
                        {
                          "durationInSeconds": 4860,
                          "joinDateTime": "2022-1-7T12:50:00.00Z",
                          "leaveDateTime": "2022-1-7T14:11:00.00Z"
                        }
                      ],
                      "identity": {
                        "displayName": "James Hargrove",
                        "id": "5720de86-3f4d-4a66-91be-456c51fb3f6f",
                        "tenantId": ""
                      }
                    },
                    {
                      "totalAttendanceInSeconds": 4800,
                      "role": "Student",
                      "emailAddress": "TimothyADaley@contoso.org",
                      "attendanceIntervals": [
                        {
                          "durationInSeconds": 4800,
                          "joinDateTime": "2022-1-7T12:50:00.00Z",
                          "leaveDateTime": "2022-1-7T14:10:00.00Z"
                        }
                      ],
                      "identity": {
                        "displayName": "Timothy Daley",
                        "id": "99973390-9e03-46da-a5c7-943e8379f398",
                        "tenantId": ""
                      }
                    },
                    {
                      "totalAttendanceInSeconds": 4800,
                      "role": "Student",
                      "emailAddress": "AlyseDHatcher@contoso.org",
                      "attendanceIntervals": [
                        {
                          "durationInSeconds": 4800,
                          "joinDateTime": "2022-1-7T12:47:00.00Z",
                          "leaveDateTime": "2022-1-7T14:7:00.00Z"
                        }
                      ],
                      "identity": {
                        "displayName": "Alyse Hatcher",
                        "id": "35150b61-0982-4508-a33d-fd906e5436c5",
                        "tenantId": ""
                      }
                    },
                    {
                      "totalAttendanceInSeconds": 4680,
                      "role": "Student",
                      "emailAddress": "HarrietTMartin@contoso.org",
                      "attendanceIntervals": [
                        {
                          "durationInSeconds": 4680,
                          "joinDateTime": "2022-1-7T12:49:00.00Z",
                          "leaveDateTime": "2022-1-7T14:7:00.00Z"
                        }
                      ],
                      "identity": {
                        "displayName": "Harriet Martin",
                        "id": "92168926-cce8-489e-8496-e7b72f597642",
                        "tenantId": ""
                      }
                    },
                    {
                      "totalAttendanceInSeconds": 7440,
                      "role": "Student",
                      "emailAddress": "LonnieLStanley@contoso.org",
                      "attendanceIntervals": [
                        {
                          "durationInSeconds": 7440,
                          "joinDateTime": "2022-1-7T12:50:00.00Z",
                          "leaveDateTime": "2022-1-7T14:54:00.00Z"
                        }
                      ],
                      "identity": {
                        "displayName": "Lonnie Stanley",
                        "id": "06016255-91b4-4bf1-a70e-3468e463857f",
                        "tenantId": ""
                      }
                    },
                    {
                      "totalAttendanceInSeconds": 4860,
                      "role": "Student",
                      "emailAddress": "CharlesHHarmon@contoso.org",
                      "attendanceIntervals": [
                        {
                          "durationInSeconds": 4860,
                          "joinDateTime": "2022-1-7T12:46:00.00Z",
                          "leaveDateTime": "2022-1-7T14:7:00.00Z"
                        }
                      ],
                      "identity": {
                        "displayName": "Charles Harmon",
                        "id": "fddafe82-4de5-4b9b-940d-b6e192c593ae",
                        "tenantId": ""
                      }
                    }
                  ]
                },
                {
                  "0": "1d8f4cf2-1752-42b0-9317-f1cc962ec368",
                  "1": "57",
                  "2": "2022-1-12T12:15:00.00Z",
                  "3": "2022-1-12T13:30:00.00Z",
                  "4": [
                    {
                      "totalAttendanceInSeconds": 3480,
                      "role": "Student",
                      "emailAddress": "RebeccaDLucas@contoso.org",
                      "attendanceIntervals": [
                        {
                          "durationInSeconds": 3480,
                          "joinDateTime": "2022-1-12T12:19:00.00Z",
                          "leaveDateTime": "2022-1-12T13:17:00.00Z"
                        }
                      ],
                      "identity": {
                        "displayName": "Rebecca Lucas",
                        "id": "4f276ad2-83a6-4a55-b59c-592b69427ca9",
                        "tenantId": ""
                      }
                    },
                    {
                      "totalAttendanceInSeconds": 3960,
                      "role": "Student",
                      "emailAddress": "MaryBBanks@contoso.org",
                      "attendanceIntervals": [
                        {
                          "durationInSeconds": 3960,
                          "joinDateTime": "2022-1-12T12:17:00.00Z",
                          "leaveDateTime": "2022-1-12T13:23:00.00Z"
                        }
                      ],
                      "identity": {
                        "displayName": "Mary Banks",
                        "id": "0cafc08b-c79e-4a76-8e15-88d778ae24b1",
                        "tenantId": ""
                      }
                    },
                    {
                      "totalAttendanceInSeconds": 3180,
                      "role": "Student",
                      "emailAddress": "JasonBMoore@contoso.org",
                      "attendanceIntervals": [
                        {
                          "durationInSeconds": 3180,
                          "joinDateTime": "2022-1-12T12:17:00.00Z",
                          "leaveDateTime": "2022-1-12T13:10:00.00Z"
                        }
                      ],
                      "identity": {
                        "displayName": "Jason Moore",
                        "id": "a7b58425-fdd2-4bf1-92cf-f66761c8de8e",
                        "tenantId": ""
                      }
                    },
                    {
                      "totalAttendanceInSeconds": 4380,
                      "role": "Student",
                      "emailAddress": "DoraIHernandez@contoso.org",
                      "attendanceIntervals": [
                        {
                          "durationInSeconds": 4380,
                          "joinDateTime": "2022-1-12T12:17:00.00Z",
                          "leaveDateTime": "2022-1-12T13:30:00.00Z"
                        }
                      ],
                      "identity": {
                        "displayName": "Dora Hernandez",
                        "id": "8c7d250b-59a9-4c78-a0a4-da7853d0e856",
                        "tenantId": ""
                      }
                    },
                    {
                      "totalAttendanceInSeconds": 4260,
                      "role": "Student",
                      "emailAddress": "BenjaminHHollins@contoso.org",
                      "attendanceIntervals": [
                        {
                          "durationInSeconds": 4260,
                          "joinDateTime": "2022-1-12T12:18:00.00Z",
                          "leaveDateTime": "2022-1-12T13:29:00.00Z"
                        }
                      ],
                      "identity": {
                        "displayName": "Benjamin Hollins",
                        "id": "226aa81d-a725-493f-8d7d-36a0952e8390",
                        "tenantId": ""
                      }
                    },
                    {
                      "totalAttendanceInSeconds": 4320,
                      "role": "Student",
                      "emailAddress": "DebbieBBlackwell@contoso.org",
                      "attendanceIntervals": [
                        {
                          "durationInSeconds": 4320,
                          "joinDateTime": "2022-1-12T12:18:00.00Z",
                          "leaveDateTime": "2022-1-12T13:30:00.00Z"
                        }
                      ],
                      "identity": {
                        "displayName": "Debbie Blackwell",
                        "id": "2fb26bb5-35e3-4a1c-bbc5-754825da6b92",
                        "tenantId": ""
                      }
                    },
                    {
                      "totalAttendanceInSeconds": 4020,
                      "role": "Student",
                      "emailAddress": "ClaudiaWDesai@contoso.org",
                      "attendanceIntervals": [
                        {
                          "durationInSeconds": 4020,
                          "joinDateTime": "2022-1-12T12:20:00.00Z",
                          "leaveDateTime": "2022-1-12T13:27:00.00Z"
                        }
                      ],
                      "identity": {
                        "displayName": "Claudia Desai",
                        "id": "1aee3441-b3a0-4995-840d-789249e43663",
                        "tenantId": ""
                      }
                    },
                    {
                      "totalAttendanceInSeconds": 3120,
                      "role": "Student",
                      "emailAddress": "ScottVVillagomez@contoso.org",
                      "attendanceIntervals": [
                        {
                          "durationInSeconds": 3120,
                          "joinDateTime": "2022-1-12T12:18:00.00Z",
                          "leaveDateTime": "2022-1-12T13:10:00.00Z"
                        }
                      ],
                      "identity": {
                        "displayName": "Scott Villagomez",
                        "id": "2eab5439-c587-4fe1-bf8c-f1e194979967",
                        "tenantId": ""
                      }
                    },
                    {
                      "totalAttendanceInSeconds": 3420,
                      "role": "Student",
                      "emailAddress": "SaraPSilveira@contoso.org",
                      "attendanceIntervals": [
                        {
                          "durationInSeconds": 3420,
                          "joinDateTime": "2022-1-12T12:19:00.00Z",
                          "leaveDateTime": "2022-1-12T13:16:00.00Z"
                        }
                      ],
                      "identity": {
                        "displayName": "Sara Silveira",
                        "id": "87859c78-a388-4ccb-a332-128332a1be00",
                        "tenantId": ""
                      }
                    },
                    {
                      "totalAttendanceInSeconds": 3300,
                      "role": "Student",
                      "emailAddress": "ShamikaJGregory@contoso.org",
                      "attendanceIntervals": [
                        {
                          "durationInSeconds": 3300,
                          "joinDateTime": "2022-1-12T12:18:00.00Z",
                          "leaveDateTime": "2022-1-12T13:13:00.00Z"
                        }
                      ],
                      "identity": {
                        "displayName": "Shamika Gregory",
                        "id": "d5eed8ae-0d1b-40c8-8716-602f19c6d4b3",
                        "tenantId": ""
                      }
                    },
                    {
                      "totalAttendanceInSeconds": 3480,
                      "role": "Student",
                      "emailAddress": "CarlTMcCray@contoso.org",
                      "attendanceIntervals": [
                        {
                          "durationInSeconds": 3480,
                          "joinDateTime": "2022-1-12T12:19:00.00Z",
                          "leaveDateTime": "2022-1-12T13:17:00.00Z"
                        }
                      ],
                      "identity": {
                        "displayName": "Carl McCray",
                        "id": "a690a55a-a7d8-4b6a-8429-b89869314c5d",
                        "tenantId": ""
                      }
                    },
                    {
                      "totalAttendanceInSeconds": 4140,
                      "role": "Student",
                      "emailAddress": "MarthaTMcLaughlin@contoso.org",
                      "attendanceIntervals": [
                        {
                          "durationInSeconds": 4140,
                          "joinDateTime": "2022-1-12T12:20:00.00Z",
                          "leaveDateTime": "2022-1-12T13:29:00.00Z"
                        }
                      ],
                      "identity": {
                        "displayName": "Martha McLaughlin",
                        "id": "d636abe1-0e5f-4fb3-baae-7f97e13a298c",
                        "tenantId": ""
                      }
                    },
                    {
                      "totalAttendanceInSeconds": 3480,
                      "role": "Student",
                      "emailAddress": "RachelHLukasik@contoso.org",
                      "attendanceIntervals": [
                        {
                          "durationInSeconds": 3480,
                          "joinDateTime": "2022-1-12T12:20:00.00Z",
                          "leaveDateTime": "2022-1-12T13:18:00.00Z"
                        }
                      ],
                      "identity": {
                        "displayName": "Rachel Lukasik",
                        "id": "3169496c-626c-4e44-bee2-8c21b407c529",
                        "tenantId": ""
                      }
                    },
                    {
                      "totalAttendanceInSeconds": 3960,
                      "role": "Student",
                      "emailAddress": "VanessaMSchmidt@contoso.org",
                      "attendanceIntervals": [
                        {
                          "durationInSeconds": 3960,
                          "joinDateTime": "2022-1-12T12:18:00.00Z",
                          "leaveDateTime": "2022-1-12T13:24:00.00Z"
                        }
                      ],
                      "identity": {
                        "displayName": "Vanessa Schmidt",
                        "id": "f8b56c4e-435a-4d0d-bb79-393d6d52eac2",
                        "tenantId": ""
                      }
                    },
                    {
                      "totalAttendanceInSeconds": 3240,
                      "role": "Student",
                      "emailAddress": "JohnEReynolds@contoso.org",
                      "attendanceIntervals": [
                        {
                          "durationInSeconds": 3240,
                          "joinDateTime": "2022-1-12T12:17:00.00Z",
                          "leaveDateTime": "2022-1-12T13:11:00.00Z"
                        }
                      ],
                      "identity": {
                        "displayName": "John Reynolds",
                        "id": "f69ce4bb-5618-41bf-9187-fe5b9d50f060",
                        "tenantId": ""
                      }
                    },
                    {
                      "totalAttendanceInSeconds": 4200,
                      "role": "Student",
                      "emailAddress": "BonnieHBello@contoso.org",
                      "attendanceIntervals": [
                        {
                          "durationInSeconds": 4200,
                          "joinDateTime": "2022-1-12T12:18:00.00Z",
                          "leaveDateTime": "2022-1-12T13:28:00.00Z"
                        }
                      ],
                      "identity": {
                        "displayName": "Bonnie Bello",
                        "id": "00bed1be-4a52-4bfa-802a-ecf7891f01a6",
                        "tenantId": ""
                      }
                    },
                    {
                      "totalAttendanceInSeconds": 3540,
                      "role": "Student",
                      "emailAddress": "TabithaCMorales@contoso.org",
                      "attendanceIntervals": [
                        {
                          "durationInSeconds": 3540,
                          "joinDateTime": "2022-1-12T12:17:00.00Z",
                          "leaveDateTime": "2022-1-12T13:16:00.00Z"
                        }
                      ],
                      "identity": {
                        "displayName": "Tabitha Morales",
                        "id": "6eba85cf-9f59-44f2-bf85-1c1bbcc83a45",
                        "tenantId": ""
                      }
                    },
                    {
                      "totalAttendanceInSeconds": 3780,
                      "role": "Student",
                      "emailAddress": "CourtneyJElwell@contoso.org",
                      "attendanceIntervals": [
                        {
                          "durationInSeconds": 3780,
                          "joinDateTime": "2022-1-12T12:15:00.00Z",
                          "leaveDateTime": "2022-1-12T13:18:00.00Z"
                        }
                      ],
                      "identity": {
                        "displayName": "Courtney Elwell",
                        "id": "f92e3d49-9637-41cb-a804-d078f1b3998c",
                        "tenantId": ""
                      }
                    },
                    {
                      "totalAttendanceInSeconds": 4320,
                      "role": "Student",
                      "emailAddress": "MarthaRGrace@contoso.org",
                      "attendanceIntervals": [
                        {
                          "durationInSeconds": 4320,
                          "joinDateTime": "2022-1-12T12:15:00.00Z",
                          "leaveDateTime": "2022-1-12T13:27:00.00Z"
                        }
                      ],
                      "identity": {
                        "displayName": "Martha Grace",
                        "id": "1b78784a-5709-45de-a6ee-d7325effbb1c",
                        "tenantId": ""
                      }
                    },
                    {
                      "totalAttendanceInSeconds": 3780,
                      "role": "Student",
                      "emailAddress": "RachelGRamsey@contoso.org",
                      "attendanceIntervals": [
                        {
                          "durationInSeconds": 3780,
                          "joinDateTime": "2022-1-12T12:17:00.00Z",
                          "leaveDateTime": "2022-1-12T13:20:00.00Z"
                        }
                      ],
                      "identity": {
                        "displayName": "Rachel Ramsey",
                        "id": "40ee7744-a6c9-4be6-a7a5-17153f37ee26",
                        "tenantId": ""
                      }
                    },
                    {
                      "totalAttendanceInSeconds": 3480,
                      "role": "Student",
                      "emailAddress": "TeresaDWoods@contoso.org",
                      "attendanceIntervals": [
                        {
                          "durationInSeconds": 3480,
                          "joinDateTime": "2022-1-12T12:17:00.00Z",
                          "leaveDateTime": "2022-1-12T13:15:00.00Z"
                        }
                      ],
                      "identity": {
                        "displayName": "Teresa Woods",
                        "id": "44d5b24c-07a1-4fe4-9536-adb3fae6348f",
                        "tenantId": ""
                      }
                    },
                    {
                      "totalAttendanceInSeconds": 3120,
                      "role": "Student",
                      "emailAddress": "LoisHRecinos@contoso.org",
                      "attendanceIntervals": [
                        {
                          "durationInSeconds": 3120,
                          "joinDateTime": "2022-1-12T12:18:00.00Z",
                          "leaveDateTime": "2022-1-12T13:10:00.00Z"
                        }
                      ],
                      "identity": {
                        "displayName": "Lois Recinos",
                        "id": "a5b205a5-6170-4f83-9b0c-a42e0cd12cdb",
                        "tenantId": ""
                      }
                    },
                    {
                      "totalAttendanceInSeconds": 3240,
                      "role": "Student",
                      "emailAddress": "BradleyCWilmoth@contoso.org",
                      "attendanceIntervals": [
                        {
                          "durationInSeconds": 3240,
                          "joinDateTime": "2022-1-12T12:18:00.00Z",
                          "leaveDateTime": "2022-1-12T13:12:00.00Z"
                        }
                      ],
                      "identity": {
                        "displayName": "Bradley Wilmoth",
                        "id": "20338e4e-0276-485d-b499-3d6988c629bf",
                        "tenantId": ""
                      }
                    },
                    {
                      "totalAttendanceInSeconds": 3180,
                      "role": "Student",
                      "emailAddress": "RachelRSanchez@contoso.org",
                      "attendanceIntervals": [
                        {
                          "durationInSeconds": 3180,
                          "joinDateTime": "2022-1-12T12:18:00.00Z",
                          "leaveDateTime": "2022-1-12T13:11:00.00Z"
                        }
                      ],
                      "identity": {
                        "displayName": "Rachel Sanchez",
                        "id": "19bd65c0-160b-4563-8175-f8a55163e059",
                        "tenantId": ""
                      }
                    },
                    {
                      "totalAttendanceInSeconds": 4200,
                      "role": "Student",
                      "emailAddress": "HectorMScott@contoso.org",
                      "attendanceIntervals": [
                        {
                          "durationInSeconds": 4200,
                          "joinDateTime": "2022-1-12T12:16:00.00Z",
                          "leaveDateTime": "2022-1-12T13:26:00.00Z"
                        }
                      ],
                      "identity": {
                        "displayName": "Hector Scott",
                        "id": "8be228a8-c642-4ed6-8251-de6ca831a197",
                        "tenantId": ""
                      }
                    },
                    {
                      "totalAttendanceInSeconds": 3840,
                      "role": "Student",
                      "emailAddress": "LethaAJohnson@contoso.org",
                      "attendanceIntervals": [
                        {
                          "durationInSeconds": 3840,
                          "joinDateTime": "2022-1-12T12:19:00.00Z",
                          "leaveDateTime": "2022-1-12T13:23:00.00Z"
                        }
                      ],
                      "identity": {
                        "displayName": "Letha Johnson",
                        "id": "45cb53f2-5205-4786-a0a5-e5f6f2fdd403",
                        "tenantId": ""
                      }
                    },
                    {
                      "totalAttendanceInSeconds": 3720,
                      "role": "Student",
                      "emailAddress": "MatthewMAlston@contoso.org",
                      "attendanceIntervals": [
                        {
                          "durationInSeconds": 3720,
                          "joinDateTime": "2022-1-12T12:15:00.00Z",
                          "leaveDateTime": "2022-1-12T13:17:00.00Z"
                        }
                      ],
                      "identity": {
                        "displayName": "Matthew Alston",
                        "id": "fc3c5426-9cda-43b7-9a1a-996df458cf85",
                        "tenantId": ""
                      }
                    },
                    {
                      "totalAttendanceInSeconds": 3480,
                      "role": "Student",
                      "emailAddress": "JoanJEstrada@contoso.org",
                      "attendanceIntervals": [
                        {
                          "durationInSeconds": 3480,
                          "joinDateTime": "2022-1-12T12:18:00.00Z",
                          "leaveDateTime": "2022-1-12T13:16:00.00Z"
                        }
                      ],
                      "identity": {
                        "displayName": "Joan Estrada",
                        "id": "8d707e16-e0dc-4fc2-9b9f-09f459eaec98",
                        "tenantId": ""
                      }
                    },
                    {
                      "totalAttendanceInSeconds": 3780,
                      "role": "Student",
                      "emailAddress": "ManaJNault@contoso.org",
                      "attendanceIntervals": [
                        {
                          "durationInSeconds": 3780,
                          "joinDateTime": "2022-1-12T12:19:00.00Z",
                          "leaveDateTime": "2022-1-12T13:22:00.00Z"
                        }
                      ],
                      "identity": {
                        "displayName": "Mana Nault",
                        "id": "05011c85-7378-4263-b761-c379983bd5c3",
                        "tenantId": ""
                      }
                    },
                    {
                      "totalAttendanceInSeconds": 3780,
                      "role": "Student",
                      "emailAddress": "AdrianDMiller@contoso.org",
                      "attendanceIntervals": [
                        {
                          "durationInSeconds": 3780,
                          "joinDateTime": "2022-1-12T12:19:00.00Z",
                          "leaveDateTime": "2022-1-12T13:22:00.00Z"
                        }
                      ],
                      "identity": {
                        "displayName": "Adrian Miller",
                        "id": "0fdfe2bb-159d-4d74-bcde-41eb11c8f2c4",
                        "tenantId": ""
                      }
                    },
                    {
                      "totalAttendanceInSeconds": 3480,
                      "role": "Student",
                      "emailAddress": "RosalieDWalker@contoso.org",
                      "attendanceIntervals": [
                        {
                          "durationInSeconds": 3480,
                          "joinDateTime": "2022-1-12T12:20:00.00Z",
                          "leaveDateTime": "2022-1-12T13:18:00.00Z"
                        }
                      ],
                      "identity": {
                        "displayName": "Rosalie Walker",
                        "id": "cefa9f5d-576f-471d-ab57-f20647b63056",
                        "tenantId": ""
                      }
                    },
                    {
                      "totalAttendanceInSeconds": 3780,
                      "role": "Student",
                      "emailAddress": "WillaEMelendez@contoso.org",
                      "attendanceIntervals": [
                        {
                          "durationInSeconds": 3780,
                          "joinDateTime": "2022-1-12T12:20:00.00Z",
                          "leaveDateTime": "2022-1-12T13:23:00.00Z"
                        }
                      ],
                      "identity": {
                        "displayName": "Willa Melendez",
                        "id": "b0498d32-9501-47e0-8a6d-754e88521f03",
                        "tenantId": ""
                      }
                    },
                    {
                      "totalAttendanceInSeconds": 3240,
                      "role": "Student",
                      "emailAddress": "RobertDRichard@contoso.org",
                      "attendanceIntervals": [
                        {
                          "durationInSeconds": 3240,
                          "joinDateTime": "2022-1-12T12:19:00.00Z",
                          "leaveDateTime": "2022-1-12T13:13:00.00Z"
                        }
                      ],
                      "identity": {
                        "displayName": "Robert Richard",
                        "id": "04a81573-ec2f-492c-bf9c-55d1d2cdd11d",
                        "tenantId": ""
                      }
                    },
                    {
                      "totalAttendanceInSeconds": 4260,
                      "role": "Student",
                      "emailAddress": "HollyACrisp@contoso.org",
                      "attendanceIntervals": [
                        {
                          "durationInSeconds": 4260,
                          "joinDateTime": "2022-1-12T12:16:00.00Z",
                          "leaveDateTime": "2022-1-12T13:27:00.00Z"
                        }
                      ],
                      "identity": {
                        "displayName": "Holly Crisp",
                        "id": "7f6a8bc4-906a-4b2b-8334-5198f4b91d72",
                        "tenantId": ""
                      }
                    },
                    {
                      "totalAttendanceInSeconds": 4440,
                      "role": "Student",
                      "emailAddress": "StuartYCarty@contoso.org",
                      "attendanceIntervals": [
                        {
                          "durationInSeconds": 4440,
                          "joinDateTime": "2022-1-12T12:16:00.00Z",
                          "leaveDateTime": "2022-1-12T13:30:00.00Z"
                        }
                      ],
                      "identity": {
                        "displayName": "Stuart Carty",
                        "id": "a223ab3d-af6b-4ddd-aae0-8620ed4a18c3",
                        "tenantId": ""
                      }
                    },
                    {
                      "totalAttendanceInSeconds": 3480,
                      "role": "Student",
                      "emailAddress": "BettyDRose@contoso.org",
                      "attendanceIntervals": [
                        {
                          "durationInSeconds": 3480,
                          "joinDateTime": "2022-1-12T12:16:00.00Z",
                          "leaveDateTime": "2022-1-12T13:14:00.00Z"
                        }
                      ],
                      "identity": {
                        "displayName": "Betty Rose",
                        "id": "2b20a68a-d700-4859-b52d-9a4b97534104",
                        "tenantId": ""
                      }
                    },
                    {
                      "totalAttendanceInSeconds": 3180,
                      "role": "Student",
                      "emailAddress": "HarveyLBoothe@contoso.org",
                      "attendanceIntervals": [
                        {
                          "durationInSeconds": 3180,
                          "joinDateTime": "2022-1-12T12:20:00.00Z",
                          "leaveDateTime": "2022-1-12T13:13:00.00Z"
                        }
                      ],
                      "identity": {
                        "displayName": "Harvey Boothe",
                        "id": "1124249e-998e-4052-9b3d-4fcd23d0ff83",
                        "tenantId": ""
                      }
                    },
                    {
                      "totalAttendanceInSeconds": 3360,
                      "role": "Student",
                      "emailAddress": "JoeyLFrey@contoso.org",
                      "attendanceIntervals": [
                        {
                          "durationInSeconds": 3360,
                          "joinDateTime": "2022-1-12T12:20:00.00Z",
                          "leaveDateTime": "2022-1-12T13:16:00.00Z"
                        }
                      ],
                      "identity": {
                        "displayName": "Joey Frey",
                        "id": "fa91322a-e7b3-4311-8e7b-7304add3480b",
                        "tenantId": ""
                      }
                    },
                    {
                      "totalAttendanceInSeconds": 3360,
                      "role": "Student",
                      "emailAddress": "OlaWStrauser@contoso.org",
                      "attendanceIntervals": [
                        {
                          "durationInSeconds": 3360,
                          "joinDateTime": "2022-1-12T12:18:00.00Z",
                          "leaveDateTime": "2022-1-12T13:14:00.00Z"
                        }
                      ],
                      "identity": {
                        "displayName": "Ola Strauser",
                        "id": "43d00955-e922-40a7-9828-ecd7f84db083",
                        "tenantId": ""
                      }
                    },
                    {
                      "totalAttendanceInSeconds": 3420,
                      "role": "Student",
                      "emailAddress": "RandyKCota@contoso.org",
                      "attendanceIntervals": [
                        {
                          "durationInSeconds": 3420,
                          "joinDateTime": "2022-1-12T12:17:00.00Z",
                          "leaveDateTime": "2022-1-12T13:14:00.00Z"
                        }
                      ],
                      "identity": {
                        "displayName": "Randy Cota",
                        "id": "3ff292c6-0d0e-48c9-92cb-ca9d89e7a2a6",
                        "tenantId": ""
                      }
                    },
                    {
                      "totalAttendanceInSeconds": 3840,
                      "role": "Student",
                      "emailAddress": "JanieEMeinhardt@contoso.org",
                      "attendanceIntervals": [
                        {
                          "durationInSeconds": 3840,
                          "joinDateTime": "2022-1-12T12:19:00.00Z",
                          "leaveDateTime": "2022-1-12T13:23:00.00Z"
                        }
                      ],
                      "identity": {
                        "displayName": "Janie Meinhardt",
                        "id": "e35e11eb-d65c-4050-8221-a849aec34255",
                        "tenantId": ""
                      }
                    },
                    {
                      "totalAttendanceInSeconds": 3420,
                      "role": "Student",
                      "emailAddress": "ElizabethRShields@contoso.org",
                      "attendanceIntervals": [
                        {
                          "durationInSeconds": 3420,
                          "joinDateTime": "2022-1-12T12:19:00.00Z",
                          "leaveDateTime": "2022-1-12T13:16:00.00Z"
                        }
                      ],
                      "identity": {
                        "displayName": "Elizabeth Shields",
                        "id": "153352b9-6729-4acc-9d1f-7aba44fa307e",
                        "tenantId": ""
                      }
                    },
                    {
                      "totalAttendanceInSeconds": 3960,
                      "role": "Student",
                      "emailAddress": "JamesAHargrove@contoso.org",
                      "attendanceIntervals": [
                        {
                          "durationInSeconds": 3960,
                          "joinDateTime": "2022-1-12T12:15:00.00Z",
                          "leaveDateTime": "2022-1-12T13:21:00.00Z"
                        }
                      ],
                      "identity": {
                        "displayName": "James Hargrove",
                        "id": "5720de86-3f4d-4a66-91be-456c51fb3f6f",
                        "tenantId": ""
                      }
                    },
                    {
                      "totalAttendanceInSeconds": 4080,
                      "role": "Student",
                      "emailAddress": "TimothyADaley@contoso.org",
                      "attendanceIntervals": [
                        {
                          "durationInSeconds": 4080,
                          "joinDateTime": "2022-1-12T12:19:00.00Z",
                          "leaveDateTime": "2022-1-12T13:27:00.00Z"
                        }
                      ],
                      "identity": {
                        "displayName": "Timothy Daley",
                        "id": "99973390-9e03-46da-a5c7-943e8379f398",
                        "tenantId": ""
                      }
                    },
                    {
                      "totalAttendanceInSeconds": 4020,
                      "role": "Student",
                      "emailAddress": "MarkAMoore@contoso.org",
                      "attendanceIntervals": [
                        {
                          "durationInSeconds": 4020,
                          "joinDateTime": "2022-1-12T12:15:00.00Z",
                          "leaveDateTime": "2022-1-12T13:22:00.00Z"
                        }
                      ],
                      "identity": {
                        "displayName": "Mark Moore",
                        "id": "b53fae07-7576-4086-9296-643086042bf7",
                        "tenantId": ""
                      }
                    },
                    {
                      "totalAttendanceInSeconds": 4020,
                      "role": "Student",
                      "emailAddress": "PageWGarcia@contoso.org",
                      "attendanceIntervals": [
                        {
                          "durationInSeconds": 4020,
                          "joinDateTime": "2022-1-12T12:17:00.00Z",
                          "leaveDateTime": "2022-1-12T13:24:00.00Z"
                        }
                      ],
                      "identity": {
                        "displayName": "Page Garcia",
                        "id": "93658ce3-b736-4a82-b023-108b0f146d23",
                        "tenantId": ""
                      }
                    },
                    {
                      "totalAttendanceInSeconds": 3180,
                      "role": "Student",
                      "emailAddress": "LeahJWenzel@contoso.org",
                      "attendanceIntervals": [
                        {
                          "durationInSeconds": 3180,
                          "joinDateTime": "2022-1-12T12:19:00.00Z",
                          "leaveDateTime": "2022-1-12T13:12:00.00Z"
                        }
                      ],
                      "identity": {
                        "displayName": "Leah Wenzel",
                        "id": "ac5e9ee7-c1e6-472d-a615-9d9af8cabfb2",
                        "tenantId": ""
                      }
                    },
                    {
                      "totalAttendanceInSeconds": 3780,
                      "role": "Student",
                      "emailAddress": "EllaJCole@contoso.org",
                      "attendanceIntervals": [
                        {
                          "durationInSeconds": 3780,
                          "joinDateTime": "2022-1-12T12:17:00.00Z",
                          "leaveDateTime": "2022-1-12T13:20:00.00Z"
                        }
                      ],
                      "identity": {
                        "displayName": "Ella Cole",
                        "id": "ab9e99e8-864a-4db1-9f6b-3db81dfb01c7",
                        "tenantId": ""
                      }
                    },
                    {
                      "totalAttendanceInSeconds": 3300,
                      "role": "Student",
                      "emailAddress": "AlyseDHatcher@contoso.org",
                      "attendanceIntervals": [
                        {
                          "durationInSeconds": 3300,
                          "joinDateTime": "2022-1-12T12:16:00.00Z",
                          "leaveDateTime": "2022-1-12T13:11:00.00Z"
                        }
                      ],
                      "identity": {
                        "displayName": "Alyse Hatcher",
                        "id": "35150b61-0982-4508-a33d-fd906e5436c5",
                        "tenantId": ""
                      }
                    },
                    {
                      "totalAttendanceInSeconds": 3360,
                      "role": "Student",
                      "emailAddress": "MichaelMWilliamson@contoso.org",
                      "attendanceIntervals": [
                        {
                          "durationInSeconds": 3360,
                          "joinDateTime": "2022-1-12T12:20:00.00Z",
                          "leaveDateTime": "2022-1-12T13:16:00.00Z"
                        }
                      ],
                      "identity": {
                        "displayName": "Michael Williamson",
                        "id": "ab5f03d2-28af-421f-8cb8-20b1bb21e8ee",
                        "tenantId": ""
                      }
                    },
                    {
                      "totalAttendanceInSeconds": 4500,
                      "role": "Student",
                      "emailAddress": "AnnaLVance@contoso.org",
                      "attendanceIntervals": [
                        {
                          "durationInSeconds": 4500,
                          "joinDateTime": "2022-1-12T12:15:00.00Z",
                          "leaveDateTime": "2022-1-12T13:30:00.00Z"
                        }
                      ],
                      "identity": {
                        "displayName": "Anna Vance",
                        "id": "c0ffc59d-819b-4901-85fd-ca842d28441d",
                        "tenantId": ""
                      }
                    },
                    {
                      "totalAttendanceInSeconds": 3300,
                      "role": "Student",
                      "emailAddress": "LonnieLStanley@contoso.org",
                      "attendanceIntervals": [
                        {
                          "durationInSeconds": 3300,
                          "joinDateTime": "2022-1-12T12:20:00.00Z",
                          "leaveDateTime": "2022-1-12T13:15:00.00Z"
                        }
                      ],
                      "identity": {
                        "displayName": "Lonnie Stanley",
                        "id": "06016255-91b4-4bf1-a70e-3468e463857f",
                        "tenantId": ""
                      }
                    }
                  ]
                }
              ],
              "schema": [
                {
                  "key": "0",
                  "name": "id",
                  "type": "string"
                },
                {
                  "key": "1",
                  "name": "totalParticipantCount",
                  "type": "bigint"
                },
                {
                  "key": "2",
                  "name": "meetingStartDateTime",
                  "type": "string"
                },
                {
                  "key": "3",
                  "name": "meetingEndDateTime",
                  "type": "string"
                },
                {
                  "key": "4",
                  "name": "attendanceRecords",
                  "type": "ArrayType(StructType(StructField(attendanceIntervals,ArrayType(StructType(StructField(durationInSeconds,LongType,true), StructField(joinDateTime,StringType,true), StructField(leaveDateTime,StringType,true)),true),true), StructField(emailAddress,StringType,true), StructField(identity,StructType(StructField(displayName,StringType,true), StructField(id,StringType,true), StructField(tenantId,StringType,true)),true), StructField(role,StringType,true), StructField(totalAttendanceInSeconds,LongType,true)),true)"
                }
              ],
              "truncated": false
            },
            "isSummary": false,
            "language": "scala"
          },
          "persist_state": {
            "view": {
              "type": "details",
              "tableOptions": {},
              "chartOptions": {
                "chartType": "bar",
                "aggregationType": "sum",
                "categoryFieldKeys": [
                  "0"
                ],
                "seriesFieldKeys": [
                  "1"
                ],
                "isStacked": false
              }
            }
          }
        },
        "86d6ae62-822b-491b-8814-11ead049225a": {
          "type": "Synapse.DataFrame",
          "sync_state": {
            "table": {
              "rows": [
                {
                  "0": [
                    {
                      "totalAttendanceInSeconds": 4260,
                      "role": "Student",
                      "emailAddress": "MarianneJLopez@contoso.org",
                      "attendanceIntervals": [
                        {
                          "durationInSeconds": 4260,
                          "joinDateTime": "2022-1-20T13:20:00.00Z",
                          "leaveDateTime": "2022-1-20T14:31:00.00Z"
                        }
                      ],
                      "identity": {
                        "displayName": "Marianne Lopez",
                        "id": "b8c3f862-22df-47b5-bc9b-e69e189435e4",
                        "tenantId": ""
                      }
                    },
                    {
                      "totalAttendanceInSeconds": 4320,
                      "role": "Student",
                      "emailAddress": "SusanRCuellar@contoso.org",
                      "attendanceIntervals": [
                        {
                          "durationInSeconds": 4320,
                          "joinDateTime": "2022-1-20T13:18:00.00Z",
                          "leaveDateTime": "2022-1-20T14:30:00.00Z"
                        }
                      ],
                      "identity": {
                        "displayName": "Susan Cuellar",
                        "id": "d2a06d09-9f63-4d5a-9e87-7155cd6bbc52",
                        "tenantId": ""
                      }
                    },
                    {
                      "totalAttendanceInSeconds": 4500,
                      "role": "Student",
                      "emailAddress": "BreannaAFerrara@contoso.org",
                      "attendanceIntervals": [
                        {
                          "durationInSeconds": 4500,
                          "joinDateTime": "2022-1-20T13:20:00.00Z",
                          "leaveDateTime": "2022-1-20T14:35:00.00Z"
                        }
                      ],
                      "identity": {
                        "displayName": "Breanna Ferrara",
                        "id": "eb6ca6d4-57ae-4f7f-b8a5-99a57358122a",
                        "tenantId": ""
                      }
                    },
                    {
                      "totalAttendanceInSeconds": 4320,
                      "role": "Student",
                      "emailAddress": "WalterRRoss@contoso.org",
                      "attendanceIntervals": [
                        {
                          "durationInSeconds": 4320,
                          "joinDateTime": "2022-1-20T13:17:00.00Z",
                          "leaveDateTime": "2022-1-20T14:29:00.00Z"
                        }
                      ],
                      "identity": {
                        "displayName": "Walter Ross",
                        "id": "450730d4-1591-4d45-976d-4c73b2218441",
                        "tenantId": ""
                      }
                    },
                    {
                      "totalAttendanceInSeconds": 4860,
                      "role": "Student",
                      "emailAddress": "VirginiaDWilliams@contoso.org",
                      "attendanceIntervals": [
                        {
                          "durationInSeconds": 4860,
                          "joinDateTime": "2022-1-20T13:18:00.00Z",
                          "leaveDateTime": "2022-1-20T14:39:00.00Z"
                        }
                      ],
                      "identity": {
                        "displayName": "Virginia Williams",
                        "id": "3fd0cb74-7d3f-4468-8cd3-64e571ad2192",
                        "tenantId": ""
                      }
                    },
                    {
                      "totalAttendanceInSeconds": 5100,
                      "role": "Student",
                      "emailAddress": "SusanVMoberg@contoso.org",
                      "attendanceIntervals": [
                        {
                          "durationInSeconds": 5100,
                          "joinDateTime": "2022-1-20T13:15:00.00Z",
                          "leaveDateTime": "2022-1-20T14:40:00.00Z"
                        }
                      ],
                      "identity": {
                        "displayName": "Susan Moberg",
                        "id": "06aac4a0-a00e-4f4a-bc63-abb84d1f1380",
                        "tenantId": ""
                      }
                    },
                    {
                      "totalAttendanceInSeconds": 4560,
                      "role": "Student",
                      "emailAddress": "StephenVPrickett@contoso.org",
                      "attendanceIntervals": [
                        {
                          "durationInSeconds": 4560,
                          "joinDateTime": "2022-1-20T13:16:00.00Z",
                          "leaveDateTime": "2022-1-20T14:32:00.00Z"
                        }
                      ],
                      "identity": {
                        "displayName": "Stephen Prickett",
                        "id": "661a3b6a-56d5-410a-8302-9db3c87a0114",
                        "tenantId": ""
                      }
                    },
                    {
                      "totalAttendanceInSeconds": 4620,
                      "role": "Student",
                      "emailAddress": "AmandaJGreen@contoso.org",
                      "attendanceIntervals": [
                        {
                          "durationInSeconds": 4620,
                          "joinDateTime": "2022-1-20T13:20:00.00Z",
                          "leaveDateTime": "2022-1-20T14:37:00.00Z"
                        }
                      ],
                      "identity": {
                        "displayName": "Amanda Green",
                        "id": "a39ff9f6-b81f-4a2d-9620-2b12f3535376",
                        "tenantId": ""
                      }
                    },
                    {
                      "totalAttendanceInSeconds": 4500,
                      "role": "Student",
                      "emailAddress": "CaseyWLehmann@contoso.org",
                      "attendanceIntervals": [
                        {
                          "durationInSeconds": 4500,
                          "joinDateTime": "2022-1-20T13:15:00.00Z",
                          "leaveDateTime": "2022-1-20T14:30:00.00Z"
                        }
                      ],
                      "identity": {
                        "displayName": "Casey Lehmann",
                        "id": "dfe63989-15b3-4ac1-b315-4499bd89d4fc",
                        "tenantId": ""
                      }
                    },
                    {
                      "totalAttendanceInSeconds": 4980,
                      "role": "Student",
                      "emailAddress": "ChristopherALorenzo@contoso.org",
                      "attendanceIntervals": [
                        {
                          "durationInSeconds": 4980,
                          "joinDateTime": "2022-1-20T13:17:00.00Z",
                          "leaveDateTime": "2022-1-20T14:40:00.00Z"
                        }
                      ],
                      "identity": {
                        "displayName": "Christopher Lorenzo",
                        "id": "16adc87f-3b9f-44d7-a169-ab4989adf9a9",
                        "tenantId": ""
                      }
                    },
                    {
                      "totalAttendanceInSeconds": 4080,
                      "role": "Student",
                      "emailAddress": "ArthurJLynch@contoso.org",
                      "attendanceIntervals": [
                        {
                          "durationInSeconds": 4080,
                          "joinDateTime": "2022-1-20T13:18:00.00Z",
                          "leaveDateTime": "2022-1-20T14:26:00.00Z"
                        }
                      ],
                      "identity": {
                        "displayName": "Arthur Lynch",
                        "id": "5263bb16-f16a-45ba-aa9c-f3ad7d4038a0",
                        "tenantId": ""
                      }
                    },
                    {
                      "totalAttendanceInSeconds": 5100,
                      "role": "Student",
                      "emailAddress": "AlanRGalindo@contoso.org",
                      "attendanceIntervals": [
                        {
                          "durationInSeconds": 5100,
                          "joinDateTime": "2022-1-20T13:20:00.00Z",
                          "leaveDateTime": "2022-1-20T14:45:00.00Z"
                        }
                      ],
                      "identity": {
                        "displayName": "Alan Galindo",
                        "id": "976b24e4-3d23-498b-9275-fb86fa4a7e02",
                        "tenantId": ""
                      }
                    },
                    {
                      "totalAttendanceInSeconds": 4920,
                      "role": "Student",
                      "emailAddress": "MarkOEdwards@contoso.org",
                      "attendanceIntervals": [
                        {
                          "durationInSeconds": 4920,
                          "joinDateTime": "2022-1-20T13:17:00.00Z",
                          "leaveDateTime": "2022-1-20T14:39:00.00Z"
                        }
                      ],
                      "identity": {
                        "displayName": "Mark Edwards",
                        "id": "45ef98b9-9a43-4ca4-b826-0e5faeb63a0f",
                        "tenantId": ""
                      }
                    },
                    {
                      "totalAttendanceInSeconds": 4200,
                      "role": "Student",
                      "emailAddress": "EugeneBStoney@contoso.org",
                      "attendanceIntervals": [
                        {
                          "durationInSeconds": 4200,
                          "joinDateTime": "2022-1-20T13:20:00.00Z",
                          "leaveDateTime": "2022-1-20T14:30:00.00Z"
                        }
                      ],
                      "identity": {
                        "displayName": "Eugene Stoney",
                        "id": "e5f8d232-c0e2-42e0-bd89-10f3f8994057",
                        "tenantId": ""
                      }
                    },
                    {
                      "totalAttendanceInSeconds": 4200,
                      "role": "Student",
                      "emailAddress": "ColleenDBrown@contoso.org",
                      "attendanceIntervals": [
                        {
                          "durationInSeconds": 4200,
                          "joinDateTime": "2022-1-20T13:18:00.00Z",
                          "leaveDateTime": "2022-1-20T14:28:00.00Z"
                        }
                      ],
                      "identity": {
                        "displayName": "Colleen Brown",
                        "id": "f7346f40-d2f4-468e-909d-1f757e19a4f4",
                        "tenantId": ""
                      }
                    },
                    {
                      "totalAttendanceInSeconds": 4860,
                      "role": "Student",
                      "emailAddress": "MarleneRIkard@contoso.org",
                      "attendanceIntervals": [
                        {
                          "durationInSeconds": 4860,
                          "joinDateTime": "2022-1-20T13:19:00.00Z",
                          "leaveDateTime": "2022-1-20T14:40:00.00Z"
                        }
                      ],
                      "identity": {
                        "displayName": "Marlene Ikard",
                        "id": "92bb53fe-2981-429c-9fef-360b89b5622b",
                        "tenantId": ""
                      }
                    },
                    {
                      "totalAttendanceInSeconds": 4440,
                      "role": "Student",
                      "emailAddress": "JonathanLOwens@contoso.org",
                      "attendanceIntervals": [
                        {
                          "durationInSeconds": 4440,
                          "joinDateTime": "2022-1-20T13:15:00.00Z",
                          "leaveDateTime": "2022-1-20T14:29:00.00Z"
                        }
                      ],
                      "identity": {
                        "displayName": "Jonathan Owens",
                        "id": "0a6fe608-3d65-4bf8-8223-ed5d8da14a06",
                        "tenantId": ""
                      }
                    },
                    {
                      "totalAttendanceInSeconds": 4500,
                      "role": "Student",
                      "emailAddress": "RalphJThomas@contoso.org",
                      "attendanceIntervals": [
                        {
                          "durationInSeconds": 4500,
                          "joinDateTime": "2022-1-20T13:15:00.00Z",
                          "leaveDateTime": "2022-1-20T14:30:00.00Z"
                        }
                      ],
                      "identity": {
                        "displayName": "Ralph Thomas",
                        "id": "5a5b91aa-cd01-45e2-a666-3817140918c1",
                        "tenantId": ""
                      }
                    },
                    {
                      "totalAttendanceInSeconds": 4140,
                      "role": "Student",
                      "emailAddress": "VirginiaHHastings@contoso.org",
                      "attendanceIntervals": [
                        {
                          "durationInSeconds": 4140,
                          "joinDateTime": "2022-1-20T13:20:00.00Z",
                          "leaveDateTime": "2022-1-20T14:29:00.00Z"
                        }
                      ],
                      "identity": {
                        "displayName": "Virginia Hastings",
                        "id": "b596d8c1-0cfc-4b1e-8745-1e7e50964d2c",
                        "tenantId": ""
                      }
                    },
                    {
                      "totalAttendanceInSeconds": 4380,
                      "role": "Student",
                      "emailAddress": "AlisonAKoch@contoso.org",
                      "attendanceIntervals": [
                        {
                          "durationInSeconds": 4380,
                          "joinDateTime": "2022-1-20T13:18:00.00Z",
                          "leaveDateTime": "2022-1-20T14:31:00.00Z"
                        }
                      ],
                      "identity": {
                        "displayName": "Alison Koch",
                        "id": "722e89eb-9350-4284-8252-7817ab5f8119",
                        "tenantId": ""
                      }
                    },
                    {
                      "totalAttendanceInSeconds": 3960,
                      "role": "Student",
                      "emailAddress": "MikkiWMartinez@contoso.org",
                      "attendanceIntervals": [
                        {
                          "durationInSeconds": 3960,
                          "joinDateTime": "2022-1-20T13:20:00.00Z",
                          "leaveDateTime": "2022-1-20T14:26:00.00Z"
                        }
                      ],
                      "identity": {
                        "displayName": "Mikki Martinez",
                        "id": "9ce3136c-0e2d-4fd3-b6cd-e7568a66466c",
                        "tenantId": ""
                      }
                    },
                    {
                      "totalAttendanceInSeconds": 5280,
                      "role": "Student",
                      "emailAddress": "TamraMSwigart@contoso.org",
                      "attendanceIntervals": [
                        {
                          "durationInSeconds": 5280,
                          "joinDateTime": "2022-1-20T13:17:00.00Z",
                          "leaveDateTime": "2022-1-20T14:45:00.00Z"
                        }
                      ],
                      "identity": {
                        "displayName": "Tamra Swigart",
                        "id": "a4f1c579-dddc-4ec4-acde-9b1207535d35",
                        "tenantId": ""
                      }
                    },
                    {
                      "totalAttendanceInSeconds": 4980,
                      "role": "Student",
                      "emailAddress": "JudithRRouleau@contoso.org",
                      "attendanceIntervals": [
                        {
                          "durationInSeconds": 4980,
                          "joinDateTime": "2022-1-20T13:18:00.00Z",
                          "leaveDateTime": "2022-1-20T14:41:00.00Z"
                        }
                      ],
                      "identity": {
                        "displayName": "Judith Rouleau",
                        "id": "e2227db0-7932-41a5-a032-27a88bbd4945",
                        "tenantId": ""
                      }
                    },
                    {
                      "totalAttendanceInSeconds": 5220,
                      "role": "Student",
                      "emailAddress": "ElizabethRRussel@contoso.org",
                      "attendanceIntervals": [
                        {
                          "durationInSeconds": 5220,
                          "joinDateTime": "2022-1-20T13:17:00.00Z",
                          "leaveDateTime": "2022-1-20T14:44:00.00Z"
                        }
                      ],
                      "identity": {
                        "displayName": "Elizabeth Russel",
                        "id": "05a1a1a6-ef08-4e66-b6f6-d59296206282",
                        "tenantId": ""
                      }
                    },
                    {
                      "totalAttendanceInSeconds": 4800,
                      "role": "Student",
                      "emailAddress": "StephanieRLaney@contoso.org",
                      "attendanceIntervals": [
                        {
                          "durationInSeconds": 4800,
                          "joinDateTime": "2022-1-20T13:19:00.00Z",
                          "leaveDateTime": "2022-1-20T14:39:00.00Z"
                        }
                      ],
                      "identity": {
                        "displayName": "Stephanie Laney",
                        "id": "37c7f2e8-aee4-402f-9919-9f6bcbf35788",
                        "tenantId": ""
                      }
                    },
                    {
                      "totalAttendanceInSeconds": 4260,
                      "role": "Student",
                      "emailAddress": "LindaWGonzalez@contoso.org",
                      "attendanceIntervals": [
                        {
                          "durationInSeconds": 4260,
                          "joinDateTime": "2022-1-20T13:17:00.00Z",
                          "leaveDateTime": "2022-1-20T14:28:00.00Z"
                        }
                      ],
                      "identity": {
                        "displayName": "Linda Gonzalez",
                        "id": "847b32bc-6db1-4be6-a04d-2c5256b5dba3",
                        "tenantId": ""
                      }
                    },
                    {
                      "totalAttendanceInSeconds": 4320,
                      "role": "Student",
                      "emailAddress": "LeviMJohnson@contoso.org",
                      "attendanceIntervals": [
                        {
                          "durationInSeconds": 4320,
                          "joinDateTime": "2022-1-20T13:20:00.00Z",
                          "leaveDateTime": "2022-1-20T14:32:00.00Z"
                        }
                      ],
                      "identity": {
                        "displayName": "Levi Johnson",
                        "id": "ccd9b19f-06eb-4a4b-8138-d79493a745d3",
                        "tenantId": ""
                      }
                    },
                    {
                      "totalAttendanceInSeconds": 4860,
                      "role": "Student",
                      "emailAddress": "JudyJSwain@contoso.org",
                      "attendanceIntervals": [
                        {
                          "durationInSeconds": 4860,
                          "joinDateTime": "2022-1-20T13:16:00.00Z",
                          "leaveDateTime": "2022-1-20T14:37:00.00Z"
                        }
                      ],
                      "identity": {
                        "displayName": "Judy Swain",
                        "id": "129d3bf1-f3b9-4283-a9d8-4a78d2b13191",
                        "tenantId": ""
                      }
                    }
                  ],
                  "1": "f0bd8da9-4d83-42a0-9dbc-73c40958edf6",
                  "2": "2022-1-20T14:45:00.00Z",
                  "3": "2022-1-20T13:15:00.00Z",
                  "4": "30",
                  "5": "2023-01-07 00-19-10"
                },
                {
                  "0": [
                    {
                      "totalAttendanceInSeconds": 3540,
                      "role": "Student",
                      "emailAddress": "GregoryKMizell@contoso.org",
                      "attendanceIntervals": [
                        {
                          "durationInSeconds": 3540,
                          "joinDateTime": "2022-1-20T7:30:00.00Z",
                          "leaveDateTime": "2022-1-20T8:29:00.00Z"
                        }
                      ],
                      "identity": {
                        "displayName": "Gregory Mizell",
                        "id": "db87bbf7-f766-47ad-a8f1-9885a196e01e",
                        "tenantId": ""
                      }
                    },
                    {
                      "totalAttendanceInSeconds": 2760,
                      "role": "Student",
                      "emailAddress": "MarioRShreve@contoso.org",
                      "attendanceIntervals": [
                        {
                          "durationInSeconds": 2760,
                          "joinDateTime": "2022-1-20T7:35:00.00Z",
                          "leaveDateTime": "2022-1-20T8:21:00.00Z"
                        }
                      ],
                      "identity": {
                        "displayName": "Mario Shreve",
                        "id": "380b140b-a118-4c14-a7c5-7f3b87158051",
                        "tenantId": ""
                      }
                    },
                    {
                      "totalAttendanceInSeconds": 3480,
                      "role": "Student",
                      "emailAddress": "RooseveltKBridges@contoso.org",
                      "attendanceIntervals": [
                        {
                          "durationInSeconds": 3480,
                          "joinDateTime": "2022-1-20T7:30:00.00Z",
                          "leaveDateTime": "2022-1-20T8:28:00.00Z"
                        }
                      ],
                      "identity": {
                        "displayName": "Roosevelt Bridges",
                        "id": "84cf5bc8-1b60-463d-8312-c44ecf79a247",
                        "tenantId": ""
                      }
                    },
                    {
                      "totalAttendanceInSeconds": 3000,
                      "role": "Student",
                      "emailAddress": "LauraKHarkins@contoso.org",
                      "attendanceIntervals": [
                        {
                          "durationInSeconds": 3000,
                          "joinDateTime": "2022-1-20T7:34:00.00Z",
                          "leaveDateTime": "2022-1-20T8:24:00.00Z"
                        }
                      ],
                      "identity": {
                        "displayName": "Laura Harkins",
                        "id": "bc5e0a61-b851-44ba-b0dc-6014e64420a0",
                        "tenantId": ""
                      }
                    },
                    {
                      "totalAttendanceInSeconds": 3420,
                      "role": "Student",
                      "emailAddress": "PatrickJJohnson@contoso.org",
                      "attendanceIntervals": [
                        {
                          "durationInSeconds": 3420,
                          "joinDateTime": "2022-1-20T7:31:00.00Z",
                          "leaveDateTime": "2022-1-20T8:28:00.00Z"
                        }
                      ],
                      "identity": {
                        "displayName": "Patrick Johnson",
                        "id": "f2f574e8-3c14-447b-8f0a-9d22bb5d4d04",
                        "tenantId": ""
                      }
                    },
                    {
                      "totalAttendanceInSeconds": 2400,
                      "role": "Student",
                      "emailAddress": "KevinASeidel@contoso.org",
                      "attendanceIntervals": [
                        {
                          "durationInSeconds": 2400,
                          "joinDateTime": "2022-1-20T7:33:00.00Z",
                          "leaveDateTime": "2022-1-20T8:13:00.00Z"
                        }
                      ],
                      "identity": {
                        "displayName": "Kevin Seidel",
                        "id": "4c729898-84c8-438f-aebc-7626ec6ad334",
                        "tenantId": ""
                      }
                    },
                    {
                      "totalAttendanceInSeconds": 2640,
                      "role": "Student",
                      "emailAddress": "ElsieJHopkins@contoso.org",
                      "attendanceIntervals": [
                        {
                          "durationInSeconds": 2640,
                          "joinDateTime": "2022-1-20T7:32:00.00Z",
                          "leaveDateTime": "2022-1-20T8:16:00.00Z"
                        }
                      ],
                      "identity": {
                        "displayName": "Elsie Hopkins",
                        "id": "af85c2e6-9f3e-4151-88c3-48c9333967aa",
                        "tenantId": ""
                      }
                    },
                    {
                      "totalAttendanceInSeconds": 3000,
                      "role": "Student",
                      "emailAddress": "KathleenASchroeder@contoso.org",
                      "attendanceIntervals": [
                        {
                          "durationInSeconds": 3000,
                          "joinDateTime": "2022-1-20T7:35:00.00Z",
                          "leaveDateTime": "2022-1-20T8:25:00.00Z"
                        }
                      ],
                      "identity": {
                        "displayName": "Kathleen Schroeder",
                        "id": "7ca29e81-c760-4fb3-9130-4c5e87ef4457",
                        "tenantId": ""
                      }
                    },
                    {
                      "totalAttendanceInSeconds": 3240,
                      "role": "Student",
                      "emailAddress": "PattiTGutierrez@contoso.org",
                      "attendanceIntervals": [
                        {
                          "durationInSeconds": 3240,
                          "joinDateTime": "2022-1-20T7:34:00.00Z",
                          "leaveDateTime": "2022-1-20T8:28:00.00Z"
                        }
                      ],
                      "identity": {
                        "displayName": "Patti Gutierrez",
                        "id": "453847c2-5e31-4ca1-8a74-ff69e2cd4620",
                        "tenantId": ""
                      }
                    },
                    {
                      "totalAttendanceInSeconds": 2160,
                      "role": "Student",
                      "emailAddress": "FelipeJBracken@contoso.org",
                      "attendanceIntervals": [
                        {
                          "durationInSeconds": 2160,
                          "joinDateTime": "2022-1-20T7:34:00.00Z",
                          "leaveDateTime": "2022-1-20T8:10:00.00Z"
                        }
                      ],
                      "identity": {
                        "displayName": "Felipe Bracken",
                        "id": "fdbc1037-5b36-43c5-bd5e-b771c217199c",
                        "tenantId": ""
                      }
                    },
                    {
                      "totalAttendanceInSeconds": 2520,
                      "role": "Student",
                      "emailAddress": "PeterAEbert@contoso.org",
                      "attendanceIntervals": [
                        {
                          "durationInSeconds": 2520,
                          "joinDateTime": "2022-1-20T7:30:00.00Z",
                          "leaveDateTime": "2022-1-20T8:12:00.00Z"
                        }
                      ],
                      "identity": {
                        "displayName": "Peter Ebert",
                        "id": "41e76120-4659-409d-a916-f4f07cf712dc",
                        "tenantId": ""
                      }
                    },
                    {
                      "totalAttendanceInSeconds": 2520,
                      "role": "Student",
                      "emailAddress": "DonnaWChoi@contoso.org",
                      "attendanceIntervals": [
                        {
                          "durationInSeconds": 2520,
                          "joinDateTime": "2022-1-20T7:30:00.00Z",
                          "leaveDateTime": "2022-1-20T8:12:00.00Z"
                        }
                      ],
                      "identity": {
                        "displayName": "Donna Choi",
                        "id": "20b170e9-b52e-499e-aa5e-f4b55df30c62",
                        "tenantId": ""
                      }
                    },
                    {
                      "totalAttendanceInSeconds": 2160,
                      "role": "Student",
                      "emailAddress": "TheodoreFTaylor@contoso.org",
                      "attendanceIntervals": [
                        {
                          "durationInSeconds": 2160,
                          "joinDateTime": "2022-1-20T7:35:00.00Z",
                          "leaveDateTime": "2022-1-20T8:11:00.00Z"
                        }
                      ],
                      "identity": {
                        "displayName": "Theodore Taylor",
                        "id": "02d8122e-f03c-4bb0-9568-cf1f9b5dc74d",
                        "tenantId": ""
                      }
                    },
                    {
                      "totalAttendanceInSeconds": 3240,
                      "role": "Student",
                      "emailAddress": "ErinDLangley@contoso.org",
                      "attendanceIntervals": [
                        {
                          "durationInSeconds": 3240,
                          "joinDateTime": "2022-1-20T7:32:00.00Z",
                          "leaveDateTime": "2022-1-20T8:26:00.00Z"
                        }
                      ],
                      "identity": {
                        "displayName": "Erin Langley",
                        "id": "c44ee63a-3f4a-4aa2-a6ee-df997559448a",
                        "tenantId": ""
                      }
                    },
                    {
                      "totalAttendanceInSeconds": 2340,
                      "role": "Student",
                      "emailAddress": "DebraAFowler@contoso.org",
                      "attendanceIntervals": [
                        {
                          "durationInSeconds": 2340,
                          "joinDateTime": "2022-1-20T7:31:00.00Z",
                          "leaveDateTime": "2022-1-20T8:10:00.00Z"
                        }
                      ],
                      "identity": {
                        "displayName": "Debra Fowler",
                        "id": "5443ea7c-ba05-498a-be5c-01880019c295",
                        "tenantId": ""
                      }
                    },
                    {
                      "totalAttendanceInSeconds": 3300,
                      "role": "Student",
                      "emailAddress": "MoniqueCGilbert@contoso.org",
                      "attendanceIntervals": [
                        {
                          "durationInSeconds": 3300,
                          "joinDateTime": "2022-1-20T7:34:00.00Z",
                          "leaveDateTime": "2022-1-20T8:29:00.00Z"
                        }
                      ],
                      "identity": {
                        "displayName": "Monique Gilbert",
                        "id": "fe94fae8-f6b0-409f-b63d-ac7d9b318b0f",
                        "tenantId": ""
                      }
                    },
                    {
                      "totalAttendanceInSeconds": 2820,
                      "role": "Student",
                      "emailAddress": "MavisRJohnson@contoso.org",
                      "attendanceIntervals": [
                        {
                          "durationInSeconds": 2820,
                          "joinDateTime": "2022-1-20T7:31:00.00Z",
                          "leaveDateTime": "2022-1-20T8:18:00.00Z"
                        }
                      ],
                      "identity": {
                        "displayName": "Mavis Johnson",
                        "id": "7a180e00-1b81-4e42-bf1b-fbc919e73f42",
                        "tenantId": ""
                      }
                    },
                    {
                      "totalAttendanceInSeconds": 3480,
                      "role": "Student",
                      "emailAddress": "MarionRCamara@contoso.org",
                      "attendanceIntervals": [
                        {
                          "durationInSeconds": 3480,
                          "joinDateTime": "2022-1-20T7:30:00.00Z",
                          "leaveDateTime": "2022-1-20T8:28:00.00Z"
                        }
                      ],
                      "identity": {
                        "displayName": "Marion Camara",
                        "id": "b6bd278f-c84e-4426-9500-6328093d3bfb",
                        "tenantId": ""
                      }
                    },
                    {
                      "totalAttendanceInSeconds": 3180,
                      "role": "Student",
                      "emailAddress": "RachelleEFoster@contoso.org",
                      "attendanceIntervals": [
                        {
                          "durationInSeconds": 3180,
                          "joinDateTime": "2022-1-20T7:34:00.00Z",
                          "leaveDateTime": "2022-1-20T8:27:00.00Z"
                        }
                      ],
                      "identity": {
                        "displayName": "Rachelle Foster",
                        "id": "ab7f6b48-9f39-4368-9267-137ad6af7d56",
                        "tenantId": ""
                      }
                    },
                    {
                      "totalAttendanceInSeconds": 2340,
                      "role": "Student",
                      "emailAddress": "MauriceAFields@contoso.org",
                      "attendanceIntervals": [
                        {
                          "durationInSeconds": 2340,
                          "joinDateTime": "2022-1-20T7:31:00.00Z",
                          "leaveDateTime": "2022-1-20T8:10:00.00Z"
                        }
                      ],
                      "identity": {
                        "displayName": "Maurice Fields",
                        "id": "0dbc05d9-554c-45a6-87f4-42000d2813ee",
                        "tenantId": ""
                      }
                    },
                    {
                      "totalAttendanceInSeconds": 3180,
                      "role": "Student",
                      "emailAddress": "LaurenJPanos@contoso.org",
                      "attendanceIntervals": [
                        {
                          "durationInSeconds": 3180,
                          "joinDateTime": "2022-1-20T7:31:00.00Z",
                          "leaveDateTime": "2022-1-20T8:24:00.00Z"
                        }
                      ],
                      "identity": {
                        "displayName": "Lauren Panos",
                        "id": "d0bd766b-3c3f-40c2-a8da-cd78799812e3",
                        "tenantId": ""
                      }
                    },
                    {
                      "totalAttendanceInSeconds": 2640,
                      "role": "Student",
                      "emailAddress": "KirstenJDavis@contoso.org",
                      "attendanceIntervals": [
                        {
                          "durationInSeconds": 2640,
                          "joinDateTime": "2022-1-20T7:35:00.00Z",
                          "leaveDateTime": "2022-1-20T8:19:00.00Z"
                        }
                      ],
                      "identity": {
                        "displayName": "Kirsten Davis",
                        "id": "01d1b075-2375-41dc-a9a1-815a0d459c68",
                        "tenantId": ""
                      }
                    },
                    {
                      "totalAttendanceInSeconds": 3060,
                      "role": "Student",
                      "emailAddress": "JamieJHenry@contoso.org",
                      "attendanceIntervals": [
                        {
                          "durationInSeconds": 3060,
                          "joinDateTime": "2022-1-20T7:35:00.00Z",
                          "leaveDateTime": "2022-1-20T8:26:00.00Z"
                        }
                      ],
                      "identity": {
                        "displayName": "Jamie Henry",
                        "id": "592a11d9-ea95-4b6c-a236-8e2496c03c85",
                        "tenantId": ""
                      }
                    },
                    {
                      "totalAttendanceInSeconds": 3300,
                      "role": "Student",
                      "emailAddress": "RobertMThomas@contoso.org",
                      "attendanceIntervals": [
                        {
                          "durationInSeconds": 3300,
                          "joinDateTime": "2022-1-20T7:32:00.00Z",
                          "leaveDateTime": "2022-1-20T8:27:00.00Z"
                        }
                      ],
                      "identity": {
                        "displayName": "Robert Thomas",
                        "id": "9361915c-6b70-43de-ae9b-459a080dde2f",
                        "tenantId": ""
                      }
                    },
                    {
                      "totalAttendanceInSeconds": 2820,
                      "role": "Student",
                      "emailAddress": "UlyssesMCulbreath@contoso.org",
                      "attendanceIntervals": [
                        {
                          "durationInSeconds": 2820,
                          "joinDateTime": "2022-1-20T7:35:00.00Z",
                          "leaveDateTime": "2022-1-20T8:22:00.00Z"
                        }
                      ],
                      "identity": {
                        "displayName": "Ulysses Culbreath",
                        "id": "6ea75eef-4c40-47a5-b51f-fd66f47f2e85",
                        "tenantId": ""
                      }
                    }
                  ],
                  "1": "35410faa-4023-4795-9d95-d9cb45a104e5",
                  "2": "2022-1-20T8:30:00.00Z",
                  "3": "2022-1-20T7:30:00.00Z",
                  "4": "28",
                  "5": "2023-01-07 00-19-10"
                },
                {
                  "0": [
                    {
                      "totalAttendanceInSeconds": 2160,
                      "role": "Student",
                      "emailAddress": "MaryRMartin@contoso.org",
                      "attendanceIntervals": [
                        {
                          "durationInSeconds": 2160,
                          "joinDateTime": "2022-1-7T10:32:00.00Z",
                          "leaveDateTime": "2022-1-7T11:8:00.00Z"
                        }
                      ],
                      "identity": {
                        "displayName": "Mary Martin",
                        "id": "c44b0944-7500-486c-9162-30a9c30a2529",
                        "tenantId": ""
                      }
                    },
                    {
                      "totalAttendanceInSeconds": 4980,
                      "role": "Student",
                      "emailAddress": "MelindaJSchneider@contoso.org",
                      "attendanceIntervals": [
                        {
                          "durationInSeconds": 4980,
                          "joinDateTime": "2022-1-7T10:33:00.00Z",
                          "leaveDateTime": "2022-1-7T11:56:00.00Z"
                        }
                      ],
                      "identity": {
                        "displayName": "Melinda Schneider",
                        "id": "208de147-f663-48c0-9bba-fceb3b18bb77",
                        "tenantId": ""
                      }
                    },
                    {
                      "totalAttendanceInSeconds": 1680,
                      "role": "Student",
                      "emailAddress": "MatthewMRobinson@contoso.org",
                      "attendanceIntervals": [
                        {
                          "durationInSeconds": 1680,
                          "joinDateTime": "2022-1-7T10:35:00.00Z",
                          "leaveDateTime": "2022-1-7T11:3:00.00Z"
                        }
                      ],
                      "identity": {
                        "displayName": "Matthew Robinson",
                        "id": "efbb9ceb-4dcb-4e59-b292-c345030f39cc",
                        "tenantId": ""
                      }
                    },
                    {
                      "totalAttendanceInSeconds": 1800,
                      "role": "Student",
                      "emailAddress": "SheenaRGarcia@contoso.org",
                      "attendanceIntervals": [
                        {
                          "durationInSeconds": 1800,
                          "joinDateTime": "2022-1-7T10:30:00.00Z",
                          "leaveDateTime": "2022-1-7T11:0:00.00Z"
                        }
                      ],
                      "identity": {
                        "displayName": "Sheena Garcia",
                        "id": "f92f19d8-f01e-4517-9f31-c3424fb7e12e",
                        "tenantId": ""
                      }
                    },
                    {
                      "totalAttendanceInSeconds": 1500,
                      "role": "Student",
                      "emailAddress": "NormaWDenton@contoso.org",
                      "attendanceIntervals": [
                        {
                          "durationInSeconds": 1500,
                          "joinDateTime": "2022-1-7T10:35:00.00Z",
                          "leaveDateTime": "2022-1-7T11:0:00.00Z"
                        }
                      ],
                      "identity": {
                        "displayName": "Norma Denton",
                        "id": "c2215ecd-9c68-44b0-9af6-1d717bf17317",
                        "tenantId": ""
                      }
                    },
                    {
                      "totalAttendanceInSeconds": 5040,
                      "role": "Student",
                      "emailAddress": "JoyKBlum@contoso.org",
                      "attendanceIntervals": [
                        {
                          "durationInSeconds": 5040,
                          "joinDateTime": "2022-1-7T10:33:00.00Z",
                          "leaveDateTime": "2022-1-7T11:57:00.00Z"
                        }
                      ],
                      "identity": {
                        "displayName": "Joy Blum",
                        "id": "69b41e66-68e5-4b9c-b9a4-7a9b5a5dffd5",
                        "tenantId": ""
                      }
                    },
                    {
                      "totalAttendanceInSeconds": 1740,
                      "role": "Student",
                      "emailAddress": "DonaldSPittenger@contoso.org",
                      "attendanceIntervals": [
                        {
                          "durationInSeconds": 1740,
                          "joinDateTime": "2022-1-7T10:31:00.00Z",
                          "leaveDateTime": "2022-1-7T11:0:00.00Z"
                        }
                      ],
                      "identity": {
                        "displayName": "Donald Pittenger",
                        "id": "4af8e61e-8ecd-4ec1-b0ff-0821ec99b2cf",
                        "tenantId": ""
                      }
                    },
                    {
                      "totalAttendanceInSeconds": 2400,
                      "role": "Student",
                      "emailAddress": "JohnCBowman@contoso.org",
                      "attendanceIntervals": [
                        {
                          "durationInSeconds": 2400,
                          "joinDateTime": "2022-1-7T10:30:00.00Z",
                          "leaveDateTime": "2022-1-7T11:10:00.00Z"
                        }
                      ],
                      "identity": {
                        "displayName": "John Bowman",
                        "id": "581234db-13d0-4657-86f0-0908ab7b493a",
                        "tenantId": ""
                      }
                    },
                    {
                      "totalAttendanceInSeconds": 1860,
                      "role": "Student",
                      "emailAddress": "StephanieJHayward@contoso.org",
                      "attendanceIntervals": [
                        {
                          "durationInSeconds": 1860,
                          "joinDateTime": "2022-1-7T10:33:00.00Z",
                          "leaveDateTime": "2022-1-7T11:4:00.00Z"
                        }
                      ],
                      "identity": {
                        "displayName": "Stephanie Hayward",
                        "id": "59237a7a-4419-4082-8704-da3436976ad2",
                        "tenantId": ""
                      }
                    },
                    {
                      "totalAttendanceInSeconds": 2280,
                      "role": "Student",
                      "emailAddress": "AmandaGLewis@contoso.org",
                      "attendanceIntervals": [
                        {
                          "durationInSeconds": 2280,
                          "joinDateTime": "2022-1-7T10:35:00.00Z",
                          "leaveDateTime": "2022-1-7T11:13:00.00Z"
                        }
                      ],
                      "identity": {
                        "displayName": "Amanda Lewis",
                        "id": "c56a8f95-8618-496b-97a5-86999d80605f",
                        "tenantId": ""
                      }
                    },
                    {
                      "totalAttendanceInSeconds": 5220,
                      "role": "Student",
                      "emailAddress": "CharlesDBabin@contoso.org",
                      "attendanceIntervals": [
                        {
                          "durationInSeconds": 5220,
                          "joinDateTime": "2022-1-7T10:31:00.00Z",
                          "leaveDateTime": "2022-1-7T11:58:00.00Z"
                        }
                      ],
                      "identity": {
                        "displayName": "Charles Babin",
                        "id": "01d103b9-703d-4be5-8898-300b4e986621",
                        "tenantId": ""
                      }
                    },
                    {
                      "totalAttendanceInSeconds": 1860,
                      "role": "Student",
                      "emailAddress": "JuneBMiceli@contoso.org",
                      "attendanceIntervals": [
                        {
                          "durationInSeconds": 1860,
                          "joinDateTime": "2022-1-7T10:33:00.00Z",
                          "leaveDateTime": "2022-1-7T11:4:00.00Z"
                        }
                      ],
                      "identity": {
                        "displayName": "June Miceli",
                        "id": "d86a1dc2-87cb-45a1-868b-23ab3b0b23ed",
                        "tenantId": ""
                      }
                    },
                    {
                      "totalAttendanceInSeconds": 4860,
                      "role": "Student",
                      "emailAddress": "SophieMSchenk@contoso.org",
                      "attendanceIntervals": [
                        {
                          "durationInSeconds": 4860,
                          "joinDateTime": "2022-1-7T10:33:00.00Z",
                          "leaveDateTime": "2022-1-7T11:54:00.00Z"
                        }
                      ],
                      "identity": {
                        "displayName": "Sophie Schenk",
                        "id": "e12cab6a-0151-47c8-bd75-3a695d2b3f3f",
                        "tenantId": ""
                      }
                    },
                    {
                      "totalAttendanceInSeconds": 2460,
                      "role": "Student",
                      "emailAddress": "LouisACaver@contoso.org",
                      "attendanceIntervals": [
                        {
                          "durationInSeconds": 2460,
                          "joinDateTime": "2022-1-7T10:31:00.00Z",
                          "leaveDateTime": "2022-1-7T11:12:00.00Z"
                        }
                      ],
                      "identity": {
                        "displayName": "Louis Caver",
                        "id": "23e9ffdc-6aa3-4972-b0c6-f3f2c6ddd151",
                        "tenantId": ""
                      }
                    },
                    {
                      "totalAttendanceInSeconds": 2340,
                      "role": "Student",
                      "emailAddress": "RyanDHubbard@contoso.org",
                      "attendanceIntervals": [
                        {
                          "durationInSeconds": 2340,
                          "joinDateTime": "2022-1-7T10:33:00.00Z",
                          "leaveDateTime": "2022-1-7T11:12:00.00Z"
                        }
                      ],
                      "identity": {
                        "displayName": "Ryan Hubbard",
                        "id": "e293ddf1-e4ab-4c0e-bdf4-abc4c50edc0a",
                        "tenantId": ""
                      }
                    },
                    {
                      "totalAttendanceInSeconds": 4860,
                      "role": "Student",
                      "emailAddress": "CourtneyLConklin@contoso.org",
                      "attendanceIntervals": [
                        {
                          "durationInSeconds": 4860,
                          "joinDateTime": "2022-1-7T10:34:00.00Z",
                          "leaveDateTime": "2022-1-7T11:55:00.00Z"
                        }
                      ],
                      "identity": {
                        "displayName": "Courtney Conklin",
                        "id": "c8d87c77-c0b9-4c1f-9ee3-4d4ecd52b251",
                        "tenantId": ""
                      }
                    },
                    {
                      "totalAttendanceInSeconds": 5220,
                      "role": "Student",
                      "emailAddress": "FelixJBenton@contoso.org",
                      "attendanceIntervals": [
                        {
                          "durationInSeconds": 5220,
                          "joinDateTime": "2022-1-7T10:31:00.00Z",
                          "leaveDateTime": "2022-1-7T11:58:00.00Z"
                        }
                      ],
                      "identity": {
                        "displayName": "Felix Benton",
                        "id": "0c707f16-b101-402b-b571-8afdb5669f41",
                        "tenantId": ""
                      }
                    },
                    {
                      "totalAttendanceInSeconds": 1800,
                      "role": "Student",
                      "emailAddress": "MichaelSStocker@contoso.org",
                      "attendanceIntervals": [
                        {
                          "durationInSeconds": 1800,
                          "joinDateTime": "2022-1-7T10:33:00.00Z",
                          "leaveDateTime": "2022-1-7T11:3:00.00Z"
                        }
                      ],
                      "identity": {
                        "displayName": "Michael Stocker",
                        "id": "11f1b444-a548-417e-a6a5-e8b46ffbd0fb",
                        "tenantId": ""
                      }
                    },
                    {
                      "totalAttendanceInSeconds": 2400,
                      "role": "Student",
                      "emailAddress": "MichaelKHoll@contoso.org",
                      "attendanceIntervals": [
                        {
                          "durationInSeconds": 2400,
                          "joinDateTime": "2022-1-7T10:30:00.00Z",
                          "leaveDateTime": "2022-1-7T11:10:00.00Z"
                        }
                      ],
                      "identity": {
                        "displayName": "Michael Holl",
                        "id": "a0041c8c-a6be-4600-ae92-72c4ecb9cceb",
                        "tenantId": ""
                      }
                    },
                    {
                      "totalAttendanceInSeconds": 2700,
                      "role": "Student",
                      "emailAddress": "SarahJDaly@contoso.org",
                      "attendanceIntervals": [
                        {
                          "durationInSeconds": 2700,
                          "joinDateTime": "2022-1-7T10:30:00.00Z",
                          "leaveDateTime": "2022-1-7T11:15:00.00Z"
                        }
                      ],
                      "identity": {
                        "displayName": "Sarah Daly",
                        "id": "86c1bcc8-37df-4064-8adf-0cf26591fdd3",
                        "tenantId": ""
                      }
                    },
                    {
                      "totalAttendanceInSeconds": 2520,
                      "role": "Student",
                      "emailAddress": "FlorenceRMorse@contoso.org",
                      "attendanceIntervals": [
                        {
                          "durationInSeconds": 2520,
                          "joinDateTime": "2022-1-7T10:33:00.00Z",
                          "leaveDateTime": "2022-1-7T11:15:00.00Z"
                        }
                      ],
                      "identity": {
                        "displayName": "Florence Morse",
                        "id": "877039b9-5494-4844-88d1-a13ab46f018f",
                        "tenantId": ""
                      }
                    },
                    {
                      "totalAttendanceInSeconds": 2460,
                      "role": "Student",
                      "emailAddress": "JenniferJAnsley@contoso.org",
                      "attendanceIntervals": [
                        {
                          "durationInSeconds": 2460,
                          "joinDateTime": "2022-1-7T10:34:00.00Z",
                          "leaveDateTime": "2022-1-7T11:15:00.00Z"
                        }
                      ],
                      "identity": {
                        "displayName": "Jennifer Ansley",
                        "id": "e0bf662a-d905-42d7-8081-b3144a2bcc0d",
                        "tenantId": ""
                      }
                    },
                    {
                      "totalAttendanceInSeconds": 1980,
                      "role": "Student",
                      "emailAddress": "KathleenCCassano@contoso.org",
                      "attendanceIntervals": [
                        {
                          "durationInSeconds": 1980,
                          "joinDateTime": "2022-1-7T10:32:00.00Z",
                          "leaveDateTime": "2022-1-7T11:5:00.00Z"
                        }
                      ],
                      "identity": {
                        "displayName": "Kathleen Cassano",
                        "id": "9cc5fd15-c5f7-4baa-8ebe-b048b8a7adad",
                        "tenantId": ""
                      }
                    },
                    {
                      "totalAttendanceInSeconds": 4860,
                      "role": "Student",
                      "emailAddress": "MarileeEVirgil@contoso.org",
                      "attendanceIntervals": [
                        {
                          "durationInSeconds": 4860,
                          "joinDateTime": "2022-1-7T10:35:00.00Z",
                          "leaveDateTime": "2022-1-7T11:56:00.00Z"
                        }
                      ],
                      "identity": {
                        "displayName": "Marilee Virgil",
                        "id": "a336fc65-85ee-4d3d-945e-bb8084b7c841",
                        "tenantId": ""
                      }
                    },
                    {
                      "totalAttendanceInSeconds": 1800,
                      "role": "Student",
                      "emailAddress": "RonaldLFernandez@contoso.org",
                      "attendanceIntervals": [
                        {
                          "durationInSeconds": 1800,
                          "joinDateTime": "2022-1-7T10:30:00.00Z",
                          "leaveDateTime": "2022-1-7T11:0:00.00Z"
                        }
                      ],
                      "identity": {
                        "displayName": "Ronald Fernandez",
                        "id": "6bf47be1-9701-43dd-bdbf-ac67eb33b39f",
                        "tenantId": ""
                      }
                    },
                    {
                      "totalAttendanceInSeconds": 4800,
                      "role": "Student",
                      "emailAddress": "MaryFMartindale@contoso.org",
                      "attendanceIntervals": [
                        {
                          "durationInSeconds": 4800,
                          "joinDateTime": "2022-1-7T10:34:00.00Z",
                          "leaveDateTime": "2022-1-7T11:54:00.00Z"
                        }
                      ],
                      "identity": {
                        "displayName": "Mary Martindale",
                        "id": "a71f7656-3dff-40cc-9ee0-a45c82df9c42",
                        "tenantId": ""
                      }
                    },
                    {
                      "totalAttendanceInSeconds": 5040,
                      "role": "Student",
                      "emailAddress": "MariaJBrown@contoso.org",
                      "attendanceIntervals": [
                        {
                          "durationInSeconds": 5040,
                          "joinDateTime": "2022-1-7T10:34:00.00Z",
                          "leaveDateTime": "2022-1-7T11:58:00.00Z"
                        }
                      ],
                      "identity": {
                        "displayName": "Maria Brown",
                        "id": "176f3edc-31ba-4b0e-b8b4-7f0dfc1fe579",
                        "tenantId": ""
                      }
                    },
                    {
                      "totalAttendanceInSeconds": 5100,
                      "role": "Student",
                      "emailAddress": "ArmandoDVaugh@contoso.org",
                      "attendanceIntervals": [
                        {
                          "durationInSeconds": 5100,
                          "joinDateTime": "2022-1-7T10:32:00.00Z",
                          "leaveDateTime": "2022-1-7T11:57:00.00Z"
                        }
                      ],
                      "identity": {
                        "displayName": "Armando Vaugh",
                        "id": "fe662e96-4af4-4801-abf1-f3ca07526894",
                        "tenantId": ""
                      }
                    },
                    {
                      "totalAttendanceInSeconds": 2520,
                      "role": "Student",
                      "emailAddress": "MabelNDuarte@contoso.org",
                      "attendanceIntervals": [
                        {
                          "durationInSeconds": 2520,
                          "joinDateTime": "2022-1-7T10:33:00.00Z",
                          "leaveDateTime": "2022-1-7T11:15:00.00Z"
                        }
                      ],
                      "identity": {
                        "displayName": "Mabel Duarte",
                        "id": "30c78fa8-1393-418e-87c4-9427ca2ec2ad",
                        "tenantId": ""
                      }
                    },
                    {
                      "totalAttendanceInSeconds": 1740,
                      "role": "Student",
                      "emailAddress": "YvonneJEckhart@contoso.org",
                      "attendanceIntervals": [
                        {
                          "durationInSeconds": 1740,
                          "joinDateTime": "2022-1-7T10:35:00.00Z",
                          "leaveDateTime": "2022-1-7T11:4:00.00Z"
                        }
                      ],
                      "identity": {
                        "displayName": "Yvonne Eckhart",
                        "id": "10486493-44f0-4bfb-b4ac-50f363dfc90c",
                        "tenantId": ""
                      }
                    },
                    {
                      "totalAttendanceInSeconds": 2460,
                      "role": "Student",
                      "emailAddress": "AnnaPJohnson@contoso.org",
                      "attendanceIntervals": [
                        {
                          "durationInSeconds": 2460,
                          "joinDateTime": "2022-1-7T10:32:00.00Z",
                          "leaveDateTime": "2022-1-7T11:13:00.00Z"
                        }
                      ],
                      "identity": {
                        "displayName": "Anna Johnson",
                        "id": "9f4fcc82-a671-4e3e-b8c7-26e3c341bde3",
                        "tenantId": ""
                      }
                    },
                    {
                      "totalAttendanceInSeconds": 2280,
                      "role": "Student",
                      "emailAddress": "GarryKHart@contoso.org",
                      "attendanceIntervals": [
                        {
                          "durationInSeconds": 2280,
                          "joinDateTime": "2022-1-7T10:30:00.00Z",
                          "leaveDateTime": "2022-1-7T11:8:00.00Z"
                        }
                      ],
                      "identity": {
                        "displayName": "Garry Hart",
                        "id": "0c178ac8-88b4-4bea-88df-954bc14c1fd9",
                        "tenantId": ""
                      }
                    },
                    {
                      "totalAttendanceInSeconds": 1980,
                      "role": "Student",
                      "emailAddress": "WendyJJones@contoso.org",
                      "attendanceIntervals": [
                        {
                          "durationInSeconds": 1980,
                          "joinDateTime": "2022-1-7T10:30:00.00Z",
                          "leaveDateTime": "2022-1-7T11:3:00.00Z"
                        }
                      ],
                      "identity": {
                        "displayName": "Wendy Jones",
                        "id": "cfeb0941-d0e2-482d-a8fc-3196424efe51",
                        "tenantId": ""
                      }
                    },
                    {
                      "totalAttendanceInSeconds": 1560,
                      "role": "Student",
                      "emailAddress": "WilburBIngram@contoso.org",
                      "attendanceIntervals": [
                        {
                          "durationInSeconds": 1560,
                          "joinDateTime": "2022-1-7T10:34:00.00Z",
                          "leaveDateTime": "2022-1-7T11:0:00.00Z"
                        }
                      ],
                      "identity": {
                        "displayName": "Wilbur Ingram",
                        "id": "6f4ab288-aded-44ad-8bfe-702ab915f7f3",
                        "tenantId": ""
                      }
                    },
                    {
                      "totalAttendanceInSeconds": 1800,
                      "role": "Student",
                      "emailAddress": "PaulVMoskowitz@contoso.org",
                      "attendanceIntervals": [
                        {
                          "durationInSeconds": 1800,
                          "joinDateTime": "2022-1-7T10:35:00.00Z",
                          "leaveDateTime": "2022-1-7T11:5:00.00Z"
                        }
                      ],
                      "identity": {
                        "displayName": "Paul Moskowitz",
                        "id": "f47574d8-c9db-4b97-ad5e-d1921396e298",
                        "tenantId": ""
                      }
                    },
                    {
                      "totalAttendanceInSeconds": 4740,
                      "role": "Student",
                      "emailAddress": "JeanPBloodworth@contoso.org",
                      "attendanceIntervals": [
                        {
                          "durationInSeconds": 4740,
                          "joinDateTime": "2022-1-7T10:35:00.00Z",
                          "leaveDateTime": "2022-1-7T11:54:00.00Z"
                        }
                      ],
                      "identity": {
                        "displayName": "Jean Bloodworth",
                        "id": "ea363d72-27ad-4fec-9c36-9107b6aa22bf",
                        "tenantId": ""
                      }
                    },
                    {
                      "totalAttendanceInSeconds": 2280,
                      "role": "Student",
                      "emailAddress": "JamesRPaul@contoso.org",
                      "attendanceIntervals": [
                        {
                          "durationInSeconds": 2280,
                          "joinDateTime": "2022-1-7T10:35:00.00Z",
                          "leaveDateTime": "2022-1-7T11:13:00.00Z"
                        }
                      ],
                      "identity": {
                        "displayName": "James Paul",
                        "id": "b37151f3-f2aa-4e2a-84b3-a0fb1f51f7e8",
                        "tenantId": ""
                      }
                    }
                  ],
                  "1": "af25dc8c-eed5-444c-a150-faeab86f60c0",
                  "2": "2022-1-7T11:15:00.00Z",
                  "3": "2022-1-7T10:30:00.00Z",
                  "4": "40",
                  "5": "2023-01-07 00-19-10"
                },
                {
                  "0": [
                    {
                      "totalAttendanceInSeconds": 1740,
                      "role": "Student",
                      "emailAddress": "ElouiseACronan@contoso.org",
                      "attendanceIntervals": [
                        {
                          "durationInSeconds": 1740,
                          "joinDateTime": "2022-1-27T8:32:00.00Z",
                          "leaveDateTime": "2022-1-27T9:1:00.00Z"
                        }
                      ],
                      "identity": {
                        "displayName": "Elouise Cronan",
                        "id": "efc3ba3e-3e18-4364-8d5f-6715f3884833",
                        "tenantId": ""
                      }
                    },
                    {
                      "totalAttendanceInSeconds": 2340,
                      "role": "Student",
                      "emailAddress": "AlesiaCJohnson@contoso.org",
                      "attendanceIntervals": [
                        {
                          "durationInSeconds": 2340,
                          "joinDateTime": "2022-1-27T8:33:00.00Z",
                          "leaveDateTime": "2022-1-27T9:12:00.00Z"
                        }
                      ],
                      "identity": {
                        "displayName": "Alesia Johnson",
                        "id": "f59cc0b4-c654-4fa1-8911-78e19f85ca3e",
                        "tenantId": ""
                      }
                    },
                    {
                      "totalAttendanceInSeconds": 1920,
                      "role": "Student",
                      "emailAddress": "RalphJWarner@contoso.org",
                      "attendanceIntervals": [
                        {
                          "durationInSeconds": 1920,
                          "joinDateTime": "2022-1-27T8:30:00.00Z",
                          "leaveDateTime": "2022-1-27T9:2:00.00Z"
                        }
                      ],
                      "identity": {
                        "displayName": "Ralph Warner",
                        "id": "03e200d9-8ceb-4ee4-b13b-a643acf63a5c",
                        "tenantId": ""
                      }
                    },
                    {
                      "totalAttendanceInSeconds": 2220,
                      "role": "Student",
                      "emailAddress": "JennyDPatrick@contoso.org",
                      "attendanceIntervals": [
                        {
                          "durationInSeconds": 2220,
                          "joinDateTime": "2022-1-27T8:33:00.00Z",
                          "leaveDateTime": "2022-1-27T9:10:00.00Z"
                        }
                      ],
                      "identity": {
                        "displayName": "Jenny Patrick",
                        "id": "c189e3e5-4730-4b4e-ade2-d728cc6b86f3",
                        "tenantId": ""
                      }
                    },
                    {
                      "totalAttendanceInSeconds": 2040,
                      "role": "Student",
                      "emailAddress": "MarianneJLopez@contoso.org",
                      "attendanceIntervals": [
                        {
                          "durationInSeconds": 2040,
                          "joinDateTime": "2022-1-27T8:35:00.00Z",
                          "leaveDateTime": "2022-1-27T9:9:00.00Z"
                        }
                      ],
                      "identity": {
                        "displayName": "Marianne Lopez",
                        "id": "b8c3f862-22df-47b5-bc9b-e69e189435e4",
                        "tenantId": ""
                      }
                    },
                    {
                      "totalAttendanceInSeconds": 5100,
                      "role": "Student",
                      "emailAddress": "MildredARiley@contoso.org",
                      "attendanceIntervals": [
                        {
                          "durationInSeconds": 5100,
                          "joinDateTime": "2022-1-27T8:31:00.00Z",
                          "leaveDateTime": "2022-1-27T9:56:00.00Z"
                        }
                      ],
                      "identity": {
                        "displayName": "Mildred Riley",
                        "id": "2a4488c6-9916-439e-917d-8b09544220f4",
                        "tenantId": ""
                      }
                    },
                    {
                      "totalAttendanceInSeconds": 1680,
                      "role": "Student",
                      "emailAddress": "ArleneCSheen@contoso.org",
                      "attendanceIntervals": [
                        {
                          "durationInSeconds": 1680,
                          "joinDateTime": "2022-1-27T8:35:00.00Z",
                          "leaveDateTime": "2022-1-27T9:3:00.00Z"
                        }
                      ],
                      "identity": {
                        "displayName": "Arlene Sheen",
                        "id": "30318dc0-276e-4a6a-a943-e47d60b4a33f",
                        "tenantId": ""
                      }
                    },
                    {
                      "totalAttendanceInSeconds": 4980,
                      "role": "Student",
                      "emailAddress": "StephanyETaber@contoso.org",
                      "attendanceIntervals": [
                        {
                          "durationInSeconds": 4980,
                          "joinDateTime": "2022-1-27T8:35:00.00Z",
                          "leaveDateTime": "2022-1-27T9:58:00.00Z"
                        }
                      ],
                      "identity": {
                        "displayName": "Stephany Taber",
                        "id": "d3c95ffd-f83a-4f8c-bd8a-7cf48dce403e",
                        "tenantId": ""
                      }
                    },
                    {
                      "totalAttendanceInSeconds": 5220,
                      "role": "Student",
                      "emailAddress": "MarieRMoran@contoso.org",
                      "attendanceIntervals": [
                        {
                          "durationInSeconds": 5220,
                          "joinDateTime": "2022-1-27T8:31:00.00Z",
                          "leaveDateTime": "2022-1-27T9:58:00.00Z"
                        }
                      ],
                      "identity": {
                        "displayName": "Marie Moran",
                        "id": "376a08ab-1ad6-4ac3-a86b-555b1ccf1f68",
                        "tenantId": ""
                      }
                    },
                    {
                      "totalAttendanceInSeconds": 5280,
                      "role": "Student",
                      "emailAddress": "JamesJSnyder@contoso.org",
                      "attendanceIntervals": [
                        {
                          "durationInSeconds": 5280,
                          "joinDateTime": "2022-1-27T8:30:00.00Z",
                          "leaveDateTime": "2022-1-27T9:58:00.00Z"
                        }
                      ],
                      "identity": {
                        "displayName": "James Snyder",
                        "id": "e0b5de95-7204-4618-87d4-912c484d06c1",
                        "tenantId": ""
                      }
                    },
                    {
                      "totalAttendanceInSeconds": 1620,
                      "role": "Student",
                      "emailAddress": "WarrenAPritchett@contoso.org",
                      "attendanceIntervals": [
                        {
                          "durationInSeconds": 1620,
                          "joinDateTime": "2022-1-27T8:34:00.00Z",
                          "leaveDateTime": "2022-1-27T9:1:00.00Z"
                        }
                      ],
                      "identity": {
                        "displayName": "Warren Pritchett",
                        "id": "a85b76e6-9a89-44c5-9eb4-99f9bfab2497",
                        "tenantId": ""
                      }
                    },
                    {
                      "totalAttendanceInSeconds": 4980,
                      "role": "Student",
                      "emailAddress": "VirginiaDWilliams@contoso.org",
                      "attendanceIntervals": [
                        {
                          "durationInSeconds": 4980,
                          "joinDateTime": "2022-1-27T8:32:00.00Z",
                          "leaveDateTime": "2022-1-27T9:55:00.00Z"
                        }
                      ],
                      "identity": {
                        "displayName": "Virginia Williams",
                        "id": "3fd0cb74-7d3f-4468-8cd3-64e571ad2192",
                        "tenantId": ""
                      }
                    },
                    {
                      "totalAttendanceInSeconds": 2040,
                      "role": "Student",
                      "emailAddress": "NancyGSkeen@contoso.org",
                      "attendanceIntervals": [
                        {
                          "durationInSeconds": 2040,
                          "joinDateTime": "2022-1-27T8:33:00.00Z",
                          "leaveDateTime": "2022-1-27T9:7:00.00Z"
                        }
                      ],
                      "identity": {
                        "displayName": "Nancy Skeen",
                        "id": "71f2fa70-196e-4bb9-b66b-3fdc03d0b3eb",
                        "tenantId": ""
                      }
                    },
                    {
                      "totalAttendanceInSeconds": 4800,
                      "role": "Student",
                      "emailAddress": "SusanVMoberg@contoso.org",
                      "attendanceIntervals": [
                        {
                          "durationInSeconds": 4800,
                          "joinDateTime": "2022-1-27T8:34:00.00Z",
                          "leaveDateTime": "2022-1-27T9:54:00.00Z"
                        }
                      ],
                      "identity": {
                        "displayName": "Susan Moberg",
                        "id": "06aac4a0-a00e-4f4a-bc63-abb84d1f1380",
                        "tenantId": ""
                      }
                    },
                    {
                      "totalAttendanceInSeconds": 2280,
                      "role": "Student",
                      "emailAddress": "AaronLAllison@contoso.org",
                      "attendanceIntervals": [
                        {
                          "durationInSeconds": 2280,
                          "joinDateTime": "2022-1-27T8:34:00.00Z",
                          "leaveDateTime": "2022-1-27T9:12:00.00Z"
                        }
                      ],
                      "identity": {
                        "displayName": "Aaron Allison",
                        "id": "5d4d19d8-30a2-4a89-a76b-162bfab8f3c4",
                        "tenantId": ""
                      }
                    },
                    {
                      "totalAttendanceInSeconds": 1620,
                      "role": "Student",
                      "emailAddress": "PatriciaJWells@contoso.org",
                      "attendanceIntervals": [
                        {
                          "durationInSeconds": 1620,
                          "joinDateTime": "2022-1-27T8:35:00.00Z",
                          "leaveDateTime": "2022-1-27T9:2:00.00Z"
                        }
                      ],
                      "identity": {
                        "displayName": "Patricia Wells",
                        "id": "4a4701f4-9629-4030-80bc-06b6c6f56b03",
                        "tenantId": ""
                      }
                    },
                    {
                      "totalAttendanceInSeconds": 5220,
                      "role": "Student",
                      "emailAddress": "AzucenaMSmith@contoso.org",
                      "attendanceIntervals": [
                        {
                          "durationInSeconds": 5220,
                          "joinDateTime": "2022-1-27T8:30:00.00Z",
                          "leaveDateTime": "2022-1-27T9:57:00.00Z"
                        }
                      ],
                      "identity": {
                        "displayName": "Azucena Smith",
                        "id": "b3a48369-b79a-42ae-9b75-689ed361ebcf",
                        "tenantId": ""
                      }
                    },
                    {
                      "totalAttendanceInSeconds": 2640,
                      "role": "Student",
                      "emailAddress": "CaseyWLehmann@contoso.org",
                      "attendanceIntervals": [
                        {
                          "durationInSeconds": 2640,
                          "joinDateTime": "2022-1-27T8:31:00.00Z",
                          "leaveDateTime": "2022-1-27T9:15:00.00Z"
                        }
                      ],
                      "identity": {
                        "displayName": "Casey Lehmann",
                        "id": "dfe63989-15b3-4ac1-b315-4499bd89d4fc",
                        "tenantId": ""
                      }
                    },
                    {
                      "totalAttendanceInSeconds": 2340,
                      "role": "Student",
                      "emailAddress": "RobertMEberle@contoso.org",
                      "attendanceIntervals": [
                        {
                          "durationInSeconds": 2340,
                          "joinDateTime": "2022-1-27T8:31:00.00Z",
                          "leaveDateTime": "2022-1-27T9:10:00.00Z"
                        }
                      ],
                      "identity": {
                        "displayName": "Robert Eberle",
                        "id": "3abb0e4d-5f3f-4e13-a977-83f963f8e3a3",
                        "tenantId": ""
                      }
                    },
                    {
                      "totalAttendanceInSeconds": 5040,
                      "role": "Student",
                      "emailAddress": "ChristopherALorenzo@contoso.org",
                      "attendanceIntervals": [
                        {
                          "durationInSeconds": 5040,
                          "joinDateTime": "2022-1-27T8:32:00.00Z",
                          "leaveDateTime": "2022-1-27T9:56:00.00Z"
                        }
                      ],
                      "identity": {
                        "displayName": "Christopher Lorenzo",
                        "id": "16adc87f-3b9f-44d7-a169-ab4989adf9a9",
                        "tenantId": ""
                      }
                    },
                    {
                      "totalAttendanceInSeconds": 2040,
                      "role": "Student",
                      "emailAddress": "AlbertNPerry@contoso.org",
                      "attendanceIntervals": [
                        {
                          "durationInSeconds": 2040,
                          "joinDateTime": "2022-1-27T8:32:00.00Z",
                          "leaveDateTime": "2022-1-27T9:6:00.00Z"
                        }
                      ],
                      "identity": {
                        "displayName": "Albert Perry",
                        "id": "a85c7466-f8eb-4b93-8ee0-8da7dab190b4",
                        "tenantId": ""
                      }
                    },
                    {
                      "totalAttendanceInSeconds": 2460,
                      "role": "Student",
                      "emailAddress": "EleanorMStringfellow@contoso.org",
                      "attendanceIntervals": [
                        {
                          "durationInSeconds": 2460,
                          "joinDateTime": "2022-1-27T8:32:00.00Z",
                          "leaveDateTime": "2022-1-27T9:13:00.00Z"
                        }
                      ],
                      "identity": {
                        "displayName": "Eleanor Stringfellow",
                        "id": "82f73278-1ed4-40a8-8165-f744dcf13f5f",
                        "tenantId": ""
                      }
                    },
                    {
                      "totalAttendanceInSeconds": 5040,
                      "role": "Student",
                      "emailAddress": "FrancesMChon@contoso.org",
                      "attendanceIntervals": [
                        {
                          "durationInSeconds": 5040,
                          "joinDateTime": "2022-1-27T8:30:00.00Z",
                          "leaveDateTime": "2022-1-27T9:54:00.00Z"
                        }
                      ],
                      "identity": {
                        "displayName": "Frances Chon",
                        "id": "c6bf93c5-ebcb-4fe5-b6be-b374cd2f21b2",
                        "tenantId": ""
                      }
                    },
                    {
                      "totalAttendanceInSeconds": 5220,
                      "role": "Student",
                      "emailAddress": "RobertKWolf@contoso.org",
                      "attendanceIntervals": [
                        {
                          "durationInSeconds": 5220,
                          "joinDateTime": "2022-1-27T8:30:00.00Z",
                          "leaveDateTime": "2022-1-27T9:57:00.00Z"
                        }
                      ],
                      "identity": {
                        "displayName": "Robert Wolf",
                        "id": "925d8dbc-1d61-457d-a3c0-7e6544754e6c",
                        "tenantId": ""
                      }
                    },
                    {
                      "totalAttendanceInSeconds": 1860,
                      "role": "Student",
                      "emailAddress": "FelipeDWhiteside@contoso.org",
                      "attendanceIntervals": [
                        {
                          "durationInSeconds": 1860,
                          "joinDateTime": "2022-1-27T8:32:00.00Z",
                          "leaveDateTime": "2022-1-27T9:3:00.00Z"
                        }
                      ],
                      "identity": {
                        "displayName": "Felipe Whiteside",
                        "id": "0da1e347-3859-4ffa-87ba-703bcc362a3d",
                        "tenantId": ""
                      }
                    },
                    {
                      "totalAttendanceInSeconds": 1740,
                      "role": "Student",
                      "emailAddress": "ErlindaJBergeron@contoso.org",
                      "attendanceIntervals": [
                        {
                          "durationInSeconds": 1740,
                          "joinDateTime": "2022-1-27T8:33:00.00Z",
                          "leaveDateTime": "2022-1-27T9:2:00.00Z"
                        }
                      ],
                      "identity": {
                        "displayName": "Erlinda Bergeron",
                        "id": "46ecb74e-18c0-4de9-82b8-f13fa8a85f93",
                        "tenantId": ""
                      }
                    },
                    {
                      "totalAttendanceInSeconds": 2400,
                      "role": "Student",
                      "emailAddress": "MarkOEdwards@contoso.org",
                      "attendanceIntervals": [
                        {
                          "durationInSeconds": 2400,
                          "joinDateTime": "2022-1-27T8:34:00.00Z",
                          "leaveDateTime": "2022-1-27T9:14:00.00Z"
                        }
                      ],
                      "identity": {
                        "displayName": "Mark Edwards",
                        "id": "45ef98b9-9a43-4ca4-b826-0e5faeb63a0f",
                        "tenantId": ""
                      }
                    },
                    {
                      "totalAttendanceInSeconds": 2400,
                      "role": "Student",
                      "emailAddress": "AmiMEllison@contoso.org",
                      "attendanceIntervals": [
                        {
                          "durationInSeconds": 2400,
                          "joinDateTime": "2022-1-27T8:33:00.00Z",
                          "leaveDateTime": "2022-1-27T9:13:00.00Z"
                        }
                      ],
                      "identity": {
                        "displayName": "Ami Ellison",
                        "id": "a2f3c112-0db1-4d7f-93be-c560dd4e3a25",
                        "tenantId": ""
                      }
                    },
                    {
                      "totalAttendanceInSeconds": 2280,
                      "role": "Student",
                      "emailAddress": "JohnDMartinez@contoso.org",
                      "attendanceIntervals": [
                        {
                          "durationInSeconds": 2280,
                          "joinDateTime": "2022-1-27T8:30:00.00Z",
                          "leaveDateTime": "2022-1-27T9:8:00.00Z"
                        }
                      ],
                      "identity": {
                        "displayName": "John Martinez",
                        "id": "29e3c150-3bad-4139-8f71-02452220763c",
                        "tenantId": ""
                      }
                    },
                    {
                      "totalAttendanceInSeconds": 1680,
                      "role": "Student",
                      "emailAddress": "KaraJOlivier@contoso.org",
                      "attendanceIntervals": [
                        {
                          "durationInSeconds": 1680,
                          "joinDateTime": "2022-1-27T8:34:00.00Z",
                          "leaveDateTime": "2022-1-27T9:2:00.00Z"
                        }
                      ],
                      "identity": {
                        "displayName": "Kara Olivier",
                        "id": "bd69b619-165b-47f3-a407-9ad5d3f9d6fa",
                        "tenantId": ""
                      }
                    },
                    {
                      "totalAttendanceInSeconds": 2340,
                      "role": "Student",
                      "emailAddress": "JohnJWoods@contoso.org",
                      "attendanceIntervals": [
                        {
                          "durationInSeconds": 2340,
                          "joinDateTime": "2022-1-27T8:33:00.00Z",
                          "leaveDateTime": "2022-1-27T9:12:00.00Z"
                        }
                      ],
                      "identity": {
                        "displayName": "John Woods",
                        "id": "3f255140-e90b-4eea-ac8e-858acad1d564",
                        "tenantId": ""
                      }
                    },
                    {
                      "totalAttendanceInSeconds": 5100,
                      "role": "Student",
                      "emailAddress": "AlisonAKoch@contoso.org",
                      "attendanceIntervals": [
                        {
                          "durationInSeconds": 5100,
                          "joinDateTime": "2022-1-27T8:31:00.00Z",
                          "leaveDateTime": "2022-1-27T9:56:00.00Z"
                        }
                      ],
                      "identity": {
                        "displayName": "Alison Koch",
                        "id": "722e89eb-9350-4284-8252-7817ab5f8119",
                        "tenantId": ""
                      }
                    },
                    {
                      "totalAttendanceInSeconds": 1980,
                      "role": "Student",
                      "emailAddress": "BillyKWright@contoso.org",
                      "attendanceIntervals": [
                        {
                          "durationInSeconds": 1980,
                          "joinDateTime": "2022-1-27T8:34:00.00Z",
                          "leaveDateTime": "2022-1-27T9:7:00.00Z"
                        }
                      ],
                      "identity": {
                        "displayName": "Billy Wright",
                        "id": "c5092d8a-ddb4-4d02-b0bb-e8c23348bd66",
                        "tenantId": ""
                      }
                    },
                    {
                      "totalAttendanceInSeconds": 2400,
                      "role": "Student",
                      "emailAddress": "JamesAArizmendi@contoso.org",
                      "attendanceIntervals": [
                        {
                          "durationInSeconds": 2400,
                          "joinDateTime": "2022-1-27T8:32:00.00Z",
                          "leaveDateTime": "2022-1-27T9:12:00.00Z"
                        }
                      ],
                      "identity": {
                        "displayName": "James Arizmendi",
                        "id": "3f8a590d-f371-41da-a2cb-7b917a09989c",
                        "tenantId": ""
                      }
                    },
                    {
                      "totalAttendanceInSeconds": 2400,
                      "role": "Student",
                      "emailAddress": "DeanMDeangelo@contoso.org",
                      "attendanceIntervals": [
                        {
                          "durationInSeconds": 2400,
                          "joinDateTime": "2022-1-27T8:33:00.00Z",
                          "leaveDateTime": "2022-1-27T9:13:00.00Z"
                        }
                      ],
                      "identity": {
                        "displayName": "Dean Deangelo",
                        "id": "9f706ba1-998e-4574-b09b-29f3c4345e6b",
                        "tenantId": ""
                      }
                    },
                    {
                      "totalAttendanceInSeconds": 2460,
                      "role": "Student",
                      "emailAddress": "MaryJMetzger@contoso.org",
                      "attendanceIntervals": [
                        {
                          "durationInSeconds": 2460,
                          "joinDateTime": "2022-1-27T8:32:00.00Z",
                          "leaveDateTime": "2022-1-27T9:13:00.00Z"
                        }
                      ],
                      "identity": {
                        "displayName": "Mary Metzger",
                        "id": "3c6bdd4d-1807-494a-b72c-65c9614ead23",
                        "tenantId": ""
                      }
                    },
                    {
                      "totalAttendanceInSeconds": 1860,
                      "role": "Student",
                      "emailAddress": "MadelineABoyce@contoso.org",
                      "attendanceIntervals": [
                        {
                          "durationInSeconds": 1860,
                          "joinDateTime": "2022-1-27T8:32:00.00Z",
                          "leaveDateTime": "2022-1-27T9:3:00.00Z"
                        }
                      ],
                      "identity": {
                        "displayName": "Madeline Boyce",
                        "id": "3f8b2e70-89fe-40c7-95bd-f5ac2ad5752d",
                        "tenantId": ""
                      }
                    },
                    {
                      "totalAttendanceInSeconds": 1920,
                      "role": "Student",
                      "emailAddress": "LisaNPriest@contoso.org",
                      "attendanceIntervals": [
                        {
                          "durationInSeconds": 1920,
                          "joinDateTime": "2022-1-27T8:31:00.00Z",
                          "leaveDateTime": "2022-1-27T9:3:00.00Z"
                        }
                      ],
                      "identity": {
                        "displayName": "Lisa Priest",
                        "id": "24325cda-f8a9-44a1-9441-52a1885e5951",
                        "tenantId": ""
                      }
                    },
                    {
                      "totalAttendanceInSeconds": 1680,
                      "role": "Student",
                      "emailAddress": "CortneyCGonzales@contoso.org",
                      "attendanceIntervals": [
                        {
                          "durationInSeconds": 1680,
                          "joinDateTime": "2022-1-27T8:33:00.00Z",
                          "leaveDateTime": "2022-1-27T9:1:00.00Z"
                        }
                      ],
                      "identity": {
                        "displayName": "Cortney Gonzales",
                        "id": "24da56b9-86be-41e9-a30f-efdd5dd9ad65",
                        "tenantId": ""
                      }
                    },
                    {
                      "totalAttendanceInSeconds": 2220,
                      "role": "Student",
                      "emailAddress": "JimmyJIssa@contoso.org",
                      "attendanceIntervals": [
                        {
                          "durationInSeconds": 2220,
                          "joinDateTime": "2022-1-27T8:35:00.00Z",
                          "leaveDateTime": "2022-1-27T9:12:00.00Z"
                        }
                      ],
                      "identity": {
                        "displayName": "Jimmy Issa",
                        "id": "4946ba7f-7981-43b0-99ec-5fd6575a2efb",
                        "tenantId": ""
                      }
                    },
                    {
                      "totalAttendanceInSeconds": 1740,
                      "role": "Student",
                      "emailAddress": "KathyTMack@contoso.org",
                      "attendanceIntervals": [
                        {
                          "durationInSeconds": 1740,
                          "joinDateTime": "2022-1-27T8:34:00.00Z",
                          "leaveDateTime": "2022-1-27T9:3:00.00Z"
                        }
                      ],
                      "identity": {
                        "displayName": "Kathy Mack",
                        "id": "ce3f6362-ebae-4d1b-b801-1d5967e9800f",
                        "tenantId": ""
                      }
                    },
                    {
                      "totalAttendanceInSeconds": 2160,
                      "role": "Student",
                      "emailAddress": "LoriASteele@contoso.org",
                      "attendanceIntervals": [
                        {
                          "durationInSeconds": 2160,
                          "joinDateTime": "2022-1-27T8:32:00.00Z",
                          "leaveDateTime": "2022-1-27T9:8:00.00Z"
                        }
                      ],
                      "identity": {
                        "displayName": "Lori Steele",
                        "id": "41e22368-0fa7-4eed-9ab7-bfab80c237d0",
                        "tenantId": ""
                      }
                    }
                  ],
                  "1": "80f47ba7-05de-4f28-bdce-4cad0d85c3a6",
                  "2": "2022-1-27T9:15:00.00Z",
                  "3": "2022-1-27T8:30:00.00Z",
                  "4": "45",
                  "5": "2023-01-07 00-19-10"
                },
                {
                  "0": [
                    {
                      "totalAttendanceInSeconds": 4500,
                      "role": "Student",
                      "emailAddress": "KevinBKirk@contoso.org",
                      "attendanceIntervals": [
                        {
                          "durationInSeconds": 4500,
                          "joinDateTime": "2022-1-5T12:15:00.00Z",
                          "leaveDateTime": "2022-1-5T13:30:00.00Z"
                        }
                      ],
                      "identity": {
                        "displayName": "Kevin Kirk",
                        "id": "30a3ea92-7b55-4e8e-bca2-b7d0b546b44e",
                        "tenantId": ""
                      }
                    },
                    {
                      "totalAttendanceInSeconds": 4260,
                      "role": "Student",
                      "emailAddress": "BenjaminHHollins@contoso.org",
                      "attendanceIntervals": [
                        {
                          "durationInSeconds": 4260,
                          "joinDateTime": "2022-1-5T12:17:00.00Z",
                          "leaveDateTime": "2022-1-5T13:28:00.00Z"
                        }
                      ],
                      "identity": {
                        "displayName": "Benjamin Hollins",
                        "id": "226aa81d-a725-493f-8d7d-36a0952e8390",
                        "tenantId": ""
                      }
                    },
                    {
                      "totalAttendanceInSeconds": 4020,
                      "role": "Student",
                      "emailAddress": "SaraPSilveira@contoso.org",
                      "attendanceIntervals": [
                        {
                          "durationInSeconds": 4020,
                          "joinDateTime": "2022-1-5T12:16:00.00Z",
                          "leaveDateTime": "2022-1-5T13:23:00.00Z"
                        }
                      ],
                      "identity": {
                        "displayName": "Sara Silveira",
                        "id": "87859c78-a388-4ccb-a332-128332a1be00",
                        "tenantId": ""
                      }
                    },
                    {
                      "totalAttendanceInSeconds": 3060,
                      "role": "Student",
                      "emailAddress": "MaryDVasquez@contoso.org",
                      "attendanceIntervals": [
                        {
                          "durationInSeconds": 3060,
                          "joinDateTime": "2022-1-5T12:20:00.00Z",
                          "leaveDateTime": "2022-1-5T13:11:00.00Z"
                        }
                      ],
                      "identity": {
                        "displayName": "Mary Vasquez",
                        "id": "5b79c2b4-ed38-4287-a608-51295de862bf",
                        "tenantId": ""
                      }
                    },
                    {
                      "totalAttendanceInSeconds": 3660,
                      "role": "Student",
                      "emailAddress": "TimothyGHenson@contoso.org",
                      "attendanceIntervals": [
                        {
                          "durationInSeconds": 3660,
                          "joinDateTime": "2022-1-5T12:19:00.00Z",
                          "leaveDateTime": "2022-1-5T13:20:00.00Z"
                        }
                      ],
                      "identity": {
                        "displayName": "Timothy Henson",
                        "id": "2cf82533-7a7a-4a86-a735-a0b17221ea1c",
                        "tenantId": ""
                      }
                    },
                    {
                      "totalAttendanceInSeconds": 4260,
                      "role": "Student",
                      "emailAddress": "MarthaTMcLaughlin@contoso.org",
                      "attendanceIntervals": [
                        {
                          "durationInSeconds": 4260,
                          "joinDateTime": "2022-1-5T12:19:00.00Z",
                          "leaveDateTime": "2022-1-5T13:30:00.00Z"
                        }
                      ],
                      "identity": {
                        "displayName": "Martha McLaughlin",
                        "id": "d636abe1-0e5f-4fb3-baae-7f97e13a298c",
                        "tenantId": ""
                      }
                    },
                    {
                      "totalAttendanceInSeconds": 4080,
                      "role": "Student",
                      "emailAddress": "LaurenceCRobertson@contoso.org",
                      "attendanceIntervals": [
                        {
                          "durationInSeconds": 4080,
                          "joinDateTime": "2022-1-5T12:17:00.00Z",
                          "leaveDateTime": "2022-1-5T13:25:00.00Z"
                        }
                      ],
                      "identity": {
                        "displayName": "Laurence Robertson",
                        "id": "6abe3b5e-1cad-4327-808e-65ea7cfea460",
                        "tenantId": ""
                      }
                    },
                    {
                      "totalAttendanceInSeconds": 3960,
                      "role": "Student",
                      "emailAddress": "JohnAReyes@contoso.org",
                      "attendanceIntervals": [
                        {
                          "durationInSeconds": 3960,
                          "joinDateTime": "2022-1-5T12:20:00.00Z",
                          "leaveDateTime": "2022-1-5T13:26:00.00Z"
                        }
                      ],
                      "identity": {
                        "displayName": "John Reyes",
                        "id": "ea207364-2219-4dae-b5e8-4ae7df140dba",
                        "tenantId": ""
                      }
                    },
                    {
                      "totalAttendanceInSeconds": 3180,
                      "role": "Student",
                      "emailAddress": "TeresaDWoods@contoso.org",
                      "attendanceIntervals": [
                        {
                          "durationInSeconds": 3180,
                          "joinDateTime": "2022-1-5T12:18:00.00Z",
                          "leaveDateTime": "2022-1-5T13:11:00.00Z"
                        }
                      ],
                      "identity": {
                        "displayName": "Teresa Woods",
                        "id": "44d5b24c-07a1-4fe4-9536-adb3fae6348f",
                        "tenantId": ""
                      }
                    },
                    {
                      "totalAttendanceInSeconds": 4200,
                      "role": "Student",
                      "emailAddress": "LoisHRecinos@contoso.org",
                      "attendanceIntervals": [
                        {
                          "durationInSeconds": 4200,
                          "joinDateTime": "2022-1-5T12:17:00.00Z",
                          "leaveDateTime": "2022-1-5T13:27:00.00Z"
                        }
                      ],
                      "identity": {
                        "displayName": "Lois Recinos",
                        "id": "a5b205a5-6170-4f83-9b0c-a42e0cd12cdb",
                        "tenantId": ""
                      }
                    },
                    {
                      "totalAttendanceInSeconds": 3660,
                      "role": "Student",
                      "emailAddress": "BelindaNLeiser@contoso.org",
                      "attendanceIntervals": [
                        {
                          "durationInSeconds": 3660,
                          "joinDateTime": "2022-1-5T12:18:00.00Z",
                          "leaveDateTime": "2022-1-5T13:19:00.00Z"
                        }
                      ],
                      "identity": {
                        "displayName": "Belinda Leiser",
                        "id": "4b4c8f51-7a20-45b3-b6f3-2212af34522e",
                        "tenantId": ""
                      }
                    },
                    {
                      "totalAttendanceInSeconds": 3540,
                      "role": "Student",
                      "emailAddress": "RachelRSanchez@contoso.org",
                      "attendanceIntervals": [
                        {
                          "durationInSeconds": 3540,
                          "joinDateTime": "2022-1-5T12:17:00.00Z",
                          "leaveDateTime": "2022-1-5T13:16:00.00Z"
                        }
                      ],
                      "identity": {
                        "displayName": "Rachel Sanchez",
                        "id": "19bd65c0-160b-4563-8175-f8a55163e059",
                        "tenantId": ""
                      }
                    },
                    {
                      "totalAttendanceInSeconds": 4080,
                      "role": "Student",
                      "emailAddress": "BibiJErickson@contoso.org",
                      "attendanceIntervals": [
                        {
                          "durationInSeconds": 4080,
                          "joinDateTime": "2022-1-5T12:17:00.00Z",
                          "leaveDateTime": "2022-1-5T13:25:00.00Z"
                        }
                      ],
                      "identity": {
                        "displayName": "Bibi Erickson",
                        "id": "39f7e498-95ba-4794-94f4-3c54e02114bd",
                        "tenantId": ""
                      }
                    },
                    {
                      "totalAttendanceInSeconds": 3960,
                      "role": "Student",
                      "emailAddress": "MatthewMAlston@contoso.org",
                      "attendanceIntervals": [
                        {
                          "durationInSeconds": 3960,
                          "joinDateTime": "2022-1-5T12:19:00.00Z",
                          "leaveDateTime": "2022-1-5T13:25:00.00Z"
                        }
                      ],
                      "identity": {
                        "displayName": "Matthew Alston",
                        "id": "fc3c5426-9cda-43b7-9a1a-996df458cf85",
                        "tenantId": ""
                      }
                    },
                    {
                      "totalAttendanceInSeconds": 3960,
                      "role": "Student",
                      "emailAddress": "JewelERaines@contoso.org",
                      "attendanceIntervals": [
                        {
                          "durationInSeconds": 3960,
                          "joinDateTime": "2022-1-5T12:20:00.00Z",
                          "leaveDateTime": "2022-1-5T13:26:00.00Z"
                        }
                      ],
                      "identity": {
                        "displayName": "Jewel Raines",
                        "id": "0f67433c-454a-4904-88cd-122a28e31d2d",
                        "tenantId": ""
                      }
                    },
                    {
                      "totalAttendanceInSeconds": 3180,
                      "role": "Student",
                      "emailAddress": "ManaJNault@contoso.org",
                      "attendanceIntervals": [
                        {
                          "durationInSeconds": 3180,
                          "joinDateTime": "2022-1-5T12:20:00.00Z",
                          "leaveDateTime": "2022-1-5T13:13:00.00Z"
                        }
                      ],
                      "identity": {
                        "displayName": "Mana Nault",
                        "id": "05011c85-7378-4263-b761-c379983bd5c3",
                        "tenantId": ""
                      }
                    },
                    {
                      "totalAttendanceInSeconds": 4140,
                      "role": "Student",
                      "emailAddress": "RobertDRichard@contoso.org",
                      "attendanceIntervals": [
                        {
                          "durationInSeconds": 4140,
                          "joinDateTime": "2022-1-5T12:18:00.00Z",
                          "leaveDateTime": "2022-1-5T13:27:00.00Z"
                        }
                      ],
                      "identity": {
                        "displayName": "Robert Richard",
                        "id": "04a81573-ec2f-492c-bf9c-55d1d2cdd11d",
                        "tenantId": ""
                      }
                    },
                    {
                      "totalAttendanceInSeconds": 4320,
                      "role": "Student",
                      "emailAddress": "MarleneSSenn@contoso.org",
                      "attendanceIntervals": [
                        {
                          "durationInSeconds": 4320,
                          "joinDateTime": "2022-1-5T12:15:00.00Z",
                          "leaveDateTime": "2022-1-5T13:27:00.00Z"
                        }
                      ],
                      "identity": {
                        "displayName": "Marlene Senn",
                        "id": "00803d99-12c6-4274-97e0-18c44de9a7b0",
                        "tenantId": ""
                      }
                    },
                    {
                      "totalAttendanceInSeconds": 3840,
                      "role": "Student",
                      "emailAddress": "WilmaSRamos@contoso.org",
                      "attendanceIntervals": [
                        {
                          "durationInSeconds": 3840,
                          "joinDateTime": "2022-1-5T12:18:00.00Z",
                          "leaveDateTime": "2022-1-5T13:22:00.00Z"
                        }
                      ],
                      "identity": {
                        "displayName": "Wilma Ramos",
                        "id": "526da29a-2960-4807-8db9-d6826d6b4bf6",
                        "tenantId": ""
                      }
                    },
                    {
                      "totalAttendanceInSeconds": 3960,
                      "role": "Student",
                      "emailAddress": "WilliamMSteinbeck@contoso.org",
                      "attendanceIntervals": [
                        {
                          "durationInSeconds": 3960,
                          "joinDateTime": "2022-1-5T12:17:00.00Z",
                          "leaveDateTime": "2022-1-5T13:23:00.00Z"
                        }
                      ],
                      "identity": {
                        "displayName": "William Steinbeck",
                        "id": "bc7ddc14-0151-4f0f-a714-fbd132056cca",
                        "tenantId": ""
                      }
                    },
                    {
                      "totalAttendanceInSeconds": 3540,
                      "role": "Student",
                      "emailAddress": "MichaelHThomas@contoso.org",
                      "attendanceIntervals": [
                        {
                          "durationInSeconds": 3540,
                          "joinDateTime": "2022-1-5T12:15:00.00Z",
                          "leaveDateTime": "2022-1-5T13:14:00.00Z"
                        }
                      ],
                      "identity": {
                        "displayName": "Michael Thomas",
                        "id": "68ecf08b-316c-4808-a534-119122c615d0",
                        "tenantId": ""
                      }
                    },
                    {
                      "totalAttendanceInSeconds": 3300,
                      "role": "Student",
                      "emailAddress": "BettyDRose@contoso.org",
                      "attendanceIntervals": [
                        {
                          "durationInSeconds": 3300,
                          "joinDateTime": "2022-1-5T12:16:00.00Z",
                          "leaveDateTime": "2022-1-5T13:11:00.00Z"
                        }
                      ],
                      "identity": {
                        "displayName": "Betty Rose",
                        "id": "2b20a68a-d700-4859-b52d-9a4b97534104",
                        "tenantId": ""
                      }
                    },
                    {
                      "totalAttendanceInSeconds": 3960,
                      "role": "Student",
                      "emailAddress": "SimoneGThomas@contoso.org",
                      "attendanceIntervals": [
                        {
                          "durationInSeconds": 3960,
                          "joinDateTime": "2022-1-5T12:15:00.00Z",
                          "leaveDateTime": "2022-1-5T13:21:00.00Z"
                        }
                      ],
                      "identity": {
                        "displayName": "Simone Thomas",
                        "id": "3b2a8663-deb4-49af-beb7-de1bef2f93cd",
                        "tenantId": ""
                      }
                    },
                    {
                      "totalAttendanceInSeconds": 3780,
                      "role": "Student",
                      "emailAddress": "IdaWPetty@contoso.org",
                      "attendanceIntervals": [
                        {
                          "durationInSeconds": 3780,
                          "joinDateTime": "2022-1-5T12:18:00.00Z",
                          "leaveDateTime": "2022-1-5T13:21:00.00Z"
                        }
                      ],
                      "identity": {
                        "displayName": "Ida Petty",
                        "id": "e203e864-f101-4aa2-ba6d-2345ac1db60f",
                        "tenantId": ""
                      }
                    },
                    {
                      "totalAttendanceInSeconds": 3360,
                      "role": "Student",
                      "emailAddress": "RobertENelson@contoso.org",
                      "attendanceIntervals": [
                        {
                          "durationInSeconds": 3360,
                          "joinDateTime": "2022-1-5T12:18:00.00Z",
                          "leaveDateTime": "2022-1-5T13:14:00.00Z"
                        }
                      ],
                      "identity": {
                        "displayName": "Robert Nelson",
                        "id": "8b7288ee-cf46-46e6-bbb1-201f2b746034",
                        "tenantId": ""
                      }
                    },
                    {
                      "totalAttendanceInSeconds": 3060,
                      "role": "Student",
                      "emailAddress": "ReneeMRitch@contoso.org",
                      "attendanceIntervals": [
                        {
                          "durationInSeconds": 3060,
                          "joinDateTime": "2022-1-5T12:20:00.00Z",
                          "leaveDateTime": "2022-1-5T13:11:00.00Z"
                        }
                      ],
                      "identity": {
                        "displayName": "Renee Ritch",
                        "id": "d237d0bf-6a9d-49a0-b395-ee8fd0dfe960",
                        "tenantId": ""
                      }
                    },
                    {
                      "totalAttendanceInSeconds": 3600,
                      "role": "Student",
                      "emailAddress": "NicholasAMatthews@contoso.org",
                      "attendanceIntervals": [
                        {
                          "durationInSeconds": 3600,
                          "joinDateTime": "2022-1-5T12:16:00.00Z",
                          "leaveDateTime": "2022-1-5T13:16:00.00Z"
                        }
                      ],
                      "identity": {
                        "displayName": "Nicholas Matthews",
                        "id": "f6a7f5a5-bcad-4541-9284-6050766f2879",
                        "tenantId": ""
                      }
                    },
                    {
                      "totalAttendanceInSeconds": 3240,
                      "role": "Student",
                      "emailAddress": "RebaWGarcia@contoso.org",
                      "attendanceIntervals": [
                        {
                          "durationInSeconds": 3240,
                          "joinDateTime": "2022-1-5T12:16:00.00Z",
                          "leaveDateTime": "2022-1-5T13:10:00.00Z"
                        }
                      ],
                      "identity": {
                        "displayName": "Reba Garcia",
                        "id": "0da7fa3d-e5cb-403e-b6f4-382b5457df7f",
                        "tenantId": ""
                      }
                    },
                    {
                      "totalAttendanceInSeconds": 3840,
                      "role": "Student",
                      "emailAddress": "DonaldRWilliams@contoso.org",
                      "attendanceIntervals": [
                        {
                          "durationInSeconds": 3840,
                          "joinDateTime": "2022-1-5T12:18:00.00Z",
                          "leaveDateTime": "2022-1-5T13:22:00.00Z"
                        }
                      ],
                      "identity": {
                        "displayName": "Donald Williams",
                        "id": "4f8885a2-834b-4303-970e-30e7af82bc7d",
                        "tenantId": ""
                      }
                    },
                    {
                      "totalAttendanceInSeconds": 4200,
                      "role": "Student",
                      "emailAddress": "MichelleJMurphy@contoso.org",
                      "attendanceIntervals": [
                        {
                          "durationInSeconds": 4200,
                          "joinDateTime": "2022-1-5T12:19:00.00Z",
                          "leaveDateTime": "2022-1-5T13:29:00.00Z"
                        }
                      ],
                      "identity": {
                        "displayName": "Michelle Murphy",
                        "id": "71d5dd3d-f246-4fc0-ae0a-f846878811dd",
                        "tenantId": ""
                      }
                    },
                    {
                      "totalAttendanceInSeconds": 3300,
                      "role": "Student",
                      "emailAddress": "OrlandoLDavis@contoso.org",
                      "attendanceIntervals": [
                        {
                          "durationInSeconds": 3300,
                          "joinDateTime": "2022-1-5T12:18:00.00Z",
                          "leaveDateTime": "2022-1-5T13:13:00.00Z"
                        }
                      ],
                      "identity": {
                        "displayName": "Orlando Davis",
                        "id": "ce2b1cc1-0b6c-43e8-a7fd-88d8a5e1f659",
                        "tenantId": ""
                      }
                    },
                    {
                      "totalAttendanceInSeconds": 3600,
                      "role": "Student",
                      "emailAddress": "AlyseDHatcher@contoso.org",
                      "attendanceIntervals": [
                        {
                          "durationInSeconds": 3600,
                          "joinDateTime": "2022-1-5T12:16:00.00Z",
                          "leaveDateTime": "2022-1-5T13:16:00.00Z"
                        }
                      ],
                      "identity": {
                        "displayName": "Alyse Hatcher",
                        "id": "35150b61-0982-4508-a33d-fd906e5436c5",
                        "tenantId": ""
                      }
                    },
                    {
                      "totalAttendanceInSeconds": 4260,
                      "role": "Student",
                      "emailAddress": "HarrietTMartin@contoso.org",
                      "attendanceIntervals": [
                        {
                          "durationInSeconds": 4260,
                          "joinDateTime": "2022-1-5T12:17:00.00Z",
                          "leaveDateTime": "2022-1-5T13:28:00.00Z"
                        }
                      ],
                      "identity": {
                        "displayName": "Harriet Martin",
                        "id": "92168926-cce8-489e-8496-e7b72f597642",
                        "tenantId": ""
                      }
                    },
                    {
                      "totalAttendanceInSeconds": 3360,
                      "role": "Student",
                      "emailAddress": "LonnieLStanley@contoso.org",
                      "attendanceIntervals": [
                        {
                          "durationInSeconds": 3360,
                          "joinDateTime": "2022-1-5T12:19:00.00Z",
                          "leaveDateTime": "2022-1-5T13:15:00.00Z"
                        }
                      ],
                      "identity": {
                        "displayName": "Lonnie Stanley",
                        "id": "06016255-91b4-4bf1-a70e-3468e463857f",
                        "tenantId": ""
                      }
                    }
                  ],
                  "1": "b54597a7-d44c-4682-aeff-c25916dedc33",
                  "2": "2022-1-5T13:30:00.00Z",
                  "3": "2022-1-5T12:15:00.00Z",
                  "4": "37",
                  "5": "2023-01-07 00-19-10"
                },
                {
                  "0": [
                    {
                      "totalAttendanceInSeconds": 2640,
                      "role": "Student",
                      "emailAddress": "CaroleMBenefield@contoso.org",
                      "attendanceIntervals": [
                        {
                          "durationInSeconds": 2640,
                          "joinDateTime": "2022-1-18T10:33:00.00Z",
                          "leaveDateTime": "2022-1-18T11:17:00.00Z"
                        }
                      ],
                      "identity": {
                        "displayName": "Carole Benefield",
                        "id": "b2baefad-4c1d-463e-b541-cc5f2f204f52",
                        "tenantId": ""
                      }
                    },
                    {
                      "totalAttendanceInSeconds": 3300,
                      "role": "Student",
                      "emailAddress": "AlesiaCJohnson@contoso.org",
                      "attendanceIntervals": [
                        {
                          "durationInSeconds": 3300,
                          "joinDateTime": "2022-1-18T10:32:00.00Z",
                          "leaveDateTime": "2022-1-18T11:27:00.00Z"
                        }
                      ],
                      "identity": {
                        "displayName": "Alesia Johnson",
                        "id": "f59cc0b4-c654-4fa1-8911-78e19f85ca3e",
                        "tenantId": ""
                      }
                    },
                    {
                      "totalAttendanceInSeconds": 3000,
                      "role": "Student",
                      "emailAddress": "JennyDPatrick@contoso.org",
                      "attendanceIntervals": [
                        {
                          "durationInSeconds": 3000,
                          "joinDateTime": "2022-1-18T10:32:00.00Z",
                          "leaveDateTime": "2022-1-18T11:22:00.00Z"
                        }
                      ],
                      "identity": {
                        "displayName": "Jenny Patrick",
                        "id": "c189e3e5-4730-4b4e-ade2-d728cc6b86f3",
                        "tenantId": ""
                      }
                    },
                    {
                      "totalAttendanceInSeconds": 2580,
                      "role": "Student",
                      "emailAddress": "DavidKLindsley@contoso.org",
                      "attendanceIntervals": [
                        {
                          "durationInSeconds": 2580,
                          "joinDateTime": "2022-1-18T10:31:00.00Z",
                          "leaveDateTime": "2022-1-18T11:14:00.00Z"
                        }
                      ],
                      "identity": {
                        "displayName": "David Lindsley",
                        "id": "1244b8a0-f530-485a-acd2-e355e053682c",
                        "tenantId": ""
                      }
                    },
                    {
                      "totalAttendanceInSeconds": 3360,
                      "role": "Student",
                      "emailAddress": "GeorgePPetrella@contoso.org",
                      "attendanceIntervals": [
                        {
                          "durationInSeconds": 3360,
                          "joinDateTime": "2022-1-18T10:30:00.00Z",
                          "leaveDateTime": "2022-1-18T11:26:00.00Z"
                        }
                      ],
                      "identity": {
                        "displayName": "George Petrella",
                        "id": "acaa8a47-2d91-4047-bb48-1fa4e678f7e9",
                        "tenantId": ""
                      }
                    },
                    {
                      "totalAttendanceInSeconds": 2340,
                      "role": "Student",
                      "emailAddress": "BettyELira@contoso.org",
                      "attendanceIntervals": [
                        {
                          "durationInSeconds": 2340,
                          "joinDateTime": "2022-1-18T10:32:00.00Z",
                          "leaveDateTime": "2022-1-18T11:11:00.00Z"
                        }
                      ],
                      "identity": {
                        "displayName": "Betty Lira",
                        "id": "7bc8ab16-5f5e-4af2-b5a3-c5e94a88fa1d",
                        "tenantId": ""
                      }
                    },
                    {
                      "totalAttendanceInSeconds": 3300,
                      "role": "Student",
                      "emailAddress": "AngilaNKidder@contoso.org",
                      "attendanceIntervals": [
                        {
                          "durationInSeconds": 3300,
                          "joinDateTime": "2022-1-18T10:35:00.00Z",
                          "leaveDateTime": "2022-1-18T11:30:00.00Z"
                        }
                      ],
                      "identity": {
                        "displayName": "Angila Kidder",
                        "id": "18c2e300-0235-41de-9562-c8612a2052ab",
                        "tenantId": ""
                      }
                    },
                    {
                      "totalAttendanceInSeconds": 3360,
                      "role": "Student",
                      "emailAddress": "WalterRRoss@contoso.org",
                      "attendanceIntervals": [
                        {
                          "durationInSeconds": 3360,
                          "joinDateTime": "2022-1-18T10:31:00.00Z",
                          "leaveDateTime": "2022-1-18T11:27:00.00Z"
                        }
                      ],
                      "identity": {
                        "displayName": "Walter Ross",
                        "id": "450730d4-1591-4d45-976d-4c73b2218441",
                        "tenantId": ""
                      }
                    },
                    {
                      "totalAttendanceInSeconds": 2400,
                      "role": "Student",
                      "emailAddress": "JamesJSnyder@contoso.org",
                      "attendanceIntervals": [
                        {
                          "durationInSeconds": 2400,
                          "joinDateTime": "2022-1-18T10:33:00.00Z",
                          "leaveDateTime": "2022-1-18T11:13:00.00Z"
                        }
                      ],
                      "identity": {
                        "displayName": "James Snyder",
                        "id": "e0b5de95-7204-4618-87d4-912c484d06c1",
                        "tenantId": ""
                      }
                    },
                    {
                      "totalAttendanceInSeconds": 2400,
                      "role": "Student",
                      "emailAddress": "GuyJGold@contoso.org",
                      "attendanceIntervals": [
                        {
                          "durationInSeconds": 2400,
                          "joinDateTime": "2022-1-18T10:33:00.00Z",
                          "leaveDateTime": "2022-1-18T11:13:00.00Z"
                        }
                      ],
                      "identity": {
                        "displayName": "Guy Gold",
                        "id": "380c000b-d56e-440c-a6d0-bf5474148171",
                        "tenantId": ""
                      }
                    },
                    {
                      "totalAttendanceInSeconds": 3300,
                      "role": "Student",
                      "emailAddress": "WarrenAPritchett@contoso.org",
                      "attendanceIntervals": [
                        {
                          "durationInSeconds": 3300,
                          "joinDateTime": "2022-1-18T10:30:00.00Z",
                          "leaveDateTime": "2022-1-18T11:25:00.00Z"
                        }
                      ],
                      "identity": {
                        "displayName": "Warren Pritchett",
                        "id": "a85b76e6-9a89-44c5-9eb4-99f9bfab2497",
                        "tenantId": ""
                      }
                    },
                    {
                      "totalAttendanceInSeconds": 2820,
                      "role": "Student",
                      "emailAddress": "VirginiaDWilliams@contoso.org",
                      "attendanceIntervals": [
                        {
                          "durationInSeconds": 2820,
                          "joinDateTime": "2022-1-18T10:31:00.00Z",
                          "leaveDateTime": "2022-1-18T11:18:00.00Z"
                        }
                      ],
                      "identity": {
                        "displayName": "Virginia Williams",
                        "id": "3fd0cb74-7d3f-4468-8cd3-64e571ad2192",
                        "tenantId": ""
                      }
                    },
                    {
                      "totalAttendanceInSeconds": 2280,
                      "role": "Student",
                      "emailAddress": "TammyGKirkendall@contoso.org",
                      "attendanceIntervals": [
                        {
                          "durationInSeconds": 2280,
                          "joinDateTime": "2022-1-18T10:32:00.00Z",
                          "leaveDateTime": "2022-1-18T11:10:00.00Z"
                        }
                      ],
                      "identity": {
                        "displayName": "Tammy Kirkendall",
                        "id": "cda303d3-20bb-4873-8872-1fd2316506c4",
                        "tenantId": ""
                      }
                    },
                    {
                      "totalAttendanceInSeconds": 3180,
                      "role": "Student",
                      "emailAddress": "ElizabethHSeeley@contoso.org",
                      "attendanceIntervals": [
                        {
                          "durationInSeconds": 3180,
                          "joinDateTime": "2022-1-18T10:32:00.00Z",
                          "leaveDateTime": "2022-1-18T11:25:00.00Z"
                        }
                      ],
                      "identity": {
                        "displayName": "Elizabeth Seeley",
                        "id": "aaf7aff3-2915-4c9b-82c2-4c5d7f42f8b0",
                        "tenantId": ""
                      }
                    },
                    {
                      "totalAttendanceInSeconds": 2400,
                      "role": "Student",
                      "emailAddress": "LindaGJackson@contoso.org",
                      "attendanceIntervals": [
                        {
                          "durationInSeconds": 2400,
                          "joinDateTime": "2022-1-18T10:31:00.00Z",
                          "leaveDateTime": "2022-1-18T11:11:00.00Z"
                        }
                      ],
                      "identity": {
                        "displayName": "Linda Jackson",
                        "id": "98f44f27-de1d-483f-aff7-434562262b74",
                        "tenantId": ""
                      }
                    },
                    {
                      "totalAttendanceInSeconds": 3300,
                      "role": "Student",
                      "emailAddress": "DorisMHe@contoso.org",
                      "attendanceIntervals": [
                        {
                          "durationInSeconds": 3300,
                          "joinDateTime": "2022-1-18T10:30:00.00Z",
                          "leaveDateTime": "2022-1-18T11:25:00.00Z"
                        }
                      ],
                      "identity": {
                        "displayName": "Doris He",
                        "id": "590f7e54-64bb-4b4a-8405-7e5721d99310",
                        "tenantId": ""
                      }
                    },
                    {
                      "totalAttendanceInSeconds": 2400,
                      "role": "Student",
                      "emailAddress": "MildredADent@contoso.org",
                      "attendanceIntervals": [
                        {
                          "durationInSeconds": 2400,
                          "joinDateTime": "2022-1-18T10:35:00.00Z",
                          "leaveDateTime": "2022-1-18T11:15:00.00Z"
                        }
                      ],
                      "identity": {
                        "displayName": "Mildred Dent",
                        "id": "6de86cd5-570d-449b-a83a-38c222be30e9",
                        "tenantId": ""
                      }
                    },
                    {
                      "totalAttendanceInSeconds": 2400,
                      "role": "Student",
                      "emailAddress": "JosephineWCash@contoso.org",
                      "attendanceIntervals": [
                        {
                          "durationInSeconds": 2400,
                          "joinDateTime": "2022-1-18T10:34:00.00Z",
                          "leaveDateTime": "2022-1-18T11:14:00.00Z"
                        }
                      ],
                      "identity": {
                        "displayName": "Josephine Cash",
                        "id": "51db5148-59a5-4460-8903-fee2f49300bb",
                        "tenantId": ""
                      }
                    },
                    {
                      "totalAttendanceInSeconds": 2280,
                      "role": "Student",
                      "emailAddress": "MatthewRCuellar@contoso.org",
                      "attendanceIntervals": [
                        {
                          "durationInSeconds": 2280,
                          "joinDateTime": "2022-1-18T10:35:00.00Z",
                          "leaveDateTime": "2022-1-18T11:13:00.00Z"
                        }
                      ],
                      "identity": {
                        "displayName": "Matthew Cuellar",
                        "id": "ea270ad8-d112-4d4c-85ec-3e7639edeb16",
                        "tenantId": ""
                      }
                    },
                    {
                      "totalAttendanceInSeconds": 3000,
                      "role": "Student",
                      "emailAddress": "LeonelSCarlson@contoso.org",
                      "attendanceIntervals": [
                        {
                          "durationInSeconds": 3000,
                          "joinDateTime": "2022-1-18T10:30:00.00Z",
                          "leaveDateTime": "2022-1-18T11:20:00.00Z"
                        }
                      ],
                      "identity": {
                        "displayName": "Leonel Carlson",
                        "id": "13875d0d-300f-474c-943a-0cf263c18fec",
                        "tenantId": ""
                      }
                    },
                    {
                      "totalAttendanceInSeconds": 2580,
                      "role": "Student",
                      "emailAddress": "ClaytonKNolan@contoso.org",
                      "attendanceIntervals": [
                        {
                          "durationInSeconds": 2580,
                          "joinDateTime": "2022-1-18T10:32:00.00Z",
                          "leaveDateTime": "2022-1-18T11:15:00.00Z"
                        }
                      ],
                      "identity": {
                        "displayName": "Clayton Nolan",
                        "id": "e2e77c1a-f6e1-443c-85e9-270ba6fdfa77",
                        "tenantId": ""
                      }
                    },
                    {
                      "totalAttendanceInSeconds": 2220,
                      "role": "Student",
                      "emailAddress": "ChristopherPCarlson@contoso.org",
                      "attendanceIntervals": [
                        {
                          "durationInSeconds": 2220,
                          "joinDateTime": "2022-1-18T10:34:00.00Z",
                          "leaveDateTime": "2022-1-18T11:11:00.00Z"
                        }
                      ],
                      "identity": {
                        "displayName": "Christopher Carlson",
                        "id": "b297ebb7-6267-4a0e-bbe8-9594b92a7980",
                        "tenantId": ""
                      }
                    },
                    {
                      "totalAttendanceInSeconds": 3180,
                      "role": "Student",
                      "emailAddress": "SeanSBrown@contoso.org",
                      "attendanceIntervals": [
                        {
                          "durationInSeconds": 3180,
                          "joinDateTime": "2022-1-18T10:31:00.00Z",
                          "leaveDateTime": "2022-1-18T11:24:00.00Z"
                        }
                      ],
                      "identity": {
                        "displayName": "Sean Brown",
                        "id": "ede0db9c-1ba4-4133-9367-f6df95346064",
                        "tenantId": ""
                      }
                    },
                    {
                      "totalAttendanceInSeconds": 2640,
                      "role": "Student",
                      "emailAddress": "LisaJHarry@contoso.org",
                      "attendanceIntervals": [
                        {
                          "durationInSeconds": 2640,
                          "joinDateTime": "2022-1-18T10:31:00.00Z",
                          "leaveDateTime": "2022-1-18T11:15:00.00Z"
                        }
                      ],
                      "identity": {
                        "displayName": "Lisa Harry",
                        "id": "9f8adbf0-a7dc-4119-bd6f-192492bae40d",
                        "tenantId": ""
                      }
                    },
                    {
                      "totalAttendanceInSeconds": 2940,
                      "role": "Student",
                      "emailAddress": "DaisyOPowell@contoso.org",
                      "attendanceIntervals": [
                        {
                          "durationInSeconds": 2940,
                          "joinDateTime": "2022-1-18T10:31:00.00Z",
                          "leaveDateTime": "2022-1-18T11:20:00.00Z"
                        }
                      ],
                      "identity": {
                        "displayName": "Daisy Powell",
                        "id": "0e096d0a-ac33-4dec-92f3-b0a35f8b64e5",
                        "tenantId": ""
                      }
                    },
                    {
                      "totalAttendanceInSeconds": 2880,
                      "role": "Student",
                      "emailAddress": "ColleenDBrown@contoso.org",
                      "attendanceIntervals": [
                        {
                          "durationInSeconds": 2880,
                          "joinDateTime": "2022-1-18T10:33:00.00Z",
                          "leaveDateTime": "2022-1-18T11:21:00.00Z"
                        }
                      ],
                      "identity": {
                        "displayName": "Colleen Brown",
                        "id": "f7346f40-d2f4-468e-909d-1f757e19a4f4",
                        "tenantId": ""
                      }
                    },
                    {
                      "totalAttendanceInSeconds": 3180,
                      "role": "Student",
                      "emailAddress": "AnnetteDChapell@contoso.org",
                      "attendanceIntervals": [
                        {
                          "durationInSeconds": 3180,
                          "joinDateTime": "2022-1-18T10:33:00.00Z",
                          "leaveDateTime": "2022-1-18T11:26:00.00Z"
                        }
                      ],
                      "identity": {
                        "displayName": "Annette Chapell",
                        "id": "e4612888-544b-45ca-ad52-8349ae14bf71",
                        "tenantId": ""
                      }
                    },
                    {
                      "totalAttendanceInSeconds": 2700,
                      "role": "Student",
                      "emailAddress": "RobertKEllington@contoso.org",
                      "attendanceIntervals": [
                        {
                          "durationInSeconds": 2700,
                          "joinDateTime": "2022-1-18T10:30:00.00Z",
                          "leaveDateTime": "2022-1-18T11:15:00.00Z"
                        }
                      ],
                      "identity": {
                        "displayName": "Robert Ellington",
                        "id": "f5f2c86b-207d-4648-bc1e-20546b23eb93",
                        "tenantId": ""
                      }
                    },
                    {
                      "totalAttendanceInSeconds": 3300,
                      "role": "Student",
                      "emailAddress": "BettyTFlor@contoso.org",
                      "attendanceIntervals": [
                        {
                          "durationInSeconds": 3300,
                          "joinDateTime": "2022-1-18T10:30:00.00Z",
                          "leaveDateTime": "2022-1-18T11:25:00.00Z"
                        }
                      ],
                      "identity": {
                        "displayName": "Betty Flor",
                        "id": "4f5e224a-53b8-4bdd-818a-d40eb8a7ef33",
                        "tenantId": ""
                      }
                    },
                    {
                      "totalAttendanceInSeconds": 3360,
                      "role": "Student",
                      "emailAddress": "BillyKWright@contoso.org",
                      "attendanceIntervals": [
                        {
                          "durationInSeconds": 3360,
                          "joinDateTime": "2022-1-18T10:30:00.00Z",
                          "leaveDateTime": "2022-1-18T11:26:00.00Z"
                        }
                      ],
                      "identity": {
                        "displayName": "Billy Wright",
                        "id": "c5092d8a-ddb4-4d02-b0bb-e8c23348bd66",
                        "tenantId": ""
                      }
                    },
                    {
                      "totalAttendanceInSeconds": 2760,
                      "role": "Student",
                      "emailAddress": "JudithRRouleau@contoso.org",
                      "attendanceIntervals": [
                        {
                          "durationInSeconds": 2760,
                          "joinDateTime": "2022-1-18T10:35:00.00Z",
                          "leaveDateTime": "2022-1-18T11:21:00.00Z"
                        }
                      ],
                      "identity": {
                        "displayName": "Judith Rouleau",
                        "id": "e2227db0-7932-41a5-a032-27a88bbd4945",
                        "tenantId": ""
                      }
                    },
                    {
                      "totalAttendanceInSeconds": 2880,
                      "role": "Student",
                      "emailAddress": "ElizabethRRussel@contoso.org",
                      "attendanceIntervals": [
                        {
                          "durationInSeconds": 2880,
                          "joinDateTime": "2022-1-18T10:30:00.00Z",
                          "leaveDateTime": "2022-1-18T11:18:00.00Z"
                        }
                      ],
                      "identity": {
                        "displayName": "Elizabeth Russel",
                        "id": "05a1a1a6-ef08-4e66-b6f6-d59296206282",
                        "tenantId": ""
                      }
                    },
                    {
                      "totalAttendanceInSeconds": 2340,
                      "role": "Student",
                      "emailAddress": "MaryRScott@contoso.org",
                      "attendanceIntervals": [
                        {
                          "durationInSeconds": 2340,
                          "joinDateTime": "2022-1-18T10:34:00.00Z",
                          "leaveDateTime": "2022-1-18T11:13:00.00Z"
                        }
                      ],
                      "identity": {
                        "displayName": "Mary Scott",
                        "id": "38adff2f-fa3e-44a2-9d1e-506951ad3655",
                        "tenantId": ""
                      }
                    },
                    {
                      "totalAttendanceInSeconds": 2520,
                      "role": "Student",
                      "emailAddress": "MaryJMetzger@contoso.org",
                      "attendanceIntervals": [
                        {
                          "durationInSeconds": 2520,
                          "joinDateTime": "2022-1-18T10:30:00.00Z",
                          "leaveDateTime": "2022-1-18T11:12:00.00Z"
                        }
                      ],
                      "identity": {
                        "displayName": "Mary Metzger",
                        "id": "3c6bdd4d-1807-494a-b72c-65c9614ead23",
                        "tenantId": ""
                      }
                    },
                    {
                      "totalAttendanceInSeconds": 3120,
                      "role": "Student",
                      "emailAddress": "MadelineABoyce@contoso.org",
                      "attendanceIntervals": [
                        {
                          "durationInSeconds": 3120,
                          "joinDateTime": "2022-1-18T10:33:00.00Z",
                          "leaveDateTime": "2022-1-18T11:25:00.00Z"
                        }
                      ],
                      "identity": {
                        "displayName": "Madeline Boyce",
                        "id": "3f8b2e70-89fe-40c7-95bd-f5ac2ad5752d",
                        "tenantId": ""
                      }
                    },
                    {
                      "totalAttendanceInSeconds": 2700,
                      "role": "Student",
                      "emailAddress": "DuaneJSpitzer@contoso.org",
                      "attendanceIntervals": [
                        {
                          "durationInSeconds": 2700,
                          "joinDateTime": "2022-1-18T10:35:00.00Z",
                          "leaveDateTime": "2022-1-18T11:20:00.00Z"
                        }
                      ],
                      "identity": {
                        "displayName": "Duane Spitzer",
                        "id": "0c1ce872-f3c1-4e63-9169-1321ebcbe9fb",
                        "tenantId": ""
                      }
                    },
                    {
                      "totalAttendanceInSeconds": 2280,
                      "role": "Student",
                      "emailAddress": "LisaNPriest@contoso.org",
                      "attendanceIntervals": [
                        {
                          "durationInSeconds": 2280,
                          "joinDateTime": "2022-1-18T10:35:00.00Z",
                          "leaveDateTime": "2022-1-18T11:13:00.00Z"
                        }
                      ],
                      "identity": {
                        "displayName": "Lisa Priest",
                        "id": "24325cda-f8a9-44a1-9441-52a1885e5951",
                        "tenantId": ""
                      }
                    },
                    {
                      "totalAttendanceInSeconds": 3360,
                      "role": "Student",
                      "emailAddress": "RonaldAAdame@contoso.org",
                      "attendanceIntervals": [
                        {
                          "durationInSeconds": 3360,
                          "joinDateTime": "2022-1-18T10:33:00.00Z",
                          "leaveDateTime": "2022-1-18T11:29:00.00Z"
                        }
                      ],
                      "identity": {
                        "displayName": "Ronald Adame",
                        "id": "f705e8e2-8f61-4d56-8473-5583e4f254c2",
                        "tenantId": ""
                      }
                    },
                    {
                      "totalAttendanceInSeconds": 2520,
                      "role": "Student",
                      "emailAddress": "JudyJSwain@contoso.org",
                      "attendanceIntervals": [
                        {
                          "durationInSeconds": 2520,
                          "joinDateTime": "2022-1-18T10:32:00.00Z",
                          "leaveDateTime": "2022-1-18T11:14:00.00Z"
                        }
                      ],
                      "identity": {
                        "displayName": "Judy Swain",
                        "id": "129d3bf1-f3b9-4283-a9d8-4a78d2b13191",
                        "tenantId": ""
                      }
                    },
                    {
                      "totalAttendanceInSeconds": 2760,
                      "role": "Student",
                      "emailAddress": "AnnieRGaddy@contoso.org",
                      "attendanceIntervals": [
                        {
                          "durationInSeconds": 2760,
                          "joinDateTime": "2022-1-18T10:30:00.00Z",
                          "leaveDateTime": "2022-1-18T11:16:00.00Z"
                        }
                      ],
                      "identity": {
                        "displayName": "Annie Gaddy",
                        "id": "ed172e9e-0e8d-4fec-9948-e4fa01baac56",
                        "tenantId": ""
                      }
                    }
                  ],
                  "1": "1d651b16-b3a8-496c-9d16-ce11efef9df5",
                  "2": "2022-1-18T11:30:00.00Z",
                  "3": "2022-1-18T10:30:00.00Z",
                  "4": "41",
                  "5": "2023-01-07 00-19-10"
                },
                {
                  "0": [
                    {
                      "totalAttendanceInSeconds": 900,
                      "role": "Student",
                      "emailAddress": "LeroyCWilliams@contoso.org",
                      "attendanceIntervals": [
                        {
                          "durationInSeconds": 900,
                          "joinDateTime": "2022-1-13T15:56:00.00Z",
                          "leaveDateTime": "2022-1-13T16:11:00.00Z"
                        }
                      ],
                      "identity": {
                        "displayName": "Leroy Williams",
                        "id": "191d236e-fb6f-470a-b9e4-314f5347b221",
                        "tenantId": ""
                      }
                    },
                    {
                      "totalAttendanceInSeconds": 1020,
                      "role": "Student",
                      "emailAddress": "MatthewMRobinson@contoso.org",
                      "attendanceIntervals": [
                        {
                          "durationInSeconds": 1020,
                          "joinDateTime": "2022-1-13T15:55:00.00Z",
                          "leaveDateTime": "2022-1-13T16:12:00.00Z"
                        }
                      ],
                      "identity": {
                        "displayName": "Matthew Robinson",
                        "id": "efbb9ceb-4dcb-4e59-b292-c345030f39cc",
                        "tenantId": ""
                      }
                    },
                    {
                      "totalAttendanceInSeconds": 360,
                      "role": "Student",
                      "emailAddress": "EveretteMRugg@contoso.org",
                      "attendanceIntervals": [
                        {
                          "durationInSeconds": 360,
                          "joinDateTime": "2022-1-13T15:59:00.00Z",
                          "leaveDateTime": "2022-1-13T16:5:00.00Z"
                        }
                      ],
                      "identity": {
                        "displayName": "Everette Rugg",
                        "id": "719c1bfc-04fd-4e4b-961e-672c336b265b",
                        "tenantId": ""
                      }
                    },
                    {
                      "totalAttendanceInSeconds": 1680,
                      "role": "Student",
                      "emailAddress": "LucilleCFirth@contoso.org",
                      "attendanceIntervals": [
                        {
                          "durationInSeconds": 1680,
                          "joinDateTime": "2022-1-13T15:55:00.00Z",
                          "leaveDateTime": "2022-1-13T16:23:00.00Z"
                        }
                      ],
                      "identity": {
                        "displayName": "Lucille Firth",
                        "id": "b416314a-3ce4-4522-99d8-b98e84de22c7",
                        "tenantId": ""
                      }
                    },
                    {
                      "totalAttendanceInSeconds": 1320,
                      "role": "Student",
                      "emailAddress": "JosephKQuach@contoso.org",
                      "attendanceIntervals": [
                        {
                          "durationInSeconds": 1320,
                          "joinDateTime": "2022-1-13T15:58:00.00Z",
                          "leaveDateTime": "2022-1-13T16:20:00.00Z"
                        }
                      ],
                      "identity": {
                        "displayName": "Joseph Quach",
                        "id": "ec96df04-45c0-40f0-8f12-f4363fc5e7d5",
                        "tenantId": ""
                      }
                    },
                    {
                      "totalAttendanceInSeconds": 840,
                      "role": "Student",
                      "emailAddress": "JoyKBlum@contoso.org",
                      "attendanceIntervals": [
                        {
                          "durationInSeconds": 840,
                          "joinDateTime": "2022-1-13T15:59:00.00Z",
                          "leaveDateTime": "2022-1-13T16:13:00.00Z"
                        }
                      ],
                      "identity": {
                        "displayName": "Joy Blum",
                        "id": "69b41e66-68e5-4b9c-b9a4-7a9b5a5dffd5",
                        "tenantId": ""
                      }
                    },
                    {
                      "totalAttendanceInSeconds": 1380,
                      "role": "Student",
                      "emailAddress": "DonaldSPittenger@contoso.org",
                      "attendanceIntervals": [
                        {
                          "durationInSeconds": 1380,
                          "joinDateTime": "2022-1-13T15:55:00.00Z",
                          "leaveDateTime": "2022-1-13T16:18:00.00Z"
                        }
                      ],
                      "identity": {
                        "displayName": "Donald Pittenger",
                        "id": "4af8e61e-8ecd-4ec1-b0ff-0821ec99b2cf",
                        "tenantId": ""
                      }
                    },
                    {
                      "totalAttendanceInSeconds": 1680,
                      "role": "Student",
                      "emailAddress": "AmyTThompson@contoso.org",
                      "attendanceIntervals": [
                        {
                          "durationInSeconds": 1680,
                          "joinDateTime": "2022-1-13T15:55:00.00Z",
                          "leaveDateTime": "2022-1-13T16:23:00.00Z"
                        }
                      ],
                      "identity": {
                        "displayName": "Amy Thompson",
                        "id": "822346d8-e370-4e1b-9974-581dd083a8cd",
                        "tenantId": ""
                      }
                    },
                    {
                      "totalAttendanceInSeconds": 900,
                      "role": "Student",
                      "emailAddress": "BethLBarker@contoso.org",
                      "attendanceIntervals": [
                        {
                          "durationInSeconds": 900,
                          "joinDateTime": "2022-1-13T15:59:00.00Z",
                          "leaveDateTime": "2022-1-13T16:14:00.00Z"
                        }
                      ],
                      "identity": {
                        "displayName": "Beth Barker",
                        "id": "560635b6-42ea-432c-b7e2-891e6f86dd3d",
                        "tenantId": ""
                      }
                    },
                    {
                      "totalAttendanceInSeconds": 960,
                      "role": "Student",
                      "emailAddress": "AmandaGLewis@contoso.org",
                      "attendanceIntervals": [
                        {
                          "durationInSeconds": 960,
                          "joinDateTime": "2022-1-13T15:58:00.00Z",
                          "leaveDateTime": "2022-1-13T16:14:00.00Z"
                        }
                      ],
                      "identity": {
                        "displayName": "Amanda Lewis",
                        "id": "c56a8f95-8618-496b-97a5-86999d80605f",
                        "tenantId": ""
                      }
                    },
                    {
                      "totalAttendanceInSeconds": 960,
                      "role": "Student",
                      "emailAddress": "ChristopherSNewton@contoso.org",
                      "attendanceIntervals": [
                        {
                          "durationInSeconds": 960,
                          "joinDateTime": "2022-1-13T15:56:00.00Z",
                          "leaveDateTime": "2022-1-13T16:12:00.00Z"
                        }
                      ],
                      "identity": {
                        "displayName": "Christopher Newton",
                        "id": "8d6741ab-cf91-4ddf-a9f4-4c2ce9768675",
                        "tenantId": ""
                      }
                    },
                    {
                      "totalAttendanceInSeconds": 1440,
                      "role": "Student",
                      "emailAddress": "GarySSell@contoso.org",
                      "attendanceIntervals": [
                        {
                          "durationInSeconds": 1440,
                          "joinDateTime": "2022-1-13T15:59:00.00Z",
                          "leaveDateTime": "2022-1-13T16:23:00.00Z"
                        }
                      ],
                      "identity": {
                        "displayName": "Gary Sell",
                        "id": "7451c94d-2543-428e-8c4f-72b7ac58f3f9",
                        "tenantId": ""
                      }
                    },
                    {
                      "totalAttendanceInSeconds": 1140,
                      "role": "Student",
                      "emailAddress": "JuneBMiceli@contoso.org",
                      "attendanceIntervals": [
                        {
                          "durationInSeconds": 1140,
                          "joinDateTime": "2022-1-13T15:58:00.00Z",
                          "leaveDateTime": "2022-1-13T16:17:00.00Z"
                        }
                      ],
                      "identity": {
                        "displayName": "June Miceli",
                        "id": "d86a1dc2-87cb-45a1-868b-23ab3b0b23ed",
                        "tenantId": ""
                      }
                    },
                    {
                      "totalAttendanceInSeconds": 1440,
                      "role": "Student",
                      "emailAddress": "PeterRAmos@contoso.org",
                      "attendanceIntervals": [
                        {
                          "durationInSeconds": 1440,
                          "joinDateTime": "2022-1-13T15:58:00.00Z",
                          "leaveDateTime": "2022-1-13T16:22:00.00Z"
                        }
                      ],
                      "identity": {
                        "displayName": "Peter Amos",
                        "id": "02f57f1c-ad50-42bf-8d8c-5224f5bfcd88",
                        "tenantId": ""
                      }
                    },
                    {
                      "totalAttendanceInSeconds": 4080,
                      "role": "Student",
                      "emailAddress": "RyanDHubbard@contoso.org",
                      "attendanceIntervals": [
                        {
                          "durationInSeconds": 4080,
                          "joinDateTime": "2022-1-13T15:1:00.00Z",
                          "leaveDateTime": "2022-1-13T16:9:00.00Z"
                        }
                      ],
                      "identity": {
                        "displayName": "Ryan Hubbard",
                        "id": "e293ddf1-e4ab-4c0e-bdf4-abc4c50edc0a",
                        "tenantId": ""
                      }
                    },
                    {
                      "totalAttendanceInSeconds": 840,
                      "role": "Student",
                      "emailAddress": "KatherineJWilcox@contoso.org",
                      "attendanceIntervals": [
                        {
                          "durationInSeconds": 840,
                          "joinDateTime": "2022-1-13T15:58:00.00Z",
                          "leaveDateTime": "2022-1-13T16:12:00.00Z"
                        }
                      ],
                      "identity": {
                        "displayName": "Katherine Wilcox",
                        "id": "a6614478-d01d-4d22-bba3-81d7f6affdb9",
                        "tenantId": ""
                      }
                    },
                    {
                      "totalAttendanceInSeconds": 4920,
                      "role": "Student",
                      "emailAddress": "RosaleeWAndrews@contoso.org",
                      "attendanceIntervals": [
                        {
                          "durationInSeconds": 4920,
                          "joinDateTime": "2022-1-13T15:1:00.00Z",
                          "leaveDateTime": "2022-1-13T16:23:00.00Z"
                        }
                      ],
                      "identity": {
                        "displayName": "Rosalee Andrews",
                        "id": "07bd7cbb-dc91-49c0-8c41-7ceef2953a0b",
                        "tenantId": ""
                      }
                    },
                    {
                      "totalAttendanceInSeconds": 1560,
                      "role": "Student",
                      "emailAddress": "SarahJDaly@contoso.org",
                      "attendanceIntervals": [
                        {
                          "durationInSeconds": 1560,
                          "joinDateTime": "2022-1-13T15:59:00.00Z",
                          "leaveDateTime": "2022-1-13T16:25:00.00Z"
                        }
                      ],
                      "identity": {
                        "displayName": "Sarah Daly",
                        "id": "86c1bcc8-37df-4064-8adf-0cf26591fdd3",
                        "tenantId": ""
                      }
                    },
                    {
                      "totalAttendanceInSeconds": 780,
                      "role": "Student",
                      "emailAddress": "MariaKGrigsby@contoso.org",
                      "attendanceIntervals": [
                        {
                          "durationInSeconds": 780,
                          "joinDateTime": "2022-1-13T15:56:00.00Z",
                          "leaveDateTime": "2022-1-13T16:9:00.00Z"
                        }
                      ],
                      "identity": {
                        "displayName": "Maria Grigsby",
                        "id": "1d65e269-ec3d-42d5-bef4-07891dc6a7b8",
                        "tenantId": ""
                      }
                    },
                    {
                      "totalAttendanceInSeconds": 1260,
                      "role": "Student",
                      "emailAddress": "PerlaMSmith@contoso.org",
                      "attendanceIntervals": [
                        {
                          "durationInSeconds": 1260,
                          "joinDateTime": "2022-1-13T15:59:00.00Z",
                          "leaveDateTime": "2022-1-13T16:20:00.00Z"
                        }
                      ],
                      "identity": {
                        "displayName": "Perla Smith",
                        "id": "0d8afe97-3808-473b-814d-9535c53ef284",
                        "tenantId": ""
                      }
                    },
                    {
                      "totalAttendanceInSeconds": 420,
                      "role": "Student",
                      "emailAddress": "BretAThomas@contoso.org",
                      "attendanceIntervals": [
                        {
                          "durationInSeconds": 420,
                          "joinDateTime": "2022-1-13T15:58:00.00Z",
                          "leaveDateTime": "2022-1-13T16:5:00.00Z"
                        }
                      ],
                      "identity": {
                        "displayName": "Bret Thomas",
                        "id": "085924bc-df34-4528-9f18-679b86d2bd05",
                        "tenantId": ""
                      }
                    },
                    {
                      "totalAttendanceInSeconds": 4680,
                      "role": "Student",
                      "emailAddress": "MauriceSVera@contoso.org",
                      "attendanceIntervals": [
                        {
                          "durationInSeconds": 4680,
                          "joinDateTime": "2022-1-13T15:1:00.00Z",
                          "leaveDateTime": "2022-1-13T16:19:00.00Z"
                        }
                      ],
                      "identity": {
                        "displayName": "Maurice Vera",
                        "id": "2d3f7e01-e3b4-49af-aad1-ef16b91dc2a3",
                        "tenantId": ""
                      }
                    },
                    {
                      "totalAttendanceInSeconds": 1560,
                      "role": "Student",
                      "emailAddress": "BelindaRTorres@contoso.org",
                      "attendanceIntervals": [
                        {
                          "durationInSeconds": 1560,
                          "joinDateTime": "2022-1-13T15:59:00.00Z",
                          "leaveDateTime": "2022-1-13T16:25:00.00Z"
                        }
                      ],
                      "identity": {
                        "displayName": "Belinda Torres",
                        "id": "78eb25f5-eda7-47cc-b3a3-3ff8f9aea761",
                        "tenantId": ""
                      }
                    },
                    {
                      "totalAttendanceInSeconds": 900,
                      "role": "Student",
                      "emailAddress": "RobertGWashington@contoso.org",
                      "attendanceIntervals": [
                        {
                          "durationInSeconds": 900,
                          "joinDateTime": "2022-1-13T15:59:00.00Z",
                          "leaveDateTime": "2022-1-13T16:14:00.00Z"
                        }
                      ],
                      "identity": {
                        "displayName": "Robert Washington",
                        "id": "6abfffeb-9961-4795-9e8e-49d2a0f646b9",
                        "tenantId": ""
                      }
                    },
                    {
                      "totalAttendanceInSeconds": 540,
                      "role": "Student",
                      "emailAddress": "MabelNDuarte@contoso.org",
                      "attendanceIntervals": [
                        {
                          "durationInSeconds": 540,
                          "joinDateTime": "2022-1-13T15:58:00.00Z",
                          "leaveDateTime": "2022-1-13T16:7:00.00Z"
                        }
                      ],
                      "identity": {
                        "displayName": "Mabel Duarte",
                        "id": "30c78fa8-1393-418e-87c4-9427ca2ec2ad",
                        "tenantId": ""
                      }
                    },
                    {
                      "totalAttendanceInSeconds": 900,
                      "role": "Student",
                      "emailAddress": "JacobNSmart@contoso.org",
                      "attendanceIntervals": [
                        {
                          "durationInSeconds": 900,
                          "joinDateTime": "2022-1-13T15:55:00.00Z",
                          "leaveDateTime": "2022-1-13T16:10:00.00Z"
                        }
                      ],
                      "identity": {
                        "displayName": "Jacob Smart",
                        "id": "0b9909b7-edcd-4006-a22f-c647b4237ea5",
                        "tenantId": ""
                      }
                    },
                    {
                      "totalAttendanceInSeconds": 960,
                      "role": "Student",
                      "emailAddress": "MichelleETalbott@contoso.org",
                      "attendanceIntervals": [
                        {
                          "durationInSeconds": 960,
                          "joinDateTime": "2022-1-13T15:59:00.00Z",
                          "leaveDateTime": "2022-1-13T16:15:00.00Z"
                        }
                      ],
                      "identity": {
                        "displayName": "Michelle Talbott",
                        "id": "7b04910d-7556-4a5d-a898-7aa750520bf8",
                        "tenantId": ""
                      }
                    },
                    {
                      "totalAttendanceInSeconds": 1500,
                      "role": "Student",
                      "emailAddress": "PatriciaMThacker@contoso.org",
                      "attendanceIntervals": [
                        {
                          "durationInSeconds": 1500,
                          "joinDateTime": "2022-1-13T15:57:00.00Z",
                          "leaveDateTime": "2022-1-13T16:22:00.00Z"
                        }
                      ],
                      "identity": {
                        "displayName": "Patricia Thacker",
                        "id": "b997b086-d2fe-4f3f-90d5-543c31f1f5ce",
                        "tenantId": ""
                      }
                    },
                    {
                      "totalAttendanceInSeconds": 1260,
                      "role": "Student",
                      "emailAddress": "YvonneJEckhart@contoso.org",
                      "attendanceIntervals": [
                        {
                          "durationInSeconds": 1260,
                          "joinDateTime": "2022-1-13T15:57:00.00Z",
                          "leaveDateTime": "2022-1-13T16:18:00.00Z"
                        }
                      ],
                      "identity": {
                        "displayName": "Yvonne Eckhart",
                        "id": "10486493-44f0-4bfb-b4ac-50f363dfc90c",
                        "tenantId": ""
                      }
                    },
                    {
                      "totalAttendanceInSeconds": 1500,
                      "role": "Student",
                      "emailAddress": "MichaelMJohnson@contoso.org",
                      "attendanceIntervals": [
                        {
                          "durationInSeconds": 1500,
                          "joinDateTime": "2022-1-13T15:58:00.00Z",
                          "leaveDateTime": "2022-1-13T16:23:00.00Z"
                        }
                      ],
                      "identity": {
                        "displayName": "Michael Johnson",
                        "id": "e40e0260-a1c9-4331-8c9b-62efb96e7768",
                        "tenantId": ""
                      }
                    },
                    {
                      "totalAttendanceInSeconds": 1740,
                      "role": "Student",
                      "emailAddress": "NancyRBest@contoso.org",
                      "attendanceIntervals": [
                        {
                          "durationInSeconds": 1740,
                          "joinDateTime": "2022-1-13T15:55:00.00Z",
                          "leaveDateTime": "2022-1-13T16:24:00.00Z"
                        }
                      ],
                      "identity": {
                        "displayName": "Nancy Best",
                        "id": "9ce3d3c8-4b37-40a6-a15d-adf860a31870",
                        "tenantId": ""
                      }
                    },
                    {
                      "totalAttendanceInSeconds": 780,
                      "role": "Student",
                      "emailAddress": "ToddMLeclair@contoso.org",
                      "attendanceIntervals": [
                        {
                          "durationInSeconds": 780,
                          "joinDateTime": "2022-1-13T15:58:00.00Z",
                          "leaveDateTime": "2022-1-13T16:11:00.00Z"
                        }
                      ],
                      "identity": {
                        "displayName": "Todd Leclair",
                        "id": "a3ef1676-3227-4c78-b3fb-049bdf04ac0a",
                        "tenantId": ""
                      }
                    },
                    {
                      "totalAttendanceInSeconds": 900,
                      "role": "Student",
                      "emailAddress": "HelenDArnold@contoso.org",
                      "attendanceIntervals": [
                        {
                          "durationInSeconds": 900,
                          "joinDateTime": "2022-1-13T15:58:00.00Z",
                          "leaveDateTime": "2022-1-13T16:13:00.00Z"
                        }
                      ],
                      "identity": {
                        "displayName": "Helen Arnold",
                        "id": "d6c8f44c-91e1-4f58-a916-f635d08c93eb",
                        "tenantId": ""
                      }
                    },
                    {
                      "totalAttendanceInSeconds": 1200,
                      "role": "Student",
                      "emailAddress": "RonnieABoyd@contoso.org",
                      "attendanceIntervals": [
                        {
                          "durationInSeconds": 1200,
                          "joinDateTime": "2022-1-13T15:59:00.00Z",
                          "leaveDateTime": "2022-1-13T16:19:00.00Z"
                        }
                      ],
                      "identity": {
                        "displayName": "Ronnie Boyd",
                        "id": "ef39ea62-b739-4bc3-963e-d82089467902",
                        "tenantId": ""
                      }
                    },
                    {
                      "totalAttendanceInSeconds": 1440,
                      "role": "Student",
                      "emailAddress": "AliciaRWelch@contoso.org",
                      "attendanceIntervals": [
                        {
                          "durationInSeconds": 1440,
                          "joinDateTime": "2022-1-13T15:55:00.00Z",
                          "leaveDateTime": "2022-1-13T16:19:00.00Z"
                        }
                      ],
                      "identity": {
                        "displayName": "Alicia Welch",
                        "id": "8b4620b2-0c89-4dc0-970d-f34badf1ffb3",
                        "tenantId": ""
                      }
                    },
                    {
                      "totalAttendanceInSeconds": 4020,
                      "role": "Student",
                      "emailAddress": "ShirlyRWilliams@contoso.org",
                      "attendanceIntervals": [
                        {
                          "durationInSeconds": 4020,
                          "joinDateTime": "2022-1-13T15:1:00.00Z",
                          "leaveDateTime": "2022-1-13T16:8:00.00Z"
                        }
                      ],
                      "identity": {
                        "displayName": "Shirly Williams",
                        "id": "7b88e62e-04a3-4c7b-975a-f34ca4915688",
                        "tenantId": ""
                      }
                    },
                    {
                      "totalAttendanceInSeconds": 1440,
                      "role": "Student",
                      "emailAddress": "WendyJJones@contoso.org",
                      "attendanceIntervals": [
                        {
                          "durationInSeconds": 1440,
                          "joinDateTime": "2022-1-13T15:55:00.00Z",
                          "leaveDateTime": "2022-1-13T16:19:00.00Z"
                        }
                      ],
                      "identity": {
                        "displayName": "Wendy Jones",
                        "id": "cfeb0941-d0e2-482d-a8fc-3196424efe51",
                        "tenantId": ""
                      }
                    },
                    {
                      "totalAttendanceInSeconds": 1560,
                      "role": "Student",
                      "emailAddress": "WilburBIngram@contoso.org",
                      "attendanceIntervals": [
                        {
                          "durationInSeconds": 1560,
                          "joinDateTime": "2022-1-13T15:56:00.00Z",
                          "leaveDateTime": "2022-1-13T16:22:00.00Z"
                        }
                      ],
                      "identity": {
                        "displayName": "Wilbur Ingram",
                        "id": "6f4ab288-aded-44ad-8bfe-702ab915f7f3",
                        "tenantId": ""
                      }
                    },
                    {
                      "totalAttendanceInSeconds": 4320,
                      "role": "Student",
                      "emailAddress": "PaulVMoskowitz@contoso.org",
                      "attendanceIntervals": [
                        {
                          "durationInSeconds": 4320,
                          "joinDateTime": "2022-1-13T15:1:00.00Z",
                          "leaveDateTime": "2022-1-13T16:13:00.00Z"
                        }
                      ],
                      "identity": {
                        "displayName": "Paul Moskowitz",
                        "id": "f47574d8-c9db-4b97-ad5e-d1921396e298",
                        "tenantId": ""
                      }
                    },
                    {
                      "totalAttendanceInSeconds": 4740,
                      "role": "Student",
                      "emailAddress": "GeorgeJSantiago@contoso.org",
                      "attendanceIntervals": [
                        {
                          "durationInSeconds": 4740,
                          "joinDateTime": "2022-1-13T15:1:00.00Z",
                          "leaveDateTime": "2022-1-13T16:20:00.00Z"
                        }
                      ],
                      "identity": {
                        "displayName": "George Santiago",
                        "id": "f206f943-e534-41e2-a81a-ed41c7db3992",
                        "tenantId": ""
                      }
                    },
                    {
                      "totalAttendanceInSeconds": 660,
                      "role": "Student",
                      "emailAddress": "KarenMBennet@contoso.org",
                      "attendanceIntervals": [
                        {
                          "durationInSeconds": 660,
                          "joinDateTime": "2022-1-13T15:56:00.00Z",
                          "leaveDateTime": "2022-1-13T16:7:00.00Z"
                        }
                      ],
                      "identity": {
                        "displayName": "Karen Bennet",
                        "id": "16df09a4-0e90-45af-842f-a71217999f6f",
                        "tenantId": ""
                      }
                    }
                  ],
                  "1": "28a7647f-a43e-4130-abe9-26ff861f696d",
                  "2": "2022-1-13T16:25:00.00Z",
                  "3": "2022-1-13T15:55:00.00Z",
                  "4": "43",
                  "5": "2023-01-07 00-19-10"
                },
                {
                  "0": [
                    {
                      "totalAttendanceInSeconds": 4200,
                      "role": "Student",
                      "emailAddress": "RobertMJude@contoso.org",
                      "attendanceIntervals": [
                        {
                          "durationInSeconds": 4200,
                          "joinDateTime": "2022-1-6T15:5:00.00Z",
                          "leaveDateTime": "2022-1-6T16:15:00.00Z"
                        }
                      ],
                      "identity": {
                        "displayName": "Robert Jude",
                        "id": "c08bb0f9-e2e2-4f72-9205-8d5935c8da67",
                        "tenantId": ""
                      }
                    },
                    {
                      "totalAttendanceInSeconds": 4860,
                      "role": "Student",
                      "emailAddress": "ToddHDixon@contoso.org",
                      "attendanceIntervals": [
                        {
                          "durationInSeconds": 4860,
                          "joinDateTime": "2022-1-6T15:5:00.00Z",
                          "leaveDateTime": "2022-1-6T16:26:00.00Z"
                        }
                      ],
                      "identity": {
                        "displayName": "Todd Dixon",
                        "id": "6d361096-13d2-4ee1-93cc-fc2d76989d8e",
                        "tenantId": ""
                      }
                    },
                    {
                      "totalAttendanceInSeconds": 4260,
                      "role": "Student",
                      "emailAddress": "KevinASeidel@contoso.org",
                      "attendanceIntervals": [
                        {
                          "durationInSeconds": 4260,
                          "joinDateTime": "2022-1-6T15:2:00.00Z",
                          "leaveDateTime": "2022-1-6T16:13:00.00Z"
                        }
                      ],
                      "identity": {
                        "displayName": "Kevin Seidel",
                        "id": "4c729898-84c8-438f-aebc-7626ec6ad334",
                        "tenantId": ""
                      }
                    },
                    {
                      "totalAttendanceInSeconds": 4020,
                      "role": "Student",
                      "emailAddress": "JulieEMiller@contoso.org",
                      "attendanceIntervals": [
                        {
                          "durationInSeconds": 4020,
                          "joinDateTime": "2022-1-6T15:3:00.00Z",
                          "leaveDateTime": "2022-1-6T16:10:00.00Z"
                        }
                      ],
                      "identity": {
                        "displayName": "Julie Miller",
                        "id": "c5ca6ea8-d160-4503-8ae6-8361e18395eb",
                        "tenantId": ""
                      }
                    },
                    {
                      "totalAttendanceInSeconds": 5160,
                      "role": "Student",
                      "emailAddress": "RogelioTShryock@contoso.org",
                      "attendanceIntervals": [
                        {
                          "durationInSeconds": 5160,
                          "joinDateTime": "2022-1-6T15:1:00.00Z",
                          "leaveDateTime": "2022-1-6T16:27:00.00Z"
                        }
                      ],
                      "identity": {
                        "displayName": "Rogelio Shryock",
                        "id": "190ffea0-8528-466f-bcd3-c7b8f759c4bd",
                        "tenantId": ""
                      }
                    },
                    {
                      "totalAttendanceInSeconds": 4920,
                      "role": "Student",
                      "emailAddress": "HannahRBewley@contoso.org",
                      "attendanceIntervals": [
                        {
                          "durationInSeconds": 4920,
                          "joinDateTime": "2022-1-6T15:0:00.00Z",
                          "leaveDateTime": "2022-1-6T16:22:00.00Z"
                        }
                      ],
                      "identity": {
                        "displayName": "Hannah Bewley",
                        "id": "03be6f72-0222-478a-a489-c3b00b9d05ea",
                        "tenantId": ""
                      }
                    },
                    {
                      "totalAttendanceInSeconds": 5040,
                      "role": "Student",
                      "emailAddress": "RamonaWSimms@contoso.org",
                      "attendanceIntervals": [
                        {
                          "durationInSeconds": 5040,
                          "joinDateTime": "2022-1-6T15:3:00.00Z",
                          "leaveDateTime": "2022-1-6T16:27:00.00Z"
                        }
                      ],
                      "identity": {
                        "displayName": "Ramona Simms",
                        "id": "d1a2ca8d-cb0d-4c86-9309-ef7dcd1312a8",
                        "tenantId": ""
                      }
                    },
                    {
                      "totalAttendanceInSeconds": 4140,
                      "role": "Student",
                      "emailAddress": "FrederickAWoodhouse@contoso.org",
                      "attendanceIntervals": [
                        {
                          "durationInSeconds": 4140,
                          "joinDateTime": "2022-1-6T15:5:00.00Z",
                          "leaveDateTime": "2022-1-6T16:14:00.00Z"
                        }
                      ],
                      "identity": {
                        "displayName": "Frederick Woodhouse",
                        "id": "30d2b13e-7dfe-4d28-be46-9f0c1988dd8f",
                        "tenantId": ""
                      }
                    },
                    {
                      "totalAttendanceInSeconds": 4500,
                      "role": "Student",
                      "emailAddress": "PattiTGutierrez@contoso.org",
                      "attendanceIntervals": [
                        {
                          "durationInSeconds": 4500,
                          "joinDateTime": "2022-1-6T15:3:00.00Z",
                          "leaveDateTime": "2022-1-6T16:18:00.00Z"
                        }
                      ],
                      "identity": {
                        "displayName": "Patti Gutierrez",
                        "id": "453847c2-5e31-4ca1-8a74-ff69e2cd4620",
                        "tenantId": ""
                      }
                    },
                    {
                      "totalAttendanceInSeconds": 4500,
                      "role": "Student",
                      "emailAddress": "FelipeJBracken@contoso.org",
                      "attendanceIntervals": [
                        {
                          "durationInSeconds": 4500,
                          "joinDateTime": "2022-1-6T15:2:00.00Z",
                          "leaveDateTime": "2022-1-6T16:17:00.00Z"
                        }
                      ],
                      "identity": {
                        "displayName": "Felipe Bracken",
                        "id": "fdbc1037-5b36-43c5-bd5e-b771c217199c",
                        "tenantId": ""
                      }
                    },
                    {
                      "totalAttendanceInSeconds": 4980,
                      "role": "Student",
                      "emailAddress": "TimARobinson@contoso.org",
                      "attendanceIntervals": [
                        {
                          "durationInSeconds": 4980,
                          "joinDateTime": "2022-1-6T15:1:00.00Z",
                          "leaveDateTime": "2022-1-6T16:24:00.00Z"
                        }
                      ],
                      "identity": {
                        "displayName": "Tim Robinson",
                        "id": "82c4c272-fc73-41ac-8568-e1ddee1c01e9",
                        "tenantId": ""
                      }
                    },
                    {
                      "totalAttendanceInSeconds": 4380,
                      "role": "Student",
                      "emailAddress": "MichaelCKirkpatrick@contoso.org",
                      "attendanceIntervals": [
                        {
                          "durationInSeconds": 4380,
                          "joinDateTime": "2022-1-6T15:5:00.00Z",
                          "leaveDateTime": "2022-1-6T16:18:00.00Z"
                        }
                      ],
                      "identity": {
                        "displayName": "Michael Kirkpatrick",
                        "id": "c9e50bc4-116e-456f-b3e1-660f281b7bdd",
                        "tenantId": ""
                      }
                    },
                    {
                      "totalAttendanceInSeconds": 4560,
                      "role": "Student",
                      "emailAddress": "MistyCRea@contoso.org",
                      "attendanceIntervals": [
                        {
                          "durationInSeconds": 4560,
                          "joinDateTime": "2022-1-6T15:1:00.00Z",
                          "leaveDateTime": "2022-1-6T16:17:00.00Z"
                        }
                      ],
                      "identity": {
                        "displayName": "Misty Rea",
                        "id": "25c1b40a-26f7-4ca4-ab9e-4a1b093cc190",
                        "tenantId": ""
                      }
                    },
                    {
                      "totalAttendanceInSeconds": 4740,
                      "role": "Student",
                      "emailAddress": "DonnaRLane@contoso.org",
                      "attendanceIntervals": [
                        {
                          "durationInSeconds": 4740,
                          "joinDateTime": "2022-1-6T15:1:00.00Z",
                          "leaveDateTime": "2022-1-6T16:20:00.00Z"
                        }
                      ],
                      "identity": {
                        "displayName": "Donna Lane",
                        "id": "bd02b1bf-0657-41dc-accc-0e0573a69795",
                        "tenantId": ""
                      }
                    },
                    {
                      "totalAttendanceInSeconds": 4440,
                      "role": "Student",
                      "emailAddress": "RonaldTAtwood@contoso.org",
                      "attendanceIntervals": [
                        {
                          "durationInSeconds": 4440,
                          "joinDateTime": "2022-1-6T15:5:00.00Z",
                          "leaveDateTime": "2022-1-6T16:19:00.00Z"
                        }
                      ],
                      "identity": {
                        "displayName": "Ronald Atwood",
                        "id": "1ae5b090-dfec-4896-afe4-026353912733",
                        "tenantId": ""
                      }
                    },
                    {
                      "totalAttendanceInSeconds": 4920,
                      "role": "Student",
                      "emailAddress": "ErinDLangley@contoso.org",
                      "attendanceIntervals": [
                        {
                          "durationInSeconds": 4920,
                          "joinDateTime": "2022-1-6T15:1:00.00Z",
                          "leaveDateTime": "2022-1-6T16:23:00.00Z"
                        }
                      ],
                      "identity": {
                        "displayName": "Erin Langley",
                        "id": "c44ee63a-3f4a-4aa2-a6ee-df997559448a",
                        "tenantId": ""
                      }
                    },
                    {
                      "totalAttendanceInSeconds": 3960,
                      "role": "Student",
                      "emailAddress": "BarbaraAFarmer@contoso.org",
                      "attendanceIntervals": [
                        {
                          "durationInSeconds": 3960,
                          "joinDateTime": "2022-1-6T15:5:00.00Z",
                          "leaveDateTime": "2022-1-6T16:11:00.00Z"
                        }
                      ],
                      "identity": {
                        "displayName": "Barbara Farmer",
                        "id": "ee7b700b-2aab-438f-b1c9-724b1f337f24",
                        "tenantId": ""
                      }
                    },
                    {
                      "totalAttendanceInSeconds": 4980,
                      "role": "Student",
                      "emailAddress": "RaymondMCurtis@contoso.org",
                      "attendanceIntervals": [
                        {
                          "durationInSeconds": 4980,
                          "joinDateTime": "2022-1-6T15:3:00.00Z",
                          "leaveDateTime": "2022-1-6T16:26:00.00Z"
                        }
                      ],
                      "identity": {
                        "displayName": "Raymond Curtis",
                        "id": "09c9d103-3ba6-4caa-aba1-67e99a6cb4d7",
                        "tenantId": ""
                      }
                    },
                    {
                      "totalAttendanceInSeconds": 4140,
                      "role": "Student",
                      "emailAddress": "LelaWBlackwood@contoso.org",
                      "attendanceIntervals": [
                        {
                          "durationInSeconds": 4140,
                          "joinDateTime": "2022-1-6T15:3:00.00Z",
                          "leaveDateTime": "2022-1-6T16:12:00.00Z"
                        }
                      ],
                      "identity": {
                        "displayName": "Lela Blackwood",
                        "id": "b76d6b40-7f0a-4349-9ed4-5c1aceeb0977",
                        "tenantId": ""
                      }
                    },
                    {
                      "totalAttendanceInSeconds": 4320,
                      "role": "Student",
                      "emailAddress": "AlexandriaREskew@contoso.org",
                      "attendanceIntervals": [
                        {
                          "durationInSeconds": 4320,
                          "joinDateTime": "2022-1-6T15:5:00.00Z",
                          "leaveDateTime": "2022-1-6T16:17:00.00Z"
                        }
                      ],
                      "identity": {
                        "displayName": "Alexandria Eskew",
                        "id": "580412c2-b3c1-439f-b2b8-90d130f182b0",
                        "tenantId": ""
                      }
                    },
                    {
                      "totalAttendanceInSeconds": 4500,
                      "role": "Student",
                      "emailAddress": "MichelleARose@contoso.org",
                      "attendanceIntervals": [
                        {
                          "durationInSeconds": 4500,
                          "joinDateTime": "2022-1-6T15:5:00.00Z",
                          "leaveDateTime": "2022-1-6T16:20:00.00Z"
                        }
                      ],
                      "identity": {
                        "displayName": "Michelle Rose",
                        "id": "ff9028fc-ccec-44e8-919d-e6fb79ee8637",
                        "tenantId": ""
                      }
                    },
                    {
                      "totalAttendanceInSeconds": 5100,
                      "role": "Student",
                      "emailAddress": "PamalaDStewart@contoso.org",
                      "attendanceIntervals": [
                        {
                          "durationInSeconds": 5100,
                          "joinDateTime": "2022-1-6T15:1:00.00Z",
                          "leaveDateTime": "2022-1-6T16:26:00.00Z"
                        }
                      ],
                      "identity": {
                        "displayName": "Pamala Stewart",
                        "id": "e9d81591-ccd3-4a9c-b4cc-61d98a14d92c",
                        "tenantId": ""
                      }
                    },
                    {
                      "totalAttendanceInSeconds": 5280,
                      "role": "Student",
                      "emailAddress": "CharlesMCardenas@contoso.org",
                      "attendanceIntervals": [
                        {
                          "durationInSeconds": 5280,
                          "joinDateTime": "2022-1-6T15:0:00.00Z",
                          "leaveDateTime": "2022-1-6T16:28:00.00Z"
                        }
                      ],
                      "identity": {
                        "displayName": "Charles Cardenas",
                        "id": "332279ed-55c1-494e-b35f-4bc5fd2a43e2",
                        "tenantId": ""
                      }
                    },
                    {
                      "totalAttendanceInSeconds": 5160,
                      "role": "Student",
                      "emailAddress": "SharlaJCampbell@contoso.org",
                      "attendanceIntervals": [
                        {
                          "durationInSeconds": 5160,
                          "joinDateTime": "2022-1-6T15:0:00.00Z",
                          "leaveDateTime": "2022-1-6T16:26:00.00Z"
                        }
                      ],
                      "identity": {
                        "displayName": "Sharla Campbell",
                        "id": "0f9e54a8-66ce-4913-a586-0c64a29a50b5",
                        "tenantId": ""
                      }
                    },
                    {
                      "totalAttendanceInSeconds": 4620,
                      "role": "Student",
                      "emailAddress": "MauriceAFields@contoso.org",
                      "attendanceIntervals": [
                        {
                          "durationInSeconds": 4620,
                          "joinDateTime": "2022-1-6T15:5:00.00Z",
                          "leaveDateTime": "2022-1-6T16:22:00.00Z"
                        }
                      ],
                      "identity": {
                        "displayName": "Maurice Fields",
                        "id": "0dbc05d9-554c-45a6-87f4-42000d2813ee",
                        "tenantId": ""
                      }
                    },
                    {
                      "totalAttendanceInSeconds": 5100,
                      "role": "Student",
                      "emailAddress": "KirstenJDavis@contoso.org",
                      "attendanceIntervals": [
                        {
                          "durationInSeconds": 5100,
                          "joinDateTime": "2022-1-6T15:0:00.00Z",
                          "leaveDateTime": "2022-1-6T16:25:00.00Z"
                        }
                      ],
                      "identity": {
                        "displayName": "Kirsten Davis",
                        "id": "01d1b075-2375-41dc-a9a1-815a0d459c68",
                        "tenantId": ""
                      }
                    },
                    {
                      "totalAttendanceInSeconds": 4200,
                      "role": "Student",
                      "emailAddress": "VivianJJohns@contoso.org",
                      "attendanceIntervals": [
                        {
                          "durationInSeconds": 4200,
                          "joinDateTime": "2022-1-6T15:1:00.00Z",
                          "leaveDateTime": "2022-1-6T16:11:00.00Z"
                        }
                      ],
                      "identity": {
                        "displayName": "Vivian Johns",
                        "id": "aaa30e0f-9048-4a13-b676-f9126cdbf516",
                        "tenantId": ""
                      }
                    },
                    {
                      "totalAttendanceInSeconds": 4740,
                      "role": "Student",
                      "emailAddress": "JamieJHenry@contoso.org",
                      "attendanceIntervals": [
                        {
                          "durationInSeconds": 4740,
                          "joinDateTime": "2022-1-6T15:1:00.00Z",
                          "leaveDateTime": "2022-1-6T16:20:00.00Z"
                        }
                      ],
                      "identity": {
                        "displayName": "Jamie Henry",
                        "id": "592a11d9-ea95-4b6c-a236-8e2496c03c85",
                        "tenantId": ""
                      }
                    },
                    {
                      "totalAttendanceInSeconds": 5160,
                      "role": "Student",
                      "emailAddress": "KrystalSMorales@contoso.org",
                      "attendanceIntervals": [
                        {
                          "durationInSeconds": 5160,
                          "joinDateTime": "2022-1-6T15:0:00.00Z",
                          "leaveDateTime": "2022-1-6T16:26:00.00Z"
                        }
                      ],
                      "identity": {
                        "displayName": "Krystal Morales",
                        "id": "ed0f8aaa-54bd-420f-8a6a-9c4dfe19db3c",
                        "tenantId": ""
                      }
                    },
                    {
                      "totalAttendanceInSeconds": 4620,
                      "role": "Student",
                      "emailAddress": "LidiaNMeyer@contoso.org",
                      "attendanceIntervals": [
                        {
                          "durationInSeconds": 4620,
                          "joinDateTime": "2022-1-6T15:1:00.00Z",
                          "leaveDateTime": "2022-1-6T16:18:00.00Z"
                        }
                      ],
                      "identity": {
                        "displayName": "Lidia Meyer",
                        "id": "a8d5cffe-3205-43e4-be1e-d62f9513af02",
                        "tenantId": ""
                      }
                    },
                    {
                      "totalAttendanceInSeconds": 4680,
                      "role": "Student",
                      "emailAddress": "HarryKNguyen@contoso.org",
                      "attendanceIntervals": [
                        {
                          "durationInSeconds": 4680,
                          "joinDateTime": "2022-1-6T15:5:00.00Z",
                          "leaveDateTime": "2022-1-6T16:23:00.00Z"
                        }
                      ],
                      "identity": {
                        "displayName": "Harry Nguyen",
                        "id": "e1284975-95d3-47ab-8157-0660d200ce52",
                        "tenantId": ""
                      }
                    },
                    {
                      "totalAttendanceInSeconds": 4020,
                      "role": "Student",
                      "emailAddress": "CharlesMThompson@contoso.org",
                      "attendanceIntervals": [
                        {
                          "durationInSeconds": 4020,
                          "joinDateTime": "2022-1-6T15:5:00.00Z",
                          "leaveDateTime": "2022-1-6T16:12:00.00Z"
                        }
                      ],
                      "identity": {
                        "displayName": "Charles Thompson",
                        "id": "47025f5b-24b0-40c2-91bd-7468610a02cc",
                        "tenantId": ""
                      }
                    },
                    {
                      "totalAttendanceInSeconds": 5100,
                      "role": "Student",
                      "emailAddress": "ThomasLCrowe@contoso.org",
                      "attendanceIntervals": [
                        {
                          "durationInSeconds": 5100,
                          "joinDateTime": "2022-1-6T15:3:00.00Z",
                          "leaveDateTime": "2022-1-6T16:28:00.00Z"
                        }
                      ],
                      "identity": {
                        "displayName": "Thomas Crowe",
                        "id": "1e63b278-ecdb-4af2-b7b2-b361310064f6",
                        "tenantId": ""
                      }
                    },
                    {
                      "totalAttendanceInSeconds": 4740,
                      "role": "Student",
                      "emailAddress": "GeorgeSOdell@contoso.org",
                      "attendanceIntervals": [
                        {
                          "durationInSeconds": 4740,
                          "joinDateTime": "2022-1-6T15:5:00.00Z",
                          "leaveDateTime": "2022-1-6T16:24:00.00Z"
                        }
                      ],
                      "identity": {
                        "displayName": "George Odell",
                        "id": "5a94bb6e-78ad-44e9-b76b-b23a192a2b67",
                        "tenantId": ""
                      }
                    },
                    {
                      "totalAttendanceInSeconds": 4980,
                      "role": "Student",
                      "emailAddress": "JessicaMEstes@contoso.org",
                      "attendanceIntervals": [
                        {
                          "durationInSeconds": 4980,
                          "joinDateTime": "2022-1-6T15:2:00.00Z",
                          "leaveDateTime": "2022-1-6T16:25:00.00Z"
                        }
                      ],
                      "identity": {
                        "displayName": "Jessica Estes",
                        "id": "a70953bd-7793-4312-9691-5bca78b69c79",
                        "tenantId": ""
                      }
                    }
                  ],
                  "1": "ca33c5a0-47bc-42e0-9f8f-ab57617b5858",
                  "2": "2022-1-6T16:30:00.00Z",
                  "3": "2022-1-6T15:0:00.00Z",
                  "4": "38",
                  "5": "2023-01-07 00-19-10"
                },
                {
                  "0": [
                    {
                      "totalAttendanceInSeconds": 3420,
                      "role": "Student",
                      "emailAddress": "RooseveltKBridges@contoso.org",
                      "attendanceIntervals": [
                        {
                          "durationInSeconds": 3420,
                          "joinDateTime": "2022-1-18T9:56:00.00Z",
                          "leaveDateTime": "2022-1-18T10:53:00.00Z"
                        }
                      ],
                      "identity": {
                        "displayName": "Roosevelt Bridges",
                        "id": "84cf5bc8-1b60-463d-8312-c44ecf79a247",
                        "tenantId": ""
                      }
                    },
                    {
                      "totalAttendanceInSeconds": 2700,
                      "role": "Student",
                      "emailAddress": "BobbyLMcCarthy@contoso.org",
                      "attendanceIntervals": [
                        {
                          "durationInSeconds": 2700,
                          "joinDateTime": "2022-1-18T9:55:00.00Z",
                          "leaveDateTime": "2022-1-18T10:40:00.00Z"
                        }
                      ],
                      "identity": {
                        "displayName": "Bobby McCarthy",
                        "id": "f90b5ddb-17e2-4720-903d-20085e87373d",
                        "tenantId": ""
                      }
                    },
                    {
                      "totalAttendanceInSeconds": 2700,
                      "role": "Student",
                      "emailAddress": "CarlosABradbury@contoso.org",
                      "attendanceIntervals": [
                        {
                          "durationInSeconds": 2700,
                          "joinDateTime": "2022-1-18T9:57:00.00Z",
                          "leaveDateTime": "2022-1-18T10:42:00.00Z"
                        }
                      ],
                      "identity": {
                        "displayName": "Carlos Bradbury",
                        "id": "caa7f283-0da2-4063-a9f9-a5c8e979be50",
                        "tenantId": ""
                      }
                    },
                    {
                      "totalAttendanceInSeconds": 3240,
                      "role": "Student",
                      "emailAddress": "MarshaJBailey@contoso.org",
                      "attendanceIntervals": [
                        {
                          "durationInSeconds": 3240,
                          "joinDateTime": "2022-1-18T9:57:00.00Z",
                          "leaveDateTime": "2022-1-18T10:51:00.00Z"
                        }
                      ],
                      "identity": {
                        "displayName": "Marsha Bailey",
                        "id": "54729d63-095a-45e8-9a0b-a1545c5e7612",
                        "tenantId": ""
                      }
                    },
                    {
                      "totalAttendanceInSeconds": 5880,
                      "role": "Student",
                      "emailAddress": "AlinaBBowers@contoso.org",
                      "attendanceIntervals": [
                        {
                          "durationInSeconds": 5880,
                          "joinDateTime": "2022-1-18T9:1:00.00Z",
                          "leaveDateTime": "2022-1-18T10:39:00.00Z"
                        }
                      ],
                      "identity": {
                        "displayName": "Alina Bowers",
                        "id": "370cc368-37c0-48fd-bafe-4cf7c6f50a10",
                        "tenantId": ""
                      }
                    },
                    {
                      "totalAttendanceInSeconds": 2280,
                      "role": "Student",
                      "emailAddress": "KathleenASchroeder@contoso.org",
                      "attendanceIntervals": [
                        {
                          "durationInSeconds": 2280,
                          "joinDateTime": "2022-1-18T9:58:00.00Z",
                          "leaveDateTime": "2022-1-18T10:36:00.00Z"
                        }
                      ],
                      "identity": {
                        "displayName": "Kathleen Schroeder",
                        "id": "7ca29e81-c760-4fb3-9130-4c5e87ef4457",
                        "tenantId": ""
                      }
                    },
                    {
                      "totalAttendanceInSeconds": 2760,
                      "role": "Student",
                      "emailAddress": "JoanneGMcKnight@contoso.org",
                      "attendanceIntervals": [
                        {
                          "durationInSeconds": 2760,
                          "joinDateTime": "2022-1-18T9:59:00.00Z",
                          "leaveDateTime": "2022-1-18T10:45:00.00Z"
                        }
                      ],
                      "identity": {
                        "displayName": "Joanne McKnight",
                        "id": "3185bff6-8a8b-45a8-a7ff-74cbf19a29e2",
                        "tenantId": ""
                      }
                    },
                    {
                      "totalAttendanceInSeconds": 3240,
                      "role": "Student",
                      "emailAddress": "MichaelVBowman@contoso.org",
                      "attendanceIntervals": [
                        {
                          "durationInSeconds": 3240,
                          "joinDateTime": "2022-1-18T9:56:00.00Z",
                          "leaveDateTime": "2022-1-18T10:50:00.00Z"
                        }
                      ],
                      "identity": {
                        "displayName": "Michael Bowman",
                        "id": "aaf3b62e-fe60-4d42-9b4c-cad38c5e9c32",
                        "tenantId": ""
                      }
                    },
                    {
                      "totalAttendanceInSeconds": 3420,
                      "role": "Student",
                      "emailAddress": "MistyCRea@contoso.org",
                      "attendanceIntervals": [
                        {
                          "durationInSeconds": 3420,
                          "joinDateTime": "2022-1-18T9:58:00.00Z",
                          "leaveDateTime": "2022-1-18T10:55:00.00Z"
                        }
                      ],
                      "identity": {
                        "displayName": "Misty Rea",
                        "id": "25c1b40a-26f7-4ca4-ab9e-4a1b093cc190",
                        "tenantId": ""
                      }
                    },
                    {
                      "totalAttendanceInSeconds": 2820,
                      "role": "Student",
                      "emailAddress": "DonnaWChoi@contoso.org",
                      "attendanceIntervals": [
                        {
                          "durationInSeconds": 2820,
                          "joinDateTime": "2022-1-18T9:59:00.00Z",
                          "leaveDateTime": "2022-1-18T10:46:00.00Z"
                        }
                      ],
                      "identity": {
                        "displayName": "Donna Choi",
                        "id": "20b170e9-b52e-499e-aa5e-f4b55df30c62",
                        "tenantId": ""
                      }
                    },
                    {
                      "totalAttendanceInSeconds": 2820,
                      "role": "Student",
                      "emailAddress": "JoannaWHenderson@contoso.org",
                      "attendanceIntervals": [
                        {
                          "durationInSeconds": 2820,
                          "joinDateTime": "2022-1-18T9:55:00.00Z",
                          "leaveDateTime": "2022-1-18T10:42:00.00Z"
                        }
                      ],
                      "identity": {
                        "displayName": "Joanna Henderson",
                        "id": "dc6c500e-2f46-4209-92ee-2291b40940a1",
                        "tenantId": ""
                      }
                    },
                    {
                      "totalAttendanceInSeconds": 3420,
                      "role": "Student",
                      "emailAddress": "TheodoreFTaylor@contoso.org",
                      "attendanceIntervals": [
                        {
                          "durationInSeconds": 3420,
                          "joinDateTime": "2022-1-18T9:55:00.00Z",
                          "leaveDateTime": "2022-1-18T10:52:00.00Z"
                        }
                      ],
                      "identity": {
                        "displayName": "Theodore Taylor",
                        "id": "02d8122e-f03c-4bb0-9568-cf1f9b5dc74d",
                        "tenantId": ""
                      }
                    },
                    {
                      "totalAttendanceInSeconds": 3180,
                      "role": "Student",
                      "emailAddress": "AlbertoMJones@contoso.org",
                      "attendanceIntervals": [
                        {
                          "durationInSeconds": 3180,
                          "joinDateTime": "2022-1-18T9:57:00.00Z",
                          "leaveDateTime": "2022-1-18T10:50:00.00Z"
                        }
                      ],
                      "identity": {
                        "displayName": "Alberto Jones",
                        "id": "8b6ea5c4-c2fc-44c2-bb93-b3ad224f8a01",
                        "tenantId": ""
                      }
                    },
                    {
                      "totalAttendanceInSeconds": 2940,
                      "role": "Student",
                      "emailAddress": "LynnAMeador@contoso.org",
                      "attendanceIntervals": [
                        {
                          "durationInSeconds": 2940,
                          "joinDateTime": "2022-1-18T9:57:00.00Z",
                          "leaveDateTime": "2022-1-18T10:46:00.00Z"
                        }
                      ],
                      "identity": {
                        "displayName": "Lynn Meador",
                        "id": "27d88160-cb9e-4950-81a4-3087e62ab393",
                        "tenantId": ""
                      }
                    },
                    {
                      "totalAttendanceInSeconds": 2640,
                      "role": "Student",
                      "emailAddress": "BarbaraAFarmer@contoso.org",
                      "attendanceIntervals": [
                        {
                          "durationInSeconds": 2640,
                          "joinDateTime": "2022-1-18T9:55:00.00Z",
                          "leaveDateTime": "2022-1-18T10:39:00.00Z"
                        }
                      ],
                      "identity": {
                        "displayName": "Barbara Farmer",
                        "id": "ee7b700b-2aab-438f-b1c9-724b1f337f24",
                        "tenantId": ""
                      }
                    },
                    {
                      "totalAttendanceInSeconds": 3420,
                      "role": "Student",
                      "emailAddress": "LelaWBlackwood@contoso.org",
                      "attendanceIntervals": [
                        {
                          "durationInSeconds": 3420,
                          "joinDateTime": "2022-1-18T9:58:00.00Z",
                          "leaveDateTime": "2022-1-18T10:55:00.00Z"
                        }
                      ],
                      "identity": {
                        "displayName": "Lela Blackwood",
                        "id": "b76d6b40-7f0a-4349-9ed4-5c1aceeb0977",
                        "tenantId": ""
                      }
                    },
                    {
                      "totalAttendanceInSeconds": 3360,
                      "role": "Student",
                      "emailAddress": "DennisMOldham@contoso.org",
                      "attendanceIntervals": [
                        {
                          "durationInSeconds": 3360,
                          "joinDateTime": "2022-1-18T9:55:00.00Z",
                          "leaveDateTime": "2022-1-18T10:51:00.00Z"
                        }
                      ],
                      "identity": {
                        "displayName": "Dennis Oldham",
                        "id": "01272c88-53de-4a22-a0cc-fc44ea835c61",
                        "tenantId": ""
                      }
                    },
                    {
                      "totalAttendanceInSeconds": 2580,
                      "role": "Student",
                      "emailAddress": "FrankDBreunig@contoso.org",
                      "attendanceIntervals": [
                        {
                          "durationInSeconds": 2580,
                          "joinDateTime": "2022-1-18T9:57:00.00Z",
                          "leaveDateTime": "2022-1-18T10:40:00.00Z"
                        }
                      ],
                      "identity": {
                        "displayName": "Frank Breunig",
                        "id": "5b423b97-a691-4369-acdd-1fd6ac59f42c",
                        "tenantId": ""
                      }
                    },
                    {
                      "totalAttendanceInSeconds": 3360,
                      "role": "Student",
                      "emailAddress": "TracyRPeter@contoso.org",
                      "attendanceIntervals": [
                        {
                          "durationInSeconds": 3360,
                          "joinDateTime": "2022-1-18T9:58:00.00Z",
                          "leaveDateTime": "2022-1-18T10:54:00.00Z"
                        }
                      ],
                      "identity": {
                        "displayName": "Tracy Peter",
                        "id": "627c1a0d-2bbb-4540-aa33-9e146f1bce99",
                        "tenantId": ""
                      }
                    },
                    {
                      "totalAttendanceInSeconds": 3120,
                      "role": "Student",
                      "emailAddress": "MichelleARose@contoso.org",
                      "attendanceIntervals": [
                        {
                          "durationInSeconds": 3120,
                          "joinDateTime": "2022-1-18T9:55:00.00Z",
                          "leaveDateTime": "2022-1-18T10:47:00.00Z"
                        }
                      ],
                      "identity": {
                        "displayName": "Michelle Rose",
                        "id": "ff9028fc-ccec-44e8-919d-e6fb79ee8637",
                        "tenantId": ""
                      }
                    },
                    {
                      "totalAttendanceInSeconds": 3480,
                      "role": "Student",
                      "emailAddress": "JeffreyTSorenson@contoso.org",
                      "attendanceIntervals": [
                        {
                          "durationInSeconds": 3480,
                          "joinDateTime": "2022-1-18T9:57:00.00Z",
                          "leaveDateTime": "2022-1-18T10:55:00.00Z"
                        }
                      ],
                      "identity": {
                        "displayName": "Jeffrey Sorenson",
                        "id": "685d7aab-a5ab-4a73-8ec6-efbf05c041a9",
                        "tenantId": ""
                      }
                    },
                    {
                      "totalAttendanceInSeconds": 2760,
                      "role": "Student",
                      "emailAddress": "MarionRCamara@contoso.org",
                      "attendanceIntervals": [
                        {
                          "durationInSeconds": 2760,
                          "joinDateTime": "2022-1-18T9:56:00.00Z",
                          "leaveDateTime": "2022-1-18T10:42:00.00Z"
                        }
                      ],
                      "identity": {
                        "displayName": "Marion Camara",
                        "id": "b6bd278f-c84e-4426-9500-6328093d3bfb",
                        "tenantId": ""
                      }
                    },
                    {
                      "totalAttendanceInSeconds": 2580,
                      "role": "Student",
                      "emailAddress": "AlfredoHCrisman@contoso.org",
                      "attendanceIntervals": [
                        {
                          "durationInSeconds": 2580,
                          "joinDateTime": "2022-1-18T9:59:00.00Z",
                          "leaveDateTime": "2022-1-18T10:42:00.00Z"
                        }
                      ],
                      "identity": {
                        "displayName": "Alfredo Crisman",
                        "id": "c0662a92-2588-406f-b25c-87adb964712c",
                        "tenantId": ""
                      }
                    },
                    {
                      "totalAttendanceInSeconds": 2280,
                      "role": "Student",
                      "emailAddress": "MaryRMcKenzie@contoso.org",
                      "attendanceIntervals": [
                        {
                          "durationInSeconds": 2280,
                          "joinDateTime": "2022-1-18T9:59:00.00Z",
                          "leaveDateTime": "2022-1-18T10:37:00.00Z"
                        }
                      ],
                      "identity": {
                        "displayName": "Mary McKenzie",
                        "id": "271413c0-e0c9-4f92-ace7-22b83c77726d",
                        "tenantId": ""
                      }
                    },
                    {
                      "totalAttendanceInSeconds": 3360,
                      "role": "Student",
                      "emailAddress": "AndrewEWilson@contoso.org",
                      "attendanceIntervals": [
                        {
                          "durationInSeconds": 3360,
                          "joinDateTime": "2022-1-18T9:56:00.00Z",
                          "leaveDateTime": "2022-1-18T10:52:00.00Z"
                        }
                      ],
                      "identity": {
                        "displayName": "Andrew Wilson",
                        "id": "bff8e2da-478f-4544-83cd-5b163f1b846b",
                        "tenantId": ""
                      }
                    },
                    {
                      "totalAttendanceInSeconds": 6240,
                      "role": "Student",
                      "emailAddress": "KristiCQuint@contoso.org",
                      "attendanceIntervals": [
                        {
                          "durationInSeconds": 6240,
                          "joinDateTime": "2022-1-18T9:1:00.00Z",
                          "leaveDateTime": "2022-1-18T10:45:00.00Z"
                        }
                      ],
                      "identity": {
                        "displayName": "Kristi Quint",
                        "id": "ad431ef0-db2d-41ca-8afb-1fea833fb878",
                        "tenantId": ""
                      }
                    },
                    {
                      "totalAttendanceInSeconds": 6720,
                      "role": "Student",
                      "emailAddress": "SharlaJCampbell@contoso.org",
                      "attendanceIntervals": [
                        {
                          "durationInSeconds": 6720,
                          "joinDateTime": "2022-1-18T9:1:00.00Z",
                          "leaveDateTime": "2022-1-18T10:53:00.00Z"
                        }
                      ],
                      "identity": {
                        "displayName": "Sharla Campbell",
                        "id": "0f9e54a8-66ce-4913-a586-0c64a29a50b5",
                        "tenantId": ""
                      }
                    },
                    {
                      "totalAttendanceInSeconds": 2340,
                      "role": "Student",
                      "emailAddress": "KirstenJDavis@contoso.org",
                      "attendanceIntervals": [
                        {
                          "durationInSeconds": 2340,
                          "joinDateTime": "2022-1-18T9:59:00.00Z",
                          "leaveDateTime": "2022-1-18T10:38:00.00Z"
                        }
                      ],
                      "identity": {
                        "displayName": "Kirsten Davis",
                        "id": "01d1b075-2375-41dc-a9a1-815a0d459c68",
                        "tenantId": ""
                      }
                    },
                    {
                      "totalAttendanceInSeconds": 3180,
                      "role": "Student",
                      "emailAddress": "EvanFJohnson@contoso.org",
                      "attendanceIntervals": [
                        {
                          "durationInSeconds": 3180,
                          "joinDateTime": "2022-1-18T9:55:00.00Z",
                          "leaveDateTime": "2022-1-18T10:48:00.00Z"
                        }
                      ],
                      "identity": {
                        "displayName": "Evan Johnson",
                        "id": "ac950e75-cb92-4dc7-93e2-50d242ae7579",
                        "tenantId": ""
                      }
                    },
                    {
                      "totalAttendanceInSeconds": 5820,
                      "role": "Student",
                      "emailAddress": "DrewGKing@contoso.org",
                      "attendanceIntervals": [
                        {
                          "durationInSeconds": 5820,
                          "joinDateTime": "2022-1-18T9:1:00.00Z",
                          "leaveDateTime": "2022-1-18T10:38:00.00Z"
                        }
                      ],
                      "identity": {
                        "displayName": "Drew King",
                        "id": "9f160e80-80c0-4a87-a08d-61a58fac0789",
                        "tenantId": ""
                      }
                    },
                    {
                      "totalAttendanceInSeconds": 6060,
                      "role": "Student",
                      "emailAddress": "RobertMThomas@contoso.org",
                      "attendanceIntervals": [
                        {
                          "durationInSeconds": 6060,
                          "joinDateTime": "2022-1-18T9:1:00.00Z",
                          "leaveDateTime": "2022-1-18T10:42:00.00Z"
                        }
                      ],
                      "identity": {
                        "displayName": "Robert Thomas",
                        "id": "9361915c-6b70-43de-ae9b-459a080dde2f",
                        "tenantId": ""
                      }
                    },
                    {
                      "totalAttendanceInSeconds": 2220,
                      "role": "Student",
                      "emailAddress": "KyleMScott@contoso.org",
                      "attendanceIntervals": [
                        {
                          "durationInSeconds": 2220,
                          "joinDateTime": "2022-1-18T9:58:00.00Z",
                          "leaveDateTime": "2022-1-18T10:35:00.00Z"
                        }
                      ],
                      "identity": {
                        "displayName": "Kyle Scott",
                        "id": "ee07450c-9e9e-4475-842b-7334e6463685",
                        "tenantId": ""
                      }
                    },
                    {
                      "totalAttendanceInSeconds": 3540,
                      "role": "Student",
                      "emailAddress": "ThomasLCrowe@contoso.org",
                      "attendanceIntervals": [
                        {
                          "durationInSeconds": 3540,
                          "joinDateTime": "2022-1-18T9:56:00.00Z",
                          "leaveDateTime": "2022-1-18T10:55:00.00Z"
                        }
                      ],
                      "identity": {
                        "displayName": "Thomas Crowe",
                        "id": "1e63b278-ecdb-4af2-b7b2-b361310064f6",
                        "tenantId": ""
                      }
                    },
                    {
                      "totalAttendanceInSeconds": 2580,
                      "role": "Student",
                      "emailAddress": "BroderickAKelley@contoso.org",
                      "attendanceIntervals": [
                        {
                          "durationInSeconds": 2580,
                          "joinDateTime": "2022-1-18T9:55:00.00Z",
                          "leaveDateTime": "2022-1-18T10:38:00.00Z"
                        }
                      ],
                      "identity": {
                        "displayName": "Broderick Kelley",
                        "id": "6e9cbb9a-3eb4-4f78-83fb-cc0684898ee9",
                        "tenantId": ""
                      }
                    },
                    {
                      "totalAttendanceInSeconds": 3180,
                      "role": "Student",
                      "emailAddress": "JessicaMEstes@contoso.org",
                      "attendanceIntervals": [
                        {
                          "durationInSeconds": 3180,
                          "joinDateTime": "2022-1-18T9:57:00.00Z",
                          "leaveDateTime": "2022-1-18T10:50:00.00Z"
                        }
                      ],
                      "identity": {
                        "displayName": "Jessica Estes",
                        "id": "a70953bd-7793-4312-9691-5bca78b69c79",
                        "tenantId": ""
                      }
                    },
                    {
                      "totalAttendanceInSeconds": 6180,
                      "role": "Student",
                      "emailAddress": "TyroneBDove@contoso.org",
                      "attendanceIntervals": [
                        {
                          "durationInSeconds": 6180,
                          "joinDateTime": "2022-1-18T9:1:00.00Z",
                          "leaveDateTime": "2022-1-18T10:44:00.00Z"
                        }
                      ],
                      "identity": {
                        "displayName": "Tyrone Dove",
                        "id": "2151590d-a5bb-47cc-b74e-23dd890214ff",
                        "tenantId": ""
                      }
                    },
                    {
                      "totalAttendanceInSeconds": 2520,
                      "role": "Student",
                      "emailAddress": "UlyssesMCulbreath@contoso.org",
                      "attendanceIntervals": [
                        {
                          "durationInSeconds": 2520,
                          "joinDateTime": "2022-1-18T9:58:00.00Z",
                          "leaveDateTime": "2022-1-18T10:40:00.00Z"
                        }
                      ],
                      "identity": {
                        "displayName": "Ulysses Culbreath",
                        "id": "6ea75eef-4c40-47a5-b51f-fd66f47f2e85",
                        "tenantId": ""
                      }
                    }
                  ],
                  "1": "75bde694-5e74-4592-afbc-c4713204310f",
                  "2": "2022-1-18T10:55:00.00Z",
                  "3": "2022-1-18T9:55:00.00Z",
                  "4": "37",
                  "5": "2023-01-07 00-19-10"
                },
                {
                  "0": [
                    {
                      "totalAttendanceInSeconds": 1560,
                      "role": "Student",
                      "emailAddress": "AndreaSWallace@contoso.org",
                      "attendanceIntervals": [
                        {
                          "durationInSeconds": 1560,
                          "joinDateTime": "2022-1-28T14:55:00.00Z",
                          "leaveDateTime": "2022-1-28T15:21:00.00Z"
                        }
                      ],
                      "identity": {
                        "displayName": "Andrea Wallace",
                        "id": "88398ab2-49bd-439e-bd18-3faaf5e25c62",
                        "tenantId": ""
                      }
                    },
                    {
                      "totalAttendanceInSeconds": 600,
                      "role": "Student",
                      "emailAddress": "CharlesPJohnson@contoso.org",
                      "attendanceIntervals": [
                        {
                          "durationInSeconds": 600,
                          "joinDateTime": "2022-1-28T14:57:00.00Z",
                          "leaveDateTime": "2022-1-28T15:7:00.00Z"
                        }
                      ],
                      "identity": {
                        "displayName": "Charles Johnson",
                        "id": "311a9eb8-9da9-4b9f-8e56-352d54a47a61",
                        "tenantId": ""
                      }
                    },
                    {
                      "totalAttendanceInSeconds": 960,
                      "role": "Student",
                      "emailAddress": "CarolCMercer@contoso.org",
                      "attendanceIntervals": [
                        {
                          "durationInSeconds": 960,
                          "joinDateTime": "2022-1-28T14:59:00.00Z",
                          "leaveDateTime": "2022-1-28T15:15:00.00Z"
                        }
                      ],
                      "identity": {
                        "displayName": "Carol Mercer",
                        "id": "b55be519-5711-4461-b420-301139db5bae",
                        "tenantId": ""
                      }
                    },
                    {
                      "totalAttendanceInSeconds": 960,
                      "role": "Student",
                      "emailAddress": "BettyELira@contoso.org",
                      "attendanceIntervals": [
                        {
                          "durationInSeconds": 960,
                          "joinDateTime": "2022-1-28T14:58:00.00Z",
                          "leaveDateTime": "2022-1-28T15:14:00.00Z"
                        }
                      ],
                      "identity": {
                        "displayName": "Betty Lira",
                        "id": "7bc8ab16-5f5e-4af2-b5a3-c5e94a88fa1d",
                        "tenantId": ""
                      }
                    },
                    {
                      "totalAttendanceInSeconds": 660,
                      "role": "Student",
                      "emailAddress": "AngilaNKidder@contoso.org",
                      "attendanceIntervals": [
                        {
                          "durationInSeconds": 660,
                          "joinDateTime": "2022-1-28T14:57:00.00Z",
                          "leaveDateTime": "2022-1-28T15:8:00.00Z"
                        }
                      ],
                      "identity": {
                        "displayName": "Angila Kidder",
                        "id": "18c2e300-0235-41de-9562-c8612a2052ab",
                        "tenantId": ""
                      }
                    },
                    {
                      "totalAttendanceInSeconds": 780,
                      "role": "Student",
                      "emailAddress": "SusanRCuellar@contoso.org",
                      "attendanceIntervals": [
                        {
                          "durationInSeconds": 780,
                          "joinDateTime": "2022-1-28T14:57:00.00Z",
                          "leaveDateTime": "2022-1-28T15:10:00.00Z"
                        }
                      ],
                      "identity": {
                        "displayName": "Susan Cuellar",
                        "id": "d2a06d09-9f63-4d5a-9e87-7155cd6bbc52",
                        "tenantId": ""
                      }
                    },
                    {
                      "totalAttendanceInSeconds": 600,
                      "role": "Student",
                      "emailAddress": "BreannaAFerrara@contoso.org",
                      "attendanceIntervals": [
                        {
                          "durationInSeconds": 600,
                          "joinDateTime": "2022-1-28T14:57:00.00Z",
                          "leaveDateTime": "2022-1-28T15:7:00.00Z"
                        }
                      ],
                      "identity": {
                        "displayName": "Breanna Ferrara",
                        "id": "eb6ca6d4-57ae-4f7f-b8a5-99a57358122a",
                        "tenantId": ""
                      }
                    },
                    {
                      "totalAttendanceInSeconds": 720,
                      "role": "Student",
                      "emailAddress": "WalterRRoss@contoso.org",
                      "attendanceIntervals": [
                        {
                          "durationInSeconds": 720,
                          "joinDateTime": "2022-1-28T14:59:00.00Z",
                          "leaveDateTime": "2022-1-28T15:11:00.00Z"
                        }
                      ],
                      "identity": {
                        "displayName": "Walter Ross",
                        "id": "450730d4-1591-4d45-976d-4c73b2218441",
                        "tenantId": ""
                      }
                    },
                    {
                      "totalAttendanceInSeconds": 900,
                      "role": "Student",
                      "emailAddress": "ArleneCSheen@contoso.org",
                      "attendanceIntervals": [
                        {
                          "durationInSeconds": 900,
                          "joinDateTime": "2022-1-28T14:59:00.00Z",
                          "leaveDateTime": "2022-1-28T15:14:00.00Z"
                        }
                      ],
                      "identity": {
                        "displayName": "Arlene Sheen",
                        "id": "30318dc0-276e-4a6a-a943-e47d60b4a33f",
                        "tenantId": ""
                      }
                    },
                    {
                      "totalAttendanceInSeconds": 1560,
                      "role": "Student",
                      "emailAddress": "StephanyETaber@contoso.org",
                      "attendanceIntervals": [
                        {
                          "durationInSeconds": 1560,
                          "joinDateTime": "2022-1-28T14:58:00.00Z",
                          "leaveDateTime": "2022-1-28T15:24:00.00Z"
                        }
                      ],
                      "identity": {
                        "displayName": "Stephany Taber",
                        "id": "d3c95ffd-f83a-4f8c-bd8a-7cf48dce403e",
                        "tenantId": ""
                      }
                    },
                    {
                      "totalAttendanceInSeconds": 840,
                      "role": "Student",
                      "emailAddress": "TammyGKirkendall@contoso.org",
                      "attendanceIntervals": [
                        {
                          "durationInSeconds": 840,
                          "joinDateTime": "2022-1-28T14:56:00.00Z",
                          "leaveDateTime": "2022-1-28T15:10:00.00Z"
                        }
                      ],
                      "identity": {
                        "displayName": "Tammy Kirkendall",
                        "id": "cda303d3-20bb-4873-8872-1fd2316506c4",
                        "tenantId": ""
                      }
                    },
                    {
                      "totalAttendanceInSeconds": 1560,
                      "role": "Student",
                      "emailAddress": "DeanneJTwitty@contoso.org",
                      "attendanceIntervals": [
                        {
                          "durationInSeconds": 1560,
                          "joinDateTime": "2022-1-28T14:57:00.00Z",
                          "leaveDateTime": "2022-1-28T15:23:00.00Z"
                        }
                      ],
                      "identity": {
                        "displayName": "Deanne Twitty",
                        "id": "9c8f7043-ddde-48a6-bed6-836d1ed13461",
                        "tenantId": ""
                      }
                    },
                    {
                      "totalAttendanceInSeconds": 1080,
                      "role": "Student",
                      "emailAddress": "AaronLAllison@contoso.org",
                      "attendanceIntervals": [
                        {
                          "durationInSeconds": 1080,
                          "joinDateTime": "2022-1-28T14:57:00.00Z",
                          "leaveDateTime": "2022-1-28T15:15:00.00Z"
                        }
                      ],
                      "identity": {
                        "displayName": "Aaron Allison",
                        "id": "5d4d19d8-30a2-4a89-a76b-162bfab8f3c4",
                        "tenantId": ""
                      }
                    },
                    {
                      "totalAttendanceInSeconds": 420,
                      "role": "Student",
                      "emailAddress": "AmandaJGreen@contoso.org",
                      "attendanceIntervals": [
                        {
                          "durationInSeconds": 420,
                          "joinDateTime": "2022-1-28T14:59:00.00Z",
                          "leaveDateTime": "2022-1-28T15:6:00.00Z"
                        }
                      ],
                      "identity": {
                        "displayName": "Amanda Green",
                        "id": "a39ff9f6-b81f-4a2d-9620-2b12f3535376",
                        "tenantId": ""
                      }
                    },
                    {
                      "totalAttendanceInSeconds": 720,
                      "role": "Student",
                      "emailAddress": "PatriciaJWells@contoso.org",
                      "attendanceIntervals": [
                        {
                          "durationInSeconds": 720,
                          "joinDateTime": "2022-1-28T14:59:00.00Z",
                          "leaveDateTime": "2022-1-28T15:11:00.00Z"
                        }
                      ],
                      "identity": {
                        "displayName": "Patricia Wells",
                        "id": "4a4701f4-9629-4030-80bc-06b6c6f56b03",
                        "tenantId": ""
                      }
                    },
                    {
                      "totalAttendanceInSeconds": 600,
                      "role": "Student",
                      "emailAddress": "RobertMEberle@contoso.org",
                      "attendanceIntervals": [
                        {
                          "durationInSeconds": 600,
                          "joinDateTime": "2022-1-28T14:58:00.00Z",
                          "leaveDateTime": "2022-1-28T15:8:00.00Z"
                        }
                      ],
                      "identity": {
                        "displayName": "Robert Eberle",
                        "id": "3abb0e4d-5f3f-4e13-a977-83f963f8e3a3",
                        "tenantId": ""
                      }
                    },
                    {
                      "totalAttendanceInSeconds": 1080,
                      "role": "Student",
                      "emailAddress": "ChristopherALorenzo@contoso.org",
                      "attendanceIntervals": [
                        {
                          "durationInSeconds": 1080,
                          "joinDateTime": "2022-1-28T14:55:00.00Z",
                          "leaveDateTime": "2022-1-28T15:13:00.00Z"
                        }
                      ],
                      "identity": {
                        "displayName": "Christopher Lorenzo",
                        "id": "16adc87f-3b9f-44d7-a169-ab4989adf9a9",
                        "tenantId": ""
                      }
                    },
                    {
                      "totalAttendanceInSeconds": 1440,
                      "role": "Student",
                      "emailAddress": "AlbertNPerry@contoso.org",
                      "attendanceIntervals": [
                        {
                          "durationInSeconds": 1440,
                          "joinDateTime": "2022-1-28T14:56:00.00Z",
                          "leaveDateTime": "2022-1-28T15:20:00.00Z"
                        }
                      ],
                      "identity": {
                        "displayName": "Albert Perry",
                        "id": "a85c7466-f8eb-4b93-8ee0-8da7dab190b4",
                        "tenantId": ""
                      }
                    },
                    {
                      "totalAttendanceInSeconds": 540,
                      "role": "Student",
                      "emailAddress": "FrancesMChon@contoso.org",
                      "attendanceIntervals": [
                        {
                          "durationInSeconds": 540,
                          "joinDateTime": "2022-1-28T14:59:00.00Z",
                          "leaveDateTime": "2022-1-28T15:8:00.00Z"
                        }
                      ],
                      "identity": {
                        "displayName": "Frances Chon",
                        "id": "c6bf93c5-ebcb-4fe5-b6be-b374cd2f21b2",
                        "tenantId": ""
                      }
                    },
                    {
                      "totalAttendanceInSeconds": 780,
                      "role": "Student",
                      "emailAddress": "JosephineWCash@contoso.org",
                      "attendanceIntervals": [
                        {
                          "durationInSeconds": 780,
                          "joinDateTime": "2022-1-28T14:55:00.00Z",
                          "leaveDateTime": "2022-1-28T15:8:00.00Z"
                        }
                      ],
                      "identity": {
                        "displayName": "Josephine Cash",
                        "id": "51db5148-59a5-4460-8903-fee2f49300bb",
                        "tenantId": ""
                      }
                    },
                    {
                      "totalAttendanceInSeconds": 4260,
                      "role": "Student",
                      "emailAddress": "RobertKWolf@contoso.org",
                      "attendanceIntervals": [
                        {
                          "durationInSeconds": 4260,
                          "joinDateTime": "2022-1-28T14:1:00.00Z",
                          "leaveDateTime": "2022-1-28T15:12:00.00Z"
                        }
                      ],
                      "identity": {
                        "displayName": "Robert Wolf",
                        "id": "925d8dbc-1d61-457d-a3c0-7e6544754e6c",
                        "tenantId": ""
                      }
                    },
                    {
                      "totalAttendanceInSeconds": 4500,
                      "role": "Student",
                      "emailAddress": "JamesLLees@contoso.org",
                      "attendanceIntervals": [
                        {
                          "durationInSeconds": 4500,
                          "joinDateTime": "2022-1-28T14:1:00.00Z",
                          "leaveDateTime": "2022-1-28T15:16:00.00Z"
                        }
                      ],
                      "identity": {
                        "displayName": "James Lees",
                        "id": "c79b1b6c-b63f-4a44-a4cc-73780b4b4e93",
                        "tenantId": ""
                      }
                    },
                    {
                      "totalAttendanceInSeconds": 540,
                      "role": "Student",
                      "emailAddress": "ChristopherPCarlson@contoso.org",
                      "attendanceIntervals": [
                        {
                          "durationInSeconds": 540,
                          "joinDateTime": "2022-1-28T14:57:00.00Z",
                          "leaveDateTime": "2022-1-28T15:6:00.00Z"
                        }
                      ],
                      "identity": {
                        "displayName": "Christopher Carlson",
                        "id": "b297ebb7-6267-4a0e-bbe8-9594b92a7980",
                        "tenantId": ""
                      }
                    },
                    {
                      "totalAttendanceInSeconds": 1200,
                      "role": "Student",
                      "emailAddress": "ColleenDBrown@contoso.org",
                      "attendanceIntervals": [
                        {
                          "durationInSeconds": 1200,
                          "joinDateTime": "2022-1-28T14:59:00.00Z",
                          "leaveDateTime": "2022-1-28T15:19:00.00Z"
                        }
                      ],
                      "identity": {
                        "displayName": "Colleen Brown",
                        "id": "f7346f40-d2f4-468e-909d-1f757e19a4f4",
                        "tenantId": ""
                      }
                    },
                    {
                      "totalAttendanceInSeconds": 1560,
                      "role": "Student",
                      "emailAddress": "BettyTFlor@contoso.org",
                      "attendanceIntervals": [
                        {
                          "durationInSeconds": 1560,
                          "joinDateTime": "2022-1-28T14:57:00.00Z",
                          "leaveDateTime": "2022-1-28T15:23:00.00Z"
                        }
                      ],
                      "identity": {
                        "displayName": "Betty Flor",
                        "id": "4f5e224a-53b8-4bdd-818a-d40eb8a7ef33",
                        "tenantId": ""
                      }
                    },
                    {
                      "totalAttendanceInSeconds": 720,
                      "role": "Student",
                      "emailAddress": "JamesAArizmendi@contoso.org",
                      "attendanceIntervals": [
                        {
                          "durationInSeconds": 720,
                          "joinDateTime": "2022-1-28T14:57:00.00Z",
                          "leaveDateTime": "2022-1-28T15:9:00.00Z"
                        }
                      ],
                      "identity": {
                        "displayName": "James Arizmendi",
                        "id": "3f8a590d-f371-41da-a2cb-7b917a09989c",
                        "tenantId": ""
                      }
                    },
                    {
                      "totalAttendanceInSeconds": 1260,
                      "role": "Student",
                      "emailAddress": "JudithRRouleau@contoso.org",
                      "attendanceIntervals": [
                        {
                          "durationInSeconds": 1260,
                          "joinDateTime": "2022-1-28T14:57:00.00Z",
                          "leaveDateTime": "2022-1-28T15:18:00.00Z"
                        }
                      ],
                      "identity": {
                        "displayName": "Judith Rouleau",
                        "id": "e2227db0-7932-41a5-a032-27a88bbd4945",
                        "tenantId": ""
                      }
                    },
                    {
                      "totalAttendanceInSeconds": 4320,
                      "role": "Student",
                      "emailAddress": "BillyJHouston@contoso.org",
                      "attendanceIntervals": [
                        {
                          "durationInSeconds": 4320,
                          "joinDateTime": "2022-1-28T14:1:00.00Z",
                          "leaveDateTime": "2022-1-28T15:13:00.00Z"
                        }
                      ],
                      "identity": {
                        "displayName": "Billy Houston",
                        "id": "3617e219-f1f7-4d73-bc8f-fdf1ec45a76b",
                        "tenantId": ""
                      }
                    },
                    {
                      "totalAttendanceInSeconds": 1500,
                      "role": "Student",
                      "emailAddress": "RonaldAAdame@contoso.org",
                      "attendanceIntervals": [
                        {
                          "durationInSeconds": 1500,
                          "joinDateTime": "2022-1-28T14:56:00.00Z",
                          "leaveDateTime": "2022-1-28T15:21:00.00Z"
                        }
                      ],
                      "identity": {
                        "displayName": "Ronald Adame",
                        "id": "f705e8e2-8f61-4d56-8473-5583e4f254c2",
                        "tenantId": ""
                      }
                    },
                    {
                      "totalAttendanceInSeconds": 5040,
                      "role": "Student",
                      "emailAddress": "StephanieRLaney@contoso.org",
                      "attendanceIntervals": [
                        {
                          "durationInSeconds": 5040,
                          "joinDateTime": "2022-1-28T14:1:00.00Z",
                          "leaveDateTime": "2022-1-28T15:25:00.00Z"
                        }
                      ],
                      "identity": {
                        "displayName": "Stephanie Laney",
                        "id": "37c7f2e8-aee4-402f-9919-9f6bcbf35788",
                        "tenantId": ""
                      }
                    },
                    {
                      "totalAttendanceInSeconds": 1500,
                      "role": "Student",
                      "emailAddress": "BobbyRElkin@contoso.org",
                      "attendanceIntervals": [
                        {
                          "durationInSeconds": 1500,
                          "joinDateTime": "2022-1-28T14:59:00.00Z",
                          "leaveDateTime": "2022-1-28T15:24:00.00Z"
                        }
                      ],
                      "identity": {
                        "displayName": "Bobby Elkin",
                        "id": "4bacb08e-9c86-4e36-8df6-6f07b10c8522",
                        "tenantId": ""
                      }
                    },
                    {
                      "totalAttendanceInSeconds": 720,
                      "role": "Student",
                      "emailAddress": "BeatriceRShepherd@contoso.org",
                      "attendanceIntervals": [
                        {
                          "durationInSeconds": 720,
                          "joinDateTime": "2022-1-28T14:57:00.00Z",
                          "leaveDateTime": "2022-1-28T15:9:00.00Z"
                        }
                      ],
                      "identity": {
                        "displayName": "Beatrice Shepherd",
                        "id": "0029fab6-a334-4c97-8749-2fa671d228de",
                        "tenantId": ""
                      }
                    },
                    {
                      "totalAttendanceInSeconds": 1200,
                      "role": "Student",
                      "emailAddress": "JimmyJIssa@contoso.org",
                      "attendanceIntervals": [
                        {
                          "durationInSeconds": 1200,
                          "joinDateTime": "2022-1-28T14:56:00.00Z",
                          "leaveDateTime": "2022-1-28T15:16:00.00Z"
                        }
                      ],
                      "identity": {
                        "displayName": "Jimmy Issa",
                        "id": "4946ba7f-7981-43b0-99ec-5fd6575a2efb",
                        "tenantId": ""
                      }
                    },
                    {
                      "totalAttendanceInSeconds": 780,
                      "role": "Student",
                      "emailAddress": "KeenanRDonofrio@contoso.org",
                      "attendanceIntervals": [
                        {
                          "durationInSeconds": 780,
                          "joinDateTime": "2022-1-28T14:58:00.00Z",
                          "leaveDateTime": "2022-1-28T15:11:00.00Z"
                        }
                      ],
                      "identity": {
                        "displayName": "Keenan Donofrio",
                        "id": "87f72739-e21c-4a5a-945b-09e87e34a3c1",
                        "tenantId": ""
                      }
                    },
                    {
                      "totalAttendanceInSeconds": 540,
                      "role": "Student",
                      "emailAddress": "KathyTMack@contoso.org",
                      "attendanceIntervals": [
                        {
                          "durationInSeconds": 540,
                          "joinDateTime": "2022-1-28T14:57:00.00Z",
                          "leaveDateTime": "2022-1-28T15:6:00.00Z"
                        }
                      ],
                      "identity": {
                        "displayName": "Kathy Mack",
                        "id": "ce3f6362-ebae-4d1b-b801-1d5967e9800f",
                        "tenantId": ""
                      }
                    }
                  ],
                  "1": "ae9f3066-0bc9-41eb-a80d-37008121eb76",
                  "2": "2022-1-28T15:25:00.00Z",
                  "3": "2022-1-28T14:55:00.00Z",
                  "4": "35",
                  "5": "2023-01-07 00-19-10"
                }
              ],
              "schema": [
                {
                  "key": "0",
                  "name": "attendanceRecords",
                  "type": "ArrayType(StructType(StructField(attendanceIntervals,ArrayType(StructType(StructField(durationInSeconds,LongType,true), StructField(joinDateTime,StringType,true), StructField(leaveDateTime,StringType,true)),true),true), StructField(emailAddress,StringType,true), StructField(identity,StructType(StructField(displayName,StringType,true), StructField(id,StringType,true), StructField(tenantId,StringType,true)),true), StructField(role,StringType,true), StructField(totalAttendanceInSeconds,LongType,true)),true)"
                },
                {
                  "key": "1",
                  "name": "id",
                  "type": "string"
                },
                {
                  "key": "2",
                  "name": "meetingEndDateTime",
                  "type": "string"
                },
                {
                  "key": "3",
                  "name": "meetingStartDateTime",
                  "type": "string"
                },
                {
                  "key": "4",
                  "name": "totalParticipantCount",
                  "type": "bigint"
                },
                {
                  "key": "5",
                  "name": "rundate",
                  "type": "string"
                }
              ],
              "truncated": false
            },
            "isSummary": false,
            "language": "scala"
          },
          "persist_state": {
            "view": {
              "type": "details",
              "tableOptions": {},
              "chartOptions": {
                "chartType": "bar",
                "aggregationType": "sum",
                "categoryFieldKeys": [
                  "1"
                ],
                "seriesFieldKeys": [
                  "4"
                ],
                "isStacked": false
              }
            }
          }
        },
        "c03bfa66-b3b8-468f-b254-c527396587d7": {
          "type": "Synapse.DataFrame",
          "sync_state": {
            "table": {
              "rows": [
                {
                  "0": "2022-01-07",
                  "1": "2022-01-07",
                  "2": "2022-01-07",
                  "3": "LawrenceSRichmond@contoso.org",
                  "4": "2023-01-07 00-15-23",
                  "5": "7",
                  "6": "false",
                  "7": "true",
                  "8": "false",
                  "9": "false",
                  "10": "false",
                  "11": "false",
                  "12": "false",
                  "13": "false",
                  "14": "false",
                  "15": "false",
                  "16": "true",
                  "17": "false",
                  "18": "false",
                  "19": "false",
                  "20": "false",
                  "21": "false",
                  "22": "false",
                  "23": "false",
                  "24": "false",
                  "25": "true",
                  "26": "false",
                  "27": "false",
                  "28": "false",
                  "29": "true",
                  "30": "false",
                  "31": "false",
                  "32": "true",
                  "33": "false",
                  "34": "true",
                  "35": "false",
                  "36": "false",
                  "37": "false",
                  "38": "false",
                  "39": "true",
                  "40": "LawrenceSRichmond@contoso.org_2022-01-07"
                },
                {
                  "0": "2022-01-01",
                  "1": "2022-01-01",
                  "2": "2022-01-01",
                  "3": "HarryKNguyen@contoso.org",
                  "4": "2023-01-07 00-15-23",
                  "5": "7",
                  "6": "false",
                  "7": "false",
                  "8": "false",
                  "9": "false",
                  "10": "true",
                  "11": "true",
                  "12": "false",
                  "13": "false",
                  "14": "false",
                  "15": "false",
                  "16": "false",
                  "17": "false",
                  "18": "true",
                  "19": "true",
                  "20": "false",
                  "21": "false",
                  "22": "true",
                  "23": "false",
                  "24": "true",
                  "25": "false",
                  "26": "false",
                  "27": "true",
                  "28": "false",
                  "29": "true",
                  "30": "false",
                  "31": "false",
                  "32": "false",
                  "33": "false",
                  "34": "false",
                  "35": "false",
                  "36": "false",
                  "37": "false",
                  "38": "false",
                  "39": "false",
                  "40": "HarryKNguyen@contoso.org_2022-01-01"
                },
                {
                  "0": "2022-01-21",
                  "1": "2022-01-21",
                  "2": "2022-01-21",
                  "3": "GeorgePPetrella@contoso.org",
                  "4": "2023-01-07 00-15-23",
                  "5": "7",
                  "6": "false",
                  "7": "false",
                  "8": "false",
                  "9": "true",
                  "10": "false",
                  "11": "true",
                  "12": "true",
                  "13": "false",
                  "14": "false",
                  "15": "false",
                  "16": "false",
                  "17": "false",
                  "18": "true",
                  "19": "false",
                  "20": "false",
                  "21": "false",
                  "22": "false",
                  "23": "true",
                  "24": "false",
                  "25": "false",
                  "26": "false",
                  "27": "false",
                  "28": "false",
                  "29": "false",
                  "30": "false",
                  "31": "false",
                  "32": "true",
                  "33": "false",
                  "34": "true",
                  "35": "false",
                  "36": "false",
                  "37": "false",
                  "38": "false",
                  "39": "true",
                  "40": "GeorgePPetrella@contoso.org_2022-01-21"
                },
                {
                  "0": "2022-01-23",
                  "1": "2022-01-23",
                  "2": "2022-01-23",
                  "3": "AnnieRScarborough@contoso.org",
                  "4": "2023-01-07 00-15-23",
                  "5": "7",
                  "6": "false",
                  "7": "false",
                  "8": "false",
                  "9": "false",
                  "10": "false",
                  "11": "true",
                  "12": "false",
                  "13": "true",
                  "14": "false",
                  "15": "false",
                  "16": "false",
                  "17": "false",
                  "18": "false",
                  "19": "false",
                  "20": "false",
                  "21": "false",
                  "22": "false",
                  "23": "false",
                  "24": "true",
                  "25": "true",
                  "26": "true",
                  "27": "false",
                  "28": "false",
                  "29": "false",
                  "30": "true",
                  "31": "false",
                  "32": "false",
                  "33": "false",
                  "34": "false",
                  "35": "false",
                  "36": "false",
                  "37": "false",
                  "38": "false",
                  "39": "false",
                  "40": "AnnieRScarborough@contoso.org_2022-01-23"
                },
                {
                  "0": "2022-01-28",
                  "1": "2022-01-28",
                  "2": "2022-01-28",
                  "3": "AndrewEWilson@contoso.org",
                  "4": "2023-01-07 00-15-23",
                  "5": "7",
                  "6": "true",
                  "7": "true",
                  "8": "false",
                  "9": "false",
                  "10": "true",
                  "11": "false",
                  "12": "false",
                  "13": "false",
                  "14": "true",
                  "15": "false",
                  "16": "false",
                  "17": "false",
                  "18": "false",
                  "19": "false",
                  "20": "false",
                  "21": "false",
                  "22": "true",
                  "23": "true",
                  "24": "false",
                  "25": "true",
                  "26": "false",
                  "27": "false",
                  "28": "false",
                  "29": "false",
                  "30": "false",
                  "31": "true",
                  "32": "false",
                  "33": "false",
                  "34": "false",
                  "35": "false",
                  "36": "false",
                  "37": "false",
                  "38": "false",
                  "39": "false",
                  "40": "AndrewEWilson@contoso.org_2022-01-28"
                },
                {
                  "0": "2022-01-01",
                  "1": "2022-01-01",
                  "2": "2022-01-01",
                  "3": "IreneCCooper@contoso.org",
                  "4": "2023-01-07 00-15-23",
                  "5": "7",
                  "6": "true",
                  "7": "false",
                  "8": "false",
                  "9": "true",
                  "10": "false",
                  "11": "false",
                  "12": "true",
                  "13": "true",
                  "14": "false",
                  "15": "true",
                  "16": "false",
                  "17": "false",
                  "18": "false",
                  "19": "true",
                  "20": "true",
                  "21": "false",
                  "22": "false",
                  "23": "true",
                  "24": "false",
                  "25": "true",
                  "26": "false",
                  "27": "true",
                  "28": "true",
                  "29": "true",
                  "30": "false",
                  "31": "false",
                  "32": "true",
                  "33": "true",
                  "34": "false",
                  "35": "false",
                  "36": "true",
                  "37": "false",
                  "38": "false",
                  "39": "false",
                  "40": "IreneCCooper@contoso.org_2022-01-01"
                },
                {
                  "0": "2022-01-25",
                  "1": "2022-01-25",
                  "2": "2022-01-25",
                  "3": "ClaytonKNolan@contoso.org",
                  "4": "2023-01-07 00-15-23",
                  "5": "7",
                  "6": "false",
                  "7": "true",
                  "8": "true",
                  "9": "true",
                  "10": "true",
                  "11": "false",
                  "12": "true",
                  "13": "false",
                  "14": "true",
                  "15": "false",
                  "16": "false",
                  "17": "false",
                  "18": "false",
                  "19": "false",
                  "20": "false",
                  "21": "true",
                  "22": "true",
                  "23": "false",
                  "24": "false",
                  "25": "false",
                  "26": "false",
                  "27": "false",
                  "28": "false",
                  "29": "true",
                  "30": "false",
                  "31": "false",
                  "32": "false",
                  "33": "false",
                  "34": "false",
                  "35": "false",
                  "36": "true",
                  "37": "false",
                  "38": "false",
                  "39": "false",
                  "40": "ClaytonKNolan@contoso.org_2022-01-25"
                },
                {
                  "0": "2022-01-05",
                  "1": "2022-01-05",
                  "2": "2022-01-05",
                  "3": "JillPBriggs@contoso.org",
                  "4": "2023-01-07 00-15-23",
                  "5": "7",
                  "6": "true",
                  "7": "true",
                  "8": "true",
                  "9": "false",
                  "10": "false",
                  "11": "true",
                  "12": "true",
                  "13": "false",
                  "14": "false",
                  "15": "true",
                  "16": "false",
                  "17": "true",
                  "18": "false",
                  "19": "false",
                  "20": "false",
                  "21": "false",
                  "22": "false",
                  "23": "false",
                  "24": "false",
                  "25": "false",
                  "26": "false",
                  "27": "false",
                  "28": "false",
                  "29": "false",
                  "30": "false",
                  "31": "false",
                  "32": "false",
                  "33": "false",
                  "34": "false",
                  "35": "true",
                  "36": "true",
                  "37": "false",
                  "38": "false",
                  "39": "false",
                  "40": "JillPBriggs@contoso.org_2022-01-05"
                },
                {
                  "0": "2022-01-25",
                  "1": "2022-01-25",
                  "2": "2022-01-25",
                  "3": "JimmyJIssa@contoso.org",
                  "4": "2023-01-07 00-15-23",
                  "5": "7",
                  "6": "false",
                  "7": "false",
                  "8": "false",
                  "9": "false",
                  "10": "true",
                  "11": "true",
                  "12": "false",
                  "13": "true",
                  "14": "false",
                  "15": "false",
                  "16": "true",
                  "17": "false",
                  "18": "false",
                  "19": "true",
                  "20": "false",
                  "21": "false",
                  "22": "false",
                  "23": "true",
                  "24": "false",
                  "25": "true",
                  "26": "false",
                  "27": "false",
                  "28": "false",
                  "29": "true",
                  "30": "false",
                  "31": "false",
                  "32": "false",
                  "33": "false",
                  "34": "false",
                  "35": "false",
                  "36": "false",
                  "37": "false",
                  "38": "false",
                  "39": "false",
                  "40": "JimmyJIssa@contoso.org_2022-01-25"
                },
                {
                  "0": "2022-01-30",
                  "1": "2022-01-30",
                  "2": "2022-01-30",
                  "3": "NormaWDenton@contoso.org",
                  "4": "2023-01-07 00-15-23",
                  "5": "7",
                  "6": "false",
                  "7": "true",
                  "8": "false",
                  "9": "false",
                  "10": "false",
                  "11": "false",
                  "12": "true",
                  "13": "false",
                  "14": "true",
                  "15": "false",
                  "16": "false",
                  "17": "false",
                  "18": "false",
                  "19": "false",
                  "20": "false",
                  "21": "false",
                  "22": "false",
                  "23": "true",
                  "24": "false",
                  "25": "false",
                  "26": "false",
                  "27": "false",
                  "28": "false",
                  "29": "true",
                  "30": "false",
                  "31": "false",
                  "32": "true",
                  "33": "false",
                  "34": "false",
                  "35": "false",
                  "36": "false",
                  "37": "true",
                  "38": "false",
                  "39": "false",
                  "40": "NormaWDenton@contoso.org_2022-01-30"
                }
              ],
              "schema": [
                {
                  "key": "0",
                  "name": "lastActivationDate",
                  "type": "string"
                },
                {
                  "key": "1",
                  "name": "lastActivityDate",
                  "type": "string"
                },
                {
                  "key": "2",
                  "name": "reportRefreshDate",
                  "type": "string"
                },
                {
                  "key": "3",
                  "name": "userPrincipalName",
                  "type": "string"
                },
                {
                  "key": "4",
                  "name": "rundate",
                  "type": "string"
                },
                {
                  "key": "5",
                  "name": "reportPeriod",
                  "type": "string"
                },
                {
                  "key": "6",
                  "name": "mobile",
                  "type": "boolean"
                },
                {
                  "key": "7",
                  "name": "web",
                  "type": "boolean"
                },
                {
                  "key": "8",
                  "name": "mac",
                  "type": "boolean"
                },
                {
                  "key": "9",
                  "name": "windows",
                  "type": "boolean"
                },
                {
                  "key": "10",
                  "name": "excel",
                  "type": "boolean"
                },
                {
                  "key": "11",
                  "name": "excelMobile",
                  "type": "boolean"
                },
                {
                  "key": "12",
                  "name": "excelWeb",
                  "type": "boolean"
                },
                {
                  "key": "13",
                  "name": "excelMac",
                  "type": "boolean"
                },
                {
                  "key": "14",
                  "name": "excelWindows",
                  "type": "boolean"
                },
                {
                  "key": "15",
                  "name": "oneNote",
                  "type": "boolean"
                },
                {
                  "key": "16",
                  "name": "oneNoteMobile",
                  "type": "boolean"
                },
                {
                  "key": "17",
                  "name": "oneNoteWeb",
                  "type": "boolean"
                },
                {
                  "key": "18",
                  "name": "oneNoteMac",
                  "type": "boolean"
                },
                {
                  "key": "19",
                  "name": "oneNoteWindows",
                  "type": "boolean"
                },
                {
                  "key": "20",
                  "name": "outlook",
                  "type": "boolean"
                },
                {
                  "key": "21",
                  "name": "outlookMobile",
                  "type": "boolean"
                },
                {
                  "key": "22",
                  "name": "outlookWeb",
                  "type": "boolean"
                },
                {
                  "key": "23",
                  "name": "outlookMac",
                  "type": "boolean"
                },
                {
                  "key": "24",
                  "name": "outlookWindows",
                  "type": "boolean"
                },
                {
                  "key": "25",
                  "name": "powerPoint",
                  "type": "boolean"
                },
                {
                  "key": "26",
                  "name": "powerPointMobile",
                  "type": "boolean"
                },
                {
                  "key": "27",
                  "name": "powerPointWeb",
                  "type": "boolean"
                },
                {
                  "key": "28",
                  "name": "powerPointMac",
                  "type": "boolean"
                },
                {
                  "key": "29",
                  "name": "powerPointWindows",
                  "type": "boolean"
                },
                {
                  "key": "30",
                  "name": "teams",
                  "type": "boolean"
                },
                {
                  "key": "31",
                  "name": "teamsMobile",
                  "type": "boolean"
                },
                {
                  "key": "32",
                  "name": "teamsWeb",
                  "type": "boolean"
                },
                {
                  "key": "33",
                  "name": "teamsMac",
                  "type": "boolean"
                },
                {
                  "key": "34",
                  "name": "teamsWindows",
                  "type": "boolean"
                },
                {
                  "key": "35",
                  "name": "word",
                  "type": "boolean"
                },
                {
                  "key": "36",
                  "name": "wordMobile",
                  "type": "boolean"
                },
                {
                  "key": "37",
                  "name": "wordWeb",
                  "type": "boolean"
                },
                {
                  "key": "38",
                  "name": "wordMac",
                  "type": "boolean"
                },
                {
                  "key": "39",
                  "name": "wordWindows",
                  "type": "boolean"
                },
                {
                  "key": "40",
                  "name": "m365Activity_pk",
                  "type": "string"
                }
              ],
              "truncated": false
            },
            "isSummary": false,
            "language": "scala"
          },
          "persist_state": {
            "view": {
              "type": "details",
              "tableOptions": {},
              "chartOptions": {
                "chartType": "bar",
                "aggregationType": "count",
                "categoryFieldKeys": [
                  "0"
                ],
                "seriesFieldKeys": [
                  "0"
                ],
                "isStacked": false
              }
            }
          }
        },
        "f92c2f7d-0b08-431e-a1ac-8816d2f2d674": {
          "type": "Synapse.DataFrame",
          "sync_state": {
            "table": {
              "rows": [
                {
                  "0": "249141d8-1013-4b0e-b407-b37d90221f77722e89eb-9350-4284-8252-7817ab5f8119",
                  "1": "249141d8-1013-4b0e-b407-b37d90221f77",
                  "2": "2022-01-07 16:30:00",
                  "3": "2022-01-07 17:00:00",
                  "4": "45",
                  "5": "722e89eb-9350-4284-8252-7817ab5f8119",
                  "6": "Alison Koch",
                  "7": "AlisonAKoch@contoso.org",
                  "8": "",
                  "9": "Student",
                  "10": "4860",
                  "11": "2022-01-07 16:35:00",
                  "12": "2022-01-07 17:56:00",
                  "13": "4860",
                  "14": "2023-01-07 00-19-10"
                },
                {
                  "0": "3e60eeec-9c37-42c5-8f6e-455348d1c25b5720de86-3f4d-4a66-91be-456c51fb3f6f",
                  "1": "3e60eeec-9c37-42c5-8f6e-455348d1c25b",
                  "2": "2022-01-25 16:30:00",
                  "3": "2022-01-25 18:30:00",
                  "4": "49",
                  "5": "5720de86-3f4d-4a66-91be-456c51fb3f6f",
                  "6": "James Hargrove",
                  "7": "JamesAHargrove@contoso.org",
                  "8": "",
                  "9": "Student",
                  "10": "6360",
                  "11": "2022-01-25 16:30:00",
                  "12": "2022-01-25 18:16:00",
                  "13": "6360",
                  "14": "2023-01-07 00-19-10"
                },
                {
                  "0": "106298a5-87c2-42b6-93fb-58681b3cf3dac79b1b6c-b63f-4a44-a4cc-73780b4b4e93",
                  "1": "106298a5-87c2-42b6-93fb-58681b3cf3da",
                  "2": "2022-01-07 09:30:00",
                  "3": "2022-01-07 10:45:00",
                  "4": "35",
                  "5": "c79b1b6c-b63f-4a44-a4cc-73780b4b4e93",
                  "6": "James Lees",
                  "7": "JamesLLees@contoso.org",
                  "8": "",
                  "9": "Student",
                  "10": "3300",
                  "11": "2022-01-07 09:35:00",
                  "12": "2022-01-07 10:30:00",
                  "13": "3300",
                  "14": "2023-01-07 00-19-10"
                },
                {
                  "0": "9ac5819a-9896-4331-b284-35d1b0549909560635b6-42ea-432c-b7e2-891e6f86dd3d",
                  "1": "9ac5819a-9896-4331-b284-35d1b0549909",
                  "2": "2022-01-07 07:55:00",
                  "3": "2022-01-07 08:55:00",
                  "4": "52",
                  "5": "560635b6-42ea-432c-b7e2-891e6f86dd3d",
                  "6": "Beth Barker",
                  "7": "BethLBarker@contoso.org",
                  "8": "",
                  "9": "Student",
                  "10": "2640",
                  "11": "2022-01-07 07:59:00",
                  "12": "2022-01-07 08:43:00",
                  "13": "2640",
                  "14": "2023-01-07 00-19-10"
                },
                {
                  "0": "d97e52ef-3372-4d07-b9f4-0c68b1e04b589c8f7043-ddde-48a6-bed6-836d1ed13461",
                  "1": "d97e52ef-3372-4d07-b9f4-0c68b1e04b58",
                  "2": "2022-01-14 08:00:00",
                  "3": "2022-01-14 08:45:00",
                  "4": "40",
                  "5": "9c8f7043-ddde-48a6-bed6-836d1ed13461",
                  "6": "Deanne Twitty",
                  "7": "DeanneJTwitty@contoso.org",
                  "8": "",
                  "9": "Student",
                  "10": "1860",
                  "11": "2022-01-14 08:00:00",
                  "12": "2022-01-14 08:31:00",
                  "13": "1860",
                  "14": "2023-01-07 00-19-10"
                },
                {
                  "0": "3a470045-c592-40e7-a11b-9fa8e5703352aefdd6a7-b88f-4a7b-a15c-e4129e72c71c",
                  "1": "3a470045-c592-40e7-a11b-9fa8e5703352",
                  "2": "2022-01-05 08:30:00",
                  "3": "2022-01-05 09:00:00",
                  "4": "43",
                  "5": "aefdd6a7-b88f-4a7b-a15c-e4129e72c71c",
                  "6": "Mary Nilson",
                  "7": "MaryCNilson@contoso.org",
                  "8": "",
                  "9": "Student",
                  "10": "4200",
                  "11": "2022-01-05 08:31:00",
                  "12": "2022-01-05 09:41:00",
                  "13": "4200",
                  "14": "2023-01-07 00-19-10"
                },
                {
                  "0": "b9880c8d-48c2-4098-a0c8-2af241d84c62dfe63989-15b3-4ac1-b315-4499bd89d4fc",
                  "1": "b9880c8d-48c2-4098-a0c8-2af241d84c62",
                  "2": "2022-01-21 11:55:00",
                  "3": "2022-01-21 12:40:00",
                  "4": "39",
                  "5": "dfe63989-15b3-4ac1-b315-4499bd89d4fc",
                  "6": "Casey Lehmann",
                  "7": "CaseyWLehmann@contoso.org",
                  "8": "",
                  "9": "Student",
                  "10": "1500",
                  "11": "2022-01-21 11:59:00",
                  "12": "2022-01-21 12:24:00",
                  "13": "1500",
                  "14": "2023-01-07 00-19-10"
                },
                {
                  "0": "1d651b16-b3a8-496c-9d16-ce11efef9df56de86cd5-570d-449b-a83a-38c222be30e9",
                  "1": "1d651b16-b3a8-496c-9d16-ce11efef9df5",
                  "2": "2022-01-18 10:30:00",
                  "3": "2022-01-18 11:30:00",
                  "4": "41",
                  "5": "6de86cd5-570d-449b-a83a-38c222be30e9",
                  "6": "Mildred Dent",
                  "7": "MildredADent@contoso.org",
                  "8": "",
                  "9": "Student",
                  "10": "2400",
                  "11": "2022-01-18 10:35:00",
                  "12": "2022-01-18 11:15:00",
                  "13": "2400",
                  "14": "2023-01-07 00-19-10"
                },
                {
                  "0": "edda3516-f930-4df1-804a-e68b064a304539f7e498-95ba-4794-94f4-3c54e02114bd",
                  "1": "edda3516-f930-4df1-804a-e68b064a3045",
                  "2": "2022-01-17 16:15:00",
                  "3": "2022-01-17 17:30:00",
                  "4": "45",
                  "5": "39f7e498-95ba-4794-94f4-3c54e02114bd",
                  "6": "Bibi Erickson",
                  "7": "BibiJErickson@contoso.org",
                  "8": "",
                  "9": "Student",
                  "10": "3540",
                  "11": "2022-01-17 16:16:00",
                  "12": "2022-01-17 17:15:00",
                  "13": "3540",
                  "14": "2023-01-07 00-19-10"
                },
                {
                  "0": "c521230f-8ae3-4ad0-8cbc-63efd75e877a450730d4-1591-4d45-976d-4c73b2218441",
                  "1": "c521230f-8ae3-4ad0-8cbc-63efd75e877a",
                  "2": "2022-01-11 12:15:00",
                  "3": "2022-01-11 13:45:00",
                  "4": "37",
                  "5": "450730d4-1591-4d45-976d-4c73b2218441",
                  "6": "Walter Ross",
                  "7": "WalterRRoss@contoso.org",
                  "8": "",
                  "9": "Student",
                  "10": "4860",
                  "11": "2022-01-11 12:18:00",
                  "12": "2022-01-11 13:39:00",
                  "13": "4860",
                  "14": "2023-01-07 00-19-10"
                }
              ],
              "schema": [
                {
                  "key": "0",
                  "name": "meetingUserId_pk",
                  "type": "string"
                },
                {
                  "key": "1",
                  "name": "meetingId",
                  "type": "string"
                },
                {
                  "key": "2",
                  "name": "meetingStartDateTime",
                  "type": "timestamp"
                },
                {
                  "key": "3",
                  "name": "meetingEndDateTime",
                  "type": "timestamp"
                },
                {
                  "key": "4",
                  "name": "totalParticipantCount",
                  "type": "bigint"
                },
                {
                  "key": "5",
                  "name": "userId",
                  "type": "string"
                },
                {
                  "key": "6",
                  "name": "userDisplayName",
                  "type": "string"
                },
                {
                  "key": "7",
                  "name": "userEmailAddress",
                  "type": "string"
                },
                {
                  "key": "8",
                  "name": "userTenantId",
                  "type": "string"
                },
                {
                  "key": "9",
                  "name": "role",
                  "type": "string"
                },
                {
                  "key": "10",
                  "name": "totalAttendanceInSec",
                  "type": "bigint"
                },
                {
                  "key": "11",
                  "name": "attendanceInterval_joinDateTime",
                  "type": "timestamp"
                },
                {
                  "key": "12",
                  "name": "attendanceInterval_leaveDateTime",
                  "type": "timestamp"
                },
                {
                  "key": "13",
                  "name": "attendanceInterval_durationInSec",
                  "type": "bigint"
                },
                {
                  "key": "14",
                  "name": "rundate",
                  "type": "string"
                }
              ],
              "truncated": false
            },
            "isSummary": false,
            "language": "scala"
          },
          "persist_state": {
            "view": {
              "type": "details",
              "tableOptions": {},
              "chartOptions": {
                "chartType": "bar",
                "aggregationType": "sum",
                "categoryFieldKeys": [
                  "0"
                ],
                "seriesFieldKeys": [
                  "4"
                ],
                "isStacked": false
              }
            }
          }
        },
        "5f145313-e065-4480-8df1-80155aec6f4b": {
          "type": "Synapse.DataFrame",
          "sync_state": {
            "table": {
              "rows": [
                {
                  "0": "1",
                  "1": "3",
                  "2": "OFFICE 365 A1 FOR STUDENTS",
                  "3": "0",
                  "4": "3",
                  "5": "",
                  "6": "false",
                  "7": "false",
                  "8": "true",
                  "9": "2022-01-22",
                  "10": "5",
                  "11": "5",
                  "12": "2",
                  "13": "1",
                  "14": "7",
                  "15": "2022-01-22",
                  "16": "4",
                  "17": "2",
                  "18": "7",
                  "19": "3",
                  "20": "0",
                  "21": "15",
                  "22": "5f5b28edf22bd10713718885e6b6b93b92eead457eba8d530f7ca9a2cff5b46d",
                  "23": "70",
                  "24": "2023-01-07 00-15-23",
                  "25": "ed82da9ab19b03e0f93fe827c4afd9894a7307fb0760f6af5e8e6ca1c9aa9505"
                },
                {
                  "0": "2",
                  "1": "2",
                  "2": "OFFICE 365 A1 FOR STUDENTS",
                  "3": "30",
                  "4": "1",
                  "5": "",
                  "6": "false",
                  "7": "false",
                  "8": "true",
                  "9": "2022-01-30",
                  "10": "3",
                  "11": "3",
                  "12": "7",
                  "13": "12",
                  "14": "7",
                  "15": "2022-01-30",
                  "16": "0",
                  "17": "6",
                  "18": "5",
                  "19": "0",
                  "20": "70",
                  "21": "2",
                  "22": "c0c95ce0f573a3ee53a44de02f7e1b8996b0a9f519fe29341606a29e05ced779",
                  "23": "30",
                  "24": "2023-01-07 00-15-23",
                  "25": "1e0fc460a50ad79d1bcd98908ec8bda892c3da074c4827c94bb34f72c1582bea"
                },
                {
                  "0": "2",
                  "1": "2",
                  "2": "OFFICE 365 A1 FOR STUDENTS",
                  "3": "130",
                  "4": "5",
                  "5": "",
                  "6": "false",
                  "7": "false",
                  "8": "true",
                  "9": "2022-01-08",
                  "10": "6",
                  "11": "3",
                  "12": "2",
                  "13": "5",
                  "14": "7",
                  "15": "2022-01-08",
                  "16": "7",
                  "17": "0",
                  "18": "0",
                  "19": "0",
                  "20": "130",
                  "21": "17",
                  "22": "ed8e4143f03d3624d7f077821ea24813641aed3e53f40f5e42538d163722302a",
                  "23": "0",
                  "24": "2023-01-07 00-15-23",
                  "25": "43e7ea69e875fedd25d6592410bc7915ad464b293b977f23780b6d3398414126"
                },
                {
                  "0": "3",
                  "1": "2",
                  "2": "OFFICE 365 A1 FOR STUDENTS",
                  "3": "70",
                  "4": "1",
                  "5": "",
                  "6": "false",
                  "7": "false",
                  "8": "true",
                  "9": "2022-01-18",
                  "10": "1",
                  "11": "2",
                  "12": "6",
                  "13": "10",
                  "14": "7",
                  "15": "2022-01-18",
                  "16": "1",
                  "17": "1",
                  "18": "7",
                  "19": "0",
                  "20": "130",
                  "21": "8",
                  "22": "64f8cb8abb4b7032b8bdda479b59113d93e6b2a34c668a2822e950f22b42c395",
                  "23": "0",
                  "24": "2023-01-07 00-15-23",
                  "25": "05fe03c0d30c6b3e9f56d5d5c80882acd4f924b6a4ace020be49fd1ebcba20d6"
                },
                {
                  "0": "0",
                  "1": "0",
                  "2": "OFFICE 365 A1 FOR STUDENTS",
                  "3": "70",
                  "4": "6",
                  "5": "",
                  "6": "false",
                  "7": "false",
                  "8": "true",
                  "9": "2022-01-11",
                  "10": "5",
                  "11": "0",
                  "12": "4",
                  "13": "20",
                  "14": "7",
                  "15": "2022-01-11",
                  "16": "4",
                  "17": "7",
                  "18": "2",
                  "19": "3",
                  "20": "30",
                  "21": "2",
                  "22": "7ff2316ea1c0b780d7eb605a89be0f45dabd5659a4ef68d68375034e6ab57f89",
                  "23": "30",
                  "24": "2023-01-07 00-15-23",
                  "25": "6b963031788354d861b6e2099435d4ef6d31d2ccafc0861e347d5508224253fa"
                },
                {
                  "0": "2",
                  "1": "2",
                  "2": "OFFICE 365 A1 FOR STUDENTS",
                  "3": "70",
                  "4": "2",
                  "5": "",
                  "6": "false",
                  "7": "false",
                  "8": "true",
                  "9": "2022-01-13",
                  "10": "7",
                  "11": "5",
                  "12": "1",
                  "13": "6",
                  "14": "7",
                  "15": "2022-01-13",
                  "16": "5",
                  "17": "7",
                  "18": "1",
                  "19": "0",
                  "20": "130",
                  "21": "18",
                  "22": "966163caf04039b9495c4778bcb6bc5e34955b7611eb28c8b8e6e63e779b5fbd",
                  "23": "30",
                  "24": "2023-01-07 00-15-23",
                  "25": "142dfbd38c9da024d877a80737d6b4e1bff35d12304a87f82ee3f27fc37bcb42"
                },
                {
                  "0": "1",
                  "1": "2",
                  "2": "OFFICE 365 A1 FOR STUDENTS",
                  "3": "0",
                  "4": "7",
                  "5": "",
                  "6": "false",
                  "7": "false",
                  "8": "true",
                  "9": "2022-01-06",
                  "10": "7",
                  "11": "4",
                  "12": "0",
                  "13": "2",
                  "14": "7",
                  "15": "2022-01-06",
                  "16": "7",
                  "17": "5",
                  "18": "7",
                  "19": "2",
                  "20": "0",
                  "21": "11",
                  "22": "7200902c1a453c9b7ee75ed3d6235b2692e26037f92abc1ad94f0b8772a737f5",
                  "23": "0",
                  "24": "2023-01-07 00-15-23",
                  "25": "1356c9bd721a56c6d17e21c49951d29685b6f8824c501d08eba3792e1f159198"
                },
                {
                  "0": "3",
                  "1": "3",
                  "2": "OFFICE 365 A1 FOR STUDENTS",
                  "3": "0",
                  "4": "6",
                  "5": "",
                  "6": "false",
                  "7": "false",
                  "8": "true",
                  "9": "2022-01-10",
                  "10": "7",
                  "11": "6",
                  "12": "1",
                  "13": "1",
                  "14": "7",
                  "15": "2022-01-10",
                  "16": "4",
                  "17": "2",
                  "18": "6",
                  "19": "3",
                  "20": "30",
                  "21": "14",
                  "22": "82229070c45ec67f0c83010b1f5ac514d7bc967d782b31c469d683b33bafb42b",
                  "23": "30",
                  "24": "2023-01-07 00-15-23",
                  "25": "f5f684c3436d06f273ac87299d1a4582384184b01c25b396175c257bd8205e9f"
                },
                {
                  "0": "1",
                  "1": "2",
                  "2": "OFFICE 365 A1 FOR STUDENTS",
                  "3": "130",
                  "4": "7",
                  "5": "",
                  "6": "false",
                  "7": "false",
                  "8": "true",
                  "9": "2022-01-22",
                  "10": "5",
                  "11": "3",
                  "12": "0",
                  "13": "6",
                  "14": "7",
                  "15": "2022-01-22",
                  "16": "0",
                  "17": "7",
                  "18": "4",
                  "19": "1",
                  "20": "130",
                  "21": "10",
                  "22": "454b531ff0790f7a980adca0fc1ff5251f8ab3dce30ea5d313c0c85d4cde3c4e",
                  "23": "130",
                  "24": "2023-01-07 00-15-23",
                  "25": "be7d8eeb1c1d2d52113603ff9ba7225f21f8bbb9341138fd40ddb2d248f5f085"
                },
                {
                  "0": "2",
                  "1": "3",
                  "2": "OFFICE 365 A1 FOR STUDENTS",
                  "3": "70",
                  "4": "1",
                  "5": "",
                  "6": "false",
                  "7": "false",
                  "8": "true",
                  "9": "2022-01-17",
                  "10": "2",
                  "11": "6",
                  "12": "7",
                  "13": "3",
                  "14": "7",
                  "15": "2022-01-17",
                  "16": "7",
                  "17": "3",
                  "18": "6",
                  "19": "1",
                  "20": "130",
                  "21": "17",
                  "22": "fc25d750fd34ea14708bb2eb9f2bf48425d53ab8afb5ca6d09c3b691493df4a3",
                  "23": "0",
                  "24": "2023-01-07 00-15-23",
                  "25": "cbf2688a5f87dec282416823af2c0ddd6bffe55bbf050a8b3d49006832737697"
                }
              ],
              "schema": [
                {
                  "key": "0",
                  "name": "adHocMeetingsAttendedCount",
                  "type": "int"
                },
                {
                  "key": "1",
                  "name": "adHocMeetingsOrganizedCount",
                  "type": "int"
                },
                {
                  "key": "2",
                  "name": "assignedProducts",
                  "type": "string"
                },
                {
                  "key": "3",
                  "name": "audioDuration",
                  "type": "string"
                },
                {
                  "key": "4",
                  "name": "callCount",
                  "type": "int"
                },
                {
                  "key": "5",
                  "name": "deletedDate",
                  "type": "string"
                },
                {
                  "key": "6",
                  "name": "hasOtherAction",
                  "type": "boolean"
                },
                {
                  "key": "7",
                  "name": "isDeleted",
                  "type": "boolean"
                },
                {
                  "key": "8",
                  "name": "isLicensed",
                  "type": "boolean"
                },
                {
                  "key": "9",
                  "name": "lastActivityDate",
                  "type": "date"
                },
                {
                  "key": "10",
                  "name": "meetingCount",
                  "type": "int"
                },
                {
                  "key": "11",
                  "name": "meetingsAttendedCount",
                  "type": "int"
                },
                {
                  "key": "12",
                  "name": "meetingsOrganizedCount",
                  "type": "int"
                },
                {
                  "key": "13",
                  "name": "privateChatMessageCount",
                  "type": "int"
                },
                {
                  "key": "14",
                  "name": "reportPeriod",
                  "type": "string"
                },
                {
                  "key": "15",
                  "name": "reportRefreshDate",
                  "type": "date"
                },
                {
                  "key": "16",
                  "name": "scheduledOneTimeMeetingsAttendedCount",
                  "type": "int"
                },
                {
                  "key": "17",
                  "name": "scheduledOneTimeMeetingsOrganizedCount",
                  "type": "int"
                },
                {
                  "key": "18",
                  "name": "scheduledRecurringMeetingsAttendedCount",
                  "type": "int"
                },
                {
                  "key": "19",
                  "name": "scheduledRecurringMeetingsOrganizedCount",
                  "type": "int"
                },
                {
                  "key": "20",
                  "name": "screenShareDuration",
                  "type": "string"
                },
                {
                  "key": "21",
                  "name": "teamChatMessageCount",
                  "type": "int"
                },
                {
                  "key": "22",
                  "name": "userPrincipalName_pseudonym",
                  "type": "string"
                },
                {
                  "key": "23",
                  "name": "videoDuration",
                  "type": "string"
                },
                {
                  "key": "24",
                  "name": "rundate",
                  "type": "string"
                },
                {
                  "key": "25",
                  "name": "teamsActivity_pk_pseudonym",
                  "type": "string"
                }
              ],
              "truncated": false
            },
            "isSummary": false,
            "language": "scala"
          },
          "persist_state": {
            "view": {
              "type": "details",
              "tableOptions": {},
              "chartOptions": {
                "chartType": "bar",
                "aggregationType": "sum",
                "categoryFieldKeys": [
                  "1"
                ],
                "seriesFieldKeys": [
                  "0"
                ],
                "isStacked": false
              }
            }
          }
        },
        "3dc84d8a-88cf-44e2-845d-785a6986f7e2": {
          "type": "Synapse.DataFrame",
          "sync_state": {
            "table": {
              "rows": [
                {
                  "0": "Ola",
                  "1": "ce34fd70cf9642ce9640ecbdb3e9ac64",
                  "2": "Strauser",
                  "3": "OlaWStrauser@contoso.org",
                  "4": "7a2ed812e981cdc8df29ebaed242c29fb3960bb0f64cc61007b2899c83a3241f",
                  "5": "6036cf905ccad89bde2ede7f74339dff7ef1ef3020c9d4f4e53865253e14b759"
                },
                {
                  "0": "Gilberto",
                  "1": "f20a8aaf21fe4e619837cabfb2bbd102",
                  "2": "Toth",
                  "3": "GilbertoEToth@contoso.org",
                  "4": "9746fe8bea5e09000cc4093aad2ab9361dccd56b7ebf5f927a436f9a85de5788",
                  "5": "4389c694dfc1a317d97d1b71fcbba79016b8510908d7f959ef846dd934f9b954"
                },
                {
                  "0": "Alexia",
                  "1": "8ee00dd814cc4e28bc8445170fdfeb49",
                  "2": "Jamison",
                  "3": "AlexiaTJamison@contoso.org",
                  "4": "c2223ab83ae8051b050fabd7b4c9b49647d2ca8728b1a8def5b47a3465d35055",
                  "5": "8e4c10451c1815e7822065a538d93ccbb9d9c4f8dd6184e5a120a08bb2b1003a"
                },
                {
                  "0": "Debbie",
                  "1": "bf47a50bae154851961d685226bec103",
                  "2": "Blackwell",
                  "3": "DebbieBBlackwell@contoso.org",
                  "4": "37e4eae6a427759437a7005de3aab0efe11a3216bf7a97d251c1d25edcff7c7c",
                  "5": "16da891b23d03a708bcc77419ab0da05ce71b3d6e79f23a65ea342dbf1c8148a"
                },
                {
                  "0": "Miriam",
                  "1": "1385f70269bd4494999f90cacc179985",
                  "2": "Gray",
                  "3": "MiriamEGray@contoso.org",
                  "4": "17ad3aef570ec99aec11f0d59e3a14b30cc6497dd20cc34deda7d406e48626ff",
                  "5": "08b4a96bf9262df00581967337d47688ed69045517e4ff549a4c6fdf72a3930d"
                },
                {
                  "0": "Linda",
                  "1": "0ad5c34b4ee84d85b0e8226a9a2fa670",
                  "2": "Clark",
                  "3": "LindaFClark@contoso.org",
                  "4": "7028ae9a05ffae47cfb5f123f954a05ff34988d3990676253bcd04ad702c28c1",
                  "5": "a0fcb6094b2f31a6c156bdf69604d1cab85cae25e23610201528e7d228f8ab10"
                },
                {
                  "0": "Reginald",
                  "1": "7c1fb9d16c774952ba826b883d100034",
                  "2": "Hatch",
                  "3": "ReginaldAHatch@contoso.org",
                  "4": "c58ef8d234fc4be5ad5b9f617d8c09c3b2466e8e0059af0a18b8e42aa2de60c3",
                  "5": "b75d4c469e1ef3e9eb897fc48c9f778943de33befb05bff707475a009a49a2c2"
                },
                {
                  "0": "Eleanor",
                  "1": "b6321683c2f54185807360636fa4003a",
                  "2": "Stringfellow",
                  "3": "EleanorMStringfellow@contoso.org",
                  "4": "7fd62d74cc14fc1808617d3f3c9d7cd13fc97f9cd652d562aa62283895d8ea84",
                  "5": "33079d2498d4b160d5d97a3425bf688025eba1cb1f97ab7c31b7bfc6a62e94b8"
                },
                {
                  "0": "Alfredo",
                  "1": "c327b7dac34444a28121118e6de2a05a",
                  "2": "Crisman",
                  "3": "AlfredoHCrisman@contoso.org",
                  "4": "dcc9e710550f0331e3ca1cfae1456d2093086714a339b9e8ed4fe3cc3d0d4e8c",
                  "5": "47fa0afce1d3f0a43761e424db3af9f0d0fb86729966fcf7fc510589236266f3"
                },
                {
                  "0": "Tricia",
                  "1": "08e87300b4d54fb283d8c9d7ef71f791",
                  "2": "Huddleston",
                  "3": "TriciaCHuddleston@contoso.org",
                  "4": "e6c96cc813c016c2645a8fd537810397aab0129dd904723635e9f1c76bfd660b",
                  "5": "8d5099104a8cebae7a6084587b894aed0e19b3672890a5f3d1b72eb122e7ff2d"
                }
              ],
              "schema": [
                {
                  "key": "0",
                  "name": "givenName",
                  "type": "string"
                },
                {
                  "key": "1",
                  "name": "id",
                  "type": "string"
                },
                {
                  "key": "2",
                  "name": "surname",
                  "type": "string"
                },
                {
                  "key": "3",
                  "name": "userPrincipalName",
                  "type": "string"
                },
                {
                  "key": "4",
                  "name": "userPrincipalName_pseudonym",
                  "type": "string"
                },
                {
                  "key": "5",
                  "name": "id_pseudonym",
                  "type": "string"
                }
              ],
              "truncated": false
            },
            "isSummary": false,
            "language": "scala"
          },
          "persist_state": {
            "view": {
              "type": "details",
              "tableOptions": {},
              "chartOptions": {
                "chartType": "bar",
                "aggregationType": "count",
                "categoryFieldKeys": [
                  "0"
                ],
                "seriesFieldKeys": [
                  "0"
                ],
                "isStacked": false
              }
            }
          }
        },
        "785d0424-eabf-41de-bed1-d00a4c16533c": {
          "type": "Synapse.DataFrame",
          "sync_state": {
            "table": {
              "rows": [
                {
                  "0": "2022-01-23",
                  "1": "7",
                  "2": "70",
                  "3": "130",
                  "4": "70",
                  "5": "GilbertoEToth@contoso.org"
                },
                {
                  "0": "2022-01-01",
                  "1": "7",
                  "2": "70",
                  "3": "130",
                  "4": "30",
                  "5": "LindaFClark@contoso.org"
                },
                {
                  "0": "2022-01-14",
                  "1": "7",
                  "2": "0",
                  "3": "130",
                  "4": "30",
                  "5": "ReginaldAHatch@contoso.org"
                },
                {
                  "0": "2022-01-09",
                  "1": "7",
                  "2": "130",
                  "3": "130",
                  "4": "130",
                  "5": "MarleneSSenn@contoso.org"
                },
                {
                  "0": "2022-01-21",
                  "1": "7",
                  "2": "70",
                  "3": "30",
                  "4": "130",
                  "5": "FreddieKLove@contoso.org"
                },
                {
                  "0": "2022-01-12",
                  "1": "7",
                  "2": "30",
                  "3": "30",
                  "4": "0",
                  "5": "FreddieKLove@contoso.org"
                },
                {
                  "0": "2022-01-16",
                  "1": "7",
                  "2": "130",
                  "3": "0",
                  "4": "0",
                  "5": "FreddieKLove@contoso.org"
                },
                {
                  "0": "2022-01-11",
                  "1": "7",
                  "2": "0",
                  "3": "70",
                  "4": "30",
                  "5": "GeorgePStice@contoso.org"
                },
                {
                  "0": "2022-01-13",
                  "1": "7",
                  "2": "30",
                  "3": "130",
                  "4": "30",
                  "5": "GeorgePStice@contoso.org"
                },
                {
                  "0": "2022-01-11",
                  "1": "7",
                  "2": "130",
                  "3": "0",
                  "4": "30",
                  "5": "ClaudiaWDesai@contoso.org"
                }
              ],
              "schema": [
                {
                  "key": "0",
                  "name": "reportRefreshDate",
                  "type": "date"
                },
                {
                  "key": "1",
                  "name": "reportPeriod",
                  "type": "string"
                },
                {
                  "key": "2",
                  "name": "audioDuration",
                  "type": "string"
                },
                {
                  "key": "3",
                  "name": "screenShareDuration",
                  "type": "string"
                },
                {
                  "key": "4",
                  "name": "videoDuration",
                  "type": "string"
                },
                {
                  "key": "5",
                  "name": "userPrincipalName",
                  "type": "string"
                }
              ],
              "truncated": false
            },
            "isSummary": false,
            "language": "scala"
          },
          "persist_state": {
            "view": {
              "type": "details",
              "tableOptions": {},
              "chartOptions": {
                "chartType": "bar",
                "aggregationType": "count",
                "categoryFieldKeys": [
                  "0"
                ],
                "seriesFieldKeys": [
                  "0"
                ],
                "isStacked": false
              }
            }
          }
        }
      }
    }
  },
  "nbformat": 4,
  "nbformat_minor": 2
}