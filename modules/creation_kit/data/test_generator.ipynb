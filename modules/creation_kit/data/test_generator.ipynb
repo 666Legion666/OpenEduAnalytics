{
  "cells": [
    {
      "cell_type": "markdown",
      "source": [
        "# Test Generator"
      ],
      "metadata": {
        "nteract": {
          "transient": {
            "deleting": false
          }
        }
      }
    }
  ],
  "metadata": {
    "language_info": {
      "name": "python"
    },
    "kernelspec": {
      "name": "synapse_pyspark",
      "display_name": "python"
    },
    "save_output": true,
    "synapse_widget": {
      "version": "0.1",
      "state": {}
    }
  },
  "nbformat": 4,
  "nbformat_minor": 2
}