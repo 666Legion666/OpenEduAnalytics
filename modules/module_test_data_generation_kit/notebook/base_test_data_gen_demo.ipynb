{
  "cells": [
    {
      "cell_type": "markdown",
      "source": [
        "# Test Data Generation: Base-Truth Tables Demonstration Notebook\r\n",
        "\r\n",
        "**Affiliation**: *Kwantum Edu Analytics*. **Last Modified**: *2/14/2023*.\r\n",
        "\r\n",
        "This OEA test data generation notebook illustrates use of the OEA_py and base_test_data_gen_py python classes for creating and developing base-truth table test data in stage1.\r\n",
        "\r\n",
        "Use the main function outlined in the base_test_data_gen_py class notebook ```gen_base_tables(numstudents, numschools, numenroll, hed_numcourses, ed_level)``` to create test data for the base-truth tables.\r\n",
        "\r\n",
        "Refer to the class notebook for understanding/editing functionality, options, and generation processes."
      ],
      "metadata": {
        "nteract": {
          "transient": {
            "deleting": false
          }
        }
      }
    },
    {
      "cell_type": "code",
      "source": [
        "%run OEA_py"
      ],
      "outputs": [
        {
          "output_type": "display_data",
          "data": {
            "application/vnd.livy.statement-meta+json": {
              "spark_pool": null,
              "session_id": "13",
              "statement_id": -1,
              "state": "finished",
              "livy_statement_state": "available",
              "queued_time": "2023-02-14T17:54:44.5266111Z",
              "session_start_time": null,
              "execution_start_time": "2023-02-14T17:58:33.9164419Z",
              "execution_finish_time": "2023-02-14T17:58:33.9166652Z",
              "spark_jobs": null
            },
            "text/plain": "StatementMeta(, 13, -1, Finished, Available)"
          },
          "metadata": {}
        },
        {
          "output_type": "stream",
          "name": "stdout",
          "text": [
            "2023-02-14 17:58:33,138 - OEA - INFO - Now using workspace: dev\n2023-02-14 17:58:33,139 - OEA - INFO - OEA initialized.\n"
          ]
        }
      ],
      "execution_count": 1,
      "metadata": {
        "jupyter": {
          "source_hidden": false,
          "outputs_hidden": false
        },
        "nteract": {
          "transient": {
            "deleting": false
          }
        }
      }
    },
    {
      "cell_type": "code",
      "source": [
        "# set the workspace (this determines where in the data lake you'll be writing to and reading from).\r\n",
        "# You can work in 'dev', 'prod', or a sandbox with any name you choose.\r\n",
        "# For example, Sam the developer can create a 'sam' workspace and expect to find his datasets in the data lake under oea/sandboxes/sam\r\n",
        "oea.set_workspace('dev')"
      ],
      "outputs": [
        {
          "output_type": "display_data",
          "data": {
            "application/vnd.livy.statement-meta+json": {
              "spark_pool": "spark3p2medTDG",
              "session_id": "13",
              "statement_id": 2,
              "state": "finished",
              "livy_statement_state": "available",
              "queued_time": "2023-02-14T17:54:51.1343899Z",
              "session_start_time": null,
              "execution_start_time": "2023-02-14T17:58:34.0523845Z",
              "execution_finish_time": "2023-02-14T17:58:34.2265064Z",
              "spark_jobs": null
            },
            "text/plain": "StatementMeta(spark3p2medTDG, 13, 2, Finished, Available)"
          },
          "metadata": {}
        },
        {
          "output_type": "stream",
          "name": "stdout",
          "text": [
            "2023-02-14 17:58:34,036 - OEA - INFO - Now using workspace: dev\n"
          ]
        }
      ],
      "execution_count": 2,
      "metadata": {
        "jupyter": {
          "source_hidden": false,
          "outputs_hidden": false
        },
        "nteract": {
          "transient": {
            "deleting": false
          }
        }
      }
    },
    {
      "cell_type": "code",
      "source": [
        "%run /base_test_data_gen_py"
      ],
      "outputs": [
        {
          "output_type": "display_data",
          "data": {
            "application/vnd.livy.statement-meta+json": {
              "spark_pool": null,
              "session_id": "13",
              "statement_id": -1,
              "state": "finished",
              "livy_statement_state": "available",
              "queued_time": "2023-02-14T17:54:52.8226347Z",
              "session_start_time": null,
              "execution_start_time": "2023-02-14T17:59:14.9757276Z",
              "execution_finish_time": "2023-02-14T17:59:14.9762149Z",
              "spark_jobs": null
            },
            "text/plain": "StatementMeta(, 13, -1, Finished, Available)"
          },
          "metadata": {}
        }
      ],
      "execution_count": 3,
      "metadata": {
        "jupyter": {
          "source_hidden": false,
          "outputs_hidden": false
        },
        "nteract": {
          "transient": {
            "deleting": false
          }
        }
      }
    },
    {
      "cell_type": "code",
      "source": [
        "datagen = TestDataGen_BaseTables()"
      ],
      "outputs": [
        {
          "output_type": "display_data",
          "data": {
            "application/vnd.livy.statement-meta+json": {
              "spark_pool": "spark3p2medTDG",
              "session_id": "13",
              "statement_id": 4,
              "state": "finished",
              "livy_statement_state": "available",
              "queued_time": "2023-02-14T17:54:53.9818293Z",
              "session_start_time": null,
              "execution_start_time": "2023-02-14T17:59:15.0874126Z",
              "execution_finish_time": "2023-02-14T17:59:15.2478042Z",
              "spark_jobs": null
            },
            "text/plain": "StatementMeta(spark3p2medTDG, 13, 4, Finished, Available)"
          },
          "metadata": {}
        }
      ],
      "execution_count": 4,
      "metadata": {
        "jupyter": {
          "source_hidden": false,
          "outputs_hidden": false
        },
        "nteract": {
          "transient": {
            "deleting": false
          }
        }
      }
    },
    {
      "cell_type": "code",
      "source": [
        "# Read comments for generation-options.\r\n",
        "\r\n",
        "education_level = 'hed' # NOTE: choose k12 or hed. k12 = generating K-12 test data, hed = generating Higher Education test data\r\n",
        "num_students = 200 # NOTE: number of students to generate\r\n",
        "num_schools = 3 # NOTE: number of schools to generate (k12 min allowed value: 4, hed max allowed value: 3)\r\n",
        "hed_num_courses = 10 # NOTE: ONLY for hed. number of courses per school to generate (max allowed value: 21)\r\n",
        "num_sections_enrolled_per_student = 5 # NOTE: number of classes each middle and high school student, or higher ed. student, is to be enrolled in (max allowed value: 21)\r\n",
        "\r\n",
        "datagen.gen_base_tables(numstudents=num_students, numschools=num_schools, numenroll=num_sections_enrolled_per_student, hed_numcourses=hed_num_courses, ed_level=education_level)"
      ],
      "outputs": [
        {
          "output_type": "display_data",
          "data": {
            "application/vnd.livy.statement-meta+json": {
              "spark_pool": "spark3p2medTDG",
              "session_id": "13",
              "statement_id": 5,
              "state": "finished",
              "livy_statement_state": "available",
              "queued_time": "2023-02-14T17:55:00.7838179Z",
              "session_start_time": null,
              "execution_start_time": "2023-02-14T17:59:15.363343Z",
              "execution_finish_time": "2023-02-14T17:59:46.6095718Z",
              "spark_jobs": null
            },
            "text/plain": "StatementMeta(spark3p2medTDG, 13, 5, Finished, Available)"
          },
          "metadata": {}
        }
      ],
      "execution_count": 5,
      "metadata": {
        "jupyter": {
          "source_hidden": false,
          "outputs_hidden": false
        },
        "nteract": {
          "transient": {
            "deleting": false
          }
        }
      }
    },
    {
      "cell_type": "markdown",
      "source": [
        "## Demo of How to Read-in and Check the Created Base-Truth Tables\r\n",
        "\r\n",
        "Code-blocks are broken up into tests per each table created:\r\n",
        " 1. **base_students**\r\n",
        " 2. **base_schools**\r\n",
        " 3. **base_courses**\r\n",
        " 4. **base_sections**\r\n",
        " 5. **base_enrollment**"
      ],
      "metadata": {
        "nteract": {
          "transient": {
            "deleting": false
          }
        }
      }
    },
    {
      "cell_type": "code",
      "source": [
        "# 1) base_students\r\n",
        "dfStudents = oea.load_csv('stage1/Transactional/test_data/v0.1/base_students/snapshot_batch_data/*/*.csv', header=True)\r\n",
        "print('Number of students generated (should be ' + str(num_students) + '):')\r\n",
        "print(dfStudents.count())\r\n",
        "display(dfStudents.limit(20))"
      ],
      "outputs": [
        {
          "output_type": "display_data",
          "data": {
            "application/vnd.livy.statement-meta+json": {
              "spark_pool": "spark3p2medTDG",
              "session_id": "13",
              "statement_id": 6,
              "state": "finished",
              "livy_statement_state": "available",
              "queued_time": "2023-02-14T17:55:11.7777769Z",
              "session_start_time": null,
              "execution_start_time": "2023-02-14T17:59:46.7253671Z",
              "execution_finish_time": "2023-02-14T17:59:52.0554981Z",
              "spark_jobs": null
            },
            "text/plain": "StatementMeta(spark3p2medTDG, 13, 6, Finished, Available)"
          },
          "metadata": {}
        },
        {
          "output_type": "stream",
          "name": "stdout",
          "text": [
            "Number of students generated (should be 200):\n200\n"
          ]
        },
        {
          "output_type": "display_data",
          "data": {
            "application/vnd.synapse.widget-view+json": {
              "widget_id": "e0dc2ab4-9637-495b-86e8-62b7a95adf74",
              "widget_type": "Synapse.DataFrame"
            },
            "text/plain": "SynapseWidget(Synapse.DataFrame, e0dc2ab4-9637-495b-86e8-62b7a95adf74)"
          },
          "metadata": {}
        }
      ],
      "execution_count": 6,
      "metadata": {
        "jupyter": {
          "source_hidden": false,
          "outputs_hidden": false
        },
        "nteract": {
          "transient": {
            "deleting": false
          }
        },
        "collapsed": false
      }
    },
    {
      "cell_type": "code",
      "source": [
        "# 2) base_schools\r\n",
        "dfSchools = oea.load_csv('stage1/Transactional/test_data/v0.1/base_schools/snapshot_batch_data/*/*.csv', header=True)\r\n",
        "display(dfSchools.limit(10))"
      ],
      "outputs": [
        {
          "output_type": "display_data",
          "data": {
            "application/vnd.livy.statement-meta+json": {
              "spark_pool": "spark3p2medTDG",
              "session_id": "13",
              "statement_id": 7,
              "state": "finished",
              "livy_statement_state": "available",
              "queued_time": "2023-02-14T17:55:13.6423478Z",
              "session_start_time": null,
              "execution_start_time": "2023-02-14T17:59:52.175439Z",
              "execution_finish_time": "2023-02-14T17:59:53.2560097Z",
              "spark_jobs": null
            },
            "text/plain": "StatementMeta(spark3p2medTDG, 13, 7, Finished, Available)"
          },
          "metadata": {}
        },
        {
          "output_type": "display_data",
          "data": {
            "application/vnd.synapse.widget-view+json": {
              "widget_id": "30599b9b-c779-4fca-9526-537b16ae85db",
              "widget_type": "Synapse.DataFrame"
            },
            "text/plain": "SynapseWidget(Synapse.DataFrame, 30599b9b-c779-4fca-9526-537b16ae85db)"
          },
          "metadata": {}
        }
      ],
      "execution_count": 7,
      "metadata": {
        "jupyter": {
          "source_hidden": false,
          "outputs_hidden": false
        },
        "nteract": {
          "transient": {
            "deleting": false
          }
        },
        "collapsed": false
      }
    },
    {
      "cell_type": "code",
      "source": [
        "# 3) base_courses\r\n",
        "dfCourses = oea.load_csv('stage1/Transactional/test_data/v0.1/base_courses/snapshot_batch_data/*/*.csv', header=True)\r\n",
        "# if K-12 gen: 21 courses per high school, 24 courses per middle school, 6 courses per elementary school\r\n",
        "if education_level == 'k12':\r\n",
        "    dfCount = dfSchools.groupBy('SchoolType').count()\r\n",
        "    temp = dfCount.filter(dfCount['SchoolType'] == 'High School')\r\n",
        "    num_hs_gen = temp.collect()[0][1]\r\n",
        "    temp = dfCount.filter(dfCount['SchoolType'] == 'Middle School')\r\n",
        "    num_ms_gen = temp.collect()[0][1]\r\n",
        "    temp = dfCount.filter(dfCount['SchoolType'] == 'Elementary School')\r\n",
        "    num_es_gen = temp.collect()[0][1]\r\n",
        "    total_courses = (num_hs_gen * 21) + (num_ms_gen * 24) + (num_es_gen * 6)\r\n",
        "    print('There should be ' + str(total_courses) + ' K-12 courses generated.')\r\n",
        "# if Higher Ed. gen: num_courses input * num_schools input\r\n",
        "else:\r\n",
        "    num_schools_gen = dfSchools.count()\r\n",
        "    total_courses = num_schools * hed_num_courses\r\n",
        "    print('There should be ' + str(total_courses) + ' Higher Ed. courses generated.')\r\n",
        "print('Actual number of courses generated: ' + str(dfCourses.count()))\r\n",
        "display(dfCourses)"
      ],
      "outputs": [
        {
          "output_type": "display_data",
          "data": {
            "application/vnd.livy.statement-meta+json": {
              "spark_pool": "spark3p2medTDG",
              "session_id": "13",
              "statement_id": 8,
              "state": "finished",
              "livy_statement_state": "available",
              "queued_time": "2023-02-14T17:55:15.4477366Z",
              "session_start_time": null,
              "execution_start_time": "2023-02-14T17:59:53.3793909Z",
              "execution_finish_time": "2023-02-14T18:00:10.3035782Z",
              "spark_jobs": null
            },
            "text/plain": "StatementMeta(spark3p2medTDG, 13, 8, Finished, Available)"
          },
          "metadata": {}
        },
        {
          "output_type": "stream",
          "name": "stdout",
          "text": [
            "There should be 30 Higher Ed. courses generated.\nActual number of courses generated: 30\n"
          ]
        },
        {
          "output_type": "display_data",
          "data": {
            "application/vnd.synapse.widget-view+json": {
              "widget_id": "62ebcaf4-d81f-405a-8931-8da8ea1b3d84",
              "widget_type": "Synapse.DataFrame"
            },
            "text/plain": "SynapseWidget(Synapse.DataFrame, 62ebcaf4-d81f-405a-8931-8da8ea1b3d84)"
          },
          "metadata": {}
        }
      ],
      "execution_count": 8,
      "metadata": {
        "jupyter": {
          "source_hidden": false,
          "outputs_hidden": false
        },
        "nteract": {
          "transient": {
            "deleting": false
          }
        },
        "collapsed": false
      }
    },
    {
      "cell_type": "code",
      "source": [
        "# 4) base_sections\r\n",
        "dfSections = oea.load_csv('stage1/Transactional/test_data/v0.1/base_sections/snapshot_batch_data/*/*.csv', header=True)\r\n",
        "num_courses_gen = dfCourses.count()\r\n",
        "# if K-12 gen: 1-2 sections per course per high/middle school, 2-4 sections for 6 courses per elementary school\r\n",
        "if education_level == 'k12':\r\n",
        "    min_sections_gen = num_courses_gen + (num_es_gen * 6)\r\n",
        "    max_sections_gen = (num_courses_gen * 2) + ((num_es_gen * 6)*2)\r\n",
        "    print('There should be between ' + str(min_sections_gen) + ' and ' + str(max_sections_gen) + ' K-12 sections generated.')\r\n",
        "# if Higher Ed. gen: 1-2 sections per the number of courses generated\r\n",
        "else:\r\n",
        "    min_sections_gen = num_courses_gen \r\n",
        "    max_sections_gen = num_courses_gen*2\r\n",
        "    print('There should be between ' + str(min_sections_gen) + ' and ' + str(max_sections_gen) + ' Higher Ed. sections generated.')\r\n",
        "print('Actual number of sections generated: ' + str(dfSections.count()))\r\n",
        "display(dfSections.limit(10))"
      ],
      "outputs": [
        {
          "output_type": "display_data",
          "data": {
            "application/vnd.livy.statement-meta+json": {
              "spark_pool": "spark3p2medTDG",
              "session_id": "13",
              "statement_id": 9,
              "state": "finished",
              "livy_statement_state": "available",
              "queued_time": "2023-02-14T17:55:17.2509796Z",
              "session_start_time": null,
              "execution_start_time": "2023-02-14T18:00:10.4304062Z",
              "execution_finish_time": "2023-02-14T18:00:12.3345944Z",
              "spark_jobs": null
            },
            "text/plain": "StatementMeta(spark3p2medTDG, 13, 9, Finished, Available)"
          },
          "metadata": {}
        },
        {
          "output_type": "stream",
          "name": "stdout",
          "text": [
            "There should be between 30 and 60 Higher Ed. sections generated.\nActual number of sections generated: 48\n"
          ]
        },
        {
          "output_type": "display_data",
          "data": {
            "application/vnd.synapse.widget-view+json": {
              "widget_id": "3822423c-8062-4ffd-99cf-535365aa8fba",
              "widget_type": "Synapse.DataFrame"
            },
            "text/plain": "SynapseWidget(Synapse.DataFrame, 3822423c-8062-4ffd-99cf-535365aa8fba)"
          },
          "metadata": {}
        }
      ],
      "execution_count": 9,
      "metadata": {
        "jupyter": {
          "source_hidden": false,
          "outputs_hidden": false
        },
        "nteract": {
          "transient": {
            "deleting": false
          }
        },
        "collapsed": false
      }
    },
    {
      "cell_type": "code",
      "source": [
        "# 5) base_enrollment\r\n",
        "dfEnroll = oea.load_csv('stage1/Transactional/test_data/v0.1/base_enrollment/snapshot_batch_data/*/*.csv', header=True)\r\n",
        "# if K-12 gen: 1 enrollment per student in elementary school, num_sections_enrolled_per_student per student in high/middle school\r\n",
        "if education_level == 'k12':\r\n",
        "    dfCount = dfStudents.groupBy('SchoolType').count()\r\n",
        "    temp = dfCount.filter(dfCount['SchoolType'] == 'Elementary School')\r\n",
        "    num_es_students_gen = temp.collect()[0][1]\r\n",
        "    num_hms_students_gen = num_students - num_es_students_gen\r\n",
        "    total_enrollments = (num_hms_students_gen * num_sections_enrolled_per_student) + num_es_students_gen\r\n",
        "    print('There should be ' + str(total_enrollments) + ' K-12 enrollments generated.')\r\n",
        "# if Higher Ed. gen: num_sections_enrolled_per_student per student\r\n",
        "else:\r\n",
        "    total_enrollments = num_students * num_sections_enrolled_per_student\r\n",
        "    print('There should be ' + str(total_enrollments) + ' Higher Ed. enrollments generated.')\r\n",
        "print('Actual number of enrollments generated: ' + str(dfEnroll.count()))\r\n",
        "display(dfEnroll.limit(10))"
      ],
      "outputs": [
        {
          "output_type": "display_data",
          "data": {
            "application/vnd.livy.statement-meta+json": {
              "spark_pool": "spark3p2medTDG",
              "session_id": "13",
              "statement_id": 10,
              "state": "finished",
              "livy_statement_state": "available",
              "queued_time": "2023-02-14T17:55:19.1933343Z",
              "session_start_time": null,
              "execution_start_time": "2023-02-14T18:00:12.4430746Z",
              "execution_finish_time": "2023-02-14T18:00:13.5605363Z",
              "spark_jobs": null
            },
            "text/plain": "StatementMeta(spark3p2medTDG, 13, 10, Finished, Available)"
          },
          "metadata": {}
        },
        {
          "output_type": "stream",
          "name": "stdout",
          "text": [
            "There should be 1000 Higher Ed. enrollments generated.\nActual number of enrollments generated: 1000\n"
          ]
        },
        {
          "output_type": "display_data",
          "data": {
            "application/vnd.synapse.widget-view+json": {
              "widget_id": "2e54c3bf-c4bc-480f-bde2-b3944c50e28f",
              "widget_type": "Synapse.DataFrame"
            },
            "text/plain": "SynapseWidget(Synapse.DataFrame, 2e54c3bf-c4bc-480f-bde2-b3944c50e28f)"
          },
          "metadata": {}
        }
      ],
      "execution_count": 10,
      "metadata": {
        "jupyter": {
          "source_hidden": false,
          "outputs_hidden": false
        },
        "nteract": {
          "transient": {
            "deleting": false
          }
        },
        "collapsed": false
      }
    }
  ],
  "metadata": {
    "kernelspec": {
      "name": "synapse_pyspark",
      "display_name": "Synapse PySpark"
    },
    "language_info": {
      "name": "python"
    },
    "description": null,
    "save_output": true,
    "synapse_widget": {
      "version": "0.1",
      "state": {
        "e0dc2ab4-9637-495b-86e8-62b7a95adf74": {
          "type": "Synapse.DataFrame",
          "sync_state": {
            "table": {
              "rows": [
                {
                  "0": "M",
                  "1": "Thomas",
                  "2": "Justin",
                  "3": "Henderson",
                  "4": "3e8bfa36-76b7-449e-94ad-fba857de341d",
                  "5": "2000-09-20",
                  "6": "School of Science and Health",
                  "7": "5a970b70-b2e5-4405-804b-49495d7eaee0",
                  "8": "College",
                  "9": "undergraduate: year 2",
                  "10": "avg",
                  "11": "False",
                  "12": "white",
                  "14": "ThomasHenderson@contoso.edu",
                  "15": "809.875.4581x7439",
                  "16": "7096 Park Mesa Way",
                  "17": "San Diego",
                  "18": "CA",
                  "19": "92111"
                },
                {
                  "0": "F",
                  "1": "Jocelyn",
                  "2": "Grace",
                  "3": "Valdez",
                  "4": "62f2a039-a5d9-46f5-8088-1df0841656e4",
                  "5": "2002-12-23",
                  "6": "School of Science and Health",
                  "7": "5a970b70-b2e5-4405-804b-49495d7eaee0",
                  "8": "College",
                  "9": "undergraduate: year 1",
                  "10": "avg",
                  "11": "False",
                  "12": "white",
                  "14": "JocelynValdez@contoso.edu",
                  "15": "294.433.7978",
                  "16": "10826 Pointe Royal Drive",
                  "17": "Bakersfield",
                  "18": "CA",
                  "19": "93311"
                },
                {
                  "0": "F",
                  "1": "Stefanie",
                  "2": "Shelby",
                  "3": "Macdonald",
                  "4": "9e8d0887-ff71-4cc0-9a84-ee48c35a02ef",
                  "5": "2003-03-27",
                  "6": "School of Fine Arts",
                  "7": "18f9b660-7cb8-4ea9-aa24-a3ce9a167c83",
                  "8": "College",
                  "9": "undergraduate: year 1",
                  "10": "avg",
                  "11": "False",
                  "12": "twoormoreraces",
                  "14": "StefanieMacdonald@contoso.edu",
                  "15": "001-723-230-1585x6393",
                  "16": "2641 Heather Lane",
                  "17": "Redding",
                  "18": "CA",
                  "19": "96002"
                },
                {
                  "0": "F",
                  "1": "Christine",
                  "2": "Patricia",
                  "3": "Fuentes",
                  "4": "d60df6e2-3c1f-4343-a799-3c55082f6a06",
                  "5": "2001-01-13",
                  "6": "School of Business",
                  "7": "4e4f13c7-a451-40e5-b895-8ef19dad934c",
                  "8": "College",
                  "9": "undergraduate: year 3",
                  "10": "high",
                  "11": "True",
                  "12": "white",
                  "14": "ChristineFuentes@contoso.edu",
                  "15": "782.931.0231x6852",
                  "16": "3189 Main Street",
                  "17": "Mammoth Lakes",
                  "18": "CA",
                  "19": "93546"
                },
                {
                  "0": "F",
                  "1": "Bonnie",
                  "2": "Karen",
                  "3": "Marshall",
                  "4": "fb8a9226-9978-4326-85ba-14a90b206e7e",
                  "5": "2003-06-02",
                  "6": "School of Science and Health",
                  "7": "5a970b70-b2e5-4405-804b-49495d7eaee0",
                  "8": "College",
                  "9": "undergraduate: year 1",
                  "10": "avg",
                  "11": "True",
                  "12": "white",
                  "14": "BonnieMarshall@contoso.edu",
                  "15": "+1-550-472-7353x8762",
                  "16": "2755 Country Drive",
                  "17": "Fremont",
                  "18": "CA",
                  "19": "94536"
                },
                {
                  "0": "F",
                  "1": "Brittany",
                  "2": "Charlene",
                  "3": "Smith",
                  "4": "d53139eb-5ac2-42a0-8ff7-e78240cf13cd",
                  "5": "2004-04-21",
                  "6": "School of Business",
                  "7": "4e4f13c7-a451-40e5-b895-8ef19dad934c",
                  "8": "College",
                  "9": "undergraduate: year 2",
                  "10": "avg",
                  "11": "True",
                  "12": "white",
                  "14": "BrittanySmith@contoso.edu",
                  "15": "(681)501-1704x02168",
                  "16": "266 South J Street",
                  "17": "Livermore",
                  "18": "CA",
                  "19": "94550"
                },
                {
                  "0": "M",
                  "1": "John",
                  "2": "Leonard",
                  "3": "Parker",
                  "4": "9cbfaeae-fd69-42d3-b998-6886f53b8b34",
                  "5": "2000-08-19",
                  "6": "School of Business",
                  "7": "4e4f13c7-a451-40e5-b895-8ef19dad934c",
                  "8": "College",
                  "9": "undergraduate: year 2",
                  "10": "low",
                  "11": "True",
                  "12": "white",
                  "14": "JohnParker@contoso.edu",
                  "15": "+1-461-518-9621x944",
                  "16": "15267 Hesperian Boulevard",
                  "17": "San Leandro",
                  "18": "CA",
                  "19": "94578"
                },
                {
                  "0": "M",
                  "1": "William",
                  "2": "Gabriel",
                  "3": "Vega",
                  "4": "8fce1bba-21ef-48bb-8c85-34f45d26f349",
                  "5": "2003-03-13",
                  "6": "School of Science and Health",
                  "7": "5a970b70-b2e5-4405-804b-49495d7eaee0",
                  "8": "College",
                  "9": "undergraduate: year 1",
                  "10": "low",
                  "11": "False",
                  "12": "white",
                  "14": "WilliamVega@contoso.edu",
                  "15": "762-659-3159x9737",
                  "16": "4253 San Juan Avenue",
                  "17": "Fremont",
                  "18": "CA",
                  "19": "94536"
                },
                {
                  "0": "F",
                  "1": "Elizabeth",
                  "2": "Rose",
                  "3": "Padilla",
                  "4": "24706a16-e7ac-4332-8f9c-ab7e9e1465bc",
                  "5": "2000-12-07",
                  "6": "School of Fine Arts",
                  "7": "18f9b660-7cb8-4ea9-aa24-a3ce9a167c83",
                  "8": "College",
                  "9": "undergraduate: year 1",
                  "10": "high",
                  "11": "False",
                  "12": "white",
                  "14": "ElizabethPadilla@contoso.edu",
                  "15": "894-804-1463x1422",
                  "16": "2042 High Street",
                  "17": "Oakland",
                  "18": "CA",
                  "19": "94601"
                },
                {
                  "0": "M",
                  "1": "Alex",
                  "2": "Mark",
                  "3": "Tran",
                  "4": "b9a1080c-c768-4bf5-ac8c-05c4871b3a52",
                  "5": "2001-06-12",
                  "6": "School of Science and Health",
                  "7": "5a970b70-b2e5-4405-804b-49495d7eaee0",
                  "8": "College",
                  "9": "undergraduate: year 2",
                  "10": "high",
                  "11": "True",
                  "12": "asian",
                  "14": "AlexTran@contoso.edu",
                  "15": "001-150-875-8711x76494",
                  "16": "637 Laurelwood Circle",
                  "17": "Vacaville",
                  "18": "CA",
                  "19": "95687"
                },
                {
                  "0": "F",
                  "1": "Amanda",
                  "2": "Lindsay",
                  "3": "Adams",
                  "4": "11676d90-fa8a-4a7f-b0cc-6ac28d15ae5a",
                  "5": "2003-11-17",
                  "6": "School of Science and Health",
                  "7": "5a970b70-b2e5-4405-804b-49495d7eaee0",
                  "8": "College",
                  "9": "undergraduate: year 1",
                  "10": "high",
                  "11": "False",
                  "12": "white",
                  "14": "AmandaAdams@contoso.edu",
                  "15": "143-539-5027",
                  "16": "725 65th Street",
                  "17": "Oakland",
                  "18": "CA",
                  "19": "94609"
                },
                {
                  "0": "F",
                  "1": "Kelsey",
                  "2": "Brooke",
                  "3": "Wilson",
                  "4": "8c0a6801-cee9-4dc3-a897-8adb83f9cde7",
                  "5": "2004-02-01",
                  "6": "School of Science and Health",
                  "7": "5a970b70-b2e5-4405-804b-49495d7eaee0",
                  "8": "College",
                  "9": "undergraduate: year 3",
                  "10": "high",
                  "11": "True",
                  "12": "white",
                  "14": "KelseyWilson@contoso.edu",
                  "15": "001-513-380-6043",
                  "16": "37600 Sycamore Street",
                  "17": "Newark",
                  "18": "CA",
                  "19": "94560"
                },
                {
                  "0": "F",
                  "1": "Rebecca",
                  "2": "Catherine",
                  "3": "Leonard",
                  "4": "be050780-c2b8-4488-8a43-746e1c34d144",
                  "5": "2000-06-25",
                  "6": "School of Fine Arts",
                  "7": "18f9b660-7cb8-4ea9-aa24-a3ce9a167c83",
                  "8": "College",
                  "9": "undergraduate: year 2",
                  "10": "avg",
                  "11": "False",
                  "12": "white",
                  "14": "RebeccaLeonard@contoso.edu",
                  "15": "+1-866-695-9814",
                  "16": "5396 North Reese Avenue",
                  "17": "Fresno",
                  "18": "CA",
                  "19": "93722"
                },
                {
                  "0": "M",
                  "1": "David",
                  "2": "Randy",
                  "3": "King",
                  "4": "5b80cbea-31ec-4258-b3c3-7770d70261ff",
                  "5": "2002-04-05",
                  "6": "School of Business",
                  "7": "4e4f13c7-a451-40e5-b895-8ef19dad934c",
                  "8": "College",
                  "9": "undergraduate: year 4",
                  "10": "high",
                  "11": "False",
                  "12": "asian",
                  "14": "DavidKing@contoso.edu",
                  "15": "(765)022-1682x8411",
                  "16": "1797 Pasatiempo Drive",
                  "17": "Chico",
                  "18": "CA",
                  "19": "95928"
                },
                {
                  "0": "M",
                  "1": "Cody",
                  "2": "Anthony",
                  "3": "Evans",
                  "4": "c0c648ac-525c-4670-a452-caaba20fc3a6",
                  "5": "2004-01-25",
                  "6": "School of Fine Arts",
                  "7": "18f9b660-7cb8-4ea9-aa24-a3ce9a167c83",
                  "8": "College",
                  "9": "undergraduate: year 2",
                  "10": "avg",
                  "11": "False",
                  "12": "blackafricanamerican",
                  "14": "CodyEvans@contoso.edu",
                  "15": "726.396.5572x422",
                  "16": "22207 Quinterno Court",
                  "17": "Cupertino",
                  "18": "CA",
                  "19": "95014"
                },
                {
                  "0": "F",
                  "1": "Sandra",
                  "2": "Sheila",
                  "3": "Collier",
                  "4": "ca271d50-eb2c-4ba7-8d6a-5a55e4423a2d",
                  "5": "2003-03-24",
                  "6": "School of Science and Health",
                  "7": "5a970b70-b2e5-4405-804b-49495d7eaee0",
                  "8": "College",
                  "9": "undergraduate: year 2",
                  "10": "high",
                  "11": "False",
                  "12": "twoormoreraces",
                  "14": "SandraCollier@contoso.edu",
                  "15": "668-015-7135",
                  "16": "3388 Thomasson Lane",
                  "17": "Fairfield",
                  "18": "CA",
                  "19": "94534"
                },
                {
                  "0": "F",
                  "1": "Emily",
                  "2": "Jane",
                  "3": "Duran",
                  "4": "bbfad07a-b731-4446-8189-bff1d4e4c4fc",
                  "5": "2003-08-11",
                  "6": "School of Science and Health",
                  "7": "5a970b70-b2e5-4405-804b-49495d7eaee0",
                  "8": "College",
                  "9": "undergraduate: year 1",
                  "10": "avg",
                  "11": "False",
                  "12": "white",
                  "14": "EmilyDuran@contoso.edu",
                  "15": "(511)640-3047",
                  "16": "5472 Sunstar Common",
                  "17": "Fremont",
                  "18": "CA",
                  "19": "94555"
                },
                {
                  "0": "M",
                  "1": "Joseph",
                  "2": "Nathan",
                  "3": "Bell",
                  "4": "1346b804-fdc7-4d81-ba7b-9f896b4cef0a",
                  "5": "2003-12-07",
                  "6": "School of Science and Health",
                  "7": "5a970b70-b2e5-4405-804b-49495d7eaee0",
                  "8": "College",
                  "9": "undergraduate: year 2",
                  "10": "avg",
                  "11": "False",
                  "12": "white",
                  "14": "JosephBell@contoso.edu",
                  "15": "+1-268-219-5194x53172",
                  "16": "2014 Clemens Road",
                  "17": "Oakland",
                  "18": "CA",
                  "19": "94602"
                },
                {
                  "0": "F",
                  "1": "Alexis",
                  "2": "Michelle",
                  "3": "Brown",
                  "4": "77e405f4-0a20-4433-8bc4-d23cd1c03713",
                  "5": "2003-10-19",
                  "6": "School of Science and Health",
                  "7": "5a970b70-b2e5-4405-804b-49495d7eaee0",
                  "8": "College",
                  "9": "undergraduate: year 1",
                  "10": "avg",
                  "11": "False",
                  "12": "white",
                  "14": "AlexisBrown@contoso.edu",
                  "15": "535.595.4884",
                  "16": "3228 Chettenham Drive",
                  "17": "Rancho Cordova",
                  "18": "CA",
                  "19": "95670"
                },
                {
                  "0": "F",
                  "1": "Alicia",
                  "2": "Catherine",
                  "3": "Stafford",
                  "4": "6506a460-aebc-4805-ac4e-eb2b0998106b",
                  "5": "2000-11-30",
                  "6": "School of Fine Arts",
                  "7": "18f9b660-7cb8-4ea9-aa24-a3ce9a167c83",
                  "8": "College",
                  "9": "undergraduate: year 1",
                  "10": "high",
                  "11": "False",
                  "12": "white",
                  "14": "AliciaStafford@contoso.edu",
                  "15": "348-286-6422x02938",
                  "16": "29 Vista Flores",
                  "17": "Pleasanton",
                  "18": "CA",
                  "19": "94566"
                }
              ],
              "schema": [
                {
                  "key": "0",
                  "name": "Gender",
                  "type": "string"
                },
                {
                  "key": "1",
                  "name": "FirstName",
                  "type": "string"
                },
                {
                  "key": "2",
                  "name": "MiddleName",
                  "type": "string"
                },
                {
                  "key": "3",
                  "name": "LastName",
                  "type": "string"
                },
                {
                  "key": "4",
                  "name": "StudentID",
                  "type": "string"
                },
                {
                  "key": "5",
                  "name": "Birthday",
                  "type": "string"
                },
                {
                  "key": "6",
                  "name": "SchoolName",
                  "type": "string"
                },
                {
                  "key": "7",
                  "name": "SchoolID",
                  "type": "string"
                },
                {
                  "key": "8",
                  "name": "SchoolType",
                  "type": "string"
                },
                {
                  "key": "9",
                  "name": "Grade",
                  "type": "string"
                },
                {
                  "key": "10",
                  "name": "Performance",
                  "type": "string"
                },
                {
                  "key": "11",
                  "name": "HispanicLatino",
                  "type": "string"
                },
                {
                  "key": "12",
                  "name": "Race",
                  "type": "string"
                },
                {
                  "key": "13",
                  "name": "Flag",
                  "type": "string"
                },
                {
                  "key": "14",
                  "name": "Email",
                  "type": "string"
                },
                {
                  "key": "15",
                  "name": "Phone",
                  "type": "string"
                },
                {
                  "key": "16",
                  "name": "Address",
                  "type": "string"
                },
                {
                  "key": "17",
                  "name": "City",
                  "type": "string"
                },
                {
                  "key": "18",
                  "name": "State",
                  "type": "string"
                },
                {
                  "key": "19",
                  "name": "Zipcode",
                  "type": "string"
                }
              ],
              "truncated": false
            },
            "isSummary": false,
            "language": "scala"
          },
          "persist_state": {
            "view": {
              "type": "details",
              "tableOptions": {},
              "chartOptions": {
                "chartType": "bar",
                "aggregationType": "count",
                "categoryFieldKeys": [
                  "0"
                ],
                "seriesFieldKeys": [
                  "0"
                ],
                "isStacked": false
              }
            }
          }
        },
        "30599b9b-c779-4fca-9526-537b16ae85db": {
          "type": "Synapse.DataFrame",
          "sync_state": {
            "table": {
              "rows": [
                {
                  "0": "School of Fine Arts",
                  "1": "18f9b660-7cb8-4ea9-aa24-a3ce9a167c83",
                  "2": "College"
                },
                {
                  "0": "School of Science and Health",
                  "1": "5a970b70-b2e5-4405-804b-49495d7eaee0",
                  "2": "College"
                },
                {
                  "0": "School of Business",
                  "1": "4e4f13c7-a451-40e5-b895-8ef19dad934c",
                  "2": "College"
                }
              ],
              "schema": [
                {
                  "key": "0",
                  "name": "SchoolName",
                  "type": "string"
                },
                {
                  "key": "1",
                  "name": "SchoolID",
                  "type": "string"
                },
                {
                  "key": "2",
                  "name": "SchoolType",
                  "type": "string"
                }
              ],
              "truncated": false
            },
            "isSummary": false,
            "language": "scala"
          },
          "persist_state": {
            "view": {
              "type": "details",
              "tableOptions": {},
              "chartOptions": {
                "chartType": "bar",
                "aggregationType": "count",
                "categoryFieldKeys": [
                  "0"
                ],
                "seriesFieldKeys": [
                  "0"
                ],
                "isStacked": false
              }
            }
          }
        },
        "62ebcaf4-d81f-405a-8931-8da8ea1b3d84": {
          "type": "Synapse.DataFrame",
          "sync_state": {
            "table": {
              "rows": [
                {
                  "0": "Intro to Blacksmithing",
                  "1": "42d37d2d-cb7d-4de4-8741-6f5390a766b9",
                  "2": "School of Fine Arts",
                  "3": "18f9b660-7cb8-4ea9-aa24-a3ce9a167c83",
                  "4": "College",
                  "5": "Sculpture Art",
                  "6": "undergraduate: year 2"
                },
                {
                  "0": "Documentary Strategies",
                  "1": "ccee0819-cbda-4a56-935f-e48538619125",
                  "2": "School of Fine Arts",
                  "3": "18f9b660-7cb8-4ea9-aa24-a3ce9a167c83",
                  "4": "College",
                  "5": "Performance Art",
                  "6": "graduate: year 1"
                },
                {
                  "0": "Ceramics",
                  "1": "45e6032e-f232-4807-937a-c398a3f9ef71",
                  "2": "School of Fine Arts",
                  "3": "18f9b660-7cb8-4ea9-aa24-a3ce9a167c83",
                  "4": "College",
                  "5": "Sculpture Art",
                  "6": "undergraduate: year 3"
                },
                {
                  "0": "Methods in Art Education",
                  "1": "9abd8376-4634-4ef9-8f5b-8dff17e42ebe",
                  "2": "School of Fine Arts",
                  "3": "18f9b660-7cb8-4ea9-aa24-a3ce9a167c83",
                  "4": "College",
                  "5": "Theory of Art Education",
                  "6": "undergraduate: year 4"
                },
                {
                  "0": "Intro to Sculpture",
                  "1": "05e6caba-a8f7-4dfa-b3bb-0e33204c7316",
                  "2": "School of Fine Arts",
                  "3": "18f9b660-7cb8-4ea9-aa24-a3ce9a167c83",
                  "4": "College",
                  "5": "Sculpture Art",
                  "6": "undergraduate: year 2"
                },
                {
                  "0": "Painting Media",
                  "1": "7da992d2-609c-42e5-84a5-6e7dd020c950",
                  "2": "School of Fine Arts",
                  "3": "18f9b660-7cb8-4ea9-aa24-a3ce9a167c83",
                  "4": "College",
                  "5": "Visual Art",
                  "6": "undergraduate: year 2"
                },
                {
                  "0": "Intro to Metalsmithing",
                  "1": "97d542f5-a016-47a5-90fb-de1e55a5e4a2",
                  "2": "School of Fine Arts",
                  "3": "18f9b660-7cb8-4ea9-aa24-a3ce9a167c83",
                  "4": "College",
                  "5": "Sculpture Art",
                  "6": "undergraduate: year 2"
                },
                {
                  "0": "Art Seminar",
                  "1": "76c0e1ea-4537-464b-a386-40a665a19662",
                  "2": "School of Fine Arts",
                  "3": "18f9b660-7cb8-4ea9-aa24-a3ce9a167c83",
                  "4": "College",
                  "5": "General Art Knowledge",
                  "6": "general education"
                },
                {
                  "0": "Color Theory",
                  "1": "39fda5e1-549d-497e-a608-68501c61e94a",
                  "2": "School of Fine Arts",
                  "3": "18f9b660-7cb8-4ea9-aa24-a3ce9a167c83",
                  "4": "College",
                  "5": "Theory of Art",
                  "6": "graduate: year 1"
                },
                {
                  "0": "Dance Appreciation",
                  "1": "dda326aa-b0b6-4a9e-8c48-81e4fb0e8282",
                  "2": "School of Fine Arts",
                  "3": "18f9b660-7cb8-4ea9-aa24-a3ce9a167c83",
                  "4": "College",
                  "5": "General Art Knowledge",
                  "6": "general education"
                },
                {
                  "0": "Intro to Physics",
                  "1": "4f8ea126-a768-4021-b4a0-f72386c29093",
                  "2": "School of Science and Health",
                  "3": "5a970b70-b2e5-4405-804b-49495d7eaee0",
                  "4": "College",
                  "5": "Physics",
                  "6": "undergraduate: year 1"
                },
                {
                  "0": "Analytical Chemistry",
                  "1": "b33bd0cc-e251-4016-8cbe-74669ff318db",
                  "2": "School of Science and Health",
                  "3": "5a970b70-b2e5-4405-804b-49495d7eaee0",
                  "4": "College",
                  "5": "Chemistry",
                  "6": "undergraduate: year 3"
                },
                {
                  "0": "Logic",
                  "1": "97fb3217-12d0-41fd-a939-a43a7bef5bad",
                  "2": "School of Science and Health",
                  "3": "5a970b70-b2e5-4405-804b-49495d7eaee0",
                  "4": "College",
                  "5": "Philosophy",
                  "6": "undergraduate: year 1"
                },
                {
                  "0": "General Relativity",
                  "1": "9476581f-c8de-4a31-b022-5887dba33a61",
                  "2": "School of Science and Health",
                  "3": "5a970b70-b2e5-4405-804b-49495d7eaee0",
                  "4": "College",
                  "5": "Physics",
                  "6": "graduate: year 1"
                },
                {
                  "0": "Metaphysics and Epistemology",
                  "1": "4411147b-d812-45bd-8ade-e2eeacbab5b6",
                  "2": "School of Science and Health",
                  "3": "5a970b70-b2e5-4405-804b-49495d7eaee0",
                  "4": "College",
                  "5": "Philosophy",
                  "6": "graduate: year 1"
                },
                {
                  "0": "Differential Equations",
                  "1": "a1c59a27-e38a-4c4a-a5a7-b817dd8b5c40",
                  "2": "School of Science and Health",
                  "3": "5a970b70-b2e5-4405-804b-49495d7eaee0",
                  "4": "College",
                  "5": "Mathematics",
                  "6": "undergraduate: year 3"
                },
                {
                  "0": "Field Research",
                  "1": "61ad17c3-b536-4f02-b2ca-990ad0d33ee1",
                  "2": "School of Science and Health",
                  "3": "5a970b70-b2e5-4405-804b-49495d7eaee0",
                  "4": "College",
                  "5": "General Applied Knowledge",
                  "6": "general education"
                },
                {
                  "0": "Neurobiology",
                  "1": "389449fa-6f0c-42c8-9778-8785c72afc29",
                  "2": "School of Science and Health",
                  "3": "5a970b70-b2e5-4405-804b-49495d7eaee0",
                  "4": "College",
                  "5": "Biology",
                  "6": "graduate: year 1"
                },
                {
                  "0": "Organic Chemistry",
                  "1": "e598c170-324a-4696-bbf6-723158167eb8",
                  "2": "School of Science and Health",
                  "3": "5a970b70-b2e5-4405-804b-49495d7eaee0",
                  "4": "College",
                  "5": "Chemistry",
                  "6": "undergraduate: year 3"
                },
                {
                  "0": "Anatomy and Physiology",
                  "1": "31ddaf9b-3d2e-450f-be14-32949683f371",
                  "2": "School of Science and Health",
                  "3": "5a970b70-b2e5-4405-804b-49495d7eaee0",
                  "4": "College",
                  "5": "Biology",
                  "6": "undergraduate: year 2"
                },
                {
                  "0": "Management Science",
                  "1": "08271441-4b3b-4144-a2b7-bf11a6fd40a4",
                  "2": "School of Business",
                  "3": "4e4f13c7-a451-40e5-b895-8ef19dad934c",
                  "4": "College",
                  "5": "Theory of Management",
                  "6": "undergraduate: year 2"
                },
                {
                  "0": "Collective Bargaining",
                  "1": "232651ef-cf8f-4ff2-a1e3-08aa68d44fad",
                  "2": "School of Business",
                  "3": "4e4f13c7-a451-40e5-b895-8ef19dad934c",
                  "4": "College",
                  "5": "Theory of Business",
                  "6": "graduate: year 1"
                },
                {
                  "0": "Business, Labor, and Human Rights",
                  "1": "bfde8ee2-fc64-4bbc-8fad-e915e931d64d",
                  "2": "School of Business",
                  "3": "4e4f13c7-a451-40e5-b895-8ef19dad934c",
                  "4": "College",
                  "5": "Theory of Business",
                  "6": "undergraduate: year 2"
                },
                {
                  "0": "Leadership and Team Development",
                  "1": "bc5682ed-ade2-4235-8bf4-78dd003c3438",
                  "2": "School of Business",
                  "3": "4e4f13c7-a451-40e5-b895-8ef19dad934c",
                  "4": "College",
                  "5": "Theory of Business",
                  "6": "undergraduate: year 4"
                },
                {
                  "0": "Social Entrepreneurship",
                  "1": "ed40e955-f7f1-4441-ab62-335b1e55d96c",
                  "2": "School of Business",
                  "3": "4e4f13c7-a451-40e5-b895-8ef19dad934c",
                  "4": "College",
                  "5": "Theory of Entrepreneuring",
                  "6": "undergraduate: year 3"
                },
                {
                  "0": "Entrepreneurship",
                  "1": "1f358c44-a62a-4a40-94e9-d90f16bb21c0",
                  "2": "School of Business",
                  "3": "4e4f13c7-a451-40e5-b895-8ef19dad934c",
                  "4": "College",
                  "5": "Theory of Entrepreneuring",
                  "6": "undergraduate: year 2"
                },
                {
                  "0": "Organizational Behavior",
                  "1": "b2a704a8-2925-4415-8e13-67291e2bf121",
                  "2": "School of Business",
                  "3": "4e4f13c7-a451-40e5-b895-8ef19dad934c",
                  "4": "College",
                  "5": "Communication & Behavior",
                  "6": "undergraduate: year 1"
                },
                {
                  "0": "Principles of Sustainable Business",
                  "1": "b46492c3-15a1-412c-8a6e-9ef10bb2ae92",
                  "2": "School of Business",
                  "3": "4e4f13c7-a451-40e5-b895-8ef19dad934c",
                  "4": "College",
                  "5": "Theory of Business",
                  "6": "undergraduate: year 3"
                },
                {
                  "0": "Employee Training and Development",
                  "1": "8108fc38-179c-4547-9c32-b707ac587109",
                  "2": "School of Business",
                  "3": "4e4f13c7-a451-40e5-b895-8ef19dad934c",
                  "4": "College",
                  "5": "Applied Management",
                  "6": "undergraduate: year 4"
                },
                {
                  "0": "Business Communication",
                  "1": "d9b941ef-87ac-478a-bb7d-9e3ee5e4c1d8",
                  "2": "School of Business",
                  "3": "4e4f13c7-a451-40e5-b895-8ef19dad934c",
                  "4": "College",
                  "5": "Communication & Behavior",
                  "6": "undergraduate: year 1"
                }
              ],
              "schema": [
                {
                  "key": "0",
                  "name": "CourseName",
                  "type": "string"
                },
                {
                  "key": "1",
                  "name": "CourseID",
                  "type": "string"
                },
                {
                  "key": "2",
                  "name": "SchoolName",
                  "type": "string"
                },
                {
                  "key": "3",
                  "name": "SchoolID",
                  "type": "string"
                },
                {
                  "key": "4",
                  "name": "SchoolType",
                  "type": "string"
                },
                {
                  "key": "5",
                  "name": "CourseSubject",
                  "type": "string"
                },
                {
                  "key": "6",
                  "name": "CourseGradeLevel",
                  "type": "string"
                }
              ],
              "truncated": false
            },
            "isSummary": false,
            "language": "scala"
          },
          "persist_state": {
            "view": {
              "type": "details",
              "tableOptions": {},
              "chartOptions": {
                "chartType": "bar",
                "aggregationType": "count",
                "categoryFieldKeys": [
                  "0"
                ],
                "seriesFieldKeys": [
                  "0"
                ],
                "isStacked": false
              }
            }
          }
        },
        "3822423c-8062-4ffd-99cf-535365aa8fba": {
          "type": "Synapse.DataFrame",
          "sync_state": {
            "table": {
              "rows": [
                {
                  "0": "Intro to Blacksmithing 276",
                  "1": "6bfcde1b-b349-42fe-902a-f9f966b8083a",
                  "2": "Intro to Blacksmithing",
                  "3": "42d37d2d-cb7d-4de4-8741-6f5390a766b9",
                  "4": "School of Fine Arts",
                  "5": "18f9b660-7cb8-4ea9-aa24-a3ce9a167c83",
                  "6": "College",
                  "7": "Sculpture Art",
                  "8": "undergraduate: year 2"
                },
                {
                  "0": "Intro to Blacksmithing 230",
                  "1": "749a0081-b69d-47aa-a311-674a41c7ac81",
                  "2": "Intro to Blacksmithing",
                  "3": "42d37d2d-cb7d-4de4-8741-6f5390a766b9",
                  "4": "School of Fine Arts",
                  "5": "18f9b660-7cb8-4ea9-aa24-a3ce9a167c83",
                  "6": "College",
                  "7": "Sculpture Art",
                  "8": "undergraduate: year 2"
                },
                {
                  "0": "Documentary Strategies 274",
                  "1": "b95aaf87-6f92-479d-ab78-e09bf01a8443",
                  "2": "Documentary Strategies",
                  "3": "ccee0819-cbda-4a56-935f-e48538619125",
                  "4": "School of Fine Arts",
                  "5": "18f9b660-7cb8-4ea9-aa24-a3ce9a167c83",
                  "6": "College",
                  "7": "Performance Art",
                  "8": "graduate: year 1"
                },
                {
                  "0": "Documentary Strategies 228",
                  "1": "a707d7b6-f0b6-4b4b-bd94-7e0ac7aebc6c",
                  "2": "Documentary Strategies",
                  "3": "ccee0819-cbda-4a56-935f-e48538619125",
                  "4": "School of Fine Arts",
                  "5": "18f9b660-7cb8-4ea9-aa24-a3ce9a167c83",
                  "6": "College",
                  "7": "Performance Art",
                  "8": "graduate: year 1"
                },
                {
                  "0": "Ceramics 191",
                  "1": "c2a002a0-e950-4697-85b2-1b1fe2d059f5",
                  "2": "Ceramics",
                  "3": "45e6032e-f232-4807-937a-c398a3f9ef71",
                  "4": "School of Fine Arts",
                  "5": "18f9b660-7cb8-4ea9-aa24-a3ce9a167c83",
                  "6": "College",
                  "7": "Sculpture Art",
                  "8": "undergraduate: year 3"
                },
                {
                  "0": "Ceramics 168",
                  "1": "d7961ecb-b77c-4a8d-918b-1d99b7858700",
                  "2": "Ceramics",
                  "3": "45e6032e-f232-4807-937a-c398a3f9ef71",
                  "4": "School of Fine Arts",
                  "5": "18f9b660-7cb8-4ea9-aa24-a3ce9a167c83",
                  "6": "College",
                  "7": "Sculpture Art",
                  "8": "undergraduate: year 3"
                },
                {
                  "0": "Methods in Art Education 110",
                  "1": "ba3f90d6-122d-4202-8376-e5a3900cafd9",
                  "2": "Methods in Art Education",
                  "3": "9abd8376-4634-4ef9-8f5b-8dff17e42ebe",
                  "4": "School of Fine Arts",
                  "5": "18f9b660-7cb8-4ea9-aa24-a3ce9a167c83",
                  "6": "College",
                  "7": "Theory of Art Education",
                  "8": "undergraduate: year 4"
                },
                {
                  "0": "Intro to Sculpture 100",
                  "1": "cdbe9746-fe54-4e13-bf25-2b4c5bb784df",
                  "2": "Intro to Sculpture",
                  "3": "05e6caba-a8f7-4dfa-b3bb-0e33204c7316",
                  "4": "School of Fine Arts",
                  "5": "18f9b660-7cb8-4ea9-aa24-a3ce9a167c83",
                  "6": "College",
                  "7": "Sculpture Art",
                  "8": "undergraduate: year 2"
                },
                {
                  "0": "Intro to Sculpture 237",
                  "1": "af59194d-dc25-4b2a-a62c-55265b20a69d",
                  "2": "Intro to Sculpture",
                  "3": "05e6caba-a8f7-4dfa-b3bb-0e33204c7316",
                  "4": "School of Fine Arts",
                  "5": "18f9b660-7cb8-4ea9-aa24-a3ce9a167c83",
                  "6": "College",
                  "7": "Sculpture Art",
                  "8": "undergraduate: year 2"
                },
                {
                  "0": "Painting Media 224",
                  "1": "78da929a-293a-46af-a5b3-4ef5710d664c",
                  "2": "Painting Media",
                  "3": "7da992d2-609c-42e5-84a5-6e7dd020c950",
                  "4": "School of Fine Arts",
                  "5": "18f9b660-7cb8-4ea9-aa24-a3ce9a167c83",
                  "6": "College",
                  "7": "Visual Art",
                  "8": "undergraduate: year 2"
                }
              ],
              "schema": [
                {
                  "key": "0",
                  "name": "SectionName",
                  "type": "string"
                },
                {
                  "key": "1",
                  "name": "SectionID",
                  "type": "string"
                },
                {
                  "key": "2",
                  "name": "CourseName",
                  "type": "string"
                },
                {
                  "key": "3",
                  "name": "CourseID",
                  "type": "string"
                },
                {
                  "key": "4",
                  "name": "SchoolName",
                  "type": "string"
                },
                {
                  "key": "5",
                  "name": "SchoolID",
                  "type": "string"
                },
                {
                  "key": "6",
                  "name": "SchoolType",
                  "type": "string"
                },
                {
                  "key": "7",
                  "name": "SectionSubject",
                  "type": "string"
                },
                {
                  "key": "8",
                  "name": "SectionGradeLevel",
                  "type": "string"
                }
              ],
              "truncated": false
            },
            "isSummary": false,
            "language": "scala"
          },
          "persist_state": {
            "view": {
              "type": "details",
              "tableOptions": {},
              "chartOptions": {
                "chartType": "bar",
                "aggregationType": "count",
                "categoryFieldKeys": [
                  "0"
                ],
                "seriesFieldKeys": [
                  "0"
                ],
                "isStacked": false
              }
            }
          }
        },
        "2e54c3bf-c4bc-480f-bde2-b3944c50e28f": {
          "type": "Synapse.DataFrame",
          "sync_state": {
            "table": {
              "rows": [
                {
                  "0": "Thomas Henderson",
                  "1": "3e8bfa36-76b7-449e-94ad-fba857de341d",
                  "2": "Organic Chemistry 200",
                  "3": "dabf2cfa-6307-4c70-ba00-aa9839266148",
                  "4": "Organic Chemistry",
                  "5": "e598c170-324a-4696-bbf6-723158167eb8",
                  "6": "undergraduate: year 3",
                  "7": "School of Science and Health",
                  "8": "5a970b70-b2e5-4405-804b-49495d7eaee0"
                },
                {
                  "0": "Thomas Henderson",
                  "1": "3e8bfa36-76b7-449e-94ad-fba857de341d",
                  "2": "Metaphysics and Epistemology 123",
                  "3": "af5044e3-bf8c-417b-93ba-60d0213ce440",
                  "4": "Metaphysics and Epistemology",
                  "5": "4411147b-d812-45bd-8ade-e2eeacbab5b6",
                  "6": "graduate: year 1",
                  "7": "School of Science and Health",
                  "8": "5a970b70-b2e5-4405-804b-49495d7eaee0"
                },
                {
                  "0": "Thomas Henderson",
                  "1": "3e8bfa36-76b7-449e-94ad-fba857de341d",
                  "2": "Neurobiology 292",
                  "3": "6fc9d789-0fde-4ad7-8f2f-0cd9fbef894d",
                  "4": "Neurobiology",
                  "5": "389449fa-6f0c-42c8-9778-8785c72afc29",
                  "6": "graduate: year 1",
                  "7": "School of Science and Health",
                  "8": "5a970b70-b2e5-4405-804b-49495d7eaee0"
                },
                {
                  "0": "Thomas Henderson",
                  "1": "3e8bfa36-76b7-449e-94ad-fba857de341d",
                  "2": "Logic 107",
                  "3": "ea0e62a0-cf72-4e67-ba6e-466159c91a4a",
                  "4": "Logic",
                  "5": "97fb3217-12d0-41fd-a939-a43a7bef5bad",
                  "6": "undergraduate: year 1",
                  "7": "School of Science and Health",
                  "8": "5a970b70-b2e5-4405-804b-49495d7eaee0"
                },
                {
                  "0": "Thomas Henderson",
                  "1": "3e8bfa36-76b7-449e-94ad-fba857de341d",
                  "2": "General Relativity 244",
                  "3": "c7f94ff2-a0e5-4252-be60-381741d0fc45",
                  "4": "General Relativity",
                  "5": "9476581f-c8de-4a31-b022-5887dba33a61",
                  "6": "graduate: year 1",
                  "7": "School of Science and Health",
                  "8": "5a970b70-b2e5-4405-804b-49495d7eaee0"
                },
                {
                  "0": "Jocelyn Valdez",
                  "1": "62f2a039-a5d9-46f5-8088-1df0841656e4",
                  "2": "General Relativity 244",
                  "3": "c7f94ff2-a0e5-4252-be60-381741d0fc45",
                  "4": "General Relativity",
                  "5": "9476581f-c8de-4a31-b022-5887dba33a61",
                  "6": "graduate: year 1",
                  "7": "School of Science and Health",
                  "8": "5a970b70-b2e5-4405-804b-49495d7eaee0"
                },
                {
                  "0": "Jocelyn Valdez",
                  "1": "62f2a039-a5d9-46f5-8088-1df0841656e4",
                  "2": "Analytical Chemistry 194",
                  "3": "0582e424-8441-41bb-9465-dcbc2bbc79c1",
                  "4": "Analytical Chemistry",
                  "5": "b33bd0cc-e251-4016-8cbe-74669ff318db",
                  "6": "undergraduate: year 3",
                  "7": "School of Science and Health",
                  "8": "5a970b70-b2e5-4405-804b-49495d7eaee0"
                },
                {
                  "0": "Jocelyn Valdez",
                  "1": "62f2a039-a5d9-46f5-8088-1df0841656e4",
                  "2": "Anatomy and Physiology 147",
                  "3": "f5360425-7f75-42b0-8438-4cf6b86e3931",
                  "4": "Anatomy and Physiology",
                  "5": "31ddaf9b-3d2e-450f-be14-32949683f371",
                  "6": "undergraduate: year 2",
                  "7": "School of Science and Health",
                  "8": "5a970b70-b2e5-4405-804b-49495d7eaee0"
                },
                {
                  "0": "Jocelyn Valdez",
                  "1": "62f2a039-a5d9-46f5-8088-1df0841656e4",
                  "2": "Intro to Physics 136",
                  "3": "f0d693d7-2733-406b-b8e8-e40da3e26a44",
                  "4": "Intro to Physics",
                  "5": "4f8ea126-a768-4021-b4a0-f72386c29093",
                  "6": "undergraduate: year 1",
                  "7": "School of Science and Health",
                  "8": "5a970b70-b2e5-4405-804b-49495d7eaee0"
                },
                {
                  "0": "Jocelyn Valdez",
                  "1": "62f2a039-a5d9-46f5-8088-1df0841656e4",
                  "2": "Organic Chemistry 200",
                  "3": "dabf2cfa-6307-4c70-ba00-aa9839266148",
                  "4": "Organic Chemistry",
                  "5": "e598c170-324a-4696-bbf6-723158167eb8",
                  "6": "undergraduate: year 3",
                  "7": "School of Science and Health",
                  "8": "5a970b70-b2e5-4405-804b-49495d7eaee0"
                }
              ],
              "schema": [
                {
                  "key": "0",
                  "name": "StudentName",
                  "type": "string"
                },
                {
                  "key": "1",
                  "name": "StudentID",
                  "type": "string"
                },
                {
                  "key": "2",
                  "name": "SectionName",
                  "type": "string"
                },
                {
                  "key": "3",
                  "name": "SectionID",
                  "type": "string"
                },
                {
                  "key": "4",
                  "name": "CourseName",
                  "type": "string"
                },
                {
                  "key": "5",
                  "name": "CourseID",
                  "type": "string"
                },
                {
                  "key": "6",
                  "name": "CourseGradeLevel",
                  "type": "string"
                },
                {
                  "key": "7",
                  "name": "SchoolName",
                  "type": "string"
                },
                {
                  "key": "8",
                  "name": "SchoolID",
                  "type": "string"
                }
              ],
              "truncated": false
            },
            "isSummary": false,
            "language": "scala"
          },
          "persist_state": {
            "view": {
              "type": "details",
              "tableOptions": {},
              "chartOptions": {
                "chartType": "bar",
                "aggregationType": "count",
                "categoryFieldKeys": [
                  "0"
                ],
                "seriesFieldKeys": [
                  "0"
                ],
                "isStacked": false
              }
            }
          }
        }
      }
    }
  },
  "nbformat": 4,
  "nbformat_minor": 2
}